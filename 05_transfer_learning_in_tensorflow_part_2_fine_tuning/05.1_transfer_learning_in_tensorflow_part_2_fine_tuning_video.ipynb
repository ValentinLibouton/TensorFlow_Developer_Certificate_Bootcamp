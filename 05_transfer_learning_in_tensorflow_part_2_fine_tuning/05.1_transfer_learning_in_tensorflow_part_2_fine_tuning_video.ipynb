{
 "cells": [
  {
   "cell_type": "markdown",
   "source": [
    "# Transfer Learning with TensorFlow Part 2: Fine-tuning\n",
    "\n",
    "In the previous notebook, we covered transfer learning feature extraction, now it's time to learn about a new kind of transfer learning: fine-tuning."
   ],
   "metadata": {
    "collapsed": false
   },
   "id": "114e5636780f503f"
  },
  {
   "cell_type": "markdown",
   "source": [
    "Video N°155: Importing a script full of helper functions (and saving lots of space)"
   ],
   "metadata": {
    "collapsed": false
   },
   "id": "d7125a7a828b8bdc"
  },
  {
   "cell_type": "markdown",
   "source": [
    "## Creating helper functions\n",
    "\n",
    "In previous notebooks, we 've created a bunch of helper functions, now we could rewrite them all, however, this is tedious.\n",
    "\n",
    "So, it's a good idea to put functions you'll want to use again in a script you can download and import into your notebooks (or elsewhere).\n",
    "\n",
    "We've done this for some of the functions we've used previously here:\n",
    "\n",
    "```python\n",
    "!wget https://raw.githubusercontent.com/mrdbourke/tensorflow-deep-learning/main/extras/helper_functions.py\n",
    "```\n",
    "> 🔑 **Note:** If you're running this notebook in Google Colab, when it times out Colab will delete `helper_function.py`, so you'll have to redownload it if you want access to your helper functions."
   ],
   "metadata": {
    "collapsed": false
   },
   "id": "81c99a83815ad406"
  },
  {
   "cell_type": "code",
   "outputs": [
    {
     "name": "stderr",
     "output_type": "stream",
     "text": [
      "2024-03-30 18:08:26.108906: I tensorflow/core/platform/cpu_feature_guard.cc:193] This TensorFlow binary is optimized with oneAPI Deep Neural Network Library (oneDNN) to use the following CPU instructions in performance-critical operations:  SSE4.1 SSE4.2 AVX AVX2 FMA\n",
      "To enable them in other operations, rebuild TensorFlow with the appropriate compiler flags.\n"
     ]
    }
   ],
   "source": [
    "# Import helper functions we're going to use in this notebook\n",
    "from MachineLearningUtils.training_utilities.model_callbacks import create_tensorboard_callback\n",
    "from MachineLearningUtils.data_visualization.model_learning_curves import plot_loss_curves\n",
    "from MachineLearningUtils.data_visualization.image_visualization import walk_through_dir\n",
    "from MachineLearningUtils.data_acquisition.data_downloader import extract_archive_file"
   ],
   "metadata": {
    "collapsed": true,
    "ExecuteTime": {
     "end_time": "2024-03-30T17:08:28.262916153Z",
     "start_time": "2024-03-30T17:08:26.087280013Z"
    }
   },
   "id": "initial_id",
   "execution_count": 1
  },
  {
   "cell_type": "markdown",
   "source": [
    "Video N°156: Downloading and turning our images into a TensorFlow BatchDataset"
   ],
   "metadata": {
    "collapsed": false
   },
   "id": "64a82f6348f4431f"
  },
  {
   "cell_type": "code",
   "outputs": [],
   "source": [],
   "metadata": {
    "collapsed": false
   },
   "id": "1df5ca036a49ea0"
  }
 ],
 "metadata": {
  "kernelspec": {
   "display_name": "Python 3",
   "language": "python",
   "name": "python3"
  },
  "language_info": {
   "codemirror_mode": {
    "name": "ipython",
    "version": 2
   },
   "file_extension": ".py",
   "mimetype": "text/x-python",
   "name": "python",
   "nbconvert_exporter": "python",
   "pygments_lexer": "ipython2",
   "version": "2.7.6"
  }
 },
 "nbformat": 4,
 "nbformat_minor": 5
}
