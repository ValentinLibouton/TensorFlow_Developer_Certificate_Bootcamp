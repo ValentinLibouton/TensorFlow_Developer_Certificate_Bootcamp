{
 "nbformat": 4,
 "nbformat_minor": 0,
 "metadata": {
  "colab": {
   "provenance": []
  },
  "kernelspec": {
   "name": "python3",
   "language": "python",
   "display_name": "Python 3 (ipykernel)"
  },
  "language_info": {
   "name": "python"
  }
 },
 "cells": [
  {
   "cell_type": "markdown",
   "source": [
    "# Introduction to Convolutional Neural Networks and Computer Vision with\n",
    "\n",
    "Computer vision is the practice of writing algorithms which can discover patterns in visual data. Such as the camera of a self-driving car recognizing the car in front."
   ],
   "metadata": {
    "id": "WCYQOR9K_04w"
   }
  },
  {
   "cell_type": "markdown",
   "source": [
    "Video N°107: Downloading an image dataset for our first Food Vision model"
   ],
   "metadata": {
    "collapsed": false
   }
  },
  {
   "cell_type": "markdown",
   "source": [
    "## Get the data\n",
    "\n",
    "The images we're working with are from the Food101 dataset (101 different classes of food): https://www.kaggle.com/dansbecker/food-101\n",
    "\n",
    "However we've modified it to only use two classes (pizza 🍕 & steak 🥩) using the image data modification notebook: https://github.com/mrdbourke/tensorflow-deep-learning/blob/main/extras/image_data_modification.ipynb\n",
    "\n",
    "> 🔑 **Note:** We start with a smaller dataset so we can experiment quickly and figure what works (or better yet what doesn't work) before scaling up."
   ],
   "metadata": {
    "id": "lM6rXCioApOF"
   }
  },
  {
   "cell_type": "code",
   "source": [
    "import zipfile\n",
    "\n",
    "!wget https://storage.googleapis.com/ztm_tf_course/food_vision/pizza_steak.zip\n",
    "\n",
    "# Unzip the downloaded file\n",
    "zip_ref = zipfile.ZipFile('pizza_steak.zip')\n",
    "zip_ref.extractall()\n",
    "zip_ref.close()"
   ],
   "metadata": {
    "id": "RzfnC8SnAo4f",
    "ExecuteTime": {
     "end_time": "2024-03-13T18:21:06.763829009Z",
     "start_time": "2024-03-13T18:20:54.393119891Z"
    }
   },
   "execution_count": 2,
   "outputs": [
    {
     "name": "stdout",
     "output_type": "stream",
     "text": [
      "/bin/bash: warning: setlocale: LC_ALL: cannot change locale (en_US.UTF-8)\r\n",
      "--2024-03-13 19:20:54--  https://storage.googleapis.com/ztm_tf_course/food_vision/pizza_steak.zip\r\n",
      "Resolving storage.googleapis.com (storage.googleapis.com)... 142.251.36.27, 142.251.36.59, 142.251.39.123, ...\r\n",
      "Connecting to storage.googleapis.com (storage.googleapis.com)|142.251.36.27|:443... connected.\r\n",
      "HTTP request sent, awaiting response... 200 OK\r\n",
      "Length: 109540975 (104M) [application/zip]\r\n",
      "Saving to: 'pizza_steak.zip'\r\n",
      "\r\n",
      "pizza_steak.zip     100%[===================>] 104.47M  9.80MB/s    in 11s     \r\n",
      "\r\n",
      "2024-03-13 19:21:05 (9.50 MB/s) - 'pizza_steak.zip' saved [109540975/109540975]\r\n",
      "\r\n"
     ]
    }
   ]
  },
  {
   "cell_type": "markdown",
   "source": [
    "Video N°108: Becoming One With Data"
   ],
   "metadata": {
    "collapsed": false
   }
  },
  {
   "cell_type": "code",
   "outputs": [],
   "source": [],
   "metadata": {
    "collapsed": false
   }
  }
 ]
}
