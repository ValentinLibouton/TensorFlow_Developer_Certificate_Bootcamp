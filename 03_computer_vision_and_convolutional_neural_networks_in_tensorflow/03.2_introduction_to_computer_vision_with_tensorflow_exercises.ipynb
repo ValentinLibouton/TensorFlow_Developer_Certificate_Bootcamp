{
 "cells": [
  {
   "cell_type": "markdown",
   "source": [
    "🛠 03. Computer vision & convolutional neural networks in TensorFlow Exercises"
   ],
   "metadata": {
    "collapsed": false
   },
   "id": "bcd892e11c79de6d"
  },
  {
   "cell_type": "markdown",
   "source": [
    "1. Spend 20-minutes reading and interacting with the CNN explainer website.\n",
    "* What are the key terms? e.g. explain convolution in your own words, pooling in your own words"
   ],
   "metadata": {
    "collapsed": false
   },
   "id": "76daa1f681cc9dee"
  },
  {
   "cell_type": "code",
   "outputs": [],
   "source": [],
   "metadata": {
    "collapsed": true
   },
   "id": "initial_id",
   "execution_count": 0
  }
 ],
 "metadata": {
  "kernelspec": {
   "display_name": "Python 3",
   "language": "python",
   "name": "python3"
  },
  "language_info": {
   "codemirror_mode": {
    "name": "ipython",
    "version": 2
   },
   "file_extension": ".py",
   "mimetype": "text/x-python",
   "name": "python",
   "nbconvert_exporter": "python",
   "pygments_lexer": "ipython2",
   "version": "2.7.6"
  }
 },
 "nbformat": 4,
 "nbformat_minor": 5
}
