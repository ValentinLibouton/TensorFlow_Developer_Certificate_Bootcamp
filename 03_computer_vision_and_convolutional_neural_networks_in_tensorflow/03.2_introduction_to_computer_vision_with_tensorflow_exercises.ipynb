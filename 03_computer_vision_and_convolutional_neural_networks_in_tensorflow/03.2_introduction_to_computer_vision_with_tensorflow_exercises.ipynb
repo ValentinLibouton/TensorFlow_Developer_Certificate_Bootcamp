{
 "cells": [
  {
   "cell_type": "markdown",
   "source": [
    "# 🛠 03. Computer vision & convolutional neural networks in TensorFlow Exercises"
   ],
   "metadata": {
    "collapsed": false
   },
   "id": "bcd892e11c79de6d"
  },
  {
   "cell_type": "markdown",
   "source": [
    "## 1. Spend 20-minutes reading and interacting with the CNN explainer website.\n",
    "* What are the key terms? e.g. explain convolution in your own words, pooling in your own words"
   ],
   "metadata": {
    "collapsed": false
   },
   "id": "76daa1f681cc9dee"
  },
  {
   "cell_type": "markdown",
   "source": [
    "* Convolution, in the context of neural networks, involves sliding a filter (or kernel) over input data (like an image) to produce a transformed output that emphasizes certain features, such as edges. It's like shining a flashlight over different parts of the image to highlight specific details.\n",
    "* Pooling, often following convolution, reduces the dimensionality of the input data by combining the outputs of neuron clusters at one layer into a single neuron in the next layer. It's like summarizing a detailed map by region to make it easier to grasp the overall layout."
   ],
   "metadata": {
    "collapsed": false
   },
   "id": "3259e71ebef2bdf8"
  },
  {
   "cell_type": "markdown",
   "source": [
    "## 2. Play around with the \"understanding hyperparameters\" section in the CNN explainer website for 10-minutes.\n",
    "    * What is the kernel size?\n",
    "    * What is the stride?\n",
    "    * How could you adjust each of these in TensorFlow code?\n"
   ],
   "metadata": {
    "collapsed": false
   },
   "id": "721d21147fb407b8"
  },
  {
   "cell_type": "markdown",
   "source": [
    "* The kernel size in a convolutional neural network (CNN) refers to the dimensions of the filter used in the convolution operation, affecting how many input values the filter covers at each step.\n",
    "* The stride determines the number of pixels the filter moves across the input after each operation, influencing the output size.\n",
    "\n",
    "* In tf.keras.layers.Conv2D function"
   ],
   "metadata": {
    "collapsed": false
   },
   "id": "66a593a0d7b9b946"
  },
  {
   "cell_type": "markdown",
   "source": [
    "## 3. Take 10 photos of two different things and build your own CNN image classifier using the techniques we've built here."
   ],
   "metadata": {
    "collapsed": false
   },
   "id": "fdb5e2a7a452e18a"
  },
  {
   "cell_type": "code",
   "outputs": [],
   "source": [
    "# ToDo!"
   ],
   "metadata": {
    "collapsed": true,
    "ExecuteTime": {
     "end_time": "2024-03-21T10:14:25.880905372Z",
     "start_time": "2024-03-21T10:14:25.876943414Z"
    }
   },
   "id": "initial_id",
   "execution_count": 1
  },
  {
   "cell_type": "markdown",
   "source": [
    "## 4. Find an ideal learning rate for a simple convolutional neural network model on your the 10 class dataset."
   ],
   "metadata": {
    "collapsed": false
   },
   "id": "6c1e68ba1d7e5731"
  },
  {
   "cell_type": "code",
   "outputs": [],
   "source": [
    "# ToDo!"
   ],
   "metadata": {
    "collapsed": false,
    "ExecuteTime": {
     "end_time": "2024-03-21T10:15:03.036732325Z",
     "start_time": "2024-03-21T10:15:02.995865712Z"
    }
   },
   "id": "20fd02fa12900ae0",
   "execution_count": 2
  }
 ],
 "metadata": {
  "kernelspec": {
   "display_name": "Python 3",
   "language": "python",
   "name": "python3"
  },
  "language_info": {
   "codemirror_mode": {
    "name": "ipython",
    "version": 2
   },
   "file_extension": ".py",
   "mimetype": "text/x-python",
   "name": "python",
   "nbconvert_exporter": "python",
   "pygments_lexer": "ipython2",
   "version": "2.7.6"
  }
 },
 "nbformat": 4,
 "nbformat_minor": 5
}
