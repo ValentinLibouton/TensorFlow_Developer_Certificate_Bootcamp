{
 "cells": [
  {
   "cell_type": "markdown",
   "source": [
    "# Introduction to NLP Fundamentals in TensorFlow\n",
    "\n",
    "NLP has the goal of deriving informaton out of natural language (could be seqeuences text or speech).\n",
    "\n",
    "Another common term for NLP problems is sequence to sequence problems (seq2seq).\n",
    "\n",
    "> 📖 **Resource:** See all course materials, resources and extra-curriculum for this notebook on GitHub: https://github.com/mrdbourke/tensorflow-deep-learning/"
   ],
   "metadata": {
    "collapsed": false
   },
   "id": "2adb6a2a9bb4b34"
  },
  {
   "cell_type": "markdown",
   "source": [
    "Video N° 225: Preparing a notebook for our first NLP with TensorFlow project"
   ],
   "metadata": {
    "collapsed": false
   },
   "id": "390bc707ee30ca18"
  },
  {
   "cell_type": "markdown",
   "source": [
    "## Check for GPU"
   ],
   "metadata": {
    "collapsed": false
   },
   "id": "a01528384bc7a913"
  },
  {
   "cell_type": "code",
   "execution_count": 1,
   "id": "initial_id",
   "metadata": {
    "collapsed": true,
    "ExecuteTime": {
     "end_time": "2024-04-25T05:18:33.691740562Z",
     "start_time": "2024-04-25T05:18:29.981622729Z"
    }
   },
   "outputs": [
    {
     "name": "stderr",
     "output_type": "stream",
     "text": [
      "2024-04-25 07:18:30.625779: E external/local_xla/xla/stream_executor/cuda/cuda_dnn.cc:9261] Unable to register cuDNN factory: Attempting to register factory for plugin cuDNN when one has already been registered\n",
      "2024-04-25 07:18:30.625816: E external/local_xla/xla/stream_executor/cuda/cuda_fft.cc:607] Unable to register cuFFT factory: Attempting to register factory for plugin cuFFT when one has already been registered\n",
      "2024-04-25 07:18:30.650590: E external/local_xla/xla/stream_executor/cuda/cuda_blas.cc:1515] Unable to register cuBLAS factory: Attempting to register factory for plugin cuBLAS when one has already been registered\n",
      "2024-04-25 07:18:30.709469: I tensorflow/core/platform/cpu_feature_guard.cc:182] This TensorFlow binary is optimized to use available CPU instructions in performance-critical operations.\n",
      "To enable the following instructions: SSE4.1 SSE4.2 AVX AVX2 FMA, in other operations, rebuild TensorFlow with the appropriate compiler flags.\n"
     ]
    },
    {
     "name": "stdout",
     "output_type": "stream",
     "text": [
      "1 Physical GPUs, 1 Logical GPU\n"
     ]
    },
    {
     "name": "stderr",
     "output_type": "stream",
     "text": [
      "2024-04-25 07:18:33.338713: I external/local_xla/xla/stream_executor/cuda/cuda_executor.cc:901] successful NUMA node read from SysFS had negative value (-1), but there must be at least one NUMA node, so returning NUMA node zero. See more at https://github.com/torvalds/linux/blob/v6.0/Documentation/ABI/testing/sysfs-bus-pci#L344-L355\n",
      "2024-04-25 07:18:33.553577: I external/local_xla/xla/stream_executor/cuda/cuda_executor.cc:901] successful NUMA node read from SysFS had negative value (-1), but there must be at least one NUMA node, so returning NUMA node zero. See more at https://github.com/torvalds/linux/blob/v6.0/Documentation/ABI/testing/sysfs-bus-pci#L344-L355\n",
      "2024-04-25 07:18:33.553772: I external/local_xla/xla/stream_executor/cuda/cuda_executor.cc:901] successful NUMA node read from SysFS had negative value (-1), but there must be at least one NUMA node, so returning NUMA node zero. See more at https://github.com/torvalds/linux/blob/v6.0/Documentation/ABI/testing/sysfs-bus-pci#L344-L355\n",
      "2024-04-25 07:18:33.556926: I external/local_xla/xla/stream_executor/cuda/cuda_executor.cc:901] successful NUMA node read from SysFS had negative value (-1), but there must be at least one NUMA node, so returning NUMA node zero. See more at https://github.com/torvalds/linux/blob/v6.0/Documentation/ABI/testing/sysfs-bus-pci#L344-L355\n",
      "2024-04-25 07:18:33.557095: I external/local_xla/xla/stream_executor/cuda/cuda_executor.cc:901] successful NUMA node read from SysFS had negative value (-1), but there must be at least one NUMA node, so returning NUMA node zero. See more at https://github.com/torvalds/linux/blob/v6.0/Documentation/ABI/testing/sysfs-bus-pci#L344-L355\n",
      "2024-04-25 07:18:33.557232: I external/local_xla/xla/stream_executor/cuda/cuda_executor.cc:901] successful NUMA node read from SysFS had negative value (-1), but there must be at least one NUMA node, so returning NUMA node zero. See more at https://github.com/torvalds/linux/blob/v6.0/Documentation/ABI/testing/sysfs-bus-pci#L344-L355\n",
      "2024-04-25 07:18:33.626041: I external/local_xla/xla/stream_executor/cuda/cuda_executor.cc:901] successful NUMA node read from SysFS had negative value (-1), but there must be at least one NUMA node, so returning NUMA node zero. See more at https://github.com/torvalds/linux/blob/v6.0/Documentation/ABI/testing/sysfs-bus-pci#L344-L355\n",
      "2024-04-25 07:18:33.626270: I external/local_xla/xla/stream_executor/cuda/cuda_executor.cc:901] successful NUMA node read from SysFS had negative value (-1), but there must be at least one NUMA node, so returning NUMA node zero. See more at https://github.com/torvalds/linux/blob/v6.0/Documentation/ABI/testing/sysfs-bus-pci#L344-L355\n",
      "2024-04-25 07:18:33.626420: I external/local_xla/xla/stream_executor/cuda/cuda_executor.cc:901] successful NUMA node read from SysFS had negative value (-1), but there must be at least one NUMA node, so returning NUMA node zero. See more at https://github.com/torvalds/linux/blob/v6.0/Documentation/ABI/testing/sysfs-bus-pci#L344-L355\n",
      "2024-04-25 07:18:33.626529: I tensorflow/core/common_runtime/gpu/gpu_device.cc:1929] Created device /job:localhost/replica:0/task:0/device:GPU:0 with 5571 MB memory:  -> device: 0, name: NVIDIA GeForce RTX 3050, pci bus id: 0000:09:00.0, compute capability: 8.6\n"
     ]
    }
   ],
   "source": [
    "import numpy as np\n",
    "\n",
    "from MachineLearningUtils.system_setup.gpu import activate_gpu\n",
    "activate_gpu()"
   ]
  },
  {
   "cell_type": "code",
   "outputs": [
    {
     "name": "stdout",
     "output_type": "stream",
     "text": [
      "/bin/bash: warning: setlocale: LC_ALL: cannot change locale (en_US.UTF-8)\r\n",
      "GPU 0: NVIDIA GeForce RTX 3050 (UUID: GPU-ee6cd8ff-34bf-dc58-2edb-4f5120aaec55)\r\n"
     ]
    }
   ],
   "source": [
    "!nvidia-smi -L"
   ],
   "metadata": {
    "collapsed": false,
    "ExecuteTime": {
     "end_time": "2024-04-25T05:18:33.881130190Z",
     "start_time": "2024-04-25T05:18:33.675958526Z"
    }
   },
   "id": "a5ad2b6c1c11f0ae",
   "execution_count": 2
  },
  {
   "cell_type": "markdown",
   "source": [
    "## Get helper functions"
   ],
   "metadata": {
    "collapsed": false
   },
   "id": "4edd1e8a30d0ca46"
  },
  {
   "cell_type": "code",
   "outputs": [],
   "source": [
    "from MachineLearningUtils.data_acquisition.data_downloader import *\n",
    "from MachineLearningUtils.data_visualization.augmentation_effects import *\n",
    "from MachineLearningUtils.data_visualization.evaluation_metrics import *\n",
    "from MachineLearningUtils.data_visualization.image_visualization import *\n",
    "from MachineLearningUtils.data_visualization.model_learning_curves import *\n",
    "from MachineLearningUtils.data_visualization.prediction_visualization import *\n",
    "from MachineLearningUtils.training_utilities.model_callbacks import *\n",
    "from MachineLearningUtils.training_utilities.transfer_learning import *"
   ],
   "metadata": {
    "collapsed": false,
    "ExecuteTime": {
     "end_time": "2024-04-25T05:18:34.901679790Z",
     "start_time": "2024-04-25T05:18:33.885807060Z"
    }
   },
   "id": "69b26c93cd437432",
   "execution_count": 3
  },
  {
   "cell_type": "markdown",
   "source": [
    "## Get a text dataset\n",
    "\n",
    "The dataset we're going to be using is Kaggle's introduction to NLP dataset (text samples of Tweets labelled as diaster or not diaster).\n",
    "\n",
    "See the original source here: https://www.kaggle.com/c/nlp-getting-started"
   ],
   "metadata": {
    "collapsed": false
   },
   "id": "7f35c76937f69485"
  },
  {
   "cell_type": "code",
   "outputs": [
    {
     "name": "stdout",
     "output_type": "stream",
     "text": [
      "The file nlp_getting_started.zip already exists.\n",
      "Extracting nlp_getting_started.zip as ZIP...\n",
      "nlp_getting_started.zip has been extracted to current directory.\n"
     ]
    }
   ],
   "source": [
    "url = \"https://storage.googleapis.com/ztm_tf_course/nlp_getting_started.zip\"\n",
    "download_data(url=url, file_path=\"nlp_getting_started.zip\", extract=True)"
   ],
   "metadata": {
    "collapsed": false,
    "ExecuteTime": {
     "end_time": "2024-04-25T05:18:34.923868155Z",
     "start_time": "2024-04-25T05:18:34.903574546Z"
    }
   },
   "id": "d4fec3deaddbf1f5",
   "execution_count": 4
  },
  {
   "cell_type": "markdown",
   "source": [
    "Video N°226: Becoming one with the data and visualising a text dataset"
   ],
   "metadata": {
    "collapsed": false
   },
   "id": "855c560ea72bcb02"
  },
  {
   "cell_type": "markdown",
   "source": [
    "## Visualizing a text dataset\n",
    "\n",
    "To visualize our text samples, we first have to read them in, one way to do so would be to use Python: https://realpython.com/read-write-files-python/\n",
    "\n",
    "But I prefer to get visual straight away.\n",
    "\n",
    "So another way to do this is to use pandas..."
   ],
   "metadata": {
    "collapsed": false
   },
   "id": "861f76a64f6f7ad8"
  },
  {
   "cell_type": "code",
   "outputs": [
    {
     "data": {
      "text/plain": "   id keyword location                                               text  \\\n0   1     NaN      NaN  Our Deeds are the Reason of this #earthquake M...   \n1   4     NaN      NaN             Forest fire near La Ronge Sask. Canada   \n2   5     NaN      NaN  All residents asked to 'shelter in place' are ...   \n3   6     NaN      NaN  13,000 people receive #wildfires evacuation or...   \n4   7     NaN      NaN  Just got sent this photo from Ruby #Alaska as ...   \n\n   target  \n0       1  \n1       1  \n2       1  \n3       1  \n4       1  ",
      "text/html": "<div>\n<style scoped>\n    .dataframe tbody tr th:only-of-type {\n        vertical-align: middle;\n    }\n\n    .dataframe tbody tr th {\n        vertical-align: top;\n    }\n\n    .dataframe thead th {\n        text-align: right;\n    }\n</style>\n<table border=\"1\" class=\"dataframe\">\n  <thead>\n    <tr style=\"text-align: right;\">\n      <th></th>\n      <th>id</th>\n      <th>keyword</th>\n      <th>location</th>\n      <th>text</th>\n      <th>target</th>\n    </tr>\n  </thead>\n  <tbody>\n    <tr>\n      <th>0</th>\n      <td>1</td>\n      <td>NaN</td>\n      <td>NaN</td>\n      <td>Our Deeds are the Reason of this #earthquake M...</td>\n      <td>1</td>\n    </tr>\n    <tr>\n      <th>1</th>\n      <td>4</td>\n      <td>NaN</td>\n      <td>NaN</td>\n      <td>Forest fire near La Ronge Sask. Canada</td>\n      <td>1</td>\n    </tr>\n    <tr>\n      <th>2</th>\n      <td>5</td>\n      <td>NaN</td>\n      <td>NaN</td>\n      <td>All residents asked to 'shelter in place' are ...</td>\n      <td>1</td>\n    </tr>\n    <tr>\n      <th>3</th>\n      <td>6</td>\n      <td>NaN</td>\n      <td>NaN</td>\n      <td>13,000 people receive #wildfires evacuation or...</td>\n      <td>1</td>\n    </tr>\n    <tr>\n      <th>4</th>\n      <td>7</td>\n      <td>NaN</td>\n      <td>NaN</td>\n      <td>Just got sent this photo from Ruby #Alaska as ...</td>\n      <td>1</td>\n    </tr>\n  </tbody>\n</table>\n</div>"
     },
     "execution_count": 5,
     "metadata": {},
     "output_type": "execute_result"
    }
   ],
   "source": [
    "import pandas as pd\n",
    "train_df = pd.read_csv(\"train.csv\")\n",
    "test_df = pd.read_csv(\"test.csv\")\n",
    "train_df.head()"
   ],
   "metadata": {
    "collapsed": false,
    "ExecuteTime": {
     "end_time": "2024-04-25T05:18:34.999847494Z",
     "start_time": "2024-04-25T05:18:34.924062546Z"
    }
   },
   "id": "e9417892d138aed0",
   "execution_count": 5
  },
  {
   "cell_type": "code",
   "outputs": [
    {
     "data": {
      "text/plain": "        id      keyword               location  \\\n2644  3796  destruction                    NaN   \n2227  3185       deluge                    NaN   \n5448  7769       police                     UK   \n132    191   aftershock                    NaN   \n6845  9810       trauma  Montgomery County, MD   \n\n                                                   text  target  \n2644  So you have a new weapon that can cause un-ima...       1  \n2227  The f$&amp;@ing things I do for #GISHWHES Just...       0  \n5448  DT @georgegalloway: RT @Galloway4Mayor: ÛÏThe...       1  \n132   Aftershock back to school kick off was great. ...       0  \n6845  in response to trauma Children of Addicts deve...       0  ",
      "text/html": "<div>\n<style scoped>\n    .dataframe tbody tr th:only-of-type {\n        vertical-align: middle;\n    }\n\n    .dataframe tbody tr th {\n        vertical-align: top;\n    }\n\n    .dataframe thead th {\n        text-align: right;\n    }\n</style>\n<table border=\"1\" class=\"dataframe\">\n  <thead>\n    <tr style=\"text-align: right;\">\n      <th></th>\n      <th>id</th>\n      <th>keyword</th>\n      <th>location</th>\n      <th>text</th>\n      <th>target</th>\n    </tr>\n  </thead>\n  <tbody>\n    <tr>\n      <th>2644</th>\n      <td>3796</td>\n      <td>destruction</td>\n      <td>NaN</td>\n      <td>So you have a new weapon that can cause un-ima...</td>\n      <td>1</td>\n    </tr>\n    <tr>\n      <th>2227</th>\n      <td>3185</td>\n      <td>deluge</td>\n      <td>NaN</td>\n      <td>The f$&amp;amp;@ing things I do for #GISHWHES Just...</td>\n      <td>0</td>\n    </tr>\n    <tr>\n      <th>5448</th>\n      <td>7769</td>\n      <td>police</td>\n      <td>UK</td>\n      <td>DT @georgegalloway: RT @Galloway4Mayor: ÛÏThe...</td>\n      <td>1</td>\n    </tr>\n    <tr>\n      <th>132</th>\n      <td>191</td>\n      <td>aftershock</td>\n      <td>NaN</td>\n      <td>Aftershock back to school kick off was great. ...</td>\n      <td>0</td>\n    </tr>\n    <tr>\n      <th>6845</th>\n      <td>9810</td>\n      <td>trauma</td>\n      <td>Montgomery County, MD</td>\n      <td>in response to trauma Children of Addicts deve...</td>\n      <td>0</td>\n    </tr>\n  </tbody>\n</table>\n</div>"
     },
     "execution_count": 6,
     "metadata": {},
     "output_type": "execute_result"
    }
   ],
   "source": [
    "# Shuffle training dataframe\n",
    "train_df_shuffled = train_df.sample(frac=1, random_state=42)\n",
    "train_df_shuffled.head()"
   ],
   "metadata": {
    "collapsed": false,
    "ExecuteTime": {
     "end_time": "2024-04-25T05:18:35.017338571Z",
     "start_time": "2024-04-25T05:18:34.968547654Z"
    }
   },
   "id": "18100a531cd6ac08",
   "execution_count": 6
  },
  {
   "cell_type": "code",
   "outputs": [
    {
     "data": {
      "text/plain": "   id keyword location                                               text\n0   0     NaN      NaN                 Just happened a terrible car crash\n1   2     NaN      NaN  Heard about #earthquake is different cities, s...\n2   3     NaN      NaN  there is a forest fire at spot pond, geese are...\n3   9     NaN      NaN           Apocalypse lighting. #Spokane #wildfires\n4  11     NaN      NaN      Typhoon Soudelor kills 28 in China and Taiwan",
      "text/html": "<div>\n<style scoped>\n    .dataframe tbody tr th:only-of-type {\n        vertical-align: middle;\n    }\n\n    .dataframe tbody tr th {\n        vertical-align: top;\n    }\n\n    .dataframe thead th {\n        text-align: right;\n    }\n</style>\n<table border=\"1\" class=\"dataframe\">\n  <thead>\n    <tr style=\"text-align: right;\">\n      <th></th>\n      <th>id</th>\n      <th>keyword</th>\n      <th>location</th>\n      <th>text</th>\n    </tr>\n  </thead>\n  <tbody>\n    <tr>\n      <th>0</th>\n      <td>0</td>\n      <td>NaN</td>\n      <td>NaN</td>\n      <td>Just happened a terrible car crash</td>\n    </tr>\n    <tr>\n      <th>1</th>\n      <td>2</td>\n      <td>NaN</td>\n      <td>NaN</td>\n      <td>Heard about #earthquake is different cities, s...</td>\n    </tr>\n    <tr>\n      <th>2</th>\n      <td>3</td>\n      <td>NaN</td>\n      <td>NaN</td>\n      <td>there is a forest fire at spot pond, geese are...</td>\n    </tr>\n    <tr>\n      <th>3</th>\n      <td>9</td>\n      <td>NaN</td>\n      <td>NaN</td>\n      <td>Apocalypse lighting. #Spokane #wildfires</td>\n    </tr>\n    <tr>\n      <th>4</th>\n      <td>11</td>\n      <td>NaN</td>\n      <td>NaN</td>\n      <td>Typhoon Soudelor kills 28 in China and Taiwan</td>\n    </tr>\n  </tbody>\n</table>\n</div>"
     },
     "execution_count": 7,
     "metadata": {},
     "output_type": "execute_result"
    }
   ],
   "source": [
    "# What does the test dataframe look like?\n",
    "test_df.head()"
   ],
   "metadata": {
    "collapsed": false,
    "ExecuteTime": {
     "end_time": "2024-04-25T05:18:35.089432171Z",
     "start_time": "2024-04-25T05:18:34.976807734Z"
    }
   },
   "id": "de4f346aae86634b",
   "execution_count": 7
  },
  {
   "cell_type": "code",
   "outputs": [
    {
     "data": {
      "text/plain": "target\n0    4342\n1    3271\nName: count, dtype: int64"
     },
     "execution_count": 8,
     "metadata": {},
     "output_type": "execute_result"
    }
   ],
   "source": [
    "# How many examples of each class?\n",
    "train_df_shuffled.target.value_counts()"
   ],
   "metadata": {
    "collapsed": false,
    "ExecuteTime": {
     "end_time": "2024-04-25T05:18:35.103105400Z",
     "start_time": "2024-04-25T05:18:35.020572517Z"
    }
   },
   "id": "61b993987dcfacc7",
   "execution_count": 8
  },
  {
   "cell_type": "code",
   "outputs": [
    {
     "data": {
      "text/plain": "(7613, 3263)"
     },
     "execution_count": 9,
     "metadata": {},
     "output_type": "execute_result"
    }
   ],
   "source": [
    "# How many total samples?\n",
    "len(train_df), len(test_df)"
   ],
   "metadata": {
    "collapsed": false,
    "ExecuteTime": {
     "end_time": "2024-04-25T05:18:35.107200617Z",
     "start_time": "2024-04-25T05:18:35.021434490Z"
    }
   },
   "id": "c3a07e778ad79968",
   "execution_count": 9
  },
  {
   "cell_type": "code",
   "outputs": [
    {
     "name": "stdout",
     "output_type": "stream",
     "text": [
      "Target: 1 (real disaster)\n",
      "Text:\n",
      "10News ? Water main break disrupts trolley service http://t.co/pAug7a68i0\n",
      "\n",
      "---\n",
      "\n",
      "Target: 1 (real disaster)\n",
      "Text:\n",
      "#Amsterdam POV video captures violent landing at Amsterdam Airport Schiphol during a st... http://t.co/AlUMrGl40e http://t.co/8h2KCTFB8I\n",
      "\n",
      "---\n",
      "\n",
      "Target: 0 (not real disaster)\n",
      "Text:\n",
      "DISASTER AVERTED: Police kill gunman with Û÷hoax deviceÛª atåÊcinema http://t.co/5NG0FzpVdS\n",
      "\n",
      "---\n",
      "\n",
      "Target: 0 (not real disaster)\n",
      "Text:\n",
      "Yo I got bars and I'm not even a rapper\n",
      "\n",
      "---\n",
      "\n",
      "Target: 0 (not real disaster)\n",
      "Text:\n",
      "If you sit and rant on snapchat to your apparent fans when you have about 8000 followers I hope your in a train crash xoxo\n",
      "\n",
      "---\n"
     ]
    }
   ],
   "source": [
    "# Let's visualize some random training examples\n",
    "import random\n",
    "random_index = random.randint(0, len(train_df) - 5) # create random indexes not higher than the total number of samples\n",
    "for row in train_df_shuffled[[\"text\", \"target\"]][random_index:random_index+5].itertuples():\n",
    "    _, text, target= row\n",
    "    print(f\"Target: {target}\", \"(real disaster)\" if target > 0 else \"(not real disaster)\")\n",
    "    print(f\"Text:\\n{text}\\n\")\n",
    "    print(\"---\\n\")"
   ],
   "metadata": {
    "collapsed": false,
    "ExecuteTime": {
     "end_time": "2024-04-25T05:18:35.112112713Z",
     "start_time": "2024-04-25T05:18:35.022656330Z"
    }
   },
   "id": "7035319454aaaab6",
   "execution_count": 10
  },
  {
   "cell_type": "markdown",
   "source": [
    "Video N°227: Splitting data into training and validation sets"
   ],
   "metadata": {
    "collapsed": false
   },
   "id": "db116c0a3789a71e"
  },
  {
   "cell_type": "markdown",
   "source": [
    "### Split data into training and validation sets\n",
    "\n",
    "We want to be able to see how our model is performing on unseen data whilst it trains.\n",
    "\n",
    "And because the testing dataset doesn't have labels, we'll have to create a validation dataset to evaluate on (the model won't see the validation dataset during training so we can use its samples and labels to evaluate our model's performance)."
   ],
   "metadata": {
    "collapsed": false
   },
   "id": "3a2ec748b6ce516d"
  },
  {
   "cell_type": "code",
   "outputs": [],
   "source": [
    "from sklearn.model_selection import train_test_split"
   ],
   "metadata": {
    "collapsed": false,
    "ExecuteTime": {
     "end_time": "2024-04-25T05:18:35.120393090Z",
     "start_time": "2024-04-25T05:18:35.023452157Z"
    }
   },
   "id": "21d0b80beabda43a",
   "execution_count": 11
  },
  {
   "cell_type": "code",
   "outputs": [],
   "source": [
    "# Use train_test_split to split training data into training and validation sets\n",
    "train_sentences, val_sentences, train_labels, val_labels = train_test_split(train_df_shuffled[\"text\"].to_numpy(),\n",
    "                                                                            train_df_shuffled[\"target\"].to_numpy(),\n",
    "                                                                            test_size=0.1, # use 10% of training data for validation split\n",
    "                                                                            random_state=42)"
   ],
   "metadata": {
    "collapsed": false,
    "ExecuteTime": {
     "end_time": "2024-04-25T05:18:35.123235880Z",
     "start_time": "2024-04-25T05:18:35.023976557Z"
    }
   },
   "id": "a7f37628542eae88",
   "execution_count": 12
  },
  {
   "cell_type": "code",
   "outputs": [
    {
     "data": {
      "text/plain": "(6851, 6851, 762, 762)"
     },
     "execution_count": 13,
     "metadata": {},
     "output_type": "execute_result"
    }
   ],
   "source": [
    "# Check the lengths\n",
    "len(train_sentences), len(train_labels), len(val_sentences), len(val_labels)"
   ],
   "metadata": {
    "collapsed": false,
    "ExecuteTime": {
     "end_time": "2024-04-25T05:18:35.127805833Z",
     "start_time": "2024-04-25T05:18:35.025527935Z"
    }
   },
   "id": "74cccbe01bdee96c",
   "execution_count": 13
  },
  {
   "cell_type": "code",
   "outputs": [
    {
     "data": {
      "text/plain": "(array(['@mogacola @zamtriossu i screamed after hitting tweet',\n        'Imagine getting flattened by Kurt Zouma',\n        '@Gurmeetramrahim #MSGDoing111WelfareWorks Green S welfare force ke appx 65000 members har time disaster victim ki help ke liye tyar hai....',\n        \"@shakjn @C7 @Magnums im shaking in fear he's gonna hack the planet\",\n        'Somehow find you and I collide http://t.co/Ee8RpOahPk',\n        '@EvaHanderek @MarleyKnysh great times until the bus driver held us hostage in the mall parking lot lmfao',\n        'destroy the free fandom honestly',\n        'Weapons stolen from National Guard Armory in New Albany still missing #Gunsense http://t.co/lKNU8902JE',\n        '@wfaaweather Pete when will the heat wave pass? Is it really going to be mid month? Frisco Boy Scouts have a canoe trip in Okla.',\n        'Patient-reported outcomes in long-term survivors of metastatic colorectal cancer - British Journal of Surgery http://t.co/5Yl4DC1Tqt'],\n       dtype=object),\n array([0, 0, 1, 0, 0, 1, 1, 0, 1, 1]))"
     },
     "execution_count": 14,
     "metadata": {},
     "output_type": "execute_result"
    }
   ],
   "source": [
    "# Check the first 10 samples\n",
    "train_sentences[:10], train_labels[:10]"
   ],
   "metadata": {
    "collapsed": false,
    "ExecuteTime": {
     "end_time": "2024-04-25T05:18:35.154438839Z",
     "start_time": "2024-04-25T05:18:35.030575107Z"
    }
   },
   "id": "b3ddfdb3c4c57617",
   "execution_count": 14
  },
  {
   "cell_type": "markdown",
   "source": [
    "Video N°228: Converting text data to numbers using tokenisation and embeddings (overview)\n",
    "Video N°229: Setting up a TensorFlow TextVectorization layer to convert text to numbers"
   ],
   "metadata": {
    "collapsed": false
   },
   "id": "157a2580c83a5859"
  },
  {
   "cell_type": "markdown",
   "source": [
    "## Converting text into numbers\n",
    "\n",
    "When dealing with a text problem, one of the first things you'll have to do before you can build a model is to convert your text to numbers.\n",
    "\n",
    "There are a few ways to do this, namely:\n",
    "* Tokenziation - direct mapping of token (a token could be a word or a character) to number\n",
    "* Embedding - create a matrix of feature vector for each token (the size of the feature vector can be defined and this embedding can be learned)"
   ],
   "metadata": {
    "collapsed": false
   },
   "id": "26e1e370fdd36669"
  },
  {
   "cell_type": "markdown",
   "source": [
    "### Text vectorization (tokenization)"
   ],
   "metadata": {
    "collapsed": false
   },
   "id": "d8671d415f2b0e06"
  },
  {
   "cell_type": "code",
   "outputs": [
    {
     "data": {
      "text/plain": "array(['@mogacola @zamtriossu i screamed after hitting tweet',\n       'Imagine getting flattened by Kurt Zouma',\n       '@Gurmeetramrahim #MSGDoing111WelfareWorks Green S welfare force ke appx 65000 members har time disaster victim ki help ke liye tyar hai....',\n       \"@shakjn @C7 @Magnums im shaking in fear he's gonna hack the planet\",\n       'Somehow find you and I collide http://t.co/Ee8RpOahPk'],\n      dtype=object)"
     },
     "execution_count": 15,
     "metadata": {},
     "output_type": "execute_result"
    }
   ],
   "source": [
    "train_sentences[:5]"
   ],
   "metadata": {
    "collapsed": false,
    "ExecuteTime": {
     "end_time": "2024-04-25T05:18:35.203753921Z",
     "start_time": "2024-04-25T05:18:35.035300436Z"
    }
   },
   "id": "317c903125d50a64",
   "execution_count": 15
  },
  {
   "cell_type": "code",
   "outputs": [],
   "source": [
    "import tensorflow as tf\n",
    "from tensorflow.keras.layers.experimental.preprocessing import TextVectorization\n",
    "\n",
    "# Use the default TextVectorization parameters\n",
    "text_vectorizer = TextVectorization(max_tokens=10000, # how many words in the vocabulary (automatically add <OOV>)\n",
    "                                    standardize=\"lower_and_strip_punctuation\",\n",
    "                                    split=\"whitespace\",\n",
    "                                    ngrams=None, # create groups of n-words?\n",
    "                                    output_mode=\"int\", # how to map tokens to numbers\n",
    "                                    output_sequence_length=None, # how long do you want your sequences to be?\n",
    "                                    pad_to_max_tokens=True)"
   ],
   "metadata": {
    "collapsed": false,
    "ExecuteTime": {
     "end_time": "2024-04-25T05:18:35.472727362Z",
     "start_time": "2024-04-25T05:18:35.039989757Z"
    }
   },
   "id": "78ef0412598aeab8",
   "execution_count": 16
  },
  {
   "cell_type": "code",
   "outputs": [
    {
     "data": {
      "text/plain": "(['@mogacola', '@zamtriossu', 'i', 'screamed', 'after', 'hitting', 'tweet'], 7)"
     },
     "execution_count": 17,
     "metadata": {},
     "output_type": "execute_result"
    }
   ],
   "source": [
    "train_sentences[0].split(), len(train_sentences[0].split())"
   ],
   "metadata": {
    "collapsed": false,
    "ExecuteTime": {
     "end_time": "2024-04-25T05:18:35.488583904Z",
     "start_time": "2024-04-25T05:18:35.120108677Z"
    }
   },
   "id": "faaf6a9b69bd5773",
   "execution_count": 17
  },
  {
   "cell_type": "code",
   "outputs": [
    {
     "data": {
      "text/plain": "15"
     },
     "execution_count": 18,
     "metadata": {},
     "output_type": "execute_result"
    }
   ],
   "source": [
    "# Find the average number of tokens (words) in the training tweets\n",
    "round(sum([len(i.split()) for i in train_sentences])/len(train_sentences))"
   ],
   "metadata": {
    "collapsed": false,
    "ExecuteTime": {
     "end_time": "2024-04-25T05:18:35.504337929Z",
     "start_time": "2024-04-25T05:18:35.129256959Z"
    }
   },
   "id": "28ccda96da25c68f",
   "execution_count": 18
  },
  {
   "cell_type": "code",
   "outputs": [],
   "source": [
    "# Setup text vectorization variables\n",
    "max_vocab_length = 10000 # max number of words to have in our vocabulary\n",
    "max_length = 15 # max length our sequences will be (e.g. how many words from a Tweet does a model see?)\n",
    "\n",
    "text_vectorizer = TextVectorization(max_tokens=max_vocab_length,\n",
    "                                    output_mode='int',\n",
    "                                    output_sequence_length=max_length)"
   ],
   "metadata": {
    "collapsed": false,
    "ExecuteTime": {
     "end_time": "2024-04-25T05:18:35.665944099Z",
     "start_time": "2024-04-25T05:18:35.140419792Z"
    }
   },
   "id": "70a82546b3c21d35",
   "execution_count": 19
  },
  {
   "cell_type": "markdown",
   "source": [
    "Video N°230: Mapping the TextVectorization layer to text data and turning it into numbers"
   ],
   "metadata": {
    "collapsed": false
   },
   "id": "d12388ae0f3a3e92"
  },
  {
   "cell_type": "code",
   "outputs": [],
   "source": [
    "# Fit the text vectorizer instance to the training data using the adapt() method\n",
    "text_vectorizer.adapt(train_sentences)"
   ],
   "metadata": {
    "collapsed": false,
    "ExecuteTime": {
     "end_time": "2024-04-25T05:18:35.838664549Z",
     "start_time": "2024-04-25T05:18:35.183359248Z"
    }
   },
   "id": "311370168bb10aeb",
   "execution_count": 20
  },
  {
   "cell_type": "code",
   "outputs": [
    {
     "data": {
      "text/plain": "<tf.Tensor: shape=(1, 15), dtype=int64, numpy=\narray([[264,   3, 232,   4,  13, 698,   0,   0,   0,   0,   0,   0,   0,\n          0,   0]])>"
     },
     "execution_count": 21,
     "metadata": {},
     "output_type": "execute_result"
    }
   ],
   "source": [
    "# Create a sample sentence and tokenize it\n",
    "sample_sentence = \"There's a flood in my street!\"\n",
    "text_vectorizer([sample_sentence])"
   ],
   "metadata": {
    "collapsed": false,
    "ExecuteTime": {
     "end_time": "2024-04-25T05:18:36.831770393Z",
     "start_time": "2024-04-25T05:18:35.668437543Z"
    }
   },
   "id": "f2636de95a21fa1",
   "execution_count": 21
  },
  {
   "cell_type": "code",
   "outputs": [
    {
     "name": "stdout",
     "output_type": "stream",
     "text": [
      "Original text:\n",
      "@GrabakaHitman @Izi_Garcia when he flattened machida...did he lose that fight..nope he lost fights to guys he shouldn't of lost to also        \n",
      "\n",
      "Vectorized version:\n"
     ]
    },
    {
     "data": {
      "text/plain": "<tf.Tensor: shape=(1, 15), dtype=int64, numpy=\narray([[   1,    1,   45,   56,  485,    1,   56, 1505,   16,    1,   56,\n         681, 3001,    5,  576]])>"
     },
     "execution_count": 22,
     "metadata": {},
     "output_type": "execute_result"
    }
   ],
   "source": [
    "# Choose a random sentence from the training dataset and tokenize it\n",
    "random_sentence = random.choice(train_sentences)\n",
    "print(f\"Original text:\\n{random_sentence}\\\n",
    "        \\n\\nVectorized version:\")\n",
    "text_vectorizer([random_sentence])"
   ],
   "metadata": {
    "collapsed": false,
    "ExecuteTime": {
     "end_time": "2024-04-25T05:18:36.837537861Z",
     "start_time": "2024-04-25T05:18:36.819513631Z"
    }
   },
   "id": "68bd5bc266492a69",
   "execution_count": 22
  },
  {
   "cell_type": "code",
   "outputs": [
    {
     "name": "stdout",
     "output_type": "stream",
     "text": [
      "Most common words in vocab: ['', '[UNK]', 'the', 'a', 'in']\n",
      "Least common words in vocab: ['pages', 'paeds', 'pads', 'padres', 'paddytomlinson1']\n"
     ]
    }
   ],
   "source": [
    "# Get the unique words in the vocabulary\n",
    "words_in_vocab = text_vectorizer.get_vocabulary()\n",
    "top_5_words = words_in_vocab[:5]\n",
    "bottom_5_words = words_in_vocab[-5:]\n",
    "print(f\"Most common words in vocab: {top_5_words}\")\n",
    "print(f\"Least common words in vocab: {bottom_5_words}\")"
   ],
   "metadata": {
    "collapsed": false,
    "ExecuteTime": {
     "end_time": "2024-04-25T05:18:36.904736597Z",
     "start_time": "2024-04-25T05:18:36.832417716Z"
    }
   },
   "id": "d1e651187faa5514",
   "execution_count": 23
  },
  {
   "cell_type": "code",
   "outputs": [
    {
     "data": {
      "text/plain": "10000"
     },
     "execution_count": 24,
     "metadata": {},
     "output_type": "execute_result"
    }
   ],
   "source": [
    "# how long is our vocab?\n",
    "len(words_in_vocab)"
   ],
   "metadata": {
    "collapsed": false,
    "ExecuteTime": {
     "end_time": "2024-04-25T05:18:36.907707307Z",
     "start_time": "2024-04-25T05:18:36.851372047Z"
    }
   },
   "id": "c3ed2e4f338a2fb4",
   "execution_count": 24
  },
  {
   "cell_type": "markdown",
   "source": [
    "Video N°231: Creating an Embedding layer to turn tokenised text into embedding vectors"
   ],
   "metadata": {
    "collapsed": false
   },
   "id": "fae42820e8cdf2c3"
  },
  {
   "cell_type": "markdown",
   "source": [
    "## Creating an Embedding using an Embedding Layer\n",
    "\n",
    "To make our embedding, we're going to use TensorFlow's embedding layer:\n",
    "[https://www.tensorflow.org/api_docs/python/tf/keras/layers/Embedding](https://www.tensorflow.org/api_docs/python/tf/keras/layers/Embedding)\n",
    "The parameters we care most about for our embedding layer:\n",
    "- `input_dim` = the size of our vocabulary\n",
    "- `output_dim` = the size of the output embedding vector, for example, a value of 100 would mean each token gets represented by a vector 100 long\n",
    "- `input_length` = length of the sequences being passed to the embedding layer"
   ],
   "metadata": {
    "collapsed": false
   },
   "id": "42657b0b2a7e2783"
  },
  {
   "cell_type": "code",
   "outputs": [
    {
     "data": {
      "text/plain": "<keras.src.layers.core.embedding.Embedding at 0x7f9121df92a0>"
     },
     "execution_count": 25,
     "metadata": {},
     "output_type": "execute_result"
    }
   ],
   "source": [
    "from tensorflow.keras import layers\n",
    "\n",
    "embedding = layers.Embedding(input_dim=max_vocab_length, # set the input shape\n",
    "                             output_dim=128, # set the size of the embedding vector\n",
    "                             embeddings_initializer=\"uniform\", # default, initialize embedding vectors randomly\n",
    "                             input_length=max_length) # how long is each input\n",
    "embedding"
   ],
   "metadata": {
    "collapsed": false,
    "ExecuteTime": {
     "end_time": "2024-04-25T05:18:36.929218139Z",
     "start_time": "2024-04-25T05:18:36.854192481Z"
    }
   },
   "id": "51adde2a2596e334",
   "execution_count": 25
  },
  {
   "cell_type": "code",
   "outputs": [
    {
     "name": "stdout",
     "output_type": "stream",
     "text": [
      "Original text:\n",
      " Hibernating pbx irrespective of pitch fatality careerism pan: crbZFZ\n",
      "\n",
      "\n",
      "Embedded version:\n"
     ]
    },
    {
     "data": {
      "text/plain": "<tf.Tensor: shape=(1, 15, 128), dtype=float32, numpy=\narray([[[-0.00073292,  0.03469774, -0.04441135, ...,  0.01416595,\n         -0.00486546,  0.0440566 ],\n        [-0.02556345,  0.02247613,  0.0228686 , ..., -0.01249836,\n          0.00860999, -0.03668206],\n        [-0.00073292,  0.03469774, -0.04441135, ...,  0.01416595,\n         -0.00486546,  0.0440566 ],\n        ...,\n        [ 0.02461983, -0.02596474, -0.02922946, ..., -0.02134675,\n          0.01060081,  0.01780658],\n        [ 0.02461983, -0.02596474, -0.02922946, ..., -0.02134675,\n          0.01060081,  0.01780658],\n        [ 0.02461983, -0.02596474, -0.02922946, ..., -0.02134675,\n          0.01060081,  0.01780658]]], dtype=float32)>"
     },
     "execution_count": 26,
     "metadata": {},
     "output_type": "execute_result"
    }
   ],
   "source": [
    "# Get a random sentence from training set\n",
    "random_sentence = random.choice(train_sentences)\n",
    "print(f'Original text:\\n {random_sentence}')\n",
    "print(f'\\n\\nEmbedded version:')\n",
    "\n",
    "# Embed the random sentence (turn it into dense vectors of fixed size)\n",
    "sample_embed = embedding(text_vectorizer([random_sentence]))\n",
    "sample_embed"
   ],
   "metadata": {
    "collapsed": false,
    "ExecuteTime": {
     "end_time": "2024-04-25T05:18:37.087795886Z",
     "start_time": "2024-04-25T05:18:36.863287669Z"
    }
   },
   "id": "cfbc705b8df7725e",
   "execution_count": 26
  },
  {
   "cell_type": "code",
   "outputs": [
    {
     "data": {
      "text/plain": "(<tf.Tensor: shape=(128,), dtype=float32, numpy=\n array([-0.00073292,  0.03469774, -0.04441135, -0.04653853, -0.00745245,\n        -0.02196614,  0.037846  , -0.0123395 ,  0.00701945, -0.03935646,\n        -0.01026077,  0.0421334 , -0.01159269,  0.02559427, -0.03343344,\n        -0.04209521,  0.04020859,  0.00952066,  0.0441342 ,  0.01727689,\n        -0.01675706,  0.01039745, -0.01201605,  0.04004662, -0.03002352,\n        -0.0260776 , -0.00976036,  0.01136826, -0.01386015,  0.02963423,\n        -0.0329824 , -0.0373079 ,  0.02577973, -0.03623586, -0.01246981,\n         0.01436687,  0.03395281,  0.02409868,  0.04986032,  0.00584126,\n        -0.01905798,  0.02327761, -0.00627295,  0.04557842, -0.0477283 ,\n         0.01180729, -0.0462804 , -0.00633027,  0.00261569,  0.0002694 ,\n         0.01335653, -0.02890294,  0.03307437, -0.03175048,  0.01979259,\n         0.04305634,  0.03400102,  0.00584256,  0.01821729,  0.04533894,\n        -0.02732452,  0.00714255,  0.01151583,  0.01530791, -0.00369186,\n         0.03382672, -0.03509529,  0.01623893,  0.02004931,  0.01498071,\n         0.02835721,  0.01845856,  0.03570432,  0.0057472 , -0.03272118,\n        -0.01390354, -0.00037056,  0.04185196, -0.04329124, -0.00735473,\n         0.00535678,  0.03755694, -0.04826725,  0.0366992 ,  0.02968195,\n        -0.04543954,  0.01868531, -0.02830224, -0.04169772, -0.00266213,\n        -0.0027113 ,  0.02892159, -0.01950705, -0.04095924,  0.00116626,\n        -0.02971717, -0.04312832, -0.04497015, -0.0080507 , -0.00057802,\n         0.02035694,  0.02436861, -0.01796909, -0.00720605, -0.0245918 ,\n        -0.01271225,  0.01013781, -0.03895526,  0.00461662,  0.04498967,\n         0.03713335, -0.01111798,  0.02463346,  0.01715836, -0.0493699 ,\n         0.04687962,  0.01706313,  0.02323386,  0.0137624 , -0.01111485,\n        -0.00442313,  0.01205909,  0.01029243, -0.03721484,  0.01447657,\n         0.01416595, -0.00486546,  0.0440566 ], dtype=float32)>,\n TensorShape([128]),\n 'Hibernating pbx irrespective of pitch fatality careerism pan: crbZFZ')"
     },
     "execution_count": 27,
     "metadata": {},
     "output_type": "execute_result"
    }
   ],
   "source": [
    "# Check out a single token's embedding\n",
    "sample_embed[0][0], sample_embed[0][0].shape, random_sentence"
   ],
   "metadata": {
    "collapsed": false,
    "ExecuteTime": {
     "end_time": "2024-04-25T05:18:37.102683381Z",
     "start_time": "2024-04-25T05:18:36.908317600Z"
    }
   },
   "id": "7f7aea54142f9074",
   "execution_count": 27
  },
  {
   "cell_type": "markdown",
   "source": [
    "Video N°232: Discussing the various modelling experiments we're going to run"
   ],
   "metadata": {
    "collapsed": false
   },
   "id": "a97c61909d8b52c4"
  },
  {
   "cell_type": "markdown",
   "source": [
    "## Modelling a text dataset (setting up our modelling experiments)\n",
    "\n",
    "Now we've a got way to turn our text sequences into numbers, it's time to start building a series of modelling experiments.\n",
    "\n",
    "We'll start with a baseline and move on from there.\n",
    "\n",
    "* Model 0: Naive Bayes (baseline) - got this from here: [https://scikit-learn.org/stable/tutorial/machine_learning_map/index.html](https://scikit-learn.org/stable/tutorial/machine_learning_map/index.html)\n",
    "* Model 1: Feed-forward neural network (dense model)\n",
    "* Model 2: LSTM model (RNN)\n",
    "* Model 3: GRU model (RNN)\n",
    "* Model 4: Bidirectional LSTM model (RNN)\n",
    "* Model 5: 1D Convolutional Neural Network (CNN)\n",
    "* Model 6: TensorFlow Hub Pretrained Word Embedding (feature extractor) (using transfer learning for NLP)\n",
    "* Model 7: Same as model 6 but using 10% of data\n",
    "\n",
    "How are we going to approach all of these?\n",
    "Use the standard steps in modelling with tensorflow:\n",
    "* Create a model\n",
    "* Build a model\n",
    "* Fit a model\n",
    "* Evaluate our model"
   ],
   "metadata": {
    "collapsed": false
   },
   "id": "b5685fc4726befe9"
  },
  {
   "cell_type": "markdown",
   "source": [
    "Video N°233: Model 0:Building a basline model to try and improve upon"
   ],
   "metadata": {
    "collapsed": false
   },
   "id": "46ceb5c15d31e587"
  },
  {
   "cell_type": "markdown",
   "source": [
    "### Model 0: Getting a baseline\n",
    "\n",
    "As with all machine learning modelling experiments, it's important to create a baseline model so you've got a benchmark for future experiments to build upon.\n",
    "\n",
    "To create our baseline, we'll use Sklearn's Multinomial Naive Bayes using the TF-IDF formula to convert our words to numbers.\n",
    "\n",
    "> 🔑 **Note:** It's common practice to use non-DL algorithms as a baseline because of their speed and then later using DL to see if you can improve upon them."
   ],
   "metadata": {
    "collapsed": false
   },
   "id": "351db476be91e232"
  },
  {
   "cell_type": "code",
   "outputs": [
    {
     "name": "stdout",
     "output_type": "stream",
     "text": [
      "CPU times: user 263 ms, sys: 9.35 ms, total: 273 ms\n",
      "Wall time: 278 ms\n"
     ]
    },
    {
     "data": {
      "text/plain": "Pipeline(steps=[('tfidf', TfidfVectorizer()), ('clf', MultinomialNB())])",
      "text/html": "<style>#sk-container-id-1 {\n  /* Definition of color scheme common for light and dark mode */\n  --sklearn-color-text: black;\n  --sklearn-color-line: gray;\n  /* Definition of color scheme for unfitted estimators */\n  --sklearn-color-unfitted-level-0: #fff5e6;\n  --sklearn-color-unfitted-level-1: #f6e4d2;\n  --sklearn-color-unfitted-level-2: #ffe0b3;\n  --sklearn-color-unfitted-level-3: chocolate;\n  /* Definition of color scheme for fitted estimators */\n  --sklearn-color-fitted-level-0: #f0f8ff;\n  --sklearn-color-fitted-level-1: #d4ebff;\n  --sklearn-color-fitted-level-2: #b3dbfd;\n  --sklearn-color-fitted-level-3: cornflowerblue;\n\n  /* Specific color for light theme */\n  --sklearn-color-text-on-default-background: var(--sg-text-color, var(--theme-code-foreground, var(--jp-content-font-color1, black)));\n  --sklearn-color-background: var(--sg-background-color, var(--theme-background, var(--jp-layout-color0, white)));\n  --sklearn-color-border-box: var(--sg-text-color, var(--theme-code-foreground, var(--jp-content-font-color1, black)));\n  --sklearn-color-icon: #696969;\n\n  @media (prefers-color-scheme: dark) {\n    /* Redefinition of color scheme for dark theme */\n    --sklearn-color-text-on-default-background: var(--sg-text-color, var(--theme-code-foreground, var(--jp-content-font-color1, white)));\n    --sklearn-color-background: var(--sg-background-color, var(--theme-background, var(--jp-layout-color0, #111)));\n    --sklearn-color-border-box: var(--sg-text-color, var(--theme-code-foreground, var(--jp-content-font-color1, white)));\n    --sklearn-color-icon: #878787;\n  }\n}\n\n#sk-container-id-1 {\n  color: var(--sklearn-color-text);\n}\n\n#sk-container-id-1 pre {\n  padding: 0;\n}\n\n#sk-container-id-1 input.sk-hidden--visually {\n  border: 0;\n  clip: rect(1px 1px 1px 1px);\n  clip: rect(1px, 1px, 1px, 1px);\n  height: 1px;\n  margin: -1px;\n  overflow: hidden;\n  padding: 0;\n  position: absolute;\n  width: 1px;\n}\n\n#sk-container-id-1 div.sk-dashed-wrapped {\n  border: 1px dashed var(--sklearn-color-line);\n  margin: 0 0.4em 0.5em 0.4em;\n  box-sizing: border-box;\n  padding-bottom: 0.4em;\n  background-color: var(--sklearn-color-background);\n}\n\n#sk-container-id-1 div.sk-container {\n  /* jupyter's `normalize.less` sets `[hidden] { display: none; }`\n     but bootstrap.min.css set `[hidden] { display: none !important; }`\n     so we also need the `!important` here to be able to override the\n     default hidden behavior on the sphinx rendered scikit-learn.org.\n     See: https://github.com/scikit-learn/scikit-learn/issues/21755 */\n  display: inline-block !important;\n  position: relative;\n}\n\n#sk-container-id-1 div.sk-text-repr-fallback {\n  display: none;\n}\n\ndiv.sk-parallel-item,\ndiv.sk-serial,\ndiv.sk-item {\n  /* draw centered vertical line to link estimators */\n  background-image: linear-gradient(var(--sklearn-color-text-on-default-background), var(--sklearn-color-text-on-default-background));\n  background-size: 2px 100%;\n  background-repeat: no-repeat;\n  background-position: center center;\n}\n\n/* Parallel-specific style estimator block */\n\n#sk-container-id-1 div.sk-parallel-item::after {\n  content: \"\";\n  width: 100%;\n  border-bottom: 2px solid var(--sklearn-color-text-on-default-background);\n  flex-grow: 1;\n}\n\n#sk-container-id-1 div.sk-parallel {\n  display: flex;\n  align-items: stretch;\n  justify-content: center;\n  background-color: var(--sklearn-color-background);\n  position: relative;\n}\n\n#sk-container-id-1 div.sk-parallel-item {\n  display: flex;\n  flex-direction: column;\n}\n\n#sk-container-id-1 div.sk-parallel-item:first-child::after {\n  align-self: flex-end;\n  width: 50%;\n}\n\n#sk-container-id-1 div.sk-parallel-item:last-child::after {\n  align-self: flex-start;\n  width: 50%;\n}\n\n#sk-container-id-1 div.sk-parallel-item:only-child::after {\n  width: 0;\n}\n\n/* Serial-specific style estimator block */\n\n#sk-container-id-1 div.sk-serial {\n  display: flex;\n  flex-direction: column;\n  align-items: center;\n  background-color: var(--sklearn-color-background);\n  padding-right: 1em;\n  padding-left: 1em;\n}\n\n\n/* Toggleable style: style used for estimator/Pipeline/ColumnTransformer box that is\nclickable and can be expanded/collapsed.\n- Pipeline and ColumnTransformer use this feature and define the default style\n- Estimators will overwrite some part of the style using the `sk-estimator` class\n*/\n\n/* Pipeline and ColumnTransformer style (default) */\n\n#sk-container-id-1 div.sk-toggleable {\n  /* Default theme specific background. It is overwritten whether we have a\n  specific estimator or a Pipeline/ColumnTransformer */\n  background-color: var(--sklearn-color-background);\n}\n\n/* Toggleable label */\n#sk-container-id-1 label.sk-toggleable__label {\n  cursor: pointer;\n  display: block;\n  width: 100%;\n  margin-bottom: 0;\n  padding: 0.5em;\n  box-sizing: border-box;\n  text-align: center;\n}\n\n#sk-container-id-1 label.sk-toggleable__label-arrow:before {\n  /* Arrow on the left of the label */\n  content: \"▸\";\n  float: left;\n  margin-right: 0.25em;\n  color: var(--sklearn-color-icon);\n}\n\n#sk-container-id-1 label.sk-toggleable__label-arrow:hover:before {\n  color: var(--sklearn-color-text);\n}\n\n/* Toggleable content - dropdown */\n\n#sk-container-id-1 div.sk-toggleable__content {\n  max-height: 0;\n  max-width: 0;\n  overflow: hidden;\n  text-align: left;\n  /* unfitted */\n  background-color: var(--sklearn-color-unfitted-level-0);\n}\n\n#sk-container-id-1 div.sk-toggleable__content.fitted {\n  /* fitted */\n  background-color: var(--sklearn-color-fitted-level-0);\n}\n\n#sk-container-id-1 div.sk-toggleable__content pre {\n  margin: 0.2em;\n  border-radius: 0.25em;\n  color: var(--sklearn-color-text);\n  /* unfitted */\n  background-color: var(--sklearn-color-unfitted-level-0);\n}\n\n#sk-container-id-1 div.sk-toggleable__content.fitted pre {\n  /* unfitted */\n  background-color: var(--sklearn-color-fitted-level-0);\n}\n\n#sk-container-id-1 input.sk-toggleable__control:checked~div.sk-toggleable__content {\n  /* Expand drop-down */\n  max-height: 200px;\n  max-width: 100%;\n  overflow: auto;\n}\n\n#sk-container-id-1 input.sk-toggleable__control:checked~label.sk-toggleable__label-arrow:before {\n  content: \"▾\";\n}\n\n/* Pipeline/ColumnTransformer-specific style */\n\n#sk-container-id-1 div.sk-label input.sk-toggleable__control:checked~label.sk-toggleable__label {\n  color: var(--sklearn-color-text);\n  background-color: var(--sklearn-color-unfitted-level-2);\n}\n\n#sk-container-id-1 div.sk-label.fitted input.sk-toggleable__control:checked~label.sk-toggleable__label {\n  background-color: var(--sklearn-color-fitted-level-2);\n}\n\n/* Estimator-specific style */\n\n/* Colorize estimator box */\n#sk-container-id-1 div.sk-estimator input.sk-toggleable__control:checked~label.sk-toggleable__label {\n  /* unfitted */\n  background-color: var(--sklearn-color-unfitted-level-2);\n}\n\n#sk-container-id-1 div.sk-estimator.fitted input.sk-toggleable__control:checked~label.sk-toggleable__label {\n  /* fitted */\n  background-color: var(--sklearn-color-fitted-level-2);\n}\n\n#sk-container-id-1 div.sk-label label.sk-toggleable__label,\n#sk-container-id-1 div.sk-label label {\n  /* The background is the default theme color */\n  color: var(--sklearn-color-text-on-default-background);\n}\n\n/* On hover, darken the color of the background */\n#sk-container-id-1 div.sk-label:hover label.sk-toggleable__label {\n  color: var(--sklearn-color-text);\n  background-color: var(--sklearn-color-unfitted-level-2);\n}\n\n/* Label box, darken color on hover, fitted */\n#sk-container-id-1 div.sk-label.fitted:hover label.sk-toggleable__label.fitted {\n  color: var(--sklearn-color-text);\n  background-color: var(--sklearn-color-fitted-level-2);\n}\n\n/* Estimator label */\n\n#sk-container-id-1 div.sk-label label {\n  font-family: monospace;\n  font-weight: bold;\n  display: inline-block;\n  line-height: 1.2em;\n}\n\n#sk-container-id-1 div.sk-label-container {\n  text-align: center;\n}\n\n/* Estimator-specific */\n#sk-container-id-1 div.sk-estimator {\n  font-family: monospace;\n  border: 1px dotted var(--sklearn-color-border-box);\n  border-radius: 0.25em;\n  box-sizing: border-box;\n  margin-bottom: 0.5em;\n  /* unfitted */\n  background-color: var(--sklearn-color-unfitted-level-0);\n}\n\n#sk-container-id-1 div.sk-estimator.fitted {\n  /* fitted */\n  background-color: var(--sklearn-color-fitted-level-0);\n}\n\n/* on hover */\n#sk-container-id-1 div.sk-estimator:hover {\n  /* unfitted */\n  background-color: var(--sklearn-color-unfitted-level-2);\n}\n\n#sk-container-id-1 div.sk-estimator.fitted:hover {\n  /* fitted */\n  background-color: var(--sklearn-color-fitted-level-2);\n}\n\n/* Specification for estimator info (e.g. \"i\" and \"?\") */\n\n/* Common style for \"i\" and \"?\" */\n\n.sk-estimator-doc-link,\na:link.sk-estimator-doc-link,\na:visited.sk-estimator-doc-link {\n  float: right;\n  font-size: smaller;\n  line-height: 1em;\n  font-family: monospace;\n  background-color: var(--sklearn-color-background);\n  border-radius: 1em;\n  height: 1em;\n  width: 1em;\n  text-decoration: none !important;\n  margin-left: 1ex;\n  /* unfitted */\n  border: var(--sklearn-color-unfitted-level-1) 1pt solid;\n  color: var(--sklearn-color-unfitted-level-1);\n}\n\n.sk-estimator-doc-link.fitted,\na:link.sk-estimator-doc-link.fitted,\na:visited.sk-estimator-doc-link.fitted {\n  /* fitted */\n  border: var(--sklearn-color-fitted-level-1) 1pt solid;\n  color: var(--sklearn-color-fitted-level-1);\n}\n\n/* On hover */\ndiv.sk-estimator:hover .sk-estimator-doc-link:hover,\n.sk-estimator-doc-link:hover,\ndiv.sk-label-container:hover .sk-estimator-doc-link:hover,\n.sk-estimator-doc-link:hover {\n  /* unfitted */\n  background-color: var(--sklearn-color-unfitted-level-3);\n  color: var(--sklearn-color-background);\n  text-decoration: none;\n}\n\ndiv.sk-estimator.fitted:hover .sk-estimator-doc-link.fitted:hover,\n.sk-estimator-doc-link.fitted:hover,\ndiv.sk-label-container:hover .sk-estimator-doc-link.fitted:hover,\n.sk-estimator-doc-link.fitted:hover {\n  /* fitted */\n  background-color: var(--sklearn-color-fitted-level-3);\n  color: var(--sklearn-color-background);\n  text-decoration: none;\n}\n\n/* Span, style for the box shown on hovering the info icon */\n.sk-estimator-doc-link span {\n  display: none;\n  z-index: 9999;\n  position: relative;\n  font-weight: normal;\n  right: .2ex;\n  padding: .5ex;\n  margin: .5ex;\n  width: min-content;\n  min-width: 20ex;\n  max-width: 50ex;\n  color: var(--sklearn-color-text);\n  box-shadow: 2pt 2pt 4pt #999;\n  /* unfitted */\n  background: var(--sklearn-color-unfitted-level-0);\n  border: .5pt solid var(--sklearn-color-unfitted-level-3);\n}\n\n.sk-estimator-doc-link.fitted span {\n  /* fitted */\n  background: var(--sklearn-color-fitted-level-0);\n  border: var(--sklearn-color-fitted-level-3);\n}\n\n.sk-estimator-doc-link:hover span {\n  display: block;\n}\n\n/* \"?\"-specific style due to the `<a>` HTML tag */\n\n#sk-container-id-1 a.estimator_doc_link {\n  float: right;\n  font-size: 1rem;\n  line-height: 1em;\n  font-family: monospace;\n  background-color: var(--sklearn-color-background);\n  border-radius: 1rem;\n  height: 1rem;\n  width: 1rem;\n  text-decoration: none;\n  /* unfitted */\n  color: var(--sklearn-color-unfitted-level-1);\n  border: var(--sklearn-color-unfitted-level-1) 1pt solid;\n}\n\n#sk-container-id-1 a.estimator_doc_link.fitted {\n  /* fitted */\n  border: var(--sklearn-color-fitted-level-1) 1pt solid;\n  color: var(--sklearn-color-fitted-level-1);\n}\n\n/* On hover */\n#sk-container-id-1 a.estimator_doc_link:hover {\n  /* unfitted */\n  background-color: var(--sklearn-color-unfitted-level-3);\n  color: var(--sklearn-color-background);\n  text-decoration: none;\n}\n\n#sk-container-id-1 a.estimator_doc_link.fitted:hover {\n  /* fitted */\n  background-color: var(--sklearn-color-fitted-level-3);\n}\n</style><div id=\"sk-container-id-1\" class=\"sk-top-container\"><div class=\"sk-text-repr-fallback\"><pre>Pipeline(steps=[(&#x27;tfidf&#x27;, TfidfVectorizer()), (&#x27;clf&#x27;, MultinomialNB())])</pre><b>In a Jupyter environment, please rerun this cell to show the HTML representation or trust the notebook. <br />On GitHub, the HTML representation is unable to render, please try loading this page with nbviewer.org.</b></div><div class=\"sk-container\" hidden><div class=\"sk-item sk-dashed-wrapped\"><div class=\"sk-label-container\"><div class=\"sk-label fitted sk-toggleable\"><input class=\"sk-toggleable__control sk-hidden--visually\" id=\"sk-estimator-id-1\" type=\"checkbox\" ><label for=\"sk-estimator-id-1\" class=\"sk-toggleable__label fitted sk-toggleable__label-arrow fitted\">&nbsp;&nbsp;Pipeline<a class=\"sk-estimator-doc-link fitted\" rel=\"noreferrer\" target=\"_blank\" href=\"https://scikit-learn.org/1.4/modules/generated/sklearn.pipeline.Pipeline.html\">?<span>Documentation for Pipeline</span></a><span class=\"sk-estimator-doc-link fitted\">i<span>Fitted</span></span></label><div class=\"sk-toggleable__content fitted\"><pre>Pipeline(steps=[(&#x27;tfidf&#x27;, TfidfVectorizer()), (&#x27;clf&#x27;, MultinomialNB())])</pre></div> </div></div><div class=\"sk-serial\"><div class=\"sk-item\"><div class=\"sk-estimator fitted sk-toggleable\"><input class=\"sk-toggleable__control sk-hidden--visually\" id=\"sk-estimator-id-2\" type=\"checkbox\" ><label for=\"sk-estimator-id-2\" class=\"sk-toggleable__label fitted sk-toggleable__label-arrow fitted\">&nbsp;TfidfVectorizer<a class=\"sk-estimator-doc-link fitted\" rel=\"noreferrer\" target=\"_blank\" href=\"https://scikit-learn.org/1.4/modules/generated/sklearn.feature_extraction.text.TfidfVectorizer.html\">?<span>Documentation for TfidfVectorizer</span></a></label><div class=\"sk-toggleable__content fitted\"><pre>TfidfVectorizer()</pre></div> </div></div><div class=\"sk-item\"><div class=\"sk-estimator fitted sk-toggleable\"><input class=\"sk-toggleable__control sk-hidden--visually\" id=\"sk-estimator-id-3\" type=\"checkbox\" ><label for=\"sk-estimator-id-3\" class=\"sk-toggleable__label fitted sk-toggleable__label-arrow fitted\">&nbsp;MultinomialNB<a class=\"sk-estimator-doc-link fitted\" rel=\"noreferrer\" target=\"_blank\" href=\"https://scikit-learn.org/1.4/modules/generated/sklearn.naive_bayes.MultinomialNB.html\">?<span>Documentation for MultinomialNB</span></a></label><div class=\"sk-toggleable__content fitted\"><pre>MultinomialNB()</pre></div> </div></div></div></div></div></div>"
     },
     "execution_count": 28,
     "metadata": {},
     "output_type": "execute_result"
    }
   ],
   "source": [
    "%%time\n",
    "from sklearn.feature_extraction.text import TfidfVectorizer\n",
    "from sklearn.naive_bayes import MultinomialNB\n",
    "from sklearn.pipeline import Pipeline\n",
    "\n",
    "# Create tokenization and modelling pipeline\n",
    "model_0 = Pipeline([\n",
    "    (\"tfidf\", TfidfVectorizer()), # convert words to numbers using tfidf - https://scikit-learn.org/stable/modules/generated/sklearn.feature_extraction.text.TfidfVectorizer.html\n",
    "    (\"clf\", MultinomialNB()) # model the text converted to numbers\n",
    "])\n",
    "\n",
    "# Fit the pipeline to the training data\n",
    "model_0.fit(train_sentences, train_labels)"
   ],
   "metadata": {
    "collapsed": false,
    "ExecuteTime": {
     "end_time": "2024-04-25T05:18:37.234171073Z",
     "start_time": "2024-04-25T05:18:36.922912445Z"
    }
   },
   "id": "ece154ec6304d143",
   "execution_count": 28
  },
  {
   "cell_type": "code",
   "outputs": [
    {
     "name": "stdout",
     "output_type": "stream",
     "text": [
      "Our baseline model achieves an accuracy of: 79.27%\n"
     ]
    }
   ],
   "source": [
    "# Evaluate our baseline model\n",
    "baseline_score = model_0.score(val_sentences, val_labels)\n",
    "print(f\"Our baseline model achieves an accuracy of: {baseline_score*100:.2f}%\")"
   ],
   "metadata": {
    "collapsed": false,
    "ExecuteTime": {
     "end_time": "2024-04-25T05:18:37.269159718Z",
     "start_time": "2024-04-25T05:18:37.214815641Z"
    }
   },
   "id": "91fd67891a4f78aa",
   "execution_count": 29
  },
  {
   "cell_type": "code",
   "outputs": [
    {
     "data": {
      "text/plain": "array([1, 1, 1, 0, 0, 1, 1, 1, 1, 0, 0, 1, 0, 0, 0, 0, 0, 0, 0, 1])"
     },
     "execution_count": 30,
     "metadata": {},
     "output_type": "execute_result"
    }
   ],
   "source": [
    "# Make predictions\n",
    "baseline_preds = model_0.predict(val_sentences)\n",
    "baseline_preds[:20]"
   ],
   "metadata": {
    "collapsed": false,
    "ExecuteTime": {
     "end_time": "2024-04-25T05:18:37.362889141Z",
     "start_time": "2024-04-25T05:18:37.224592035Z"
    }
   },
   "id": "6424a4c08002f460",
   "execution_count": 30
  },
  {
   "cell_type": "code",
   "outputs": [
    {
     "data": {
      "text/plain": "array([0, 0, 1, ..., 1, 1, 0])"
     },
     "execution_count": 31,
     "metadata": {},
     "output_type": "execute_result"
    }
   ],
   "source": [
    "train_labels"
   ],
   "metadata": {
    "collapsed": false,
    "ExecuteTime": {
     "end_time": "2024-04-25T05:18:37.366441374Z",
     "start_time": "2024-04-25T05:18:37.241850694Z"
    }
   },
   "id": "1bf16bacada8c7a",
   "execution_count": 31
  },
  {
   "cell_type": "markdown",
   "source": [
    "Video N°234: Creating a function to track and evaluate our model's results"
   ],
   "metadata": {
    "collapsed": false
   },
   "id": "f880313bcceb06d7"
  },
  {
   "cell_type": "markdown",
   "source": [
    "### Creating an evaluation function for our model experiments\n",
    "\n",
    "We could evaluate all of our model's predictions with different metrics every time, however, this will be cumbersome and could easily be fixed with a function\n",
    "\n",
    "Let's create one to compare our model's predictions with the truth labels using the following metrics:\n",
    " \n",
    "* Accuracy\n",
    "* Precision\n",
    "* Recall\n",
    "* F1-score\n",
    "\n",
    "For a deep overview of many different evaluation methods, see the Sklearn documentation: [https://scikit-learn.org/stable/modules/model_evaluation.html](https://scikit-learn.org/stable/modules/model_evaluation.html)"
   ],
   "metadata": {
    "collapsed": false
   },
   "id": "fb8c0e70525c315d"
  },
  {
   "cell_type": "code",
   "outputs": [
    {
     "data": {
      "text/plain": "{'accuracy': 79.26509186351706,\n 'precision': 0.8111390004213173,\n 'recall': 0.7926509186351706,\n 'f1': 0.7862189758049549}"
     },
     "execution_count": 32,
     "metadata": {},
     "output_type": "execute_result"
    }
   ],
   "source": [
    "# Get baseline results with personal function\n",
    "baseline_results = evaluate_classification_metrics(y_true=val_labels, y_pred=baseline_preds)\n",
    "baseline_results"
   ],
   "metadata": {
    "collapsed": false,
    "ExecuteTime": {
     "end_time": "2024-04-25T05:18:37.387764421Z",
     "start_time": "2024-04-25T05:18:37.247958413Z"
    }
   },
   "id": "db41551daf616ee1",
   "execution_count": 32
  },
  {
   "cell_type": "markdown",
   "source": [
    "Video N°235: Model1: Building, fitting and evaluating our first deep model on text data"
   ],
   "metadata": {
    "collapsed": false
   },
   "id": "6c8e31a1da657d4"
  },
  {
   "cell_type": "markdown",
   "source": [
    "### Model 1: A simple dense model (feed-forward neural network)"
   ],
   "metadata": {
    "collapsed": false
   },
   "id": "a3c026a9b82c23c3"
  },
  {
   "cell_type": "code",
   "outputs": [],
   "source": [
    "# Create tensorboard callback (need to create a new one for each model)\n",
    "# import personal 'create_tensorboard_callback' function\n",
    "\n",
    "# Create directory to save TensorBoard logs\n",
    "SAVE_DIR = \"model_logs\""
   ],
   "metadata": {
    "collapsed": false,
    "ExecuteTime": {
     "end_time": "2024-04-25T05:18:37.390566837Z",
     "start_time": "2024-04-25T05:18:37.291502046Z"
    }
   },
   "id": "caf0fc8f8529b5b3",
   "execution_count": 33
  },
  {
   "cell_type": "code",
   "outputs": [
    {
     "data": {
      "text/plain": "array(['@mogacola @zamtriossu i screamed after hitting tweet',\n       'Imagine getting flattened by Kurt Zouma',\n       '@Gurmeetramrahim #MSGDoing111WelfareWorks Green S welfare force ke appx 65000 members har time disaster victim ki help ke liye tyar hai....',\n       \"@shakjn @C7 @Magnums im shaking in fear he's gonna hack the planet\",\n       'Somehow find you and I collide http://t.co/Ee8RpOahPk'],\n      dtype=object)"
     },
     "execution_count": 34,
     "metadata": {},
     "output_type": "execute_result"
    }
   ],
   "source": [
    "train_sentences[:5]"
   ],
   "metadata": {
    "collapsed": false,
    "ExecuteTime": {
     "end_time": "2024-04-25T05:18:37.402782254Z",
     "start_time": "2024-04-25T05:18:37.292006827Z"
    }
   },
   "id": "dc538b4c25a084d1",
   "execution_count": 34
  },
  {
   "cell_type": "code",
   "outputs": [],
   "source": [
    "# Build model with the Functional API\n",
    "from tensorflow.keras import layers\n",
    "inputs = layers.Input(shape=(1,), dtype=tf.string) # inputs are 1-dimensional strings\n",
    "x = text_vectorizer(inputs) # turn the input text into numbers \n",
    "x = embedding(x) # create an embedding of the numberized inputs\n",
    "x = layers.GlobalAveragePooling1D()(x) # condense the feature vector for each token to one vector\n",
    "outputs = layers.Dense(1, activation=\"sigmoid\")(x) # create the output layer, want binary outputs so use sigmoid activation function\n",
    "model_1 = tf.keras.Model(inputs, outputs, name=\"model_1_dense\")"
   ],
   "metadata": {
    "collapsed": false,
    "ExecuteTime": {
     "end_time": "2024-04-25T05:18:37.407157895Z",
     "start_time": "2024-04-25T05:18:37.292455191Z"
    }
   },
   "id": "efe97384acbcfdf7",
   "execution_count": 35
  },
  {
   "cell_type": "code",
   "outputs": [
    {
     "name": "stdout",
     "output_type": "stream",
     "text": [
      "Model: \"model_1_dense\"\n",
      "_________________________________________________________________\n",
      " Layer (type)                Output Shape              Param #   \n",
      "=================================================================\n",
      " input_1 (InputLayer)        [(None, 1)]               0         \n",
      "                                                                 \n",
      " text_vectorization_1 (Text  (None, 15)                0         \n",
      " Vectorization)                                                  \n",
      "                                                                 \n",
      " embedding (Embedding)       (None, 15, 128)           1280000   \n",
      "                                                                 \n",
      " global_average_pooling1d (  (None, 128)               0         \n",
      " GlobalAveragePooling1D)                                         \n",
      "                                                                 \n",
      " dense (Dense)               (None, 1)                 129       \n",
      "                                                                 \n",
      "=================================================================\n",
      "Total params: 1280129 (4.88 MB)\n",
      "Trainable params: 1280129 (4.88 MB)\n",
      "Non-trainable params: 0 (0.00 Byte)\n",
      "_________________________________________________________________\n"
     ]
    }
   ],
   "source": [
    "model_1.summary()"
   ],
   "metadata": {
    "collapsed": false,
    "ExecuteTime": {
     "end_time": "2024-04-25T05:18:37.497108583Z",
     "start_time": "2024-04-25T05:18:37.308529515Z"
    }
   },
   "id": "5380ee4a34e8ca0c",
   "execution_count": 36
  },
  {
   "cell_type": "code",
   "outputs": [
    {
     "name": "stdout",
     "output_type": "stream",
     "text": [
      "Saving TensorBoard log files to: model_logs/model_1_dense/20240425-071837\n",
      "Epoch 1/5\n"
     ]
    },
    {
     "name": "stderr",
     "output_type": "stream",
     "text": [
      "2024-04-25 07:18:38.780162: I external/local_xla/xla/service/service.cc:168] XLA service 0x7f913c4f0450 initialized for platform CUDA (this does not guarantee that XLA will be used). Devices:\n",
      "2024-04-25 07:18:38.780192: I external/local_xla/xla/service/service.cc:176]   StreamExecutor device (0): NVIDIA GeForce RTX 3050, Compute Capability 8.6\n",
      "2024-04-25 07:18:38.802005: I tensorflow/compiler/mlir/tensorflow/utils/dump_mlir_util.cc:269] disabling MLIR crash reproducer, set env var `MLIR_CRASH_REPRODUCER_DIRECTORY` to enable.\n",
      "2024-04-25 07:18:38.839442: I external/local_xla/xla/stream_executor/cuda/cuda_dnn.cc:454] Loaded cuDNN version 8907\n",
      "WARNING: All log messages before absl::InitializeLog() is called are written to STDERR\n",
      "I0000 00:00:1714022318.907023    4804 device_compiler.h:186] Compiled cluster using XLA!  This line is logged at most once for the lifetime of the process.\n"
     ]
    },
    {
     "name": "stdout",
     "output_type": "stream",
     "text": [
      "215/215 [==============================] - 8s 32ms/step - loss: 0.6121 - accuracy: 0.6891 - val_loss: 0.5358 - val_accuracy: 0.7651\n",
      "Epoch 2/5\n",
      "215/215 [==============================] - 2s 8ms/step - loss: 0.4421 - accuracy: 0.8156 - val_loss: 0.4701 - val_accuracy: 0.7795\n",
      "Epoch 3/5\n",
      "215/215 [==============================] - 1s 6ms/step - loss: 0.3469 - accuracy: 0.8609 - val_loss: 0.4568 - val_accuracy: 0.7874\n",
      "Epoch 4/5\n",
      "215/215 [==============================] - 2s 9ms/step - loss: 0.2836 - accuracy: 0.8902 - val_loss: 0.4620 - val_accuracy: 0.7835\n",
      "Epoch 5/5\n",
      "215/215 [==============================] - 1s 5ms/step - loss: 0.2377 - accuracy: 0.9121 - val_loss: 0.4840 - val_accuracy: 0.7848\n"
     ]
    }
   ],
   "source": [
    "# Compile model\n",
    "model_1.compile(loss=\"binary_crossentropy\",\n",
    "                optimizer=tf.keras.optimizers.Adam(),\n",
    "                metrics=[\"accuracy\"])\n",
    "\n",
    "# Fit the model\n",
    "history_1 = model_1.fit(train_sentences,\n",
    "                        train_labels,\n",
    "                        epochs=5,\n",
    "                        validation_data=(val_sentences, val_labels),\n",
    "                        callbacks=[create_tensorboard_callback(dir_name=SAVE_DIR,\n",
    "                                                               experiment_name=\"model_1_dense\")])"
   ],
   "metadata": {
    "collapsed": false,
    "ExecuteTime": {
     "end_time": "2024-04-25T05:18:51.955418172Z",
     "start_time": "2024-04-25T05:18:37.356144259Z"
    }
   },
   "id": "a34623962e038497",
   "execution_count": 37
  },
  {
   "cell_type": "code",
   "outputs": [
    {
     "name": "stdout",
     "output_type": "stream",
     "text": [
      "24/24 [==============================] - 0s 2ms/step - loss: 0.4840 - accuracy: 0.7848\n"
     ]
    },
    {
     "data": {
      "text/plain": "[0.4839674234390259, 0.7847769260406494]"
     },
     "execution_count": 38,
     "metadata": {},
     "output_type": "execute_result"
    }
   ],
   "source": [
    "# Evaluate model 1\n",
    "model_1.evaluate(val_sentences, val_labels)"
   ],
   "metadata": {
    "collapsed": false,
    "ExecuteTime": {
     "end_time": "2024-04-25T05:18:52.072624690Z",
     "start_time": "2024-04-25T05:18:51.956508756Z"
    }
   },
   "id": "b01595cecb296007",
   "execution_count": 38
  },
  {
   "cell_type": "code",
   "outputs": [
    {
     "name": "stdout",
     "output_type": "stream",
     "text": [
      "24/24 [==============================] - 0s 2ms/step\n"
     ]
    },
    {
     "data": {
      "text/plain": "array([[0.30211535],\n       [0.81263053],\n       [0.99793977],\n       [0.14240497],\n       [0.10003319],\n       [0.9369116 ],\n       [0.9163297 ],\n       [0.99439126],\n       [0.95919824],\n       [0.30103454]], dtype=float32)"
     },
     "execution_count": 39,
     "metadata": {},
     "output_type": "execute_result"
    }
   ],
   "source": [
    "# Look at the first 10 predictions\n",
    "model_1_pred_probs = model_1.predict(val_sentences)\n",
    "model_1_pred_probs[:10]"
   ],
   "metadata": {
    "collapsed": false,
    "ExecuteTime": {
     "end_time": "2024-04-25T05:18:52.268006335Z",
     "start_time": "2024-04-25T05:18:52.071153506Z"
    }
   },
   "id": "367413fb65f0e20d",
   "execution_count": 39
  },
  {
   "cell_type": "code",
   "outputs": [
    {
     "data": {
      "text/plain": "<tf.Tensor: shape=(20,), dtype=float32, numpy=\narray([0., 1., 1., 0., 0., 1., 1., 1., 1., 0., 0., 1., 0., 0., 0., 0., 0.,\n       0., 0., 0.], dtype=float32)>"
     },
     "execution_count": 40,
     "metadata": {},
     "output_type": "execute_result"
    }
   ],
   "source": [
    "# Convert model prediction\n",
    "model_1_preds = tf.squeeze(tf.round(model_1_pred_probs))\n",
    "model_1_preds[:20]"
   ],
   "metadata": {
    "collapsed": false,
    "ExecuteTime": {
     "end_time": "2024-04-25T05:18:52.323157554Z",
     "start_time": "2024-04-25T05:18:52.258766583Z"
    }
   },
   "id": "a71c327710295aee",
   "execution_count": 40
  },
  {
   "cell_type": "code",
   "outputs": [
    {
     "data": {
      "text/plain": "{'accuracy': 78.4776902887139,\n 'precision': 0.7904782347685264,\n 'recall': 0.7847769028871391,\n 'f1': 0.7814477888250547}"
     },
     "execution_count": 41,
     "metadata": {},
     "output_type": "execute_result"
    }
   ],
   "source": [
    "# Caluclate our model_1 results\n",
    "model_1_results = evaluate_classification_metrics(y_true=val_labels,\n",
    "                                                  y_pred=model_1_preds)\n",
    "model_1_results"
   ],
   "metadata": {
    "collapsed": false,
    "ExecuteTime": {
     "end_time": "2024-04-25T05:18:52.372447675Z",
     "start_time": "2024-04-25T05:18:52.324975304Z"
    }
   },
   "id": "a782f9033b583334",
   "execution_count": 41
  },
  {
   "cell_type": "code",
   "outputs": [
    {
     "data": {
      "text/plain": "array([False, False, False, False])"
     },
     "execution_count": 42,
     "metadata": {},
     "output_type": "execute_result"
    }
   ],
   "source": [
    "np.array(list(model_1_results.values())) > np.array(list(baseline_results.values()))"
   ],
   "metadata": {
    "collapsed": false,
    "ExecuteTime": {
     "end_time": "2024-04-25T05:18:52.375140079Z",
     "start_time": "2024-04-25T05:18:52.367656950Z"
    }
   },
   "id": "9b0eb497929e500a",
   "execution_count": 42
  },
  {
   "cell_type": "markdown",
   "source": [
    "Nous n'avons donc pas de meilleurs résultats avec model_1 comparé à model_0"
   ],
   "metadata": {
    "collapsed": false
   },
   "id": "6c66324dd91cf3fa"
  },
  {
   "cell_type": "markdown",
   "source": [
    "Video N°236: Visualising our model's learned word embeddings with TensorFlow's projector tool"
   ],
   "metadata": {
    "collapsed": false
   },
   "id": "89d57375dca9de72"
  },
  {
   "cell_type": "markdown",
   "source": [
    "### Visualizing learned embeddings\n",
    "\n",
    "To further understand word embeddings, let's visualize them, to do so, we'll get the weights matrix (embedding matrix) from our embedding layer and visualize it using the Embedding project tool, see the TensorFlow guide for more: https://www.tensorflow.org/tutorials/text/word_embeddings"
   ],
   "metadata": {
    "collapsed": false
   },
   "id": "4063743e80fe09f9"
  },
  {
   "cell_type": "code",
   "outputs": [
    {
     "data": {
      "text/plain": "(10000, ['', '[UNK]', 'the', 'a', 'in', 'to', 'of', 'and', 'i', 'is'])"
     },
     "execution_count": 43,
     "metadata": {},
     "output_type": "execute_result"
    }
   ],
   "source": [
    "# Get the vocabulary from the text vectorization layer\n",
    "words_in_vocab = text_vectorizer.get_vocabulary()\n",
    "len(words_in_vocab), words_in_vocab[:10]"
   ],
   "metadata": {
    "collapsed": false,
    "ExecuteTime": {
     "end_time": "2024-04-25T05:18:52.385729375Z",
     "start_time": "2024-04-25T05:18:52.368451373Z"
    }
   },
   "id": "9ff40e4b67bcc70e",
   "execution_count": 43
  },
  {
   "cell_type": "code",
   "outputs": [
    {
     "data": {
      "text/plain": "10000"
     },
     "execution_count": 44,
     "metadata": {},
     "output_type": "execute_result"
    }
   ],
   "source": [
    "len(words_in_vocab)"
   ],
   "metadata": {
    "collapsed": false,
    "ExecuteTime": {
     "end_time": "2024-04-25T05:18:52.400318318Z",
     "start_time": "2024-04-25T05:18:52.373660179Z"
    }
   },
   "id": "12fddbef57b5a99f",
   "execution_count": 44
  },
  {
   "cell_type": "code",
   "outputs": [
    {
     "data": {
      "text/plain": "10000"
     },
     "execution_count": 45,
     "metadata": {},
     "output_type": "execute_result"
    }
   ],
   "source": [
    "max_vocab_length"
   ],
   "metadata": {
    "collapsed": false,
    "ExecuteTime": {
     "end_time": "2024-04-25T05:18:52.484649959Z",
     "start_time": "2024-04-25T05:18:52.378003547Z"
    }
   },
   "id": "a673c94114a8560c",
   "execution_count": 45
  },
  {
   "cell_type": "code",
   "outputs": [
    {
     "name": "stdout",
     "output_type": "stream",
     "text": [
      "Model: \"model_1_dense\"\n",
      "_________________________________________________________________\n",
      " Layer (type)                Output Shape              Param #   \n",
      "=================================================================\n",
      " input_1 (InputLayer)        [(None, 1)]               0         \n",
      "                                                                 \n",
      " text_vectorization_1 (Text  (None, 15)                0         \n",
      " Vectorization)                                                  \n",
      "                                                                 \n",
      " embedding (Embedding)       (None, 15, 128)           1280000   \n",
      "                                                                 \n",
      " global_average_pooling1d (  (None, 128)               0         \n",
      " GlobalAveragePooling1D)                                         \n",
      "                                                                 \n",
      " dense (Dense)               (None, 1)                 129       \n",
      "                                                                 \n",
      "=================================================================\n",
      "Total params: 1280129 (4.88 MB)\n",
      "Trainable params: 1280129 (4.88 MB)\n",
      "Non-trainable params: 0 (0.00 Byte)\n",
      "_________________________________________________________________\n"
     ]
    }
   ],
   "source": [
    "# Model 1 summary\n",
    "model_1.summary()"
   ],
   "metadata": {
    "collapsed": false,
    "ExecuteTime": {
     "end_time": "2024-04-25T05:18:52.488349258Z",
     "start_time": "2024-04-25T05:18:52.419106927Z"
    }
   },
   "id": "6ce2d1c8b6e6fbe8",
   "execution_count": 46
  },
  {
   "cell_type": "code",
   "outputs": [
    {
     "name": "stdout",
     "output_type": "stream",
     "text": [
      "(10000, 128)\n"
     ]
    }
   ],
   "source": [
    "# Get the weight matrix of embedding layer\n",
    "# (these are the numerical representations of each token in our training data, which have been learned for 5 epochs)\n",
    "embed_weights = model_1.get_layer(\"embedding\").get_weights()[0]\n",
    "print(embed_weights.shape) # same size as vocab size and embedding_dim (output_dim of our embedding layer)"
   ],
   "metadata": {
    "collapsed": false,
    "ExecuteTime": {
     "end_time": "2024-04-25T05:18:52.497529768Z",
     "start_time": "2024-04-25T05:18:52.419771164Z"
    }
   },
   "id": "b35772353fac8bf2",
   "execution_count": 47
  },
  {
   "cell_type": "markdown",
   "source": [
    "Now we've got the embedding matrix our model has learned to represent our tokens, let's see how we can visualize it.\n",
    "\n",
    "To do so, TensorFlow has a handy tool called projector: [https://projector.tensorflow.org/](https://projector.tensorflow.org/)\n",
    "\n",
    "And TensorFlow also has an incredible guide on word embeddings themselves: [https://www.tensorflow.org/text/guide/word_embeddings](https://www.tensorflow.org/text/guide/word_embeddings)"
   ],
   "metadata": {
    "collapsed": false
   },
   "id": "ddba71ea33ebbc85"
  },
  {
   "cell_type": "code",
   "outputs": [],
   "source": [
    "# Create embedding files (we got this from TensorFlow's word embedding documentation)\n",
    "import io\n",
    "out_v = io.open('vectors.tsv', 'w', encoding='utf-8')\n",
    "out_m = io.open('metadata.tsv', 'w', encoding='utf-8')\n",
    "\n",
    "for index, word in enumerate(words_in_vocab):\n",
    "  if index == 0:\n",
    "    continue  # skip 0, it's padding.\n",
    "  vec = embed_weights[index]\n",
    "  out_v.write('\\t'.join([str(x) for x in vec]) + \"\\n\")\n",
    "  out_m.write(word + \"\\n\")\n",
    "out_v.close()\n",
    "out_m.close()"
   ],
   "metadata": {
    "collapsed": false,
    "ExecuteTime": {
     "end_time": "2024-04-25T05:18:52.994496643Z",
     "start_time": "2024-04-25T05:18:52.420089496Z"
    }
   },
   "id": "617b08c60c93aca8",
   "execution_count": 48
  },
  {
   "cell_type": "markdown",
   "source": [
    "If you are running this tutorial in Colaboratory, you can use the following snippet to download these files to your local machine (or use the file browser, View -> Table of contents -> File browser).\n",
    "```python\n",
    "# Download files from Colab to upload projector\n",
    "try:\n",
    "  from google.colab import files\n",
    "  files.download('vectors.tsv')\n",
    "  files.download('metadata.tsv')\n",
    "except Exception:\n",
    "  pass\n",
    "```"
   ],
   "metadata": {
    "collapsed": false
   },
   "id": "7fb9b51ae251709c"
  },
  {
   "cell_type": "markdown",
   "source": [
    "Our visual word embeddings might not look like much to us, but they help our model understand the relationships between words.\n",
    "\n",
    "For more on a popular type of word embedding and more visual explanations check out the illustrated word2vec: [https://jalammar.github.io/illustrated-word2vec/](https://jalammar.github.io/illustrated-word2vec/)"
   ],
   "metadata": {
    "collapsed": false
   },
   "id": "77603eaf4b309be9"
  },
  {
   "cell_type": "markdown",
   "source": [
    "Video N°237: High-level overview of Recurrent Networks (RNNs) + where to learn more"
   ],
   "metadata": {
    "collapsed": false
   },
   "id": "e92e76eacd017a41"
  },
  {
   "cell_type": "markdown",
   "source": [
    "## Recurrent Neural Networks (RNN's)\n",
    "\n",
    "RNN's are useful for sequence data.\n",
    "\n",
    "The premise of a recurrent neural network is to use the representation of a previous input to aid the representation of a later input.\n",
    "\n",
    "**Resources:** If you want an overview of the internals of a recurrent neural network, see the following:\n",
    "- MIT's sequence modelling lecture [https://www.youtube.com/watch?v=qjrad0V0uJE](https://www.youtube.com/watch?v=qjrad0V0uJE)\n",
    "- Chris Olah's intro to LSTMs: [https://colah.github.io/posts/2015-08-Understanding-LSTMs/](https://colah.github.io/posts/2015-08-Understanding-LSTMs/)\n",
    "- Andrej Karpathy's the unreasonable effectiveness of recurrent neural networks: [https://karpathy.github.io/2015/05/21/rnn-effectiveness/](https://karpathy.github.io/2015/05/21/rnn-effectiveness/)"
   ],
   "metadata": {
    "collapsed": false
   },
   "id": "61ceae431627f8e3"
  },
  {
   "cell_type": "markdown",
   "source": [
    "Video N°238: Model 2: Building, fitting and evaluating our first TensorFlow RNN model (LSTM)"
   ],
   "metadata": {
    "collapsed": false
   },
   "id": "ce04b6bb81edb89b"
  },
  {
   "cell_type": "markdown",
   "source": [
    "### Model 2:LSTM\n",
    "\n",
    "LSTM = long short term memory (one of the most popular LSTM cells)\n",
    "\n",
    "Our structure of an RNN typically looks like this:\n",
    "```\n",
    "Input (text) -> Tokenize -> Embedding -> Layers (RNN/dense) -> Output (label probability)\n",
    "```"
   ],
   "metadata": {
    "collapsed": false
   },
   "id": "81b46492d70475f8"
  },
  {
   "cell_type": "code",
   "outputs": [
    {
     "name": "stdout",
     "output_type": "stream",
     "text": [
      "input: A 3D tensor with shape [batch, timesteps, feature]\n",
      "After embedding: (None, 15, 128)\n",
      "x: A 2D tensor with shape [batch, features]\n",
      "After LSTM cell: (None, 64)\n"
     ]
    }
   ],
   "source": [
    "# Create an LSTM model\n",
    "inputs = layers.Input(shape=(1,), dtype=\"string\")\n",
    "print(f\"input: A 3D tensor with shape [batch, timesteps, feature]\")\n",
    "x = text_vectorizer(inputs)\n",
    "x = embedding(x)\n",
    "print(f\"After embedding: {x.shape}\")\n",
    "#x = layers.LSTM(units=64, return_sequences=True)(x) # when you're stacking RNN cells together, you need to return_sequences=True\n",
    "#print(x.shape)\n",
    "\n",
    "x = layers.LSTM(units=64)(x)\n",
    "print(f\"x: A 2D tensor with shape [batch, features]\")\n",
    "print(f\"After LSTM cell: {x.shape}\")\n",
    "#x = layers.Dense(units=64, activation=\"relu\")(x)\n",
    "#print(f\"After Dense layer: {x.shape}\")\n",
    "\n",
    "\n",
    "outputs = layers.Dense(1, activation=\"sigmoid\")(x)#binary data -> sigmoid\n",
    "model_2 = tf.keras.Model(inputs, outputs, name=\"model_2_LSTM\")"
   ],
   "metadata": {
    "collapsed": false,
    "ExecuteTime": {
     "end_time": "2024-04-25T06:40:54.514875942Z",
     "start_time": "2024-04-25T06:40:54.315960719Z"
    }
   },
   "id": "be08af02df67153e",
   "execution_count": 63
  },
  {
   "cell_type": "markdown",
   "source": [
    "**Resource:** [https://ml-cheatsheet.readthedocs.io/en/latest/activation_functions.html#tanh](https://ml-cheatsheet.readthedocs.io/en/latest/activation_functions.html#tanh)"
   ],
   "metadata": {
    "collapsed": false
   },
   "id": "1386ca53751fcf43"
  },
  {
   "cell_type": "code",
   "outputs": [
    {
     "name": "stdout",
     "output_type": "stream",
     "text": [
      "Model: \"model_2_LSTM\"\n",
      "_________________________________________________________________\n",
      " Layer (type)                Output Shape              Param #   \n",
      "=================================================================\n",
      " input_7 (InputLayer)        [(None, 1)]               0         \n",
      "                                                                 \n",
      " text_vectorization_1 (Text  (None, 15)                0         \n",
      " Vectorization)                                                  \n",
      "                                                                 \n",
      " embedding (Embedding)       (None, 15, 128)           1280000   \n",
      "                                                                 \n",
      " lstm_8 (LSTM)               (None, 64)                49408     \n",
      "                                                                 \n",
      " dense_8 (Dense)             (None, 1)                 65        \n",
      "                                                                 \n",
      "=================================================================\n",
      "Total params: 1329473 (5.07 MB)\n",
      "Trainable params: 1329473 (5.07 MB)\n",
      "Non-trainable params: 0 (0.00 Byte)\n",
      "_________________________________________________________________\n"
     ]
    }
   ],
   "source": [
    "# Get a summary\n",
    "model_2.summary()"
   ],
   "metadata": {
    "collapsed": false,
    "ExecuteTime": {
     "end_time": "2024-04-25T06:40:55.716369065Z",
     "start_time": "2024-04-25T06:40:55.667513153Z"
    }
   },
   "id": "76c6cd7074a37e80",
   "execution_count": 64
  },
  {
   "cell_type": "code",
   "outputs": [],
   "source": [
    "# Compile the model\n",
    "model_2.compile(loss=\"binary_crossentropy\",\n",
    "                optimizer=tf.keras.optimizers.Adam(),\n",
    "                metrics=[\"accuracy\"])"
   ],
   "metadata": {
    "collapsed": false,
    "ExecuteTime": {
     "end_time": "2024-04-25T06:41:00.030959414Z",
     "start_time": "2024-04-25T06:40:59.990532735Z"
    }
   },
   "id": "327381b7b9bf6013",
   "execution_count": 65
  },
  {
   "cell_type": "code",
   "outputs": [
    {
     "name": "stdout",
     "output_type": "stream",
     "text": [
      "Saving TensorBoard log files to: model_logs/Model_2_LSTM/20240425-084100\n",
      "Epoch 1/5\n",
      "215/215 [==============================] - 9s 36ms/step - loss: 0.2228 - accuracy: 0.9223 - val_loss: 0.5823 - val_accuracy: 0.7848\n",
      "Epoch 2/5\n",
      "215/215 [==============================] - 2s 9ms/step - loss: 0.1541 - accuracy: 0.9439 - val_loss: 0.6515 - val_accuracy: 0.7861\n",
      "Epoch 3/5\n",
      "215/215 [==============================] - 2s 9ms/step - loss: 0.1278 - accuracy: 0.9511 - val_loss: 0.6535 - val_accuracy: 0.7874\n",
      "Epoch 4/5\n",
      "215/215 [==============================] - 2s 8ms/step - loss: 0.1033 - accuracy: 0.9618 - val_loss: 0.7478 - val_accuracy: 0.7808\n",
      "Epoch 5/5\n",
      "215/215 [==============================] - 2s 8ms/step - loss: 0.0864 - accuracy: 0.9673 - val_loss: 0.9948 - val_accuracy: 0.7769\n"
     ]
    }
   ],
   "source": [
    "# Fit the model\n",
    "history_2 = model_2.fit(train_sentences,\n",
    "                        train_labels,\n",
    "                        epochs=5,\n",
    "                        validation_data=(val_sentences, val_labels),\n",
    "                        callbacks=[create_tensorboard_callback(dir_name=SAVE_DIR,\n",
    "                                                               experiment_name=\"Model_2_LSTM\")])"
   ],
   "metadata": {
    "collapsed": false,
    "ExecuteTime": {
     "end_time": "2024-04-25T06:41:16.763849711Z",
     "start_time": "2024-04-25T06:41:00.376656496Z"
    }
   },
   "id": "6fb0aad742f03d53",
   "execution_count": 66
  },
  {
   "cell_type": "code",
   "outputs": [
    {
     "name": "stdout",
     "output_type": "stream",
     "text": [
      "24/24 [==============================] - 0s 2ms/step\n"
     ]
    },
    {
     "data": {
      "text/plain": "array([[2.2915702e-03],\n       [9.1071284e-01],\n       [9.9974161e-01],\n       [3.1918209e-02],\n       [3.2051542e-04],\n       [9.9545503e-01],\n       [7.8616792e-01],\n       [9.9978596e-01],\n       [9.9962962e-01],\n       [4.7671857e-01]], dtype=float32)"
     },
     "execution_count": 67,
     "metadata": {},
     "output_type": "execute_result"
    }
   ],
   "source": [
    "# Make predictions with LSTM model\n",
    "model_2_pred_probs = model_2.predict(val_sentences)\n",
    "model_2_pred_probs[:10]"
   ],
   "metadata": {
    "collapsed": false,
    "ExecuteTime": {
     "end_time": "2024-04-25T06:43:12.078515274Z",
     "start_time": "2024-04-25T06:43:11.713574588Z"
    }
   },
   "id": "dbae23cd905a236d",
   "execution_count": 67
  },
  {
   "cell_type": "code",
   "outputs": [
    {
     "data": {
      "text/plain": "<tf.Tensor: shape=(10,), dtype=float32, numpy=array([0., 1., 1., 0., 0., 1., 1., 1., 1., 0.], dtype=float32)>"
     },
     "execution_count": 69,
     "metadata": {},
     "output_type": "execute_result"
    }
   ],
   "source": [
    "# Convert model 2 pred probs to labels\n",
    "model_2_preds = tf.squeeze(tf.round(model_2_pred_probs))\n",
    "model_2_preds[:10]"
   ],
   "metadata": {
    "collapsed": false,
    "ExecuteTime": {
     "end_time": "2024-04-25T06:44:59.594118395Z",
     "start_time": "2024-04-25T06:44:59.546896954Z"
    }
   },
   "id": "86c9e5f1d1b755fb",
   "execution_count": 69
  },
  {
   "cell_type": "code",
   "outputs": [
    {
     "data": {
      "text/plain": "{'accuracy': 77.69028871391076,\n 'precision': 0.7798819103655997,\n 'recall': 0.7769028871391076,\n 'f1': 0.7743498017353971}"
     },
     "execution_count": 70,
     "metadata": {},
     "output_type": "execute_result"
    }
   ],
   "source": [
    "# Calculate model 2 results\n",
    "model_2_results = evaluate_classification_metrics(y_true=val_labels,\n",
    "                                                  y_pred=model_2_preds)\n",
    "model_2_results"
   ],
   "metadata": {
    "collapsed": false,
    "ExecuteTime": {
     "end_time": "2024-04-25T06:46:56.881958161Z",
     "start_time": "2024-04-25T06:46:56.838010336Z"
    }
   },
   "id": "691eb52607e22a0a",
   "execution_count": 70
  },
  {
   "cell_type": "code",
   "outputs": [
    {
     "data": {
      "text/plain": "{'accuracy': 79.26509186351706,\n 'precision': 0.8111390004213173,\n 'recall': 0.7926509186351706,\n 'f1': 0.7862189758049549}"
     },
     "execution_count": 71,
     "metadata": {},
     "output_type": "execute_result"
    }
   ],
   "source": [
    "baseline_results"
   ],
   "metadata": {
    "collapsed": false,
    "ExecuteTime": {
     "end_time": "2024-04-25T06:47:38.088352363Z",
     "start_time": "2024-04-25T06:47:38.035200701Z"
    }
   },
   "id": "560925d002849b90",
   "execution_count": 71
  },
  {
   "cell_type": "code",
   "outputs": [
    {
     "data": {
      "text/plain": "array([False, False, False, False])"
     },
     "execution_count": 72,
     "metadata": {},
     "output_type": "execute_result"
    }
   ],
   "source": [
    "np.array(list(model_2_results.values())) > np.array(list(baseline_results.values()))"
   ],
   "metadata": {
    "collapsed": false,
    "ExecuteTime": {
     "end_time": "2024-04-25T06:47:52.127053505Z",
     "start_time": "2024-04-25T06:47:52.046735807Z"
    }
   },
   "id": "ed210071d70900ca",
   "execution_count": 72
  },
  {
   "cell_type": "markdown",
   "source": [
    "Nous n'avons donc pas de meilleurs résultats avec model_2 comparé à model_0"
   ],
   "metadata": {
    "collapsed": false
   },
   "id": "974911b15c11f253"
  },
  {
   "cell_type": "markdown",
   "source": [
    "Video N°239: Model 3: Building, fitting and evaluating our first TensorFlow RNN model(LSTM)"
   ],
   "metadata": {
    "collapsed": false
   },
   "id": "9076609366fc2ac7"
  },
  {
   "cell_type": "markdown",
   "source": [
    "### Model 3: GRU\n",
    "\n",
    "Another popular and effective RNN component is the GRU or 'gated recurrent unit'.\n",
    "\n",
    "The GRU cell has similar features to an LSTM cell but has less parameters.\n"
   ],
   "metadata": {
    "collapsed": false
   },
   "id": "7dd9581cbfbe168a"
  },
  {
   "cell_type": "code",
   "outputs": [
    {
     "name": "stdout",
     "output_type": "stream",
     "text": [
      "input: A 3D tensor with shape [batch, timesteps, feature]\n",
      "After embedding: (None, 15, 128)\n",
      "After GRU 64 layer: (None, 64)\n",
      "After Dense 1 layer: (None, 64)\n"
     ]
    }
   ],
   "source": [
    "# Build an RNN using the GRU cell\n",
    "inputs = layers.Input(shape=(1,), dtype=tf.string)\n",
    "print(f\"input: A 3D tensor with shape [batch, timesteps, feature]\")\n",
    "x = text_vectorizer(inputs)\n",
    "x = embedding(x)\n",
    "print(f\"After embedding: {x.shape}\")\n",
    "\n",
    "x = layers.GRU(units=64)(x)\n",
    "print(f\"After GRU 64 layer: {x.shape}\")\n",
    "\n",
    "#x = layers.GRU(units=64, return_sequences=True)(x) # if you want to stack recurrent layers on top of each other, you need return_sequences=True\n",
    "#print(f\"After GRU 64 layer: {x.shape}\")\n",
    "\n",
    "#x = layers.LSTM(units=64, return_sequences=True)(x)\n",
    "#print(f\"Ater LSTM 64 layer: {x.shape}\")\n",
    "\n",
    "# x = layers.GRU(units=64)(x)\n",
    "# print(f\"After GRU 64 layer: {x.shape}\")\n",
    "\n",
    "#x = layers.Dense(units=64, activation=\"relu\")(x)\n",
    "#print(f\"After Dense 64 layer: {x.shape}\")\n",
    "\n",
    "outputs = layers.Dense(1, activation=\"sigmoid\")(x)\n",
    "print(f\"After Dense 1 layer: {x.shape}\")\n",
    "model_3 = tf.keras.Model(inputs, outputs, name=\"model_3_GRU\")"
   ],
   "metadata": {
    "collapsed": false,
    "ExecuteTime": {
     "end_time": "2024-04-25T07:25:48.997558089Z",
     "start_time": "2024-04-25T07:25:48.804776323Z"
    }
   },
   "id": "9dc10e654bd40e5f",
   "execution_count": 78
  },
  {
   "cell_type": "code",
   "outputs": [
    {
     "name": "stdout",
     "output_type": "stream",
     "text": [
      "Model: \"model_3_GRU\"\n",
      "_________________________________________________________________\n",
      " Layer (type)                Output Shape              Param #   \n",
      "=================================================================\n",
      " input_12 (InputLayer)       [(None, 1)]               0         \n",
      "                                                                 \n",
      " text_vectorization_1 (Text  (None, 15)                0         \n",
      " Vectorization)                                                  \n",
      "                                                                 \n",
      " embedding (Embedding)       (None, 15, 128)           1280000   \n",
      "                                                                 \n",
      " gru_5 (GRU)                 (None, 64)                37248     \n",
      "                                                                 \n",
      " dense_12 (Dense)            (None, 1)                 65        \n",
      "                                                                 \n",
      "=================================================================\n",
      "Total params: 1317313 (5.03 MB)\n",
      "Trainable params: 1317313 (5.03 MB)\n",
      "Non-trainable params: 0 (0.00 Byte)\n",
      "_________________________________________________________________\n"
     ]
    }
   ],
   "source": [
    "model_3.summary()"
   ],
   "metadata": {
    "collapsed": false,
    "ExecuteTime": {
     "end_time": "2024-04-25T07:25:49.932861762Z",
     "start_time": "2024-04-25T07:25:49.852556759Z"
    }
   },
   "id": "ee85ed6b9d0bcf12",
   "execution_count": 79
  },
  {
   "cell_type": "code",
   "outputs": [],
   "source": [
    "# Compile the model\n",
    "model_3.compile(loss=\"binary_crossentropy\",\n",
    "                optimizer=tf.keras.optimizers.Adam(),\n",
    "                metrics=[\"accuracy\"])"
   ],
   "metadata": {
    "collapsed": false,
    "ExecuteTime": {
     "end_time": "2024-04-25T07:28:08.491463120Z",
     "start_time": "2024-04-25T07:28:08.423453157Z"
    }
   },
   "id": "e059fc051c579368",
   "execution_count": 80
  },
  {
   "cell_type": "code",
   "outputs": [
    {
     "name": "stdout",
     "output_type": "stream",
     "text": [
      "Saving TensorBoard log files to: model_logs/model_3_GRU/20240425-093013\n",
      "Epoch 1/5\n",
      "215/215 [==============================] - 8s 29ms/step - loss: 0.1602 - accuracy: 0.9378 - val_loss: 0.7030 - val_accuracy: 0.7743\n",
      "Epoch 2/5\n",
      "215/215 [==============================] - 3s 12ms/step - loss: 0.0806 - accuracy: 0.9698 - val_loss: 0.8951 - val_accuracy: 0.7756\n",
      "Epoch 3/5\n",
      "215/215 [==============================] - 2s 8ms/step - loss: 0.0691 - accuracy: 0.9742 - val_loss: 1.1263 - val_accuracy: 0.7717\n",
      "Epoch 4/5\n",
      "215/215 [==============================] - 1s 6ms/step - loss: 0.0571 - accuracy: 0.9756 - val_loss: 0.9133 - val_accuracy: 0.7638\n",
      "Epoch 5/5\n",
      "215/215 [==============================] - 2s 7ms/step - loss: 0.0525 - accuracy: 0.9774 - val_loss: 1.1386 - val_accuracy: 0.7664\n"
     ]
    }
   ],
   "source": [
    "# Fit the model\n",
    "model_3_history = model_3.fit(x=train_sentences,\n",
    "                              y=train_labels,\n",
    "                              epochs=5,\n",
    "                              validation_data=(val_sentences, val_labels),\n",
    "                              callbacks=[create_tensorboard_callback(dir_name=SAVE_DIR,\n",
    "                                                                     experiment_name=\"model_3_GRU\")])"
   ],
   "metadata": {
    "collapsed": false,
    "ExecuteTime": {
     "end_time": "2024-04-25T07:30:28.183665886Z",
     "start_time": "2024-04-25T07:30:13.079342413Z"
    }
   },
   "id": "f71662d1db2bc43",
   "execution_count": 81
  },
  {
   "cell_type": "code",
   "outputs": [
    {
     "name": "stdout",
     "output_type": "stream",
     "text": [
      "24/24 [==============================] - 0s 2ms/step\n"
     ]
    },
    {
     "data": {
      "text/plain": "array([[5.8805733e-04],\n       [8.5248351e-01],\n       [9.9977404e-01],\n       [7.9319023e-02],\n       [7.4843869e-05],\n       [9.9663627e-01],\n       [4.0089709e-01],\n       [9.9990082e-01],\n       [9.9984097e-01],\n       [5.2246863e-01]], dtype=float32)"
     },
     "execution_count": 82,
     "metadata": {},
     "output_type": "execute_result"
    }
   ],
   "source": [
    "# Make some predictions with our GRU model\n",
    "model_3_pred_probs = model_3.predict(val_sentences)\n",
    "model_3_pred_probs[:10]"
   ],
   "metadata": {
    "collapsed": false,
    "ExecuteTime": {
     "end_time": "2024-04-25T07:32:07.058804708Z",
     "start_time": "2024-04-25T07:32:06.684177674Z"
    }
   },
   "id": "70cf70a7e90c37f1",
   "execution_count": 82
  },
  {
   "cell_type": "code",
   "outputs": [
    {
     "data": {
      "text/plain": "<tf.Tensor: shape=(10,), dtype=float32, numpy=array([0., 1., 1., 0., 0., 1., 0., 1., 1., 1.], dtype=float32)>"
     },
     "execution_count": 85,
     "metadata": {},
     "output_type": "execute_result"
    }
   ],
   "source": [
    "# Convert model 3 pred probs to labels\n",
    "model_3_preds = tf.squeeze(tf.round(model_3_pred_probs))\n",
    "model_3_preds[:10]"
   ],
   "metadata": {
    "collapsed": false,
    "ExecuteTime": {
     "end_time": "2024-04-25T07:34:14.785547149Z",
     "start_time": "2024-04-25T07:34:14.719802080Z"
    }
   },
   "id": "41d38f0568aa6230",
   "execution_count": 85
  },
  {
   "cell_type": "code",
   "outputs": [
    {
     "data": {
      "text/plain": "{'accuracy': 76.64041994750657,\n 'precision': 0.771218657508237,\n 'recall': 0.7664041994750657,\n 'f1': 0.7627908927491446}"
     },
     "execution_count": 86,
     "metadata": {},
     "output_type": "execute_result"
    }
   ],
   "source": [
    "# Calculate model 3 results\n",
    "model_3_results = evaluate_classification_metrics(y_true=val_labels,\n",
    "                                                  y_pred=model_3_preds)\n",
    "model_3_results"
   ],
   "metadata": {
    "collapsed": false,
    "ExecuteTime": {
     "end_time": "2024-04-25T07:35:14.731258865Z",
     "start_time": "2024-04-25T07:35:14.684836124Z"
    }
   },
   "id": "2b218d4abdc5acb8",
   "execution_count": 86
  },
  {
   "cell_type": "code",
   "outputs": [
    {
     "data": {
      "text/plain": "array([False, False, False, False])"
     },
     "execution_count": 87,
     "metadata": {},
     "output_type": "execute_result"
    }
   ],
   "source": [
    "np.array(list(model_3_results.values())) > np.array(list(baseline_results.values()))"
   ],
   "metadata": {
    "collapsed": false,
    "ExecuteTime": {
     "end_time": "2024-04-25T07:35:33.495278978Z",
     "start_time": "2024-04-25T07:35:33.442667299Z"
    }
   },
   "id": "30b68958264bdc56",
   "execution_count": 87
  },
  {
   "cell_type": "markdown",
   "source": [
    "Nous n'avons donc pas de meilleurs résultats avec model_3 comparé à model_0"
   ],
   "metadata": {
    "collapsed": false
   },
   "id": "a3836bd9af38a8ae"
  },
  {
   "cell_type": "markdown",
   "source": [
    "Video N°240: Model 4: Building, fitting and evaluating a bidirectional RNN model"
   ],
   "metadata": {
    "collapsed": false
   },
   "id": "e477fe396f30a387"
  },
  {
   "cell_type": "markdown",
   "source": [
    "### Model 4: Bidirectional RNN\n",
    "\n",
    "Normal RNN's go from left to right (just like you'd read an English sentence) however, a bidirectional RNN goes from right to left as well as left to right."
   ],
   "metadata": {
    "collapsed": false
   },
   "id": "d818c905600092bf"
  },
  {
   "cell_type": "code",
   "outputs": [
    {
     "name": "stdout",
     "output_type": "stream",
     "text": [
      "64 neurons give 128 parameters because they are bidirectional: (None, 128)\n"
     ]
    }
   ],
   "source": [
    "# Building a bidirectional RNN in TensorFlow\n",
    "inputs = layers.Input(shape=(1,), dtype=tf.string)\n",
    "x = text_vectorizer(inputs)\n",
    "x = embedding(x)\n",
    "#x = layers.Bidirectional(layer=layers.LSTM(units=64, return_sequences=True))(x)\n",
    "x = layers.Bidirectional(layer=layers.LSTM(units=64))(x)\n",
    "print(f\"64 neurons give 128 parameters because they are bidirectional: {x.shape}\")\n",
    "outputs = layers.Dense(units=1, activation=\"sigmoid\")(x)\n",
    "model_4 = tf.keras.Model(inputs, outputs, name=\"model_4_bidirectional\")"
   ],
   "metadata": {
    "collapsed": false,
    "ExecuteTime": {
     "end_time": "2024-04-25T08:09:59.136298180Z",
     "start_time": "2024-04-25T08:09:58.798568648Z"
    }
   },
   "id": "98c1666dd605fe22",
   "execution_count": 92
  },
  {
   "cell_type": "code",
   "outputs": [
    {
     "name": "stdout",
     "output_type": "stream",
     "text": [
      "Model: \"model_4_bidirectional\"\n",
      "_________________________________________________________________\n",
      " Layer (type)                Output Shape              Param #   \n",
      "=================================================================\n",
      " input_15 (InputLayer)       [(None, 1)]               0         \n",
      "                                                                 \n",
      " text_vectorization_1 (Text  (None, 15)                0         \n",
      " Vectorization)                                                  \n",
      "                                                                 \n",
      " embedding (Embedding)       (None, 15, 128)           1280000   \n",
      "                                                                 \n",
      " bidirectional_4 (Bidirecti  (None, 128)               98816     \n",
      " onal)                                                           \n",
      "                                                                 \n",
      " dense_15 (Dense)            (None, 1)                 129       \n",
      "                                                                 \n",
      "=================================================================\n",
      "Total params: 1378945 (5.26 MB)\n",
      "Trainable params: 1378945 (5.26 MB)\n",
      "Non-trainable params: 0 (0.00 Byte)\n",
      "_________________________________________________________________\n"
     ]
    }
   ],
   "source": [
    "# Get a summary\n",
    "model_4.summary()"
   ],
   "metadata": {
    "collapsed": false,
    "ExecuteTime": {
     "end_time": "2024-04-25T08:10:04.590800222Z",
     "start_time": "2024-04-25T08:10:04.535705063Z"
    }
   },
   "id": "9a60fd4d971045ff",
   "execution_count": 93
  },
  {
   "cell_type": "code",
   "outputs": [],
   "source": [
    "# Compile model\n",
    "model_4.compile(loss=\"binary_crossentropy\",\n",
    "                optimizer=tf.keras.optimizers.Adam(),\n",
    "                metrics=[\"accuracy\"])"
   ],
   "metadata": {
    "collapsed": false,
    "ExecuteTime": {
     "end_time": "2024-04-25T08:11:05.628692320Z",
     "start_time": "2024-04-25T08:11:05.572492643Z"
    }
   },
   "id": "4726001f2c45cb27",
   "execution_count": 94
  },
  {
   "cell_type": "code",
   "outputs": [
    {
     "name": "stdout",
     "output_type": "stream",
     "text": [
      "Saving TensorBoard log files to: model_logs/model_4_bidirectional/20240425-101251\n",
      "Epoch 1/5\n",
      "215/215 [==============================] - 10s 34ms/step - loss: 0.1026 - accuracy: 0.9723 - val_loss: 0.9223 - val_accuracy: 0.7743\n",
      "Epoch 2/5\n",
      "215/215 [==============================] - 2s 11ms/step - loss: 0.0498 - accuracy: 0.9781 - val_loss: 1.0296 - val_accuracy: 0.7690\n",
      "Epoch 3/5\n",
      "215/215 [==============================] - 2s 9ms/step - loss: 0.0456 - accuracy: 0.9796 - val_loss: 1.2900 - val_accuracy: 0.7769\n",
      "Epoch 4/5\n",
      "215/215 [==============================] - 2s 9ms/step - loss: 0.0453 - accuracy: 0.9803 - val_loss: 1.2059 - val_accuracy: 0.7520\n",
      "Epoch 5/5\n",
      "215/215 [==============================] - 2s 10ms/step - loss: 0.0375 - accuracy: 0.9815 - val_loss: 1.5789 - val_accuracy: 0.7585\n"
     ]
    }
   ],
   "source": [
    "# Fit the model\n",
    "model_4_history = model_4.fit(x=train_sentences,\n",
    "                              y=train_labels,\n",
    "                              epochs=5,\n",
    "                              validation_data=(val_sentences, val_labels),\n",
    "                              callbacks=[create_tensorboard_callback(dir_name=SAVE_DIR,\n",
    "                                                                     experiment_name=\"model_4_bidirectional\")])"
   ],
   "metadata": {
    "collapsed": false,
    "ExecuteTime": {
     "end_time": "2024-04-25T08:13:09.584879699Z",
     "start_time": "2024-04-25T08:12:51.168351079Z"
    }
   },
   "id": "96c3caad937bb62d",
   "execution_count": 95
  },
  {
   "cell_type": "code",
   "outputs": [
    {
     "name": "stdout",
     "output_type": "stream",
     "text": [
      "24/24 [==============================] - 1s 2ms/step\n"
     ]
    },
    {
     "data": {
      "text/plain": "array([[4.82321009e-02],\n       [7.32800841e-01],\n       [9.99981523e-01],\n       [2.51118660e-01],\n       [9.70484780e-06],\n       [9.99954343e-01],\n       [9.95988786e-01],\n       [9.99993563e-01],\n       [9.99987602e-01],\n       [9.97826993e-01],\n       [4.07975131e-05],\n       [9.98018742e-01],\n       [2.53750804e-05],\n       [1.52779967e-01],\n       [1.24250564e-05],\n       [1.16791553e-03],\n       [1.87875994e-05],\n       [2.57878019e-05],\n       [3.77196223e-02],\n       [9.99920249e-01],\n       [9.99969840e-01],\n       [1.55574380e-05],\n       [9.99953628e-01],\n       [1.22624639e-04],\n       [9.99972224e-01],\n       [9.99991179e-01],\n       [5.00596325e-05],\n       [2.00350754e-04],\n       [3.82125232e-04],\n       [9.34236050e-01],\n       [9.99645829e-01],\n       [2.90070398e-04],\n       [9.89477057e-03],\n       [4.76437068e-04],\n       [8.86642516e-01],\n       [5.61519563e-01],\n       [9.99979854e-01],\n       [3.21135193e-01],\n       [1.68866292e-02],\n       [9.99982357e-01],\n       [9.69980299e-01],\n       [1.61866701e-05],\n       [1.78331812e-03],\n       [1.03736757e-05],\n       [9.87682998e-01],\n       [9.99958277e-01],\n       [9.99747932e-01],\n       [9.96746063e-01],\n       [5.22755203e-04],\n       [9.36952531e-01],\n       [9.80183322e-05],\n       [5.01769245e-01],\n       [1.65874258e-01],\n       [3.18488921e-04],\n       [9.45554733e-01],\n       [5.98547864e-04],\n       [3.72669419e-05],\n       [9.99972463e-01],\n       [1.41965415e-04],\n       [2.16426142e-05],\n       [1.51506802e-02],\n       [9.99979973e-01],\n       [9.99926925e-01],\n       [1.24509353e-03],\n       [9.99983668e-01],\n       [9.99993205e-01],\n       [9.98962998e-01],\n       [4.46644455e-01],\n       [9.97870922e-01],\n       [1.00063905e-01],\n       [4.31806431e-04],\n       [2.12745488e-01],\n       [9.99984503e-01],\n       [9.14549164e-04],\n       [9.99829054e-01],\n       [9.99821842e-01],\n       [3.02650244e-03],\n       [9.99981165e-01],\n       [6.50696516e-01],\n       [1.60019994e-01],\n       [3.86051455e-04],\n       [1.01180539e-01],\n       [9.99994040e-01],\n       [3.38092104e-05],\n       [7.86239107e-05],\n       [1.53892062e-04],\n       [1.59637111e-05],\n       [5.36947882e-05],\n       [2.11074163e-04],\n       [9.99978542e-01],\n       [9.99985218e-01],\n       [1.80096922e-05],\n       [9.97740388e-01],\n       [1.64496760e-05],\n       [9.99991059e-01],\n       [6.41729593e-01],\n       [9.94947791e-01],\n       [9.99973536e-01],\n       [9.99944329e-01],\n       [9.97991920e-01],\n       [9.99990702e-01],\n       [2.86508322e-04],\n       [7.10932272e-06],\n       [9.99769032e-01],\n       [9.99848723e-01],\n       [9.15514767e-01],\n       [9.99970198e-01],\n       [9.99964237e-01],\n       [1.59316951e-05],\n       [9.99887943e-01],\n       [9.99761879e-01],\n       [5.26358053e-05],\n       [9.98817742e-01],\n       [1.30402841e-04],\n       [1.78804858e-05],\n       [8.34482193e-01],\n       [8.14244926e-01],\n       [9.99958634e-01],\n       [1.37759291e-03],\n       [7.09139640e-05],\n       [9.99994159e-01],\n       [1.08276327e-05],\n       [1.30342105e-05],\n       [7.15683758e-01],\n       [1.99106964e-03],\n       [4.34417161e-04],\n       [9.99967217e-01],\n       [8.41951532e-06],\n       [3.63108702e-05],\n       [9.99848604e-01],\n       [8.65988477e-05],\n       [9.99994159e-01],\n       [9.99993086e-01],\n       [9.99991179e-01],\n       [9.99983191e-01],\n       [2.75532111e-05],\n       [9.99987364e-01],\n       [9.88509715e-01],\n       [4.26811428e-04],\n       [4.31769586e-05],\n       [9.99993563e-01],\n       [9.87516701e-01],\n       [1.52779967e-01],\n       [9.99887109e-01],\n       [1.49816409e-01],\n       [2.17008404e-03],\n       [1.29609298e-05],\n       [1.05115932e-05],\n       [5.13624982e-04],\n       [9.99977231e-01],\n       [5.15179243e-04],\n       [6.37086248e-03],\n       [4.98717418e-03],\n       [3.23912682e-05],\n       [4.62580465e-05],\n       [9.99979019e-01],\n       [9.99975681e-01],\n       [4.65769786e-03],\n       [9.99975085e-01],\n       [1.83256543e-05],\n       [9.99980211e-01],\n       [7.63809949e-04],\n       [5.59354946e-03],\n       [9.99985337e-01],\n       [1.36655867e-02],\n       [1.49671714e-05],\n       [9.99989033e-01],\n       [3.14453198e-03],\n       [9.99987006e-01],\n       [9.96176600e-01],\n       [9.99984622e-01],\n       [9.99908209e-01],\n       [9.99876738e-01],\n       [1.63945351e-05],\n       [9.99990463e-01],\n       [4.31969747e-05],\n       [2.21682317e-03],\n       [9.99408890e-04],\n       [6.17032766e-01],\n       [9.99986053e-01],\n       [2.42575596e-04],\n       [9.99750316e-01],\n       [9.99983311e-01],\n       [9.99989510e-01],\n       [9.99980092e-01],\n       [2.57027259e-05],\n       [6.65445841e-05],\n       [9.99996185e-01],\n       [1.33931380e-05],\n       [1.07173801e-05],\n       [5.40860230e-04],\n       [9.99760330e-01],\n       [1.96752899e-05],\n       [1.25413790e-04],\n       [1.61789230e-05],\n       [1.82987729e-04],\n       [2.07246430e-05],\n       [1.20329577e-03],\n       [9.99954224e-01],\n       [2.18740184e-04],\n       [9.68304276e-03],\n       [9.99986649e-01],\n       [9.99986768e-01],\n       [8.60115793e-03],\n       [2.86443828e-05],\n       [9.99993205e-01],\n       [9.99979019e-01],\n       [9.99906540e-01],\n       [9.99516368e-01],\n       [9.98053789e-01],\n       [3.77118587e-01],\n       [9.99982834e-01],\n       [1.63874083e-05],\n       [4.54280712e-03],\n       [8.07968445e-06],\n       [7.24506936e-06],\n       [9.99879360e-01],\n       [9.98189151e-01],\n       [9.98152912e-01],\n       [5.18565118e-01],\n       [2.27799416e-02],\n       [6.23163476e-04],\n       [4.75692786e-02],\n       [2.43662478e-04],\n       [9.99988317e-01],\n       [6.09465897e-01],\n       [6.16366789e-03],\n       [9.99993563e-01],\n       [9.99870420e-01],\n       [9.97539520e-01],\n       [2.17157612e-05],\n       [3.77745542e-04],\n       [9.99924898e-01],\n       [1.07395165e-01],\n       [7.41933584e-01],\n       [4.30285290e-04],\n       [7.35907376e-01],\n       [1.33434907e-02],\n       [1.43060854e-04],\n       [3.73560724e-05],\n       [9.99873638e-01],\n       [3.06972623e-01],\n       [9.99994993e-01],\n       [9.99964952e-01],\n       [5.80583182e-05],\n       [1.05875097e-05],\n       [9.99972820e-01],\n       [2.48218421e-05],\n       [3.08012211e-04],\n       [5.26825666e-01],\n       [2.19580961e-05],\n       [9.99972701e-01],\n       [6.86558906e-06],\n       [1.95392975e-04],\n       [9.99978423e-01],\n       [1.57433197e-01],\n       [9.99984503e-01],\n       [9.99995470e-01],\n       [2.74976832e-03],\n       [2.15369928e-05],\n       [6.20616847e-05],\n       [2.95338195e-05],\n       [7.27833094e-06],\n       [9.99982119e-01],\n       [9.99984145e-01],\n       [9.85274553e-01],\n       [9.99960423e-01],\n       [2.34010695e-05],\n       [2.41635321e-03],\n       [1.39972371e-05],\n       [5.38238746e-05],\n       [4.09261011e-05],\n       [9.99981046e-01],\n       [3.11617507e-04],\n       [7.83038467e-06],\n       [9.99983788e-01],\n       [1.79281924e-05],\n       [1.36902992e-04],\n       [9.99946117e-01],\n       [4.46272934e-05],\n       [9.48427944e-04],\n       [2.42157312e-05],\n       [9.99984503e-01],\n       [9.84624386e-01],\n       [5.40209055e-01],\n       [7.26254582e-01],\n       [9.99940991e-01],\n       [1.75772759e-03],\n       [9.99696374e-01],\n       [5.44237625e-03],\n       [9.99740183e-01],\n       [9.96711135e-01],\n       [9.99795854e-01],\n       [7.22037256e-01],\n       [9.27713327e-03],\n       [1.04605049e-01],\n       [7.27500417e-04],\n       [6.52812514e-03],\n       [6.87608408e-05],\n       [1.79001302e-01],\n       [8.38263713e-06],\n       [2.10801918e-05],\n       [8.87385607e-01],\n       [9.99985933e-01],\n       [5.39113062e-05],\n       [6.01715259e-02],\n       [6.34591877e-02],\n       [4.78557199e-01],\n       [9.32070147e-03],\n       [3.18105303e-05],\n       [1.18283642e-05],\n       [9.99965668e-01],\n       [5.58148146e-01],\n       [4.39994514e-01],\n       [9.99993324e-01],\n       [3.00174979e-05],\n       [9.96517062e-01],\n       [3.63410771e-01],\n       [1.16702414e-03],\n       [9.27193016e-02],\n       [1.95465454e-05],\n       [2.18053767e-03],\n       [9.99938846e-01],\n       [8.55709732e-01],\n       [9.99989986e-01],\n       [2.58290946e-01],\n       [1.11865265e-05],\n       [9.99986410e-01],\n       [3.77908473e-05],\n       [9.99989867e-01],\n       [1.05314517e-04],\n       [7.91074053e-05],\n       [9.99982715e-01],\n       [7.77397072e-05],\n       [1.12035341e-05],\n       [9.99858260e-01],\n       [1.11497293e-05],\n       [7.04877966e-05],\n       [8.57062757e-01],\n       [9.99798954e-01],\n       [2.25521089e-05],\n       [3.59992567e-03],\n       [9.99988675e-01],\n       [9.99971986e-01],\n       [9.97798622e-01],\n       [1.04639448e-01],\n       [9.99710500e-01],\n       [9.99905467e-01],\n       [9.47914377e-04],\n       [2.50173071e-05],\n       [1.18360156e-02],\n       [2.87449602e-02],\n       [1.26162558e-05],\n       [2.21593022e-01],\n       [9.64422747e-02],\n       [1.23413520e-05],\n       [9.99980927e-01],\n       [9.99991179e-01],\n       [9.99989390e-01],\n       [4.32445413e-05],\n       [3.17635596e-01],\n       [3.92519031e-03],\n       [1.57516804e-02],\n       [9.98946130e-01],\n       [3.64972502e-01],\n       [2.69454958e-05],\n       [4.85528581e-05],\n       [2.57263455e-05],\n       [9.99957800e-01],\n       [4.12631271e-05],\n       [7.37506707e-05],\n       [2.37279928e-05],\n       [1.16366442e-04],\n       [3.25244576e-01],\n       [9.99517322e-01],\n       [2.58228071e-02],\n       [1.99432016e-05],\n       [5.58023108e-04],\n       [2.00000559e-05],\n       [9.99991894e-01],\n       [9.99958992e-01],\n       [9.98428106e-01],\n       [7.07307160e-01],\n       [8.05851596e-06],\n       [9.99524713e-01],\n       [9.99989986e-01],\n       [9.86783981e-01],\n       [7.12829158e-02],\n       [9.99863863e-01],\n       [1.97690241e-02],\n       [9.99981046e-01],\n       [2.84378499e-01],\n       [4.84078599e-04],\n       [4.54553336e-01],\n       [4.98473644e-04],\n       [9.99990702e-01],\n       [1.77540943e-01],\n       [1.58039184e-05],\n       [3.62072024e-05],\n       [3.64972502e-01],\n       [9.99994516e-01],\n       [9.27673409e-06],\n       [6.79114982e-02],\n       [9.99981523e-01],\n       [1.14796112e-05],\n       [9.99994159e-01],\n       [1.66072030e-04],\n       [6.48368950e-05],\n       [1.43143334e-05],\n       [9.99933600e-01],\n       [9.99937415e-01],\n       [1.22486512e-04],\n       [3.11548138e-05],\n       [9.99929547e-01],\n       [9.99985456e-01],\n       [6.19382083e-01],\n       [6.08992814e-05],\n       [2.36314416e-04],\n       [8.89453828e-01],\n       [7.06852225e-05],\n       [9.99990940e-01],\n       [9.93925035e-01],\n       [9.99990225e-01],\n       [9.99986649e-01],\n       [4.33894020e-04],\n       [1.01645648e-01],\n       [1.80087482e-05],\n       [9.99966502e-01],\n       [6.67111814e-01],\n       [9.99493480e-01],\n       [5.83633897e-04],\n       [9.93108153e-01],\n       [1.04511986e-04],\n       [1.08040740e-05],\n       [9.28870635e-04],\n       [1.68225486e-02],\n       [9.99392271e-01],\n       [2.68444681e-04],\n       [9.99994040e-01],\n       [9.99988794e-01],\n       [2.53175549e-05],\n       [7.32800841e-01],\n       [4.48773056e-03],\n       [3.07065020e-05],\n       [5.33569038e-01],\n       [9.99904513e-01],\n       [9.54530668e-04],\n       [1.00610657e-02],\n       [8.65887887e-06],\n       [3.81897227e-03],\n       [1.70475760e-05],\n       [9.99983430e-01],\n       [9.99985337e-01],\n       [9.99987721e-01],\n       [9.72889364e-01],\n       [9.98362124e-01],\n       [6.33159536e-04],\n       [2.33375540e-05],\n       [9.97449219e-01],\n       [9.99911308e-01],\n       [9.99991179e-01],\n       [9.72037960e-05],\n       [2.56626238e-03],\n       [3.48928370e-05],\n       [9.99993563e-01],\n       [9.99989986e-01],\n       [1.02476079e-04],\n       [3.06615885e-03],\n       [9.99989033e-01],\n       [3.42262269e-04],\n       [1.09652057e-03],\n       [9.99982238e-01],\n       [6.59296202e-05],\n       [3.33462849e-05],\n       [9.99687433e-01],\n       [4.53810334e-01],\n       [9.95910287e-01],\n       [9.99988675e-01],\n       [8.18654444e-05],\n       [5.15196843e-05],\n       [1.17936706e-05],\n       [1.35330474e-05],\n       [3.45585686e-05],\n       [9.99986410e-01],\n       [1.98555845e-05],\n       [9.38629329e-01],\n       [9.99419451e-01],\n       [2.10239831e-03],\n       [4.63271849e-02],\n       [1.29646633e-05],\n       [1.36352697e-04],\n       [9.99989033e-01],\n       [9.99978065e-01],\n       [4.98257985e-04],\n       [3.42650928e-05],\n       [3.96555348e-04],\n       [2.05096629e-04],\n       [9.99939680e-01],\n       [3.56897617e-05],\n       [9.99848008e-01],\n       [9.99726355e-01],\n       [9.98962283e-01],\n       [9.97707605e-01],\n       [4.00736302e-01],\n       [9.53296304e-01],\n       [1.95277695e-04],\n       [2.51361370e-01],\n       [8.20038140e-01],\n       [9.84340072e-01],\n       [3.99486907e-02],\n       [4.33688474e-05],\n       [2.44914554e-05],\n       [2.24453834e-04],\n       [1.90110952e-02],\n       [3.77254654e-03],\n       [2.40107909e-01],\n       [9.99992013e-01],\n       [9.99958515e-01],\n       [6.41729593e-01],\n       [9.99855399e-01],\n       [2.18846146e-02],\n       [5.45533148e-05],\n       [9.99955654e-01],\n       [1.65871170e-03],\n       [7.67386009e-05],\n       [2.28405133e-01],\n       [9.85291600e-01],\n       [7.83181076e-06],\n       [9.99815881e-01],\n       [9.99341190e-01],\n       [9.99935627e-01],\n       [9.99928117e-01],\n       [5.72360528e-04],\n       [5.56766987e-03],\n       [9.97495472e-01],\n       [1.80422503e-05],\n       [3.07949237e-03],\n       [9.76210952e-01],\n       [9.99761760e-01],\n       [7.78370082e-01],\n       [3.11039948e-05],\n       [6.67916393e-05],\n       [9.98943865e-01],\n       [6.64354084e-05],\n       [1.02882812e-04],\n       [1.14868184e-04],\n       [3.05791378e-01],\n       [9.99994755e-01],\n       [9.99944806e-01],\n       [2.81762145e-02],\n       [9.99985218e-01],\n       [9.99989152e-01],\n       [1.51454014e-05],\n       [9.99986410e-01],\n       [1.59159035e-03],\n       [9.99141335e-01],\n       [2.87623465e-01],\n       [4.88256803e-04],\n       [7.07322251e-05],\n       [3.96970754e-05],\n       [4.57597635e-04],\n       [3.44423606e-05],\n       [9.99785125e-01],\n       [5.57654093e-05],\n       [9.99986172e-01],\n       [2.30550460e-04],\n       [9.98684347e-01],\n       [9.98876631e-01],\n       [2.03715963e-03],\n       [2.55436789e-05],\n       [9.99991775e-01],\n       [2.24865071e-04],\n       [9.99986410e-01],\n       [3.46394956e-01],\n       [7.18035549e-03],\n       [9.77049410e-01],\n       [1.79350073e-03],\n       [7.84779433e-03],\n       [9.99989152e-01],\n       [8.26029191e-06],\n       [2.32495877e-05],\n       [2.64551789e-02],\n       [9.99991655e-01],\n       [1.72889605e-02],\n       [2.73108872e-05],\n       [9.99973178e-01],\n       [2.53376984e-05],\n       [3.57374411e-05],\n       [4.80241841e-04],\n       [9.96834338e-01],\n       [1.83484284e-04],\n       [4.30042177e-01],\n       [9.99097228e-01],\n       [2.96114734e-03],\n       [1.97837417e-05],\n       [1.90032899e-01],\n       [2.52812188e-05],\n       [9.99911070e-01],\n       [9.99980927e-01],\n       [7.71556795e-02],\n       [1.29702394e-05],\n       [2.91471195e-04],\n       [9.99987245e-01],\n       [9.76446867e-01],\n       [9.99976635e-01],\n       [7.96023465e-04],\n       [9.99907374e-01],\n       [2.64737639e-04],\n       [9.99363720e-01],\n       [9.68367219e-01],\n       [1.18497255e-05],\n       [9.99985337e-01],\n       [6.32104988e-04],\n       [9.99792039e-01],\n       [9.99993324e-01],\n       [1.31139299e-04],\n       [1.38238784e-05],\n       [9.99175608e-01],\n       [1.24750659e-05],\n       [8.81324530e-01],\n       [9.99993205e-01],\n       [3.79125446e-01],\n       [9.99882340e-01],\n       [1.16551854e-01],\n       [9.99978185e-01],\n       [9.92852628e-01],\n       [3.06473635e-02],\n       [1.52664015e-05],\n       [9.66298938e-01],\n       [1.26427294e-05],\n       [2.71585703e-01],\n       [9.99982119e-01],\n       [9.99847054e-01],\n       [9.99993086e-01],\n       [9.99916434e-01],\n       [7.30262280e-01],\n       [9.99833941e-01],\n       [2.57899628e-05],\n       [9.81175601e-01],\n       [9.81805265e-01],\n       [9.99958396e-01],\n       [2.26106640e-05],\n       [9.99910235e-01],\n       [9.99981046e-01],\n       [8.21446883e-04],\n       [1.77702482e-03],\n       [3.99486907e-02],\n       [9.03600521e-05],\n       [9.98540998e-01],\n       [9.99896646e-01],\n       [9.99989510e-01],\n       [5.85914007e-04],\n       [9.80407640e-06],\n       [1.31266706e-05],\n       [1.60866082e-01],\n       [6.08763285e-02],\n       [8.24884549e-02],\n       [9.99436915e-01],\n       [1.23821173e-05],\n       [3.41829956e-01],\n       [2.39144720e-04],\n       [8.95505965e-01],\n       [9.99946713e-01],\n       [2.50921323e-04],\n       [9.99789536e-01],\n       [1.59230421e-03],\n       [7.25179507e-06],\n       [3.36244848e-05],\n       [9.99992847e-01],\n       [9.99116838e-01],\n       [1.03041348e-05],\n       [7.01160207e-02],\n       [9.95813787e-01],\n       [1.12525340e-05],\n       [9.99974847e-01],\n       [3.35262193e-05],\n       [9.99712288e-01],\n       [9.78889108e-01],\n       [3.10724754e-05],\n       [4.65542883e-01],\n       [1.70655534e-01],\n       [1.21090961e-04],\n       [9.99969602e-01],\n       [2.36553147e-01],\n       [9.02673721e-01],\n       [9.99980092e-01],\n       [4.72183555e-01],\n       [6.29313886e-01],\n       [7.83181076e-06],\n       [2.22501189e-01],\n       [6.87729418e-01],\n       [9.99994159e-01],\n       [9.12128031e-01],\n       [6.68197405e-03],\n       [9.99976993e-01],\n       [3.63818675e-01],\n       [9.99952555e-01],\n       [3.63818675e-01],\n       [9.99991775e-01],\n       [6.83176986e-05],\n       [2.26697908e-03],\n       [1.09632501e-05],\n       [9.99994159e-01],\n       [7.08086882e-04],\n       [1.04821450e-03],\n       [1.46144548e-05],\n       [1.27492181e-04],\n       [5.01568720e-05],\n       [2.10114522e-05],\n       [7.15251127e-03],\n       [4.61026793e-05],\n       [2.23761919e-04],\n       [9.99962091e-01],\n       [4.75826200e-05],\n       [8.52011144e-04],\n       [3.82086655e-05],\n       [7.55355450e-06],\n       [1.96496576e-01],\n       [9.99953747e-01],\n       [2.50063225e-04],\n       [2.72801090e-02],\n       [9.65564512e-04],\n       [9.99669075e-01],\n       [9.99983788e-01],\n       [1.56093629e-05],\n       [4.02232145e-05],\n       [2.23108345e-05],\n       [7.08079597e-06],\n       [9.99925375e-01],\n       [7.55355450e-06],\n       [3.54254385e-03],\n       [9.99979377e-01],\n       [9.99987602e-01],\n       [9.99987602e-01],\n       [9.99988794e-01],\n       [9.99988675e-01],\n       [3.78901532e-05],\n       [4.33283785e-05],\n       [9.93930936e-01],\n       [9.99759018e-01],\n       [9.99989629e-01],\n       [9.20762837e-01],\n       [1.01578778e-04],\n       [9.99903560e-01],\n       [8.48320603e-01],\n       [1.00410998e-05],\n       [1.05594791e-05],\n       [7.78075680e-03],\n       [1.46432823e-04],\n       [1.09743905e-05],\n       [2.46510725e-04],\n       [8.09850335e-01],\n       [9.99992609e-01],\n       [1.84496985e-05],\n       [9.99990225e-01],\n       [9.97461677e-01],\n       [1.47981020e-02],\n       [2.32714904e-03],\n       [4.90607396e-02],\n       [6.64362550e-01],\n       [3.37148464e-04],\n       [1.53207729e-05]], dtype=float32)"
     },
     "execution_count": 96,
     "metadata": {},
     "output_type": "execute_result"
    }
   ],
   "source": [
    "# Make predictions with our bidirectional model\n",
    "model_4_pred_probs = model_4.predict(x=val_sentences)\n",
    "model_4_pred_probs"
   ],
   "metadata": {
    "collapsed": false,
    "ExecuteTime": {
     "end_time": "2024-04-25T08:15:36.299886648Z",
     "start_time": "2024-04-25T08:15:35.591226492Z"
    }
   },
   "id": "39e97d1c4b8c0b06",
   "execution_count": 96
  },
  {
   "cell_type": "code",
   "outputs": [
    {
     "data": {
      "text/plain": "<tf.Tensor: shape=(10,), dtype=float32, numpy=array([0., 1., 1., 0., 0., 1., 1., 1., 1., 1.], dtype=float32)>"
     },
     "execution_count": 97,
     "metadata": {},
     "output_type": "execute_result"
    }
   ],
   "source": [
    "# Convert pred probs to labels\n",
    "model_4_preds = tf.squeeze(tf.round(model_4_pred_probs))\n",
    "model_4_preds[:10]"
   ],
   "metadata": {
    "collapsed": false,
    "ExecuteTime": {
     "end_time": "2024-04-25T08:16:56.381588048Z",
     "start_time": "2024-04-25T08:16:56.341046817Z"
    }
   },
   "id": "ec83f2a5f6952c78",
   "execution_count": 97
  },
  {
   "cell_type": "code",
   "outputs": [
    {
     "data": {
      "text/plain": "{'accuracy': 75.8530183727034,\n 'precision': 0.7581222241586,\n 'recall': 0.7585301837270341,\n 'f1': 0.7581368118458878}"
     },
     "execution_count": 99,
     "metadata": {},
     "output_type": "execute_result"
    }
   ],
   "source": [
    "# Calculate the results of our bidirectional model\n",
    "model_4_results = evaluate_classification_metrics(y_true=val_labels,\n",
    "                                                  y_pred=model_4_preds)\n",
    "model_4_results"
   ],
   "metadata": {
    "collapsed": false,
    "ExecuteTime": {
     "end_time": "2024-04-25T08:25:26.639183782Z",
     "start_time": "2024-04-25T08:25:26.568295230Z"
    }
   },
   "id": "4d2e48cf0492d4b0",
   "execution_count": 99
  },
  {
   "cell_type": "code",
   "outputs": [
    {
     "data": {
      "text/plain": "array([False, False, False, False])"
     },
     "execution_count": 101,
     "metadata": {},
     "output_type": "execute_result"
    }
   ],
   "source": [
    "np.array(list(model_4_results.values())) > np.array(list(baseline_results.values()))"
   ],
   "metadata": {
    "collapsed": false,
    "ExecuteTime": {
     "end_time": "2024-04-25T08:26:05.572054319Z",
     "start_time": "2024-04-25T08:26:05.498614051Z"
    }
   },
   "id": "86caa97227f5a78a",
   "execution_count": 101
  },
  {
   "cell_type": "markdown",
   "source": [
    "Nous n'avons donc pas de meilleurs résultats avec model_4 comparé à model_0"
   ],
   "metadata": {
    "collapsed": false
   },
   "id": "d39e51769b1c94b3"
  },
  {
   "cell_type": "code",
   "outputs": [
    {
     "data": {
      "text/plain": "array([False, False, False, False])"
     },
     "execution_count": 102,
     "metadata": {},
     "output_type": "execute_result"
    }
   ],
   "source": [
    "np.array(list(model_4_results.values())) > np.array(list(model_3_results.values()))"
   ],
   "metadata": {
    "collapsed": false,
    "ExecuteTime": {
     "end_time": "2024-04-25T08:26:50.500641512Z",
     "start_time": "2024-04-25T08:26:50.449457074Z"
    }
   },
   "id": "5510697e3717666c",
   "execution_count": 102
  },
  {
   "cell_type": "markdown",
   "source": [
    "Et même moins bien que l'unidirectionnel"
   ],
   "metadata": {
    "collapsed": false
   },
   "id": "988424aac23bad5e"
  },
  {
   "cell_type": "markdown",
   "source": [
    "Video N°241: Discussing the intuition behind Conv1D neural networks for text and sequences"
   ],
   "metadata": {
    "collapsed": false
   },
   "id": "94450f2522203d0c"
  },
  {
   "cell_type": "markdown",
   "source": [
    "## Convolutional Neural Networks for text (and other types of sequences)\n",
    "\n",
    "We've used CNN's for images but images are typically 2D (height x width)... however, our text data is 1D.\n",
    "\n",
    "Previously we've Conv2D for our image data but now we're going to use Conv1D.\n",
    "\n",
    "The typical structure of a Conv1D model for sequences (in our case, text):\n",
    "\n",
    "```\n",
    "Inputs (text) -> Tokenization -> Embedding -> Layer(s) (typically Conv1D + pooling) -> Outputs (class probabilities)\n",
    "```"
   ],
   "metadata": {
    "collapsed": false
   },
   "id": "268ce84bb05d04c7"
  },
  {
   "cell_type": "markdown",
   "source": [
    "### Model 5: Conv1D\n",
    "\n",
    "For different explanations of parameters see:\n",
    "* https://poloclub.github.io/cnn-explainer/ (this is for 2D but can relate to 1D data)\n",
    "* Difference between \"same\" and \"valid\" padding: \n",
    "https://stackoverflow.com/questions/37674306/what-is-the-difference-between-same-and-valid-padding-in-tf-nn-max-pool-of-t\n",
    "\n",
    "    \"VALID\" = without padding:\n",
    "\n",
    "       inputs:         1  2  3  4  5  6  7  8  9  10 11 (12 13)\n",
    "                      |________________|                dropped\n",
    "                                     |_________________|\n",
    "\n",
    "    \"SAME\" = with zero padding:\n",
    "\n",
    "                   pad|                                      |pad\n",
    "       inputs:      0 |1  2  3  4  5  6  7  8  9  10 11 12 13|0  0\n",
    "                   |________________|\n",
    "                                  |_________________|\n",
    "                                                 |________________|\n",
    "\n",
    "In this example:\n",
    "\n",
    "    Input width = 13\n",
    "    Filter width = 6\n",
    "    Stride = 5\n",
    "\n",
    "Notes:\n",
    "\n",
    "    \"VALID\" only ever drops the right-most columns (or bottom-most rows).\n",
    "    \"SAME\" tries to pad evenly left and right, but if the amount of columns to be added is odd, it will add the extra column to the right, as is the case in this example (the same logic applies vertically: there may be an extra row of zeros at the bottom).\n",
    "\n",
    "Edit:\n",
    "\n",
    "About the name:\n",
    "\n",
    "    With \"SAME\" padding, if you use a stride of 1, the layer's outputs will have the same spatial dimensions as its inputs.\n",
    "    With \"VALID\" padding, there's no \"made-up\" padding inputs. The layer only uses valid input data.\n"
   ],
   "metadata": {
    "collapsed": false
   },
   "id": "a6f1081d4ee5b915"
  },
  {
   "cell_type": "code",
   "outputs": [
    {
     "data": {
      "text/plain": "(TensorShape([1, 15, 128]), TensorShape([1, 15, 32]), TensorShape([1, 32]))"
     },
     "execution_count": 106,
     "metadata": {},
     "output_type": "execute_result"
    }
   ],
   "source": [
    "# Test out our embedding layer, Conv1D layer and max pooling\n",
    "embedding_test = embedding(text_vectorizer([\"this is a test sentence\"])) # turn target sequence into embedding \n",
    "conv_1d = layers.Conv1D(filters=32,\n",
    "                        kernel_size=5, # this is also referred to as an ngram of 5 (meaning it looks at 5 words at a time)\n",
    "                        strides=1, # default\n",
    "                        activation=\"relu\",\n",
    "                        padding=\"same\") # default = 'valid', the output is smaller than the input shape, 'same' means output is same shape as input\n",
    "conv_1d_output = conv_1d(embedding_test) # pass test embedding through conv1d layer\n",
    "max_pool = layers.GlobalMaxPool1D()\n",
    "max_pool_output = max_pool(conv_1d_output) # equivalent to \"get the most important feature\" or \"get the feature with the highest value\"\n",
    "embedding_test.shape, conv_1d_output.shape, max_pool_output.shape"
   ],
   "metadata": {
    "collapsed": false,
    "ExecuteTime": {
     "end_time": "2024-04-25T09:46:12.848542329Z",
     "start_time": "2024-04-25T09:46:12.681985985Z"
    }
   },
   "id": "7c57175e36515a90",
   "execution_count": 106
  },
  {
   "cell_type": "code",
   "outputs": [
    {
     "data": {
      "text/plain": "<tf.Tensor: shape=(1, 15, 128), dtype=float32, numpy=\narray([[[ 0.01333897, -0.05173763, -0.02926391, ..., -0.07142751,\n          0.05672431,  0.01856982],\n        [ 0.0237428 ,  0.02525576,  0.00799904, ..., -0.01024315,\n         -0.00361403,  0.03839456],\n        [-0.02869729, -0.03602771, -0.00440447, ...,  0.01082572,\n          0.04177393,  0.05831759],\n        ...,\n        [ 0.00970045, -0.01046002, -0.0209655 , ..., -0.01571367,\n          0.01658685,  0.01973417],\n        [ 0.00970045, -0.01046002, -0.0209655 , ..., -0.01571367,\n          0.01658685,  0.01973417],\n        [ 0.00970045, -0.01046002, -0.0209655 , ..., -0.01571367,\n          0.01658685,  0.01973417]]], dtype=float32)>"
     },
     "execution_count": 107,
     "metadata": {},
     "output_type": "execute_result"
    }
   ],
   "source": [
    "embedding_test"
   ],
   "metadata": {
    "collapsed": false,
    "ExecuteTime": {
     "end_time": "2024-04-25T09:46:13.450733173Z",
     "start_time": "2024-04-25T09:46:13.385808338Z"
    }
   },
   "id": "b0ca17d37fc45e2d",
   "execution_count": 107
  },
  {
   "cell_type": "code",
   "outputs": [
    {
     "data": {
      "text/plain": "<tf.Tensor: shape=(1, 15, 32), dtype=float32, numpy=\narray([[[0.00516754, 0.02805864, 0.        , 0.        , 0.05524044,\n         0.05397297, 0.06454626, 0.        , 0.00899472, 0.        ,\n         0.        , 0.00348191, 0.        , 0.        , 0.01064136,\n         0.04497818, 0.        , 0.02408688, 0.09160361, 0.        ,\n         0.        , 0.        , 0.        , 0.        , 0.        ,\n         0.        , 0.        , 0.        , 0.        , 0.03213548,\n         0.        , 0.04826054],\n        [0.02420677, 0.        , 0.        , 0.        , 0.        ,\n         0.        , 0.        , 0.00024258, 0.        , 0.        ,\n         0.03855972, 0.        , 0.07779754, 0.02658998, 0.        ,\n         0.        , 0.        , 0.06230744, 0.01617962, 0.03493495,\n         0.00051936, 0.        , 0.        , 0.07279091, 0.        ,\n         0.02811832, 0.        , 0.00202857, 0.        , 0.        ,\n         0.        , 0.0025794 ],\n        [0.        , 0.        , 0.        , 0.        , 0.        ,\n         0.07433862, 0.02959663, 0.00208524, 0.01413645, 0.03182321,\n         0.04297315, 0.03458893, 0.        , 0.03475319, 0.06478347,\n         0.        , 0.        , 0.06902144, 0.02807607, 0.        ,\n         0.04198116, 0.        , 0.        , 0.        , 0.12716058,\n         0.04735307, 0.06786746, 0.00215321, 0.01521179, 0.0408621 ,\n         0.04505679, 0.06849273],\n        [0.        , 0.06450429, 0.        , 0.06675692, 0.        ,\n         0.        , 0.01143085, 0.        , 0.        , 0.05421348,\n         0.01854226, 0.06289778, 0.        , 0.04061557, 0.        ,\n         0.        , 0.        , 0.        , 0.1256347 , 0.06967805,\n         0.        , 0.00149329, 0.        , 0.        , 0.02929324,\n         0.00208647, 0.        , 0.02364375, 0.        , 0.03923209,\n         0.02690026, 0.        ],\n        [0.        , 0.        , 0.        , 0.        , 0.00947195,\n         0.        , 0.00487452, 0.09060487, 0.03699689, 0.        ,\n         0.        , 0.        , 0.        , 0.00559109, 0.        ,\n         0.02671901, 0.        , 0.        , 0.        , 0.        ,\n         0.        , 0.035947  , 0.        , 0.        , 0.0333991 ,\n         0.        , 0.00322772, 0.        , 0.        , 0.01797694,\n         0.02655773, 0.        ],\n        [0.        , 0.09043157, 0.        , 0.        , 0.01824743,\n         0.06128313, 0.00745042, 0.        , 0.02883195, 0.01281879,\n         0.        , 0.        , 0.03569791, 0.        , 0.        ,\n         0.03743553, 0.        , 0.02617634, 0.01807346, 0.0087652 ,\n         0.        , 0.        , 0.        , 0.        , 0.        ,\n         0.        , 0.        , 0.        , 0.        , 0.        ,\n         0.        , 0.        ],\n        [0.        , 0.04400712, 0.01359839, 0.05713895, 0.04696195,\n         0.05230387, 0.03692001, 0.        , 0.        , 0.        ,\n         0.        , 0.        , 0.03143776, 0.        , 0.        ,\n         0.01597457, 0.        , 0.        , 0.00308937, 0.05168267,\n         0.        , 0.        , 0.        , 0.        , 0.        ,\n         0.        , 0.        , 0.        , 0.        , 0.03110095,\n         0.01712552, 0.        ],\n        [0.        , 0.02317596, 0.00209907, 0.        , 0.03987745,\n         0.06967886, 0.04792628, 0.        , 0.        , 0.        ,\n         0.        , 0.02314552, 0.        , 0.        , 0.        ,\n         0.02504291, 0.        , 0.        , 0.02891308, 0.00499022,\n         0.        , 0.        , 0.        , 0.        , 0.01620109,\n         0.        , 0.        , 0.        , 0.        , 0.01649535,\n         0.02567788, 0.        ],\n        [0.        , 0.02317596, 0.00209907, 0.        , 0.03987745,\n         0.06967886, 0.04792628, 0.        , 0.        , 0.        ,\n         0.        , 0.02314552, 0.        , 0.        , 0.        ,\n         0.02504291, 0.        , 0.        , 0.02891308, 0.00499022,\n         0.        , 0.        , 0.        , 0.        , 0.01620109,\n         0.        , 0.        , 0.        , 0.        , 0.01649535,\n         0.02567788, 0.        ],\n        [0.        , 0.02317596, 0.00209907, 0.        , 0.03987745,\n         0.06967886, 0.04792628, 0.        , 0.        , 0.        ,\n         0.        , 0.02314552, 0.        , 0.        , 0.        ,\n         0.02504291, 0.        , 0.        , 0.02891308, 0.00499022,\n         0.        , 0.        , 0.        , 0.        , 0.01620109,\n         0.        , 0.        , 0.        , 0.        , 0.01649535,\n         0.02567788, 0.        ],\n        [0.        , 0.02317596, 0.00209907, 0.        , 0.03987745,\n         0.06967886, 0.04792628, 0.        , 0.        , 0.        ,\n         0.        , 0.02314552, 0.        , 0.        , 0.        ,\n         0.02504291, 0.        , 0.        , 0.02891308, 0.00499022,\n         0.        , 0.        , 0.        , 0.        , 0.01620109,\n         0.        , 0.        , 0.        , 0.        , 0.01649535,\n         0.02567788, 0.        ],\n        [0.        , 0.02317596, 0.00209907, 0.        , 0.03987745,\n         0.06967886, 0.04792628, 0.        , 0.        , 0.        ,\n         0.        , 0.02314552, 0.        , 0.        , 0.        ,\n         0.02504291, 0.        , 0.        , 0.02891308, 0.00499022,\n         0.        , 0.        , 0.        , 0.        , 0.01620109,\n         0.        , 0.        , 0.        , 0.        , 0.01649535,\n         0.02567788, 0.        ],\n        [0.        , 0.02317596, 0.00209907, 0.        , 0.03987745,\n         0.06967886, 0.04792628, 0.        , 0.        , 0.        ,\n         0.        , 0.02314552, 0.        , 0.        , 0.        ,\n         0.02504291, 0.        , 0.        , 0.02891308, 0.00499022,\n         0.        , 0.        , 0.        , 0.        , 0.01620109,\n         0.        , 0.        , 0.        , 0.        , 0.01649535,\n         0.02567788, 0.        ],\n        [0.        , 0.        , 0.00953957, 0.        , 0.03244763,\n         0.03983943, 0.0469894 , 0.        , 0.        , 0.        ,\n         0.        , 0.00493371, 0.01044987, 0.        , 0.        ,\n         0.01632804, 0.        , 0.        , 0.00736987, 0.0114058 ,\n         0.        , 0.        , 0.        , 0.        , 0.02019558,\n         0.        , 0.        , 0.        , 0.00710563, 0.        ,\n         0.00969132, 0.00389297],\n        [0.        , 0.        , 0.00494586, 0.        , 0.01726671,\n         0.03668167, 0.02229402, 0.        , 0.        , 0.        ,\n         0.        , 0.02364831, 0.        , 0.        , 0.        ,\n         0.01693729, 0.        , 0.        , 0.02569044, 0.02582611,\n         0.        , 0.        , 0.        , 0.00045467, 0.02113702,\n         0.        , 0.        , 0.        , 0.00637467, 0.01251394,\n         0.        , 0.02130573]]], dtype=float32)>"
     },
     "execution_count": 108,
     "metadata": {},
     "output_type": "execute_result"
    }
   ],
   "source": [
    "conv_1d_output"
   ],
   "metadata": {
    "collapsed": false,
    "ExecuteTime": {
     "end_time": "2024-04-25T09:46:28.013433065Z",
     "start_time": "2024-04-25T09:46:27.962323315Z"
    }
   },
   "id": "6c49941c7eb60ea6",
   "execution_count": 108
  },
  {
   "cell_type": "code",
   "outputs": [
    {
     "data": {
      "text/plain": "<tf.Tensor: shape=(1, 32), dtype=float32, numpy=\narray([[0.02420677, 0.09043157, 0.01359839, 0.06675692, 0.05524044,\n        0.07433862, 0.06454626, 0.09060487, 0.03699689, 0.05421348,\n        0.04297315, 0.06289778, 0.07779754, 0.04061557, 0.06478347,\n        0.04497818, 0.        , 0.06902144, 0.1256347 , 0.06967805,\n        0.04198116, 0.035947  , 0.        , 0.07279091, 0.12716058,\n        0.04735307, 0.06786746, 0.02364375, 0.01521179, 0.0408621 ,\n        0.04505679, 0.06849273]], dtype=float32)>"
     },
     "execution_count": 109,
     "metadata": {},
     "output_type": "execute_result"
    }
   ],
   "source": [
    "max_pool_output"
   ],
   "metadata": {
    "collapsed": false,
    "ExecuteTime": {
     "end_time": "2024-04-25T09:47:45.083798883Z",
     "start_time": "2024-04-25T09:47:45.012395996Z"
    }
   },
   "id": "a222d63961f1d6a9",
   "execution_count": 109
  },
  {
   "cell_type": "markdown",
   "source": [
    "Video N°242: Model 5: Building, fitting and evaluating a 1D CNN for text"
   ],
   "metadata": {
    "collapsed": false
   },
   "id": "bc7301f00bb4c595"
  },
  {
   "cell_type": "code",
   "outputs": [
    {
     "name": "stdout",
     "output_type": "stream",
     "text": [
      "Model: \"model_5_Conv1D\"\n",
      "_________________________________________________________________\n",
      " Layer (type)                Output Shape              Param #   \n",
      "=================================================================\n",
      " input_17 (InputLayer)       [(None, 1)]               0         \n",
      "                                                                 \n",
      " text_vectorization_1 (Text  (None, 15)                0         \n",
      " Vectorization)                                                  \n",
      "                                                                 \n",
      " embedding (Embedding)       (None, 15, 128)           1280000   \n",
      "                                                                 \n",
      " conv1d_4 (Conv1D)           (None, 11, 64)            41024     \n",
      "                                                                 \n",
      " global_max_pooling1d_4 (Gl  (None, 64)                0         \n",
      " obalMaxPooling1D)                                               \n",
      "                                                                 \n",
      " dense_16 (Dense)            (None, 1)                 65        \n",
      "                                                                 \n",
      "=================================================================\n",
      "Total params: 1321089 (5.04 MB)\n",
      "Trainable params: 1321089 (5.04 MB)\n",
      "Non-trainable params: 0 (0.00 Byte)\n",
      "_________________________________________________________________\n"
     ]
    }
   ],
   "source": [
    "# Create 1-dimensional convolutional layer to model sequences\n",
    "inputs = layers.Input(shape=(1,), dtype=tf.string)\n",
    "x = text_vectorizer(inputs)\n",
    "x = embedding(x)\n",
    "x = layers.Conv1D(filters=64,\n",
    "                  kernel_size=5,\n",
    "                  strides=1,\n",
    "                  activation=\"relu\",\n",
    "                  padding=\"valid\")(x)\n",
    "x = layers.GlobalMaxPool1D()(x)\n",
    "# x = layers.Dense(units=64, activation='relu')(x)\n",
    "outputs = layers.Dense(units=1, activation='sigmoid')(x)\n",
    "model_5 = tf.keras.Model(inputs, outputs, name=\"model_5_Conv1D\")\n",
    "\n",
    "# Compile Conv1D\n",
    "model_5.compile(loss=\"binary_crossentropy\",\n",
    "                optimizer=tf.keras.optimizers.Adam(),\n",
    "                metrics=['accuracy'])\n",
    "\n",
    "# Get a summary of our Conv1D model\n",
    "model_5.summary()"
   ],
   "metadata": {
    "collapsed": false,
    "ExecuteTime": {
     "end_time": "2024-04-25T10:03:25.924744186Z",
     "start_time": "2024-04-25T10:03:25.781069212Z"
    }
   },
   "id": "a3f1248ac7ccab22",
   "execution_count": 111
  },
  {
   "cell_type": "code",
   "outputs": [
    {
     "name": "stdout",
     "output_type": "stream",
     "text": [
      "Saving TensorBoard log files to: model_logs/Conv1D/20240425-120643\n",
      "Epoch 1/5\n",
      "215/215 [==============================] - 10s 37ms/step - loss: 0.1294 - accuracy: 0.9609 - val_loss: 0.8772 - val_accuracy: 0.7730\n",
      "Epoch 2/5\n",
      "215/215 [==============================] - 2s 10ms/step - loss: 0.0744 - accuracy: 0.9729 - val_loss: 1.0631 - val_accuracy: 0.7690\n",
      "Epoch 3/5\n",
      "215/215 [==============================] - 2s 10ms/step - loss: 0.0605 - accuracy: 0.9777 - val_loss: 1.1207 - val_accuracy: 0.7625\n",
      "Epoch 4/5\n",
      "215/215 [==============================] - 2s 9ms/step - loss: 0.0551 - accuracy: 0.9796 - val_loss: 1.1976 - val_accuracy: 0.7638\n",
      "Epoch 5/5\n",
      "215/215 [==============================] - 2s 11ms/step - loss: 0.0514 - accuracy: 0.9796 - val_loss: 1.1838 - val_accuracy: 0.7559\n"
     ]
    }
   ],
   "source": [
    "# Fit the model\n",
    "model_5_history = model_5.fit(x=train_sentences,\n",
    "                              y=train_labels,\n",
    "                              epochs=5,\n",
    "                              validation_data=(val_sentences, val_labels),\n",
    "                              callbacks=[create_tensorboard_callback(dir_name=SAVE_DIR,\n",
    "                                                                     experiment_name=\"Conv1D\")])"
   ],
   "metadata": {
    "collapsed": false,
    "ExecuteTime": {
     "end_time": "2024-04-25T10:07:02.494206487Z",
     "start_time": "2024-04-25T10:06:43.855984958Z"
    }
   },
   "id": "84bb3ce79ae15b44",
   "execution_count": 112
  },
  {
   "cell_type": "code",
   "outputs": [
    {
     "name": "stdout",
     "output_type": "stream",
     "text": [
      "24/24 [==============================] - 0s 2ms/step\n"
     ]
    },
    {
     "data": {
      "text/plain": "array([[5.3564584e-01],\n       [9.4461179e-01],\n       [9.9992359e-01],\n       [7.3626623e-02],\n       [1.7251563e-06],\n       [9.9461752e-01],\n       [9.8255402e-01],\n       [9.9997795e-01],\n       [9.9999964e-01],\n       [9.3640131e-01]], dtype=float32)"
     },
     "execution_count": 113,
     "metadata": {},
     "output_type": "execute_result"
    }
   ],
   "source": [
    "# Make some predictions with our Conv1D model\n",
    "model_5_pred_probs = model_5.predict(x=val_sentences)\n",
    "model_5_pred_probs[:10]"
   ],
   "metadata": {
    "collapsed": false,
    "ExecuteTime": {
     "end_time": "2024-04-25T10:08:21.827084190Z",
     "start_time": "2024-04-25T10:08:21.633493955Z"
    }
   },
   "id": "8219cd1d5aa4a8ec",
   "execution_count": 113
  },
  {
   "cell_type": "code",
   "outputs": [
    {
     "data": {
      "text/plain": "<tf.Tensor: shape=(10,), dtype=float32, numpy=array([1., 1., 1., 0., 0., 1., 1., 1., 1., 1.], dtype=float32)>"
     },
     "execution_count": 114,
     "metadata": {},
     "output_type": "execute_result"
    }
   ],
   "source": [
    "# Convert model 5 pred probs to labels\n",
    "model_5_preds = tf.squeeze(tf.round(model_5_pred_probs))\n",
    "model_5_preds[:10]"
   ],
   "metadata": {
    "collapsed": false,
    "ExecuteTime": {
     "end_time": "2024-04-25T10:09:39.600117422Z",
     "start_time": "2024-04-25T10:09:39.550825204Z"
    }
   },
   "id": "2d18cf9aec6c001c",
   "execution_count": 114
  },
  {
   "cell_type": "code",
   "outputs": [
    {
     "data": {
      "text/plain": "{'accuracy': 75.59055118110236,\n 'precision': 0.7555220084761928,\n 'recall': 0.7559055118110236,\n 'f1': 0.7555828084930034}"
     },
     "execution_count": 116,
     "metadata": {},
     "output_type": "execute_result"
    }
   ],
   "source": [
    "# Calculate results for model 5\n",
    "model_5_results = evaluate_classification_metrics(y_true=val_labels,\n",
    "                                                  y_pred=model_5_preds)\n",
    "model_5_results"
   ],
   "metadata": {
    "collapsed": false,
    "ExecuteTime": {
     "end_time": "2024-04-25T10:10:37.073591429Z",
     "start_time": "2024-04-25T10:10:37.017752527Z"
    }
   },
   "id": "805232ccbc661616",
   "execution_count": 116
  },
  {
   "cell_type": "code",
   "outputs": [
    {
     "data": {
      "text/plain": "array([False, False, False, False])"
     },
     "execution_count": 117,
     "metadata": {},
     "output_type": "execute_result"
    }
   ],
   "source": [
    "np.array(list(model_5_results.values())) > np.array(list(baseline_results.values()))"
   ],
   "metadata": {
    "collapsed": false,
    "ExecuteTime": {
     "end_time": "2024-04-25T10:11:03.200804122Z",
     "start_time": "2024-04-25T10:11:03.091058607Z"
    }
   },
   "id": "b28c19a9a14396b1",
   "execution_count": 117
  },
  {
   "cell_type": "markdown",
   "source": [
    "Nous n'avons donc pas de meilleurs résultats avec model_5 comparé à model_0"
   ],
   "metadata": {
    "collapsed": false
   },
   "id": "26682814ccd8f51f"
  },
  {
   "cell_type": "markdown",
   "source": [
    "Video N°243: Using TensorFlow Hub for pretrained word embeddings (transfer learning for NLP)"
   ],
   "metadata": {
    "collapsed": false
   },
   "id": "aef5d05a0928b530"
  },
  {
   "cell_type": "markdown",
   "source": [
    "## Model 6: TensorFlow Hub Pretrained Sentence Encoder\n",
    "\n",
    "Now we've built a few of our own model's, let's try and use transfer learning for NLP, specifically using TensorFlow Hub's Universal Sentence Encoder:\n",
    "- [https://tfhub.dev/google/universal-sentence-encoder/4](https://tfhub.dev/google/universal-sentence-encoder/4)\n",
    "- [https://www.kaggle.com/models/google/universal-sentence-encoder](https://www.kaggle.com/models/google/universal-sentence-encoder)\n",
    "\n",
    "See how the USE was created here: [https://arxiv.org/abs/1803.11175](https://arxiv.org/abs/1803.11175)"
   ],
   "metadata": {
    "collapsed": false
   },
   "id": "40afec6222ae4ff8"
  },
  {
   "cell_type": "code",
   "outputs": [
    {
     "name": "stdout",
     "output_type": "stream",
     "text": [
      "tf.Tensor(\n",
      "[-0.01157027  0.0248591   0.02878048 -0.012715    0.03971538  0.0882776\n",
      "  0.02680985  0.05589838 -0.01068729 -0.00597292  0.00639323 -0.0181952\n",
      "  0.00030814  0.09105888  0.05874645 -0.03180628  0.01512474 -0.05162929\n",
      "  0.00991367 -0.06865346 -0.04209305  0.0267898   0.03011008  0.00321069\n",
      " -0.00337971 -0.04787356  0.02266719 -0.00985925 -0.04063613 -0.01292093\n",
      " -0.04666384  0.056303   -0.03949255  0.00517688  0.02495828 -0.07014441\n",
      "  0.02871508  0.04947684 -0.00633978 -0.08960193  0.02807117 -0.00808362\n",
      " -0.01360601  0.0599865  -0.10361787 -0.05195374  0.00232955 -0.0233253\n",
      " -0.03758105  0.03327729], shape=(50,), dtype=float32)\n"
     ]
    }
   ],
   "source": [
    "import tensorflow_hub as hub\n",
    "embed = hub.load(\"https://tfhub.dev/google/universal-sentence-encoder/4\")\n",
    "embed_samples = embed([sample_sentence, \"When you can the universal sentence encoder on a sentence, it turns it into numbers.\"])\n",
    "print(embed_samples[0][:50])"
   ],
   "metadata": {
    "collapsed": false,
    "ExecuteTime": {
     "end_time": "2024-04-25T11:24:14.467529939Z",
     "start_time": "2024-04-25T11:23:03.741795551Z"
    }
   },
   "id": "5492bf86ffc739ec",
   "execution_count": 118
  },
  {
   "cell_type": "code",
   "outputs": [
    {
     "data": {
      "text/plain": "TensorShape([512])"
     },
     "execution_count": 119,
     "metadata": {},
     "output_type": "execute_result"
    }
   ],
   "source": [
    "embed_samples[0].shape"
   ],
   "metadata": {
    "collapsed": false,
    "ExecuteTime": {
     "end_time": "2024-04-25T11:26:31.380961401Z",
     "start_time": "2024-04-25T11:26:31.300611564Z"
    }
   },
   "id": "352c616b96794c2b",
   "execution_count": 119
  },
  {
   "cell_type": "markdown",
   "source": [
    "Video N°244: Model 6: Building, training and evaluating a transfer learning model for NLP"
   ],
   "metadata": {
    "collapsed": false
   },
   "id": "abe905fe8ae129a0"
  },
  {
   "cell_type": "code",
   "outputs": [],
   "source": [
    "# Create a Keras Layer using the USE pretrained layer from tensorflow hub "
   ],
   "metadata": {
    "collapsed": false
   },
   "id": "89e4cc03ae15549d"
  }
 ],
 "metadata": {
  "kernelspec": {
   "display_name": "Python 3",
   "language": "python",
   "name": "python3"
  },
  "language_info": {
   "codemirror_mode": {
    "name": "ipython",
    "version": 2
   },
   "file_extension": ".py",
   "mimetype": "text/x-python",
   "name": "python",
   "nbconvert_exporter": "python",
   "pygments_lexer": "ipython2",
   "version": "2.7.6"
  }
 },
 "nbformat": 4,
 "nbformat_minor": 5
}
