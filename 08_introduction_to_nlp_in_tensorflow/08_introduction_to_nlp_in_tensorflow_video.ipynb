{
 "cells": [
  {
   "cell_type": "markdown",
   "source": [
    "# Introduction to NLP Fundamentals in TensorFlow\n",
    "\n",
    "NLP has the goal of deriving informaton out of natural language (could be seqeuences text or speech).\n",
    "\n",
    "Another common term for NLP problems is sequence to sequence problems (seq2seq).\n",
    "\n",
    "> 📖 **Resource:** See all course materials, resources and extra-curriculum for this notebook on GitHub: https://github.com/mrdbourke/tensorflow-deep-learning/"
   ],
   "metadata": {
    "collapsed": false
   },
   "id": "2adb6a2a9bb4b34"
  },
  {
   "cell_type": "markdown",
   "source": [
    "Video N° 225: Preparing a notebook for our first NLP with TensorFlow project"
   ],
   "metadata": {
    "collapsed": false
   },
   "id": "390bc707ee30ca18"
  },
  {
   "cell_type": "markdown",
   "source": [
    "## Check for GPU"
   ],
   "metadata": {
    "collapsed": false
   },
   "id": "a01528384bc7a913"
  },
  {
   "cell_type": "code",
   "execution_count": null,
   "id": "initial_id",
   "metadata": {
    "collapsed": true,
    "is_executing": true
   },
   "outputs": [],
   "source": [
    "from MachineLearningUtils.system_setup.gpu import activate_gpu\n",
    "activate_gpu()"
   ]
  },
  {
   "cell_type": "code",
   "outputs": [],
   "source": [
    "!nvidia-smi -L"
   ],
   "metadata": {
    "collapsed": false
   },
   "id": "a5ad2b6c1c11f0ae"
  },
  {
   "cell_type": "markdown",
   "source": [
    "## Get helper functions"
   ],
   "metadata": {
    "collapsed": false
   },
   "id": "4edd1e8a30d0ca46"
  },
  {
   "cell_type": "code",
   "outputs": [],
   "source": [
    "from MachineLearningUtils.data_acquisition.data_downloader import *\n",
    "from MachineLearningUtils.data_visualization.augmentation_effects import *\n",
    "from MachineLearningUtils.data_visualization.evaluation_metrics import *\n",
    "from MachineLearningUtils.data_visualization.image_visualization import *\n",
    "from MachineLearningUtils.data_visualization.model_learning_curves import *\n",
    "from MachineLearningUtils.data_visualization.prediction_visualization import *\n",
    "from MachineLearningUtils.training_utilities.model_callbacks import *\n",
    "from MachineLearningUtils.training_utilities.transfer_learning import *"
   ],
   "metadata": {
    "collapsed": false
   },
   "id": "69b26c93cd437432"
  },
  {
   "cell_type": "code",
   "outputs": [],
   "source": [],
   "metadata": {
    "collapsed": false
   },
   "id": "d4fec3deaddbf1f5"
  }
 ],
 "metadata": {
  "kernelspec": {
   "display_name": "Python 3",
   "language": "python",
   "name": "python3"
  },
  "language_info": {
   "codemirror_mode": {
    "name": "ipython",
    "version": 2
   },
   "file_extension": ".py",
   "mimetype": "text/x-python",
   "name": "python",
   "nbconvert_exporter": "python",
   "pygments_lexer": "ipython2",
   "version": "2.7.6"
  }
 },
 "nbformat": 4,
 "nbformat_minor": 5
}
