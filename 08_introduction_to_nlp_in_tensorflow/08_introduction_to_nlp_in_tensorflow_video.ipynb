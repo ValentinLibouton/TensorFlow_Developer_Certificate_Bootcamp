{
 "cells": [
  {
   "cell_type": "markdown",
   "source": [
    "# Introduction to NLP Fundamentals in TensorFlow\n",
    "\n",
    "NLP has the goal of deriving informaton out of natural language (could be seqeuences text or speech).\n",
    "\n",
    "Another common term for NLP problems is sequence to sequence problems (seq2seq).\n",
    "\n",
    "> 📖 **Resource:** See all course materials, resources and extra-curriculum for this notebook on GitHub: https://github.com/mrdbourke/tensorflow-deep-learning/"
   ],
   "metadata": {
    "collapsed": false
   },
   "id": "2adb6a2a9bb4b34"
  },
  {
   "cell_type": "markdown",
   "source": [
    "Video N° 225: Preparing a notebook for our first NLP with TensorFlow project"
   ],
   "metadata": {
    "collapsed": false
   },
   "id": "390bc707ee30ca18"
  },
  {
   "cell_type": "markdown",
   "source": [
    "## Check for GPU"
   ],
   "metadata": {
    "collapsed": false
   },
   "id": "a01528384bc7a913"
  },
  {
   "cell_type": "code",
   "execution_count": 1,
   "id": "initial_id",
   "metadata": {
    "collapsed": true,
    "ExecuteTime": {
     "end_time": "2024-04-26T10:03:02.999842725Z",
     "start_time": "2024-04-26T10:02:58.985325186Z"
    }
   },
   "outputs": [
    {
     "name": "stderr",
     "output_type": "stream",
     "text": [
      "2024-04-26 12:02:59.653781: E external/local_xla/xla/stream_executor/cuda/cuda_dnn.cc:9261] Unable to register cuDNN factory: Attempting to register factory for plugin cuDNN when one has already been registered\n",
      "2024-04-26 12:02:59.653819: E external/local_xla/xla/stream_executor/cuda/cuda_fft.cc:607] Unable to register cuFFT factory: Attempting to register factory for plugin cuFFT when one has already been registered\n",
      "2024-04-26 12:02:59.683422: E external/local_xla/xla/stream_executor/cuda/cuda_blas.cc:1515] Unable to register cuBLAS factory: Attempting to register factory for plugin cuBLAS when one has already been registered\n",
      "2024-04-26 12:02:59.736336: I tensorflow/core/platform/cpu_feature_guard.cc:182] This TensorFlow binary is optimized to use available CPU instructions in performance-critical operations.\n",
      "To enable the following instructions: SSE4.1 SSE4.2 AVX AVX2 FMA, in other operations, rebuild TensorFlow with the appropriate compiler flags.\n"
     ]
    },
    {
     "name": "stdout",
     "output_type": "stream",
     "text": [
      "1 Physical GPUs, 1 Logical GPU\n"
     ]
    },
    {
     "name": "stderr",
     "output_type": "stream",
     "text": [
      "2024-04-26 12:03:02.477465: I external/local_xla/xla/stream_executor/cuda/cuda_executor.cc:901] successful NUMA node read from SysFS had negative value (-1), but there must be at least one NUMA node, so returning NUMA node zero. See more at https://github.com/torvalds/linux/blob/v6.0/Documentation/ABI/testing/sysfs-bus-pci#L344-L355\n",
      "2024-04-26 12:03:02.759279: I external/local_xla/xla/stream_executor/cuda/cuda_executor.cc:901] successful NUMA node read from SysFS had negative value (-1), but there must be at least one NUMA node, so returning NUMA node zero. See more at https://github.com/torvalds/linux/blob/v6.0/Documentation/ABI/testing/sysfs-bus-pci#L344-L355\n",
      "2024-04-26 12:03:02.759584: I external/local_xla/xla/stream_executor/cuda/cuda_executor.cc:901] successful NUMA node read from SysFS had negative value (-1), but there must be at least one NUMA node, so returning NUMA node zero. See more at https://github.com/torvalds/linux/blob/v6.0/Documentation/ABI/testing/sysfs-bus-pci#L344-L355\n",
      "2024-04-26 12:03:02.763634: I external/local_xla/xla/stream_executor/cuda/cuda_executor.cc:901] successful NUMA node read from SysFS had negative value (-1), but there must be at least one NUMA node, so returning NUMA node zero. See more at https://github.com/torvalds/linux/blob/v6.0/Documentation/ABI/testing/sysfs-bus-pci#L344-L355\n",
      "2024-04-26 12:03:02.763947: I external/local_xla/xla/stream_executor/cuda/cuda_executor.cc:901] successful NUMA node read from SysFS had negative value (-1), but there must be at least one NUMA node, so returning NUMA node zero. See more at https://github.com/torvalds/linux/blob/v6.0/Documentation/ABI/testing/sysfs-bus-pci#L344-L355\n",
      "2024-04-26 12:03:02.764163: I external/local_xla/xla/stream_executor/cuda/cuda_executor.cc:901] successful NUMA node read from SysFS had negative value (-1), but there must be at least one NUMA node, so returning NUMA node zero. See more at https://github.com/torvalds/linux/blob/v6.0/Documentation/ABI/testing/sysfs-bus-pci#L344-L355\n",
      "2024-04-26 12:03:02.836727: I external/local_xla/xla/stream_executor/cuda/cuda_executor.cc:901] successful NUMA node read from SysFS had negative value (-1), but there must be at least one NUMA node, so returning NUMA node zero. See more at https://github.com/torvalds/linux/blob/v6.0/Documentation/ABI/testing/sysfs-bus-pci#L344-L355\n",
      "2024-04-26 12:03:02.836988: I external/local_xla/xla/stream_executor/cuda/cuda_executor.cc:901] successful NUMA node read from SysFS had negative value (-1), but there must be at least one NUMA node, so returning NUMA node zero. See more at https://github.com/torvalds/linux/blob/v6.0/Documentation/ABI/testing/sysfs-bus-pci#L344-L355\n",
      "2024-04-26 12:03:02.837159: I external/local_xla/xla/stream_executor/cuda/cuda_executor.cc:901] successful NUMA node read from SysFS had negative value (-1), but there must be at least one NUMA node, so returning NUMA node zero. See more at https://github.com/torvalds/linux/blob/v6.0/Documentation/ABI/testing/sysfs-bus-pci#L344-L355\n",
      "2024-04-26 12:03:02.837286: I tensorflow/core/common_runtime/gpu/gpu_device.cc:1929] Created device /job:localhost/replica:0/task:0/device:GPU:0 with 5305 MB memory:  -> device: 0, name: NVIDIA GeForce RTX 3050, pci bus id: 0000:09:00.0, compute capability: 8.6\n"
     ]
    }
   ],
   "source": [
    "import numpy as np\n",
    "\n",
    "from MachineLearningUtils.system_setup.gpu import activate_gpu\n",
    "activate_gpu()"
   ]
  },
  {
   "cell_type": "code",
   "outputs": [
    {
     "name": "stdout",
     "output_type": "stream",
     "text": [
      "/bin/bash: warning: setlocale: LC_ALL: cannot change locale (en_US.UTF-8)\r\n",
      "GPU 0: NVIDIA GeForce RTX 3050 (UUID: GPU-ee6cd8ff-34bf-dc58-2edb-4f5120aaec55)\r\n"
     ]
    }
   ],
   "source": [
    "!nvidia-smi -L"
   ],
   "metadata": {
    "collapsed": false,
    "ExecuteTime": {
     "end_time": "2024-04-26T10:03:03.207926520Z",
     "start_time": "2024-04-26T10:03:02.879143170Z"
    }
   },
   "id": "a5ad2b6c1c11f0ae",
   "execution_count": 2
  },
  {
   "cell_type": "markdown",
   "source": [
    "## Get helper functions"
   ],
   "metadata": {
    "collapsed": false
   },
   "id": "4edd1e8a30d0ca46"
  },
  {
   "cell_type": "code",
   "outputs": [],
   "source": [
    "from MachineLearningUtils.data_acquisition.data_downloader import *\n",
    "from MachineLearningUtils.data_visualization.augmentation_effects import *\n",
    "from MachineLearningUtils.data_visualization.evaluation_metrics import *\n",
    "from MachineLearningUtils.data_visualization.image_visualization import *\n",
    "from MachineLearningUtils.data_visualization.model_learning_curves import *\n",
    "from MachineLearningUtils.data_visualization.prediction_visualization import *\n",
    "from MachineLearningUtils.training_utilities.model_callbacks import *\n",
    "from MachineLearningUtils.training_utilities.transfer_learning import *"
   ],
   "metadata": {
    "collapsed": false,
    "ExecuteTime": {
     "end_time": "2024-04-26T10:03:04.186735829Z",
     "start_time": "2024-04-26T10:03:03.118347821Z"
    }
   },
   "id": "69b26c93cd437432",
   "execution_count": 3
  },
  {
   "cell_type": "markdown",
   "source": [
    "## Get a text dataset\n",
    "\n",
    "The dataset we're going to be using is Kaggle's introduction to NLP dataset (text samples of Tweets labelled as diaster or not diaster).\n",
    "\n",
    "See the original source here: https://www.kaggle.com/c/nlp-getting-started"
   ],
   "metadata": {
    "collapsed": false
   },
   "id": "7f35c76937f69485"
  },
  {
   "cell_type": "code",
   "outputs": [
    {
     "name": "stdout",
     "output_type": "stream",
     "text": [
      "The file nlp_getting_started.zip already exists.\n",
      "Extracting nlp_getting_started.zip as ZIP...\n",
      "nlp_getting_started.zip has been extracted to current directory.\n"
     ]
    }
   ],
   "source": [
    "url = \"https://storage.googleapis.com/ztm_tf_course/nlp_getting_started.zip\"\n",
    "download_data(url=url, file_path=\"nlp_getting_started.zip\", extract=True)"
   ],
   "metadata": {
    "collapsed": false,
    "ExecuteTime": {
     "end_time": "2024-04-26T10:03:04.218674620Z",
     "start_time": "2024-04-26T10:03:04.186516821Z"
    }
   },
   "id": "d4fec3deaddbf1f5",
   "execution_count": 4
  },
  {
   "cell_type": "markdown",
   "source": [
    "Video N°226: Becoming one with the data and visualising a text dataset"
   ],
   "metadata": {
    "collapsed": false
   },
   "id": "855c560ea72bcb02"
  },
  {
   "cell_type": "markdown",
   "source": [
    "## Visualizing a text dataset\n",
    "\n",
    "To visualize our text samples, we first have to read them in, one way to do so would be to use Python: https://realpython.com/read-write-files-python/\n",
    "\n",
    "But I prefer to get visual straight away.\n",
    "\n",
    "So another way to do this is to use pandas..."
   ],
   "metadata": {
    "collapsed": false
   },
   "id": "861f76a64f6f7ad8"
  },
  {
   "cell_type": "code",
   "outputs": [
    {
     "data": {
      "text/plain": "   id keyword location                                               text  \\\n0   1     NaN      NaN  Our Deeds are the Reason of this #earthquake M...   \n1   4     NaN      NaN             Forest fire near La Ronge Sask. Canada   \n2   5     NaN      NaN  All residents asked to 'shelter in place' are ...   \n3   6     NaN      NaN  13,000 people receive #wildfires evacuation or...   \n4   7     NaN      NaN  Just got sent this photo from Ruby #Alaska as ...   \n\n   target  \n0       1  \n1       1  \n2       1  \n3       1  \n4       1  ",
      "text/html": "<div>\n<style scoped>\n    .dataframe tbody tr th:only-of-type {\n        vertical-align: middle;\n    }\n\n    .dataframe tbody tr th {\n        vertical-align: top;\n    }\n\n    .dataframe thead th {\n        text-align: right;\n    }\n</style>\n<table border=\"1\" class=\"dataframe\">\n  <thead>\n    <tr style=\"text-align: right;\">\n      <th></th>\n      <th>id</th>\n      <th>keyword</th>\n      <th>location</th>\n      <th>text</th>\n      <th>target</th>\n    </tr>\n  </thead>\n  <tbody>\n    <tr>\n      <th>0</th>\n      <td>1</td>\n      <td>NaN</td>\n      <td>NaN</td>\n      <td>Our Deeds are the Reason of this #earthquake M...</td>\n      <td>1</td>\n    </tr>\n    <tr>\n      <th>1</th>\n      <td>4</td>\n      <td>NaN</td>\n      <td>NaN</td>\n      <td>Forest fire near La Ronge Sask. Canada</td>\n      <td>1</td>\n    </tr>\n    <tr>\n      <th>2</th>\n      <td>5</td>\n      <td>NaN</td>\n      <td>NaN</td>\n      <td>All residents asked to 'shelter in place' are ...</td>\n      <td>1</td>\n    </tr>\n    <tr>\n      <th>3</th>\n      <td>6</td>\n      <td>NaN</td>\n      <td>NaN</td>\n      <td>13,000 people receive #wildfires evacuation or...</td>\n      <td>1</td>\n    </tr>\n    <tr>\n      <th>4</th>\n      <td>7</td>\n      <td>NaN</td>\n      <td>NaN</td>\n      <td>Just got sent this photo from Ruby #Alaska as ...</td>\n      <td>1</td>\n    </tr>\n  </tbody>\n</table>\n</div>"
     },
     "execution_count": 5,
     "metadata": {},
     "output_type": "execute_result"
    }
   ],
   "source": [
    "import pandas as pd\n",
    "train_df = pd.read_csv(\"train.csv\")\n",
    "test_df = pd.read_csv(\"test.csv\")\n",
    "train_df.head()"
   ],
   "metadata": {
    "collapsed": false,
    "ExecuteTime": {
     "end_time": "2024-04-26T10:03:04.260192137Z",
     "start_time": "2024-04-26T10:03:04.187120935Z"
    }
   },
   "id": "e9417892d138aed0",
   "execution_count": 5
  },
  {
   "cell_type": "code",
   "outputs": [
    {
     "data": {
      "text/plain": "        id      keyword               location  \\\n2644  3796  destruction                    NaN   \n2227  3185       deluge                    NaN   \n5448  7769       police                     UK   \n132    191   aftershock                    NaN   \n6845  9810       trauma  Montgomery County, MD   \n\n                                                   text  target  \n2644  So you have a new weapon that can cause un-ima...       1  \n2227  The f$&amp;@ing things I do for #GISHWHES Just...       0  \n5448  DT @georgegalloway: RT @Galloway4Mayor: ÛÏThe...       1  \n132   Aftershock back to school kick off was great. ...       0  \n6845  in response to trauma Children of Addicts deve...       0  ",
      "text/html": "<div>\n<style scoped>\n    .dataframe tbody tr th:only-of-type {\n        vertical-align: middle;\n    }\n\n    .dataframe tbody tr th {\n        vertical-align: top;\n    }\n\n    .dataframe thead th {\n        text-align: right;\n    }\n</style>\n<table border=\"1\" class=\"dataframe\">\n  <thead>\n    <tr style=\"text-align: right;\">\n      <th></th>\n      <th>id</th>\n      <th>keyword</th>\n      <th>location</th>\n      <th>text</th>\n      <th>target</th>\n    </tr>\n  </thead>\n  <tbody>\n    <tr>\n      <th>2644</th>\n      <td>3796</td>\n      <td>destruction</td>\n      <td>NaN</td>\n      <td>So you have a new weapon that can cause un-ima...</td>\n      <td>1</td>\n    </tr>\n    <tr>\n      <th>2227</th>\n      <td>3185</td>\n      <td>deluge</td>\n      <td>NaN</td>\n      <td>The f$&amp;amp;@ing things I do for #GISHWHES Just...</td>\n      <td>0</td>\n    </tr>\n    <tr>\n      <th>5448</th>\n      <td>7769</td>\n      <td>police</td>\n      <td>UK</td>\n      <td>DT @georgegalloway: RT @Galloway4Mayor: ÛÏThe...</td>\n      <td>1</td>\n    </tr>\n    <tr>\n      <th>132</th>\n      <td>191</td>\n      <td>aftershock</td>\n      <td>NaN</td>\n      <td>Aftershock back to school kick off was great. ...</td>\n      <td>0</td>\n    </tr>\n    <tr>\n      <th>6845</th>\n      <td>9810</td>\n      <td>trauma</td>\n      <td>Montgomery County, MD</td>\n      <td>in response to trauma Children of Addicts deve...</td>\n      <td>0</td>\n    </tr>\n  </tbody>\n</table>\n</div>"
     },
     "execution_count": 6,
     "metadata": {},
     "output_type": "execute_result"
    }
   ],
   "source": [
    "# Shuffle training dataframe\n",
    "train_df_shuffled = train_df.sample(frac=1, random_state=42)\n",
    "train_df_shuffled.head()"
   ],
   "metadata": {
    "collapsed": false,
    "ExecuteTime": {
     "end_time": "2024-04-26T10:03:04.341250987Z",
     "start_time": "2024-04-26T10:03:04.200463685Z"
    }
   },
   "id": "18100a531cd6ac08",
   "execution_count": 6
  },
  {
   "cell_type": "code",
   "outputs": [
    {
     "data": {
      "text/plain": "   id keyword location                                               text\n0   0     NaN      NaN                 Just happened a terrible car crash\n1   2     NaN      NaN  Heard about #earthquake is different cities, s...\n2   3     NaN      NaN  there is a forest fire at spot pond, geese are...\n3   9     NaN      NaN           Apocalypse lighting. #Spokane #wildfires\n4  11     NaN      NaN      Typhoon Soudelor kills 28 in China and Taiwan",
      "text/html": "<div>\n<style scoped>\n    .dataframe tbody tr th:only-of-type {\n        vertical-align: middle;\n    }\n\n    .dataframe tbody tr th {\n        vertical-align: top;\n    }\n\n    .dataframe thead th {\n        text-align: right;\n    }\n</style>\n<table border=\"1\" class=\"dataframe\">\n  <thead>\n    <tr style=\"text-align: right;\">\n      <th></th>\n      <th>id</th>\n      <th>keyword</th>\n      <th>location</th>\n      <th>text</th>\n    </tr>\n  </thead>\n  <tbody>\n    <tr>\n      <th>0</th>\n      <td>0</td>\n      <td>NaN</td>\n      <td>NaN</td>\n      <td>Just happened a terrible car crash</td>\n    </tr>\n    <tr>\n      <th>1</th>\n      <td>2</td>\n      <td>NaN</td>\n      <td>NaN</td>\n      <td>Heard about #earthquake is different cities, s...</td>\n    </tr>\n    <tr>\n      <th>2</th>\n      <td>3</td>\n      <td>NaN</td>\n      <td>NaN</td>\n      <td>there is a forest fire at spot pond, geese are...</td>\n    </tr>\n    <tr>\n      <th>3</th>\n      <td>9</td>\n      <td>NaN</td>\n      <td>NaN</td>\n      <td>Apocalypse lighting. #Spokane #wildfires</td>\n    </tr>\n    <tr>\n      <th>4</th>\n      <td>11</td>\n      <td>NaN</td>\n      <td>NaN</td>\n      <td>Typhoon Soudelor kills 28 in China and Taiwan</td>\n    </tr>\n  </tbody>\n</table>\n</div>"
     },
     "execution_count": 7,
     "metadata": {},
     "output_type": "execute_result"
    }
   ],
   "source": [
    "# What does the test dataframe look like?\n",
    "test_df.head()"
   ],
   "metadata": {
    "collapsed": false,
    "ExecuteTime": {
     "end_time": "2024-04-26T10:03:04.366741312Z",
     "start_time": "2024-04-26T10:03:04.215701172Z"
    }
   },
   "id": "de4f346aae86634b",
   "execution_count": 7
  },
  {
   "cell_type": "code",
   "outputs": [
    {
     "data": {
      "text/plain": "target\n0    4342\n1    3271\nName: count, dtype: int64"
     },
     "execution_count": 8,
     "metadata": {},
     "output_type": "execute_result"
    }
   ],
   "source": [
    "# How many examples of each class?\n",
    "train_df_shuffled.target.value_counts()"
   ],
   "metadata": {
    "collapsed": false,
    "ExecuteTime": {
     "end_time": "2024-04-26T10:03:04.420948192Z",
     "start_time": "2024-04-26T10:03:04.223748851Z"
    }
   },
   "id": "61b993987dcfacc7",
   "execution_count": 8
  },
  {
   "cell_type": "code",
   "outputs": [
    {
     "data": {
      "text/plain": "(7613, 3263)"
     },
     "execution_count": 9,
     "metadata": {},
     "output_type": "execute_result"
    }
   ],
   "source": [
    "# How many total samples?\n",
    "len(train_df), len(test_df)"
   ],
   "metadata": {
    "collapsed": false,
    "ExecuteTime": {
     "end_time": "2024-04-26T10:03:04.449298084Z",
     "start_time": "2024-04-26T10:03:04.231274954Z"
    }
   },
   "id": "c3a07e778ad79968",
   "execution_count": 9
  },
  {
   "cell_type": "code",
   "outputs": [
    {
     "name": "stdout",
     "output_type": "stream",
     "text": [
      "Target: 1 (real disaster)\n",
      "Text:\n",
      "@SatanaOfHell ever seen by far. A dreamy look came over his face and his ears flattened as he started to walk slowly toward her.* You'd-\n",
      "\n",
      "---\n",
      "\n",
      "Target: 1 (real disaster)\n",
      "Text:\n",
      "Families to sue over Legionnaires: More than 40 families affected by the fatal outbreak of Legionnaires' disea... http://t.co/VBsj8tniv1\n",
      "\n",
      "---\n",
      "\n",
      "Target: 0 (not real disaster)\n",
      "Text:\n",
      "I'm not a Drake fan but I enjoy seeing him body-bagging people. Great marketing lol.\n",
      "\n",
      "---\n",
      "\n",
      "Target: 1 (real disaster)\n",
      "Text:\n",
      "Suicide bomber kills 15 in Saudi security site mosque - Reuters via World - Google News - Wall ... http://t.co/nF4IculOje\n",
      "\n",
      "---\n",
      "\n",
      "Target: 1 (real disaster)\n",
      "Text:\n",
      "My brother-n-law riooooos got the call to head up north and fight the wild fires. Dudes a beast atÛ_ https://t.co/463P0yS0Eb\n",
      "\n",
      "---\n"
     ]
    }
   ],
   "source": [
    "# Let's visualize some random training examples\n",
    "import random\n",
    "random_index = random.randint(0, len(train_df) - 5) # create random indexes not higher than the total number of samples\n",
    "for row in train_df_shuffled[[\"text\", \"target\"]][random_index:random_index+5].itertuples():\n",
    "    _, text, target= row\n",
    "    print(f\"Target: {target}\", \"(real disaster)\" if target > 0 else \"(not real disaster)\")\n",
    "    print(f\"Text:\\n{text}\\n\")\n",
    "    print(\"---\\n\")"
   ],
   "metadata": {
    "collapsed": false,
    "ExecuteTime": {
     "end_time": "2024-04-26T10:03:04.454553819Z",
     "start_time": "2024-04-26T10:03:04.278875224Z"
    }
   },
   "id": "7035319454aaaab6",
   "execution_count": 10
  },
  {
   "cell_type": "markdown",
   "source": [
    "Video N°227: Splitting data into training and validation sets"
   ],
   "metadata": {
    "collapsed": false
   },
   "id": "db116c0a3789a71e"
  },
  {
   "cell_type": "markdown",
   "source": [
    "### Split data into training and validation sets\n",
    "\n",
    "We want to be able to see how our model is performing on unseen data whilst it trains.\n",
    "\n",
    "And because the testing dataset doesn't have labels, we'll have to create a validation dataset to evaluate on (the model won't see the validation dataset during training so we can use its samples and labels to evaluate our model's performance)."
   ],
   "metadata": {
    "collapsed": false
   },
   "id": "3a2ec748b6ce516d"
  },
  {
   "cell_type": "code",
   "outputs": [],
   "source": [
    "from sklearn.model_selection import train_test_split"
   ],
   "metadata": {
    "collapsed": false,
    "ExecuteTime": {
     "end_time": "2024-04-26T10:03:04.467555477Z",
     "start_time": "2024-04-26T10:03:04.279505682Z"
    }
   },
   "id": "21d0b80beabda43a",
   "execution_count": 11
  },
  {
   "cell_type": "code",
   "outputs": [],
   "source": [
    "# Use train_test_split to split training data into training and validation sets\n",
    "train_sentences, val_sentences, train_labels, val_labels = train_test_split(train_df_shuffled[\"text\"].to_numpy(),\n",
    "                                                                            train_df_shuffled[\"target\"].to_numpy(),\n",
    "                                                                            test_size=0.1, # use 10% of training data for validation split\n",
    "                                                                            random_state=42)"
   ],
   "metadata": {
    "collapsed": false,
    "ExecuteTime": {
     "end_time": "2024-04-26T10:03:04.472324957Z",
     "start_time": "2024-04-26T10:03:04.280079274Z"
    }
   },
   "id": "a7f37628542eae88",
   "execution_count": 12
  },
  {
   "cell_type": "code",
   "outputs": [
    {
     "data": {
      "text/plain": "(6851, 6851, 762, 762)"
     },
     "execution_count": 13,
     "metadata": {},
     "output_type": "execute_result"
    }
   ],
   "source": [
    "# Check the lengths\n",
    "len(train_sentences), len(train_labels), len(val_sentences), len(val_labels)"
   ],
   "metadata": {
    "collapsed": false,
    "ExecuteTime": {
     "end_time": "2024-04-26T10:03:04.478159653Z",
     "start_time": "2024-04-26T10:03:04.280664435Z"
    }
   },
   "id": "74cccbe01bdee96c",
   "execution_count": 13
  },
  {
   "cell_type": "code",
   "outputs": [
    {
     "data": {
      "text/plain": "(array(['@mogacola @zamtriossu i screamed after hitting tweet',\n        'Imagine getting flattened by Kurt Zouma',\n        '@Gurmeetramrahim #MSGDoing111WelfareWorks Green S welfare force ke appx 65000 members har time disaster victim ki help ke liye tyar hai....',\n        \"@shakjn @C7 @Magnums im shaking in fear he's gonna hack the planet\",\n        'Somehow find you and I collide http://t.co/Ee8RpOahPk',\n        '@EvaHanderek @MarleyKnysh great times until the bus driver held us hostage in the mall parking lot lmfao',\n        'destroy the free fandom honestly',\n        'Weapons stolen from National Guard Armory in New Albany still missing #Gunsense http://t.co/lKNU8902JE',\n        '@wfaaweather Pete when will the heat wave pass? Is it really going to be mid month? Frisco Boy Scouts have a canoe trip in Okla.',\n        'Patient-reported outcomes in long-term survivors of metastatic colorectal cancer - British Journal of Surgery http://t.co/5Yl4DC1Tqt'],\n       dtype=object),\n array([0, 0, 1, 0, 0, 1, 1, 0, 1, 1]))"
     },
     "execution_count": 14,
     "metadata": {},
     "output_type": "execute_result"
    }
   ],
   "source": [
    "# Check the first 10 samples\n",
    "train_sentences[:10], train_labels[:10]"
   ],
   "metadata": {
    "collapsed": false,
    "ExecuteTime": {
     "end_time": "2024-04-26T10:03:04.491475168Z",
     "start_time": "2024-04-26T10:03:04.281351408Z"
    }
   },
   "id": "b3ddfdb3c4c57617",
   "execution_count": 14
  },
  {
   "cell_type": "markdown",
   "source": [
    "Video N°228: Converting text data to numbers using tokenisation and embeddings (overview)\n",
    "Video N°229: Setting up a TensorFlow TextVectorization layer to convert text to numbers"
   ],
   "metadata": {
    "collapsed": false
   },
   "id": "157a2580c83a5859"
  },
  {
   "cell_type": "markdown",
   "source": [
    "## Converting text into numbers\n",
    "\n",
    "When dealing with a text problem, one of the first things you'll have to do before you can build a model is to convert your text to numbers.\n",
    "\n",
    "There are a few ways to do this, namely:\n",
    "* Tokenziation - direct mapping of token (a token could be a word or a character) to number\n",
    "* Embedding - create a matrix of feature vector for each token (the size of the feature vector can be defined and this embedding can be learned)"
   ],
   "metadata": {
    "collapsed": false
   },
   "id": "26e1e370fdd36669"
  },
  {
   "cell_type": "markdown",
   "source": [
    "### Text vectorization (tokenization)"
   ],
   "metadata": {
    "collapsed": false
   },
   "id": "d8671d415f2b0e06"
  },
  {
   "cell_type": "code",
   "outputs": [
    {
     "data": {
      "text/plain": "array(['@mogacola @zamtriossu i screamed after hitting tweet',\n       'Imagine getting flattened by Kurt Zouma',\n       '@Gurmeetramrahim #MSGDoing111WelfareWorks Green S welfare force ke appx 65000 members har time disaster victim ki help ke liye tyar hai....',\n       \"@shakjn @C7 @Magnums im shaking in fear he's gonna hack the planet\",\n       'Somehow find you and I collide http://t.co/Ee8RpOahPk'],\n      dtype=object)"
     },
     "execution_count": 15,
     "metadata": {},
     "output_type": "execute_result"
    }
   ],
   "source": [
    "train_sentences[:5]"
   ],
   "metadata": {
    "collapsed": false,
    "ExecuteTime": {
     "end_time": "2024-04-26T10:03:04.504246629Z",
     "start_time": "2024-04-26T10:03:04.281805960Z"
    }
   },
   "id": "317c903125d50a64",
   "execution_count": 15
  },
  {
   "cell_type": "code",
   "outputs": [],
   "source": [
    "import tensorflow as tf\n",
    "from tensorflow.keras.layers.experimental.preprocessing import TextVectorization\n",
    "\n",
    "# Use the default TextVectorization parameters\n",
    "text_vectorizer = TextVectorization(max_tokens=10000, # how many words in the vocabulary (automatically add <OOV>)\n",
    "                                    standardize=\"lower_and_strip_punctuation\",\n",
    "                                    split=\"whitespace\",\n",
    "                                    ngrams=None, # create groups of n-words?\n",
    "                                    output_mode=\"int\", # how to map tokens to numbers\n",
    "                                    output_sequence_length=None, # how long do you want your sequences to be?\n",
    "                                    pad_to_max_tokens=True)"
   ],
   "metadata": {
    "collapsed": false,
    "ExecuteTime": {
     "end_time": "2024-04-26T10:03:04.756661244Z",
     "start_time": "2024-04-26T10:03:04.282302483Z"
    }
   },
   "id": "78ef0412598aeab8",
   "execution_count": 16
  },
  {
   "cell_type": "code",
   "outputs": [
    {
     "data": {
      "text/plain": "(['@mogacola', '@zamtriossu', 'i', 'screamed', 'after', 'hitting', 'tweet'], 7)"
     },
     "execution_count": 17,
     "metadata": {},
     "output_type": "execute_result"
    }
   ],
   "source": [
    "train_sentences[0].split(), len(train_sentences[0].split())"
   ],
   "metadata": {
    "collapsed": false,
    "ExecuteTime": {
     "end_time": "2024-04-26T10:03:04.824875761Z",
     "start_time": "2024-04-26T10:03:04.347779797Z"
    }
   },
   "id": "faaf6a9b69bd5773",
   "execution_count": 17
  },
  {
   "cell_type": "code",
   "outputs": [
    {
     "data": {
      "text/plain": "15"
     },
     "execution_count": 18,
     "metadata": {},
     "output_type": "execute_result"
    }
   ],
   "source": [
    "# Find the average number of tokens (words) in the training tweets\n",
    "round(sum([len(i.split()) for i in train_sentences])/len(train_sentences))"
   ],
   "metadata": {
    "collapsed": false,
    "ExecuteTime": {
     "end_time": "2024-04-26T10:03:04.833140643Z",
     "start_time": "2024-04-26T10:03:04.390631683Z"
    }
   },
   "id": "28ccda96da25c68f",
   "execution_count": 18
  },
  {
   "cell_type": "code",
   "outputs": [],
   "source": [
    "# Setup text vectorization variables\n",
    "max_vocab_length = 10000 # max number of words to have in our vocabulary\n",
    "max_length = 15 # max length our sequences will be (e.g. how many words from a Tweet does a model see?)\n",
    "\n",
    "text_vectorizer = TextVectorization(max_tokens=max_vocab_length,\n",
    "                                    output_mode='int',\n",
    "                                    output_sequence_length=max_length)"
   ],
   "metadata": {
    "collapsed": false,
    "ExecuteTime": {
     "end_time": "2024-04-26T10:03:04.847758401Z",
     "start_time": "2024-04-26T10:03:04.391224608Z"
    }
   },
   "id": "70a82546b3c21d35",
   "execution_count": 19
  },
  {
   "cell_type": "markdown",
   "source": [
    "Video N°230: Mapping the TextVectorization layer to text data and turning it into numbers"
   ],
   "metadata": {
    "collapsed": false
   },
   "id": "d12388ae0f3a3e92"
  },
  {
   "cell_type": "code",
   "outputs": [],
   "source": [
    "# Fit the text vectorizer instance to the training data using the adapt() method\n",
    "text_vectorizer.adapt(train_sentences)"
   ],
   "metadata": {
    "collapsed": false,
    "ExecuteTime": {
     "end_time": "2024-04-26T10:03:05.338796457Z",
     "start_time": "2024-04-26T10:03:04.391693895Z"
    }
   },
   "id": "311370168bb10aeb",
   "execution_count": 20
  },
  {
   "cell_type": "code",
   "outputs": [
    {
     "data": {
      "text/plain": "<tf.Tensor: shape=(1, 15), dtype=int64, numpy=\narray([[264,   3, 232,   4,  13, 698,   0,   0,   0,   0,   0,   0,   0,\n          0,   0]])>"
     },
     "execution_count": 21,
     "metadata": {},
     "output_type": "execute_result"
    }
   ],
   "source": [
    "# Create a sample sentence and tokenize it\n",
    "sample_sentence = \"There's a flood in my street!\"\n",
    "text_vectorizer([sample_sentence])"
   ],
   "metadata": {
    "collapsed": false,
    "ExecuteTime": {
     "end_time": "2024-04-26T10:03:05.763357521Z",
     "start_time": "2024-04-26T10:03:04.836719817Z"
    }
   },
   "id": "f2636de95a21fa1",
   "execution_count": 21
  },
  {
   "cell_type": "code",
   "outputs": [
    {
     "name": "stdout",
     "output_type": "stream",
     "text": [
      "Original text:\n",
      "@PrincessDuck last week wanted the 6th sense to get blown up so far so good. James could win but he's a huge target and will be gone soon.        \n",
      "\n",
      "Vectorized version:\n"
     ]
    },
    {
     "data": {
      "text/plain": "<tf.Tensor: shape=(1, 15), dtype=int64, numpy=\narray([[9574,  139,  561,  974,    2, 4171, 1177,    5,   52,  468,   27,\n          28,  685,   28,  136]])>"
     },
     "execution_count": 22,
     "metadata": {},
     "output_type": "execute_result"
    }
   ],
   "source": [
    "# Choose a random sentence from the training dataset and tokenize it\n",
    "random_sentence = random.choice(train_sentences)\n",
    "print(f\"Original text:\\n{random_sentence}\\\n",
    "        \\n\\nVectorized version:\")\n",
    "text_vectorizer([random_sentence])"
   ],
   "metadata": {
    "collapsed": false,
    "ExecuteTime": {
     "end_time": "2024-04-26T10:03:05.796890648Z",
     "start_time": "2024-04-26T10:03:05.756731966Z"
    }
   },
   "id": "68bd5bc266492a69",
   "execution_count": 22
  },
  {
   "cell_type": "code",
   "outputs": [
    {
     "name": "stdout",
     "output_type": "stream",
     "text": [
      "Most common words in vocab: ['', '[UNK]', 'the', 'a', 'in']\n",
      "Least common words in vocab: ['pages', 'paeds', 'pads', 'padres', 'paddytomlinson1']\n"
     ]
    }
   ],
   "source": [
    "# Get the unique words in the vocabulary\n",
    "words_in_vocab = text_vectorizer.get_vocabulary()\n",
    "top_5_words = words_in_vocab[:5]\n",
    "bottom_5_words = words_in_vocab[-5:]\n",
    "print(f\"Most common words in vocab: {top_5_words}\")\n",
    "print(f\"Least common words in vocab: {bottom_5_words}\")"
   ],
   "metadata": {
    "collapsed": false,
    "ExecuteTime": {
     "end_time": "2024-04-26T10:03:05.901667687Z",
     "start_time": "2024-04-26T10:03:05.769093184Z"
    }
   },
   "id": "d1e651187faa5514",
   "execution_count": 23
  },
  {
   "cell_type": "code",
   "outputs": [
    {
     "data": {
      "text/plain": "10000"
     },
     "execution_count": 24,
     "metadata": {},
     "output_type": "execute_result"
    }
   ],
   "source": [
    "# how long is our vocab?\n",
    "len(words_in_vocab)"
   ],
   "metadata": {
    "collapsed": false,
    "ExecuteTime": {
     "end_time": "2024-04-26T10:03:05.991047915Z",
     "start_time": "2024-04-26T10:03:05.792458573Z"
    }
   },
   "id": "c3ed2e4f338a2fb4",
   "execution_count": 24
  },
  {
   "cell_type": "markdown",
   "source": [
    "Video N°231: Creating an Embedding layer to turn tokenised text into embedding vectors"
   ],
   "metadata": {
    "collapsed": false
   },
   "id": "fae42820e8cdf2c3"
  },
  {
   "cell_type": "markdown",
   "source": [
    "## Creating an Embedding using an Embedding Layer\n",
    "\n",
    "To make our embedding, we're going to use TensorFlow's embedding layer:\n",
    "[https://www.tensorflow.org/api_docs/python/tf/keras/layers/Embedding](https://www.tensorflow.org/api_docs/python/tf/keras/layers/Embedding)\n",
    "The parameters we care most about for our embedding layer:\n",
    "- `input_dim` = the size of our vocabulary\n",
    "- `output_dim` = the size of the output embedding vector, for example, a value of 100 would mean each token gets represented by a vector 100 long\n",
    "- `input_length` = length of the sequences being passed to the embedding layer"
   ],
   "metadata": {
    "collapsed": false
   },
   "id": "42657b0b2a7e2783"
  },
  {
   "cell_type": "code",
   "outputs": [
    {
     "data": {
      "text/plain": "<keras.src.layers.core.embedding.Embedding at 0x7f9efc3ccf40>"
     },
     "execution_count": 25,
     "metadata": {},
     "output_type": "execute_result"
    }
   ],
   "source": [
    "from tensorflow.keras import layers\n",
    "\n",
    "embedding = layers.Embedding(input_dim=max_vocab_length, # set the input shape\n",
    "                             output_dim=128, # set the size of the embedding vector\n",
    "                             embeddings_initializer=\"uniform\", # default, initialize embedding vectors randomly\n",
    "                             input_length=max_length) # how long is each input\n",
    "embedding"
   ],
   "metadata": {
    "collapsed": false,
    "ExecuteTime": {
     "end_time": "2024-04-26T10:03:06.006212057Z",
     "start_time": "2024-04-26T10:03:05.834736550Z"
    }
   },
   "id": "51adde2a2596e334",
   "execution_count": 25
  },
  {
   "cell_type": "code",
   "outputs": [
    {
     "name": "stdout",
     "output_type": "stream",
     "text": [
      "Original text:\n",
      " Runaway Minion Causes Traffic Collapse in Dublin http://t.co/u2Kwof3wtj\n",
      "\n",
      "\n",
      "Embedded version:\n"
     ]
    },
    {
     "data": {
      "text/plain": "<tf.Tensor: shape=(1, 15, 128), dtype=float32, numpy=\narray([[[-0.00550646, -0.04917727,  0.01549926, ..., -0.01024961,\n          0.02381234,  0.03026136],\n        [-0.03436272, -0.0145077 ,  0.0317042 , ...,  0.00794063,\n         -0.02100012,  0.02503968],\n        [ 0.01950933,  0.03169134, -0.02611487, ...,  0.01726953,\n         -0.02312267,  0.02902061],\n        ...,\n        [-0.02583178, -0.03553148, -0.03554224, ..., -0.04668079,\n         -0.03468776,  0.00903301],\n        [-0.02583178, -0.03553148, -0.03554224, ..., -0.04668079,\n         -0.03468776,  0.00903301],\n        [-0.02583178, -0.03553148, -0.03554224, ..., -0.04668079,\n         -0.03468776,  0.00903301]]], dtype=float32)>"
     },
     "execution_count": 26,
     "metadata": {},
     "output_type": "execute_result"
    }
   ],
   "source": [
    "# Get a random sentence from training set\n",
    "random_sentence = random.choice(train_sentences)\n",
    "print(f'Original text:\\n {random_sentence}')\n",
    "print(f'\\n\\nEmbedded version:')\n",
    "\n",
    "# Embed the random sentence (turn it into dense vectors of fixed size)\n",
    "sample_embed = embedding(text_vectorizer([random_sentence]))\n",
    "sample_embed"
   ],
   "metadata": {
    "collapsed": false,
    "ExecuteTime": {
     "end_time": "2024-04-26T10:03:06.133218563Z",
     "start_time": "2024-04-26T10:03:05.835345332Z"
    }
   },
   "id": "cfbc705b8df7725e",
   "execution_count": 26
  },
  {
   "cell_type": "code",
   "outputs": [
    {
     "data": {
      "text/plain": "(<tf.Tensor: shape=(128,), dtype=float32, numpy=\n array([-0.00550646, -0.04917727,  0.01549926,  0.03699687,  0.00409739,\n        -0.02820637, -0.04731511, -0.0111442 ,  0.03491685,  0.01096799,\n        -0.00482909, -0.01479162, -0.04238294,  0.04745207, -0.01825277,\n         0.03378871,  0.0096984 ,  0.01250324, -0.04644053,  0.02253062,\n         0.03956306, -0.00630814,  0.04621444,  0.03919097,  0.01205512,\n        -0.03027948,  0.03953877, -0.02110714, -0.02828534, -0.00983946,\n        -0.03750581, -0.01811235,  0.00902592,  0.00389408,  0.04717649,\n         0.03801909, -0.0338936 ,  0.04097966, -0.04807104, -0.01801399,\n         0.04736641,  0.0145645 , -0.01578894, -0.02512347, -0.00857364,\n        -0.04228088,  0.01462798, -0.01756846,  0.03941492, -0.02230245,\n         0.01679957, -0.03221705,  0.02691228,  0.01181713, -0.03911083,\n         0.04477019,  0.01402367,  0.04069215, -0.03707717, -0.04772345,\n        -0.03592135,  0.02227445,  0.01458988, -0.01986423,  0.02568338,\n         0.00071954, -0.00737949,  0.02710033,  0.02788589, -0.0190811 ,\n         0.01466066,  0.02309612,  0.04148413, -0.04609391,  0.01290958,\n         0.01456661, -0.00154363,  0.02466818, -0.04036544,  0.00554084,\n         0.02285028,  0.03251446,  0.02323398, -0.01700106,  0.03229291,\n        -0.0401206 ,  0.04994254, -0.02057825, -0.01827665, -0.02001969,\n        -0.0259814 , -0.02163047,  0.04321516, -0.01464409,  0.00363942,\n        -0.0437313 , -0.04324554, -0.04037716, -0.03990474, -0.00059686,\n         0.00042839, -0.01322837,  0.00858016, -0.00819422,  0.03781463,\n         0.03583774, -0.02686956, -0.00827092, -0.01827031, -0.02303391,\n         0.03484967, -0.02026494,  0.04305979, -0.00893949, -0.01171141,\n        -0.04951792, -0.03399416,  0.01905448, -0.02093997, -0.02574277,\n         0.01948157, -0.01180472, -0.04097786,  0.00482037, -0.00618616,\n        -0.01024961,  0.02381234,  0.03026136], dtype=float32)>,\n TensorShape([128]),\n 'Runaway Minion Causes Traffic Collapse in Dublin http://t.co/u2Kwof3wtj')"
     },
     "execution_count": 27,
     "metadata": {},
     "output_type": "execute_result"
    }
   ],
   "source": [
    "# Check out a single token's embedding\n",
    "sample_embed[0][0], sample_embed[0][0].shape, random_sentence"
   ],
   "metadata": {
    "collapsed": false,
    "ExecuteTime": {
     "end_time": "2024-04-26T10:03:06.167720207Z",
     "start_time": "2024-04-26T10:03:05.860397791Z"
    }
   },
   "id": "7f7aea54142f9074",
   "execution_count": 27
  },
  {
   "cell_type": "markdown",
   "source": [
    "Video N°232: Discussing the various modelling experiments we're going to run"
   ],
   "metadata": {
    "collapsed": false
   },
   "id": "a97c61909d8b52c4"
  },
  {
   "cell_type": "markdown",
   "source": [
    "## Modelling a text dataset (setting up our modelling experiments)\n",
    "\n",
    "Now we've a got way to turn our text sequences into numbers, it's time to start building a series of modelling experiments.\n",
    "\n",
    "We'll start with a baseline and move on from there.\n",
    "\n",
    "* Model 0: Naive Bayes (baseline) - got this from here: [https://scikit-learn.org/stable/tutorial/machine_learning_map/index.html](https://scikit-learn.org/stable/tutorial/machine_learning_map/index.html)\n",
    "* Model 1: Feed-forward neural network (dense model)\n",
    "* Model 2: LSTM model (RNN)\n",
    "* Model 3: GRU model (RNN)\n",
    "* Model 4: Bidirectional LSTM model (RNN)\n",
    "* Model 5: 1D Convolutional Neural Network (CNN)\n",
    "* Model 6: TensorFlow Hub Pretrained Word Embedding (feature extractor) (using transfer learning for NLP)\n",
    "* Model 7: Same as model 6 but using 10% of data\n",
    "\n",
    "How are we going to approach all of these?\n",
    "Use the standard steps in modelling with tensorflow:\n",
    "* Create a model\n",
    "* Build a model\n",
    "* Fit a model\n",
    "* Evaluate our model"
   ],
   "metadata": {
    "collapsed": false
   },
   "id": "b5685fc4726befe9"
  },
  {
   "cell_type": "markdown",
   "source": [
    "Video N°233: Model 0:Building a basline model to try and improve upon"
   ],
   "metadata": {
    "collapsed": false
   },
   "id": "46ceb5c15d31e587"
  },
  {
   "cell_type": "markdown",
   "source": [
    "### Model 0: Getting a baseline\n",
    "\n",
    "As with all machine learning modelling experiments, it's important to create a baseline model so you've got a benchmark for future experiments to build upon.\n",
    "\n",
    "To create our baseline, we'll use Sklearn's Multinomial Naive Bayes using the TF-IDF formula to convert our words to numbers.\n",
    "\n",
    "> 🔑 **Note:** It's common practice to use non-DL algorithms as a baseline because of their speed and then later using DL to see if you can improve upon them."
   ],
   "metadata": {
    "collapsed": false
   },
   "id": "351db476be91e232"
  },
  {
   "cell_type": "code",
   "outputs": [
    {
     "name": "stdout",
     "output_type": "stream",
     "text": [
      "CPU times: user 270 ms, sys: 7.54 ms, total: 277 ms\n",
      "Wall time: 280 ms\n"
     ]
    },
    {
     "data": {
      "text/plain": "Pipeline(steps=[('tfidf', TfidfVectorizer()), ('clf', MultinomialNB())])",
      "text/html": "<style>#sk-container-id-1 {\n  /* Definition of color scheme common for light and dark mode */\n  --sklearn-color-text: black;\n  --sklearn-color-line: gray;\n  /* Definition of color scheme for unfitted estimators */\n  --sklearn-color-unfitted-level-0: #fff5e6;\n  --sklearn-color-unfitted-level-1: #f6e4d2;\n  --sklearn-color-unfitted-level-2: #ffe0b3;\n  --sklearn-color-unfitted-level-3: chocolate;\n  /* Definition of color scheme for fitted estimators */\n  --sklearn-color-fitted-level-0: #f0f8ff;\n  --sklearn-color-fitted-level-1: #d4ebff;\n  --sklearn-color-fitted-level-2: #b3dbfd;\n  --sklearn-color-fitted-level-3: cornflowerblue;\n\n  /* Specific color for light theme */\n  --sklearn-color-text-on-default-background: var(--sg-text-color, var(--theme-code-foreground, var(--jp-content-font-color1, black)));\n  --sklearn-color-background: var(--sg-background-color, var(--theme-background, var(--jp-layout-color0, white)));\n  --sklearn-color-border-box: var(--sg-text-color, var(--theme-code-foreground, var(--jp-content-font-color1, black)));\n  --sklearn-color-icon: #696969;\n\n  @media (prefers-color-scheme: dark) {\n    /* Redefinition of color scheme for dark theme */\n    --sklearn-color-text-on-default-background: var(--sg-text-color, var(--theme-code-foreground, var(--jp-content-font-color1, white)));\n    --sklearn-color-background: var(--sg-background-color, var(--theme-background, var(--jp-layout-color0, #111)));\n    --sklearn-color-border-box: var(--sg-text-color, var(--theme-code-foreground, var(--jp-content-font-color1, white)));\n    --sklearn-color-icon: #878787;\n  }\n}\n\n#sk-container-id-1 {\n  color: var(--sklearn-color-text);\n}\n\n#sk-container-id-1 pre {\n  padding: 0;\n}\n\n#sk-container-id-1 input.sk-hidden--visually {\n  border: 0;\n  clip: rect(1px 1px 1px 1px);\n  clip: rect(1px, 1px, 1px, 1px);\n  height: 1px;\n  margin: -1px;\n  overflow: hidden;\n  padding: 0;\n  position: absolute;\n  width: 1px;\n}\n\n#sk-container-id-1 div.sk-dashed-wrapped {\n  border: 1px dashed var(--sklearn-color-line);\n  margin: 0 0.4em 0.5em 0.4em;\n  box-sizing: border-box;\n  padding-bottom: 0.4em;\n  background-color: var(--sklearn-color-background);\n}\n\n#sk-container-id-1 div.sk-container {\n  /* jupyter's `normalize.less` sets `[hidden] { display: none; }`\n     but bootstrap.min.css set `[hidden] { display: none !important; }`\n     so we also need the `!important` here to be able to override the\n     default hidden behavior on the sphinx rendered scikit-learn.org.\n     See: https://github.com/scikit-learn/scikit-learn/issues/21755 */\n  display: inline-block !important;\n  position: relative;\n}\n\n#sk-container-id-1 div.sk-text-repr-fallback {\n  display: none;\n}\n\ndiv.sk-parallel-item,\ndiv.sk-serial,\ndiv.sk-item {\n  /* draw centered vertical line to link estimators */\n  background-image: linear-gradient(var(--sklearn-color-text-on-default-background), var(--sklearn-color-text-on-default-background));\n  background-size: 2px 100%;\n  background-repeat: no-repeat;\n  background-position: center center;\n}\n\n/* Parallel-specific style estimator block */\n\n#sk-container-id-1 div.sk-parallel-item::after {\n  content: \"\";\n  width: 100%;\n  border-bottom: 2px solid var(--sklearn-color-text-on-default-background);\n  flex-grow: 1;\n}\n\n#sk-container-id-1 div.sk-parallel {\n  display: flex;\n  align-items: stretch;\n  justify-content: center;\n  background-color: var(--sklearn-color-background);\n  position: relative;\n}\n\n#sk-container-id-1 div.sk-parallel-item {\n  display: flex;\n  flex-direction: column;\n}\n\n#sk-container-id-1 div.sk-parallel-item:first-child::after {\n  align-self: flex-end;\n  width: 50%;\n}\n\n#sk-container-id-1 div.sk-parallel-item:last-child::after {\n  align-self: flex-start;\n  width: 50%;\n}\n\n#sk-container-id-1 div.sk-parallel-item:only-child::after {\n  width: 0;\n}\n\n/* Serial-specific style estimator block */\n\n#sk-container-id-1 div.sk-serial {\n  display: flex;\n  flex-direction: column;\n  align-items: center;\n  background-color: var(--sklearn-color-background);\n  padding-right: 1em;\n  padding-left: 1em;\n}\n\n\n/* Toggleable style: style used for estimator/Pipeline/ColumnTransformer box that is\nclickable and can be expanded/collapsed.\n- Pipeline and ColumnTransformer use this feature and define the default style\n- Estimators will overwrite some part of the style using the `sk-estimator` class\n*/\n\n/* Pipeline and ColumnTransformer style (default) */\n\n#sk-container-id-1 div.sk-toggleable {\n  /* Default theme specific background. It is overwritten whether we have a\n  specific estimator or a Pipeline/ColumnTransformer */\n  background-color: var(--sklearn-color-background);\n}\n\n/* Toggleable label */\n#sk-container-id-1 label.sk-toggleable__label {\n  cursor: pointer;\n  display: block;\n  width: 100%;\n  margin-bottom: 0;\n  padding: 0.5em;\n  box-sizing: border-box;\n  text-align: center;\n}\n\n#sk-container-id-1 label.sk-toggleable__label-arrow:before {\n  /* Arrow on the left of the label */\n  content: \"▸\";\n  float: left;\n  margin-right: 0.25em;\n  color: var(--sklearn-color-icon);\n}\n\n#sk-container-id-1 label.sk-toggleable__label-arrow:hover:before {\n  color: var(--sklearn-color-text);\n}\n\n/* Toggleable content - dropdown */\n\n#sk-container-id-1 div.sk-toggleable__content {\n  max-height: 0;\n  max-width: 0;\n  overflow: hidden;\n  text-align: left;\n  /* unfitted */\n  background-color: var(--sklearn-color-unfitted-level-0);\n}\n\n#sk-container-id-1 div.sk-toggleable__content.fitted {\n  /* fitted */\n  background-color: var(--sklearn-color-fitted-level-0);\n}\n\n#sk-container-id-1 div.sk-toggleable__content pre {\n  margin: 0.2em;\n  border-radius: 0.25em;\n  color: var(--sklearn-color-text);\n  /* unfitted */\n  background-color: var(--sklearn-color-unfitted-level-0);\n}\n\n#sk-container-id-1 div.sk-toggleable__content.fitted pre {\n  /* unfitted */\n  background-color: var(--sklearn-color-fitted-level-0);\n}\n\n#sk-container-id-1 input.sk-toggleable__control:checked~div.sk-toggleable__content {\n  /* Expand drop-down */\n  max-height: 200px;\n  max-width: 100%;\n  overflow: auto;\n}\n\n#sk-container-id-1 input.sk-toggleable__control:checked~label.sk-toggleable__label-arrow:before {\n  content: \"▾\";\n}\n\n/* Pipeline/ColumnTransformer-specific style */\n\n#sk-container-id-1 div.sk-label input.sk-toggleable__control:checked~label.sk-toggleable__label {\n  color: var(--sklearn-color-text);\n  background-color: var(--sklearn-color-unfitted-level-2);\n}\n\n#sk-container-id-1 div.sk-label.fitted input.sk-toggleable__control:checked~label.sk-toggleable__label {\n  background-color: var(--sklearn-color-fitted-level-2);\n}\n\n/* Estimator-specific style */\n\n/* Colorize estimator box */\n#sk-container-id-1 div.sk-estimator input.sk-toggleable__control:checked~label.sk-toggleable__label {\n  /* unfitted */\n  background-color: var(--sklearn-color-unfitted-level-2);\n}\n\n#sk-container-id-1 div.sk-estimator.fitted input.sk-toggleable__control:checked~label.sk-toggleable__label {\n  /* fitted */\n  background-color: var(--sklearn-color-fitted-level-2);\n}\n\n#sk-container-id-1 div.sk-label label.sk-toggleable__label,\n#sk-container-id-1 div.sk-label label {\n  /* The background is the default theme color */\n  color: var(--sklearn-color-text-on-default-background);\n}\n\n/* On hover, darken the color of the background */\n#sk-container-id-1 div.sk-label:hover label.sk-toggleable__label {\n  color: var(--sklearn-color-text);\n  background-color: var(--sklearn-color-unfitted-level-2);\n}\n\n/* Label box, darken color on hover, fitted */\n#sk-container-id-1 div.sk-label.fitted:hover label.sk-toggleable__label.fitted {\n  color: var(--sklearn-color-text);\n  background-color: var(--sklearn-color-fitted-level-2);\n}\n\n/* Estimator label */\n\n#sk-container-id-1 div.sk-label label {\n  font-family: monospace;\n  font-weight: bold;\n  display: inline-block;\n  line-height: 1.2em;\n}\n\n#sk-container-id-1 div.sk-label-container {\n  text-align: center;\n}\n\n/* Estimator-specific */\n#sk-container-id-1 div.sk-estimator {\n  font-family: monospace;\n  border: 1px dotted var(--sklearn-color-border-box);\n  border-radius: 0.25em;\n  box-sizing: border-box;\n  margin-bottom: 0.5em;\n  /* unfitted */\n  background-color: var(--sklearn-color-unfitted-level-0);\n}\n\n#sk-container-id-1 div.sk-estimator.fitted {\n  /* fitted */\n  background-color: var(--sklearn-color-fitted-level-0);\n}\n\n/* on hover */\n#sk-container-id-1 div.sk-estimator:hover {\n  /* unfitted */\n  background-color: var(--sklearn-color-unfitted-level-2);\n}\n\n#sk-container-id-1 div.sk-estimator.fitted:hover {\n  /* fitted */\n  background-color: var(--sklearn-color-fitted-level-2);\n}\n\n/* Specification for estimator info (e.g. \"i\" and \"?\") */\n\n/* Common style for \"i\" and \"?\" */\n\n.sk-estimator-doc-link,\na:link.sk-estimator-doc-link,\na:visited.sk-estimator-doc-link {\n  float: right;\n  font-size: smaller;\n  line-height: 1em;\n  font-family: monospace;\n  background-color: var(--sklearn-color-background);\n  border-radius: 1em;\n  height: 1em;\n  width: 1em;\n  text-decoration: none !important;\n  margin-left: 1ex;\n  /* unfitted */\n  border: var(--sklearn-color-unfitted-level-1) 1pt solid;\n  color: var(--sklearn-color-unfitted-level-1);\n}\n\n.sk-estimator-doc-link.fitted,\na:link.sk-estimator-doc-link.fitted,\na:visited.sk-estimator-doc-link.fitted {\n  /* fitted */\n  border: var(--sklearn-color-fitted-level-1) 1pt solid;\n  color: var(--sklearn-color-fitted-level-1);\n}\n\n/* On hover */\ndiv.sk-estimator:hover .sk-estimator-doc-link:hover,\n.sk-estimator-doc-link:hover,\ndiv.sk-label-container:hover .sk-estimator-doc-link:hover,\n.sk-estimator-doc-link:hover {\n  /* unfitted */\n  background-color: var(--sklearn-color-unfitted-level-3);\n  color: var(--sklearn-color-background);\n  text-decoration: none;\n}\n\ndiv.sk-estimator.fitted:hover .sk-estimator-doc-link.fitted:hover,\n.sk-estimator-doc-link.fitted:hover,\ndiv.sk-label-container:hover .sk-estimator-doc-link.fitted:hover,\n.sk-estimator-doc-link.fitted:hover {\n  /* fitted */\n  background-color: var(--sklearn-color-fitted-level-3);\n  color: var(--sklearn-color-background);\n  text-decoration: none;\n}\n\n/* Span, style for the box shown on hovering the info icon */\n.sk-estimator-doc-link span {\n  display: none;\n  z-index: 9999;\n  position: relative;\n  font-weight: normal;\n  right: .2ex;\n  padding: .5ex;\n  margin: .5ex;\n  width: min-content;\n  min-width: 20ex;\n  max-width: 50ex;\n  color: var(--sklearn-color-text);\n  box-shadow: 2pt 2pt 4pt #999;\n  /* unfitted */\n  background: var(--sklearn-color-unfitted-level-0);\n  border: .5pt solid var(--sklearn-color-unfitted-level-3);\n}\n\n.sk-estimator-doc-link.fitted span {\n  /* fitted */\n  background: var(--sklearn-color-fitted-level-0);\n  border: var(--sklearn-color-fitted-level-3);\n}\n\n.sk-estimator-doc-link:hover span {\n  display: block;\n}\n\n/* \"?\"-specific style due to the `<a>` HTML tag */\n\n#sk-container-id-1 a.estimator_doc_link {\n  float: right;\n  font-size: 1rem;\n  line-height: 1em;\n  font-family: monospace;\n  background-color: var(--sklearn-color-background);\n  border-radius: 1rem;\n  height: 1rem;\n  width: 1rem;\n  text-decoration: none;\n  /* unfitted */\n  color: var(--sklearn-color-unfitted-level-1);\n  border: var(--sklearn-color-unfitted-level-1) 1pt solid;\n}\n\n#sk-container-id-1 a.estimator_doc_link.fitted {\n  /* fitted */\n  border: var(--sklearn-color-fitted-level-1) 1pt solid;\n  color: var(--sklearn-color-fitted-level-1);\n}\n\n/* On hover */\n#sk-container-id-1 a.estimator_doc_link:hover {\n  /* unfitted */\n  background-color: var(--sklearn-color-unfitted-level-3);\n  color: var(--sklearn-color-background);\n  text-decoration: none;\n}\n\n#sk-container-id-1 a.estimator_doc_link.fitted:hover {\n  /* fitted */\n  background-color: var(--sklearn-color-fitted-level-3);\n}\n</style><div id=\"sk-container-id-1\" class=\"sk-top-container\"><div class=\"sk-text-repr-fallback\"><pre>Pipeline(steps=[(&#x27;tfidf&#x27;, TfidfVectorizer()), (&#x27;clf&#x27;, MultinomialNB())])</pre><b>In a Jupyter environment, please rerun this cell to show the HTML representation or trust the notebook. <br />On GitHub, the HTML representation is unable to render, please try loading this page with nbviewer.org.</b></div><div class=\"sk-container\" hidden><div class=\"sk-item sk-dashed-wrapped\"><div class=\"sk-label-container\"><div class=\"sk-label fitted sk-toggleable\"><input class=\"sk-toggleable__control sk-hidden--visually\" id=\"sk-estimator-id-1\" type=\"checkbox\" ><label for=\"sk-estimator-id-1\" class=\"sk-toggleable__label fitted sk-toggleable__label-arrow fitted\">&nbsp;&nbsp;Pipeline<a class=\"sk-estimator-doc-link fitted\" rel=\"noreferrer\" target=\"_blank\" href=\"https://scikit-learn.org/1.4/modules/generated/sklearn.pipeline.Pipeline.html\">?<span>Documentation for Pipeline</span></a><span class=\"sk-estimator-doc-link fitted\">i<span>Fitted</span></span></label><div class=\"sk-toggleable__content fitted\"><pre>Pipeline(steps=[(&#x27;tfidf&#x27;, TfidfVectorizer()), (&#x27;clf&#x27;, MultinomialNB())])</pre></div> </div></div><div class=\"sk-serial\"><div class=\"sk-item\"><div class=\"sk-estimator fitted sk-toggleable\"><input class=\"sk-toggleable__control sk-hidden--visually\" id=\"sk-estimator-id-2\" type=\"checkbox\" ><label for=\"sk-estimator-id-2\" class=\"sk-toggleable__label fitted sk-toggleable__label-arrow fitted\">&nbsp;TfidfVectorizer<a class=\"sk-estimator-doc-link fitted\" rel=\"noreferrer\" target=\"_blank\" href=\"https://scikit-learn.org/1.4/modules/generated/sklearn.feature_extraction.text.TfidfVectorizer.html\">?<span>Documentation for TfidfVectorizer</span></a></label><div class=\"sk-toggleable__content fitted\"><pre>TfidfVectorizer()</pre></div> </div></div><div class=\"sk-item\"><div class=\"sk-estimator fitted sk-toggleable\"><input class=\"sk-toggleable__control sk-hidden--visually\" id=\"sk-estimator-id-3\" type=\"checkbox\" ><label for=\"sk-estimator-id-3\" class=\"sk-toggleable__label fitted sk-toggleable__label-arrow fitted\">&nbsp;MultinomialNB<a class=\"sk-estimator-doc-link fitted\" rel=\"noreferrer\" target=\"_blank\" href=\"https://scikit-learn.org/1.4/modules/generated/sklearn.naive_bayes.MultinomialNB.html\">?<span>Documentation for MultinomialNB</span></a></label><div class=\"sk-toggleable__content fitted\"><pre>MultinomialNB()</pre></div> </div></div></div></div></div></div>"
     },
     "execution_count": 28,
     "metadata": {},
     "output_type": "execute_result"
    }
   ],
   "source": [
    "%%time\n",
    "from sklearn.feature_extraction.text import TfidfVectorizer\n",
    "from sklearn.naive_bayes import MultinomialNB\n",
    "from sklearn.pipeline import Pipeline\n",
    "\n",
    "# Create tokenization and modelling pipeline\n",
    "model_0 = Pipeline([\n",
    "    (\"tfidf\", TfidfVectorizer()), # convert words to numbers using tfidf - https://scikit-learn.org/stable/modules/generated/sklearn.feature_extraction.text.TfidfVectorizer.html\n",
    "    (\"clf\", MultinomialNB()) # model the text converted to numbers\n",
    "])\n",
    "\n",
    "# Fit the pipeline to the training data\n",
    "model_0.fit(train_sentences, train_labels)"
   ],
   "metadata": {
    "collapsed": false,
    "ExecuteTime": {
     "end_time": "2024-04-26T10:03:06.435582138Z",
     "start_time": "2024-04-26T10:03:05.871311079Z"
    }
   },
   "id": "ece154ec6304d143",
   "execution_count": 28
  },
  {
   "cell_type": "code",
   "outputs": [
    {
     "name": "stdout",
     "output_type": "stream",
     "text": [
      "Our baseline model achieves an accuracy of: 79.27%\n"
     ]
    }
   ],
   "source": [
    "# Evaluate our baseline model\n",
    "baseline_score = model_0.score(val_sentences, val_labels)\n",
    "print(f\"Our baseline model achieves an accuracy of: {baseline_score*100:.2f}%\")"
   ],
   "metadata": {
    "collapsed": false,
    "ExecuteTime": {
     "end_time": "2024-04-26T10:03:06.537124786Z",
     "start_time": "2024-04-26T10:03:06.170386461Z"
    }
   },
   "id": "91fd67891a4f78aa",
   "execution_count": 29
  },
  {
   "cell_type": "code",
   "outputs": [
    {
     "data": {
      "text/plain": "array([1, 1, 1, 0, 0, 1, 1, 1, 1, 0, 0, 1, 0, 0, 0, 0, 0, 0, 0, 1])"
     },
     "execution_count": 30,
     "metadata": {},
     "output_type": "execute_result"
    }
   ],
   "source": [
    "# Make predictions\n",
    "baseline_preds = model_0.predict(val_sentences)\n",
    "baseline_preds[:20]"
   ],
   "metadata": {
    "collapsed": false,
    "ExecuteTime": {
     "end_time": "2024-04-26T10:03:06.549936865Z",
     "start_time": "2024-04-26T10:03:06.185864302Z"
    }
   },
   "id": "6424a4c08002f460",
   "execution_count": 30
  },
  {
   "cell_type": "code",
   "outputs": [
    {
     "data": {
      "text/plain": "array([0, 0, 1, ..., 1, 1, 0])"
     },
     "execution_count": 31,
     "metadata": {},
     "output_type": "execute_result"
    }
   ],
   "source": [
    "train_labels"
   ],
   "metadata": {
    "collapsed": false,
    "ExecuteTime": {
     "end_time": "2024-04-26T10:03:06.556150311Z",
     "start_time": "2024-04-26T10:03:06.193101606Z"
    }
   },
   "id": "1bf16bacada8c7a",
   "execution_count": 31
  },
  {
   "cell_type": "markdown",
   "source": [
    "Video N°234: Creating a function to track and evaluate our model's results"
   ],
   "metadata": {
    "collapsed": false
   },
   "id": "f880313bcceb06d7"
  },
  {
   "cell_type": "markdown",
   "source": [
    "### Creating an evaluation function for our model experiments\n",
    "\n",
    "We could evaluate all of our model's predictions with different metrics every time, however, this will be cumbersome and could easily be fixed with a function\n",
    "\n",
    "Let's create one to compare our model's predictions with the truth labels using the following metrics:\n",
    " \n",
    "* Accuracy\n",
    "* Precision\n",
    "* Recall\n",
    "* F1-score\n",
    "\n",
    "For a deep overview of many different evaluation methods, see the Sklearn documentation: [https://scikit-learn.org/stable/modules/model_evaluation.html](https://scikit-learn.org/stable/modules/model_evaluation.html)"
   ],
   "metadata": {
    "collapsed": false
   },
   "id": "fb8c0e70525c315d"
  },
  {
   "cell_type": "code",
   "outputs": [
    {
     "data": {
      "text/plain": "{'accuracy': 79.26509186351706,\n 'precision': 0.8111390004213173,\n 'recall': 0.7926509186351706,\n 'f1': 0.7862189758049549}"
     },
     "execution_count": 32,
     "metadata": {},
     "output_type": "execute_result"
    }
   ],
   "source": [
    "# Get baseline results with personal function\n",
    "baseline_results = evaluate_classification_metrics(y_true=val_labels, y_pred=baseline_preds)\n",
    "baseline_results"
   ],
   "metadata": {
    "collapsed": false,
    "ExecuteTime": {
     "end_time": "2024-04-26T10:03:06.570224367Z",
     "start_time": "2024-04-26T10:03:06.199064151Z"
    }
   },
   "id": "db41551daf616ee1",
   "execution_count": 32
  },
  {
   "cell_type": "markdown",
   "source": [
    "Video N°235: Model1: Building, fitting and evaluating our first deep model on text data"
   ],
   "metadata": {
    "collapsed": false
   },
   "id": "6c8e31a1da657d4"
  },
  {
   "cell_type": "markdown",
   "source": [
    "### Model 1: A simple dense model (feed-forward neural network)"
   ],
   "metadata": {
    "collapsed": false
   },
   "id": "a3c026a9b82c23c3"
  },
  {
   "cell_type": "code",
   "outputs": [],
   "source": [
    "# Create tensorboard callback (need to create a new one for each model)\n",
    "# import personal 'create_tensorboard_callback' function\n",
    "\n",
    "# Create directory to save TensorBoard logs\n",
    "SAVE_DIR = \"model_logs\""
   ],
   "metadata": {
    "collapsed": false,
    "ExecuteTime": {
     "end_time": "2024-04-26T10:03:06.575978702Z",
     "start_time": "2024-04-26T10:03:06.246629937Z"
    }
   },
   "id": "caf0fc8f8529b5b3",
   "execution_count": 33
  },
  {
   "cell_type": "code",
   "outputs": [
    {
     "data": {
      "text/plain": "array(['@mogacola @zamtriossu i screamed after hitting tweet',\n       'Imagine getting flattened by Kurt Zouma',\n       '@Gurmeetramrahim #MSGDoing111WelfareWorks Green S welfare force ke appx 65000 members har time disaster victim ki help ke liye tyar hai....',\n       \"@shakjn @C7 @Magnums im shaking in fear he's gonna hack the planet\",\n       'Somehow find you and I collide http://t.co/Ee8RpOahPk'],\n      dtype=object)"
     },
     "execution_count": 34,
     "metadata": {},
     "output_type": "execute_result"
    }
   ],
   "source": [
    "train_sentences[:5]"
   ],
   "metadata": {
    "collapsed": false,
    "ExecuteTime": {
     "end_time": "2024-04-26T10:03:06.589202883Z",
     "start_time": "2024-04-26T10:03:06.247149980Z"
    }
   },
   "id": "dc538b4c25a084d1",
   "execution_count": 34
  },
  {
   "cell_type": "code",
   "outputs": [],
   "source": [
    "# Build model with the Functional API\n",
    "from tensorflow.keras import layers\n",
    "inputs = layers.Input(shape=(1,), dtype=tf.string) # inputs are 1-dimensional strings\n",
    "x = text_vectorizer(inputs) # turn the input text into numbers \n",
    "x = embedding(x) # create an embedding of the numberized inputs\n",
    "x = layers.GlobalAveragePooling1D()(x) # condense the feature vector for each token to one vector\n",
    "outputs = layers.Dense(1, activation=\"sigmoid\")(x) # create the output layer, want binary outputs so use sigmoid activation function\n",
    "model_1 = tf.keras.Model(inputs, outputs, name=\"model_1_dense\")"
   ],
   "metadata": {
    "collapsed": false,
    "ExecuteTime": {
     "end_time": "2024-04-26T10:03:06.594883314Z",
     "start_time": "2024-04-26T10:03:06.247674810Z"
    }
   },
   "id": "efe97384acbcfdf7",
   "execution_count": 35
  },
  {
   "cell_type": "code",
   "outputs": [
    {
     "name": "stdout",
     "output_type": "stream",
     "text": [
      "Model: \"model_1_dense\"\n",
      "_________________________________________________________________\n",
      " Layer (type)                Output Shape              Param #   \n",
      "=================================================================\n",
      " input_1 (InputLayer)        [(None, 1)]               0         \n",
      "                                                                 \n",
      " text_vectorization_1 (Text  (None, 15)                0         \n",
      " Vectorization)                                                  \n",
      "                                                                 \n",
      " embedding (Embedding)       (None, 15, 128)           1280000   \n",
      "                                                                 \n",
      " global_average_pooling1d (  (None, 128)               0         \n",
      " GlobalAveragePooling1D)                                         \n",
      "                                                                 \n",
      " dense (Dense)               (None, 1)                 129       \n",
      "                                                                 \n",
      "=================================================================\n",
      "Total params: 1280129 (4.88 MB)\n",
      "Trainable params: 1280129 (4.88 MB)\n",
      "Non-trainable params: 0 (0.00 Byte)\n",
      "_________________________________________________________________\n"
     ]
    }
   ],
   "source": [
    "model_1.summary()"
   ],
   "metadata": {
    "collapsed": false,
    "ExecuteTime": {
     "end_time": "2024-04-26T10:03:06.610978322Z",
     "start_time": "2024-04-26T10:03:06.265737008Z"
    }
   },
   "id": "5380ee4a34e8ca0c",
   "execution_count": 36
  },
  {
   "cell_type": "code",
   "outputs": [
    {
     "name": "stdout",
     "output_type": "stream",
     "text": [
      "Saving TensorBoard log files to: model_logs/model_1_dense/20240426-120306\n",
      "Epoch 1/5\n"
     ]
    },
    {
     "name": "stderr",
     "output_type": "stream",
     "text": [
      "2024-04-26 12:03:07.814667: I external/local_xla/xla/service/service.cc:168] XLA service 0x7f9ef88abc30 initialized for platform CUDA (this does not guarantee that XLA will be used). Devices:\n",
      "2024-04-26 12:03:07.814703: I external/local_xla/xla/service/service.cc:176]   StreamExecutor device (0): NVIDIA GeForce RTX 3050, Compute Capability 8.6\n",
      "2024-04-26 12:03:07.862393: I tensorflow/compiler/mlir/tensorflow/utils/dump_mlir_util.cc:269] disabling MLIR crash reproducer, set env var `MLIR_CRASH_REPRODUCER_DIRECTORY` to enable.\n",
      "2024-04-26 12:03:07.945534: I external/local_xla/xla/stream_executor/cuda/cuda_dnn.cc:454] Loaded cuDNN version 8907\n",
      "WARNING: All log messages before absl::InitializeLog() is called are written to STDERR\n",
      "I0000 00:00:1714125788.052850   13826 device_compiler.h:186] Compiled cluster using XLA!  This line is logged at most once for the lifetime of the process.\n"
     ]
    },
    {
     "name": "stdout",
     "output_type": "stream",
     "text": [
      "215/215 [==============================] - 8s 31ms/step - loss: 0.6118 - accuracy: 0.6935 - val_loss: 0.5371 - val_accuracy: 0.7546\n",
      "Epoch 2/5\n",
      "215/215 [==============================] - 2s 9ms/step - loss: 0.4416 - accuracy: 0.8168 - val_loss: 0.4702 - val_accuracy: 0.7848\n",
      "Epoch 3/5\n",
      "215/215 [==============================] - 1s 7ms/step - loss: 0.3473 - accuracy: 0.8619 - val_loss: 0.4580 - val_accuracy: 0.7900\n",
      "Epoch 4/5\n",
      "215/215 [==============================] - 1s 7ms/step - loss: 0.2843 - accuracy: 0.8895 - val_loss: 0.4610 - val_accuracy: 0.7835\n",
      "Epoch 5/5\n",
      "215/215 [==============================] - 1s 5ms/step - loss: 0.2374 - accuracy: 0.9111 - val_loss: 0.4812 - val_accuracy: 0.7874\n"
     ]
    }
   ],
   "source": [
    "# Compile model\n",
    "model_1.compile(loss=\"binary_crossentropy\",\n",
    "                optimizer=tf.keras.optimizers.Adam(),\n",
    "                metrics=[\"accuracy\"])\n",
    "\n",
    "# Fit the model\n",
    "history_1 = model_1.fit(train_sentences,\n",
    "                        train_labels,\n",
    "                        epochs=5,\n",
    "                        validation_data=(val_sentences, val_labels),\n",
    "                        callbacks=[create_tensorboard_callback(dir_name=SAVE_DIR,\n",
    "                                                               experiment_name=\"model_1_dense\")])"
   ],
   "metadata": {
    "collapsed": false,
    "ExecuteTime": {
     "end_time": "2024-04-26T10:03:20.834979595Z",
     "start_time": "2024-04-26T10:03:06.310877985Z"
    }
   },
   "id": "a34623962e038497",
   "execution_count": 37
  },
  {
   "cell_type": "code",
   "outputs": [
    {
     "name": "stdout",
     "output_type": "stream",
     "text": [
      "24/24 [==============================] - 0s 2ms/step - loss: 0.4812 - accuracy: 0.7874\n"
     ]
    },
    {
     "data": {
      "text/plain": "[0.48116424679756165, 0.787401556968689]"
     },
     "execution_count": 38,
     "metadata": {},
     "output_type": "execute_result"
    }
   ],
   "source": [
    "# Evaluate model 1\n",
    "model_1.evaluate(val_sentences, val_labels)"
   ],
   "metadata": {
    "collapsed": false,
    "ExecuteTime": {
     "end_time": "2024-04-26T10:03:20.965426921Z",
     "start_time": "2024-04-26T10:03:20.835328883Z"
    }
   },
   "id": "b01595cecb296007",
   "execution_count": 38
  },
  {
   "cell_type": "code",
   "outputs": [
    {
     "name": "stdout",
     "output_type": "stream",
     "text": [
      "24/24 [==============================] - 0s 2ms/step\n"
     ]
    },
    {
     "data": {
      "text/plain": "array([[0.3762395 ],\n       [0.7522857 ],\n       [0.9972192 ],\n       [0.10433523],\n       [0.11103633],\n       [0.93116134],\n       [0.90806293],\n       [0.9954508 ],\n       [0.95062214],\n       [0.23266819]], dtype=float32)"
     },
     "execution_count": 39,
     "metadata": {},
     "output_type": "execute_result"
    }
   ],
   "source": [
    "# Look at the first 10 predictions\n",
    "model_1_pred_probs = model_1.predict(val_sentences)\n",
    "model_1_pred_probs[:10]"
   ],
   "metadata": {
    "collapsed": false,
    "ExecuteTime": {
     "end_time": "2024-04-26T10:03:21.189621986Z",
     "start_time": "2024-04-26T10:03:20.950699868Z"
    }
   },
   "id": "367413fb65f0e20d",
   "execution_count": 39
  },
  {
   "cell_type": "code",
   "outputs": [
    {
     "data": {
      "text/plain": "<tf.Tensor: shape=(20,), dtype=float32, numpy=\narray([0., 1., 1., 0., 0., 1., 1., 1., 1., 0., 0., 1., 0., 0., 0., 0., 0.,\n       0., 0., 1.], dtype=float32)>"
     },
     "execution_count": 40,
     "metadata": {},
     "output_type": "execute_result"
    }
   ],
   "source": [
    "# Convert model prediction\n",
    "model_1_preds = tf.squeeze(tf.round(model_1_pred_probs))\n",
    "model_1_preds[:20]"
   ],
   "metadata": {
    "collapsed": false,
    "ExecuteTime": {
     "end_time": "2024-04-26T10:03:21.259590041Z",
     "start_time": "2024-04-26T10:03:21.163456445Z"
    }
   },
   "id": "a71c327710295aee",
   "execution_count": 40
  },
  {
   "cell_type": "code",
   "outputs": [
    {
     "data": {
      "text/plain": "{'accuracy': 78.74015748031496,\n 'precision': 0.7927656871284042,\n 'recall': 0.7874015748031497,\n 'f1': 0.7842639469124086}"
     },
     "execution_count": 41,
     "metadata": {},
     "output_type": "execute_result"
    }
   ],
   "source": [
    "# Caluclate our model_1 results\n",
    "model_1_results = evaluate_classification_metrics(y_true=val_labels,\n",
    "                                                  y_pred=model_1_preds)\n",
    "model_1_results"
   ],
   "metadata": {
    "collapsed": false,
    "ExecuteTime": {
     "end_time": "2024-04-26T10:03:21.369407697Z",
     "start_time": "2024-04-26T10:03:21.236731106Z"
    }
   },
   "id": "a782f9033b583334",
   "execution_count": 41
  },
  {
   "cell_type": "code",
   "outputs": [
    {
     "data": {
      "text/plain": "array([False, False, False, False])"
     },
     "execution_count": 42,
     "metadata": {},
     "output_type": "execute_result"
    }
   ],
   "source": [
    "np.array(list(model_1_results.values())) > np.array(list(baseline_results.values()))"
   ],
   "metadata": {
    "collapsed": false,
    "ExecuteTime": {
     "end_time": "2024-04-26T10:03:21.386709789Z",
     "start_time": "2024-04-26T10:03:21.278708389Z"
    }
   },
   "id": "9b0eb497929e500a",
   "execution_count": 42
  },
  {
   "cell_type": "markdown",
   "source": [
    "Nous n'avons donc pas de meilleurs résultats avec model_1 comparé à model_0"
   ],
   "metadata": {
    "collapsed": false
   },
   "id": "6c66324dd91cf3fa"
  },
  {
   "cell_type": "markdown",
   "source": [
    "Video N°236: Visualising our model's learned word embeddings with TensorFlow's projector tool"
   ],
   "metadata": {
    "collapsed": false
   },
   "id": "89d57375dca9de72"
  },
  {
   "cell_type": "markdown",
   "source": [
    "### Visualizing learned embeddings\n",
    "\n",
    "To further understand word embeddings, let's visualize them, to do so, we'll get the weights matrix (embedding matrix) from our embedding layer and visualize it using the Embedding project tool, see the TensorFlow guide for more: https://www.tensorflow.org/tutorials/text/word_embeddings"
   ],
   "metadata": {
    "collapsed": false
   },
   "id": "4063743e80fe09f9"
  },
  {
   "cell_type": "code",
   "outputs": [
    {
     "data": {
      "text/plain": "(10000, ['', '[UNK]', 'the', 'a', 'in', 'to', 'of', 'and', 'i', 'is'])"
     },
     "execution_count": 43,
     "metadata": {},
     "output_type": "execute_result"
    }
   ],
   "source": [
    "# Get the vocabulary from the text vectorization layer\n",
    "words_in_vocab = text_vectorizer.get_vocabulary()\n",
    "len(words_in_vocab), words_in_vocab[:10]"
   ],
   "metadata": {
    "collapsed": false,
    "ExecuteTime": {
     "end_time": "2024-04-26T10:03:21.391486549Z",
     "start_time": "2024-04-26T10:03:21.279434351Z"
    }
   },
   "id": "9ff40e4b67bcc70e",
   "execution_count": 43
  },
  {
   "cell_type": "code",
   "outputs": [
    {
     "data": {
      "text/plain": "10000"
     },
     "execution_count": 44,
     "metadata": {},
     "output_type": "execute_result"
    }
   ],
   "source": [
    "len(words_in_vocab)"
   ],
   "metadata": {
    "collapsed": false,
    "ExecuteTime": {
     "end_time": "2024-04-26T10:03:21.403078230Z",
     "start_time": "2024-04-26T10:03:21.280070942Z"
    }
   },
   "id": "12fddbef57b5a99f",
   "execution_count": 44
  },
  {
   "cell_type": "code",
   "outputs": [
    {
     "data": {
      "text/plain": "10000"
     },
     "execution_count": 45,
     "metadata": {},
     "output_type": "execute_result"
    }
   ],
   "source": [
    "max_vocab_length"
   ],
   "metadata": {
    "collapsed": false,
    "ExecuteTime": {
     "end_time": "2024-04-26T10:03:21.408534894Z",
     "start_time": "2024-04-26T10:03:21.280947598Z"
    }
   },
   "id": "a673c94114a8560c",
   "execution_count": 45
  },
  {
   "cell_type": "code",
   "outputs": [
    {
     "name": "stdout",
     "output_type": "stream",
     "text": [
      "Model: \"model_1_dense\"\n",
      "_________________________________________________________________\n",
      " Layer (type)                Output Shape              Param #   \n",
      "=================================================================\n",
      " input_1 (InputLayer)        [(None, 1)]               0         \n",
      "                                                                 \n",
      " text_vectorization_1 (Text  (None, 15)                0         \n",
      " Vectorization)                                                  \n",
      "                                                                 \n",
      " embedding (Embedding)       (None, 15, 128)           1280000   \n",
      "                                                                 \n",
      " global_average_pooling1d (  (None, 128)               0         \n",
      " GlobalAveragePooling1D)                                         \n",
      "                                                                 \n",
      " dense (Dense)               (None, 1)                 129       \n",
      "                                                                 \n",
      "=================================================================\n",
      "Total params: 1280129 (4.88 MB)\n",
      "Trainable params: 1280129 (4.88 MB)\n",
      "Non-trainable params: 0 (0.00 Byte)\n",
      "_________________________________________________________________\n"
     ]
    }
   ],
   "source": [
    "# Model 1 summary\n",
    "model_1.summary()"
   ],
   "metadata": {
    "collapsed": false,
    "ExecuteTime": {
     "end_time": "2024-04-26T10:03:21.512008022Z",
     "start_time": "2024-04-26T10:03:21.285243037Z"
    }
   },
   "id": "6ce2d1c8b6e6fbe8",
   "execution_count": 46
  },
  {
   "cell_type": "code",
   "outputs": [
    {
     "name": "stdout",
     "output_type": "stream",
     "text": [
      "(10000, 128)\n"
     ]
    }
   ],
   "source": [
    "# Get the weight matrix of embedding layer\n",
    "# (these are the numerical representations of each token in our training data, which have been learned for 5 epochs)\n",
    "embed_weights = model_1.get_layer(\"embedding\").get_weights()[0]\n",
    "print(embed_weights.shape) # same size as vocab size and embedding_dim (output_dim of our embedding layer)"
   ],
   "metadata": {
    "collapsed": false,
    "ExecuteTime": {
     "end_time": "2024-04-26T10:03:21.513192736Z",
     "start_time": "2024-04-26T10:03:21.327476372Z"
    }
   },
   "id": "b35772353fac8bf2",
   "execution_count": 47
  },
  {
   "cell_type": "markdown",
   "source": [
    "Now we've got the embedding matrix our model has learned to represent our tokens, let's see how we can visualize it.\n",
    "\n",
    "To do so, TensorFlow has a handy tool called projector: [https://projector.tensorflow.org/](https://projector.tensorflow.org/)\n",
    "\n",
    "And TensorFlow also has an incredible guide on word embeddings themselves: [https://www.tensorflow.org/text/guide/word_embeddings](https://www.tensorflow.org/text/guide/word_embeddings)"
   ],
   "metadata": {
    "collapsed": false
   },
   "id": "ddba71ea33ebbc85"
  },
  {
   "cell_type": "code",
   "outputs": [],
   "source": [
    "# Create embedding files (we got this from TensorFlow's word embedding documentation)\n",
    "import io\n",
    "out_v = io.open('vectors.tsv', 'w', encoding='utf-8')\n",
    "out_m = io.open('metadata.tsv', 'w', encoding='utf-8')\n",
    "\n",
    "for index, word in enumerate(words_in_vocab):\n",
    "  if index == 0:\n",
    "    continue  # skip 0, it's padding.\n",
    "  vec = embed_weights[index]\n",
    "  out_v.write('\\t'.join([str(x) for x in vec]) + \"\\n\")\n",
    "  out_m.write(word + \"\\n\")\n",
    "out_v.close()\n",
    "out_m.close()"
   ],
   "metadata": {
    "collapsed": false,
    "ExecuteTime": {
     "end_time": "2024-04-26T10:03:21.956779790Z",
     "start_time": "2024-04-26T10:03:21.328155605Z"
    }
   },
   "id": "617b08c60c93aca8",
   "execution_count": 48
  },
  {
   "cell_type": "markdown",
   "source": [
    "If you are running this tutorial in Colaboratory, you can use the following snippet to download these files to your local machine (or use the file browser, View -> Table of contents -> File browser).\n",
    "```python\n",
    "# Download files from Colab to upload projector\n",
    "try:\n",
    "  from google.colab import files\n",
    "  files.download('vectors.tsv')\n",
    "  files.download('metadata.tsv')\n",
    "except Exception:\n",
    "  pass\n",
    "```"
   ],
   "metadata": {
    "collapsed": false
   },
   "id": "7fb9b51ae251709c"
  },
  {
   "cell_type": "markdown",
   "source": [
    "Our visual word embeddings might not look like much to us, but they help our model understand the relationships between words.\n",
    "\n",
    "For more on a popular type of word embedding and more visual explanations check out the illustrated word2vec: [https://jalammar.github.io/illustrated-word2vec/](https://jalammar.github.io/illustrated-word2vec/)"
   ],
   "metadata": {
    "collapsed": false
   },
   "id": "77603eaf4b309be9"
  },
  {
   "cell_type": "markdown",
   "source": [
    "Video N°237: High-level overview of Recurrent Networks (RNNs) + where to learn more"
   ],
   "metadata": {
    "collapsed": false
   },
   "id": "e92e76eacd017a41"
  },
  {
   "cell_type": "markdown",
   "source": [
    "## Recurrent Neural Networks (RNN's)\n",
    "\n",
    "RNN's are useful for sequence data.\n",
    "\n",
    "The premise of a recurrent neural network is to use the representation of a previous input to aid the representation of a later input.\n",
    "\n",
    "**Resources:** If you want an overview of the internals of a recurrent neural network, see the following:\n",
    "- MIT's sequence modelling lecture [https://www.youtube.com/watch?v=qjrad0V0uJE](https://www.youtube.com/watch?v=qjrad0V0uJE)\n",
    "- Chris Olah's intro to LSTMs: [https://colah.github.io/posts/2015-08-Understanding-LSTMs/](https://colah.github.io/posts/2015-08-Understanding-LSTMs/)\n",
    "- Andrej Karpathy's the unreasonable effectiveness of recurrent neural networks: [https://karpathy.github.io/2015/05/21/rnn-effectiveness/](https://karpathy.github.io/2015/05/21/rnn-effectiveness/)"
   ],
   "metadata": {
    "collapsed": false
   },
   "id": "61ceae431627f8e3"
  },
  {
   "cell_type": "markdown",
   "source": [
    "Video N°238: Model 2: Building, fitting and evaluating our first TensorFlow RNN model (LSTM)"
   ],
   "metadata": {
    "collapsed": false
   },
   "id": "ce04b6bb81edb89b"
  },
  {
   "cell_type": "markdown",
   "source": [
    "### Model 2:LSTM\n",
    "\n",
    "LSTM = long short term memory (one of the most popular LSTM cells)\n",
    "\n",
    "Our structure of an RNN typically looks like this:\n",
    "```\n",
    "Input (text) -> Tokenize -> Embedding -> Layers (RNN/dense) -> Output (label probability)\n",
    "```"
   ],
   "metadata": {
    "collapsed": false
   },
   "id": "81b46492d70475f8"
  },
  {
   "cell_type": "code",
   "outputs": [
    {
     "name": "stdout",
     "output_type": "stream",
     "text": [
      "input: A 3D tensor with shape [batch, timesteps, feature]\n",
      "After embedding: (None, 15, 128)\n",
      "x: A 2D tensor with shape [batch, features]\n",
      "After LSTM cell: (None, 64)\n"
     ]
    }
   ],
   "source": [
    "# Create an LSTM model\n",
    "inputs = layers.Input(shape=(1,), dtype=\"string\")\n",
    "print(f\"input: A 3D tensor with shape [batch, timesteps, feature]\")\n",
    "x = text_vectorizer(inputs)\n",
    "x = embedding(x)\n",
    "print(f\"After embedding: {x.shape}\")\n",
    "#x = layers.LSTM(units=64, return_sequences=True)(x) # when you're stacking RNN cells together, you need to return_sequences=True\n",
    "#print(x.shape)\n",
    "\n",
    "x = layers.LSTM(units=64)(x)\n",
    "print(f\"x: A 2D tensor with shape [batch, features]\")\n",
    "print(f\"After LSTM cell: {x.shape}\")\n",
    "#x = layers.Dense(units=64, activation=\"relu\")(x)\n",
    "#print(f\"After Dense layer: {x.shape}\")\n",
    "\n",
    "\n",
    "outputs = layers.Dense(1, activation=\"sigmoid\")(x)#binary data -> sigmoid\n",
    "model_2 = tf.keras.Model(inputs, outputs, name=\"model_2_LSTM\")"
   ],
   "metadata": {
    "collapsed": false,
    "ExecuteTime": {
     "end_time": "2024-04-26T10:03:22.247724879Z",
     "start_time": "2024-04-26T10:03:21.961770139Z"
    }
   },
   "id": "be08af02df67153e",
   "execution_count": 49
  },
  {
   "cell_type": "markdown",
   "source": [
    "**Resource:** [https://ml-cheatsheet.readthedocs.io/en/latest/activation_functions.html#tanh](https://ml-cheatsheet.readthedocs.io/en/latest/activation_functions.html#tanh)"
   ],
   "metadata": {
    "collapsed": false
   },
   "id": "1386ca53751fcf43"
  },
  {
   "cell_type": "code",
   "outputs": [
    {
     "name": "stdout",
     "output_type": "stream",
     "text": [
      "Model: \"model_2_LSTM\"\n",
      "_________________________________________________________________\n",
      " Layer (type)                Output Shape              Param #   \n",
      "=================================================================\n",
      " input_2 (InputLayer)        [(None, 1)]               0         \n",
      "                                                                 \n",
      " text_vectorization_1 (Text  (None, 15)                0         \n",
      " Vectorization)                                                  \n",
      "                                                                 \n",
      " embedding (Embedding)       (None, 15, 128)           1280000   \n",
      "                                                                 \n",
      " lstm (LSTM)                 (None, 64)                49408     \n",
      "                                                                 \n",
      " dense_1 (Dense)             (None, 1)                 65        \n",
      "                                                                 \n",
      "=================================================================\n",
      "Total params: 1329473 (5.07 MB)\n",
      "Trainable params: 1329473 (5.07 MB)\n",
      "Non-trainable params: 0 (0.00 Byte)\n",
      "_________________________________________________________________\n"
     ]
    }
   ],
   "source": [
    "# Get a summary\n",
    "model_2.summary()"
   ],
   "metadata": {
    "collapsed": false,
    "ExecuteTime": {
     "end_time": "2024-04-26T10:03:22.329403172Z",
     "start_time": "2024-04-26T10:03:22.212172538Z"
    }
   },
   "id": "76c6cd7074a37e80",
   "execution_count": 50
  },
  {
   "cell_type": "code",
   "outputs": [],
   "source": [
    "# Compile the model\n",
    "model_2.compile(loss=\"binary_crossentropy\",\n",
    "                optimizer=tf.keras.optimizers.Adam(),\n",
    "                metrics=[\"accuracy\"])"
   ],
   "metadata": {
    "collapsed": false,
    "ExecuteTime": {
     "end_time": "2024-04-26T10:03:22.330577058Z",
     "start_time": "2024-04-26T10:03:22.255201887Z"
    }
   },
   "id": "327381b7b9bf6013",
   "execution_count": 51
  },
  {
   "cell_type": "code",
   "outputs": [
    {
     "name": "stdout",
     "output_type": "stream",
     "text": [
      "Saving TensorBoard log files to: model_logs/Model_2_LSTM/20240426-120322\n",
      "Epoch 1/5\n",
      "215/215 [==============================] - 10s 34ms/step - loss: 0.2266 - accuracy: 0.9172 - val_loss: 0.6108 - val_accuracy: 0.7730\n",
      "Epoch 2/5\n",
      "215/215 [==============================] - 3s 12ms/step - loss: 0.1563 - accuracy: 0.9415 - val_loss: 0.5978 - val_accuracy: 0.7808\n",
      "Epoch 3/5\n",
      "215/215 [==============================] - 2s 8ms/step - loss: 0.1271 - accuracy: 0.9526 - val_loss: 0.7083 - val_accuracy: 0.7690\n",
      "Epoch 4/5\n",
      "215/215 [==============================] - 2s 9ms/step - loss: 0.1043 - accuracy: 0.9597 - val_loss: 0.8021 - val_accuracy: 0.7743\n",
      "Epoch 5/5\n",
      "215/215 [==============================] - 2s 7ms/step - loss: 0.0841 - accuracy: 0.9654 - val_loss: 0.9909 - val_accuracy: 0.7625\n"
     ]
    }
   ],
   "source": [
    "# Fit the model\n",
    "history_2 = model_2.fit(train_sentences,\n",
    "                        train_labels,\n",
    "                        epochs=5,\n",
    "                        validation_data=(val_sentences, val_labels),\n",
    "                        callbacks=[create_tensorboard_callback(dir_name=SAVE_DIR,\n",
    "                                                               experiment_name=\"Model_2_LSTM\")])"
   ],
   "metadata": {
    "collapsed": false,
    "ExecuteTime": {
     "end_time": "2024-04-26T10:03:39.628902586Z",
     "start_time": "2024-04-26T10:03:22.255850318Z"
    }
   },
   "id": "6fb0aad742f03d53",
   "execution_count": 52
  },
  {
   "cell_type": "code",
   "outputs": [
    {
     "name": "stdout",
     "output_type": "stream",
     "text": [
      "24/24 [==============================] - 0s 2ms/step\n"
     ]
    },
    {
     "data": {
      "text/plain": "array([[8.1236027e-03],\n       [8.0996096e-01],\n       [9.9973887e-01],\n       [9.1187716e-02],\n       [6.0168048e-04],\n       [9.9959511e-01],\n       [4.8256549e-01],\n       [9.9987841e-01],\n       [9.9974924e-01],\n       [4.5240116e-01]], dtype=float32)"
     },
     "execution_count": 53,
     "metadata": {},
     "output_type": "execute_result"
    }
   ],
   "source": [
    "# Make predictions with LSTM model\n",
    "model_2_pred_probs = model_2.predict(val_sentences)\n",
    "model_2_pred_probs[:10]"
   ],
   "metadata": {
    "collapsed": false,
    "ExecuteTime": {
     "end_time": "2024-04-26T10:03:40.024525335Z",
     "start_time": "2024-04-26T10:03:39.624940063Z"
    }
   },
   "id": "dbae23cd905a236d",
   "execution_count": 53
  },
  {
   "cell_type": "code",
   "outputs": [
    {
     "data": {
      "text/plain": "<tf.Tensor: shape=(10,), dtype=float32, numpy=array([0., 1., 1., 0., 0., 1., 0., 1., 1., 0.], dtype=float32)>"
     },
     "execution_count": 54,
     "metadata": {},
     "output_type": "execute_result"
    }
   ],
   "source": [
    "# Convert model 2 pred probs to labels\n",
    "model_2_preds = tf.squeeze(tf.round(model_2_pred_probs))\n",
    "model_2_preds[:10]"
   ],
   "metadata": {
    "collapsed": false,
    "ExecuteTime": {
     "end_time": "2024-04-26T10:03:40.039865942Z",
     "start_time": "2024-04-26T10:03:40.013727173Z"
    }
   },
   "id": "86c9e5f1d1b755fb",
   "execution_count": 54
  },
  {
   "cell_type": "code",
   "outputs": [
    {
     "data": {
      "text/plain": "{'accuracy': 76.24671916010499,\n 'precision': 0.7657677169674478,\n 'recall': 0.7624671916010499,\n 'f1': 0.7593667569927582}"
     },
     "execution_count": 55,
     "metadata": {},
     "output_type": "execute_result"
    }
   ],
   "source": [
    "# Calculate model 2 results\n",
    "model_2_results = evaluate_classification_metrics(y_true=val_labels,\n",
    "                                                  y_pred=model_2_preds)\n",
    "model_2_results"
   ],
   "metadata": {
    "collapsed": false,
    "ExecuteTime": {
     "end_time": "2024-04-26T10:03:40.121745740Z",
     "start_time": "2024-04-26T10:03:40.020931073Z"
    }
   },
   "id": "691eb52607e22a0a",
   "execution_count": 55
  },
  {
   "cell_type": "code",
   "outputs": [
    {
     "data": {
      "text/plain": "{'accuracy': 79.26509186351706,\n 'precision': 0.8111390004213173,\n 'recall': 0.7926509186351706,\n 'f1': 0.7862189758049549}"
     },
     "execution_count": 56,
     "metadata": {},
     "output_type": "execute_result"
    }
   ],
   "source": [
    "baseline_results"
   ],
   "metadata": {
    "collapsed": false,
    "ExecuteTime": {
     "end_time": "2024-04-26T10:03:40.126696004Z",
     "start_time": "2024-04-26T10:03:40.030145470Z"
    }
   },
   "id": "560925d002849b90",
   "execution_count": 56
  },
  {
   "cell_type": "code",
   "outputs": [
    {
     "data": {
      "text/plain": "array([False, False, False, False])"
     },
     "execution_count": 57,
     "metadata": {},
     "output_type": "execute_result"
    }
   ],
   "source": [
    "np.array(list(model_2_results.values())) > np.array(list(baseline_results.values()))"
   ],
   "metadata": {
    "collapsed": false,
    "ExecuteTime": {
     "end_time": "2024-04-26T10:03:40.168037878Z",
     "start_time": "2024-04-26T10:03:40.035844097Z"
    }
   },
   "id": "ed210071d70900ca",
   "execution_count": 57
  },
  {
   "cell_type": "markdown",
   "source": [
    "Nous n'avons donc pas de meilleurs résultats avec model_2 comparé à model_0"
   ],
   "metadata": {
    "collapsed": false
   },
   "id": "974911b15c11f253"
  },
  {
   "cell_type": "markdown",
   "source": [
    "Video N°239: Model 3: Building, fitting and evaluating our first TensorFlow RNN model(LSTM)"
   ],
   "metadata": {
    "collapsed": false
   },
   "id": "9076609366fc2ac7"
  },
  {
   "cell_type": "markdown",
   "source": [
    "### Model 3: GRU\n",
    "\n",
    "Another popular and effective RNN component is the GRU or 'gated recurrent unit'.\n",
    "\n",
    "The GRU cell has similar features to an LSTM cell but has less parameters.\n"
   ],
   "metadata": {
    "collapsed": false
   },
   "id": "7dd9581cbfbe168a"
  },
  {
   "cell_type": "code",
   "outputs": [
    {
     "name": "stdout",
     "output_type": "stream",
     "text": [
      "input: A 3D tensor with shape [batch, timesteps, feature]\n",
      "After embedding: (None, 15, 128)\n",
      "After GRU 64 layer: (None, 64)\n",
      "After Dense 1 layer: (None, 64)\n"
     ]
    }
   ],
   "source": [
    "# Build an RNN using the GRU cell\n",
    "inputs = layers.Input(shape=(1,), dtype=tf.string)\n",
    "print(f\"input: A 3D tensor with shape [batch, timesteps, feature]\")\n",
    "x = text_vectorizer(inputs)\n",
    "x = embedding(x)\n",
    "print(f\"After embedding: {x.shape}\")\n",
    "\n",
    "x = layers.GRU(units=64)(x)\n",
    "print(f\"After GRU 64 layer: {x.shape}\")\n",
    "\n",
    "#x = layers.GRU(units=64, return_sequences=True)(x) # if you want to stack recurrent layers on top of each other, you need return_sequences=True\n",
    "#print(f\"After GRU 64 layer: {x.shape}\")\n",
    "\n",
    "#x = layers.LSTM(units=64, return_sequences=True)(x)\n",
    "#print(f\"Ater LSTM 64 layer: {x.shape}\")\n",
    "\n",
    "# x = layers.GRU(units=64)(x)\n",
    "# print(f\"After GRU 64 layer: {x.shape}\")\n",
    "\n",
    "#x = layers.Dense(units=64, activation=\"relu\")(x)\n",
    "#print(f\"After Dense 64 layer: {x.shape}\")\n",
    "\n",
    "outputs = layers.Dense(1, activation=\"sigmoid\")(x)\n",
    "print(f\"After Dense 1 layer: {x.shape}\")\n",
    "model_3 = tf.keras.Model(inputs, outputs, name=\"model_3_GRU\")"
   ],
   "metadata": {
    "collapsed": false,
    "ExecuteTime": {
     "end_time": "2024-04-26T10:03:40.296079573Z",
     "start_time": "2024-04-26T10:03:40.043822826Z"
    }
   },
   "id": "9dc10e654bd40e5f",
   "execution_count": 58
  },
  {
   "cell_type": "code",
   "outputs": [
    {
     "name": "stdout",
     "output_type": "stream",
     "text": [
      "Model: \"model_3_GRU\"\n",
      "_________________________________________________________________\n",
      " Layer (type)                Output Shape              Param #   \n",
      "=================================================================\n",
      " input_3 (InputLayer)        [(None, 1)]               0         \n",
      "                                                                 \n",
      " text_vectorization_1 (Text  (None, 15)                0         \n",
      " Vectorization)                                                  \n",
      "                                                                 \n",
      " embedding (Embedding)       (None, 15, 128)           1280000   \n",
      "                                                                 \n",
      " gru (GRU)                   (None, 64)                37248     \n",
      "                                                                 \n",
      " dense_2 (Dense)             (None, 1)                 65        \n",
      "                                                                 \n",
      "=================================================================\n",
      "Total params: 1317313 (5.03 MB)\n",
      "Trainable params: 1317313 (5.03 MB)\n",
      "Non-trainable params: 0 (0.00 Byte)\n",
      "_________________________________________________________________\n"
     ]
    }
   ],
   "source": [
    "model_3.summary()"
   ],
   "metadata": {
    "collapsed": false,
    "ExecuteTime": {
     "end_time": "2024-04-26T10:03:40.350617480Z",
     "start_time": "2024-04-26T10:03:40.217978338Z"
    }
   },
   "id": "ee85ed6b9d0bcf12",
   "execution_count": 59
  },
  {
   "cell_type": "code",
   "outputs": [],
   "source": [
    "# Compile the model\n",
    "model_3.compile(loss=\"binary_crossentropy\",\n",
    "                optimizer=tf.keras.optimizers.Adam(),\n",
    "                metrics=[\"accuracy\"])"
   ],
   "metadata": {
    "collapsed": false,
    "ExecuteTime": {
     "end_time": "2024-04-26T10:03:40.364713334Z",
     "start_time": "2024-04-26T10:03:40.259034438Z"
    }
   },
   "id": "e059fc051c579368",
   "execution_count": 60
  },
  {
   "cell_type": "code",
   "outputs": [
    {
     "name": "stdout",
     "output_type": "stream",
     "text": [
      "Saving TensorBoard log files to: model_logs/model_3_GRU/20240426-120340\n",
      "Epoch 1/5\n",
      "215/215 [==============================] - 9s 35ms/step - loss: 0.1647 - accuracy: 0.9324 - val_loss: 0.6594 - val_accuracy: 0.7703\n",
      "Epoch 2/5\n",
      "215/215 [==============================] - 2s 10ms/step - loss: 0.0888 - accuracy: 0.9682 - val_loss: 0.7708 - val_accuracy: 0.7730\n",
      "Epoch 3/5\n",
      "215/215 [==============================] - 2s 9ms/step - loss: 0.0718 - accuracy: 0.9733 - val_loss: 1.0759 - val_accuracy: 0.7782\n",
      "Epoch 4/5\n",
      "215/215 [==============================] - 1s 7ms/step - loss: 0.0619 - accuracy: 0.9750 - val_loss: 1.1255 - val_accuracy: 0.7743\n",
      "Epoch 5/5\n",
      "215/215 [==============================] - 2s 8ms/step - loss: 0.0558 - accuracy: 0.9746 - val_loss: 1.1308 - val_accuracy: 0.7730\n"
     ]
    }
   ],
   "source": [
    "# Fit the model\n",
    "model_3_history = model_3.fit(x=train_sentences,\n",
    "                              y=train_labels,\n",
    "                              epochs=5,\n",
    "                              validation_data=(val_sentences, val_labels),\n",
    "                              callbacks=[create_tensorboard_callback(dir_name=SAVE_DIR,\n",
    "                                                                     experiment_name=\"model_3_GRU\")])"
   ],
   "metadata": {
    "collapsed": false,
    "ExecuteTime": {
     "end_time": "2024-04-26T10:03:57.128829535Z",
     "start_time": "2024-04-26T10:03:40.259522693Z"
    }
   },
   "id": "f71662d1db2bc43",
   "execution_count": 61
  },
  {
   "cell_type": "code",
   "outputs": [
    {
     "name": "stdout",
     "output_type": "stream",
     "text": [
      "24/24 [==============================] - 1s 2ms/step\n"
     ]
    },
    {
     "data": {
      "text/plain": "array([[3.9600655e-03],\n       [7.2909802e-01],\n       [9.9990726e-01],\n       [7.9756491e-02],\n       [1.5480012e-04],\n       [9.9962437e-01],\n       [8.9192325e-01],\n       [9.9995649e-01],\n       [9.9989808e-01],\n       [7.9792655e-01]], dtype=float32)"
     },
     "execution_count": 62,
     "metadata": {},
     "output_type": "execute_result"
    }
   ],
   "source": [
    "# Make some predictions with our GRU model\n",
    "model_3_pred_probs = model_3.predict(val_sentences)\n",
    "model_3_pred_probs[:10]"
   ],
   "metadata": {
    "collapsed": false,
    "ExecuteTime": {
     "end_time": "2024-04-26T10:03:57.696251168Z",
     "start_time": "2024-04-26T10:03:57.126886462Z"
    }
   },
   "id": "70cf70a7e90c37f1",
   "execution_count": 62
  },
  {
   "cell_type": "code",
   "outputs": [
    {
     "data": {
      "text/plain": "<tf.Tensor: shape=(10,), dtype=float32, numpy=array([0., 1., 1., 0., 0., 1., 1., 1., 1., 1.], dtype=float32)>"
     },
     "execution_count": 63,
     "metadata": {},
     "output_type": "execute_result"
    }
   ],
   "source": [
    "# Convert model 3 pred probs to labels\n",
    "model_3_preds = tf.squeeze(tf.round(model_3_pred_probs))\n",
    "model_3_preds[:10]"
   ],
   "metadata": {
    "collapsed": false,
    "ExecuteTime": {
     "end_time": "2024-04-26T10:03:57.750099272Z",
     "start_time": "2024-04-26T10:03:57.693595056Z"
    }
   },
   "id": "41d38f0568aa6230",
   "execution_count": 63
  },
  {
   "cell_type": "code",
   "outputs": [
    {
     "data": {
      "text/plain": "{'accuracy': 77.29658792650919,\n 'precision': 0.7742755789705,\n 'recall': 0.7729658792650919,\n 'f1': 0.7710949612836401}"
     },
     "execution_count": 64,
     "metadata": {},
     "output_type": "execute_result"
    }
   ],
   "source": [
    "# Calculate model 3 results\n",
    "model_3_results = evaluate_classification_metrics(y_true=val_labels,\n",
    "                                                  y_pred=model_3_preds)\n",
    "model_3_results"
   ],
   "metadata": {
    "collapsed": false,
    "ExecuteTime": {
     "end_time": "2024-04-26T10:03:57.755970694Z",
     "start_time": "2024-04-26T10:03:57.700039699Z"
    }
   },
   "id": "2b218d4abdc5acb8",
   "execution_count": 64
  },
  {
   "cell_type": "code",
   "outputs": [
    {
     "data": {
      "text/plain": "array([False, False, False, False])"
     },
     "execution_count": 65,
     "metadata": {},
     "output_type": "execute_result"
    }
   ],
   "source": [
    "np.array(list(model_3_results.values())) > np.array(list(baseline_results.values()))"
   ],
   "metadata": {
    "collapsed": false,
    "ExecuteTime": {
     "end_time": "2024-04-26T10:03:57.768047792Z",
     "start_time": "2024-04-26T10:03:57.709058234Z"
    }
   },
   "id": "30b68958264bdc56",
   "execution_count": 65
  },
  {
   "cell_type": "markdown",
   "source": [
    "Nous n'avons donc pas de meilleurs résultats avec model_3 comparé à model_0"
   ],
   "metadata": {
    "collapsed": false
   },
   "id": "a3836bd9af38a8ae"
  },
  {
   "cell_type": "markdown",
   "source": [
    "Video N°240: Model 4: Building, fitting and evaluating a bidirectional RNN model"
   ],
   "metadata": {
    "collapsed": false
   },
   "id": "e477fe396f30a387"
  },
  {
   "cell_type": "markdown",
   "source": [
    "### Model 4: Bidirectional RNN\n",
    "\n",
    "Normal RNN's go from left to right (just like you'd read an English sentence) however, a bidirectional RNN goes from right to left as well as left to right."
   ],
   "metadata": {
    "collapsed": false
   },
   "id": "d818c905600092bf"
  },
  {
   "cell_type": "code",
   "outputs": [
    {
     "name": "stdout",
     "output_type": "stream",
     "text": [
      "64 neurons give 128 parameters because they are bidirectional: (None, 128)\n"
     ]
    }
   ],
   "source": [
    "# Building a bidirectional RNN in TensorFlow\n",
    "inputs = layers.Input(shape=(1,), dtype=tf.string)\n",
    "x = text_vectorizer(inputs)\n",
    "x = embedding(x)\n",
    "#x = layers.Bidirectional(layer=layers.LSTM(units=64, return_sequences=True))(x)\n",
    "x = layers.Bidirectional(layer=layers.LSTM(units=64))(x)\n",
    "print(f\"64 neurons give 128 parameters because they are bidirectional: {x.shape}\")\n",
    "outputs = layers.Dense(units=1, activation=\"sigmoid\")(x)\n",
    "model_4 = tf.keras.Model(inputs, outputs, name=\"model_4_bidirectional\")"
   ],
   "metadata": {
    "collapsed": false,
    "ExecuteTime": {
     "end_time": "2024-04-26T10:03:58.123943188Z",
     "start_time": "2024-04-26T10:03:57.716835866Z"
    }
   },
   "id": "98c1666dd605fe22",
   "execution_count": 66
  },
  {
   "cell_type": "code",
   "outputs": [
    {
     "name": "stdout",
     "output_type": "stream",
     "text": [
      "Model: \"model_4_bidirectional\"\n",
      "_________________________________________________________________\n",
      " Layer (type)                Output Shape              Param #   \n",
      "=================================================================\n",
      " input_4 (InputLayer)        [(None, 1)]               0         \n",
      "                                                                 \n",
      " text_vectorization_1 (Text  (None, 15)                0         \n",
      " Vectorization)                                                  \n",
      "                                                                 \n",
      " embedding (Embedding)       (None, 15, 128)           1280000   \n",
      "                                                                 \n",
      " bidirectional (Bidirection  (None, 128)               98816     \n",
      " al)                                                             \n",
      "                                                                 \n",
      " dense_3 (Dense)             (None, 1)                 129       \n",
      "                                                                 \n",
      "=================================================================\n",
      "Total params: 1378945 (5.26 MB)\n",
      "Trainable params: 1378945 (5.26 MB)\n",
      "Non-trainable params: 0 (0.00 Byte)\n",
      "_________________________________________________________________\n"
     ]
    }
   ],
   "source": [
    "# Get a summary\n",
    "model_4.summary()"
   ],
   "metadata": {
    "collapsed": false,
    "ExecuteTime": {
     "end_time": "2024-04-26T10:03:58.126196668Z",
     "start_time": "2024-04-26T10:03:58.094881273Z"
    }
   },
   "id": "9a60fd4d971045ff",
   "execution_count": 67
  },
  {
   "cell_type": "code",
   "outputs": [],
   "source": [
    "# Compile model\n",
    "model_4.compile(loss=\"binary_crossentropy\",\n",
    "                optimizer=tf.keras.optimizers.Adam(),\n",
    "                metrics=[\"accuracy\"])"
   ],
   "metadata": {
    "collapsed": false,
    "ExecuteTime": {
     "end_time": "2024-04-26T10:03:58.303430538Z",
     "start_time": "2024-04-26T10:03:58.154389460Z"
    }
   },
   "id": "4726001f2c45cb27",
   "execution_count": 68
  },
  {
   "cell_type": "code",
   "outputs": [
    {
     "name": "stdout",
     "output_type": "stream",
     "text": [
      "Saving TensorBoard log files to: model_logs/model_4_bidirectional/20240426-120358\n",
      "Epoch 1/5\n",
      "215/215 [==============================] - 10s 35ms/step - loss: 0.1121 - accuracy: 0.9661 - val_loss: 0.9899 - val_accuracy: 0.7756\n",
      "Epoch 2/5\n",
      "215/215 [==============================] - 3s 14ms/step - loss: 0.0531 - accuracy: 0.9781 - val_loss: 0.9711 - val_accuracy: 0.7664\n",
      "Epoch 3/5\n",
      "215/215 [==============================] - 2s 10ms/step - loss: 0.0467 - accuracy: 0.9785 - val_loss: 1.3505 - val_accuracy: 0.7598\n",
      "Epoch 4/5\n",
      "215/215 [==============================] - 2s 11ms/step - loss: 0.0433 - accuracy: 0.9812 - val_loss: 1.4044 - val_accuracy: 0.7651\n",
      "Epoch 5/5\n",
      "215/215 [==============================] - 2s 8ms/step - loss: 0.0432 - accuracy: 0.9807 - val_loss: 1.4923 - val_accuracy: 0.7717\n"
     ]
    }
   ],
   "source": [
    "# Fit the model\n",
    "model_4_history = model_4.fit(x=train_sentences,\n",
    "                              y=train_labels,\n",
    "                              epochs=5,\n",
    "                              validation_data=(val_sentences, val_labels),\n",
    "                              callbacks=[create_tensorboard_callback(dir_name=SAVE_DIR,\n",
    "                                                                     experiment_name=\"model_4_bidirectional\")])"
   ],
   "metadata": {
    "collapsed": false,
    "ExecuteTime": {
     "end_time": "2024-04-26T10:04:17.519346135Z",
     "start_time": "2024-04-26T10:03:58.154716855Z"
    }
   },
   "id": "96c3caad937bb62d",
   "execution_count": 69
  },
  {
   "cell_type": "code",
   "outputs": [
    {
     "name": "stdout",
     "output_type": "stream",
     "text": [
      "24/24 [==============================] - 1s 3ms/step\n"
     ]
    },
    {
     "data": {
      "text/plain": "array([[3.74879921e-04],\n       [5.89466095e-01],\n       [9.99947548e-01],\n       [2.30767697e-01],\n       [2.97115675e-05],\n       [9.99755323e-01],\n       [9.55910623e-01],\n       [9.99981880e-01],\n       [9.99956489e-01],\n       [9.98958588e-01],\n       [5.60048029e-05],\n       [9.93029416e-01],\n       [7.14441485e-05],\n       [2.39988640e-01],\n       [3.10264331e-05],\n       [7.75742461e-04],\n       [5.09845995e-05],\n       [4.39297437e-05],\n       [3.34884599e-03],\n       [9.99605954e-01],\n       [9.99913573e-01],\n       [4.96437096e-05],\n       [9.99878645e-01],\n       [3.74426338e-04],\n       [9.99930620e-01],\n       [9.99975801e-01],\n       [1.27561856e-04],\n       [3.77846765e-04],\n       [4.53534703e-05],\n       [5.82978427e-01],\n       [9.99276936e-01],\n       [5.73295809e-04],\n       [3.35336267e-03],\n       [1.60040523e-04],\n       [9.16288137e-01],\n       [3.06021184e-01],\n       [9.99942541e-01],\n       [1.52407497e-01],\n       [2.84138834e-03],\n       [9.99942660e-01],\n       [9.95927870e-01],\n       [1.98047892e-05],\n       [3.99748385e-02],\n       [3.44826549e-05],\n       [9.25329387e-01],\n       [9.99953270e-01],\n       [9.99082804e-01],\n       [9.75992441e-01],\n       [3.34218057e-04],\n       [4.21014667e-01],\n       [1.79922965e-04],\n       [4.70710605e-01],\n       [7.86807330e-04],\n       [1.30010524e-03],\n       [4.25028890e-01],\n       [9.86700878e-04],\n       [1.04678249e-04],\n       [9.99877095e-01],\n       [5.93417208e-05],\n       [9.30954993e-05],\n       [1.66304745e-02],\n       [9.99951243e-01],\n       [9.99639273e-01],\n       [4.03316179e-03],\n       [9.99950051e-01],\n       [9.99977469e-01],\n       [9.96581376e-01],\n       [1.66741386e-02],\n       [9.96908247e-01],\n       [5.80473896e-03],\n       [7.28740066e-04],\n       [1.52975708e-01],\n       [9.99951959e-01],\n       [9.41912236e-04],\n       [9.96904790e-01],\n       [9.98235703e-01],\n       [2.61844159e-03],\n       [9.99922156e-01],\n       [6.92524901e-03],\n       [1.63298380e-02],\n       [5.88479743e-04],\n       [2.92506926e-02],\n       [9.99972820e-01],\n       [8.03390503e-05],\n       [6.60898295e-05],\n       [1.77253125e-04],\n       [6.13176890e-05],\n       [1.03751758e-04],\n       [6.57136727e-04],\n       [9.99933124e-01],\n       [9.99962330e-01],\n       [2.79327833e-05],\n       [9.99194920e-01],\n       [4.42203454e-05],\n       [9.99970675e-01],\n       [5.21579981e-01],\n       [9.98426199e-01],\n       [9.99892831e-01],\n       [9.99812782e-01],\n       [9.98346210e-01],\n       [9.99969602e-01],\n       [8.85152258e-04],\n       [2.00737741e-05],\n       [9.99225616e-01],\n       [9.99746263e-01],\n       [4.40183878e-02],\n       [9.98599946e-01],\n       [9.99894142e-01],\n       [4.69083461e-05],\n       [9.99618888e-01],\n       [9.97865736e-01],\n       [7.36371076e-05],\n       [1.72277614e-02],\n       [2.07745587e-04],\n       [7.15604037e-05],\n       [1.75768226e-01],\n       [3.30018401e-01],\n       [9.99720395e-01],\n       [2.43836991e-03],\n       [7.01214085e-05],\n       [9.99978304e-01],\n       [2.49308760e-05],\n       [2.64587034e-05],\n       [9.26421821e-01],\n       [1.19338057e-03],\n       [7.82196003e-04],\n       [9.99901175e-01],\n       [2.51075799e-05],\n       [2.46053562e-04],\n       [9.99763191e-01],\n       [1.89257771e-04],\n       [9.99978304e-01],\n       [9.99977589e-01],\n       [9.99975801e-01],\n       [9.99945402e-01],\n       [1.29513573e-04],\n       [9.99958992e-01],\n       [5.21935150e-02],\n       [1.76293519e-03],\n       [1.04967927e-04],\n       [9.99983191e-01],\n       [9.94115710e-01],\n       [2.39988640e-01],\n       [9.99808848e-01],\n       [2.12365761e-01],\n       [6.94147660e-04],\n       [3.94563576e-05],\n       [1.77038037e-05],\n       [5.28044952e-03],\n       [9.99893308e-01],\n       [3.42341256e-04],\n       [1.58020027e-03],\n       [9.60576290e-04],\n       [6.28152993e-05],\n       [1.32940229e-04],\n       [9.99910474e-01],\n       [9.99722302e-01],\n       [1.80068333e-03],\n       [9.99940634e-01],\n       [5.14903113e-05],\n       [9.99889374e-01],\n       [5.01706731e-04],\n       [4.23522759e-03],\n       [9.98759866e-01],\n       [1.46161914e-02],\n       [3.10440737e-05],\n       [9.99966383e-01],\n       [6.33263309e-03],\n       [9.99961019e-01],\n       [8.82791698e-01],\n       [9.99937296e-01],\n       [9.99776423e-01],\n       [9.99555647e-01],\n       [4.56673843e-05],\n       [9.99976635e-01],\n       [4.45966871e-04],\n       [4.88367863e-03],\n       [8.32946098e-04],\n       [8.43639910e-01],\n       [9.99946713e-01],\n       [1.03058381e-04],\n       [9.85271811e-01],\n       [9.99377549e-01],\n       [9.99960065e-01],\n       [9.99954581e-01],\n       [2.84684047e-05],\n       [1.29316875e-04],\n       [9.99986768e-01],\n       [2.55581999e-05],\n       [2.82513120e-05],\n       [5.01830364e-03],\n       [9.99567568e-01],\n       [7.02970938e-05],\n       [3.34758195e-04],\n       [4.21254736e-05],\n       [8.23004084e-05],\n       [5.43157767e-05],\n       [4.28864674e-04],\n       [9.99733031e-01],\n       [2.00293638e-04],\n       [4.29244479e-03],\n       [9.99942422e-01],\n       [9.99909997e-01],\n       [3.98909813e-03],\n       [8.45352188e-05],\n       [9.99981284e-01],\n       [9.99903917e-01],\n       [9.98924434e-01],\n       [9.96037066e-01],\n       [9.99129951e-01],\n       [5.53131476e-02],\n       [9.99961853e-01],\n       [3.45509579e-05],\n       [4.13260743e-04],\n       [2.20526144e-05],\n       [2.01078601e-05],\n       [9.99882698e-01],\n       [9.98121798e-01],\n       [9.97228682e-01],\n       [4.71552402e-01],\n       [1.74526528e-01],\n       [3.56047036e-04],\n       [1.13970821e-03],\n       [3.47649562e-04],\n       [9.99972105e-01],\n       [2.66631484e-01],\n       [9.32212162e-04],\n       [9.99981284e-01],\n       [9.99476016e-01],\n       [9.86186504e-01],\n       [6.27291010e-05],\n       [1.34924951e-04],\n       [9.99797165e-01],\n       [3.94364059e-01],\n       [1.87442526e-01],\n       [6.67593151e-04],\n       [6.80295005e-02],\n       [4.74512897e-04],\n       [2.03447154e-04],\n       [1.91544692e-04],\n       [9.99279320e-01],\n       [4.22081532e-04],\n       [9.99981403e-01],\n       [9.99887347e-01],\n       [1.91572821e-04],\n       [2.89461714e-05],\n       [9.99862313e-01],\n       [5.62054920e-05],\n       [1.13247405e-03],\n       [1.01949602e-01],\n       [5.98048900e-05],\n       [9.99718487e-01],\n       [1.44967289e-05],\n       [2.41664209e-04],\n       [9.99943018e-01],\n       [1.92519441e-01],\n       [9.99927640e-01],\n       [9.99982238e-01],\n       [4.49865274e-02],\n       [4.92653817e-05],\n       [6.64802064e-05],\n       [4.57170572e-05],\n       [1.33837675e-05],\n       [9.99945998e-01],\n       [9.99942183e-01],\n       [3.32532218e-03],\n       [9.99878168e-01],\n       [1.14952993e-04],\n       [6.96003088e-04],\n       [4.68928738e-05],\n       [1.62118900e-04],\n       [9.06994101e-05],\n       [9.99939919e-01],\n       [3.74514377e-04],\n       [2.19208960e-05],\n       [9.99944448e-01],\n       [5.46045849e-05],\n       [1.91607716e-04],\n       [9.99868631e-01],\n       [5.47581039e-05],\n       [3.71179078e-03],\n       [2.40874433e-05],\n       [9.99940157e-01],\n       [9.15311038e-01],\n       [6.23334229e-01],\n       [3.43623981e-02],\n       [9.99811828e-01],\n       [3.16780090e-04],\n       [9.99609768e-01],\n       [8.98868293e-02],\n       [9.98908520e-01],\n       [9.89662647e-01],\n       [9.98791516e-01],\n       [2.66021700e-04],\n       [1.39278098e-04],\n       [1.29051432e-01],\n       [7.50485284e-04],\n       [1.82898645e-03],\n       [3.62631370e-04],\n       [3.52884387e-03],\n       [1.85519948e-05],\n       [5.61232737e-05],\n       [4.67768833e-02],\n       [9.99934912e-01],\n       [1.39823678e-04],\n       [5.77243650e-03],\n       [4.33368841e-03],\n       [1.73607692e-01],\n       [1.70861986e-02],\n       [9.94985312e-05],\n       [3.44652326e-05],\n       [9.99914527e-01],\n       [1.40308961e-01],\n       [3.72332096e-01],\n       [9.99979019e-01],\n       [3.83965926e-05],\n       [9.83722985e-01],\n       [1.04847416e-01],\n       [3.64206702e-04],\n       [1.65578455e-01],\n       [4.90393650e-05],\n       [4.01924876e-03],\n       [9.99780595e-01],\n       [2.63620610e-03],\n       [9.99966860e-01],\n       [2.87927240e-01],\n       [3.81551035e-05],\n       [9.99970913e-01],\n       [1.51663815e-04],\n       [9.99962926e-01],\n       [3.42084153e-04],\n       [3.03418550e-04],\n       [9.99943495e-01],\n       [5.29872887e-05],\n       [5.84164663e-05],\n       [9.99739826e-01],\n       [2.92663171e-05],\n       [1.52603097e-04],\n       [7.54603803e-01],\n       [9.93569493e-01],\n       [5.41063564e-05],\n       [2.18744692e-03],\n       [9.99961495e-01],\n       [9.99929190e-01],\n       [9.98676717e-01],\n       [8.79070628e-03],\n       [9.99425888e-01],\n       [9.99563873e-01],\n       [7.42347620e-04],\n       [1.12872913e-04],\n       [9.68253519e-03],\n       [1.90824661e-02],\n       [3.14400859e-05],\n       [1.40318349e-02],\n       [6.12781791e-04],\n       [2.99305702e-05],\n       [9.99958038e-01],\n       [9.99975801e-01],\n       [9.99963641e-01],\n       [3.57837096e-04],\n       [2.91670859e-01],\n       [2.67582573e-03],\n       [3.00087128e-03],\n       [9.99330282e-01],\n       [3.54324132e-01],\n       [4.30408036e-05],\n       [1.68351820e-04],\n       [8.65861366e-05],\n       [9.99652028e-01],\n       [4.70239938e-05],\n       [6.79371296e-05],\n       [3.32703348e-05],\n       [2.14885280e-04],\n       [1.39834791e-01],\n       [9.99317765e-01],\n       [2.54931916e-02],\n       [4.84387674e-05],\n       [1.08510314e-03],\n       [7.06684441e-05],\n       [9.99970794e-01],\n       [9.99862194e-01],\n       [9.98710990e-01],\n       [9.99331236e-01],\n       [2.19142930e-05],\n       [9.98674870e-01],\n       [9.99971867e-01],\n       [9.86530960e-01],\n       [4.10482660e-03],\n       [9.99649405e-01],\n       [5.52827632e-03],\n       [9.99910235e-01],\n       [7.09022760e-01],\n       [7.86760531e-04],\n       [1.92986637e-01],\n       [3.48854112e-04],\n       [9.99959111e-01],\n       [1.97067242e-02],\n       [1.53906385e-05],\n       [6.53645766e-05],\n       [3.54324132e-01],\n       [9.99982357e-01],\n       [2.34681811e-05],\n       [1.78090736e-01],\n       [9.99951839e-01],\n       [3.07787086e-05],\n       [9.99978304e-01],\n       [7.30037209e-05],\n       [1.54671012e-04],\n       [5.04707641e-05],\n       [9.99831676e-01],\n       [9.99778092e-01],\n       [1.03197133e-04],\n       [5.49118377e-05],\n       [9.99443233e-01],\n       [9.99947309e-01],\n       [5.24692297e-01],\n       [1.39611846e-04],\n       [4.87378129e-04],\n       [9.38270032e-01],\n       [2.30264210e-04],\n       [9.99973774e-01],\n       [7.14414194e-02],\n       [9.99976397e-01],\n       [9.99938369e-01],\n       [8.98030878e-04],\n       [1.61013693e-01],\n       [6.18054182e-05],\n       [9.99912977e-01],\n       [9.33670461e-01],\n       [1.16664404e-02],\n       [1.38710835e-03],\n       [1.84460985e-03],\n       [3.32419440e-04],\n       [2.75164493e-05],\n       [2.88802199e-03],\n       [1.70802511e-03],\n       [9.91452336e-01],\n       [1.21771707e-03],\n       [9.99975324e-01],\n       [9.99947190e-01],\n       [6.87681168e-05],\n       [5.89466095e-01],\n       [7.97289656e-04],\n       [6.56278426e-05],\n       [4.79142368e-01],\n       [9.99439657e-01],\n       [3.34383134e-04],\n       [2.75127380e-03],\n       [2.52418558e-05],\n       [6.96352101e-04],\n       [3.15094221e-05],\n       [9.99924302e-01],\n       [9.99952197e-01],\n       [9.99970436e-01],\n       [9.91171062e-01],\n       [9.98579502e-01],\n       [8.54976650e-04],\n       [3.01181990e-05],\n       [9.73537982e-01],\n       [9.99761522e-01],\n       [9.99978185e-01],\n       [5.38803724e-05],\n       [9.75848234e-04],\n       [1.39799813e-04],\n       [9.99978423e-01],\n       [9.99968052e-01],\n       [6.32099036e-05],\n       [2.10635655e-04],\n       [9.99961495e-01],\n       [1.12992339e-03],\n       [3.54160462e-03],\n       [9.99950528e-01],\n       [2.08648795e-04],\n       [1.16357340e-04],\n       [9.99304891e-01],\n       [3.81326646e-01],\n       [9.32280660e-01],\n       [9.99960423e-01],\n       [1.08621665e-04],\n       [9.71280024e-05],\n       [3.15233665e-05],\n       [4.04606217e-05],\n       [6.21722720e-05],\n       [9.99951959e-01],\n       [5.94050762e-05],\n       [4.84300524e-01],\n       [9.99496102e-01],\n       [2.02673697e-03],\n       [6.15988066e-03],\n       [2.51464480e-05],\n       [1.91399726e-04],\n       [9.99976039e-01],\n       [9.99957442e-01],\n       [9.03751585e-04],\n       [5.79605148e-05],\n       [1.41985453e-04],\n       [3.51846917e-04],\n       [9.99837995e-01],\n       [4.14561946e-05],\n       [9.99808967e-01],\n       [9.99400377e-01],\n       [9.52935159e-01],\n       [9.99089837e-01],\n       [1.20861670e-02],\n       [6.46928849e-04],\n       [5.75292564e-04],\n       [1.72214825e-02],\n       [7.09084570e-01],\n       [9.87643719e-01],\n       [7.95979202e-02],\n       [1.32608009e-04],\n       [3.01423952e-05],\n       [5.04622818e-04],\n       [5.18947141e-03],\n       [3.44220847e-01],\n       [2.22816408e-01],\n       [9.99967694e-01],\n       [9.99911070e-01],\n       [5.21579981e-01],\n       [9.99831796e-01],\n       [9.57276765e-03],\n       [1.89202750e-04],\n       [9.99790251e-01],\n       [1.77056005e-04],\n       [9.42253158e-04],\n       [3.46894711e-01],\n       [9.99672890e-01],\n       [2.03746458e-05],\n       [8.45962584e-01],\n       [9.97803867e-01],\n       [9.99714434e-01],\n       [9.99883413e-01],\n       [1.52984518e-04],\n       [3.84042715e-03],\n       [9.95679736e-01],\n       [3.79854137e-05],\n       [2.83123692e-03],\n       [2.33616624e-02],\n       [9.99392152e-01],\n       [9.75062966e-01],\n       [1.09620894e-04],\n       [8.45100803e-05],\n       [9.98523533e-01],\n       [1.44344216e-04],\n       [4.16164286e-04],\n       [6.58334320e-05],\n       [3.09850395e-01],\n       [9.99980807e-01],\n       [9.99738514e-01],\n       [1.53491145e-03],\n       [9.99951482e-01],\n       [9.99960065e-01],\n       [3.12140837e-05],\n       [9.99960423e-01],\n       [2.34356150e-03],\n       [9.98995483e-01],\n       [3.98620367e-02],\n       [8.16784333e-04],\n       [1.43525249e-04],\n       [4.70976847e-05],\n       [2.53506587e-04],\n       [7.39067546e-05],\n       [1.30795717e-01],\n       [8.59634238e-05],\n       [9.99969482e-01],\n       [7.70130602e-04],\n       [9.96409357e-01],\n       [9.82776642e-01],\n       [8.28968186e-05],\n       [6.14504534e-05],\n       [9.99973297e-01],\n       [3.09081777e-04],\n       [9.99894261e-01],\n       [3.43195111e-01],\n       [6.77808595e-04],\n       [4.89144363e-02],\n       [4.48584498e-04],\n       [2.73430231e-03],\n       [9.99960065e-01],\n       [2.43257218e-05],\n       [6.52832896e-05],\n       [9.86963627e-04],\n       [9.99976754e-01],\n       [2.46339943e-03],\n       [9.04180706e-05],\n       [9.99400020e-01],\n       [5.10500868e-05],\n       [7.78420072e-05],\n       [4.69459774e-04],\n       [1.43254930e-02],\n       [2.63659051e-04],\n       [3.60120773e-01],\n       [3.24321073e-03],\n       [1.79258839e-03],\n       [4.77516332e-05],\n       [9.84324981e-03],\n       [2.69060547e-05],\n       [9.99714077e-01],\n       [9.99842882e-01],\n       [4.55331383e-03],\n       [3.34066972e-05],\n       [2.13792722e-04],\n       [9.99960423e-01],\n       [8.58382642e-01],\n       [9.99927759e-01],\n       [7.36324699e-04],\n       [9.99767363e-01],\n       [4.41307406e-04],\n       [9.99625802e-01],\n       [9.50604975e-01],\n       [3.74382762e-05],\n       [9.99951243e-01],\n       [1.97128020e-03],\n       [9.99686956e-01],\n       [9.99969244e-01],\n       [1.69046433e-03],\n       [3.87078835e-05],\n       [4.81699944e-01],\n       [3.97432850e-05],\n       [4.35579509e-01],\n       [9.99981284e-01],\n       [3.91019106e-01],\n       [9.99630094e-01],\n       [6.01209002e-03],\n       [9.99910474e-01],\n       [9.99011755e-01],\n       [4.43625590e-03],\n       [3.04001533e-05],\n       [9.97373343e-01],\n       [3.61128550e-05],\n       [2.68313527e-01],\n       [9.99924421e-01],\n       [9.99806941e-01],\n       [9.99976635e-01],\n       [9.99846578e-01],\n       [7.16138855e-02],\n       [9.98764277e-01],\n       [8.83264147e-05],\n       [9.90893602e-01],\n       [9.88952219e-01],\n       [9.99864817e-01],\n       [6.91365349e-05],\n       [9.99600947e-01],\n       [9.99913216e-01],\n       [7.13238085e-04],\n       [8.08350102e-04],\n       [7.95979202e-02],\n       [2.53347098e-04],\n       [9.98766184e-01],\n       [9.92984176e-01],\n       [9.99975204e-01],\n       [6.13060140e-04],\n       [2.93246230e-05],\n       [3.39388753e-05],\n       [1.79546669e-01],\n       [2.59720720e-04],\n       [5.66047765e-02],\n       [9.98584509e-01],\n       [1.94394506e-05],\n       [6.04501665e-01],\n       [3.05218826e-04],\n       [1.59509783e-03],\n       [9.99886870e-01],\n       [2.59069813e-04],\n       [9.98390913e-01],\n       [1.29081879e-03],\n       [1.77561342e-05],\n       [2.14496962e-04],\n       [9.99977589e-01],\n       [9.98803616e-01],\n       [3.75734380e-05],\n       [4.29694122e-03],\n       [9.91704226e-01],\n       [3.00357369e-05],\n       [9.99925733e-01],\n       [7.34412461e-05],\n       [9.95307744e-01],\n       [5.95633499e-03],\n       [5.43204878e-05],\n       [2.47622430e-01],\n       [1.79674730e-01],\n       [7.66492507e-04],\n       [9.99803126e-01],\n       [3.83215509e-02],\n       [1.24913812e-01],\n       [9.99918818e-01],\n       [4.16252643e-01],\n       [1.21348299e-01],\n       [2.03746458e-05],\n       [3.98480833e-01],\n       [1.72800414e-04],\n       [9.99978304e-01],\n       [3.48662026e-03],\n       [1.15069456e-03],\n       [9.99950528e-01],\n       [3.25803131e-01],\n       [9.99787629e-01],\n       [3.25803131e-01],\n       [9.99967575e-01],\n       [2.62098565e-05],\n       [2.69395387e-04],\n       [3.57846075e-05],\n       [9.99980092e-01],\n       [2.58385000e-04],\n       [3.52505653e-04],\n       [4.99179077e-05],\n       [6.07772708e-05],\n       [4.76589194e-05],\n       [6.58310528e-05],\n       [2.18026992e-03],\n       [1.32570334e-04],\n       [6.69342757e-04],\n       [9.99908924e-01],\n       [4.14526265e-04],\n       [9.39462683e-04],\n       [9.90612461e-05],\n       [2.17347369e-05],\n       [6.19618129e-03],\n       [9.99476492e-01],\n       [2.09097692e-04],\n       [2.92639807e-03],\n       [7.56943016e-04],\n       [9.98968601e-01],\n       [9.99946594e-01],\n       [3.82146791e-05],\n       [6.84048573e-05],\n       [5.09107049e-05],\n       [1.55684047e-05],\n       [9.99910831e-01],\n       [2.17347369e-05],\n       [2.92663602e-03],\n       [9.97982264e-01],\n       [9.99958754e-01],\n       [9.99965429e-01],\n       [9.99959469e-01],\n       [9.99956131e-01],\n       [6.61576705e-05],\n       [3.51672352e-05],\n       [3.82113340e-03],\n       [9.98716831e-01],\n       [9.99975801e-01],\n       [9.48501170e-01],\n       [1.73505585e-04],\n       [9.99547899e-01],\n       [5.33399522e-01],\n       [2.34380768e-05],\n       [3.00317843e-05],\n       [6.14930410e-04],\n       [1.00672466e-03],\n       [2.69684770e-05],\n       [7.41595228e-04],\n       [7.55779386e-01],\n       [9.99963880e-01],\n       [9.29158050e-05],\n       [9.99953508e-01],\n       [9.97283340e-01],\n       [3.15981056e-03],\n       [9.55112046e-04],\n       [2.71963712e-04],\n       [5.33883274e-01],\n       [3.74182081e-03],\n       [2.16289336e-05]], dtype=float32)"
     },
     "execution_count": 70,
     "metadata": {},
     "output_type": "execute_result"
    }
   ],
   "source": [
    "# Make predictions with our bidirectional model\n",
    "model_4_pred_probs = model_4.predict(x=val_sentences)\n",
    "model_4_pred_probs"
   ],
   "metadata": {
    "collapsed": false,
    "ExecuteTime": {
     "end_time": "2024-04-26T10:04:18.186890830Z",
     "start_time": "2024-04-26T10:04:17.515000964Z"
    }
   },
   "id": "39e97d1c4b8c0b06",
   "execution_count": 70
  },
  {
   "cell_type": "code",
   "outputs": [
    {
     "data": {
      "text/plain": "<tf.Tensor: shape=(10,), dtype=float32, numpy=array([0., 1., 1., 0., 0., 1., 1., 1., 1., 1.], dtype=float32)>"
     },
     "execution_count": 71,
     "metadata": {},
     "output_type": "execute_result"
    }
   ],
   "source": [
    "# Convert pred probs to labels\n",
    "model_4_preds = tf.squeeze(tf.round(model_4_pred_probs))\n",
    "model_4_preds[:10]"
   ],
   "metadata": {
    "collapsed": false,
    "ExecuteTime": {
     "end_time": "2024-04-26T10:04:18.197700771Z",
     "start_time": "2024-04-26T10:04:18.134197923Z"
    }
   },
   "id": "ec83f2a5f6952c78",
   "execution_count": 71
  },
  {
   "cell_type": "code",
   "outputs": [
    {
     "data": {
      "text/plain": "{'accuracy': 77.16535433070865,\n 'precision': 0.7741380916586217,\n 'recall': 0.7716535433070866,\n 'f1': 0.7691811868378113}"
     },
     "execution_count": 72,
     "metadata": {},
     "output_type": "execute_result"
    }
   ],
   "source": [
    "# Calculate the results of our bidirectional model\n",
    "model_4_results = evaluate_classification_metrics(y_true=val_labels,\n",
    "                                                  y_pred=model_4_preds)\n",
    "model_4_results"
   ],
   "metadata": {
    "collapsed": false,
    "ExecuteTime": {
     "end_time": "2024-04-26T10:04:18.207500744Z",
     "start_time": "2024-04-26T10:04:18.141605535Z"
    }
   },
   "id": "4d2e48cf0492d4b0",
   "execution_count": 72
  },
  {
   "cell_type": "code",
   "outputs": [
    {
     "data": {
      "text/plain": "array([False, False, False, False])"
     },
     "execution_count": 73,
     "metadata": {},
     "output_type": "execute_result"
    }
   ],
   "source": [
    "np.array(list(model_4_results.values())) > np.array(list(baseline_results.values()))"
   ],
   "metadata": {
    "collapsed": false,
    "ExecuteTime": {
     "end_time": "2024-04-26T10:04:18.207956890Z",
     "start_time": "2024-04-26T10:04:18.147456990Z"
    }
   },
   "id": "86caa97227f5a78a",
   "execution_count": 73
  },
  {
   "cell_type": "markdown",
   "source": [
    "Nous n'avons donc pas de meilleurs résultats avec model_4 comparé à model_0"
   ],
   "metadata": {
    "collapsed": false
   },
   "id": "d39e51769b1c94b3"
  },
  {
   "cell_type": "code",
   "outputs": [
    {
     "data": {
      "text/plain": "array([False, False, False, False])"
     },
     "execution_count": 74,
     "metadata": {},
     "output_type": "execute_result"
    }
   ],
   "source": [
    "np.array(list(model_4_results.values())) > np.array(list(model_3_results.values()))"
   ],
   "metadata": {
    "collapsed": false,
    "ExecuteTime": {
     "end_time": "2024-04-26T10:04:18.219620614Z",
     "start_time": "2024-04-26T10:04:18.156373971Z"
    }
   },
   "id": "5510697e3717666c",
   "execution_count": 74
  },
  {
   "cell_type": "markdown",
   "source": [
    "Et même moins bien que l'unidirectionnel"
   ],
   "metadata": {
    "collapsed": false
   },
   "id": "988424aac23bad5e"
  },
  {
   "cell_type": "markdown",
   "source": [
    "Video N°241: Discussing the intuition behind Conv1D neural networks for text and sequences"
   ],
   "metadata": {
    "collapsed": false
   },
   "id": "94450f2522203d0c"
  },
  {
   "cell_type": "markdown",
   "source": [
    "## Convolutional Neural Networks for text (and other types of sequences)\n",
    "\n",
    "We've used CNN's for images but images are typically 2D (height x width)... however, our text data is 1D.\n",
    "\n",
    "Previously we've Conv2D for our image data but now we're going to use Conv1D.\n",
    "\n",
    "The typical structure of a Conv1D model for sequences (in our case, text):\n",
    "\n",
    "```\n",
    "Inputs (text) -> Tokenization -> Embedding -> Layer(s) (typically Conv1D + pooling) -> Outputs (class probabilities)\n",
    "```"
   ],
   "metadata": {
    "collapsed": false
   },
   "id": "268ce84bb05d04c7"
  },
  {
   "cell_type": "markdown",
   "source": [
    "### Model 5: Conv1D\n",
    "\n",
    "For different explanations of parameters see:\n",
    "* https://poloclub.github.io/cnn-explainer/ (this is for 2D but can relate to 1D data)\n",
    "* Difference between \"same\" and \"valid\" padding: \n",
    "https://stackoverflow.com/questions/37674306/what-is-the-difference-between-same-and-valid-padding-in-tf-nn-max-pool-of-t\n",
    "\n",
    "    \"VALID\" = without padding:\n",
    "\n",
    "       inputs:         1  2  3  4  5  6  7  8  9  10 11 (12 13)\n",
    "                      |________________|                dropped\n",
    "                                     |_________________|\n",
    "\n",
    "    \"SAME\" = with zero padding:\n",
    "\n",
    "                   pad|                                      |pad\n",
    "       inputs:      0 |1  2  3  4  5  6  7  8  9  10 11 12 13|0  0\n",
    "                   |________________|\n",
    "                                  |_________________|\n",
    "                                                 |________________|\n",
    "\n",
    "In this example:\n",
    "\n",
    "    Input width = 13\n",
    "    Filter width = 6\n",
    "    Stride = 5\n",
    "\n",
    "Notes:\n",
    "\n",
    "    \"VALID\" only ever drops the right-most columns (or bottom-most rows).\n",
    "    \"SAME\" tries to pad evenly left and right, but if the amount of columns to be added is odd, it will add the extra column to the right, as is the case in this example (the same logic applies vertically: there may be an extra row of zeros at the bottom).\n",
    "\n",
    "Edit:\n",
    "\n",
    "About the name:\n",
    "\n",
    "    With \"SAME\" padding, if you use a stride of 1, the layer's outputs will have the same spatial dimensions as its inputs.\n",
    "    With \"VALID\" padding, there's no \"made-up\" padding inputs. The layer only uses valid input data.\n"
   ],
   "metadata": {
    "collapsed": false
   },
   "id": "a6f1081d4ee5b915"
  },
  {
   "cell_type": "code",
   "outputs": [
    {
     "data": {
      "text/plain": "(TensorShape([1, 15, 128]), TensorShape([1, 15, 32]), TensorShape([1, 32]))"
     },
     "execution_count": 75,
     "metadata": {},
     "output_type": "execute_result"
    }
   ],
   "source": [
    "# Test out our embedding layer, Conv1D layer and max pooling\n",
    "embedding_test = embedding(text_vectorizer([\"this is a test sentence\"])) # turn target sequence into embedding \n",
    "conv_1d = layers.Conv1D(filters=32,\n",
    "                        kernel_size=5, # this is also referred to as an ngram of 5 (meaning it looks at 5 words at a time)\n",
    "                        strides=1, # default\n",
    "                        activation=\"relu\",\n",
    "                        padding=\"same\") # default = 'valid', the output is smaller than the input shape, 'same' means output is same shape as input\n",
    "conv_1d_output = conv_1d(embedding_test) # pass test embedding through conv1d layer\n",
    "max_pool = layers.GlobalMaxPool1D()\n",
    "max_pool_output = max_pool(conv_1d_output) # equivalent to \"get the most important feature\" or \"get the feature with the highest value\"\n",
    "embedding_test.shape, conv_1d_output.shape, max_pool_output.shape"
   ],
   "metadata": {
    "collapsed": false,
    "ExecuteTime": {
     "end_time": "2024-04-26T10:04:18.654753190Z",
     "start_time": "2024-04-26T10:04:18.164938923Z"
    }
   },
   "id": "7c57175e36515a90",
   "execution_count": 75
  },
  {
   "cell_type": "code",
   "outputs": [
    {
     "data": {
      "text/plain": "<tf.Tensor: shape=(1, 15, 128), dtype=float32, numpy=\narray([[[-0.04570354, -0.00869273, -0.02861574, ...,  0.02163722,\n         -0.02563227, -0.02270111],\n        [-0.00309232,  0.0177151 ,  0.03353585, ...,  0.00463525,\n          0.01992956,  0.02701294],\n        [-0.05344785, -0.06103592, -0.00085171, ..., -0.05631393,\n         -0.02102445, -0.01649631],\n        ...,\n        [-0.00958463, -0.01181003, -0.02606721, ..., -0.0359796 ,\n         -0.04120681,  0.0043028 ],\n        [-0.00958463, -0.01181003, -0.02606721, ..., -0.0359796 ,\n         -0.04120681,  0.0043028 ],\n        [-0.00958463, -0.01181003, -0.02606721, ..., -0.0359796 ,\n         -0.04120681,  0.0043028 ]]], dtype=float32)>"
     },
     "execution_count": 76,
     "metadata": {},
     "output_type": "execute_result"
    }
   ],
   "source": [
    "embedding_test"
   ],
   "metadata": {
    "collapsed": false,
    "ExecuteTime": {
     "end_time": "2024-04-26T10:04:18.663146810Z",
     "start_time": "2024-04-26T10:04:18.642982134Z"
    }
   },
   "id": "b0ca17d37fc45e2d",
   "execution_count": 76
  },
  {
   "cell_type": "code",
   "outputs": [
    {
     "data": {
      "text/plain": "<tf.Tensor: shape=(1, 15, 32), dtype=float32, numpy=\narray([[[0.05387969, 0.0516783 , 0.04726673, 0.03816786, 0.        ,\n         0.        , 0.04774302, 0.02815962, 0.        , 0.        ,\n         0.        , 0.02932187, 0.        , 0.0203962 , 0.04313956,\n         0.01688748, 0.009301  , 0.        , 0.        , 0.        ,\n         0.0034993 , 0.        , 0.0605546 , 0.        , 0.01031689,\n         0.00852167, 0.        , 0.03018137, 0.        , 0.0445616 ,\n         0.        , 0.01803041],\n        [0.        , 0.        , 0.02614683, 0.        , 0.        ,\n         0.0279519 , 0.03192424, 0.        , 0.02874375, 0.03538559,\n         0.00124985, 0.02016617, 0.        , 0.03323073, 0.        ,\n         0.        , 0.02298411, 0.02971178, 0.07530764, 0.01494023,\n         0.        , 0.        , 0.0107155 , 0.        , 0.01547737,\n         0.        , 0.        , 0.01699599, 0.        , 0.08412334,\n         0.        , 0.02191723],\n        [0.        , 0.        , 0.07772033, 0.        , 0.        ,\n         0.08155822, 0.01393619, 0.        , 0.        , 0.0202652 ,\n         0.0113781 , 0.06429335, 0.        , 0.0077885 , 0.        ,\n         0.        , 0.04892004, 0.01770187, 0.00296304, 0.08063727,\n         0.00532144, 0.        , 0.09573942, 0.        , 0.0646664 ,\n         0.        , 0.        , 0.02514059, 0.        , 0.02434963,\n         0.        , 0.        ],\n        [0.        , 0.05423424, 0.        , 0.        , 0.        ,\n         0.03619502, 0.        , 0.06794797, 0.07752734, 0.02668945,\n         0.        , 0.        , 0.        , 0.03623125, 0.        ,\n         0.01010486, 0.        , 0.01204403, 0.05470859, 0.05082471,\n         0.        , 0.03291697, 0.03618196, 0.01764555, 0.        ,\n         0.        , 0.        , 0.        , 0.01553345, 0.        ,\n         0.0196848 , 0.        ],\n        [0.        , 0.        , 0.00699626, 0.02656318, 0.        ,\n         0.03057201, 0.00234447, 0.        , 0.00309614, 0.0450995 ,\n         0.        , 0.        , 0.        , 0.03223977, 0.        ,\n         0.        , 0.        , 0.01419329, 0.03690759, 0.00610577,\n         0.0009469 , 0.01499005, 0.        , 0.        , 0.        ,\n         0.02676195, 0.        , 0.        , 0.01353252, 0.        ,\n         0.        , 0.        ],\n        [0.        , 0.        , 0.        , 0.        , 0.        ,\n         0.01232394, 0.00769686, 0.        , 0.        , 0.05042065,\n         0.01129546, 0.02655987, 0.        , 0.        , 0.        ,\n         0.        , 0.        , 0.02592783, 0.        , 0.        ,\n         0.01010844, 0.        , 0.02041735, 0.        , 0.        ,\n         0.        , 0.        , 0.        , 0.05604574, 0.        ,\n         0.        , 0.00851371],\n        [0.        , 0.03763565, 0.00223802, 0.00121811, 0.00656815,\n         0.        , 0.        , 0.        , 0.01498655, 0.        ,\n         0.        , 0.        , 0.        , 0.        , 0.        ,\n         0.        , 0.        , 0.00108847, 0.        , 0.00578714,\n         0.        , 0.00925781, 0.0107319 , 0.        , 0.        ,\n         0.        , 0.        , 0.        , 0.01409654, 0.        ,\n         0.        , 0.00449322],\n        [0.        , 0.02555976, 0.        , 0.02476034, 0.01237252,\n         0.        , 0.01114093, 0.        , 0.        , 0.01043648,\n         0.        , 0.        , 0.        , 0.        , 0.        ,\n         0.        , 0.        , 0.02057089, 0.        , 0.00400596,\n         0.00881931, 0.01312826, 0.        , 0.        , 0.        ,\n         0.        , 0.        , 0.        , 0.00409171, 0.        ,\n         0.        , 0.00807446],\n        [0.        , 0.02555976, 0.        , 0.02476034, 0.01237252,\n         0.        , 0.01114093, 0.        , 0.        , 0.01043648,\n         0.        , 0.        , 0.        , 0.        , 0.        ,\n         0.        , 0.        , 0.02057089, 0.        , 0.00400596,\n         0.00881931, 0.01312826, 0.        , 0.        , 0.        ,\n         0.        , 0.        , 0.        , 0.00409171, 0.        ,\n         0.        , 0.00807446],\n        [0.        , 0.02555976, 0.        , 0.02476034, 0.01237252,\n         0.        , 0.01114093, 0.        , 0.        , 0.01043648,\n         0.        , 0.        , 0.        , 0.        , 0.        ,\n         0.        , 0.        , 0.02057089, 0.        , 0.00400596,\n         0.00881931, 0.01312826, 0.        , 0.        , 0.        ,\n         0.        , 0.        , 0.        , 0.00409171, 0.        ,\n         0.        , 0.00807446],\n        [0.        , 0.02555976, 0.        , 0.02476034, 0.01237252,\n         0.        , 0.01114093, 0.        , 0.        , 0.01043648,\n         0.        , 0.        , 0.        , 0.        , 0.        ,\n         0.        , 0.        , 0.02057089, 0.        , 0.00400596,\n         0.00881931, 0.01312826, 0.        , 0.        , 0.        ,\n         0.        , 0.        , 0.        , 0.00409171, 0.        ,\n         0.        , 0.00807446],\n        [0.        , 0.02555976, 0.        , 0.02476034, 0.01237252,\n         0.        , 0.01114093, 0.        , 0.        , 0.01043648,\n         0.        , 0.        , 0.        , 0.        , 0.        ,\n         0.        , 0.        , 0.02057089, 0.        , 0.00400596,\n         0.00881931, 0.01312826, 0.        , 0.        , 0.        ,\n         0.        , 0.        , 0.        , 0.00409171, 0.        ,\n         0.        , 0.00807446],\n        [0.        , 0.02555976, 0.        , 0.02476034, 0.01237252,\n         0.        , 0.01114093, 0.        , 0.        , 0.01043648,\n         0.        , 0.        , 0.        , 0.        , 0.        ,\n         0.        , 0.        , 0.02057089, 0.        , 0.00400596,\n         0.00881931, 0.01312826, 0.        , 0.        , 0.        ,\n         0.        , 0.        , 0.        , 0.00409171, 0.        ,\n         0.        , 0.00807446],\n        [0.        , 0.01423389, 0.        , 0.02089463, 0.02197187,\n         0.        , 0.00875197, 0.        , 0.        , 0.02098581,\n         0.        , 0.00112979, 0.        , 0.        , 0.        ,\n         0.        , 0.        , 0.03333205, 0.        , 0.02561738,\n         0.        , 0.00396149, 0.        , 0.        , 0.        ,\n         0.        , 0.        , 0.        , 0.02643324, 0.        ,\n         0.        , 0.00116532],\n        [0.00746917, 0.01083636, 0.        , 0.02440168, 0.02242459,\n         0.        , 0.        , 0.        , 0.        , 0.01514104,\n         0.        , 0.        , 0.        , 0.        , 0.        ,\n         0.        , 0.        , 0.01949971, 0.        , 0.03164138,\n         0.        , 0.01255712, 0.00787527, 0.        , 0.        ,\n         0.        , 0.        , 0.        , 0.01703125, 0.        ,\n         0.        , 0.00201103]]], dtype=float32)>"
     },
     "execution_count": 77,
     "metadata": {},
     "output_type": "execute_result"
    }
   ],
   "source": [
    "conv_1d_output"
   ],
   "metadata": {
    "collapsed": false,
    "ExecuteTime": {
     "end_time": "2024-04-26T10:04:18.708888821Z",
     "start_time": "2024-04-26T10:04:18.653167272Z"
    }
   },
   "id": "6c49941c7eb60ea6",
   "execution_count": 77
  },
  {
   "cell_type": "code",
   "outputs": [
    {
     "data": {
      "text/plain": "<tf.Tensor: shape=(1, 32), dtype=float32, numpy=\narray([[0.05387969, 0.05423424, 0.07772033, 0.03816786, 0.02242459,\n        0.08155822, 0.04774302, 0.06794797, 0.07752734, 0.05042065,\n        0.0113781 , 0.06429335, 0.        , 0.03623125, 0.04313956,\n        0.01688748, 0.04892004, 0.03333205, 0.07530764, 0.08063727,\n        0.01010844, 0.03291697, 0.09573942, 0.01764555, 0.0646664 ,\n        0.02676195, 0.        , 0.03018137, 0.05604574, 0.08412334,\n        0.0196848 , 0.02191723]], dtype=float32)>"
     },
     "execution_count": 78,
     "metadata": {},
     "output_type": "execute_result"
    }
   ],
   "source": [
    "max_pool_output"
   ],
   "metadata": {
    "collapsed": false,
    "ExecuteTime": {
     "end_time": "2024-04-26T10:04:18.719839842Z",
     "start_time": "2024-04-26T10:04:18.658318456Z"
    }
   },
   "id": "a222d63961f1d6a9",
   "execution_count": 78
  },
  {
   "cell_type": "markdown",
   "source": [
    "Video N°242: Model 5: Building, fitting and evaluating a 1D CNN for text"
   ],
   "metadata": {
    "collapsed": false
   },
   "id": "bc7301f00bb4c595"
  },
  {
   "cell_type": "code",
   "outputs": [
    {
     "name": "stdout",
     "output_type": "stream",
     "text": [
      "Model: \"model_5_Conv1D\"\n",
      "_________________________________________________________________\n",
      " Layer (type)                Output Shape              Param #   \n",
      "=================================================================\n",
      " input_5 (InputLayer)        [(None, 1)]               0         \n",
      "                                                                 \n",
      " text_vectorization_1 (Text  (None, 15)                0         \n",
      " Vectorization)                                                  \n",
      "                                                                 \n",
      " embedding (Embedding)       (None, 15, 128)           1280000   \n",
      "                                                                 \n",
      " conv1d_1 (Conv1D)           (None, 11, 64)            41024     \n",
      "                                                                 \n",
      " global_max_pooling1d_1 (Gl  (None, 64)                0         \n",
      " obalMaxPooling1D)                                               \n",
      "                                                                 \n",
      " dense_4 (Dense)             (None, 1)                 65        \n",
      "                                                                 \n",
      "=================================================================\n",
      "Total params: 1321089 (5.04 MB)\n",
      "Trainable params: 1321089 (5.04 MB)\n",
      "Non-trainable params: 0 (0.00 Byte)\n",
      "_________________________________________________________________\n"
     ]
    }
   ],
   "source": [
    "# Create 1-dimensional convolutional layer to model sequences\n",
    "inputs = layers.Input(shape=(1,), dtype=tf.string)\n",
    "x = text_vectorizer(inputs)\n",
    "x = embedding(x)\n",
    "x = layers.Conv1D(filters=64,\n",
    "                  kernel_size=5,\n",
    "                  strides=1,\n",
    "                  activation=\"relu\",\n",
    "                  padding=\"valid\")(x)\n",
    "x = layers.GlobalMaxPool1D()(x)\n",
    "# x = layers.Dense(units=64, activation='relu')(x)\n",
    "outputs = layers.Dense(units=1, activation='sigmoid')(x)\n",
    "model_5 = tf.keras.Model(inputs, outputs, name=\"model_5_Conv1D\")\n",
    "\n",
    "# Compile Conv1D\n",
    "model_5.compile(loss=\"binary_crossentropy\",\n",
    "                optimizer=tf.keras.optimizers.Adam(),\n",
    "                metrics=['accuracy'])\n",
    "\n",
    "# Get a summary of our Conv1D model\n",
    "model_5.summary()"
   ],
   "metadata": {
    "collapsed": false,
    "ExecuteTime": {
     "end_time": "2024-04-26T10:04:18.870268058Z",
     "start_time": "2024-04-26T10:04:18.667328915Z"
    }
   },
   "id": "a3f1248ac7ccab22",
   "execution_count": 79
  },
  {
   "cell_type": "code",
   "outputs": [
    {
     "name": "stdout",
     "output_type": "stream",
     "text": [
      "Saving TensorBoard log files to: model_logs/Conv1D/20240426-120418\n",
      "Epoch 1/5\n",
      "215/215 [==============================] - 9s 35ms/step - loss: 0.1228 - accuracy: 0.9597 - val_loss: 0.9204 - val_accuracy: 0.7756\n",
      "Epoch 2/5\n",
      "215/215 [==============================] - 2s 11ms/step - loss: 0.0744 - accuracy: 0.9721 - val_loss: 1.1438 - val_accuracy: 0.7585\n",
      "Epoch 3/5\n",
      "215/215 [==============================] - 2s 8ms/step - loss: 0.0627 - accuracy: 0.9747 - val_loss: 1.1700 - val_accuracy: 0.7520\n",
      "Epoch 4/5\n",
      "215/215 [==============================] - 1s 6ms/step - loss: 0.0558 - accuracy: 0.9766 - val_loss: 1.2160 - val_accuracy: 0.7533\n",
      "Epoch 5/5\n",
      "215/215 [==============================] - 1s 6ms/step - loss: 0.0513 - accuracy: 0.9778 - val_loss: 1.2842 - val_accuracy: 0.7612\n"
     ]
    }
   ],
   "source": [
    "# Fit the model\n",
    "model_5_history = model_5.fit(x=train_sentences,\n",
    "                              y=train_labels,\n",
    "                              epochs=5,\n",
    "                              validation_data=(val_sentences, val_labels),\n",
    "                              callbacks=[create_tensorboard_callback(dir_name=SAVE_DIR,\n",
    "                                                                     experiment_name=\"Conv1D\")])"
   ],
   "metadata": {
    "collapsed": false,
    "ExecuteTime": {
     "end_time": "2024-04-26T10:04:34.280202585Z",
     "start_time": "2024-04-26T10:04:18.758582165Z"
    }
   },
   "id": "84bb3ce79ae15b44",
   "execution_count": 80
  },
  {
   "cell_type": "code",
   "outputs": [
    {
     "name": "stdout",
     "output_type": "stream",
     "text": [
      "24/24 [==============================] - 0s 2ms/step\n"
     ]
    },
    {
     "data": {
      "text/plain": "array([[2.0913078e-02],\n       [8.9808482e-01],\n       [9.9981016e-01],\n       [7.8126900e-02],\n       [3.0668562e-07],\n       [9.9648285e-01],\n       [8.6458319e-01],\n       [9.9997294e-01],\n       [9.9999905e-01],\n       [9.2240685e-01]], dtype=float32)"
     },
     "execution_count": 81,
     "metadata": {},
     "output_type": "execute_result"
    }
   ],
   "source": [
    "# Make some predictions with our Conv1D model\n",
    "model_5_pred_probs = model_5.predict(x=val_sentences)\n",
    "model_5_pred_probs[:10]"
   ],
   "metadata": {
    "collapsed": false,
    "ExecuteTime": {
     "end_time": "2024-04-26T10:04:34.437043385Z",
     "start_time": "2024-04-26T10:04:34.278254812Z"
    }
   },
   "id": "8219cd1d5aa4a8ec",
   "execution_count": 81
  },
  {
   "cell_type": "code",
   "outputs": [
    {
     "data": {
      "text/plain": "<tf.Tensor: shape=(10,), dtype=float32, numpy=array([0., 1., 1., 0., 0., 1., 1., 1., 1., 1.], dtype=float32)>"
     },
     "execution_count": 82,
     "metadata": {},
     "output_type": "execute_result"
    }
   ],
   "source": [
    "# Convert model 5 pred probs to labels\n",
    "model_5_preds = tf.squeeze(tf.round(model_5_pred_probs))\n",
    "model_5_preds[:10]"
   ],
   "metadata": {
    "collapsed": false,
    "ExecuteTime": {
     "end_time": "2024-04-26T10:04:34.562523772Z",
     "start_time": "2024-04-26T10:04:34.433221164Z"
    }
   },
   "id": "2d18cf9aec6c001c",
   "execution_count": 82
  },
  {
   "cell_type": "code",
   "outputs": [
    {
     "data": {
      "text/plain": "{'accuracy': 76.11548556430446,\n 'precision': 0.7618883943071393,\n 'recall': 0.7611548556430446,\n 'f1': 0.7593763358258424}"
     },
     "execution_count": 83,
     "metadata": {},
     "output_type": "execute_result"
    }
   ],
   "source": [
    "# Calculate results for model 5\n",
    "model_5_results = evaluate_classification_metrics(y_true=val_labels,\n",
    "                                                  y_pred=model_5_preds)\n",
    "model_5_results"
   ],
   "metadata": {
    "collapsed": false,
    "ExecuteTime": {
     "end_time": "2024-04-26T10:04:34.567964244Z",
     "start_time": "2024-04-26T10:04:34.478488874Z"
    }
   },
   "id": "805232ccbc661616",
   "execution_count": 83
  },
  {
   "cell_type": "code",
   "outputs": [
    {
     "data": {
      "text/plain": "array([False, False, False, False])"
     },
     "execution_count": 84,
     "metadata": {},
     "output_type": "execute_result"
    }
   ],
   "source": [
    "np.array(list(model_5_results.values())) > np.array(list(baseline_results.values()))"
   ],
   "metadata": {
    "collapsed": false,
    "ExecuteTime": {
     "end_time": "2024-04-26T10:04:34.652138421Z",
     "start_time": "2024-04-26T10:04:34.478912977Z"
    }
   },
   "id": "b28c19a9a14396b1",
   "execution_count": 84
  },
  {
   "cell_type": "markdown",
   "source": [
    "Nous n'avons donc pas de meilleurs résultats avec model_5 comparé à model_0"
   ],
   "metadata": {
    "collapsed": false
   },
   "id": "26682814ccd8f51f"
  },
  {
   "cell_type": "markdown",
   "source": [
    "Video N°243: Using TensorFlow Hub for pretrained word embeddings (transfer learning for NLP)"
   ],
   "metadata": {
    "collapsed": false
   },
   "id": "aef5d05a0928b530"
  },
  {
   "cell_type": "markdown",
   "source": [
    "## Model 6: TensorFlow Hub Pretrained Sentence Encoder\n",
    "\n",
    "Now we've built a few of our own model's, let's try and use transfer learning for NLP, specifically using TensorFlow Hub's Universal Sentence Encoder:\n",
    "- [https://tfhub.dev/google/universal-sentence-encoder/4](https://tfhub.dev/google/universal-sentence-encoder/4)\n",
    "- [https://www.kaggle.com/models/google/universal-sentence-encoder](https://www.kaggle.com/models/google/universal-sentence-encoder)\n",
    "\n",
    "See how the USE was created here: [https://arxiv.org/abs/1803.11175](https://arxiv.org/abs/1803.11175)"
   ],
   "metadata": {
    "collapsed": false
   },
   "id": "40afec6222ae4ff8"
  },
  {
   "cell_type": "code",
   "outputs": [
    {
     "name": "stdout",
     "output_type": "stream",
     "text": [
      "tf.Tensor(\n",
      "[-0.01157027  0.0248591   0.02878048 -0.012715    0.03971538  0.0882776\n",
      "  0.02680985  0.05589838 -0.01068729 -0.00597292  0.00639323 -0.0181952\n",
      "  0.00030814  0.09105888  0.05874645 -0.03180628  0.01512474 -0.05162929\n",
      "  0.00991367 -0.06865346 -0.04209305  0.0267898   0.03011008  0.00321069\n",
      " -0.00337971 -0.04787356  0.02266719 -0.00985925 -0.04063613 -0.01292093\n",
      " -0.04666384  0.056303   -0.03949255  0.00517688  0.02495828 -0.07014441\n",
      "  0.02871508  0.04947684 -0.00633978 -0.08960193  0.02807117 -0.00808362\n",
      " -0.01360601  0.0599865  -0.10361787 -0.05195374  0.00232955 -0.0233253\n",
      " -0.03758105  0.03327729], shape=(50,), dtype=float32)\n"
     ]
    }
   ],
   "source": [
    "import tensorflow_hub as hub\n",
    "embed = hub.load(\"https://tfhub.dev/google/universal-sentence-encoder/4\")\n",
    "embed_samples = embed([sample_sentence, \"When you can the universal sentence encoder on a sentence, it turns it into numbers.\"])\n",
    "print(embed_samples[0][:50])"
   ],
   "metadata": {
    "collapsed": false,
    "ExecuteTime": {
     "end_time": "2024-04-26T10:05:47.184662241Z",
     "start_time": "2024-04-26T10:04:34.479287887Z"
    }
   },
   "id": "5492bf86ffc739ec",
   "execution_count": 85
  },
  {
   "cell_type": "code",
   "outputs": [
    {
     "data": {
      "text/plain": "TensorShape([512])"
     },
     "execution_count": 86,
     "metadata": {},
     "output_type": "execute_result"
    }
   ],
   "source": [
    "embed_samples[0].shape"
   ],
   "metadata": {
    "collapsed": false,
    "ExecuteTime": {
     "end_time": "2024-04-26T10:05:47.203992744Z",
     "start_time": "2024-04-26T10:05:47.158483798Z"
    }
   },
   "id": "352c616b96794c2b",
   "execution_count": 86
  },
  {
   "cell_type": "markdown",
   "source": [
    "Video N°244: Model 6: Building, training and evaluating a transfer learning model for NLP"
   ],
   "metadata": {
    "collapsed": false
   },
   "id": "abe905fe8ae129a0"
  },
  {
   "cell_type": "code",
   "outputs": [],
   "source": [
    "# Create a Keras Layer using the USE pretrained layer from tensorflow hub\n",
    "sentence_encoder_layer = hub.KerasLayer(\"https://tfhub.dev/google/universal-sentence-encoder/4\",\n",
    "                                        input_shape=[],\n",
    "                                        dtype=tf.string,\n",
    "                                        trainable=False,\n",
    "                                        name=\"USE\")"
   ],
   "metadata": {
    "collapsed": false,
    "ExecuteTime": {
     "end_time": "2024-04-26T10:05:50.728431116Z",
     "start_time": "2024-04-26T10:05:47.158863924Z"
    }
   },
   "id": "89e4cc03ae15549d",
   "execution_count": 87
  },
  {
   "cell_type": "code",
   "outputs": [
    {
     "name": "stdout",
     "output_type": "stream",
     "text": [
      "Model: \"model_6_USE\"\n",
      "_________________________________________________________________\n",
      " Layer (type)                Output Shape              Param #   \n",
      "=================================================================\n",
      " USE (KerasLayer)            (None, 512)               256797824 \n",
      "                                                                 \n",
      " dense_5 (Dense)             (None, 64)                32832     \n",
      "                                                                 \n",
      " output_layer (Dense)        (None, 1)                 65        \n",
      "                                                                 \n",
      "=================================================================\n",
      "Total params: 256830721 (979.73 MB)\n",
      "Trainable params: 32897 (128.50 KB)\n",
      "Non-trainable params: 256797824 (979.61 MB)\n",
      "_________________________________________________________________\n"
     ]
    }
   ],
   "source": [
    "# Create model using the Sequential API\n",
    "model_6 = tf.keras.Sequential([\n",
    "    sentence_encoder_layer,\n",
    "    layers.Dense(units=64, activation='relu'),\n",
    "    layers.Dense(units=1, activation='sigmoid', name='output_layer')\n",
    "], name=\"model_6_USE\")\n",
    "\n",
    "# Compile\n",
    "model_6.compile(loss=\"binary_crossentropy\",\n",
    "                optimizer=tf.keras.optimizers.Adam(),\n",
    "                metrics=['accuracy'])\n",
    "model_6.summary()"
   ],
   "metadata": {
    "collapsed": false,
    "ExecuteTime": {
     "end_time": "2024-04-26T10:05:51.234509102Z",
     "start_time": "2024-04-26T10:05:50.733107931Z"
    }
   },
   "id": "e4a2d40bd6774ed1",
   "execution_count": 88
  },
  {
   "cell_type": "code",
   "outputs": [
    {
     "name": "stdout",
     "output_type": "stream",
     "text": [
      "Saving TensorBoard log files to: model_logs/tf_hub_sentence_encoder/20240426-120551\n",
      "Epoch 1/5\n",
      "215/215 [==============================] - 5s 15ms/step - loss: 0.5039 - accuracy: 0.7882 - val_loss: 0.4586 - val_accuracy: 0.7953\n",
      "Epoch 2/5\n",
      "215/215 [==============================] - 3s 14ms/step - loss: 0.4154 - accuracy: 0.8156 - val_loss: 0.4422 - val_accuracy: 0.8045\n",
      "Epoch 3/5\n",
      "215/215 [==============================] - 3s 14ms/step - loss: 0.4022 - accuracy: 0.8189 - val_loss: 0.4442 - val_accuracy: 0.8084\n",
      "Epoch 4/5\n",
      "215/215 [==============================] - 3s 13ms/step - loss: 0.3938 - accuracy: 0.8215 - val_loss: 0.4395 - val_accuracy: 0.8071\n",
      "Epoch 5/5\n",
      "215/215 [==============================] - 3s 13ms/step - loss: 0.3871 - accuracy: 0.8307 - val_loss: 0.4299 - val_accuracy: 0.8110\n"
     ]
    }
   ],
   "source": [
    "# Train a classifier on top of USE pretrained embeddings\n",
    "model_6_history = model_6.fit(x=train_sentences,\n",
    "                              y=train_labels,\n",
    "                              epochs=5,\n",
    "                              validation_data=(val_sentences,val_labels),\n",
    "                              callbacks=[create_tensorboard_callback(dir_name=SAVE_DIR,\n",
    "                                                                     experiment_name=\"tf_hub_sentence_encoder\")])"
   ],
   "metadata": {
    "collapsed": false,
    "ExecuteTime": {
     "end_time": "2024-04-26T10:06:08.233597437Z",
     "start_time": "2024-04-26T10:05:51.194570530Z"
    }
   },
   "id": "789ca8fbf142d192",
   "execution_count": 89
  },
  {
   "cell_type": "code",
   "outputs": [
    {
     "name": "stdout",
     "output_type": "stream",
     "text": [
      "24/24 [==============================] - 1s 9ms/step\n"
     ]
    },
    {
     "data": {
      "text/plain": "array([[0.22077943],\n       [0.82412356],\n       [0.9881435 ],\n       [0.20356844],\n       [0.80163777],\n       [0.75716734],\n       [0.9810457 ],\n       [0.97982556],\n       [0.9424449 ],\n       [0.1127803 ]], dtype=float32)"
     },
     "execution_count": 90,
     "metadata": {},
     "output_type": "execute_result"
    }
   ],
   "source": [
    "# Make predictions with USE TF Hub model\n",
    "model_6_pred_probs = model_6.predict(x=val_sentences)\n",
    "model_6_pred_probs[:10]"
   ],
   "metadata": {
    "collapsed": false,
    "ExecuteTime": {
     "end_time": "2024-04-26T10:06:08.815586033Z",
     "start_time": "2024-04-26T10:06:08.224171510Z"
    }
   },
   "id": "3d4e1c2017c24105",
   "execution_count": 90
  },
  {
   "cell_type": "code",
   "outputs": [
    {
     "data": {
      "text/plain": "<tf.Tensor: shape=(762,), dtype=float32, numpy=\narray([0., 1., 1., 0., 1., 1., 1., 1., 1., 0., 1., 0., 0., 1., 0., 0., 0.,\n       1., 0., 0., 1., 0., 0., 0., 1., 1., 0., 0., 0., 0., 1., 1., 0., 0.,\n       1., 0., 1., 0., 0., 1., 0., 0., 0., 1., 0., 1., 0., 1., 1., 1., 0.,\n       1., 0., 0., 0., 0., 0., 1., 0., 0., 0., 1., 1., 0., 1., 1., 1., 0.,\n       0., 1., 0., 0., 1., 0., 0., 1., 0., 0., 0., 1., 1., 0., 1., 0., 1.,\n       1., 0., 0., 1., 1., 1., 0., 0., 0., 1., 1., 1., 1., 1., 1., 1., 0.,\n       0., 1., 1., 0., 1., 1., 0., 1., 0., 0., 0., 0., 0., 0., 0., 1., 1.,\n       1., 1., 0., 1., 1., 1., 0., 0., 0., 0., 0., 0., 1., 1., 1., 1., 0.,\n       1., 0., 0., 0., 1., 0., 1., 0., 1., 0., 0., 0., 0., 1., 0., 0., 1.,\n       0., 0., 1., 1., 0., 1., 0., 1., 0., 0., 1., 0., 0., 1., 0., 1., 0.,\n       1., 0., 1., 0., 1., 0., 1., 0., 1., 1., 0., 1., 0., 1., 1., 0., 0.,\n       1., 0., 0., 0., 1., 0., 0., 0., 0., 0., 0., 0., 0., 0., 1., 1., 0.,\n       0., 1., 0., 1., 1., 1., 0., 1., 0., 0., 0., 0., 1., 1., 1., 0., 0.,\n       0., 0., 0., 1., 0., 0., 1., 1., 0., 1., 0., 1., 0., 0., 1., 0., 1.,\n       1., 0., 1., 0., 1., 1., 0., 0., 1., 0., 0., 1., 0., 1., 0., 1., 1.,\n       0., 1., 1., 0., 0., 1., 0., 0., 1., 1., 1., 1., 0., 0., 0., 0., 0.,\n       1., 0., 0., 1., 0., 0., 1., 1., 0., 0., 1., 0., 0., 1., 1., 0., 1.,\n       0., 1., 1., 0., 1., 0., 1., 0., 1., 0., 1., 0., 0., 0., 1., 0., 0.,\n       0., 1., 0., 0., 0., 1., 1., 0., 1., 0., 1., 1., 0., 0., 0., 0., 1.,\n       0., 1., 0., 0., 1., 0., 1., 1., 0., 1., 0., 0., 1., 0., 0., 1., 1.,\n       0., 0., 1., 1., 1., 0., 0., 0., 0., 0., 0., 0., 0., 0., 1., 0., 1.,\n       1., 1., 1., 0., 0., 1., 1., 0., 0., 0., 0., 0., 0., 1., 0., 0., 0.,\n       0., 0., 0., 0., 0., 0., 1., 1., 0., 0., 1., 1., 0., 0., 1., 0., 0.,\n       0., 0., 1., 1., 1., 0., 1., 0., 0., 1., 0., 1., 1., 0., 1., 0., 1.,\n       0., 0., 1., 0., 0., 1., 1., 1., 0., 1., 0., 0., 1., 1., 1., 1., 0.,\n       1., 0., 1., 0., 1., 0., 0., 0., 1., 0., 0., 0., 0., 1., 1., 1., 1.,\n       0., 0., 0., 1., 0., 0., 0., 0., 0., 1., 1., 1., 1., 1., 0., 0., 0.,\n       1., 1., 0., 0., 0., 1., 1., 0., 0., 1., 0., 0., 1., 1., 0., 1., 1.,\n       1., 1., 0., 0., 0., 0., 0., 1., 0., 1., 0., 0., 0., 1., 0., 1., 0.,\n       0., 0., 0., 1., 1., 0., 1., 1., 0., 0., 1., 0., 1., 0., 1., 0., 0.,\n       0., 0., 0., 1., 1., 0., 1., 1., 1., 1., 0., 0., 1., 1., 0., 0., 0.,\n       0., 0., 1., 1., 1., 0., 0., 1., 0., 0., 0., 0., 0., 0., 0., 0., 0.,\n       0., 0., 0., 1., 1., 1., 1., 1., 0., 1., 0., 1., 0., 0., 0., 0., 0.,\n       0., 1., 1., 1., 0., 1., 1., 0., 0., 1., 1., 1., 0., 0., 1., 0., 1.,\n       1., 0., 0., 0., 1., 0., 0., 1., 0., 0., 1., 0., 0., 0., 1., 0., 0.,\n       1., 0., 1., 1., 0., 0., 0., 1., 1., 1., 0., 0., 0., 0., 1., 0., 1.,\n       0., 0., 1., 0., 0., 0., 0., 1., 1., 0., 1., 0., 1., 0., 0., 0., 1.,\n       0., 1., 1., 1., 1., 1., 0., 1., 0., 1., 0., 1., 0., 1., 0., 0., 1.,\n       0., 0., 1., 1., 1., 0., 0., 0., 0., 0., 0., 1., 0., 0., 0., 0., 1.,\n       0., 0., 0., 0., 0., 1., 1., 0., 0., 0., 0., 1., 0., 1., 0., 0., 0.,\n       0., 0., 0., 1., 0., 1., 0., 0., 0., 0., 1., 1., 0., 0., 1., 1., 1.,\n       1., 1., 0., 0., 0., 1., 0., 0., 0., 0., 0., 0., 0., 0., 0., 1., 0.,\n       0., 0., 0., 0., 1., 0., 1., 0., 0., 1., 0., 0., 0., 0., 1., 0., 0.,\n       1., 1., 1., 1., 1., 0., 0., 0., 1., 1., 1., 0., 0., 0., 0., 0., 0.,\n       0., 0., 0., 0., 1., 0., 1., 1., 0., 0., 0., 1., 1., 0.],\n      dtype=float32)>"
     },
     "execution_count": 91,
     "metadata": {},
     "output_type": "execute_result"
    }
   ],
   "source": [
    "# Convert prediction probabilities to labels\n",
    "model_6_preds = tf.squeeze(tf.round(model_6_pred_probs))\n",
    "model_6_preds"
   ],
   "metadata": {
    "collapsed": false,
    "ExecuteTime": {
     "end_time": "2024-04-26T10:06:08.850601881Z",
     "start_time": "2024-04-26T10:06:08.803012667Z"
    }
   },
   "id": "7efebceca99430d1",
   "execution_count": 91
  },
  {
   "cell_type": "code",
   "outputs": [
    {
     "data": {
      "text/plain": "{'accuracy': 81.10236220472441,\n 'precision': 0.8118674741067483,\n 'recall': 0.8110236220472441,\n 'f1': 0.8099858139755507}"
     },
     "execution_count": 92,
     "metadata": {},
     "output_type": "execute_result"
    }
   ],
   "source": [
    "# Calculate model 6 performance metrics\n",
    "model_6_results = evaluate_classification_metrics(y_true=val_labels,\n",
    "                                                  y_pred=model_6_preds)\n",
    "model_6_results"
   ],
   "metadata": {
    "collapsed": false,
    "ExecuteTime": {
     "end_time": "2024-04-26T10:06:08.873001859Z",
     "start_time": "2024-04-26T10:06:08.812952274Z"
    }
   },
   "id": "5348bab035f4d6d2",
   "execution_count": 92
  },
  {
   "cell_type": "code",
   "outputs": [
    {
     "data": {
      "text/plain": "array([ True,  True,  True,  True])"
     },
     "execution_count": 93,
     "metadata": {},
     "output_type": "execute_result"
    }
   ],
   "source": [
    "np.array(list(model_6_results.values())) > np.array(list(baseline_results.values()))"
   ],
   "metadata": {
    "collapsed": false,
    "ExecuteTime": {
     "end_time": "2024-04-26T10:06:08.991532034Z",
     "start_time": "2024-04-26T10:06:08.820498878Z"
    }
   },
   "id": "71cc3167caaf3a0d",
   "execution_count": 93
  },
  {
   "cell_type": "code",
   "outputs": [
    {
     "data": {
      "text/plain": "{'accuracy': 79.26509186351706,\n 'precision': 0.8111390004213173,\n 'recall': 0.7926509186351706,\n 'f1': 0.7862189758049549}"
     },
     "execution_count": 94,
     "metadata": {},
     "output_type": "execute_result"
    }
   ],
   "source": [
    "baseline_results"
   ],
   "metadata": {
    "collapsed": false,
    "ExecuteTime": {
     "end_time": "2024-04-26T10:06:08.996910885Z",
     "start_time": "2024-04-26T10:06:08.825743858Z"
    }
   },
   "id": "a6e45fdfba5ac981",
   "execution_count": 94
  },
  {
   "cell_type": "markdown",
   "source": [
    "Video N°245: Preparing subsets of data for model 7 (same as model 6 but 10% of data)\n",
    "Modified during N°247"
   ],
   "metadata": {
    "collapsed": false
   },
   "id": "965b12bd6de4bf19"
  },
  {
   "cell_type": "markdown",
   "source": [
    "## Model 7: TF Hub Pretrained USE but with 10% of training data\n",
    "\n",
    "Transfer learning really helps when you don't have a large dataset.\n",
    "\n",
    "To see how our model performs on a smaller dataset, let's replicate `model_6` except we'll train it on 10% of the data"
   ],
   "metadata": {
    "collapsed": false
   },
   "id": "ca220bcf8b3e045a"
  },
  {
   "cell_type": "code",
   "outputs": [
    {
     "data": {
      "text/plain": "(761, 761)"
     },
     "execution_count": 95,
     "metadata": {},
     "output_type": "execute_result"
    }
   ],
   "source": [
    "# ## Noote: Making data splits like below leads to data leakage (model_7 trained on 10% data, outperforms model_6 trained on 100% data)\n",
    "# ## DO NOT make data splits which leak data from validation/test sets into training set\n",
    "\n",
    "# # Create subsets of 10% of the training data\n",
    "# train_10_percent = train_df_shuffled[[\"text\", \"target\"]].sample(frac=0.1, random_state=42)\n",
    "# train_sentences_10_percent = train_10_percent[\"text\"].to_list()\n",
    "# train_labels_10_percent = train_10_percent[\"target\"].to_list()\n",
    "# len(train_sentences_10_percent), len(train_labels_10_percent)"
   ],
   "metadata": {
    "collapsed": false,
    "ExecuteTime": {
     "end_time": "2024-04-26T10:06:09.059630917Z",
     "start_time": "2024-04-26T10:06:08.832209862Z"
    }
   },
   "id": "188bf1ea3bc96ee9",
   "execution_count": 95
  },
  {
   "cell_type": "markdown",
   "source": [
    "> 🔑 **Note:** Be *very* careful when creating training/val/test splits that you don't leak data across the datasets, otherwise your model evaluation metrics will be wrong. If something looks too good to be true (a model trained on 10% of data outperforming the same model trained on 100% of data) trust your gut and go back through to find where the error may lie."
   ],
   "metadata": {
    "collapsed": false
   },
   "id": "68740b1fab207ca6"
  },
  {
   "cell_type": "code",
   "outputs": [],
   "source": [
    "# Making a better dataset split (no data leakage)\n",
    "number_of_rows = int(0.1 * len(train_sentences))\n",
    "train_sentences_10_percent = train_sentences[:number_of_rows]\n",
    "train_labels_10_percent = train_labels[:number_of_rows]"
   ],
   "metadata": {
    "collapsed": false,
    "ExecuteTime": {
     "end_time": "2024-04-26T11:33:27.033944862Z",
     "start_time": "2024-04-26T11:33:26.945401476Z"
    }
   },
   "id": "2cd1fc84feea7654",
   "execution_count": 111
  },
  {
   "cell_type": "code",
   "outputs": [
    {
     "data": {
      "text/plain": "0    406\n1    279\nName: count, dtype: int64"
     },
     "execution_count": 112,
     "metadata": {},
     "output_type": "execute_result"
    }
   ],
   "source": [
    "# Check the number of each label in the updated training data subset\n",
    "pd.Series(np.array(train_labels_10_percent)).value_counts()"
   ],
   "metadata": {
    "collapsed": false,
    "ExecuteTime": {
     "end_time": "2024-04-26T11:33:27.729858813Z",
     "start_time": "2024-04-26T11:33:27.629104519Z"
    }
   },
   "id": "db94ace4ed9e444a",
   "execution_count": 112
  },
  {
   "cell_type": "code",
   "outputs": [
    {
     "data": {
      "text/plain": "7296"
     },
     "execution_count": 113,
     "metadata": {},
     "output_type": "execute_result"
    }
   ],
   "source": [
    "_# Check the number of targets in our subset of data\n",
    "# train_10_percent[\"target\"].value_counts()"
   ],
   "metadata": {
    "collapsed": false,
    "ExecuteTime": {
     "end_time": "2024-04-26T11:33:29.283506815Z",
     "start_time": "2024-04-26T11:33:29.179301995Z"
    }
   },
   "id": "4f172afd629f8c7c",
   "execution_count": 113
  },
  {
   "cell_type": "code",
   "outputs": [
    {
     "data": {
      "text/plain": "target\n0    4342\n1    3271\nName: count, dtype: int64"
     },
     "execution_count": 114,
     "metadata": {},
     "output_type": "execute_result"
    }
   ],
   "source": [
    "train_df_shuffled[\"target\"].value_counts()"
   ],
   "metadata": {
    "collapsed": false,
    "ExecuteTime": {
     "end_time": "2024-04-26T11:33:32.954336002Z",
     "start_time": "2024-04-26T11:33:32.883252280Z"
    }
   },
   "id": "69db795a71554881",
   "execution_count": 114
  },
  {
   "cell_type": "markdown",
   "source": [
    "Video N°246: Model 7: Building, training and evaluating a transfer learning model on 10% data"
   ],
   "metadata": {
    "collapsed": false
   },
   "id": "d8e4617d595e10aa"
  },
  {
   "cell_type": "markdown",
   "source": [
    "To recreate a model the same as a previous model you've created you can use the `tf.keras.models.clone_model()` method, see more here: [https://www.tensorflow.org/api_docs/python/tf/keras/models/clone_model](https://www.tensorflow.org/api_docs/python/tf/keras/models/clone_model)"
   ],
   "metadata": {
    "collapsed": false
   },
   "id": "9bad5a2cade1aac2"
  },
  {
   "cell_type": "code",
   "outputs": [
    {
     "name": "stdout",
     "output_type": "stream",
     "text": [
      "Model: \"model_7_USE\"\n",
      "_________________________________________________________________\n",
      " Layer (type)                Output Shape              Param #   \n",
      "=================================================================\n",
      " USE (KerasLayer)            (None, 512)               256797824 \n",
      "                                                                 \n",
      " dense_7 (Dense)             (None, 64)                32832     \n",
      "                                                                 \n",
      " output_layer (Dense)        (None, 1)                 65        \n",
      "                                                                 \n",
      "=================================================================\n",
      "Total params: 256830721 (979.73 MB)\n",
      "Trainable params: 32897 (128.50 KB)\n",
      "Non-trainable params: 256797824 (979.61 MB)\n",
      "_________________________________________________________________\n"
     ]
    }
   ],
   "source": [
    "# Let's build a model the same as model_6\n",
    "# model_7 = tf.keras.models.clone_model(model_6)\n",
    "# Problème: le nom du modèle reste \"model_6_USE, pour éviter des erreurs d'interprétations nous recréons model_7:\n",
    "model_7 = tf.keras.Sequential([\n",
    "    sentence_encoder_layer,\n",
    "    layers.Dense(units=64, activation='relu'),\n",
    "    layers.Dense(units=1, activation='sigmoid', name='output_layer')\n",
    "], name=\"model_7_USE\")\n",
    "# Compile model\n",
    "model_7.compile(loss=\"binary_crossentropy\",\n",
    "                optimizer=tf.keras.optimizers.Adam(),\n",
    "                metrics=[\"accuracy\"])\n",
    "\n",
    "# Get a summary\n",
    "model_7.summary()"
   ],
   "metadata": {
    "collapsed": false,
    "ExecuteTime": {
     "end_time": "2024-04-26T11:33:36.306546163Z",
     "start_time": "2024-04-26T11:33:36.099703242Z"
    }
   },
   "id": "f0002dd3b736b6fb",
   "execution_count": 115
  },
  {
   "cell_type": "code",
   "outputs": [
    {
     "name": "stdout",
     "output_type": "stream",
     "text": [
      "Saving TensorBoard log files to: model_logs/tf_hub_sentence_encoder_10_percent_correct_split/20240426-133401\n",
      "Epoch 1/5\n",
      "22/22 [==============================] - 2s 43ms/step - loss: 0.6730 - accuracy: 0.6628 - val_loss: 0.6507 - val_accuracy: 0.7100\n",
      "Epoch 2/5\n",
      "22/22 [==============================] - 0s 21ms/step - loss: 0.6057 - accuracy: 0.8044 - val_loss: 0.5980 - val_accuracy: 0.7546\n",
      "Epoch 3/5\n",
      "22/22 [==============================] - 0s 23ms/step - loss: 0.5341 - accuracy: 0.8190 - val_loss: 0.5442 - val_accuracy: 0.7625\n",
      "Epoch 4/5\n",
      "22/22 [==============================] - 0s 22ms/step - loss: 0.4736 - accuracy: 0.8263 - val_loss: 0.5081 - val_accuracy: 0.7848\n",
      "Epoch 5/5\n",
      "22/22 [==============================] - 0s 22ms/step - loss: 0.4289 - accuracy: 0.8350 - val_loss: 0.4924 - val_accuracy: 0.7861\n"
     ]
    }
   ],
   "source": [
    "# Fit the model to the 10% training data subsets\n",
    "model_7_history = model_7.fit(x=train_sentences_10_percent,\n",
    "                              y=train_labels_10_percent,\n",
    "                              epochs=5,\n",
    "                              validation_data=(val_sentences, val_labels),\n",
    "                              callbacks=[create_tensorboard_callback(dir_name=SAVE_DIR,\n",
    "                                                                     experiment_name=\"tf_hub_sentence_encoder_10_percent_correct_split\")])"
   ],
   "metadata": {
    "collapsed": false,
    "ExecuteTime": {
     "end_time": "2024-04-26T11:34:05.406383563Z",
     "start_time": "2024-04-26T11:34:01.426383596Z"
    }
   },
   "id": "ad38b13c02b93208",
   "execution_count": 116
  },
  {
   "cell_type": "code",
   "outputs": [
    {
     "name": "stdout",
     "output_type": "stream",
     "text": [
      "24/24 [==============================] - 0s 8ms/step\n"
     ]
    },
    {
     "data": {
      "text/plain": "array([[0.2280759 ],\n       [0.56966096],\n       [0.89314824],\n       [0.3671889 ],\n       [0.53349465],\n       [0.6716129 ],\n       [0.8713287 ],\n       [0.79482704],\n       [0.8286645 ],\n       [0.17486477]], dtype=float32)"
     },
     "execution_count": 117,
     "metadata": {},
     "output_type": "execute_result"
    }
   ],
   "source": [
    "# Make predictions with the model trained on 10% of the data\n",
    "model_7_pred_probs = model_7.predict(x=val_sentences)\n",
    "model_7_pred_probs[:10]"
   ],
   "metadata": {
    "collapsed": false,
    "ExecuteTime": {
     "end_time": "2024-04-26T11:34:05.952501727Z",
     "start_time": "2024-04-26T11:34:05.398397728Z"
    }
   },
   "id": "69dc696cf1b9a7e6",
   "execution_count": 117
  },
  {
   "cell_type": "code",
   "outputs": [
    {
     "data": {
      "text/plain": "<tf.Tensor: shape=(762,), dtype=float32, numpy=\narray([0., 1., 1., 0., 1., 1., 1., 1., 1., 0., 0., 0., 0., 0., 0., 0., 0.,\n       1., 1., 0., 1., 0., 0., 0., 0., 1., 0., 0., 0., 0., 1., 1., 0., 0.,\n       0., 0., 1., 0., 0., 1., 0., 0., 1., 0., 0., 1., 0., 1., 0., 1., 0.,\n       1., 0., 0., 0., 0., 0., 1., 0., 0., 0., 1., 1., 0., 1., 1., 0., 0.,\n       0., 0., 0., 0., 1., 0., 0., 1., 0., 0., 0., 1., 1., 1., 1., 0., 0.,\n       1., 0., 0., 1., 1., 1., 0., 0., 0., 1., 1., 1., 1., 1., 1., 1., 0.,\n       0., 1., 1., 0., 1., 0., 0., 1., 1., 0., 0., 0., 0., 1., 0., 1., 1.,\n       1., 1., 0., 0., 1., 1., 0., 0., 0., 0., 1., 0., 1., 1., 1., 1., 0.,\n       1., 0., 0., 0., 1., 0., 0., 1., 1., 0., 0., 0., 0., 1., 0., 0., 1.,\n       0., 0., 1., 1., 0., 1., 0., 1., 0., 0., 1., 0., 0., 1., 1., 1., 0.,\n       1., 1., 1., 0., 1., 0., 1., 0., 0., 1., 0., 1., 1., 1., 1., 0., 0.,\n       1., 0., 0., 0., 1., 0., 0., 0., 0., 0., 0., 0., 0., 0., 1., 1., 0.,\n       0., 1., 0., 1., 1., 1., 0., 1., 0., 0., 0., 0., 1., 1., 1., 0., 0.,\n       0., 0., 0., 1., 0., 0., 1., 0., 0., 1., 0., 1., 0., 1., 0., 0., 0.,\n       1., 0., 0., 0., 1., 1., 0., 1., 1., 0., 0., 1., 0., 1., 0., 0., 1.,\n       0., 1., 1., 0., 0., 1., 0., 0., 1., 1., 1., 1., 0., 0., 0., 0., 0.,\n       1., 0., 0., 1., 1., 0., 1., 1., 0., 0., 1., 0., 0., 1., 1., 0., 0.,\n       0., 1., 0., 0., 1., 0., 1., 0., 1., 0., 1., 1., 0., 0., 1., 0., 0.,\n       0., 1., 0., 0., 0., 1., 0., 0., 1., 0., 1., 1., 0., 0., 0., 0., 1.,\n       0., 1., 0., 0., 1., 0., 1., 1., 0., 1., 0., 0., 1., 0., 0., 0., 0.,\n       0., 0., 1., 1., 1., 0., 0., 0., 0., 0., 0., 1., 0., 0., 0., 0., 1.,\n       1., 1., 0., 1., 0., 1., 1., 1., 0., 0., 0., 0., 0., 0., 0., 0., 0.,\n       0., 0., 0., 0., 0., 0., 1., 1., 0., 1., 0., 1., 0., 0., 1., 0., 0.,\n       0., 0., 1., 1., 1., 0., 1., 0., 1., 1., 0., 1., 1., 0., 1., 0., 1.,\n       0., 0., 1., 0., 0., 0., 1., 1., 0., 1., 0., 0., 1., 1., 1., 1., 0.,\n       1., 0., 1., 0., 1., 0., 0., 0., 1., 0., 0., 0., 1., 1., 1., 1., 1.,\n       0., 0., 0., 1., 0., 0., 0., 0., 0., 1., 1., 1., 1., 1., 0., 0., 1.,\n       1., 1., 0., 0., 0., 1., 1., 0., 0., 1., 0., 0., 1., 0., 0., 0., 1.,\n       1., 1., 0., 0., 0., 0., 0., 1., 0., 1., 0., 0., 0., 0., 1., 1., 0.,\n       0., 0., 0., 0., 1., 0., 1., 1., 0., 0., 1., 0., 1., 0., 1., 0., 0.,\n       0., 0., 0., 0., 1., 0., 1., 1., 1., 1., 0., 0., 1., 1., 0., 1., 0.,\n       0., 1., 1., 1., 1., 0., 0., 0., 0., 0., 0., 0., 0., 0., 1., 0., 0.,\n       0., 0., 1., 1., 1., 1., 1., 1., 0., 1., 0., 1., 0., 0., 1., 0., 0.,\n       1., 1., 1., 1., 0., 1., 0., 0., 0., 1., 1., 1., 0., 0., 0., 0., 1.,\n       0., 1., 0., 0., 1., 0., 0., 1., 0., 0., 1., 0., 0., 1., 0., 0., 0.,\n       1., 0., 1., 1., 0., 0., 0., 1., 1., 1., 0., 0., 0., 0., 1., 0., 1.,\n       0., 0., 1., 0., 0., 1., 0., 1., 1., 0., 1., 0., 1., 0., 1., 0., 1.,\n       0., 1., 1., 1., 1., 1., 0., 1., 0., 1., 0., 1., 0., 1., 0., 0., 0.,\n       0., 0., 0., 1., 1., 0., 0., 0., 0., 0., 0., 1., 0., 0., 0., 0., 1.,\n       0., 0., 0., 0., 0., 1., 0., 0., 0., 0., 0., 1., 0., 1., 1., 0., 0.,\n       0., 0., 0., 1., 0., 1., 0., 0., 0., 0., 1., 1., 0., 0., 1., 1., 1.,\n       1., 1., 1., 0., 0., 1., 0., 0., 0., 0., 0., 0., 0., 0., 0., 1., 0.,\n       0., 0., 0., 0., 1., 0., 1., 0., 0., 1., 0., 0., 0., 0., 1., 0., 0.,\n       1., 1., 1., 1., 1., 0., 0., 0., 1., 1., 0., 0., 0., 1., 0., 1., 0.,\n       0., 0., 0., 1., 1., 0., 1., 1., 0., 0., 0., 1., 1., 0.],\n      dtype=float32)>"
     },
     "execution_count": 118,
     "metadata": {},
     "output_type": "execute_result"
    }
   ],
   "source": [
    "# Turn pred probs into labels\n",
    "model_7_preds = tf.squeeze(tf.round(model_7_pred_probs))\n",
    "model_7_preds"
   ],
   "metadata": {
    "collapsed": false,
    "ExecuteTime": {
     "end_time": "2024-04-26T11:34:06.019255361Z",
     "start_time": "2024-04-26T11:34:05.934880594Z"
    }
   },
   "id": "ff5d5f5637807725",
   "execution_count": 118
  },
  {
   "cell_type": "code",
   "outputs": [
    {
     "data": {
      "text/plain": "{'accuracy': 78.60892388451444,\n 'precision': 0.7870194413148897,\n 'recall': 0.7860892388451444,\n 'f1': 0.7846591268156005}"
     },
     "execution_count": 119,
     "metadata": {},
     "output_type": "execute_result"
    }
   ],
   "source": [
    "# Evaluating model 7 predictions\n",
    "model_7_results = evaluate_classification_metrics(y_true=val_labels,\n",
    "                                                  y_pred=model_7_preds)\n",
    "model_7_results"
   ],
   "metadata": {
    "collapsed": false,
    "ExecuteTime": {
     "end_time": "2024-04-26T11:34:06.159054248Z",
     "start_time": "2024-04-26T11:34:06.085679352Z"
    }
   },
   "id": "7f0cb8b3711d0655",
   "execution_count": 119
  },
  {
   "cell_type": "code",
   "outputs": [
    {
     "data": {
      "text/plain": "array([False, False, False, False])"
     },
     "execution_count": 120,
     "metadata": {},
     "output_type": "execute_result"
    }
   ],
   "source": [
    "np.array(list(model_7_results.values())) > np.array(list(model_6_results.values()))"
   ],
   "metadata": {
    "collapsed": false,
    "ExecuteTime": {
     "end_time": "2024-04-26T11:34:07.599427480Z",
     "start_time": "2024-04-26T11:34:07.527659697Z"
    }
   },
   "id": "a25a173ff0cb22d",
   "execution_count": 120
  },
  {
   "cell_type": "markdown",
   "source": [
    "Video N°247: Fixing our data leakage issue with model 7 and retraining it\n",
    "Video N°248: Comparing all our modelling experiments evaluation metrics"
   ],
   "metadata": {
    "collapsed": false
   },
   "id": "f5b2ad8d249acd91"
  },
  {
   "cell_type": "code",
   "outputs": [],
   "source": [],
   "metadata": {
    "collapsed": false,
    "ExecuteTime": {
     "end_time": "2024-04-26T10:06:14.064029803Z",
     "start_time": "2024-04-26T10:06:13.959485479Z"
    }
   },
   "id": "92a393ff8466cdc5",
   "execution_count": 103
  },
  {
   "cell_type": "code",
   "outputs": [],
   "source": [],
   "metadata": {
    "collapsed": false
   },
   "id": "fb276f0a2d3d0537"
  }
 ],
 "metadata": {
  "kernelspec": {
   "display_name": "Python 3",
   "language": "python",
   "name": "python3"
  },
  "language_info": {
   "codemirror_mode": {
    "name": "ipython",
    "version": 2
   },
   "file_extension": ".py",
   "mimetype": "text/x-python",
   "name": "python",
   "nbconvert_exporter": "python",
   "pygments_lexer": "ipython2",
   "version": "2.7.6"
  }
 },
 "nbformat": 4,
 "nbformat_minor": 5
}
