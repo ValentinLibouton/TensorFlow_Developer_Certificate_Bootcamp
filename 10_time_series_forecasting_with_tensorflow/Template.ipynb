{
 "nbformat": 4,
 "nbformat_minor": 0,
 "metadata": {
  "colab": {
   "provenance": []
  },
  "kernelspec": {
   "name": "python3",
   "language": "python",
   "display_name": "Python 3 (ipykernel)"
  },
  "language_info": {
   "name": "python"
  }
 },
 "cells": [
  {
   "cell_type": "markdown",
   "source": [
    "# Time series forecasting fundamentals with TensorFlow + Milestone Project 3: BitPredict 💰📈\n",
    "\n",
    "Let's write some TensorFlow code to predict the price of Bitcoin based on the historical price of Bitcoin.\n",
    "\n",
    "⚠️ **Note:** This is not financial advice.\n",
    "\n",
    "Links:\n",
    "* All resources: [https://github.com/mrdbourke/tensorflow-deep-learning](https://github.com/mrdbourke/tensorflow-deep-learning)\n",
    "* Book version of actual code/text: [https://dev.mrdbourke.com/tensorflow-deep-learning/10_time_series_forecasting_in_tensorflow/](https://dev.mrdbourke.com/tensorflow-deep-learning/10_time_series_forecasting_in_tensorflow/)"
   ],
   "metadata": {
    "id": "JVLNULLL037V"
   }
  },
  {
   "cell_type": "code",
   "execution_count": 2,
   "metadata": {
    "colab": {
     "base_uri": "https://localhost:8080/"
    },
    "id": "dgxj6PrJ03MU",
    "outputId": "8077b313-2966-4d40-9bc7-577d69a5c7aa",
    "ExecuteTime": {
     "end_time": "2024-05-14T11:22:44.734147966Z",
     "start_time": "2024-05-14T11:22:44.693645467Z"
    }
   },
   "outputs": [],
   "source": [
    "import sys\n",
    "sys.path.append('MachineLearningUtils')"
   ]
  },
  {
   "cell_type": "code",
   "source": [],
   "metadata": {
    "id": "4Oia6U8Z1Ffk"
   },
   "execution_count": null,
   "outputs": []
  }
 ]
}
