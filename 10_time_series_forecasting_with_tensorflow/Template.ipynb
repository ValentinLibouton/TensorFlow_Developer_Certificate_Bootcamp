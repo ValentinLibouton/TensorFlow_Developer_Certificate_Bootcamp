{
 "nbformat": 4,
 "nbformat_minor": 0,
 "metadata": {
  "colab": {
   "provenance": []
  },
  "kernelspec": {
   "name": "python3",
   "language": "python",
   "display_name": "Python 3 (ipykernel)"
  },
  "language_info": {
   "name": "python"
  }
 },
 "cells": [
  {
   "cell_type": "markdown",
   "source": [
    "# Time series forecasting fundamentals with TensorFlow + Milestone Project 3: BitPredict 💰📈\n",
    "\n",
    "Let's write some TensorFlow code to predict the price of Bitcoin based on the historical price of Bitcoin.\n",
    "\n",
    "⚠️ **Note:** This is not financial advice.\n",
    "\n",
    "Links:\n",
    "* All resources: [https://github.com/mrdbourke/tensorflow-deep-learning](https://github.com/mrdbourke/tensorflow-deep-learning)\n",
    "* Book version of actual code/text: [https://dev.mrdbourke.com/tensorflow-deep-learning/10_time_series_forecasting_in_tensorflow/](https://dev.mrdbourke.com/tensorflow-deep-learning/10_time_series_forecasting_in_tensorflow/)"
   ],
   "metadata": {
    "id": "JVLNULLL037V"
   }
  },
  {
   "cell_type": "markdown",
   "source": [
    "Video N°299: Downloading and inspecting our Bitcoin historical dataset"
   ],
   "metadata": {
    "collapsed": false
   }
  },
  {
   "cell_type": "markdown",
   "source": [
    "## Get data\n",
    "\n",
    "We're going to be using the historical price data of Bitcoin to try and predict the future price of Bitcoin, we downloaded the data from here: https://www.coindesk.com/price/bitcoin"
   ],
   "metadata": {
    "collapsed": false
   }
  },
  {
   "cell_type": "code",
   "execution_count": 2,
   "metadata": {
    "colab": {
     "base_uri": "https://localhost:8080/"
    },
    "id": "dgxj6PrJ03MU",
    "outputId": "8077b313-2966-4d40-9bc7-577d69a5c7aa",
    "ExecuteTime": {
     "end_time": "2024-05-14T11:22:44.734147966Z",
     "start_time": "2024-05-14T11:22:44.693645467Z"
    }
   },
   "outputs": [],
   "source": [
    "import sys\n",
    "sys.path.append('MachineLearningUtils')"
   ]
  },
  {
   "cell_type": "code",
   "source": [
    "# Import with pandas\n",
    "import pandas as pd\n",
    "# Let's read in our Bitcoin data and parse the dates\n",
    "df = pd.read_csv('BTC_USD_2013-10-01_2021-05-18-CoinDesk.csv',\n",
    "                 parse_dates=[\"Date\"],\n",
    "                 index_col=[\"Date\"]) # prase the date column and tell pandas column 1 is a datetime\n",
    "df.head()"
   ],
   "metadata": {
    "id": "4Oia6U8Z1Ffk",
    "ExecuteTime": {
     "end_time": "2024-05-14T11:23:40.118773138Z",
     "start_time": "2024-05-14T11:23:39.849035038Z"
    }
   },
   "execution_count": 3,
   "outputs": [
    {
     "data": {
      "text/plain": "           Currency  Closing Price (USD)  24h Open (USD)  24h High (USD)  \\\nDate                                                                       \n2013-10-01      BTC            123.65499       124.30466       124.75166   \n2013-10-02      BTC            125.45500       123.65499       125.75850   \n2013-10-03      BTC            108.58483       125.45500       125.66566   \n2013-10-04      BTC            118.67466       108.58483       118.67500   \n2013-10-05      BTC            121.33866       118.67466       121.93633   \n\n            24h Low (USD)  \nDate                       \n2013-10-01      122.56349  \n2013-10-02      123.63383  \n2013-10-03       83.32833  \n2013-10-04      107.05816  \n2013-10-05      118.00566  ",
      "text/html": "<div>\n<style scoped>\n    .dataframe tbody tr th:only-of-type {\n        vertical-align: middle;\n    }\n\n    .dataframe tbody tr th {\n        vertical-align: top;\n    }\n\n    .dataframe thead th {\n        text-align: right;\n    }\n</style>\n<table border=\"1\" class=\"dataframe\">\n  <thead>\n    <tr style=\"text-align: right;\">\n      <th></th>\n      <th>Currency</th>\n      <th>Closing Price (USD)</th>\n      <th>24h Open (USD)</th>\n      <th>24h High (USD)</th>\n      <th>24h Low (USD)</th>\n    </tr>\n    <tr>\n      <th>Date</th>\n      <th></th>\n      <th></th>\n      <th></th>\n      <th></th>\n      <th></th>\n    </tr>\n  </thead>\n  <tbody>\n    <tr>\n      <th>2013-10-01</th>\n      <td>BTC</td>\n      <td>123.65499</td>\n      <td>124.30466</td>\n      <td>124.75166</td>\n      <td>122.56349</td>\n    </tr>\n    <tr>\n      <th>2013-10-02</th>\n      <td>BTC</td>\n      <td>125.45500</td>\n      <td>123.65499</td>\n      <td>125.75850</td>\n      <td>123.63383</td>\n    </tr>\n    <tr>\n      <th>2013-10-03</th>\n      <td>BTC</td>\n      <td>108.58483</td>\n      <td>125.45500</td>\n      <td>125.66566</td>\n      <td>83.32833</td>\n    </tr>\n    <tr>\n      <th>2013-10-04</th>\n      <td>BTC</td>\n      <td>118.67466</td>\n      <td>108.58483</td>\n      <td>118.67500</td>\n      <td>107.05816</td>\n    </tr>\n    <tr>\n      <th>2013-10-05</th>\n      <td>BTC</td>\n      <td>121.33866</td>\n      <td>118.67466</td>\n      <td>121.93633</td>\n      <td>118.00566</td>\n    </tr>\n  </tbody>\n</table>\n</div>"
     },
     "execution_count": 3,
     "metadata": {},
     "output_type": "execute_result"
    }
   ]
  },
  {
   "cell_type": "code",
   "outputs": [],
   "source": [],
   "metadata": {
    "collapsed": false
   }
  }
 ]
}
