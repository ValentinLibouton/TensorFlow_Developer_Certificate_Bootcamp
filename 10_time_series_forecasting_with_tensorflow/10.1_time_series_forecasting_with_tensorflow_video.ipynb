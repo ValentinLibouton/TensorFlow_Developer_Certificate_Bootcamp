{
 "cells": [
  {
   "cell_type": "markdown",
   "source": [
    "# Time series forecasting fundamentals with TensorFlow + Milestone Project 3: BitPredict 💰📈\n",
    "\n",
    "Let's write some TensorFlow code to predict the price of Bitcoin based on the historical price of Bitcoin.\n",
    "\n",
    "⚠️ **Note:** This is not financial advice.\n",
    "\n",
    "Links:\n",
    "* All resources: [https://github.com/mrdbourke/tensorflow-deep-learning](https://github.com/mrdbourke/tensorflow-deep-learning)\n",
    "* Book version of actual code/text: [https://dev.mrdbourke.com/tensorflow-deep-learning/10_time_series_forecasting_in_tensorflow/](https://dev.mrdbourke.com/tensorflow-deep-learning/10_time_series_forecasting_in_tensorflow/)"
   ],
   "metadata": {
    "collapsed": false
   },
   "id": "b73f61ee66304950"
  },
  {
   "cell_type": "markdown",
   "source": [
    "Video N°299: Downloading and inspecting our Bitcoin historical dataset"
   ],
   "metadata": {
    "collapsed": false
   },
   "id": "42fec489d395698a"
  },
  {
   "cell_type": "markdown",
   "source": [
    "## Get data\n",
    "\n",
    "We're going to be using the historical price data of Bitcoin to try and predict the future price of Bitcoin, we downloaded the data from here: https://www.coindesk.com/price/bitcoin"
   ],
   "metadata": {
    "collapsed": false
   },
   "id": "46705898fbe03ffe"
  },
  {
   "cell_type": "code",
   "execution_count": 2,
   "id": "initial_id",
   "metadata": {
    "collapsed": true,
    "ExecuteTime": {
     "end_time": "2024-05-08T19:36:24.449487772Z",
     "start_time": "2024-05-08T19:36:24.048569778Z"
    }
   },
   "outputs": [
    {
     "name": "stderr",
     "output_type": "stream",
     "text": [
      "--2024-05-08 21:36:24--  https://raw.githubusercontent.com/mrdbourke/tensorflow-deep-learning/main/extras/BTC_USD_2013-10-01_2021-05-18-CoinDesk.csv\n",
      "Resolving raw.githubusercontent.com (raw.githubusercontent.com)... 185.199.110.133, 185.199.109.133, 185.199.108.133, ...\n",
      "Connecting to raw.githubusercontent.com (raw.githubusercontent.com)|185.199.110.133|:443... connected.\n",
      "HTTP request sent, awaiting response... "
     ]
    },
    {
     "name": "stdout",
     "output_type": "stream",
     "text": [
      "BTC_USD_2013-10-01_2021-05-18-CoinDesk.csv has been downloaded.\n"
     ]
    },
    {
     "name": "stderr",
     "output_type": "stream",
     "text": [
      "200 OK\n",
      "Length: 178509 (174K) [text/plain]\n",
      "Saving to: 'BTC_USD_2013-10-01_2021-05-18-CoinDesk.csv'\n",
      "\n",
      "     0K .......... .......... .......... .......... .......... 28% 2.93M 0s\n",
      "    50K .......... .......... .......... .......... .......... 57% 3.14M 0s\n",
      "   100K .......... .......... .......... .......... .......... 86% 9.15M 0s\n",
      "   150K .......... .......... ....                            100% 3.12M=0.05s\n",
      "\n",
      "2024-05-08 21:36:24 (3.77 MB/s) - 'BTC_USD_2013-10-01_2021-05-18-CoinDesk.csv' saved [178509/178509]\n",
      "\n"
     ]
    }
   ],
   "source": [
    "from MachineLearningUtils.data_acquisition.data_downloader import *\n",
    "url = \"https://raw.githubusercontent.com/mrdbourke/tensorflow-deep-learning/main/extras/BTC_USD_2013-10-01_2021-05-18-CoinDesk.csv\"\n",
    "download_data(url=url, file_path=\"BTC_USD_2013-10-01_2021-05-18-CoinDesk.csv\")"
   ]
  },
  {
   "cell_type": "markdown",
   "source": [
    "## Importing time series with pandas"
   ],
   "metadata": {
    "collapsed": false
   },
   "id": "95d5b40284cad84e"
  },
  {
   "cell_type": "code",
   "outputs": [
    {
     "data": {
      "text/plain": "           Currency  Closing Price (USD)  24h Open (USD)  24h High (USD)  \\\nDate                                                                       \n2013-10-01      BTC            123.65499       124.30466       124.75166   \n2013-10-02      BTC            125.45500       123.65499       125.75850   \n2013-10-03      BTC            108.58483       125.45500       125.66566   \n2013-10-04      BTC            118.67466       108.58483       118.67500   \n2013-10-05      BTC            121.33866       118.67466       121.93633   \n\n            24h Low (USD)  \nDate                       \n2013-10-01      122.56349  \n2013-10-02      123.63383  \n2013-10-03       83.32833  \n2013-10-04      107.05816  \n2013-10-05      118.00566  ",
      "text/html": "<div>\n<style scoped>\n    .dataframe tbody tr th:only-of-type {\n        vertical-align: middle;\n    }\n\n    .dataframe tbody tr th {\n        vertical-align: top;\n    }\n\n    .dataframe thead th {\n        text-align: right;\n    }\n</style>\n<table border=\"1\" class=\"dataframe\">\n  <thead>\n    <tr style=\"text-align: right;\">\n      <th></th>\n      <th>Currency</th>\n      <th>Closing Price (USD)</th>\n      <th>24h Open (USD)</th>\n      <th>24h High (USD)</th>\n      <th>24h Low (USD)</th>\n    </tr>\n    <tr>\n      <th>Date</th>\n      <th></th>\n      <th></th>\n      <th></th>\n      <th></th>\n      <th></th>\n    </tr>\n  </thead>\n  <tbody>\n    <tr>\n      <th>2013-10-01</th>\n      <td>BTC</td>\n      <td>123.65499</td>\n      <td>124.30466</td>\n      <td>124.75166</td>\n      <td>122.56349</td>\n    </tr>\n    <tr>\n      <th>2013-10-02</th>\n      <td>BTC</td>\n      <td>125.45500</td>\n      <td>123.65499</td>\n      <td>125.75850</td>\n      <td>123.63383</td>\n    </tr>\n    <tr>\n      <th>2013-10-03</th>\n      <td>BTC</td>\n      <td>108.58483</td>\n      <td>125.45500</td>\n      <td>125.66566</td>\n      <td>83.32833</td>\n    </tr>\n    <tr>\n      <th>2013-10-04</th>\n      <td>BTC</td>\n      <td>118.67466</td>\n      <td>108.58483</td>\n      <td>118.67500</td>\n      <td>107.05816</td>\n    </tr>\n    <tr>\n      <th>2013-10-05</th>\n      <td>BTC</td>\n      <td>121.33866</td>\n      <td>118.67466</td>\n      <td>121.93633</td>\n      <td>118.00566</td>\n    </tr>\n  </tbody>\n</table>\n</div>"
     },
     "execution_count": 3,
     "metadata": {},
     "output_type": "execute_result"
    }
   ],
   "source": [
    "# Import with pandas\n",
    "import pandas as pd\n",
    "# Let's read in our Bitcoin data and parse the dates\n",
    "df = pd.read_csv('BTC_USD_2013-10-01_2021-05-18-CoinDesk.csv',\n",
    "                 parse_dates=[\"Date\"],\n",
    "                 index_col=[\"Date\"]) # prase the date column and tell pandas column 1 is a datetime\n",
    "df.head()"
   ],
   "metadata": {
    "collapsed": false,
    "ExecuteTime": {
     "end_time": "2024-05-08T19:40:38.071426164Z",
     "start_time": "2024-05-08T19:40:37.574559962Z"
    }
   },
   "id": "5b3c8c603f3cb327",
   "execution_count": 3
  },
  {
   "cell_type": "code",
   "outputs": [
    {
     "data": {
      "text/plain": "           Currency  Closing Price (USD)  24h Open (USD)  24h High (USD)  \\\nDate                                                                       \n2021-05-14      BTC         49764.132082    49596.778891    51448.798576   \n2021-05-15      BTC         50032.693137    49717.354353    51578.312545   \n2021-05-16      BTC         47885.625255    49926.035067    50690.802950   \n2021-05-17      BTC         45604.615754    46805.537852    49670.414174   \n2021-05-18      BTC         43144.471291    46439.336570    46622.853437   \n\n            24h Low (USD)  \nDate                       \n2021-05-14   46294.720180  \n2021-05-15   48944.346536  \n2021-05-16   47005.102292  \n2021-05-17   43868.638969  \n2021-05-18   42102.346430  ",
      "text/html": "<div>\n<style scoped>\n    .dataframe tbody tr th:only-of-type {\n        vertical-align: middle;\n    }\n\n    .dataframe tbody tr th {\n        vertical-align: top;\n    }\n\n    .dataframe thead th {\n        text-align: right;\n    }\n</style>\n<table border=\"1\" class=\"dataframe\">\n  <thead>\n    <tr style=\"text-align: right;\">\n      <th></th>\n      <th>Currency</th>\n      <th>Closing Price (USD)</th>\n      <th>24h Open (USD)</th>\n      <th>24h High (USD)</th>\n      <th>24h Low (USD)</th>\n    </tr>\n    <tr>\n      <th>Date</th>\n      <th></th>\n      <th></th>\n      <th></th>\n      <th></th>\n      <th></th>\n    </tr>\n  </thead>\n  <tbody>\n    <tr>\n      <th>2021-05-14</th>\n      <td>BTC</td>\n      <td>49764.132082</td>\n      <td>49596.778891</td>\n      <td>51448.798576</td>\n      <td>46294.720180</td>\n    </tr>\n    <tr>\n      <th>2021-05-15</th>\n      <td>BTC</td>\n      <td>50032.693137</td>\n      <td>49717.354353</td>\n      <td>51578.312545</td>\n      <td>48944.346536</td>\n    </tr>\n    <tr>\n      <th>2021-05-16</th>\n      <td>BTC</td>\n      <td>47885.625255</td>\n      <td>49926.035067</td>\n      <td>50690.802950</td>\n      <td>47005.102292</td>\n    </tr>\n    <tr>\n      <th>2021-05-17</th>\n      <td>BTC</td>\n      <td>45604.615754</td>\n      <td>46805.537852</td>\n      <td>49670.414174</td>\n      <td>43868.638969</td>\n    </tr>\n    <tr>\n      <th>2021-05-18</th>\n      <td>BTC</td>\n      <td>43144.471291</td>\n      <td>46439.336570</td>\n      <td>46622.853437</td>\n      <td>42102.346430</td>\n    </tr>\n  </tbody>\n</table>\n</div>"
     },
     "execution_count": 4,
     "metadata": {},
     "output_type": "execute_result"
    }
   ],
   "source": [
    "df.tail()"
   ],
   "metadata": {
    "collapsed": false,
    "ExecuteTime": {
     "end_time": "2024-05-08T19:41:50.257808807Z",
     "start_time": "2024-05-08T19:41:50.211974404Z"
    }
   },
   "id": "880caba4567e98d7",
   "execution_count": 4
  },
  {
   "cell_type": "code",
   "outputs": [
    {
     "name": "stdout",
     "output_type": "stream",
     "text": [
      "<class 'pandas.core.frame.DataFrame'>\n",
      "DatetimeIndex: 2787 entries, 2013-10-01 to 2021-05-18\n",
      "Data columns (total 5 columns):\n",
      " #   Column               Non-Null Count  Dtype  \n",
      "---  ------               --------------  -----  \n",
      " 0   Currency             2787 non-null   object \n",
      " 1   Closing Price (USD)  2787 non-null   float64\n",
      " 2   24h Open (USD)       2787 non-null   float64\n",
      " 3   24h High (USD)       2787 non-null   float64\n",
      " 4   24h Low (USD)        2787 non-null   float64\n",
      "dtypes: float64(4), object(1)\n",
      "memory usage: 130.6+ KB\n"
     ]
    }
   ],
   "source": [
    "df.info()"
   ],
   "metadata": {
    "collapsed": false,
    "ExecuteTime": {
     "end_time": "2024-05-08T19:42:19.755393339Z",
     "start_time": "2024-05-08T19:42:19.702557106Z"
    }
   },
   "id": "d4fe7b73d58654e0",
   "execution_count": 5
  },
  {
   "cell_type": "code",
   "outputs": [
    {
     "data": {
      "text/plain": "2787"
     },
     "execution_count": 6,
     "metadata": {},
     "output_type": "execute_result"
    }
   ],
   "source": [
    "# How many samples do we have?\n",
    "len(df)"
   ],
   "metadata": {
    "collapsed": false,
    "ExecuteTime": {
     "end_time": "2024-05-08T19:45:26.671240493Z",
     "start_time": "2024-05-08T19:45:26.619665755Z"
    }
   },
   "id": "eef4bc9055755834",
   "execution_count": 6
  },
  {
   "cell_type": "markdown",
   "source": [
    "We've collected the historical price of Bitcoin for the past ~8 years but there's 2787 samples.\n",
    "\n",
    "Typically deep learning models usually like lots and lots and lots of samples (where lots and lots and lots can thousands to tens of thousands to millions).\n",
    "\n",
    "A smaller number of samples is something you'll often run into with time series data problems.\n",
    "\n",
    "> 🔑 **Note:** The **seasonality** of a time series dataset is referred as the number of samples per year. So for our Bitcoin data, it has a seaonality of daily or value of 365 because we collect one sample per day meaning we'll get 365 samples per year."
   ],
   "metadata": {
    "collapsed": false
   },
   "id": "50e02e7239d7e120"
  },
  {
   "cell_type": "markdown",
   "source": [
    "Video N°300: Different kinds of time series patterns & different amounts of feature variables\n",
    "Video N°301: Visualizing our Bitcoin historical data with pandas"
   ],
   "metadata": {
    "collapsed": false
   },
   "id": "14cc012610ac884f"
  },
  {
   "cell_type": "code",
   "outputs": [],
   "source": [
    "# Only want closing price for each day\n"
   ],
   "metadata": {
    "collapsed": false
   },
   "id": "78da188a29cc5e2e"
  }
 ],
 "metadata": {
  "kernelspec": {
   "display_name": "Python 3",
   "language": "python",
   "name": "python3"
  },
  "language_info": {
   "codemirror_mode": {
    "name": "ipython",
    "version": 2
   },
   "file_extension": ".py",
   "mimetype": "text/x-python",
   "name": "python",
   "nbconvert_exporter": "python",
   "pygments_lexer": "ipython2",
   "version": "2.7.6"
  }
 },
 "nbformat": 4,
 "nbformat_minor": 5
}
