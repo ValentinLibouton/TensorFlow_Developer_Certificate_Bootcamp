{
 "nbformat": 4,
 "nbformat_minor": 0,
 "metadata": {
  "colab": {
   "provenance": []
  },
  "kernelspec": {
   "name": "python3",
   "display_name": "Python 3"
  },
  "language_info": {
   "name": "python"
  }
 },
 "cells": [
  {
   "cell_type": "markdown",
   "source": [
    "# Time series forecasting fundamentals with TensorFlow + Milestone Project 3: BitPredict 💰📈\n",
    "\n",
    "Let's write some TensorFlow code to predict the price of Bitcoin based on the historical price of Bitcoin.\n",
    "\n",
    "⚠️ **Note:** This is not financial advice.\n",
    "\n",
    "Links:\n",
    "* All resources: [https://github.com/mrdbourke/tensorflow-deep-learning](https://github.com/mrdbourke/tensorflow-deep-learning)\n",
    "* Book version of actual code/text: [https://dev.mrdbourke.com/tensorflow-deep-learning/10_time_series_forecasting_in_tensorflow/](https://dev.mrdbourke.com/tensorflow-deep-learning/10_time_series_forecasting_in_tensorflow/)"
   ],
   "metadata": {
    "id": "DIAOFWsF-4_D"
   }
  },
  {
   "cell_type": "code",
   "source": [],
   "metadata": {
    "id": "HIgCvuxM-3ay"
   },
   "execution_count": null,
   "outputs": []
  }
 ]
}
