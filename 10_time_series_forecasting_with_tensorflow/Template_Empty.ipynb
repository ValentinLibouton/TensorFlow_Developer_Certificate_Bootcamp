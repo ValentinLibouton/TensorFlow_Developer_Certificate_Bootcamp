{
 "cells": [
  {
   "cell_type": "markdown",
   "metadata": {
    "id": "DIAOFWsF-4_D"
   },
   "source": [
    "# Time series forecasting fundamentals with TensorFlow + Milestone Project 3: BitPredict 💰📈\n",
    "\n",
    "Let's write some TensorFlow code to predict the price of Bitcoin based on the historical price of Bitcoin.\n",
    "\n",
    "⚠️ **Note:** This is not financial advice.\n",
    "\n",
    "Links:\n",
    "* All resources: [https://github.com/mrdbourke/tensorflow-deep-learning](https://github.com/mrdbourke/tensorflow-deep-learning)\n",
    "* Book version of actual code/text: [https://dev.mrdbourke.com/tensorflow-deep-learning/10_time_series_forecasting_in_tensorflow/](https://dev.mrdbourke.com/tensorflow-deep-learning/10_time_series_forecasting_in_tensorflow/)"
   ]
  },
  {
   "cell_type": "markdown",
   "metadata": {},
   "source": [
    "Video N°299: Downloading and inspecting our Bitcoin historical dataset"
   ]
  },
  {
   "cell_type": "markdown",
   "metadata": {},
   "source": [
    "## Get data\n",
    "\n",
    "We're going to be using the historical price data of Bitcoin to try and predict the future price of Bitcoin, we downloaded the data from here: https://www.coindesk.com/price/bitcoin"
   ]
  },
  {
   "cell_type": "code",
   "execution_count": null,
   "id": "1e921543",
   "metadata": {},
   "outputs": [],
   "source": []
  },
  {
   "cell_type": "code",
   "execution_count": null,
   "id": "40c38fd2",
   "metadata": {},
   "outputs": [],
   "source": []
  },
  {
   "cell_type": "code",
   "execution_count": null,
   "id": "2134ac70",
   "metadata": {},
   "outputs": [],
   "source": []
  },
  {
   "cell_type": "code",
   "execution_count": null,
   "id": "c545d11d",
   "metadata": {},
   "outputs": [],
   "source": []
  },
  {
   "cell_type": "code",
   "execution_count": null,
   "id": "b39e5421",
   "metadata": {},
   "outputs": [],
   "source": []
  },
  {
   "cell_type": "code",
   "execution_count": null,
   "id": "8ae93c11",
   "metadata": {},
   "outputs": [],
   "source": []
  },
  {
   "cell_type": "code",
   "execution_count": null,
   "id": "8e87ab77",
   "metadata": {},
   "outputs": [],
   "source": []
  },
  {
   "cell_type": "code",
   "execution_count": null,
   "id": "54b49746",
   "metadata": {},
   "outputs": [],
   "source": []
  },
  {
   "cell_type": "markdown",
   "id": "8bf1f499",
   "metadata": {},
   "source": []
  },
  {
   "cell_type": "markdown",
   "id": "f8eb0278",
   "metadata": {},
   "source": []
  },
  {
   "cell_type": "markdown",
   "id": "be702772",
   "metadata": {},
   "source": []
  },
  {
   "cell_type": "markdown",
   "id": "6dc6f73e",
   "metadata": {},
   "source": []
  },
  {
   "cell_type": "markdown",
   "id": "596838f4",
   "metadata": {},
   "source": []
  },
  {
   "cell_type": "markdown",
   "id": "ca03ddec",
   "metadata": {},
   "source": []
  },
  {
   "cell_type": "markdown",
   "id": "846b9b86",
   "metadata": {},
   "source": []
  },
  {
   "cell_type": "markdown",
   "id": "652b809f",
   "metadata": {},
   "source": []
  },
  {
   "cell_type": "markdown",
   "id": "4029428b",
   "metadata": {},
   "source": []
  },
  {
   "cell_type": "markdown",
   "id": "261e1e0c",
   "metadata": {},
   "source": []
  },
  {
   "cell_type": "markdown",
   "id": "7de258eb",
   "metadata": {},
   "source": []
  }
 ],
 "metadata": {
  "colab": {
   "provenance": []
  },
  "kernelspec": {
   "display_name": "Python 3",
   "name": "python3"
  },
  "language_info": {
   "name": "python"
  }
 },
 "nbformat": 4,
 "nbformat_minor": 0
}
