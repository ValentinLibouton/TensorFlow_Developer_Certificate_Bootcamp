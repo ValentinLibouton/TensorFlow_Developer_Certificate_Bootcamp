{
  "nbformat": 4,
  "nbformat_minor": 0,
  "metadata": {
    "colab": {
      "provenance": []
    },
    "kernelspec": {
      "name": "python3",
      "display_name": "Python 3"
    },
    "language_info": {
      "name": "python"
    }
  },
  "cells": [
    {
      "cell_type": "markdown",
      "source": [
        "Template"
      ],
      "metadata": {
        "id": "JVLNULLL037V"
      }
    },
    {
      "cell_type": "code",
      "execution_count": 1,
      "metadata": {
        "colab": {
          "base_uri": "https://localhost:8080/"
        },
        "id": "dgxj6PrJ03MU",
        "outputId": "8077b313-2966-4d40-9bc7-577d69a5c7aa"
      },
      "outputs": [
        {
          "output_type": "stream",
          "name": "stdout",
          "text": [
            "Template\n"
          ]
        }
      ],
      "source": [
        "# cellule de code\n",
        "print(\"Template\")"
      ]
    },
    {
      "cell_type": "code",
      "source": [],
      "metadata": {
        "id": "4Oia6U8Z1Ffk"
      },
      "execution_count": null,
      "outputs": []
    }
  ]
}