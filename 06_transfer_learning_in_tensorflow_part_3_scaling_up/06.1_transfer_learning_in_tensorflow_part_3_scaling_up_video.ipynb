{
 "cells": [
  {
   "cell_type": "markdown",
   "source": [
    "# Transfer Learning with TensorFlow Part 3: Scaling up (Food Vision mini)\n",
    "\n",
    "We've seen the power of transfer learning feature extraction and fine-tuning, now it's time to scale up to all of the classes in Food101 (101 total classes of food).\n",
    "\n",
    "Our goal is to beat the original Food101 paper with 10% of the training (leveraging the power of deep learning).\n",
    "\n",
    "Original Food101 paper: https://data.vision.ee.ethz.ch/cvl/datasets_extra/food-101/static/bossard_eccv14_food-101.pdf\n",
    "\n",
    "Our baseline to beat is 50.76% accuracy across 101 classes."
   ],
   "metadata": {
    "collapsed": false
   },
   "id": "40759b80a1387e99"
  },
  {
   "cell_type": "code",
   "outputs": [
    {
     "name": "stderr",
     "output_type": "stream",
     "text": [
      "2024-04-13 10:58:08.731974: E external/local_xla/xla/stream_executor/cuda/cuda_dnn.cc:9261] Unable to register cuDNN factory: Attempting to register factory for plugin cuDNN when one has already been registered\n",
      "2024-04-13 10:58:08.732010: E external/local_xla/xla/stream_executor/cuda/cuda_fft.cc:607] Unable to register cuFFT factory: Attempting to register factory for plugin cuFFT when one has already been registered\n",
      "2024-04-13 10:58:08.757501: E external/local_xla/xla/stream_executor/cuda/cuda_blas.cc:1515] Unable to register cuBLAS factory: Attempting to register factory for plugin cuBLAS when one has already been registered\n",
      "2024-04-13 10:58:08.811789: I tensorflow/core/platform/cpu_feature_guard.cc:182] This TensorFlow binary is optimized to use available CPU instructions in performance-critical operations.\n",
      "To enable the following instructions: SSE4.1 SSE4.2 AVX AVX2 FMA, in other operations, rebuild TensorFlow with the appropriate compiler flags.\n"
     ]
    },
    {
     "name": "stdout",
     "output_type": "stream",
     "text": [
      "2.15.0\n"
     ]
    }
   ],
   "source": [
    "import tensorflow as tf\n",
    "print(tf.__version__)"
   ],
   "metadata": {
    "collapsed": false,
    "ExecuteTime": {
     "end_time": "2024-04-13T08:58:11.253808091Z",
     "start_time": "2024-04-13T08:58:08.256505725Z"
    }
   },
   "id": "5d3966d5bdbf4a84",
   "execution_count": 1
  },
  {
   "cell_type": "code",
   "outputs": [
    {
     "name": "stdout",
     "output_type": "stream",
     "text": [
      "1 Physical GPUs, 1 Logical GPU\n"
     ]
    },
    {
     "name": "stderr",
     "output_type": "stream",
     "text": [
      "2024-04-13 10:58:11.408263: I external/local_xla/xla/stream_executor/cuda/cuda_executor.cc:901] successful NUMA node read from SysFS had negative value (-1), but there must be at least one NUMA node, so returning NUMA node zero. See more at https://github.com/torvalds/linux/blob/v6.0/Documentation/ABI/testing/sysfs-bus-pci#L344-L355\n",
      "2024-04-13 10:58:11.635544: I external/local_xla/xla/stream_executor/cuda/cuda_executor.cc:901] successful NUMA node read from SysFS had negative value (-1), but there must be at least one NUMA node, so returning NUMA node zero. See more at https://github.com/torvalds/linux/blob/v6.0/Documentation/ABI/testing/sysfs-bus-pci#L344-L355\n",
      "2024-04-13 10:58:11.635937: I external/local_xla/xla/stream_executor/cuda/cuda_executor.cc:901] successful NUMA node read from SysFS had negative value (-1), but there must be at least one NUMA node, so returning NUMA node zero. See more at https://github.com/torvalds/linux/blob/v6.0/Documentation/ABI/testing/sysfs-bus-pci#L344-L355\n",
      "2024-04-13 10:58:11.649556: I external/local_xla/xla/stream_executor/cuda/cuda_executor.cc:901] successful NUMA node read from SysFS had negative value (-1), but there must be at least one NUMA node, so returning NUMA node zero. See more at https://github.com/torvalds/linux/blob/v6.0/Documentation/ABI/testing/sysfs-bus-pci#L344-L355\n",
      "2024-04-13 10:58:11.649944: I external/local_xla/xla/stream_executor/cuda/cuda_executor.cc:901] successful NUMA node read from SysFS had negative value (-1), but there must be at least one NUMA node, so returning NUMA node zero. See more at https://github.com/torvalds/linux/blob/v6.0/Documentation/ABI/testing/sysfs-bus-pci#L344-L355\n",
      "2024-04-13 10:58:11.650207: I external/local_xla/xla/stream_executor/cuda/cuda_executor.cc:901] successful NUMA node read from SysFS had negative value (-1), but there must be at least one NUMA node, so returning NUMA node zero. See more at https://github.com/torvalds/linux/blob/v6.0/Documentation/ABI/testing/sysfs-bus-pci#L344-L355\n",
      "2024-04-13 10:58:11.769218: I external/local_xla/xla/stream_executor/cuda/cuda_executor.cc:901] successful NUMA node read from SysFS had negative value (-1), but there must be at least one NUMA node, so returning NUMA node zero. See more at https://github.com/torvalds/linux/blob/v6.0/Documentation/ABI/testing/sysfs-bus-pci#L344-L355\n",
      "2024-04-13 10:58:11.769767: I external/local_xla/xla/stream_executor/cuda/cuda_executor.cc:901] successful NUMA node read from SysFS had negative value (-1), but there must be at least one NUMA node, so returning NUMA node zero. See more at https://github.com/torvalds/linux/blob/v6.0/Documentation/ABI/testing/sysfs-bus-pci#L344-L355\n",
      "2024-04-13 10:58:11.770037: I external/local_xla/xla/stream_executor/cuda/cuda_executor.cc:901] successful NUMA node read from SysFS had negative value (-1), but there must be at least one NUMA node, so returning NUMA node zero. See more at https://github.com/torvalds/linux/blob/v6.0/Documentation/ABI/testing/sysfs-bus-pci#L344-L355\n",
      "2024-04-13 10:58:11.770272: I tensorflow/core/common_runtime/gpu/gpu_device.cc:1929] Created device /job:localhost/replica:0/task:0/device:GPU:0 with 5486 MB memory:  -> device: 0, name: NVIDIA GeForce RTX 3050, pci bus id: 0000:09:00.0, compute capability: 8.6\n"
     ]
    }
   ],
   "source": [
    "from MachineLearningUtils.system_setup.gpu import activate_gpu\n",
    "activate_gpu()"
   ],
   "metadata": {
    "collapsed": false,
    "ExecuteTime": {
     "end_time": "2024-04-13T08:58:11.798324382Z",
     "start_time": "2024-04-13T08:58:11.251507691Z"
    }
   },
   "id": "9d59942da3437e3e",
   "execution_count": 2
  },
  {
   "cell_type": "markdown",
   "source": [
    "Video N°183: Getting helper functions ready and downloading data to model"
   ],
   "metadata": {
    "collapsed": false
   },
   "id": "5e9018555c055723"
  },
  {
   "cell_type": "markdown",
   "source": [
    "## Creating helper functions\n",
    "\n",
    "In previous notebooks, we've created a series of helper functions to do different tasks, let's download them."
   ],
   "metadata": {
    "collapsed": false
   },
   "id": "e4d34e7fe0eee06b"
  },
  {
   "cell_type": "code",
   "execution_count": 3,
   "id": "initial_id",
   "metadata": {
    "collapsed": true,
    "ExecuteTime": {
     "end_time": "2024-04-13T08:58:18.051586139Z",
     "start_time": "2024-04-13T08:58:17.097812686Z"
    }
   },
   "outputs": [],
   "source": [
    "# Import series of helper functions for our notebook\n",
    "from MachineLearningUtils.data_acquisition.data_downloader import *\n",
    "from MachineLearningUtils.data_visualization.augmentation_effects import *\n",
    "from MachineLearningUtils.data_visualization.evaluation_metrics import *\n",
    "from MachineLearningUtils.data_visualization.image_visualization import *\n",
    "from MachineLearningUtils.data_visualization.model_learning_curves import *\n",
    "from MachineLearningUtils.data_visualization.prediction_visualization import *\n",
    "from MachineLearningUtils.training_utilities.model_callbacks import *\n",
    "from MachineLearningUtils.training_utilities.transfer_learning import *"
   ]
  },
  {
   "cell_type": "markdown",
   "source": [
    "## 101 Food Classes: working with less data\n",
    "\n",
    "Our goal is to beat the original Food101 paper with 10% of the training data, so let's download it.\n",
    "\n",
    "The data we're downloading comes from the original Food101 dataset but has been preprocessed using the image_data_modification notebook - https://raw.githubusercontent.com/mrdbourke/tensorflow-deep-learning/main/extras/image_data_modification.ipynb"
   ],
   "metadata": {
    "collapsed": false
   },
   "id": "bd8af8fd1148a614"
  },
  {
   "cell_type": "code",
   "outputs": [
    {
     "name": "stdout",
     "output_type": "stream",
     "text": [
      "The file 101_food_classes_10_percent.zip already exists.\n",
      "Extracting 101_food_classes_10_percent.zip as ZIP...\n",
      "101_food_classes_10_percent.zip has been extracted to current directory.\n"
     ]
    }
   ],
   "source": [
    "url = \"https://storage.googleapis.com/ztm_tf_course/food_vision/101_food_classes_10_percent.zip\"\n",
    "download_data(url=url, file_path=\"101_food_classes_10_percent.zip\", extract=True)\n",
    "\n",
    "train_dir = \"101_food_classes_10_percent/train/\"\n",
    "test_dir = \"101_food_classes_10_percent/test/\""
   ],
   "metadata": {
    "collapsed": false,
    "ExecuteTime": {
     "end_time": "2024-04-13T09:14:39.680761836Z",
     "start_time": "2024-04-13T09:14:28.405202571Z"
    }
   },
   "id": "290b43828fa7bf43",
   "execution_count": 7
  },
  {
   "cell_type": "code",
   "outputs": [
    {
     "name": "stdout",
     "output_type": "stream",
     "text": [
      "There are 2 directories and 0 images in '101_food_classes_10_percent'.\n",
      "There are 101 directories and 0 images in '101_food_classes_10_percent/train'.\n",
      "There are 0 directories and 75 images in '101_food_classes_10_percent/train/hot_and_sour_soup'.\n",
      "There are 0 directories and 75 images in '101_food_classes_10_percent/train/steak'.\n",
      "There are 0 directories and 75 images in '101_food_classes_10_percent/train/peking_duck'.\n",
      "There are 0 directories and 75 images in '101_food_classes_10_percent/train/samosa'.\n",
      "There are 0 directories and 75 images in '101_food_classes_10_percent/train/tiramisu'.\n",
      "There are 0 directories and 75 images in '101_food_classes_10_percent/train/cannoli'.\n",
      "There are 0 directories and 75 images in '101_food_classes_10_percent/train/ceviche'.\n",
      "There are 0 directories and 75 images in '101_food_classes_10_percent/train/scallops'.\n",
      "There are 0 directories and 75 images in '101_food_classes_10_percent/train/spaghetti_bolognese'.\n",
      "There are 0 directories and 75 images in '101_food_classes_10_percent/train/escargots'.\n",
      "There are 0 directories and 75 images in '101_food_classes_10_percent/train/baby_back_ribs'.\n",
      "There are 0 directories and 75 images in '101_food_classes_10_percent/train/huevos_rancheros'.\n",
      "There are 0 directories and 75 images in '101_food_classes_10_percent/train/club_sandwich'.\n",
      "There are 0 directories and 75 images in '101_food_classes_10_percent/train/sushi'.\n",
      "There are 0 directories and 75 images in '101_food_classes_10_percent/train/oysters'.\n",
      "There are 0 directories and 75 images in '101_food_classes_10_percent/train/pad_thai'.\n",
      "There are 0 directories and 75 images in '101_food_classes_10_percent/train/pho'.\n",
      "There are 0 directories and 75 images in '101_food_classes_10_percent/train/guacamole'.\n",
      "There are 0 directories and 75 images in '101_food_classes_10_percent/train/mussels'.\n",
      "There are 0 directories and 75 images in '101_food_classes_10_percent/train/deviled_eggs'.\n",
      "There are 0 directories and 75 images in '101_food_classes_10_percent/train/panna_cotta'.\n",
      "There are 0 directories and 75 images in '101_food_classes_10_percent/train/onion_rings'.\n",
      "There are 0 directories and 75 images in '101_food_classes_10_percent/train/macarons'.\n",
      "There are 0 directories and 75 images in '101_food_classes_10_percent/train/garlic_bread'.\n",
      "There are 0 directories and 75 images in '101_food_classes_10_percent/train/eggs_benedict'.\n",
      "There are 0 directories and 75 images in '101_food_classes_10_percent/train/beignets'.\n",
      "There are 0 directories and 75 images in '101_food_classes_10_percent/train/ramen'.\n",
      "There are 0 directories and 75 images in '101_food_classes_10_percent/train/caesar_salad'.\n",
      "There are 0 directories and 75 images in '101_food_classes_10_percent/train/paella'.\n",
      "There are 0 directories and 75 images in '101_food_classes_10_percent/train/breakfast_burrito'.\n",
      "There are 0 directories and 75 images in '101_food_classes_10_percent/train/french_fries'.\n",
      "There are 0 directories and 75 images in '101_food_classes_10_percent/train/beef_carpaccio'.\n",
      "There are 0 directories and 75 images in '101_food_classes_10_percent/train/lasagna'.\n",
      "There are 0 directories and 75 images in '101_food_classes_10_percent/train/frozen_yogurt'.\n",
      "There are 0 directories and 75 images in '101_food_classes_10_percent/train/shrimp_and_grits'.\n",
      "There are 0 directories and 75 images in '101_food_classes_10_percent/train/beet_salad'.\n",
      "There are 0 directories and 75 images in '101_food_classes_10_percent/train/beef_tartare'.\n",
      "There are 0 directories and 75 images in '101_food_classes_10_percent/train/grilled_salmon'.\n",
      "There are 0 directories and 75 images in '101_food_classes_10_percent/train/risotto'.\n",
      "There are 0 directories and 75 images in '101_food_classes_10_percent/train/spaghetti_carbonara'.\n",
      "There are 0 directories and 75 images in '101_food_classes_10_percent/train/edamame'.\n",
      "There are 0 directories and 75 images in '101_food_classes_10_percent/train/ravioli'.\n",
      "There are 0 directories and 75 images in '101_food_classes_10_percent/train/seaweed_salad'.\n",
      "There are 0 directories and 75 images in '101_food_classes_10_percent/train/miso_soup'.\n",
      "There are 0 directories and 75 images in '101_food_classes_10_percent/train/hot_dog'.\n",
      "There are 0 directories and 75 images in '101_food_classes_10_percent/train/prime_rib'.\n",
      "There are 0 directories and 75 images in '101_food_classes_10_percent/train/pulled_pork_sandwich'.\n",
      "There are 0 directories and 75 images in '101_food_classes_10_percent/train/cup_cakes'.\n",
      "There are 0 directories and 75 images in '101_food_classes_10_percent/train/chocolate_cake'.\n",
      "There are 0 directories and 75 images in '101_food_classes_10_percent/train/fried_rice'.\n",
      "There are 0 directories and 75 images in '101_food_classes_10_percent/train/gnocchi'.\n",
      "There are 0 directories and 75 images in '101_food_classes_10_percent/train/creme_brulee'.\n",
      "There are 0 directories and 75 images in '101_food_classes_10_percent/train/baklava'.\n",
      "There are 0 directories and 75 images in '101_food_classes_10_percent/train/chicken_quesadilla'.\n",
      "There are 0 directories and 75 images in '101_food_classes_10_percent/train/chicken_wings'.\n",
      "There are 0 directories and 75 images in '101_food_classes_10_percent/train/gyoza'.\n",
      "There are 0 directories and 75 images in '101_food_classes_10_percent/train/takoyaki'.\n",
      "There are 0 directories and 75 images in '101_food_classes_10_percent/train/cheesecake'.\n",
      "There are 0 directories and 75 images in '101_food_classes_10_percent/train/hamburger'.\n",
      "There are 0 directories and 75 images in '101_food_classes_10_percent/train/sashimi'.\n",
      "There are 0 directories and 75 images in '101_food_classes_10_percent/train/french_toast'.\n",
      "There are 0 directories and 75 images in '101_food_classes_10_percent/train/crab_cakes'.\n",
      "There are 0 directories and 75 images in '101_food_classes_10_percent/train/bruschetta'.\n",
      "There are 0 directories and 75 images in '101_food_classes_10_percent/train/tuna_tartare'.\n",
      "There are 0 directories and 75 images in '101_food_classes_10_percent/train/foie_gras'.\n",
      "There are 0 directories and 75 images in '101_food_classes_10_percent/train/fish_and_chips'.\n",
      "There are 0 directories and 75 images in '101_food_classes_10_percent/train/filet_mignon'.\n",
      "There are 0 directories and 75 images in '101_food_classes_10_percent/train/clam_chowder'.\n",
      "There are 0 directories and 75 images in '101_food_classes_10_percent/train/greek_salad'.\n",
      "There are 0 directories and 75 images in '101_food_classes_10_percent/train/carrot_cake'.\n",
      "There are 0 directories and 75 images in '101_food_classes_10_percent/train/french_onion_soup'.\n",
      "There are 0 directories and 75 images in '101_food_classes_10_percent/train/lobster_roll_sandwich'.\n",
      "There are 0 directories and 75 images in '101_food_classes_10_percent/train/fried_calamari'.\n",
      "There are 0 directories and 75 images in '101_food_classes_10_percent/train/poutine'.\n",
      "There are 0 directories and 75 images in '101_food_classes_10_percent/train/pork_chop'.\n",
      "There are 0 directories and 75 images in '101_food_classes_10_percent/train/waffles'.\n",
      "There are 0 directories and 75 images in '101_food_classes_10_percent/train/croque_madame'.\n",
      "There are 0 directories and 75 images in '101_food_classes_10_percent/train/cheese_plate'.\n",
      "There are 0 directories and 75 images in '101_food_classes_10_percent/train/ice_cream'.\n",
      "There are 0 directories and 75 images in '101_food_classes_10_percent/train/nachos'.\n",
      "There are 0 directories and 75 images in '101_food_classes_10_percent/train/falafel'.\n",
      "There are 0 directories and 75 images in '101_food_classes_10_percent/train/pizza'.\n",
      "There are 0 directories and 75 images in '101_food_classes_10_percent/train/pancakes'.\n",
      "There are 0 directories and 75 images in '101_food_classes_10_percent/train/macaroni_and_cheese'.\n",
      "There are 0 directories and 75 images in '101_food_classes_10_percent/train/chocolate_mousse'.\n",
      "There are 0 directories and 75 images in '101_food_classes_10_percent/train/lobster_bisque'.\n",
      "There are 0 directories and 75 images in '101_food_classes_10_percent/train/hummus'.\n",
      "There are 0 directories and 75 images in '101_food_classes_10_percent/train/red_velvet_cake'.\n",
      "There are 0 directories and 75 images in '101_food_classes_10_percent/train/churros'.\n",
      "There are 0 directories and 75 images in '101_food_classes_10_percent/train/bread_pudding'.\n",
      "There are 0 directories and 75 images in '101_food_classes_10_percent/train/strawberry_shortcake'.\n",
      "There are 0 directories and 75 images in '101_food_classes_10_percent/train/spring_rolls'.\n",
      "There are 0 directories and 75 images in '101_food_classes_10_percent/train/caprese_salad'.\n",
      "There are 0 directories and 75 images in '101_food_classes_10_percent/train/dumplings'.\n",
      "There are 0 directories and 75 images in '101_food_classes_10_percent/train/donuts'.\n",
      "There are 0 directories and 75 images in '101_food_classes_10_percent/train/chicken_curry'.\n",
      "There are 0 directories and 75 images in '101_food_classes_10_percent/train/bibimbap'.\n",
      "There are 0 directories and 75 images in '101_food_classes_10_percent/train/apple_pie'.\n",
      "There are 0 directories and 75 images in '101_food_classes_10_percent/train/tacos'.\n",
      "There are 0 directories and 75 images in '101_food_classes_10_percent/train/grilled_cheese_sandwich'.\n",
      "There are 0 directories and 75 images in '101_food_classes_10_percent/train/omelette'.\n",
      "There are 101 directories and 0 images in '101_food_classes_10_percent/test'.\n",
      "There are 0 directories and 250 images in '101_food_classes_10_percent/test/hot_and_sour_soup'.\n",
      "There are 0 directories and 250 images in '101_food_classes_10_percent/test/steak'.\n",
      "There are 0 directories and 250 images in '101_food_classes_10_percent/test/peking_duck'.\n",
      "There are 0 directories and 250 images in '101_food_classes_10_percent/test/samosa'.\n",
      "There are 0 directories and 250 images in '101_food_classes_10_percent/test/tiramisu'.\n",
      "There are 0 directories and 250 images in '101_food_classes_10_percent/test/cannoli'.\n",
      "There are 0 directories and 250 images in '101_food_classes_10_percent/test/ceviche'.\n",
      "There are 0 directories and 250 images in '101_food_classes_10_percent/test/scallops'.\n",
      "There are 0 directories and 250 images in '101_food_classes_10_percent/test/spaghetti_bolognese'.\n",
      "There are 0 directories and 250 images in '101_food_classes_10_percent/test/escargots'.\n",
      "There are 0 directories and 250 images in '101_food_classes_10_percent/test/baby_back_ribs'.\n",
      "There are 0 directories and 250 images in '101_food_classes_10_percent/test/huevos_rancheros'.\n",
      "There are 0 directories and 250 images in '101_food_classes_10_percent/test/club_sandwich'.\n",
      "There are 0 directories and 250 images in '101_food_classes_10_percent/test/sushi'.\n",
      "There are 0 directories and 250 images in '101_food_classes_10_percent/test/oysters'.\n",
      "There are 0 directories and 250 images in '101_food_classes_10_percent/test/pad_thai'.\n",
      "There are 0 directories and 250 images in '101_food_classes_10_percent/test/pho'.\n",
      "There are 0 directories and 250 images in '101_food_classes_10_percent/test/guacamole'.\n",
      "There are 0 directories and 250 images in '101_food_classes_10_percent/test/mussels'.\n",
      "There are 0 directories and 250 images in '101_food_classes_10_percent/test/deviled_eggs'.\n",
      "There are 0 directories and 250 images in '101_food_classes_10_percent/test/panna_cotta'.\n",
      "There are 0 directories and 250 images in '101_food_classes_10_percent/test/onion_rings'.\n",
      "There are 0 directories and 250 images in '101_food_classes_10_percent/test/macarons'.\n",
      "There are 0 directories and 250 images in '101_food_classes_10_percent/test/garlic_bread'.\n",
      "There are 0 directories and 250 images in '101_food_classes_10_percent/test/eggs_benedict'.\n",
      "There are 0 directories and 250 images in '101_food_classes_10_percent/test/beignets'.\n",
      "There are 0 directories and 250 images in '101_food_classes_10_percent/test/ramen'.\n",
      "There are 0 directories and 250 images in '101_food_classes_10_percent/test/caesar_salad'.\n",
      "There are 0 directories and 250 images in '101_food_classes_10_percent/test/paella'.\n",
      "There are 0 directories and 250 images in '101_food_classes_10_percent/test/breakfast_burrito'.\n",
      "There are 0 directories and 250 images in '101_food_classes_10_percent/test/french_fries'.\n",
      "There are 0 directories and 250 images in '101_food_classes_10_percent/test/beef_carpaccio'.\n",
      "There are 0 directories and 250 images in '101_food_classes_10_percent/test/lasagna'.\n",
      "There are 0 directories and 250 images in '101_food_classes_10_percent/test/frozen_yogurt'.\n",
      "There are 0 directories and 250 images in '101_food_classes_10_percent/test/shrimp_and_grits'.\n",
      "There are 0 directories and 250 images in '101_food_classes_10_percent/test/beet_salad'.\n",
      "There are 0 directories and 250 images in '101_food_classes_10_percent/test/beef_tartare'.\n",
      "There are 0 directories and 250 images in '101_food_classes_10_percent/test/grilled_salmon'.\n",
      "There are 0 directories and 250 images in '101_food_classes_10_percent/test/risotto'.\n",
      "There are 0 directories and 250 images in '101_food_classes_10_percent/test/spaghetti_carbonara'.\n",
      "There are 0 directories and 250 images in '101_food_classes_10_percent/test/edamame'.\n",
      "There are 0 directories and 250 images in '101_food_classes_10_percent/test/ravioli'.\n",
      "There are 0 directories and 250 images in '101_food_classes_10_percent/test/seaweed_salad'.\n",
      "There are 0 directories and 250 images in '101_food_classes_10_percent/test/miso_soup'.\n",
      "There are 0 directories and 250 images in '101_food_classes_10_percent/test/hot_dog'.\n",
      "There are 0 directories and 250 images in '101_food_classes_10_percent/test/prime_rib'.\n",
      "There are 0 directories and 250 images in '101_food_classes_10_percent/test/pulled_pork_sandwich'.\n",
      "There are 0 directories and 250 images in '101_food_classes_10_percent/test/cup_cakes'.\n",
      "There are 0 directories and 250 images in '101_food_classes_10_percent/test/chocolate_cake'.\n",
      "There are 0 directories and 250 images in '101_food_classes_10_percent/test/fried_rice'.\n",
      "There are 0 directories and 250 images in '101_food_classes_10_percent/test/gnocchi'.\n",
      "There are 0 directories and 250 images in '101_food_classes_10_percent/test/creme_brulee'.\n",
      "There are 0 directories and 250 images in '101_food_classes_10_percent/test/baklava'.\n",
      "There are 0 directories and 250 images in '101_food_classes_10_percent/test/chicken_quesadilla'.\n",
      "There are 0 directories and 250 images in '101_food_classes_10_percent/test/chicken_wings'.\n",
      "There are 0 directories and 250 images in '101_food_classes_10_percent/test/gyoza'.\n",
      "There are 0 directories and 250 images in '101_food_classes_10_percent/test/takoyaki'.\n",
      "There are 0 directories and 250 images in '101_food_classes_10_percent/test/cheesecake'.\n",
      "There are 0 directories and 250 images in '101_food_classes_10_percent/test/hamburger'.\n",
      "There are 0 directories and 250 images in '101_food_classes_10_percent/test/sashimi'.\n",
      "There are 0 directories and 250 images in '101_food_classes_10_percent/test/french_toast'.\n",
      "There are 0 directories and 250 images in '101_food_classes_10_percent/test/crab_cakes'.\n",
      "There are 0 directories and 250 images in '101_food_classes_10_percent/test/bruschetta'.\n",
      "There are 0 directories and 250 images in '101_food_classes_10_percent/test/tuna_tartare'.\n",
      "There are 0 directories and 250 images in '101_food_classes_10_percent/test/foie_gras'.\n",
      "There are 0 directories and 250 images in '101_food_classes_10_percent/test/fish_and_chips'.\n",
      "There are 0 directories and 250 images in '101_food_classes_10_percent/test/filet_mignon'.\n",
      "There are 0 directories and 250 images in '101_food_classes_10_percent/test/clam_chowder'.\n",
      "There are 0 directories and 250 images in '101_food_classes_10_percent/test/greek_salad'.\n",
      "There are 0 directories and 250 images in '101_food_classes_10_percent/test/carrot_cake'.\n",
      "There are 0 directories and 250 images in '101_food_classes_10_percent/test/french_onion_soup'.\n",
      "There are 0 directories and 250 images in '101_food_classes_10_percent/test/lobster_roll_sandwich'.\n",
      "There are 0 directories and 250 images in '101_food_classes_10_percent/test/fried_calamari'.\n",
      "There are 0 directories and 250 images in '101_food_classes_10_percent/test/poutine'.\n",
      "There are 0 directories and 250 images in '101_food_classes_10_percent/test/pork_chop'.\n",
      "There are 0 directories and 250 images in '101_food_classes_10_percent/test/waffles'.\n",
      "There are 0 directories and 250 images in '101_food_classes_10_percent/test/croque_madame'.\n",
      "There are 0 directories and 250 images in '101_food_classes_10_percent/test/cheese_plate'.\n",
      "There are 0 directories and 250 images in '101_food_classes_10_percent/test/ice_cream'.\n",
      "There are 0 directories and 250 images in '101_food_classes_10_percent/test/nachos'.\n",
      "There are 0 directories and 250 images in '101_food_classes_10_percent/test/falafel'.\n",
      "There are 0 directories and 250 images in '101_food_classes_10_percent/test/pizza'.\n",
      "There are 0 directories and 250 images in '101_food_classes_10_percent/test/pancakes'.\n",
      "There are 0 directories and 250 images in '101_food_classes_10_percent/test/macaroni_and_cheese'.\n",
      "There are 0 directories and 250 images in '101_food_classes_10_percent/test/chocolate_mousse'.\n",
      "There are 0 directories and 250 images in '101_food_classes_10_percent/test/lobster_bisque'.\n",
      "There are 0 directories and 250 images in '101_food_classes_10_percent/test/hummus'.\n",
      "There are 0 directories and 250 images in '101_food_classes_10_percent/test/red_velvet_cake'.\n",
      "There are 0 directories and 250 images in '101_food_classes_10_percent/test/churros'.\n",
      "There are 0 directories and 250 images in '101_food_classes_10_percent/test/bread_pudding'.\n",
      "There are 0 directories and 250 images in '101_food_classes_10_percent/test/strawberry_shortcake'.\n",
      "There are 0 directories and 250 images in '101_food_classes_10_percent/test/spring_rolls'.\n",
      "There are 0 directories and 250 images in '101_food_classes_10_percent/test/caprese_salad'.\n",
      "There are 0 directories and 250 images in '101_food_classes_10_percent/test/dumplings'.\n",
      "There are 0 directories and 250 images in '101_food_classes_10_percent/test/donuts'.\n",
      "There are 0 directories and 250 images in '101_food_classes_10_percent/test/chicken_curry'.\n",
      "There are 0 directories and 250 images in '101_food_classes_10_percent/test/bibimbap'.\n",
      "There are 0 directories and 250 images in '101_food_classes_10_percent/test/apple_pie'.\n",
      "There are 0 directories and 250 images in '101_food_classes_10_percent/test/tacos'.\n",
      "There are 0 directories and 250 images in '101_food_classes_10_percent/test/grilled_cheese_sandwich'.\n",
      "There are 0 directories and 250 images in '101_food_classes_10_percent/test/omelette'.\n"
     ]
    }
   ],
   "source": [
    "# How many images/classes are there?\n",
    "walk_through_dir(dir_path=\"101_food_classes_10_percent\")"
   ],
   "metadata": {
    "collapsed": false,
    "ExecuteTime": {
     "end_time": "2024-04-13T09:14:39.717418167Z",
     "start_time": "2024-04-13T09:14:39.667892452Z"
    }
   },
   "id": "d0845684ae5339e5",
   "execution_count": 8
  },
  {
   "cell_type": "code",
   "outputs": [],
   "source": [
    "# Args for image_dataset_from_directory\n",
    "idfd_args={\n",
    "    \"image_size\":(224, 224),\n",
    "    \"label_mode\":\"categorical\",\n",
    "    \"batch_size\":32\n",
    "}"
   ],
   "metadata": {
    "collapsed": false,
    "ExecuteTime": {
     "end_time": "2024-04-13T09:14:39.743459717Z",
     "start_time": "2024-04-13T09:14:39.691339499Z"
    }
   },
   "id": "e90ff2845baf4a9d",
   "execution_count": 9
  },
  {
   "cell_type": "code",
   "outputs": [
    {
     "name": "stdout",
     "output_type": "stream",
     "text": [
      "Found 7575 files belonging to 101 classes.\n",
      "Found 25250 files belonging to 101 classes.\n"
     ]
    }
   ],
   "source": [
    "# Setup data inputs\n",
    "train_data_all_10_percent = tf.keras.preprocessing.image_dataset_from_directory(directory=train_dir,\n",
    "                                                                                **idfd_args)\n",
    "\n",
    "test_data = tf.keras.preprocessing.image_dataset_from_directory(directory=test_dir,\n",
    "                                                                **idfd_args,\n",
    "                                                                shuffle=False) # don't shuffle test data for prediction analysis"
   ],
   "metadata": {
    "collapsed": false,
    "ExecuteTime": {
     "end_time": "2024-04-13T09:14:42.110518194Z",
     "start_time": "2024-04-13T09:14:39.695429165Z"
    }
   },
   "id": "4b1903c41f9f8d39",
   "execution_count": 10
  },
  {
   "cell_type": "markdown",
   "source": [
    "Video N°184: Outlining the model we're going to build and building a ModelCheckpoint callback"
   ],
   "metadata": {
    "collapsed": false
   },
   "id": "4b97a813775d0d98"
  },
  {
   "cell_type": "markdown",
   "source": [
    "## Train a big dog model with transfer learning on 10% of 101 food classes\n",
    "\n",
    "Here are the steps we're going to take:\n",
    "* Create a ModelCheckpoint callback\n",
    "* Create a data augmentation layer to build data augmentation right into the model\n",
    "* Build a headless (no top layers) Functional EfficientNetB0 backboned-model (we'll create our own output layer)\n",
    "* Compile our model\n",
    "* Feature extract for 5 full passes (5 epochs on the train dataset and validation on 15% of the test data, to save epoch time)"
   ],
   "metadata": {
    "collapsed": false
   },
   "id": "932933124a61cddf"
  },
  {
   "cell_type": "code",
   "outputs": [],
   "source": [
    "# Create checkpoint callback\n",
    "checkpoint_path = \"101_classes_10_percent_data_model_checkpoint.weights.h5\"\n",
    "checkpoint_callback = tf.keras.callbacks.ModelCheckpoint(filepath=checkpoint_path,\n",
    "                                                         save_weights_only=True,\n",
    "                                                         monitor='val_accuracy',\n",
    "                                                         save_best_only=True)"
   ],
   "metadata": {
    "collapsed": false,
    "ExecuteTime": {
     "end_time": "2024-04-12T17:45:33.687131971Z",
     "start_time": "2024-04-12T17:45:33.672654508Z"
    }
   },
   "id": "34dfef80c49f63bf",
   "execution_count": 8
  },
  {
   "cell_type": "markdown",
   "source": [
    "Video N°185: Creating a data augmentation layer to use with our model"
   ],
   "metadata": {
    "collapsed": false
   },
   "id": "d6e8506f2d6a2c61"
  },
  {
   "cell_type": "code",
   "outputs": [],
   "source": [
    "# Create data augmentation layer to incorporate it right into the model\n",
    "from tensorflow.keras import layers\n",
    "from tensorflow.keras.layers.experimental import preprocessing\n",
    "from tensorflow.keras.models import Sequential\n",
    "\n",
    "# Setup data augmentation\n",
    "data_augmentation = Sequential([\n",
    "    preprocessing.RandomFlip(\"horizontal\"),\n",
    "    preprocessing.RandomRotation(0.2),\n",
    "    preprocessing.RandomHeight(0.2),\n",
    "    preprocessing.RandomWidth(0.2),\n",
    "    preprocessing.RandomZoom(0.2),\n",
    "    # preprocessing.Rescaling(1./255) # rescale inputs of images to between 0 & 1, required for models like ResNet50\n",
    "], name=\"data_augmentation\")"
   ],
   "metadata": {
    "collapsed": false,
    "ExecuteTime": {
     "end_time": "2024-04-12T17:45:35.250859725Z",
     "start_time": "2024-04-12T17:45:35.219868191Z"
    }
   },
   "id": "fa7f392d5e969c75",
   "execution_count": 9
  },
  {
   "cell_type": "markdown",
   "source": [
    "Video N°186: Creating a headless EfficientNetB0 model with data augmentation built in"
   ],
   "metadata": {
    "collapsed": false
   },
   "id": "4c7957066b28eea9"
  },
  {
   "cell_type": "markdown",
   "source": [
    "Rappel:\n",
    "#159: Note: Fixes for EfficientNetB0 model creation + weight loading\n",
    "**Old:**\n",
    "```python\n",
    "base_model = tf.keras.applications.EfficientNetB0(include_top=False)\n",
    "```\n",
    "**New:**\n",
    "```python\n",
    "base_model = tf.keras.applications.efficientnet_v2.EfficientNetV2B0(include_top=False)\n",
    "```"
   ],
   "metadata": {
    "collapsed": false
   },
   "id": "4f647d36880acef9"
  },
  {
   "cell_type": "code",
   "outputs": [],
   "source": [
    "# Setup the base model and freeze its layers (this will extract features)\n",
    "base_model = tf.keras.applications.efficientnet_v2.EfficientNetV2B0(include_top=False)\n",
    "base_model.trainable = False\n",
    "\n",
    "# Setup model architecture with trainable top layers\n",
    "inputs = layers.Input(shape=(224, 224, 3), name=\"input_layer\")\n",
    "x = data_augmentation(inputs) # augment images (only happens during training phase)\n",
    "x = base_model(x, training=False) # put the base model in inference mode se weights wich need to stay frozen, stay frozen\n",
    "x = layers.GlobalAveragePooling2D(name=\"global_avg_pool_layer\")(x)\n",
    "outputs = layers.Dense(len(train_data_all_10_percent.class_names), activation=\"softmax\", name=\"output_layer\")(x)\n",
    "model = tf.keras.Model(inputs=inputs, outputs=outputs)"
   ],
   "metadata": {
    "collapsed": false,
    "ExecuteTime": {
     "end_time": "2024-04-12T17:45:41.886290919Z",
     "start_time": "2024-04-12T17:45:38.881498184Z"
    }
   },
   "id": "ca56cb63f8d13be9",
   "execution_count": 10
  },
  {
   "cell_type": "code",
   "outputs": [
    {
     "name": "stdout",
     "output_type": "stream",
     "text": [
      "Model: \"model\"\n",
      "_________________________________________________________________\n",
      " Layer (type)                Output Shape              Param #   \n",
      "=================================================================\n",
      " input_layer (InputLayer)    [(None, 224, 224, 3)]     0         \n",
      "                                                                 \n",
      " data_augmentation (Sequent  (None, None, None, 3)     0         \n",
      " ial)                                                            \n",
      "                                                                 \n",
      " efficientnetv2-b0 (Functio  (None, None, None, 1280   5919312   \n",
      " nal)                        )                                   \n",
      "                                                                 \n",
      " global_avg_pool_layer (Glo  (None, 1280)              0         \n",
      " balAveragePooling2D)                                            \n",
      "                                                                 \n",
      " output_layer (Dense)        (None, 101)               129381    \n",
      "                                                                 \n",
      "=================================================================\n",
      "Total params: 6048693 (23.07 MB)\n",
      "Trainable params: 129381 (505.39 KB)\n",
      "Non-trainable params: 5919312 (22.58 MB)\n",
      "_________________________________________________________________\n"
     ]
    }
   ],
   "source": [
    "# Get a summary of model we've created\n",
    "model.summary()"
   ],
   "metadata": {
    "collapsed": false,
    "ExecuteTime": {
     "end_time": "2024-04-12T17:45:49.017330178Z",
     "start_time": "2024-04-12T17:45:48.962746180Z"
    }
   },
   "id": "3b646e8549e737cd",
   "execution_count": 12
  },
  {
   "cell_type": "markdown",
   "source": [
    "Video N°187: Fitting and evaluating our biggest transfer learning model yet"
   ],
   "metadata": {
    "collapsed": false
   },
   "id": "871859bcd51b5283"
  },
  {
   "cell_type": "code",
   "outputs": [
    {
     "name": "stdout",
     "output_type": "stream",
     "text": [
      "Epoch 1/5\n"
     ]
    },
    {
     "name": "stderr",
     "output_type": "stream",
     "text": [
      "2024-04-12 19:45:58.266319: I external/local_xla/xla/stream_executor/cuda/cuda_dnn.cc:454] Loaded cuDNN version 8907\n",
      "2024-04-12 19:46:00.251576: I external/local_xla/xla/service/service.cc:168] XLA service 0x7fd548afdd20 initialized for platform CUDA (this does not guarantee that XLA will be used). Devices:\n",
      "2024-04-12 19:46:00.251615: I external/local_xla/xla/service/service.cc:176]   StreamExecutor device (0): NVIDIA GeForce RTX 3050, Compute Capability 8.6\n",
      "2024-04-12 19:46:00.260354: I tensorflow/compiler/mlir/tensorflow/utils/dump_mlir_util.cc:269] disabling MLIR crash reproducer, set env var `MLIR_CRASH_REPRODUCER_DIRECTORY` to enable.\n",
      "WARNING: All log messages before absl::InitializeLog() is called are written to STDERR\n",
      "I0000 00:00:1712943960.396755   36781 device_compiler.h:186] Compiled cluster using XLA!  This line is logged at most once for the lifetime of the process.\n"
     ]
    },
    {
     "name": "stdout",
     "output_type": "stream",
     "text": [
      "237/237 [==============================] - 343s 1s/step - loss: 3.5343 - accuracy: 0.2363 - val_loss: 2.6686 - val_accuracy: 0.4216\n",
      "Epoch 2/5\n",
      "237/237 [==============================] - 262s 1s/step - loss: 2.4349 - accuracy: 0.4432 - val_loss: 2.1580 - val_accuracy: 0.4950\n",
      "Epoch 3/5\n",
      "237/237 [==============================] - 225s 945ms/step - loss: 2.0435 - accuracy: 0.5180 - val_loss: 2.0294 - val_accuracy: 0.4934\n",
      "Epoch 4/5\n",
      "237/237 [==============================] - 186s 786ms/step - loss: 1.8406 - accuracy: 0.5547 - val_loss: 1.9108 - val_accuracy: 0.5233\n",
      "Epoch 5/5\n",
      "237/237 [==============================] - 172s 727ms/step - loss: 1.6869 - accuracy: 0.5864 - val_loss: 1.8678 - val_accuracy: 0.5185\n"
     ]
    }
   ],
   "source": [
    "# Compile\n",
    "model.compile(loss=\"categorical_crossentropy\",\n",
    "              optimizer=tf.keras.optimizers.Adam(),\n",
    "              metrics=[\"accuracy\"])\n",
    "\n",
    "# Fit\n",
    "history_all_classes_10_percent = model.fit(train_data_all_10_percent,\n",
    "                                           epochs=5, # fit for 5 epochs to keep experiments quick\n",
    "                                           validation_data=test_data,\n",
    "                                           validation_steps=int(0.15 * len(test_data)),\n",
    "                                           callbacks=[checkpoint_callback])"
   ],
   "metadata": {
    "collapsed": false,
    "ExecuteTime": {
     "end_time": "2024-04-12T18:05:40.720934931Z",
     "start_time": "2024-04-12T17:45:52.441381687Z"
    }
   },
   "id": "b379b5bb98a0888e",
   "execution_count": 13
  },
  {
   "cell_type": "code",
   "outputs": [
    {
     "name": "stdout",
     "output_type": "stream",
     "text": [
      "790/790 [==============================] - 43s 55ms/step - loss: 1.8266 - accuracy: 0.6088\n"
     ]
    },
    {
     "data": {
      "text/plain": "[1.8266297578811646, 0.6087524890899658]"
     },
     "execution_count": 26,
     "metadata": {},
     "output_type": "execute_result"
    }
   ],
   "source": [
    "# Evaluate on the whole test dataset\n",
    "feature_extraction_results = model.evaluate(test_data)\n",
    "feature_extraction_results"
   ],
   "metadata": {
    "collapsed": false,
    "ExecuteTime": {
     "end_time": "2024-04-12T19:42:12.559322885Z",
     "start_time": "2024-04-12T19:41:29.102346808Z"
    }
   },
   "id": "8740dbb490567fcb",
   "execution_count": 26
  },
  {
   "cell_type": "code",
   "outputs": [
    {
     "data": {
      "text/plain": "<Figure size 640x480 with 1 Axes>",
      "image/png": "[encoded data removed]"
     },
     "metadata": {},
     "output_type": "display_data"
    },
    {
     "data": {
      "text/plain": "<Figure size 640x480 with 1 Axes>",
      "image/png": "[encoded data removed]"
     },
     "metadata": {},
     "output_type": "display_data"
    }
   ],
   "source": [
    "plot_loss_curves(history=history_all_classes_10_percent)"
   ],
   "metadata": {
    "collapsed": false,
    "ExecuteTime": {
     "end_time": "2024-04-12T18:06:31.572292791Z",
     "start_time": "2024-04-12T18:06:31.139748859Z"
    }
   },
   "id": "fa0dab7dad678fb2",
   "execution_count": 15
  },
  {
   "cell_type": "markdown",
   "source": [
    "> **Question:** What do these curves suggest? Hint: ideally, the two curves should be very similar to each other, if not it may suggest that our model is overfitting (performing too well on the training data and not generalizing to unseen data)."
   ],
   "metadata": {
    "collapsed": false
   },
   "id": "6445d720e294f479"
  },
  {
   "cell_type": "markdown",
   "source": [
    "Video N°188: Unfreezing some layers in our base model to prepare for fine-tuning"
   ],
   "metadata": {
    "collapsed": false
   },
   "id": "d65f412e750ef344"
  },
  {
   "cell_type": "markdown",
   "source": [
    "## Fine-tuning"
   ],
   "metadata": {
    "collapsed": false
   },
   "id": "dc00b5743dbae403"
  },
  {
   "cell_type": "code",
   "outputs": [
    {
     "name": "stdout",
     "output_type": "stream",
     "text": [
      "Layer 1: input_layer, Trainable: True\n",
      "Layer 2: data_augmentation, Trainable: True\n",
      "Layer 3: efficientnetv2-b0, Trainable: True\n",
      "Layer 4: global_avg_pool_layer, Trainable: True\n",
      "Layer 5: output_layer, Trainable: True\n"
     ]
    }
   ],
   "source": [
    "configure_trainable_layers(model=model, n_trainable_layers=5, verbose=True)"
   ],
   "metadata": {
    "collapsed": false,
    "ExecuteTime": {
     "end_time": "2024-04-12T18:06:31.573579222Z",
     "start_time": "2024-04-12T18:06:31.548030780Z"
    }
   },
   "id": "cef9c4e35d99e409",
   "execution_count": 16
  },
  {
   "cell_type": "code",
   "outputs": [],
   "source": [
    "# Recompile model with lower learning (it's typically best practice to lower the learning rate when fine-tuning)\n",
    "model.compile(loss=\"categorical_crossentropy\",\n",
    "              optimizer=tf.keras.optimizers.Adam(learning_rate=0.0001), # learning rate lowered by 10x\n",
    "              metrics=[\"accuracy\"])"
   ],
   "metadata": {
    "collapsed": false,
    "ExecuteTime": {
     "end_time": "2024-04-12T18:06:31.574647008Z",
     "start_time": "2024-04-12T18:06:31.554526472Z"
    }
   },
   "id": "8eeab56bc213d44b",
   "execution_count": 17
  },
  {
   "cell_type": "code",
   "outputs": [
    {
     "name": "stdout",
     "output_type": "stream",
     "text": [
      "input_layer True\n",
      "data_augmentation True\n",
      "efficientnetv2-b0 True\n",
      "global_avg_pool_layer True\n",
      "output_layer True\n"
     ]
    }
   ],
   "source": [
    "# What layers in the model are trainable?\n",
    "for layer in model.layers:\n",
    "    print(layer.name, layer.trainable)"
   ],
   "metadata": {
    "collapsed": false,
    "ExecuteTime": {
     "end_time": "2024-04-12T18:06:31.663435916Z",
     "start_time": "2024-04-12T18:06:31.569066160Z"
    }
   },
   "id": "dc7337cdfaca0301",
   "execution_count": 18
  },
  {
   "cell_type": "code",
   "outputs": [
    {
     "name": "stdout",
     "output_type": "stream",
     "text": [
      "0 input_1 True\n",
      "1 rescaling True\n",
      "2 normalization True\n",
      "3 stem_conv True\n",
      "4 stem_bn True\n",
      "5 stem_activation True\n",
      "6 block1a_project_conv True\n",
      "7 block1a_project_bn True\n",
      "8 block1a_project_activation True\n",
      "9 block2a_expand_conv True\n",
      "10 block2a_expand_bn True\n",
      "11 block2a_expand_activation True\n",
      "12 block2a_project_conv True\n",
      "13 block2a_project_bn True\n",
      "14 block2b_expand_conv True\n",
      "15 block2b_expand_bn True\n",
      "16 block2b_expand_activation True\n",
      "17 block2b_project_conv True\n",
      "18 block2b_project_bn True\n",
      "19 block2b_drop True\n",
      "20 block2b_add True\n",
      "21 block3a_expand_conv True\n",
      "22 block3a_expand_bn True\n",
      "23 block3a_expand_activation True\n",
      "24 block3a_project_conv True\n",
      "25 block3a_project_bn True\n",
      "26 block3b_expand_conv True\n",
      "27 block3b_expand_bn True\n",
      "28 block3b_expand_activation True\n",
      "29 block3b_project_conv True\n",
      "30 block3b_project_bn True\n",
      "31 block3b_drop True\n",
      "32 block3b_add True\n",
      "33 block4a_expand_conv True\n",
      "34 block4a_expand_bn True\n",
      "35 block4a_expand_activation True\n",
      "36 block4a_dwconv2 True\n",
      "37 block4a_bn True\n",
      "38 block4a_activation True\n",
      "39 block4a_se_squeeze True\n",
      "40 block4a_se_reshape True\n",
      "41 block4a_se_reduce True\n",
      "42 block4a_se_expand True\n",
      "43 block4a_se_excite True\n",
      "44 block4a_project_conv True\n",
      "45 block4a_project_bn True\n",
      "46 block4b_expand_conv True\n",
      "47 block4b_expand_bn True\n",
      "48 block4b_expand_activation True\n",
      "49 block4b_dwconv2 True\n",
      "50 block4b_bn True\n",
      "51 block4b_activation True\n",
      "52 block4b_se_squeeze True\n",
      "53 block4b_se_reshape True\n",
      "54 block4b_se_reduce True\n",
      "55 block4b_se_expand True\n",
      "56 block4b_se_excite True\n",
      "57 block4b_project_conv True\n",
      "58 block4b_project_bn True\n",
      "59 block4b_drop True\n",
      "60 block4b_add True\n",
      "61 block4c_expand_conv True\n",
      "62 block4c_expand_bn True\n",
      "63 block4c_expand_activation True\n",
      "64 block4c_dwconv2 True\n",
      "65 block4c_bn True\n",
      "66 block4c_activation True\n",
      "67 block4c_se_squeeze True\n",
      "68 block4c_se_reshape True\n",
      "69 block4c_se_reduce True\n",
      "70 block4c_se_expand True\n",
      "71 block4c_se_excite True\n",
      "72 block4c_project_conv True\n",
      "73 block4c_project_bn True\n",
      "74 block4c_drop True\n",
      "75 block4c_add True\n",
      "76 block5a_expand_conv True\n",
      "77 block5a_expand_bn True\n",
      "78 block5a_expand_activation True\n",
      "79 block5a_dwconv2 True\n",
      "80 block5a_bn True\n",
      "81 block5a_activation True\n",
      "82 block5a_se_squeeze True\n",
      "83 block5a_se_reshape True\n",
      "84 block5a_se_reduce True\n",
      "85 block5a_se_expand True\n",
      "86 block5a_se_excite True\n",
      "87 block5a_project_conv True\n",
      "88 block5a_project_bn True\n",
      "89 block5b_expand_conv True\n",
      "90 block5b_expand_bn True\n",
      "91 block5b_expand_activation True\n",
      "92 block5b_dwconv2 True\n",
      "93 block5b_bn True\n",
      "94 block5b_activation True\n",
      "95 block5b_se_squeeze True\n",
      "96 block5b_se_reshape True\n",
      "97 block5b_se_reduce True\n",
      "98 block5b_se_expand True\n",
      "99 block5b_se_excite True\n",
      "100 block5b_project_conv True\n",
      "101 block5b_project_bn True\n",
      "102 block5b_drop True\n",
      "103 block5b_add True\n",
      "104 block5c_expand_conv True\n",
      "105 block5c_expand_bn True\n",
      "106 block5c_expand_activation True\n",
      "107 block5c_dwconv2 True\n",
      "108 block5c_bn True\n",
      "109 block5c_activation True\n",
      "110 block5c_se_squeeze True\n",
      "111 block5c_se_reshape True\n",
      "112 block5c_se_reduce True\n",
      "113 block5c_se_expand True\n",
      "114 block5c_se_excite True\n",
      "115 block5c_project_conv True\n",
      "116 block5c_project_bn True\n",
      "117 block5c_drop True\n",
      "118 block5c_add True\n",
      "119 block5d_expand_conv True\n",
      "120 block5d_expand_bn True\n",
      "121 block5d_expand_activation True\n",
      "122 block5d_dwconv2 True\n",
      "123 block5d_bn True\n",
      "124 block5d_activation True\n",
      "125 block5d_se_squeeze True\n",
      "126 block5d_se_reshape True\n",
      "127 block5d_se_reduce True\n",
      "128 block5d_se_expand True\n",
      "129 block5d_se_excite True\n",
      "130 block5d_project_conv True\n",
      "131 block5d_project_bn True\n",
      "132 block5d_drop True\n",
      "133 block5d_add True\n",
      "134 block5e_expand_conv True\n",
      "135 block5e_expand_bn True\n",
      "136 block5e_expand_activation True\n",
      "137 block5e_dwconv2 True\n",
      "138 block5e_bn True\n",
      "139 block5e_activation True\n",
      "140 block5e_se_squeeze True\n",
      "141 block5e_se_reshape True\n",
      "142 block5e_se_reduce True\n",
      "143 block5e_se_expand True\n",
      "144 block5e_se_excite True\n",
      "145 block5e_project_conv True\n",
      "146 block5e_project_bn True\n",
      "147 block5e_drop True\n",
      "148 block5e_add True\n",
      "149 block6a_expand_conv True\n",
      "150 block6a_expand_bn True\n",
      "151 block6a_expand_activation True\n",
      "152 block6a_dwconv2 True\n",
      "153 block6a_bn True\n",
      "154 block6a_activation True\n",
      "155 block6a_se_squeeze True\n",
      "156 block6a_se_reshape True\n",
      "157 block6a_se_reduce True\n",
      "158 block6a_se_expand True\n",
      "159 block6a_se_excite True\n",
      "160 block6a_project_conv True\n",
      "161 block6a_project_bn True\n",
      "162 block6b_expand_conv True\n",
      "163 block6b_expand_bn True\n",
      "164 block6b_expand_activation True\n",
      "165 block6b_dwconv2 True\n",
      "166 block6b_bn True\n",
      "167 block6b_activation True\n",
      "168 block6b_se_squeeze True\n",
      "169 block6b_se_reshape True\n",
      "170 block6b_se_reduce True\n",
      "171 block6b_se_expand True\n",
      "172 block6b_se_excite True\n",
      "173 block6b_project_conv True\n",
      "174 block6b_project_bn True\n",
      "175 block6b_drop True\n",
      "176 block6b_add True\n",
      "177 block6c_expand_conv True\n",
      "178 block6c_expand_bn True\n",
      "179 block6c_expand_activation True\n",
      "180 block6c_dwconv2 True\n",
      "181 block6c_bn True\n",
      "182 block6c_activation True\n",
      "183 block6c_se_squeeze True\n",
      "184 block6c_se_reshape True\n",
      "185 block6c_se_reduce True\n",
      "186 block6c_se_expand True\n",
      "187 block6c_se_excite True\n",
      "188 block6c_project_conv True\n",
      "189 block6c_project_bn True\n",
      "190 block6c_drop True\n",
      "191 block6c_add True\n",
      "192 block6d_expand_conv True\n",
      "193 block6d_expand_bn True\n",
      "194 block6d_expand_activation True\n",
      "195 block6d_dwconv2 True\n",
      "196 block6d_bn True\n",
      "197 block6d_activation True\n",
      "198 block6d_se_squeeze True\n",
      "199 block6d_se_reshape True\n",
      "200 block6d_se_reduce True\n",
      "201 block6d_se_expand True\n",
      "202 block6d_se_excite True\n",
      "203 block6d_project_conv True\n",
      "204 block6d_project_bn True\n",
      "205 block6d_drop True\n",
      "206 block6d_add True\n",
      "207 block6e_expand_conv True\n",
      "208 block6e_expand_bn True\n",
      "209 block6e_expand_activation True\n",
      "210 block6e_dwconv2 True\n",
      "211 block6e_bn True\n",
      "212 block6e_activation True\n",
      "213 block6e_se_squeeze True\n",
      "214 block6e_se_reshape True\n",
      "215 block6e_se_reduce True\n",
      "216 block6e_se_expand True\n",
      "217 block6e_se_excite True\n",
      "218 block6e_project_conv True\n",
      "219 block6e_project_bn True\n",
      "220 block6e_drop True\n",
      "221 block6e_add True\n",
      "222 block6f_expand_conv True\n",
      "223 block6f_expand_bn True\n",
      "224 block6f_expand_activation True\n",
      "225 block6f_dwconv2 True\n",
      "226 block6f_bn True\n",
      "227 block6f_activation True\n",
      "228 block6f_se_squeeze True\n",
      "229 block6f_se_reshape True\n",
      "230 block6f_se_reduce True\n",
      "231 block6f_se_expand True\n",
      "232 block6f_se_excite True\n",
      "233 block6f_project_conv True\n",
      "234 block6f_project_bn True\n",
      "235 block6f_drop True\n",
      "236 block6f_add True\n",
      "237 block6g_expand_conv True\n",
      "238 block6g_expand_bn True\n",
      "239 block6g_expand_activation True\n",
      "240 block6g_dwconv2 True\n",
      "241 block6g_bn True\n",
      "242 block6g_activation True\n",
      "243 block6g_se_squeeze True\n",
      "244 block6g_se_reshape True\n",
      "245 block6g_se_reduce True\n",
      "246 block6g_se_expand True\n",
      "247 block6g_se_excite True\n",
      "248 block6g_project_conv True\n",
      "249 block6g_project_bn True\n",
      "250 block6g_drop True\n",
      "251 block6g_add True\n",
      "252 block6h_expand_conv True\n",
      "253 block6h_expand_bn True\n",
      "254 block6h_expand_activation True\n",
      "255 block6h_dwconv2 True\n",
      "256 block6h_bn True\n",
      "257 block6h_activation True\n",
      "258 block6h_se_squeeze True\n",
      "259 block6h_se_reshape True\n",
      "260 block6h_se_reduce True\n",
      "261 block6h_se_expand True\n",
      "262 block6h_se_excite True\n",
      "263 block6h_project_conv True\n",
      "264 block6h_project_bn True\n",
      "265 block6h_drop True\n",
      "266 block6h_add True\n",
      "267 top_conv True\n",
      "268 top_bn True\n",
      "269 top_activation True\n"
     ]
    }
   ],
   "source": [
    "# Check which layers are traiable in our base model\n",
    "for layer_number, layer in enumerate(base_model.layers):\n",
    "    print(layer_number, layer.name, layer.trainable)"
   ],
   "metadata": {
    "collapsed": false,
    "ExecuteTime": {
     "end_time": "2024-04-12T18:06:31.664587447Z",
     "start_time": "2024-04-12T18:06:31.611912974Z"
    }
   },
   "id": "a05c513e4a4d70ec",
   "execution_count": 19
  },
  {
   "cell_type": "markdown",
   "source": [
    "Video N°189: Fine-tuning our feature extraction model and evaluating its performance"
   ],
   "metadata": {
    "collapsed": false
   },
   "id": "2b6ef8f01636e91f"
  },
  {
   "cell_type": "code",
   "outputs": [
    {
     "name": "stdout",
     "output_type": "stream",
     "text": [
      "Epoch 5/10\n",
      "237/237 [==============================] - 1219s 5s/step - loss: 1.3371 - accuracy: 0.6436 - val_loss: 1.6012 - val_accuracy: 0.5877\n",
      "Epoch 6/10\n",
      "237/237 [==============================] - 772s 3s/step - loss: 1.0191 - accuracy: 0.7224 - val_loss: 1.6550 - val_accuracy: 0.5697\n",
      "Epoch 7/10\n",
      "237/237 [==============================] - 599s 3s/step - loss: 0.7732 - accuracy: 0.7824 - val_loss: 1.7248 - val_accuracy: 0.5596\n",
      "Epoch 8/10\n",
      "237/237 [==============================] - 554s 2s/step - loss: 0.5527 - accuracy: 0.8395 - val_loss: 1.9618 - val_accuracy: 0.5320\n",
      "Epoch 9/10\n",
      "237/237 [==============================] - 417s 2s/step - loss: 0.4150 - accuracy: 0.8804 - val_loss: 1.9841 - val_accuracy: 0.5665\n",
      "Epoch 10/10\n",
      "237/237 [==============================] - 375s 2s/step - loss: 0.3150 - accuracy: 0.9050 - val_loss: 1.9947 - val_accuracy: 0.5726\n"
     ]
    }
   ],
   "source": [
    "# Fine-tune for 5 more epochs\n",
    "fine_tune_epochs = 10 # model has already done 5 epochs (feature extraction), this is the total number of epochs we're after (5 + 5 = 10)\n",
    "\n",
    "# Fine-tune our model\n",
    "history_all_classes_10_percent_fine_tune = model.fit(train_data_all_10_percent,\n",
    "                                                     epochs=fine_tune_epochs,\n",
    "                                                     validation_data=test_data,\n",
    "                                                     validation_steps=int(0.15 * len(test_data)),\n",
    "                                                     initial_epoch=history_all_classes_10_percent.epoch[-1])"
   ],
   "metadata": {
    "collapsed": false,
    "ExecuteTime": {
     "end_time": "2024-04-12T19:40:39.613093657Z",
     "start_time": "2024-04-12T18:35:02.725171454Z"
    }
   },
   "id": "8c5066c1327d7fc8",
   "execution_count": 23
  },
  {
   "cell_type": "code",
   "outputs": [
    {
     "name": "stdout",
     "output_type": "stream",
     "text": [
      "790/790 [==============================] - 49s 62ms/step - loss: 1.8266 - accuracy: 0.6088\n"
     ]
    },
    {
     "data": {
      "text/plain": "[1.8266297578811646, 0.6087524890899658]"
     },
     "execution_count": 24,
     "metadata": {},
     "output_type": "execute_result"
    }
   ],
   "source": [
    "# Evaluate on the whole test dataset\n",
    "all_classes_10_percent_fine_tune_results = model.evaluate(test_data)\n",
    "all_classes_10_percent_fine_tune_results"
   ],
   "metadata": {
    "collapsed": false,
    "ExecuteTime": {
     "end_time": "2024-04-12T19:41:28.820155602Z",
     "start_time": "2024-04-12T19:40:39.607725884Z"
    }
   },
   "id": "c097d973a6ee7dd1",
   "execution_count": 24
  },
  {
   "cell_type": "code",
   "outputs": [
    {
     "data": {
      "text/plain": "<Figure size 800x800 with 2 Axes>",
      "image/png": "[encoded data removed]"
     },
     "metadata": {},
     "output_type": "display_data"
    }
   ],
   "source": [
    "# Compare the histories of feature extraction model with fine-tuning model\n",
    "compare_histories(original_history=history_all_classes_10_percent,\n",
    "                  new_history=history_all_classes_10_percent_fine_tune,\n",
    "                  initial_epochs=5)"
   ],
   "metadata": {
    "collapsed": false,
    "ExecuteTime": {
     "end_time": "2024-04-12T19:41:29.099766054Z",
     "start_time": "2024-04-12T19:41:28.821489129Z"
    }
   },
   "id": "120d7b3c74eb8d4b",
   "execution_count": 25
  },
  {
   "cell_type": "markdown",
   "source": [
    "Video N°190: Saving and loading our trained model"
   ],
   "metadata": {
    "collapsed": false
   },
   "id": "43bd1d0e4d49f733"
  },
  {
   "cell_type": "markdown",
   "source": [
    "## Saving and loading our model\n",
    "\n",
    "To use our model in an external application we'll need to save it and export it somewhere."
   ],
   "metadata": {
    "collapsed": false
   },
   "id": "9859806f1fd675fa"
  },
  {
   "cell_type": "code",
   "outputs": [
    {
     "name": "stdout",
     "output_type": "stream",
     "text": [
      "INFO:tensorflow:Assets written to: 101_food_classes_10_percent_saved_big_dog_model/assets\n"
     ]
    },
    {
     "name": "stderr",
     "output_type": "stream",
     "text": [
      "INFO:tensorflow:Assets written to: 101_food_classes_10_percent_saved_big_dog_model/assets\n"
     ]
    }
   ],
   "source": [
    "# Save our fine-tuning model\n",
    "big_dog_model_name = \"101_food_classes_10_percent_saved_big_dog_model\" \n",
    "model.save(filepath=big_dog_model_name)"
   ],
   "metadata": {
    "collapsed": false,
    "ExecuteTime": {
     "end_time": "2024-04-12T19:44:46.116841411Z",
     "start_time": "2024-04-12T19:44:21.080347524Z"
    }
   },
   "id": "ce210228512c16d0",
   "execution_count": 27
  },
  {
   "cell_type": "markdown",
   "source": [
    "> 🔑 **Note:** Loading the model with the following cell will output a large amount of warnings, there is a thread tracking this issue on GitHub: https://github.com/tensorflow/tensorflow/issues/40166, however, it seems according to the TensorFlow documentation, loading warnings can be ignored: https://www.tensorflow.org/tutorials/keras/save_and_load#checkpoint_callback_usage"
   ],
   "metadata": {
    "collapsed": false
   },
   "id": "6ff8ffe8021e2c6b"
  },
  {
   "cell_type": "code",
   "outputs": [],
   "source": [
    "# Load and evaluate saved model\n",
    "loaded_model = tf.keras.models.load_model(filepath=big_dog_model_name)"
   ],
   "metadata": {
    "collapsed": false,
    "ExecuteTime": {
     "end_time": "2024-04-12T19:44:56.208891266Z",
     "start_time": "2024-04-12T19:44:46.126704987Z"
    }
   },
   "id": "415410591e9da13",
   "execution_count": 28
  },
  {
   "cell_type": "code",
   "outputs": [
    {
     "name": "stdout",
     "output_type": "stream",
     "text": [
      "790/790 [==============================] - 52s 64ms/step - loss: 1.8266 - accuracy: 0.6088\n"
     ]
    },
    {
     "data": {
      "text/plain": "[1.8266297578811646, 0.6087524890899658]"
     },
     "execution_count": 30,
     "metadata": {},
     "output_type": "execute_result"
    }
   ],
   "source": [
    "# Evaluate loaded model and compare performance to pre-saved model\n",
    "loaded_model_results = loaded_model.evaluate(test_data)\n",
    "loaded_model_results"
   ],
   "metadata": {
    "collapsed": false,
    "ExecuteTime": {
     "end_time": "2024-04-12T19:48:11.758365732Z",
     "start_time": "2024-04-12T19:47:19.793846712Z"
    }
   },
   "id": "5f16355d57e9260",
   "execution_count": 30
  },
  {
   "cell_type": "code",
   "outputs": [
    {
     "data": {
      "text/plain": "[1.8266297578811646, 0.6087524890899658]"
     },
     "execution_count": 31,
     "metadata": {},
     "output_type": "execute_result"
    }
   ],
   "source": [
    "# The results from our loaded_model (above) should be very similar to the results below\n",
    "all_classes_10_percent_fine_tune_results"
   ],
   "metadata": {
    "collapsed": false,
    "ExecuteTime": {
     "end_time": "2024-04-12T19:48:11.764721078Z",
     "start_time": "2024-04-12T19:48:11.755517560Z"
    }
   },
   "id": "8cb625885bbcc0b4",
   "execution_count": 31
  },
  {
   "cell_type": "markdown",
   "source": [
    "Video N°191: Downloading a pretrained model to make and evaluate predictions with"
   ],
   "metadata": {
    "collapsed": false
   },
   "id": "82d341a35a73dbbb"
  },
  {
   "cell_type": "markdown",
   "source": [
    "## Evaluating the performance of the big dog model across all different classes\n",
    "\n",
    "Let's make some predictions, visualize them and then later find out which predictions were the \"most\" wrong."
   ],
   "metadata": {
    "collapsed": false
   },
   "id": "1ccbe05e63baa1df"
  },
  {
   "cell_type": "code",
   "outputs": [
    {
     "name": "stdout",
     "output_type": "stream",
     "text": [
      "The file 06_101_food_class_10_percent_saved_big_dog_model.zip already exists.\n",
      "Extracting 06_101_food_class_10_percent_saved_big_dog_model.zip as ZIP...\n",
      "06_101_food_class_10_percent_saved_big_dog_model.zip has been extracted to current directory.\n"
     ]
    }
   ],
   "source": [
    "# Download pretrained model (one that was prepared earlier, so all predictions are similar)\n",
    "url = \"https://storage.googleapis.com/ztm_tf_course/food_vision/06_101_food_class_10_percent_saved_big_dog_model.zip\"\n",
    "download_data(url=url, file_path=\"06_101_food_class_10_percent_saved_big_dog_model.zip\", extract=True)"
   ],
   "metadata": {
    "collapsed": false,
    "ExecuteTime": {
     "end_time": "2024-04-13T09:03:38.927861003Z",
     "start_time": "2024-04-13T09:03:38.545103201Z"
    }
   },
   "id": "e0d15502585e3220",
   "execution_count": 4
  },
  {
   "cell_type": "code",
   "outputs": [
    {
     "name": "stdout",
     "output_type": "stream",
     "text": [
      "WARNING:tensorflow:SavedModel saved prior to TF 2.5 detected when loading Keras model. Please ensure that you are saving the model with model.save() or tf.keras.models.save_model(), *NOT* tf.saved_model.save(). To confirm, there should be a file named \"keras_metadata.pb\" in the SavedModel directory.\n"
     ]
    },
    {
     "name": "stderr",
     "output_type": "stream",
     "text": [
      "WARNING:absl:Importing a function (__inference_block6c_expand_activation_layer_call_and_return_conditional_losses_419470) with ops with unsaved custom gradients. Will likely fail if a gradient is requested.\n",
      "WARNING:absl:Importing a function (__inference_efficientnetb0_layer_call_and_return_conditional_losses_446460) with ops with unsaved custom gradients. Will likely fail if a gradient is requested.\n",
      "WARNING:absl:Importing a function (__inference_block2a_activation_layer_call_and_return_conditional_losses_450449) with ops with unsaved custom gradients. Will likely fail if a gradient is requested.\n",
      "WARNING:absl:Importing a function (__inference_block2a_expand_activation_layer_call_and_return_conditional_losses_415747) with ops with unsaved custom gradients. Will likely fail if a gradient is requested.\n",
      "WARNING:absl:Importing a function (__inference_block2b_activation_layer_call_and_return_conditional_losses_416083) with ops with unsaved custom gradients. Will likely fail if a gradient is requested.\n",
      "WARNING:absl:Importing a function (__inference_block2b_activation_layer_call_and_return_conditional_losses_450775) with ops with unsaved custom gradients. Will likely fail if a gradient is requested.\n",
      "WARNING:absl:Importing a function (__inference_block4a_activation_layer_call_and_return_conditional_losses_451847) with ops with unsaved custom gradients. Will likely fail if a gradient is requested.\n",
      "WARNING:absl:Importing a function (__inference_block5a_expand_activation_layer_call_and_return_conditional_losses_417915) with ops with unsaved custom gradients. Will likely fail if a gradient is requested.\n",
      "WARNING:absl:Importing a function (__inference_block4a_se_reduce_layer_call_and_return_conditional_losses_451887) with ops with unsaved custom gradients. Will likely fail if a gradient is requested.\n",
      "WARNING:absl:Importing a function (__inference_block4c_expand_activation_layer_call_and_return_conditional_losses_452467) with ops with unsaved custom gradients. Will likely fail if a gradient is requested.\n",
      "WARNING:absl:Importing a function (__inference_functional_17_layer_call_and_return_conditional_losses_438312) with ops with unsaved custom gradients. Will likely fail if a gradient is requested.\n",
      "WARNING:absl:Importing a function (__inference_block4c_expand_activation_layer_call_and_return_conditional_losses_417583) with ops with unsaved custom gradients. Will likely fail if a gradient is requested.\n",
      "WARNING:absl:Importing a function (__inference_block5c_activation_layer_call_and_return_conditional_losses_418582) with ops with unsaved custom gradients. Will likely fail if a gradient is requested.\n",
      "WARNING:absl:Importing a function (__inference_block6a_se_reduce_layer_call_and_return_conditional_losses_454031) with ops with unsaved custom gradients. Will likely fail if a gradient is requested.\n",
      "WARNING:absl:Importing a function (__inference_block7a_activation_layer_call_and_return_conditional_losses_455436) with ops with unsaved custom gradients. Will likely fail if a gradient is requested.\n",
      "WARNING:absl:Importing a function (__inference_block1a_activation_layer_call_and_return_conditional_losses_415524) with ops with unsaved custom gradients. Will likely fail if a gradient is requested.\n",
      "WARNING:absl:Importing a function (__inference_block3b_activation_layer_call_and_return_conditional_losses_451474) with ops with unsaved custom gradients. Will likely fail if a gradient is requested.\n",
      "WARNING:absl:Importing a function (__inference_block4a_expand_activation_layer_call_and_return_conditional_losses_451768) with ops with unsaved custom gradients. Will likely fail if a gradient is requested.\n",
      "WARNING:absl:Importing a function (__inference_efficientnetb0_layer_call_and_return_conditional_losses_441729) with ops with unsaved custom gradients. Will likely fail if a gradient is requested.\n",
      "WARNING:absl:Importing a function (__inference_block6b_se_reduce_layer_call_and_return_conditional_losses_454357) with ops with unsaved custom gradients. Will likely fail if a gradient is requested.\n",
      "WARNING:absl:Importing a function (__inference_block3b_activation_layer_call_and_return_conditional_losses_416695) with ops with unsaved custom gradients. Will likely fail if a gradient is requested.\n",
      "WARNING:absl:Importing a function (__inference_block6b_expand_activation_layer_call_and_return_conditional_losses_454238) with ops with unsaved custom gradients. Will likely fail if a gradient is requested.\n",
      "WARNING:absl:Importing a function (__inference_functional_17_layer_call_and_return_conditional_losses_436681) with ops with unsaved custom gradients. Will likely fail if a gradient is requested.\n",
      "WARNING:absl:Importing a function (__inference_block2a_activation_layer_call_and_return_conditional_losses_415804) with ops with unsaved custom gradients. Will likely fail if a gradient is requested.\n",
      "WARNING:absl:Importing a function (__inference_block5a_activation_layer_call_and_return_conditional_losses_452919) with ops with unsaved custom gradients. Will likely fail if a gradient is requested.\n",
      "WARNING:absl:Importing a function (__inference_block5c_se_reduce_layer_call_and_return_conditional_losses_453658) with ops with unsaved custom gradients. Will likely fail if a gradient is requested.\n",
      "WARNING:absl:Importing a function (__inference_efficientnetb0_layer_call_and_return_conditional_losses_448082) with ops with unsaved custom gradients. Will likely fail if a gradient is requested.\n",
      "WARNING:absl:Importing a function (__inference_block6a_activation_layer_call_and_return_conditional_losses_418915) with ops with unsaved custom gradients. Will likely fail if a gradient is requested.\n",
      "WARNING:absl:Importing a function (__inference_block5c_expand_activation_layer_call_and_return_conditional_losses_453539) with ops with unsaved custom gradients. Will likely fail if a gradient is requested.\n",
      "WARNING:absl:Importing a function (__inference_block4c_se_reduce_layer_call_and_return_conditional_losses_452586) with ops with unsaved custom gradients. Will likely fail if a gradient is requested.\n",
      "WARNING:absl:Importing a function (__inference_block1a_se_reduce_layer_call_and_return_conditional_losses_450163) with ops with unsaved custom gradients. Will likely fail if a gradient is requested.\n",
      "WARNING:absl:Importing a function (__inference_block5a_se_reduce_layer_call_and_return_conditional_losses_418018) with ops with unsaved custom gradients. Will likely fail if a gradient is requested.\n",
      "WARNING:absl:Importing a function (__inference_block7a_expand_activation_layer_call_and_return_conditional_losses_455357) with ops with unsaved custom gradients. Will likely fail if a gradient is requested.\n",
      "WARNING:absl:Importing a function (__inference_block4c_activation_layer_call_and_return_conditional_losses_417639) with ops with unsaved custom gradients. Will likely fail if a gradient is requested.\n",
      "WARNING:absl:Importing a function (__inference_block3a_se_reduce_layer_call_and_return_conditional_losses_451188) with ops with unsaved custom gradients. Will likely fail if a gradient is requested.\n",
      "WARNING:absl:Importing a function (__inference_block7a_activation_layer_call_and_return_conditional_losses_420190) with ops with unsaved custom gradients. Will likely fail if a gradient is requested.\n",
      "WARNING:absl:Importing a function (__inference_stem_activation_layer_call_and_return_conditional_losses_415468) with ops with unsaved custom gradients. Will likely fail if a gradient is requested.\n",
      "WARNING:absl:Importing a function (__inference_block7a_se_reduce_layer_call_and_return_conditional_losses_455476) with ops with unsaved custom gradients. Will likely fail if a gradient is requested.\n",
      "WARNING:absl:Importing a function (__inference_block4b_se_reduce_layer_call_and_return_conditional_losses_417354) with ops with unsaved custom gradients. Will likely fail if a gradient is requested.\n",
      "WARNING:absl:Importing a function (__inference_block4b_se_reduce_layer_call_and_return_conditional_losses_452213) with ops with unsaved custom gradients. Will likely fail if a gradient is requested.\n",
      "WARNING:absl:Importing a function (__inference_block4b_activation_layer_call_and_return_conditional_losses_452173) with ops with unsaved custom gradients. Will likely fail if a gradient is requested.\n",
      "WARNING:absl:Importing a function (__inference_block1a_se_reduce_layer_call_and_return_conditional_losses_415571) with ops with unsaved custom gradients. Will likely fail if a gradient is requested.\n",
      "WARNING:absl:Importing a function (__inference_block3b_se_reduce_layer_call_and_return_conditional_losses_451514) with ops with unsaved custom gradients. Will likely fail if a gradient is requested.\n",
      "WARNING:absl:Importing a function (__inference_block5a_activation_layer_call_and_return_conditional_losses_417971) with ops with unsaved custom gradients. Will likely fail if a gradient is requested.\n",
      "WARNING:absl:Importing a function (__inference_block6c_se_reduce_layer_call_and_return_conditional_losses_454730) with ops with unsaved custom gradients. Will likely fail if a gradient is requested.\n",
      "WARNING:absl:Importing a function (__inference_block3b_se_reduce_layer_call_and_return_conditional_losses_416742) with ops with unsaved custom gradients. Will likely fail if a gradient is requested.\n",
      "WARNING:absl:Importing a function (__inference_block2a_se_reduce_layer_call_and_return_conditional_losses_450489) with ops with unsaved custom gradients. Will likely fail if a gradient is requested.\n",
      "WARNING:absl:Importing a function (__inference_block3a_activation_layer_call_and_return_conditional_losses_451148) with ops with unsaved custom gradients. Will likely fail if a gradient is requested.\n",
      "WARNING:absl:Importing a function (__inference_block5b_expand_activation_layer_call_and_return_conditional_losses_418194) with ops with unsaved custom gradients. Will likely fail if a gradient is requested.\n",
      "WARNING:absl:Importing a function (__inference_block3a_se_reduce_layer_call_and_return_conditional_losses_416463) with ops with unsaved custom gradients. Will likely fail if a gradient is requested.\n",
      "WARNING:absl:Importing a function (__inference_efficientnetb0_layer_call_and_return_conditional_losses_429711) with ops with unsaved custom gradients. Will likely fail if a gradient is requested.\n",
      "WARNING:absl:Importing a function (__inference_efficientnetb0_layer_call_and_return_conditional_losses_443351) with ops with unsaved custom gradients. Will likely fail if a gradient is requested.\n",
      "WARNING:absl:Importing a function (__inference_block5c_expand_activation_layer_call_and_return_conditional_losses_418526) with ops with unsaved custom gradients. Will likely fail if a gradient is requested.\n",
      "WARNING:absl:Importing a function (__inference_block5b_activation_layer_call_and_return_conditional_losses_453245) with ops with unsaved custom gradients. Will likely fail if a gradient is requested.\n",
      "WARNING:absl:Importing a function (__inference_block3a_activation_layer_call_and_return_conditional_losses_416416) with ops with unsaved custom gradients. Will likely fail if a gradient is requested.\n",
      "WARNING:absl:Importing a function (__inference_efficientnetb0_layer_call_and_return_conditional_losses_428089) with ops with unsaved custom gradients. Will likely fail if a gradient is requested.\n",
      "WARNING:absl:Importing a function (__inference_block2b_expand_activation_layer_call_and_return_conditional_losses_416027) with ops with unsaved custom gradients. Will likely fail if a gradient is requested.\n",
      "WARNING:absl:Importing a function (__inference_block6a_expand_activation_layer_call_and_return_conditional_losses_453912) with ops with unsaved custom gradients. Will likely fail if a gradient is requested.\n",
      "WARNING:absl:Importing a function (__inference_block4c_activation_layer_call_and_return_conditional_losses_452546) with ops with unsaved custom gradients. Will likely fail if a gradient is requested.\n",
      "WARNING:absl:Importing a function (__inference_block7a_se_reduce_layer_call_and_return_conditional_losses_420237) with ops with unsaved custom gradients. Will likely fail if a gradient is requested.\n",
      "WARNING:absl:Importing a function (__inference_block5c_se_reduce_layer_call_and_return_conditional_losses_418629) with ops with unsaved custom gradients. Will likely fail if a gradient is requested.\n",
      "WARNING:absl:Importing a function (__inference_block3a_expand_activation_layer_call_and_return_conditional_losses_416359) with ops with unsaved custom gradients. Will likely fail if a gradient is requested.\n",
      "WARNING:absl:Importing a function (__inference_block3b_expand_activation_layer_call_and_return_conditional_losses_451395) with ops with unsaved custom gradients. Will likely fail if a gradient is requested.\n",
      "WARNING:absl:Importing a function (__inference_block6c_activation_layer_call_and_return_conditional_losses_454690) with ops with unsaved custom gradients. Will likely fail if a gradient is requested.\n",
      "WARNING:absl:Importing a function (__inference_block6d_se_reduce_layer_call_and_return_conditional_losses_419905) with ops with unsaved custom gradients. Will likely fail if a gradient is requested.\n",
      "WARNING:absl:Importing a function (__inference_block6c_activation_layer_call_and_return_conditional_losses_419526) with ops with unsaved custom gradients. Will likely fail if a gradient is requested.\n",
      "WARNING:absl:Importing a function (__inference_block5b_se_reduce_layer_call_and_return_conditional_losses_418297) with ops with unsaved custom gradients. Will likely fail if a gradient is requested.\n",
      "WARNING:absl:Importing a function (__inference_block4b_expand_activation_layer_call_and_return_conditional_losses_452094) with ops with unsaved custom gradients. Will likely fail if a gradient is requested.\n",
      "WARNING:absl:Importing a function (__inference__wrapped_model_408990) with ops with unsaved custom gradients. Will likely fail if a gradient is requested.\n",
      "WARNING:absl:Importing a function (__inference_block5c_activation_layer_call_and_return_conditional_losses_453618) with ops with unsaved custom gradients. Will likely fail if a gradient is requested.\n",
      "WARNING:absl:Importing a function (__inference_block6d_expand_activation_layer_call_and_return_conditional_losses_454984) with ops with unsaved custom gradients. Will likely fail if a gradient is requested.\n",
      "WARNING:absl:Importing a function (__inference_block2b_expand_activation_layer_call_and_return_conditional_losses_450696) with ops with unsaved custom gradients. Will likely fail if a gradient is requested.\n",
      "WARNING:absl:Importing a function (__inference_block6a_expand_activation_layer_call_and_return_conditional_losses_418858) with ops with unsaved custom gradients. Will likely fail if a gradient is requested.\n",
      "WARNING:absl:Importing a function (__inference_stem_activation_layer_call_and_return_conditional_losses_450044) with ops with unsaved custom gradients. Will likely fail if a gradient is requested.\n",
      "WARNING:absl:Importing a function (__inference_block5b_activation_layer_call_and_return_conditional_losses_418250) with ops with unsaved custom gradients. Will likely fail if a gradient is requested.\n",
      "WARNING:absl:Importing a function (__inference_block6a_activation_layer_call_and_return_conditional_losses_453991) with ops with unsaved custom gradients. Will likely fail if a gradient is requested.\n",
      "WARNING:absl:Importing a function (__inference_block5b_se_reduce_layer_call_and_return_conditional_losses_453285) with ops with unsaved custom gradients. Will likely fail if a gradient is requested.\n",
      "WARNING:absl:Importing a function (__inference_block4a_expand_activation_layer_call_and_return_conditional_losses_416971) with ops with unsaved custom gradients. Will likely fail if a gradient is requested.\n",
      "WARNING:absl:Importing a function (__inference_top_activation_layer_call_and_return_conditional_losses_455683) with ops with unsaved custom gradients. Will likely fail if a gradient is requested.\n",
      "WARNING:absl:Importing a function (__inference_block2a_se_reduce_layer_call_and_return_conditional_losses_415851) with ops with unsaved custom gradients. Will likely fail if a gradient is requested.\n",
      "WARNING:absl:Importing a function (__inference_block5b_expand_activation_layer_call_and_return_conditional_losses_453166) with ops with unsaved custom gradients. Will likely fail if a gradient is requested.\n",
      "WARNING:absl:Importing a function (__inference_top_activation_layer_call_and_return_conditional_losses_420413) with ops with unsaved custom gradients. Will likely fail if a gradient is requested.\n",
      "WARNING:absl:Importing a function (__inference_block1a_activation_layer_call_and_return_conditional_losses_450123) with ops with unsaved custom gradients. Will likely fail if a gradient is requested.\n",
      "WARNING:absl:Importing a function (__inference_block4a_se_reduce_layer_call_and_return_conditional_losses_417075) with ops with unsaved custom gradients. Will likely fail if a gradient is requested.\n",
      "WARNING:absl:Importing a function (__inference_block5a_expand_activation_layer_call_and_return_conditional_losses_452840) with ops with unsaved custom gradients. Will likely fail if a gradient is requested.\n",
      "WARNING:absl:Importing a function (__inference_block4b_activation_layer_call_and_return_conditional_losses_417307) with ops with unsaved custom gradients. Will likely fail if a gradient is requested.\n",
      "WARNING:absl:Importing a function (__inference_block6d_activation_layer_call_and_return_conditional_losses_455063) with ops with unsaved custom gradients. Will likely fail if a gradient is requested.\n",
      "WARNING:absl:Importing a function (__inference_block6d_expand_activation_layer_call_and_return_conditional_losses_419802) with ops with unsaved custom gradients. Will likely fail if a gradient is requested.\n",
      "WARNING:absl:Importing a function (__inference_block6d_activation_layer_call_and_return_conditional_losses_419858) with ops with unsaved custom gradients. Will likely fail if a gradient is requested.\n",
      "WARNING:absl:Importing a function (__inference_block5a_se_reduce_layer_call_and_return_conditional_losses_452959) with ops with unsaved custom gradients. Will likely fail if a gradient is requested.\n",
      "WARNING:absl:Importing a function (__inference_block3a_expand_activation_layer_call_and_return_conditional_losses_451069) with ops with unsaved custom gradients. Will likely fail if a gradient is requested.\n",
      "WARNING:absl:Importing a function (__inference_block2a_expand_activation_layer_call_and_return_conditional_losses_450370) with ops with unsaved custom gradients. Will likely fail if a gradient is requested.\n",
      "WARNING:absl:Importing a function (__inference_block6b_expand_activation_layer_call_and_return_conditional_losses_419138) with ops with unsaved custom gradients. Will likely fail if a gradient is requested.\n",
      "WARNING:absl:Importing a function (__inference_block6b_activation_layer_call_and_return_conditional_losses_419194) with ops with unsaved custom gradients. Will likely fail if a gradient is requested.\n",
      "WARNING:absl:Importing a function (__inference_block6c_se_reduce_layer_call_and_return_conditional_losses_419573) with ops with unsaved custom gradients. Will likely fail if a gradient is requested.\n",
      "WARNING:absl:Importing a function (__inference_block7a_expand_activation_layer_call_and_return_conditional_losses_420134) with ops with unsaved custom gradients. Will likely fail if a gradient is requested.\n",
      "WARNING:absl:Importing a function (__inference_block4a_activation_layer_call_and_return_conditional_losses_417028) with ops with unsaved custom gradients. Will likely fail if a gradient is requested.\n",
      "WARNING:absl:Importing a function (__inference_block6c_expand_activation_layer_call_and_return_conditional_losses_454611) with ops with unsaved custom gradients. Will likely fail if a gradient is requested.\n",
      "WARNING:absl:Importing a function (__inference_block3b_expand_activation_layer_call_and_return_conditional_losses_416639) with ops with unsaved custom gradients. Will likely fail if a gradient is requested.\n",
      "WARNING:absl:Importing a function (__inference_block4c_se_reduce_layer_call_and_return_conditional_losses_417686) with ops with unsaved custom gradients. Will likely fail if a gradient is requested.\n",
      "WARNING:absl:Importing a function (__inference_block4b_expand_activation_layer_call_and_return_conditional_losses_417251) with ops with unsaved custom gradients. Will likely fail if a gradient is requested.\n",
      "WARNING:absl:Importing a function (__inference_block6d_se_reduce_layer_call_and_return_conditional_losses_455103) with ops with unsaved custom gradients. Will likely fail if a gradient is requested.\n",
      "WARNING:absl:Importing a function (__inference_block2b_se_reduce_layer_call_and_return_conditional_losses_450815) with ops with unsaved custom gradients. Will likely fail if a gradient is requested.\n",
      "WARNING:absl:Importing a function (__inference_block2b_se_reduce_layer_call_and_return_conditional_losses_416130) with ops with unsaved custom gradients. Will likely fail if a gradient is requested.\n",
      "WARNING:absl:Importing a function (__inference_block6b_activation_layer_call_and_return_conditional_losses_454317) with ops with unsaved custom gradients. Will likely fail if a gradient is requested.\n",
      "WARNING:absl:Importing a function (__inference_block6a_se_reduce_layer_call_and_return_conditional_losses_418962) with ops with unsaved custom gradients. Will likely fail if a gradient is requested.\n",
      "WARNING:absl:Importing a function (__inference_block6b_se_reduce_layer_call_and_return_conditional_losses_419241) with ops with unsaved custom gradients. Will likely fail if a gradient is requested.\n"
     ]
    }
   ],
   "source": [
    "# Load in saved model\n",
    "model = tf.keras.models.load_model(\"06_101_food_class_10_percent_saved_big_dog_model\")"
   ],
   "metadata": {
    "collapsed": false,
    "ExecuteTime": {
     "end_time": "2024-04-13T09:05:28.183977746Z",
     "start_time": "2024-04-13T09:05:17.948907561Z"
    }
   },
   "id": "b112713b15822087",
   "execution_count": 5
  },
  {
   "cell_type": "code",
   "outputs": [
    {
     "name": "stderr",
     "output_type": "stream",
     "text": [
      "2024-04-13 11:14:55.293050: I external/local_xla/xla/stream_executor/cuda/cuda_dnn.cc:454] Loaded cuDNN version 8907\n"
     ]
    },
    {
     "name": "stdout",
     "output_type": "stream",
     "text": [
      "790/790 [==============================] - 64s 78ms/step - loss: 1.8027 - accuracy: 0.6078\n"
     ]
    },
    {
     "data": {
      "text/plain": "[1.802719235420227, 0.6077623963356018]"
     },
     "execution_count": 11,
     "metadata": {},
     "output_type": "execute_result"
    }
   ],
   "source": [
    "# Evaluate loaded model (the one we just downloaded on test data)\n",
    "results_downloaded_model = model.evaluate(test_data)\n",
    "results_downloaded_model"
   ],
   "metadata": {
    "collapsed": false,
    "ExecuteTime": {
     "end_time": "2024-04-13T09:15:57.713206716Z",
     "start_time": "2024-04-13T09:14:53.673622131Z"
    }
   },
   "id": "aca376d1e0fe7c73",
   "execution_count": 11
  },
  {
   "cell_type": "markdown",
   "source": [
    "Video N°192: Making predictions with our trained model on 25250 test  samples"
   ],
   "metadata": {
    "collapsed": false
   },
   "id": "79551b8ab2798bb9"
  },
  {
   "cell_type": "markdown",
   "source": [
    "## Making predictions with our trained model"
   ],
   "metadata": {
    "collapsed": false
   },
   "id": "8ae3e11b03df4bcc"
  },
  {
   "cell_type": "code",
   "outputs": [
    {
     "name": "stdout",
     "output_type": "stream",
     "text": [
      "790/790 [==============================] - 60s 75ms/step\n"
     ]
    },
    {
     "data": {
      "text/plain": "array([[5.9542075e-02, 3.5742519e-06, 4.1377105e-02, ..., 1.4138838e-09,\n        8.3531369e-05, 3.0897786e-03],\n       [9.6401703e-01, 1.3753144e-09, 8.4778655e-04, ..., 5.4285505e-05,\n        7.8361935e-12, 9.8465291e-10],\n       [9.5925927e-01, 3.2534070e-05, 1.4866914e-03, ..., 7.1889457e-07,\n        5.4399629e-07, 4.0275565e-05],\n       ...,\n       [1.5138710e-05, 4.0972949e-04, 8.0249551e-10, ..., 2.1742768e-05,\n        1.0797297e-05, 5.3789866e-01],\n       [5.9318044e-03, 4.9236827e-03, 9.9822693e-03, ..., 1.1989535e-04,\n        1.6890313e-05, 4.5218010e-02],\n       [3.1363595e-02, 7.5052613e-03, 4.2974955e-04, ..., 5.0346559e-04,\n        5.2056807e-06, 6.9062763e-01]], dtype=float32)"
     },
     "execution_count": 12,
     "metadata": {},
     "output_type": "execute_result"
    }
   ],
   "source": [
    "# Make predictions with model\n",
    "# NB: test_data must be the same format as the one used to train the model. Example (224, 224, 3)\n",
    "preds_probs = model.predict(test_data, verbose=1) # set verbosity to see how long is left\n",
    "preds_probs"
   ],
   "metadata": {
    "collapsed": false,
    "ExecuteTime": {
     "end_time": "2024-04-13T09:26:07.626998559Z",
     "start_time": "2024-04-13T09:25:06.771567763Z"
    }
   },
   "id": "dd77d9c2eade8cb3",
   "execution_count": 12
  },
  {
   "cell_type": "code",
   "outputs": [
    {
     "data": {
      "text/plain": "790"
     },
     "execution_count": 13,
     "metadata": {},
     "output_type": "execute_result"
    }
   ],
   "source": [
    "len(test_data)"
   ],
   "metadata": {
    "collapsed": false,
    "ExecuteTime": {
     "end_time": "2024-04-13T09:26:45.306887485Z",
     "start_time": "2024-04-13T09:26:45.260748298Z"
    }
   },
   "id": "e8c8fe456fd71c78",
   "execution_count": 13
  },
  {
   "cell_type": "code",
   "outputs": [
    {
     "data": {
      "text/plain": "25250"
     },
     "execution_count": 14,
     "metadata": {},
     "output_type": "execute_result"
    }
   ],
   "source": [
    "# How many predictions are there?\n",
    "len(preds_probs)"
   ],
   "metadata": {
    "collapsed": false,
    "ExecuteTime": {
     "end_time": "2024-04-13T09:27:22.029598735Z",
     "start_time": "2024-04-13T09:27:21.985735134Z"
    }
   },
   "id": "80c4fa4fd9500651",
   "execution_count": 14
  },
  {
   "cell_type": "code",
   "outputs": [
    {
     "data": {
      "text/plain": "(25250, 101)"
     },
     "execution_count": 15,
     "metadata": {},
     "output_type": "execute_result"
    }
   ],
   "source": [
    "# What's the shape of our predictions?\n",
    "preds_probs.shape"
   ],
   "metadata": {
    "collapsed": false,
    "ExecuteTime": {
     "end_time": "2024-04-13T09:28:20.013243541Z",
     "start_time": "2024-04-13T09:28:19.977568938Z"
    }
   },
   "id": "a18e284f20026586",
   "execution_count": 15
  },
  {
   "cell_type": "code",
   "outputs": [
    {
     "data": {
      "text/plain": "array([[5.9542075e-02, 3.5742519e-06, 4.1377105e-02, ..., 1.4138838e-09,\n        8.3531369e-05, 3.0897786e-03],\n       [9.6401703e-01, 1.3753144e-09, 8.4778655e-04, ..., 5.4285505e-05,\n        7.8361935e-12, 9.8465291e-10],\n       [9.5925927e-01, 3.2534070e-05, 1.4866914e-03, ..., 7.1889457e-07,\n        5.4399629e-07, 4.0275565e-05],\n       ...,\n       [4.7313046e-01, 1.2931298e-07, 1.4805519e-03, ..., 5.9749861e-04,\n        6.6969042e-05, 2.3469616e-05],\n       [4.4572026e-02, 4.7265883e-07, 1.2258436e-01, ..., 6.3498255e-06,\n        7.5319513e-06, 3.6778969e-03],\n       [7.2438651e-01, 1.9249835e-09, 5.2311112e-05, ..., 1.2291525e-03,\n        1.5792978e-09, 9.6396252e-05]], dtype=float32)"
     },
     "execution_count": 16,
     "metadata": {},
     "output_type": "execute_result"
    }
   ],
   "source": [
    "# Let's see what the first 10 predictions look like\n",
    "preds_probs[:10]"
   ],
   "metadata": {
    "collapsed": false,
    "ExecuteTime": {
     "end_time": "2024-04-13T09:29:53.370380711Z",
     "start_time": "2024-04-13T09:29:53.310128774Z"
    }
   },
   "id": "3e72d0b0aa897a0f",
   "execution_count": 16
  },
  {
   "cell_type": "code",
   "outputs": [
    {
     "data": {
      "text/plain": "array([5.9542075e-02, 3.5742519e-06, 4.1377105e-02, 1.0660675e-09,\n       8.1614733e-09, 8.6640455e-09, 8.0927953e-07, 8.5652562e-07,\n       1.9859333e-05, 8.0978435e-07, 3.1727978e-09, 9.8674286e-07,\n       2.8532467e-04, 7.8050066e-10, 7.4230676e-04, 3.8916518e-05,\n       6.4741098e-06, 2.4977680e-06, 3.7891088e-05, 2.0678442e-07,\n       1.5538551e-05, 8.1508250e-07, 2.6230564e-06, 2.0010719e-07,\n       8.3828002e-07, 5.4216125e-06, 3.7391171e-06, 1.3150555e-08,\n       2.7761464e-03, 2.8052071e-05, 6.8562794e-10, 2.5574898e-05,\n       1.6689053e-04, 7.6408008e-10, 4.0453312e-04, 1.3150755e-08,\n       1.7957562e-06, 1.4448336e-06, 2.3062818e-02, 8.2467471e-07,\n       8.5365667e-07, 1.7138624e-06, 7.0525689e-06, 1.8402268e-08,\n       2.8553313e-07, 7.9485108e-06, 2.0681648e-06, 1.8525253e-07,\n       3.3620083e-08, 3.1522411e-04, 1.0410940e-05, 8.5448261e-07,\n       8.4741843e-01, 1.0555443e-05, 4.4094534e-07, 3.7404097e-05,\n       3.5306184e-05, 3.2489246e-05, 6.7315115e-05, 1.2852638e-08,\n       2.6219701e-10, 1.0318226e-05, 8.5743530e-05, 1.0569984e-06,\n       2.1293590e-06, 3.7637543e-05, 7.5972991e-08, 2.5340726e-04,\n       9.2904952e-07, 1.2598254e-04, 6.2621048e-06, 1.2458629e-08,\n       4.0519913e-05, 6.8729143e-08, 1.2546398e-06, 5.2887479e-08,\n       7.5424907e-08, 7.5398842e-05, 7.7540128e-05, 6.4026119e-07,\n       9.9032718e-07, 2.2225835e-05, 1.5013988e-05, 1.4038673e-07,\n       1.2232553e-05, 1.9044790e-02, 4.9999733e-05, 4.6226655e-06,\n       1.5388265e-07, 3.3824060e-07, 3.9228247e-09, 1.6563607e-07,\n       8.1321363e-05, 4.8965430e-06, 2.4068575e-07, 2.3124263e-05,\n       3.1040597e-04, 3.1379815e-05, 1.4138838e-09, 8.3531369e-05,\n       3.0897786e-03], dtype=float32)"
     },
     "execution_count": 19,
     "metadata": {},
     "output_type": "execute_result"
    }
   ],
   "source": [
    "# What does the first prediction probability array look like?\n",
    "preds_probs[0]"
   ],
   "metadata": {
    "collapsed": false,
    "ExecuteTime": {
     "end_time": "2024-04-13T09:31:43.352197811Z",
     "start_time": "2024-04-13T09:31:43.287688538Z"
    }
   },
   "id": "a1092acb911aa446",
   "execution_count": 19
  },
  {
   "cell_type": "code",
   "outputs": [
    {
     "data": {
      "text/plain": "(101, 1.0000000628516963)"
     },
     "execution_count": 21,
     "metadata": {},
     "output_type": "execute_result"
    }
   ],
   "source": [
    "len(preds_probs[0]), sum(preds_probs[0])"
   ],
   "metadata": {
    "collapsed": false,
    "ExecuteTime": {
     "end_time": "2024-04-13T09:32:40.494963106Z",
     "start_time": "2024-04-13T09:32:40.445423482Z"
    }
   },
   "id": "f6371ee9cf266b97",
   "execution_count": 21
  },
  {
   "cell_type": "markdown",
   "source": [
    "Our model outputs a prediction probability array (with N number of variables, where N is the number of classes) for each sample passed to the predict method."
   ],
   "metadata": {
    "collapsed": false
   },
   "id": "3f22c876c9819871"
  },
  {
   "cell_type": "code",
   "outputs": [
    {
     "name": "stdout",
     "output_type": "stream",
     "text": [
      "Number of prediction probabilities for sample 0: 101\n",
      "What prediction probability sample 0 looks like:\n",
      " [5.9542075e-02 3.5742519e-06 4.1377105e-02 1.0660675e-09 8.1614733e-09\n",
      " 8.6640455e-09 8.0927953e-07 8.5652562e-07 1.9859333e-05 8.0978435e-07\n",
      " 3.1727978e-09 9.8674286e-07 2.8532467e-04 7.8050066e-10 7.4230676e-04\n",
      " 3.8916518e-05 6.4741098e-06 2.4977680e-06 3.7891088e-05 2.0678442e-07\n",
      " 1.5538551e-05 8.1508250e-07 2.6230564e-06 2.0010719e-07 8.3828002e-07\n",
      " 5.4216125e-06 3.7391171e-06 1.3150555e-08 2.7761464e-03 2.8052071e-05\n",
      " 6.8562794e-10 2.5574898e-05 1.6689053e-04 7.6408008e-10 4.0453312e-04\n",
      " 1.3150755e-08 1.7957562e-06 1.4448336e-06 2.3062818e-02 8.2467471e-07\n",
      " 8.5365667e-07 1.7138624e-06 7.0525689e-06 1.8402268e-08 2.8553313e-07\n",
      " 7.9485108e-06 2.0681648e-06 1.8525253e-07 3.3620083e-08 3.1522411e-04\n",
      " 1.0410940e-05 8.5448261e-07 8.4741843e-01 1.0555443e-05 4.4094534e-07\n",
      " 3.7404097e-05 3.5306184e-05 3.2489246e-05 6.7315115e-05 1.2852638e-08\n",
      " 2.6219701e-10 1.0318226e-05 8.5743530e-05 1.0569984e-06 2.1293590e-06\n",
      " 3.7637543e-05 7.5972991e-08 2.5340726e-04 9.2904952e-07 1.2598254e-04\n",
      " 6.2621048e-06 1.2458629e-08 4.0519913e-05 6.8729143e-08 1.2546398e-06\n",
      " 5.2887479e-08 7.5424907e-08 7.5398842e-05 7.7540128e-05 6.4026119e-07\n",
      " 9.9032718e-07 2.2225835e-05 1.5013988e-05 1.4038673e-07 1.2232553e-05\n",
      " 1.9044790e-02 4.9999733e-05 4.6226655e-06 1.5388265e-07 3.3824060e-07\n",
      " 3.9228247e-09 1.6563607e-07 8.1321363e-05 4.8965430e-06 2.4068575e-07\n",
      " 2.3124263e-05 3.1040597e-04 3.1379815e-05 1.4138838e-09 8.3531369e-05\n",
      " 3.0897786e-03]\n",
      "The class with the highest predicted probability by the model for sample 0: 52\n"
     ]
    }
   ],
   "source": [
    "# We get one prediction probability per class (in our case there's 101 prediction probabilities)\n",
    "print(f\"Number of prediction probabilities for sample 0: {len(preds_probs[0])}\")\n",
    "print(f\"What prediction probability sample 0 looks like:\\n {preds_probs[0]}\")\n",
    "print(f\"The class with the highest predicted probability by the model for sample 0: {preds_probs[0].argmax()}\")"
   ],
   "metadata": {
    "collapsed": false,
    "ExecuteTime": {
     "end_time": "2024-04-13T09:46:42.718757238Z",
     "start_time": "2024-04-13T09:46:42.668175827Z"
    }
   },
   "id": "3aa9662bd43e8d2b",
   "execution_count": 23
  },
  {
   "cell_type": "code",
   "outputs": [
    {
     "data": {
      "text/plain": "array([52,  0,  0, 80, 79, 61, 29,  0, 85,  0])"
     },
     "execution_count": 24,
     "metadata": {},
     "output_type": "execute_result"
    }
   ],
   "source": [
    "# Get the pred classes of each label\n",
    "pred_classes = preds_probs.argmax(axis=1)\n",
    "\n",
    "# How do they look?\n",
    "pred_classes[:10]"
   ],
   "metadata": {
    "collapsed": false,
    "ExecuteTime": {
     "end_time": "2024-04-13T09:49:45.332052672Z",
     "start_time": "2024-04-13T09:49:45.283683337Z"
    }
   },
   "id": "220e689f431168ac",
   "execution_count": 24
  },
  {
   "cell_type": "code",
   "outputs": [
    {
     "data": {
      "text/plain": "25250"
     },
     "execution_count": 25,
     "metadata": {},
     "output_type": "execute_result"
    }
   ],
   "source": [
    "# How many pred classes do we have?\n",
    "len(pred_classes)"
   ],
   "metadata": {
    "collapsed": false,
    "ExecuteTime": {
     "end_time": "2024-04-13T09:50:58.809606479Z",
     "start_time": "2024-04-13T09:50:58.758820944Z"
    }
   },
   "id": "123010b6cf198caa",
   "execution_count": 25
  },
  {
   "cell_type": "markdown",
   "source": [
    "Video N°193: Unravelling our test dataset for comparing ground truth labels to predictions"
   ],
   "metadata": {
    "collapsed": false
   },
   "id": "7bb9108b6a1681d3"
  },
  {
   "cell_type": "markdown",
   "source": [
    "Now we've got a predictions array of all of our model's predictions, to evaluate them, we need to compare them to the original test dataset labels."
   ],
   "metadata": {
    "collapsed": false
   },
   "id": "886756f944dc77a4"
  },
  {
   "cell_type": "code",
   "outputs": [
    {
     "data": {
      "text/plain": "[0, 0, 0, 0, 0, 0, 0, 0, 0, 0]"
     },
     "execution_count": 26,
     "metadata": {},
     "output_type": "execute_result"
    }
   ],
   "source": [
    "# To get our test labels we need to unravel our test_data BatchDataset\n",
    "y_labels = []\n",
    "for images, labels in test_data.unbatch():\n",
    "    y_labels.append(labels.numpy().argmax()) # currently test labels look like: [0, 0, 0, 1, .... 0, 0], we want the index value where the \\\"1\\\" occurs\n",
    "y_labels[:10] # look at the first 10"
   ],
   "metadata": {
    "collapsed": false,
    "ExecuteTime": {
     "end_time": "2024-04-13T09:57:16.067267796Z",
     "start_time": "2024-04-13T09:57:08.119192655Z"
    }
   },
   "id": "dc2a4362d71c983c",
   "execution_count": 26
  },
  {
   "cell_type": "code",
   "outputs": [
    {
     "data": {
      "text/plain": "25250"
     },
     "execution_count": 27,
     "metadata": {},
     "output_type": "execute_result"
    }
   ],
   "source": [
    "# How many y_labels are there?\n",
    "len(y_labels)"
   ],
   "metadata": {
    "collapsed": false,
    "ExecuteTime": {
     "end_time": "2024-04-13T09:58:43.641911434Z",
     "start_time": "2024-04-13T09:58:43.589795514Z"
    }
   },
   "id": "63895d5497ee74b",
   "execution_count": 27
  },
  {
   "cell_type": "code",
   "outputs": [],
   "source": [],
   "metadata": {
    "collapsed": false
   },
   "id": "ad24a2ded7f7a0d6"
  }
 ],
 "metadata": {
  "kernelspec": {
   "display_name": "Python 3",
   "language": "python",
   "name": "python3"
  },
  "language_info": {
   "codemirror_mode": {
    "name": "ipython",
    "version": 2
   },
   "file_extension": ".py",
   "mimetype": "text/x-python",
   "name": "python",
   "nbconvert_exporter": "python",
   "pygments_lexer": "ipython2",
   "version": "2.7.6"
  }
 },
 "nbformat": 4,
 "nbformat_minor": 5
}
