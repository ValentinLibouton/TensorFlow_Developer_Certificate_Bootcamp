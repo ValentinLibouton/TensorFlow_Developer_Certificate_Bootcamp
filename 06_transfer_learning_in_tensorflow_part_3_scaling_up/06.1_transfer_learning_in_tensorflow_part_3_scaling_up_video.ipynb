{
 "cells": [
  {
   "cell_type": "markdown",
   "source": [
    "# Transfer Learning with TensorFlow Part 3: Scaling up (Food Vision mini)\n",
    "\n",
    "We've seen the power of transfer learning feature extraction and fine-tuning, now it's time to scale up to all of the classes in Food101 (101 total classes of food).\n",
    "\n",
    "Our goal is to beat the original Food101 paper with 10% of the training (leveraging the power of deep learning).\n",
    "\n",
    "Original Food101 paper: https://data.vision.ee.ethz.ch/cvl/datasets_extra/food-101/static/bossard_eccv14_food-101.pdf\n",
    "\n",
    "Our baseline to beat is 50.76% accuracy across 101 classes."
   ],
   "metadata": {
    "collapsed": false
   },
   "id": "40759b80a1387e99"
  },
  {
   "cell_type": "markdown",
   "source": [
    "Video N°183: Getting helper functions ready and downloading data to model"
   ],
   "metadata": {
    "collapsed": false
   },
   "id": "5e9018555c055723"
  },
  {
   "cell_type": "markdown",
   "source": [
    "## Creating helper functions\n",
    "\n",
    "In previous notebooks, we've created a series of helper functions to do different tasks, let's download them."
   ],
   "metadata": {
    "collapsed": false
   },
   "id": "e4d34e7fe0eee06b"
  },
  {
   "cell_type": "code",
   "execution_count": 1,
   "id": "initial_id",
   "metadata": {
    "collapsed": true,
    "ExecuteTime": {
     "end_time": "2024-04-10T15:52:51.940714509Z",
     "start_time": "2024-04-10T15:52:49.672628822Z"
    }
   },
   "outputs": [
    {
     "name": "stderr",
     "output_type": "stream",
     "text": [
      "2024-04-10 17:52:50.024694: I tensorflow/core/platform/cpu_feature_guard.cc:193] This TensorFlow binary is optimized with oneAPI Deep Neural Network Library (oneDNN) to use the following CPU instructions in performance-critical operations:  SSE4.1 SSE4.2 AVX AVX2 FMA\n",
      "To enable them in other operations, rebuild TensorFlow with the appropriate compiler flags.\n"
     ]
    }
   ],
   "source": [
    "# Import series of helper functions for our notebook\n",
    "from MachineLearningUtils.data_acquisition.data_downloader import *\n",
    "from MachineLearningUtils.data_visualization.augmentation_effects import *\n",
    "from MachineLearningUtils.data_visualization.evaluation_metrics import *\n",
    "from MachineLearningUtils.data_visualization.image_visualization import *\n",
    "from MachineLearningUtils.data_visualization.model_learning_curves import *\n",
    "from MachineLearningUtils.data_visualization.prediction_visualization import *\n",
    "from MachineLearningUtils.training_utilities.model_callbacks import *\n",
    "from MachineLearningUtils.training_utilities.transfer_learning import *"
   ]
  },
  {
   "cell_type": "markdown",
   "source": [
    "## 101 Food Classes: working with less data\n",
    "\n",
    "Our goal is to beat the original Food101 paper with 10% of the training data, so let's download it.\n",
    "\n",
    "The data we're downloading comes from the original Food101 dataset but has been preprocessed using the image_data_modification notebook - https://raw.githubusercontent.com/mrdbourke/tensorflow-deep-learning/main/extras/image_data_modification.ipynb"
   ],
   "metadata": {
    "collapsed": false
   },
   "id": "bd8af8fd1148a614"
  },
  {
   "cell_type": "code",
   "outputs": [
    {
     "name": "stdout",
     "output_type": "stream",
     "text": [
      "The file 101_food_classes_10_percent.zip already exists.\n",
      "Extracting 101_food_classes_10_percent.zip as ZIP...\n",
      "101_food_classes_10_percent.zip has been extracted to current directory.\n"
     ]
    }
   ],
   "source": [
    "url = \"https://storage.googleapis.com/ztm_tf_course/food_vision/101_food_classes_10_percent.zip\"\n",
    "download_data(url=url, file_path=\"101_food_classes_10_percent.zip\", extract=True)\n",
    "\n",
    "train_dir = \"101_food_classes_10_percent/train/\"\n",
    "test_dir = \"101_food_classes_10_percent/test/\""
   ],
   "metadata": {
    "collapsed": false,
    "ExecuteTime": {
     "end_time": "2024-04-10T16:04:29.697259405Z",
     "start_time": "2024-04-10T16:04:19.594406847Z"
    }
   },
   "id": "290b43828fa7bf43",
   "execution_count": 3
  },
  {
   "cell_type": "code",
   "outputs": [
    {
     "name": "stdout",
     "output_type": "stream",
     "text": [
      "There are 2 directories and 0 images in '101_food_classes_10_percent'.\n",
      "There are 101 directories and 0 images in '101_food_classes_10_percent/train'.\n",
      "There are 0 directories and 75 images in '101_food_classes_10_percent/train/hot_and_sour_soup'.\n",
      "There are 0 directories and 75 images in '101_food_classes_10_percent/train/steak'.\n",
      "There are 0 directories and 75 images in '101_food_classes_10_percent/train/peking_duck'.\n",
      "There are 0 directories and 75 images in '101_food_classes_10_percent/train/samosa'.\n",
      "There are 0 directories and 75 images in '101_food_classes_10_percent/train/tiramisu'.\n",
      "There are 0 directories and 75 images in '101_food_classes_10_percent/train/cannoli'.\n",
      "There are 0 directories and 75 images in '101_food_classes_10_percent/train/ceviche'.\n",
      "There are 0 directories and 75 images in '101_food_classes_10_percent/train/scallops'.\n",
      "There are 0 directories and 75 images in '101_food_classes_10_percent/train/spaghetti_bolognese'.\n",
      "There are 0 directories and 75 images in '101_food_classes_10_percent/train/escargots'.\n",
      "There are 0 directories and 75 images in '101_food_classes_10_percent/train/baby_back_ribs'.\n",
      "There are 0 directories and 75 images in '101_food_classes_10_percent/train/huevos_rancheros'.\n",
      "There are 0 directories and 75 images in '101_food_classes_10_percent/train/club_sandwich'.\n",
      "There are 0 directories and 75 images in '101_food_classes_10_percent/train/sushi'.\n",
      "There are 0 directories and 75 images in '101_food_classes_10_percent/train/oysters'.\n",
      "There are 0 directories and 75 images in '101_food_classes_10_percent/train/pad_thai'.\n",
      "There are 0 directories and 75 images in '101_food_classes_10_percent/train/pho'.\n",
      "There are 0 directories and 75 images in '101_food_classes_10_percent/train/guacamole'.\n",
      "There are 0 directories and 75 images in '101_food_classes_10_percent/train/mussels'.\n",
      "There are 0 directories and 75 images in '101_food_classes_10_percent/train/deviled_eggs'.\n",
      "There are 0 directories and 75 images in '101_food_classes_10_percent/train/panna_cotta'.\n",
      "There are 0 directories and 75 images in '101_food_classes_10_percent/train/onion_rings'.\n",
      "There are 0 directories and 75 images in '101_food_classes_10_percent/train/macarons'.\n",
      "There are 0 directories and 75 images in '101_food_classes_10_percent/train/garlic_bread'.\n",
      "There are 0 directories and 75 images in '101_food_classes_10_percent/train/eggs_benedict'.\n",
      "There are 0 directories and 75 images in '101_food_classes_10_percent/train/beignets'.\n",
      "There are 0 directories and 75 images in '101_food_classes_10_percent/train/ramen'.\n",
      "There are 0 directories and 75 images in '101_food_classes_10_percent/train/caesar_salad'.\n",
      "There are 0 directories and 75 images in '101_food_classes_10_percent/train/paella'.\n",
      "There are 0 directories and 75 images in '101_food_classes_10_percent/train/breakfast_burrito'.\n",
      "There are 0 directories and 75 images in '101_food_classes_10_percent/train/french_fries'.\n",
      "There are 0 directories and 75 images in '101_food_classes_10_percent/train/beef_carpaccio'.\n",
      "There are 0 directories and 75 images in '101_food_classes_10_percent/train/lasagna'.\n",
      "There are 0 directories and 75 images in '101_food_classes_10_percent/train/frozen_yogurt'.\n",
      "There are 0 directories and 75 images in '101_food_classes_10_percent/train/shrimp_and_grits'.\n",
      "There are 0 directories and 75 images in '101_food_classes_10_percent/train/beet_salad'.\n",
      "There are 0 directories and 75 images in '101_food_classes_10_percent/train/beef_tartare'.\n",
      "There are 0 directories and 75 images in '101_food_classes_10_percent/train/grilled_salmon'.\n",
      "There are 0 directories and 75 images in '101_food_classes_10_percent/train/risotto'.\n",
      "There are 0 directories and 75 images in '101_food_classes_10_percent/train/spaghetti_carbonara'.\n",
      "There are 0 directories and 75 images in '101_food_classes_10_percent/train/edamame'.\n",
      "There are 0 directories and 75 images in '101_food_classes_10_percent/train/ravioli'.\n",
      "There are 0 directories and 75 images in '101_food_classes_10_percent/train/seaweed_salad'.\n",
      "There are 0 directories and 75 images in '101_food_classes_10_percent/train/miso_soup'.\n",
      "There are 0 directories and 75 images in '101_food_classes_10_percent/train/hot_dog'.\n",
      "There are 0 directories and 75 images in '101_food_classes_10_percent/train/prime_rib'.\n",
      "There are 0 directories and 75 images in '101_food_classes_10_percent/train/pulled_pork_sandwich'.\n",
      "There are 0 directories and 75 images in '101_food_classes_10_percent/train/cup_cakes'.\n",
      "There are 0 directories and 75 images in '101_food_classes_10_percent/train/chocolate_cake'.\n",
      "There are 0 directories and 75 images in '101_food_classes_10_percent/train/fried_rice'.\n",
      "There are 0 directories and 75 images in '101_food_classes_10_percent/train/gnocchi'.\n",
      "There are 0 directories and 75 images in '101_food_classes_10_percent/train/creme_brulee'.\n",
      "There are 0 directories and 75 images in '101_food_classes_10_percent/train/baklava'.\n",
      "There are 0 directories and 75 images in '101_food_classes_10_percent/train/chicken_quesadilla'.\n",
      "There are 0 directories and 75 images in '101_food_classes_10_percent/train/chicken_wings'.\n",
      "There are 0 directories and 75 images in '101_food_classes_10_percent/train/gyoza'.\n",
      "There are 0 directories and 75 images in '101_food_classes_10_percent/train/takoyaki'.\n",
      "There are 0 directories and 75 images in '101_food_classes_10_percent/train/cheesecake'.\n",
      "There are 0 directories and 75 images in '101_food_classes_10_percent/train/hamburger'.\n",
      "There are 0 directories and 75 images in '101_food_classes_10_percent/train/sashimi'.\n",
      "There are 0 directories and 75 images in '101_food_classes_10_percent/train/french_toast'.\n",
      "There are 0 directories and 75 images in '101_food_classes_10_percent/train/crab_cakes'.\n",
      "There are 0 directories and 75 images in '101_food_classes_10_percent/train/bruschetta'.\n",
      "There are 0 directories and 75 images in '101_food_classes_10_percent/train/tuna_tartare'.\n",
      "There are 0 directories and 75 images in '101_food_classes_10_percent/train/foie_gras'.\n",
      "There are 0 directories and 75 images in '101_food_classes_10_percent/train/fish_and_chips'.\n",
      "There are 0 directories and 75 images in '101_food_classes_10_percent/train/filet_mignon'.\n",
      "There are 0 directories and 75 images in '101_food_classes_10_percent/train/clam_chowder'.\n",
      "There are 0 directories and 75 images in '101_food_classes_10_percent/train/greek_salad'.\n",
      "There are 0 directories and 75 images in '101_food_classes_10_percent/train/carrot_cake'.\n",
      "There are 0 directories and 75 images in '101_food_classes_10_percent/train/french_onion_soup'.\n",
      "There are 0 directories and 75 images in '101_food_classes_10_percent/train/lobster_roll_sandwich'.\n",
      "There are 0 directories and 75 images in '101_food_classes_10_percent/train/fried_calamari'.\n",
      "There are 0 directories and 75 images in '101_food_classes_10_percent/train/poutine'.\n",
      "There are 0 directories and 75 images in '101_food_classes_10_percent/train/pork_chop'.\n",
      "There are 0 directories and 75 images in '101_food_classes_10_percent/train/waffles'.\n",
      "There are 0 directories and 75 images in '101_food_classes_10_percent/train/croque_madame'.\n",
      "There are 0 directories and 75 images in '101_food_classes_10_percent/train/cheese_plate'.\n",
      "There are 0 directories and 75 images in '101_food_classes_10_percent/train/ice_cream'.\n",
      "There are 0 directories and 75 images in '101_food_classes_10_percent/train/nachos'.\n",
      "There are 0 directories and 75 images in '101_food_classes_10_percent/train/falafel'.\n",
      "There are 0 directories and 75 images in '101_food_classes_10_percent/train/pizza'.\n",
      "There are 0 directories and 75 images in '101_food_classes_10_percent/train/pancakes'.\n",
      "There are 0 directories and 75 images in '101_food_classes_10_percent/train/macaroni_and_cheese'.\n",
      "There are 0 directories and 75 images in '101_food_classes_10_percent/train/chocolate_mousse'.\n",
      "There are 0 directories and 75 images in '101_food_classes_10_percent/train/lobster_bisque'.\n",
      "There are 0 directories and 75 images in '101_food_classes_10_percent/train/hummus'.\n",
      "There are 0 directories and 75 images in '101_food_classes_10_percent/train/red_velvet_cake'.\n",
      "There are 0 directories and 75 images in '101_food_classes_10_percent/train/churros'.\n",
      "There are 0 directories and 75 images in '101_food_classes_10_percent/train/bread_pudding'.\n",
      "There are 0 directories and 75 images in '101_food_classes_10_percent/train/strawberry_shortcake'.\n",
      "There are 0 directories and 75 images in '101_food_classes_10_percent/train/spring_rolls'.\n",
      "There are 0 directories and 75 images in '101_food_classes_10_percent/train/caprese_salad'.\n",
      "There are 0 directories and 75 images in '101_food_classes_10_percent/train/dumplings'.\n",
      "There are 0 directories and 75 images in '101_food_classes_10_percent/train/donuts'.\n",
      "There are 0 directories and 75 images in '101_food_classes_10_percent/train/chicken_curry'.\n",
      "There are 0 directories and 75 images in '101_food_classes_10_percent/train/bibimbap'.\n",
      "There are 0 directories and 75 images in '101_food_classes_10_percent/train/apple_pie'.\n",
      "There are 0 directories and 75 images in '101_food_classes_10_percent/train/tacos'.\n",
      "There are 0 directories and 75 images in '101_food_classes_10_percent/train/grilled_cheese_sandwich'.\n",
      "There are 0 directories and 75 images in '101_food_classes_10_percent/train/omelette'.\n",
      "There are 101 directories and 0 images in '101_food_classes_10_percent/test'.\n",
      "There are 0 directories and 250 images in '101_food_classes_10_percent/test/hot_and_sour_soup'.\n",
      "There are 0 directories and 250 images in '101_food_classes_10_percent/test/steak'.\n",
      "There are 0 directories and 250 images in '101_food_classes_10_percent/test/peking_duck'.\n",
      "There are 0 directories and 250 images in '101_food_classes_10_percent/test/samosa'.\n",
      "There are 0 directories and 250 images in '101_food_classes_10_percent/test/tiramisu'.\n",
      "There are 0 directories and 250 images in '101_food_classes_10_percent/test/cannoli'.\n",
      "There are 0 directories and 250 images in '101_food_classes_10_percent/test/ceviche'.\n",
      "There are 0 directories and 250 images in '101_food_classes_10_percent/test/scallops'.\n",
      "There are 0 directories and 250 images in '101_food_classes_10_percent/test/spaghetti_bolognese'.\n",
      "There are 0 directories and 250 images in '101_food_classes_10_percent/test/escargots'.\n",
      "There are 0 directories and 250 images in '101_food_classes_10_percent/test/baby_back_ribs'.\n",
      "There are 0 directories and 250 images in '101_food_classes_10_percent/test/huevos_rancheros'.\n",
      "There are 0 directories and 250 images in '101_food_classes_10_percent/test/club_sandwich'.\n",
      "There are 0 directories and 250 images in '101_food_classes_10_percent/test/sushi'.\n",
      "There are 0 directories and 250 images in '101_food_classes_10_percent/test/oysters'.\n",
      "There are 0 directories and 250 images in '101_food_classes_10_percent/test/pad_thai'.\n",
      "There are 0 directories and 250 images in '101_food_classes_10_percent/test/pho'.\n",
      "There are 0 directories and 250 images in '101_food_classes_10_percent/test/guacamole'.\n",
      "There are 0 directories and 250 images in '101_food_classes_10_percent/test/mussels'.\n",
      "There are 0 directories and 250 images in '101_food_classes_10_percent/test/deviled_eggs'.\n",
      "There are 0 directories and 250 images in '101_food_classes_10_percent/test/panna_cotta'.\n",
      "There are 0 directories and 250 images in '101_food_classes_10_percent/test/onion_rings'.\n",
      "There are 0 directories and 250 images in '101_food_classes_10_percent/test/macarons'.\n",
      "There are 0 directories and 250 images in '101_food_classes_10_percent/test/garlic_bread'.\n",
      "There are 0 directories and 250 images in '101_food_classes_10_percent/test/eggs_benedict'.\n",
      "There are 0 directories and 250 images in '101_food_classes_10_percent/test/beignets'.\n",
      "There are 0 directories and 250 images in '101_food_classes_10_percent/test/ramen'.\n",
      "There are 0 directories and 250 images in '101_food_classes_10_percent/test/caesar_salad'.\n",
      "There are 0 directories and 250 images in '101_food_classes_10_percent/test/paella'.\n",
      "There are 0 directories and 250 images in '101_food_classes_10_percent/test/breakfast_burrito'.\n",
      "There are 0 directories and 250 images in '101_food_classes_10_percent/test/french_fries'.\n",
      "There are 0 directories and 250 images in '101_food_classes_10_percent/test/beef_carpaccio'.\n",
      "There are 0 directories and 250 images in '101_food_classes_10_percent/test/lasagna'.\n",
      "There are 0 directories and 250 images in '101_food_classes_10_percent/test/frozen_yogurt'.\n",
      "There are 0 directories and 250 images in '101_food_classes_10_percent/test/shrimp_and_grits'.\n",
      "There are 0 directories and 250 images in '101_food_classes_10_percent/test/beet_salad'.\n",
      "There are 0 directories and 250 images in '101_food_classes_10_percent/test/beef_tartare'.\n",
      "There are 0 directories and 250 images in '101_food_classes_10_percent/test/grilled_salmon'.\n",
      "There are 0 directories and 250 images in '101_food_classes_10_percent/test/risotto'.\n",
      "There are 0 directories and 250 images in '101_food_classes_10_percent/test/spaghetti_carbonara'.\n",
      "There are 0 directories and 250 images in '101_food_classes_10_percent/test/edamame'.\n",
      "There are 0 directories and 250 images in '101_food_classes_10_percent/test/ravioli'.\n",
      "There are 0 directories and 250 images in '101_food_classes_10_percent/test/seaweed_salad'.\n",
      "There are 0 directories and 250 images in '101_food_classes_10_percent/test/miso_soup'.\n",
      "There are 0 directories and 250 images in '101_food_classes_10_percent/test/hot_dog'.\n",
      "There are 0 directories and 250 images in '101_food_classes_10_percent/test/prime_rib'.\n",
      "There are 0 directories and 250 images in '101_food_classes_10_percent/test/pulled_pork_sandwich'.\n",
      "There are 0 directories and 250 images in '101_food_classes_10_percent/test/cup_cakes'.\n",
      "There are 0 directories and 250 images in '101_food_classes_10_percent/test/chocolate_cake'.\n",
      "There are 0 directories and 250 images in '101_food_classes_10_percent/test/fried_rice'.\n",
      "There are 0 directories and 250 images in '101_food_classes_10_percent/test/gnocchi'.\n",
      "There are 0 directories and 250 images in '101_food_classes_10_percent/test/creme_brulee'.\n",
      "There are 0 directories and 250 images in '101_food_classes_10_percent/test/baklava'.\n",
      "There are 0 directories and 250 images in '101_food_classes_10_percent/test/chicken_quesadilla'.\n",
      "There are 0 directories and 250 images in '101_food_classes_10_percent/test/chicken_wings'.\n",
      "There are 0 directories and 250 images in '101_food_classes_10_percent/test/gyoza'.\n",
      "There are 0 directories and 250 images in '101_food_classes_10_percent/test/takoyaki'.\n",
      "There are 0 directories and 250 images in '101_food_classes_10_percent/test/cheesecake'.\n",
      "There are 0 directories and 250 images in '101_food_classes_10_percent/test/hamburger'.\n",
      "There are 0 directories and 250 images in '101_food_classes_10_percent/test/sashimi'.\n",
      "There are 0 directories and 250 images in '101_food_classes_10_percent/test/french_toast'.\n",
      "There are 0 directories and 250 images in '101_food_classes_10_percent/test/crab_cakes'.\n",
      "There are 0 directories and 250 images in '101_food_classes_10_percent/test/bruschetta'.\n",
      "There are 0 directories and 250 images in '101_food_classes_10_percent/test/tuna_tartare'.\n",
      "There are 0 directories and 250 images in '101_food_classes_10_percent/test/foie_gras'.\n",
      "There are 0 directories and 250 images in '101_food_classes_10_percent/test/fish_and_chips'.\n",
      "There are 0 directories and 250 images in '101_food_classes_10_percent/test/filet_mignon'.\n",
      "There are 0 directories and 250 images in '101_food_classes_10_percent/test/clam_chowder'.\n",
      "There are 0 directories and 250 images in '101_food_classes_10_percent/test/greek_salad'.\n",
      "There are 0 directories and 250 images in '101_food_classes_10_percent/test/carrot_cake'.\n",
      "There are 0 directories and 250 images in '101_food_classes_10_percent/test/french_onion_soup'.\n",
      "There are 0 directories and 250 images in '101_food_classes_10_percent/test/lobster_roll_sandwich'.\n",
      "There are 0 directories and 250 images in '101_food_classes_10_percent/test/fried_calamari'.\n",
      "There are 0 directories and 250 images in '101_food_classes_10_percent/test/poutine'.\n",
      "There are 0 directories and 250 images in '101_food_classes_10_percent/test/pork_chop'.\n",
      "There are 0 directories and 250 images in '101_food_classes_10_percent/test/waffles'.\n",
      "There are 0 directories and 250 images in '101_food_classes_10_percent/test/croque_madame'.\n",
      "There are 0 directories and 250 images in '101_food_classes_10_percent/test/cheese_plate'.\n",
      "There are 0 directories and 250 images in '101_food_classes_10_percent/test/ice_cream'.\n",
      "There are 0 directories and 250 images in '101_food_classes_10_percent/test/nachos'.\n",
      "There are 0 directories and 250 images in '101_food_classes_10_percent/test/falafel'.\n",
      "There are 0 directories and 250 images in '101_food_classes_10_percent/test/pizza'.\n",
      "There are 0 directories and 250 images in '101_food_classes_10_percent/test/pancakes'.\n",
      "There are 0 directories and 250 images in '101_food_classes_10_percent/test/macaroni_and_cheese'.\n",
      "There are 0 directories and 250 images in '101_food_classes_10_percent/test/chocolate_mousse'.\n",
      "There are 0 directories and 250 images in '101_food_classes_10_percent/test/lobster_bisque'.\n",
      "There are 0 directories and 250 images in '101_food_classes_10_percent/test/hummus'.\n",
      "There are 0 directories and 250 images in '101_food_classes_10_percent/test/red_velvet_cake'.\n",
      "There are 0 directories and 250 images in '101_food_classes_10_percent/test/churros'.\n",
      "There are 0 directories and 250 images in '101_food_classes_10_percent/test/bread_pudding'.\n",
      "There are 0 directories and 250 images in '101_food_classes_10_percent/test/strawberry_shortcake'.\n",
      "There are 0 directories and 250 images in '101_food_classes_10_percent/test/spring_rolls'.\n",
      "There are 0 directories and 250 images in '101_food_classes_10_percent/test/caprese_salad'.\n",
      "There are 0 directories and 250 images in '101_food_classes_10_percent/test/dumplings'.\n",
      "There are 0 directories and 250 images in '101_food_classes_10_percent/test/donuts'.\n",
      "There are 0 directories and 250 images in '101_food_classes_10_percent/test/chicken_curry'.\n",
      "There are 0 directories and 250 images in '101_food_classes_10_percent/test/bibimbap'.\n",
      "There are 0 directories and 250 images in '101_food_classes_10_percent/test/apple_pie'.\n",
      "There are 0 directories and 250 images in '101_food_classes_10_percent/test/tacos'.\n",
      "There are 0 directories and 250 images in '101_food_classes_10_percent/test/grilled_cheese_sandwich'.\n",
      "There are 0 directories and 250 images in '101_food_classes_10_percent/test/omelette'.\n"
     ]
    }
   ],
   "source": [
    "# How many images/classes are there?\n",
    "walk_through_dir(dir_path=\"101_food_classes_10_percent\")"
   ],
   "metadata": {
    "collapsed": false,
    "ExecuteTime": {
     "end_time": "2024-04-10T16:04:37.486520055Z",
     "start_time": "2024-04-10T16:04:37.394460006Z"
    }
   },
   "id": "d0845684ae5339e5",
   "execution_count": 4
  },
  {
   "cell_type": "code",
   "outputs": [],
   "source": [
    "# Args for image_dataset_from_directory\n",
    "idfd_args={\n",
    "    \"image_size\":(224, 224),\n",
    "    \"label_mode\":\"categorical\",\n",
    "    \"batch_size\":32\n",
    "}"
   ],
   "metadata": {
    "collapsed": false,
    "ExecuteTime": {
     "end_time": "2024-04-10T16:06:23.236661807Z",
     "start_time": "2024-04-10T16:06:23.192766870Z"
    }
   },
   "id": "e90ff2845baf4a9d",
   "execution_count": 5
  },
  {
   "cell_type": "code",
   "outputs": [
    {
     "name": "stdout",
     "output_type": "stream",
     "text": [
      "Found 7575 files belonging to 101 classes.\n"
     ]
    },
    {
     "name": "stderr",
     "output_type": "stream",
     "text": [
      "2024-04-10 18:10:18.830870: I tensorflow/compiler/xla/stream_executor/cuda/cuda_gpu_executor.cc:981] successful NUMA node read from SysFS had negative value (-1), but there must be at least one NUMA node, so returning NUMA node zero\n",
      "2024-04-10 18:10:18.861641: I tensorflow/compiler/xla/stream_executor/cuda/cuda_gpu_executor.cc:981] successful NUMA node read from SysFS had negative value (-1), but there must be at least one NUMA node, so returning NUMA node zero\n",
      "2024-04-10 18:10:18.861969: I tensorflow/compiler/xla/stream_executor/cuda/cuda_gpu_executor.cc:981] successful NUMA node read from SysFS had negative value (-1), but there must be at least one NUMA node, so returning NUMA node zero\n",
      "2024-04-10 18:10:18.862507: I tensorflow/core/platform/cpu_feature_guard.cc:193] This TensorFlow binary is optimized with oneAPI Deep Neural Network Library (oneDNN) to use the following CPU instructions in performance-critical operations:  SSE4.1 SSE4.2 AVX AVX2 FMA\n",
      "To enable them in other operations, rebuild TensorFlow with the appropriate compiler flags.\n",
      "2024-04-10 18:10:18.863089: I tensorflow/compiler/xla/stream_executor/cuda/cuda_gpu_executor.cc:981] successful NUMA node read from SysFS had negative value (-1), but there must be at least one NUMA node, so returning NUMA node zero\n",
      "2024-04-10 18:10:18.863376: I tensorflow/compiler/xla/stream_executor/cuda/cuda_gpu_executor.cc:981] successful NUMA node read from SysFS had negative value (-1), but there must be at least one NUMA node, so returning NUMA node zero\n",
      "2024-04-10 18:10:18.863642: I tensorflow/compiler/xla/stream_executor/cuda/cuda_gpu_executor.cc:981] successful NUMA node read from SysFS had negative value (-1), but there must be at least one NUMA node, so returning NUMA node zero\n",
      "2024-04-10 18:10:18.921679: I tensorflow/compiler/xla/stream_executor/cuda/cuda_gpu_executor.cc:981] successful NUMA node read from SysFS had negative value (-1), but there must be at least one NUMA node, so returning NUMA node zero\n",
      "2024-04-10 18:10:18.921883: I tensorflow/compiler/xla/stream_executor/cuda/cuda_gpu_executor.cc:981] successful NUMA node read from SysFS had negative value (-1), but there must be at least one NUMA node, so returning NUMA node zero\n",
      "2024-04-10 18:10:18.922037: I tensorflow/compiler/xla/stream_executor/cuda/cuda_gpu_executor.cc:981] successful NUMA node read from SysFS had negative value (-1), but there must be at least one NUMA node, so returning NUMA node zero\n",
      "2024-04-10 18:10:18.922137: I tensorflow/core/common_runtime/gpu/gpu_device.cc:1613] Created device /job:localhost/replica:0/task:0/device:GPU:0 with 1260 MB memory:  -> device: 0, name: NVIDIA GeForce RTX 3050, pci bus id: 0000:09:00.0, compute capability: 8.6\n"
     ]
    },
    {
     "name": "stdout",
     "output_type": "stream",
     "text": [
      "Found 25250 files belonging to 101 classes.\n"
     ]
    }
   ],
   "source": [
    "# Setup data inputs\n",
    "import tensorflow as tf\n",
    "train_data_all_10_percent = tf.keras.preprocessing.image_dataset_from_directory(directory=train_dir,\n",
    "                                                                                **idfd_args)\n",
    "\n",
    "test_data = tf.keras.preprocessing.image_dataset_from_directory(directory=test_dir,\n",
    "                                                                **idfd_args,\n",
    "                                                                shuffle=False) # don't shuffle test data for prediction analysis"
   ],
   "metadata": {
    "collapsed": false,
    "ExecuteTime": {
     "end_time": "2024-04-10T16:10:20.068632397Z",
     "start_time": "2024-04-10T16:10:18.515834953Z"
    }
   },
   "id": "4b1903c41f9f8d39",
   "execution_count": 6
  },
  {
   "cell_type": "markdown",
   "source": [
    "Video N°184: Outlining the model we're going to build and building a ModelCheckpoint callback"
   ],
   "metadata": {
    "collapsed": false
   },
   "id": "4b97a813775d0d98"
  },
  {
   "cell_type": "markdown",
   "source": [
    "## Train a big dog model with transfer learning on 10% of 101 food classes\n",
    "\n",
    "Here are the steps we're going to take:\n",
    "* Create a ModelCheckpoint callback\n",
    "* Create a data augmentation layer to build data augmentation right into the model\n",
    "* Build a headless (no top layers) Functional EfficientNetB0 backboned-model (we'll create our own output layer)\n",
    "* Compile our model\n",
    "* Feature extract for 5 full passes (5 epochs on the train dataset and validation on 15% of the test data, to save epoch time)"
   ],
   "metadata": {
    "collapsed": false
   },
   "id": "932933124a61cddf"
  },
  {
   "cell_type": "code",
   "outputs": [],
   "source": [
    "# Create checkpoint callback\n",
    "checkpoint_path = \"101_classes_10_percent_data_model_checkpoint\"\n",
    "checkpoint_callback = tf.keras.callbacks.ModelCheckpoint(filepath=checkpoint_path,\n",
    "                                                         save_weights_only=True,\n",
    "                                                         monitor='val_accuracy',\n",
    "                                                         save_best_only=True)"
   ],
   "metadata": {
    "collapsed": false,
    "ExecuteTime": {
     "end_time": "2024-04-10T19:57:43.664777499Z",
     "start_time": "2024-04-10T19:57:43.650845512Z"
    }
   },
   "id": "34dfef80c49f63bf",
   "execution_count": 7
  },
  {
   "cell_type": "markdown",
   "source": [
    "Video N°185: Creating a data augmentation layer to use with our model"
   ],
   "metadata": {
    "collapsed": false
   },
   "id": "d6e8506f2d6a2c61"
  },
  {
   "cell_type": "code",
   "outputs": [],
   "source": [
    "# Create data augmentation layer to incorporate it right into the model\n",
    "from tensorflow.keras import layers\n",
    "from tensorflow.keras.layers.experimental import preprocessing\n",
    "from tensorflow.keras.models import Sequential\n",
    "\n",
    "# Setup data augmentation\n",
    "data_augmentation = Sequential([\n",
    "    preprocessing.RandomFlip(\"horizontal\"),\n",
    "    preprocessing.RandomRotation(0.2),\n",
    "    preprocessing.RandomHeight(0.2),\n",
    "    preprocessing.RandomWidth(0.2),\n",
    "    preprocessing.RandomZoom(0.2),\n",
    "    # preprocessing.Rescaling(1./255) # rescale inputs of images to between 0 & 1, required for models like ResNet50\n",
    "], name=\"data_augmentation\")"
   ],
   "metadata": {
    "collapsed": false,
    "ExecuteTime": {
     "end_time": "2024-04-10T20:06:14.341504241Z",
     "start_time": "2024-04-10T20:06:14.056872660Z"
    }
   },
   "id": "fa7f392d5e969c75",
   "execution_count": 8
  },
  {
   "cell_type": "markdown",
   "source": [
    "Video N°186: Creating a headless EfficientNetB0 model with data augmentation built in"
   ],
   "metadata": {
    "collapsed": false
   },
   "id": "4c7957066b28eea9"
  },
  {
   "cell_type": "code",
   "outputs": [],
   "source": [
    "# Setup the base model and freeze its layers (this will extract features)\n"
   ],
   "metadata": {
    "collapsed": false
   },
   "id": "ca56cb63f8d13be9"
  }
 ],
 "metadata": {
  "kernelspec": {
   "display_name": "Python 3",
   "language": "python",
   "name": "python3"
  },
  "language_info": {
   "codemirror_mode": {
    "name": "ipython",
    "version": 2
   },
   "file_extension": ".py",
   "mimetype": "text/x-python",
   "name": "python",
   "nbconvert_exporter": "python",
   "pygments_lexer": "ipython2",
   "version": "2.7.6"
  }
 },
 "nbformat": 4,
 "nbformat_minor": 5
}
