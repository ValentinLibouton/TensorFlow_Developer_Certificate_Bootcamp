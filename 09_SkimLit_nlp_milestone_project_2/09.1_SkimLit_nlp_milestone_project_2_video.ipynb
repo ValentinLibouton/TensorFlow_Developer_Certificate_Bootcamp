{
 "cells": [
  {
   "cell_type": "markdown",
   "source": [
    "# Milestone Project 2: SkimLit 📄🔥\n",
    "\n",
    "The purpose of this notebook is to build an NLP model to make reading medical abstracts easier.\n",
    "\n",
    "The paper we're replicating (the source of the dataset that we'll be using) is available here: [https://arxiv.org/abs/1710.06071](https://arxiv.org/abs/1710.06071)\n",
    "\n",
    "And reading through the paper above, we see that the model architecture that they use to achieve their best results is available here: [https://arxiv.org/abs/1612.05251](https://arxiv.org/abs/1612.05251)\n",
    "\n",
    "📖 **Resource:** If you want to find the ground truth for this notebook (with lots of diagrams and text annotations) see the GitHub: [https://github.com/mrdbourke/tensorflow-deep-learning/blob/main/09_SkimLit_nlp_milestone_project_2.ipynb](https://github.com/mrdbourke/tensorflow-deep-learning/blob/main/09_SkimLit_nlp_milestone_project_2.ipynb)"
   ],
   "metadata": {
    "collapsed": false
   },
   "id": "de86b8ef3e9ed643"
  },
  {
   "cell_type": "markdown",
   "source": [
    "Video N°259: Setting up our notebook for Milestone Project 2 (getting the data) "
   ],
   "metadata": {
    "collapsed": false
   },
   "id": "64643ca88452661"
  },
  {
   "cell_type": "markdown",
   "source": [
    "## Check GPU"
   ],
   "metadata": {
    "collapsed": false
   },
   "id": "c5f4272e18e537d3"
  },
  {
   "cell_type": "code",
   "execution_count": 1,
   "id": "initial_id",
   "metadata": {
    "collapsed": true,
    "ExecuteTime": {
     "end_time": "2024-05-07T19:24:46.186920288Z",
     "start_time": "2024-05-07T19:24:42.303957796Z"
    }
   },
   "outputs": [
    {
     "name": "stderr",
     "output_type": "stream",
     "text": [
      "2024-05-07 21:24:42.860633: E external/local_xla/xla/stream_executor/cuda/cuda_dnn.cc:9261] Unable to register cuDNN factory: Attempting to register factory for plugin cuDNN when one has already been registered\n",
      "2024-05-07 21:24:42.860664: E external/local_xla/xla/stream_executor/cuda/cuda_fft.cc:607] Unable to register cuFFT factory: Attempting to register factory for plugin cuFFT when one has already been registered\n",
      "2024-05-07 21:24:42.889044: E external/local_xla/xla/stream_executor/cuda/cuda_blas.cc:1515] Unable to register cuBLAS factory: Attempting to register factory for plugin cuBLAS when one has already been registered\n",
      "2024-05-07 21:24:42.944119: I tensorflow/core/platform/cpu_feature_guard.cc:182] This TensorFlow binary is optimized to use available CPU instructions in performance-critical operations.\n",
      "To enable the following instructions: SSE4.1 SSE4.2 AVX AVX2 FMA, in other operations, rebuild TensorFlow with the appropriate compiler flags.\n"
     ]
    },
    {
     "name": "stdout",
     "output_type": "stream",
     "text": [
      "1 Physical GPUs, 1 Logical GPU\n"
     ]
    },
    {
     "name": "stderr",
     "output_type": "stream",
     "text": [
      "2024-05-07 21:24:45.722556: I external/local_xla/xla/stream_executor/cuda/cuda_executor.cc:901] successful NUMA node read from SysFS had negative value (-1), but there must be at least one NUMA node, so returning NUMA node zero. See more at https://github.com/torvalds/linux/blob/v6.0/Documentation/ABI/testing/sysfs-bus-pci#L344-L355\n",
      "2024-05-07 21:24:45.935281: I external/local_xla/xla/stream_executor/cuda/cuda_executor.cc:901] successful NUMA node read from SysFS had negative value (-1), but there must be at least one NUMA node, so returning NUMA node zero. See more at https://github.com/torvalds/linux/blob/v6.0/Documentation/ABI/testing/sysfs-bus-pci#L344-L355\n",
      "2024-05-07 21:24:45.935501: I external/local_xla/xla/stream_executor/cuda/cuda_executor.cc:901] successful NUMA node read from SysFS had negative value (-1), but there must be at least one NUMA node, so returning NUMA node zero. See more at https://github.com/torvalds/linux/blob/v6.0/Documentation/ABI/testing/sysfs-bus-pci#L344-L355\n",
      "2024-05-07 21:24:45.939171: I external/local_xla/xla/stream_executor/cuda/cuda_executor.cc:901] successful NUMA node read from SysFS had negative value (-1), but there must be at least one NUMA node, so returning NUMA node zero. See more at https://github.com/torvalds/linux/blob/v6.0/Documentation/ABI/testing/sysfs-bus-pci#L344-L355\n",
      "2024-05-07 21:24:45.939494: I external/local_xla/xla/stream_executor/cuda/cuda_executor.cc:901] successful NUMA node read from SysFS had negative value (-1), but there must be at least one NUMA node, so returning NUMA node zero. See more at https://github.com/torvalds/linux/blob/v6.0/Documentation/ABI/testing/sysfs-bus-pci#L344-L355\n",
      "2024-05-07 21:24:45.939718: I external/local_xla/xla/stream_executor/cuda/cuda_executor.cc:901] successful NUMA node read from SysFS had negative value (-1), but there must be at least one NUMA node, so returning NUMA node zero. See more at https://github.com/torvalds/linux/blob/v6.0/Documentation/ABI/testing/sysfs-bus-pci#L344-L355\n",
      "2024-05-07 21:24:46.028122: I external/local_xla/xla/stream_executor/cuda/cuda_executor.cc:901] successful NUMA node read from SysFS had negative value (-1), but there must be at least one NUMA node, so returning NUMA node zero. See more at https://github.com/torvalds/linux/blob/v6.0/Documentation/ABI/testing/sysfs-bus-pci#L344-L355\n",
      "2024-05-07 21:24:46.028457: I external/local_xla/xla/stream_executor/cuda/cuda_executor.cc:901] successful NUMA node read from SysFS had negative value (-1), but there must be at least one NUMA node, so returning NUMA node zero. See more at https://github.com/torvalds/linux/blob/v6.0/Documentation/ABI/testing/sysfs-bus-pci#L344-L355\n",
      "2024-05-07 21:24:46.028682: I external/local_xla/xla/stream_executor/cuda/cuda_executor.cc:901] successful NUMA node read from SysFS had negative value (-1), but there must be at least one NUMA node, so returning NUMA node zero. See more at https://github.com/torvalds/linux/blob/v6.0/Documentation/ABI/testing/sysfs-bus-pci#L344-L355\n",
      "2024-05-07 21:24:46.028836: I tensorflow/core/common_runtime/gpu/gpu_device.cc:1929] Created device /job:localhost/replica:0/task:0/device:GPU:0 with 5385 MB memory:  -> device: 0, name: NVIDIA GeForce RTX 3050, pci bus id: 0000:09:00.0, compute capability: 8.6\n"
     ]
    }
   ],
   "source": [
    "from MachineLearningUtils.system_setup.gpu import activate_gpu\n",
    "activate_gpu()"
   ]
  },
  {
   "cell_type": "code",
   "outputs": [
    {
     "name": "stdout",
     "output_type": "stream",
     "text": [
      "/bin/bash: warning: setlocale: LC_ALL: cannot change locale (en_US.UTF-8)\r\n",
      "GPU 0: NVIDIA GeForce RTX 3050 (UUID: GPU-ee6cd8ff-34bf-dc58-2edb-4f5120aaec55)\r\n"
     ]
    }
   ],
   "source": [
    "!nvidia-smi -L"
   ],
   "metadata": {
    "collapsed": false,
    "ExecuteTime": {
     "end_time": "2024-05-07T19:24:46.362594253Z",
     "start_time": "2024-05-07T19:24:46.058671597Z"
    }
   },
   "id": "df85096a995054bf",
   "execution_count": 2
  },
  {
   "cell_type": "markdown",
   "source": [
    "## Import libraries"
   ],
   "metadata": {
    "collapsed": false
   },
   "id": "b9027ad4f6a52cc8"
  },
  {
   "cell_type": "code",
   "outputs": [],
   "source": [
    "from MachineLearningUtils.data_acquisition.data_downloader import *"
   ],
   "metadata": {
    "collapsed": false,
    "ExecuteTime": {
     "end_time": "2024-05-07T19:24:46.377901308Z",
     "start_time": "2024-05-07T19:24:46.327326416Z"
    }
   },
   "id": "365366cb92659f4f",
   "execution_count": 3
  },
  {
   "cell_type": "markdown",
   "source": [
    "## Get data\n",
    "\n",
    "Since we'll be replicating the paper above (PubMed 200k RCT), let's download the dataset they used.\n",
    "We can do so from the authors GitHub: [https://github.com/Franck-Dernoncourt/pubmed-rct](https://github.com/Franck-Dernoncourt/pubmed-rct)"
   ],
   "metadata": {
    "collapsed": false
   },
   "id": "6d1583e7355de7b"
  },
  {
   "cell_type": "code",
   "outputs": [
    {
     "name": "stdout",
     "output_type": "stream",
     "text": [
      "/bin/bash: warning: setlocale: LC_ALL: cannot change locale (en_US.UTF-8)\r\n",
      "fatal: destination path 'pubmed-rct' already exists and is not an empty directory.\r\n"
     ]
    }
   ],
   "source": [
    "!git clone https://github.com/Franck-Dernoncourt/pubmed-rct"
   ],
   "metadata": {
    "collapsed": false,
    "ExecuteTime": {
     "end_time": "2024-05-07T19:24:46.634518334Z",
     "start_time": "2024-05-07T19:24:46.328067221Z"
    }
   },
   "id": "7d05453662291490",
   "execution_count": 4
  },
  {
   "cell_type": "code",
   "outputs": [
    {
     "name": "stdout",
     "output_type": "stream",
     "text": [
      "/bin/bash: warning: setlocale: LC_ALL: cannot change locale (en_US.UTF-8)\r\n",
      "PubMed_200k_RCT\r\n",
      "PubMed_200k_RCT_numbers_replaced_with_at_sign\r\n",
      "PubMed_20k_RCT\r\n",
      "PubMed_20k_RCT_numbers_replaced_with_at_sign\r\n",
      "README.md\r\n"
     ]
    }
   ],
   "source": [
    "!ls pubmed-rct"
   ],
   "metadata": {
    "collapsed": false,
    "ExecuteTime": {
     "end_time": "2024-05-07T19:24:46.876707479Z",
     "start_time": "2024-05-07T19:24:46.606664545Z"
    }
   },
   "id": "15572a1eed16093a",
   "execution_count": 5
  },
  {
   "cell_type": "code",
   "outputs": [
    {
     "name": "stdout",
     "output_type": "stream",
     "text": [
      "/bin/bash: warning: setlocale: LC_ALL: cannot change locale (en_US.UTF-8)\r\n",
      "dev.txt  test.txt  train.txt\r\n"
     ]
    }
   ],
   "source": [
    "# Check what files are in the PubMed_20K dataset\n",
    "!ls pubmed-rct/PubMed_20k_RCT_numbers_replaced_with_at_sign/"
   ],
   "metadata": {
    "collapsed": false,
    "ExecuteTime": {
     "end_time": "2024-05-07T19:24:47.140090936Z",
     "start_time": "2024-05-07T19:24:46.862762170Z"
    }
   },
   "id": "a9a40392efde889f",
   "execution_count": 6
  },
  {
   "cell_type": "code",
   "outputs": [],
   "source": [
    "# Start our experiments using the 20k dataset with numbers replaced by \"@\" sign\n",
    "data_dir = \"pubmed-rct/PubMed_20k_RCT_numbers_replaced_with_at_sign/\""
   ],
   "metadata": {
    "collapsed": false,
    "ExecuteTime": {
     "end_time": "2024-05-07T19:24:47.147410278Z",
     "start_time": "2024-05-07T19:24:47.097018649Z"
    }
   },
   "id": "b4b2c92ef1cec889",
   "execution_count": 7
  },
  {
   "cell_type": "code",
   "outputs": [
    {
     "data": {
      "text/plain": "['pubmed-rct/PubMed_20k_RCT_numbers_replaced_with_at_sign/test.txt',\n 'pubmed-rct/PubMed_20k_RCT_numbers_replaced_with_at_sign/train.txt',\n 'pubmed-rct/PubMed_20k_RCT_numbers_replaced_with_at_sign/dev.txt']"
     },
     "execution_count": 8,
     "metadata": {},
     "output_type": "execute_result"
    }
   ],
   "source": [
    "# Check all of the filenames in the target directory\n",
    "import os\n",
    "filenames = [data_dir + filename for filename in os.listdir(data_dir)]\n",
    "filenames"
   ],
   "metadata": {
    "collapsed": false,
    "ExecuteTime": {
     "end_time": "2024-05-07T19:24:47.161283132Z",
     "start_time": "2024-05-07T19:24:47.097601949Z"
    }
   },
   "id": "4aad2f33e3c1e1fa",
   "execution_count": 8
  },
  {
   "cell_type": "markdown",
   "source": [
    "Video N°260: Visualising examples from the dataset (becoming one with the data)"
   ],
   "metadata": {
    "collapsed": false
   },
   "id": "8f7914964f35401b"
  },
  {
   "cell_type": "markdown",
   "source": [
    "## Preprocess data\n",
    "\n",
    "Now we've got some text data, it's time to become one with it.\n",
    "\n",
    "And one of the best ways to become one with the data is to...\n",
    "\n",
    "> Visualize, visualize, visualize \n",
    "\n",
    "So with that in mind, let's write a function to read in all of the lines of a target text file."
   ],
   "metadata": {
    "collapsed": false
   },
   "id": "2ed02247c0c97fa6"
  },
  {
   "cell_type": "code",
   "outputs": [],
   "source": [
    "# Create function to read the lines of a document\n",
    "def get_lines(filename):\n",
    "  \"\"\"\n",
    "  Reads filename (a text filename) and returns the lines of text as a list.\n",
    "\n",
    "  Args:\n",
    "    filename: a string containing the target filepath.\n",
    "\n",
    "  Returns:\n",
    "    A list of strings with one string per line from the target filename.\n",
    "  \"\"\"\n",
    "  with open(filename, \"r\") as f:\n",
    "    return f.readlines()"
   ],
   "metadata": {
    "collapsed": false,
    "ExecuteTime": {
     "end_time": "2024-05-07T19:24:47.228433761Z",
     "start_time": "2024-05-07T19:24:47.138685939Z"
    }
   },
   "id": "1c5a79afeee2449a",
   "execution_count": 9
  },
  {
   "cell_type": "code",
   "outputs": [
    {
     "data": {
      "text/plain": "['###24293578\\n',\n 'OBJECTIVE\\tTo investigate the efficacy of @ weeks of daily low-dose oral prednisolone in improving pain , mobility , and systemic low-grade inflammation in the short term and whether the effect would be sustained at @ weeks in older adults with moderate to severe knee osteoarthritis ( OA ) .\\n',\n 'METHODS\\tA total of @ patients with primary knee OA were randomized @:@ ; @ received @ mg/day of prednisolone and @ received placebo for @ weeks .\\n',\n 'METHODS\\tOutcome measures included pain reduction and improvement in function scores and systemic inflammation markers .\\n',\n 'METHODS\\tPain was assessed using the visual analog pain scale ( @-@ mm ) .\\n',\n 'METHODS\\tSecondary outcome measures included the Western Ontario and McMaster Universities Osteoarthritis Index scores , patient global assessment ( PGA ) of the severity of knee OA , and @-min walk distance ( @MWD ) .\\n',\n 'METHODS\\tSerum levels of interleukin @ ( IL-@ ) , IL-@ , tumor necrosis factor ( TNF ) - , and high-sensitivity C-reactive protein ( hsCRP ) were measured .\\n',\n 'RESULTS\\tThere was a clinically relevant reduction in the intervention group compared to the placebo group for knee pain , physical function , PGA , and @MWD at @ weeks .\\n',\n 'RESULTS\\tThe mean difference between treatment arms ( @ % CI ) was @ ( @-@ @ ) , p < @ ; @ ( @-@ @ ) , p < @ ; @ ( @-@ @ ) , p < @ ; and @ ( @-@ @ ) , p < @ , respectively .\\n',\n 'RESULTS\\tFurther , there was a clinically relevant reduction in the serum levels of IL-@ , IL-@ , TNF - , and hsCRP at @ weeks in the intervention group when compared to the placebo group .\\n',\n 'RESULTS\\tThese differences remained significant at @ weeks .\\n',\n 'RESULTS\\tThe Outcome Measures in Rheumatology Clinical Trials-Osteoarthritis Research Society International responder rate was @ % in the intervention group and @ % in the placebo group ( p < @ ) .\\n',\n 'CONCLUSIONS\\tLow-dose oral prednisolone had both a short-term and a longer sustained effect resulting in less knee pain , better physical function , and attenuation of systemic inflammation in older patients with knee OA ( ClinicalTrials.gov identifier NCT@ ) .\\n',\n '\\n',\n '###24854809\\n',\n 'BACKGROUND\\tEmotional eating is associated with overeating and the development of obesity .\\n',\n 'BACKGROUND\\tYet , empirical evidence for individual ( trait ) differences in emotional eating and cognitive mechanisms that contribute to eating during sad mood remain equivocal .\\n',\n 'OBJECTIVE\\tThe aim of this study was to test if attention bias for food moderates the effect of self-reported emotional eating during sad mood ( vs neutral mood ) on actual food intake .\\n',\n 'OBJECTIVE\\tIt was expected that emotional eating is predictive of elevated attention for food and higher food intake after an experimentally induced sad mood and that attentional maintenance on food predicts food intake during a sad versus a neutral mood .\\n',\n 'METHODS\\tParticipants ( N = @ ) were randomly assigned to one of the two experimental mood induction conditions ( sad/neutral ) .\\n',\n 'METHODS\\tAttentional biases for high caloric foods were measured by eye tracking during a visual probe task with pictorial food and neutral stimuli .\\n',\n 'METHODS\\tSelf-reported emotional eating was assessed with the Dutch Eating Behavior Questionnaire ( DEBQ ) and ad libitum food intake was tested by a disguised food offer .\\n',\n 'RESULTS\\tHierarchical multivariate regression modeling showed that self-reported emotional eating did not account for changes in attention allocation for food or food intake in either condition .\\n',\n 'RESULTS\\tYet , attention maintenance on food cues was significantly related to increased intake specifically in the neutral condition , but not in the sad mood condition .\\n',\n 'CONCLUSIONS\\tThe current findings show that self-reported emotional eating ( based on the DEBQ ) might not validly predict who overeats when sad , at least not in a laboratory setting with healthy women .\\n',\n 'CONCLUSIONS\\tResults further suggest that attention maintenance on food relates to eating motivation when in a neutral affective state , and might therefore be a cognitive mechanism contributing to increased food intake in general , but maybe not during sad mood .\\n',\n '\\n']"
     },
     "execution_count": 10,
     "metadata": {},
     "output_type": "execute_result"
    }
   ],
   "source": [
    "# Let's read in the training lines\n",
    "train_lines = get_lines(data_dir+\"train.txt\") # read the lines with the training file\n",
    "train_lines[:27]"
   ],
   "metadata": {
    "collapsed": false,
    "ExecuteTime": {
     "end_time": "2024-05-07T19:24:47.323926581Z",
     "start_time": "2024-05-07T19:24:47.139213436Z"
    }
   },
   "id": "c73a9b75b52c3297",
   "execution_count": 10
  },
  {
   "cell_type": "code",
   "outputs": [
    {
     "data": {
      "text/plain": "210040"
     },
     "execution_count": 11,
     "metadata": {},
     "output_type": "execute_result"
    }
   ],
   "source": [
    "len(train_lines)"
   ],
   "metadata": {
    "collapsed": false,
    "ExecuteTime": {
     "end_time": "2024-05-07T19:24:47.336340146Z",
     "start_time": "2024-05-07T19:24:47.206951262Z"
    }
   },
   "id": "914a77dd14050b89",
   "execution_count": 11
  },
  {
   "cell_type": "markdown",
   "source": [
    "Let's think about how we want our data to look...\n",
    "\n",
    "How I think our data would be best represented...\n",
    "\n",
    "```\n",
    "[{'line_number': 0,\n",
    "   'target': 'BACKGROUND',\n",
    "   'text': \"Emotional eating is associated with overeating and the development of obesity .\\n\"\n",
    "   'total_lines': 11},\n",
    "   ...]\n",
    "```\n",
    "\n",
    "Let's write a function which turns each of our datasets into the above format so we can continue to prepare our data for modelling."
   ],
   "metadata": {
    "collapsed": false
   },
   "id": "ce524bdb3f99abca"
  },
  {
   "cell_type": "markdown",
   "source": [
    "Video N°261: writing a preprocessing function to structure our data for modelling"
   ],
   "metadata": {
    "collapsed": false
   },
   "id": "9c01f938fe69421"
  },
  {
   "cell_type": "code",
   "outputs": [],
   "source": [
    "def preprocess_text_with_line_numbers(filename):\n",
    "  \"\"\"\n",
    "  Returns a list of dictionaries of abstract line data.\n",
    "  \n",
    "  Takes in filename, reads it contents and sorts through each line,\n",
    "  extracting things like the target label, the text of the sentnece,\n",
    "  how many sentences are in the current abstract and what sentence\n",
    "  number the target line is.\n",
    "  \"\"\"\n",
    "  input_lines = get_lines(filename=filename) # get all lines from filename\n",
    "  abstract_lines = \"\" # create an empty abstract\n",
    "  abstract_samples = [] # create an empty list of abstracts\n",
    "  \n",
    "  # Loop through each line in the target file\n",
    "  for line in input_lines:\n",
    "    if line.startswith(\"###\"): # check to see if the is an ID line\n",
    "      abstract_id = line\n",
    "      abstract_lines = \"\" # reset the abstract string if the line is an ID line\n",
    "    elif line.isspace():\n",
    "      abstract_line_split = abstract_lines.splitlines()\n",
    "    \n",
    "      # Iterate through each line in a single abstract and count them at the same time\n",
    "      for abstract_line_number, abstract_line in enumerate(abstract_line_split):\n",
    "        line_data = {}\n",
    "        target_text_split = abstract_line.split(\"\\t\")\n",
    "        line_data[\"target\"] = target_text_split[0]\n",
    "        line_data[\"text\"] = target_text_split[1].lower()\n",
    "        line_data[\"line_number\"] = abstract_line_number\n",
    "        line_data[\"total_lines\"] = len(abstract_line_split) - 1\n",
    "        abstract_samples.append(line_data)\n",
    "    else:\n",
    "      abstract_lines += line\n",
    "  return abstract_samples"
   ],
   "metadata": {
    "collapsed": false,
    "ExecuteTime": {
     "end_time": "2024-05-07T19:24:47.341674698Z",
     "start_time": "2024-05-07T19:24:47.207575248Z"
    }
   },
   "id": "5dd36e95d010b5bb",
   "execution_count": 12
  },
  {
   "cell_type": "code",
   "outputs": [
    {
     "name": "stdout",
     "output_type": "stream",
     "text": [
      "180040 30212 30135\n",
      "CPU times: user 267 ms, sys: 35.2 ms, total: 302 ms\n",
      "Wall time: 301 ms\n"
     ]
    }
   ],
   "source": [
    "%%time\n",
    "# Get data from file and preprocess it\n",
    "train_samples = preprocess_text_with_line_numbers(data_dir + \"train.txt\")\n",
    "val_samples = preprocess_text_with_line_numbers(data_dir + \"dev.txt\") # dev is another name for validation dataset\n",
    "test_samples = preprocess_text_with_line_numbers(data_dir + \"test.txt\")\n",
    "print(len(train_samples), len(val_samples), len(test_samples))"
   ],
   "metadata": {
    "collapsed": false,
    "ExecuteTime": {
     "end_time": "2024-05-07T19:24:47.574671604Z",
     "start_time": "2024-05-07T19:24:47.207990284Z"
    }
   },
   "id": "95f26491dd2e6852",
   "execution_count": 13
  },
  {
   "cell_type": "code",
   "outputs": [
    {
     "data": {
      "text/plain": "[{'target': 'OBJECTIVE',\n  'text': 'to investigate the efficacy of @ weeks of daily low-dose oral prednisolone in improving pain , mobility , and systemic low-grade inflammation in the short term and whether the effect would be sustained at @ weeks in older adults with moderate to severe knee osteoarthritis ( oa ) .',\n  'line_number': 0,\n  'total_lines': 11},\n {'target': 'METHODS',\n  'text': 'a total of @ patients with primary knee oa were randomized @:@ ; @ received @ mg/day of prednisolone and @ received placebo for @ weeks .',\n  'line_number': 1,\n  'total_lines': 11},\n {'target': 'METHODS',\n  'text': 'outcome measures included pain reduction and improvement in function scores and systemic inflammation markers .',\n  'line_number': 2,\n  'total_lines': 11},\n {'target': 'METHODS',\n  'text': 'pain was assessed using the visual analog pain scale ( @-@ mm ) .',\n  'line_number': 3,\n  'total_lines': 11},\n {'target': 'METHODS',\n  'text': 'secondary outcome measures included the western ontario and mcmaster universities osteoarthritis index scores , patient global assessment ( pga ) of the severity of knee oa , and @-min walk distance ( @mwd ) .',\n  'line_number': 4,\n  'total_lines': 11},\n {'target': 'METHODS',\n  'text': 'serum levels of interleukin @ ( il-@ ) , il-@ , tumor necrosis factor ( tnf ) - , and high-sensitivity c-reactive protein ( hscrp ) were measured .',\n  'line_number': 5,\n  'total_lines': 11},\n {'target': 'RESULTS',\n  'text': 'there was a clinically relevant reduction in the intervention group compared to the placebo group for knee pain , physical function , pga , and @mwd at @ weeks .',\n  'line_number': 6,\n  'total_lines': 11},\n {'target': 'RESULTS',\n  'text': 'the mean difference between treatment arms ( @ % ci ) was @ ( @-@ @ ) , p < @ ; @ ( @-@ @ ) , p < @ ; @ ( @-@ @ ) , p < @ ; and @ ( @-@ @ ) , p < @ , respectively .',\n  'line_number': 7,\n  'total_lines': 11}]"
     },
     "execution_count": 14,
     "metadata": {},
     "output_type": "execute_result"
    }
   ],
   "source": [
    "# Check the first abstract of our training data\n",
    "train_samples[:8]"
   ],
   "metadata": {
    "collapsed": false,
    "ExecuteTime": {
     "end_time": "2024-05-07T19:24:47.667442917Z",
     "start_time": "2024-05-07T19:24:47.538615092Z"
    }
   },
   "id": "efebe0517d07729d",
   "execution_count": 14
  },
  {
   "cell_type": "markdown",
   "source": [
    "Video N°262: Performing visual data analysis on our preprocessed text"
   ],
   "metadata": {
    "collapsed": false
   },
   "id": "e76156ef76f753d8"
  },
  {
   "cell_type": "markdown",
   "source": [
    "Now that our data is the format of a list of dictionaries, how about we trun it into a DataFrame to further visualize it?"
   ],
   "metadata": {
    "collapsed": false
   },
   "id": "1badc574ddf41881"
  },
  {
   "cell_type": "code",
   "outputs": [
    {
     "data": {
      "text/plain": "         target                                               text  \\\n0     OBJECTIVE  to investigate the efficacy of @ weeks of dail...   \n1       METHODS  a total of @ patients with primary knee oa wer...   \n2       METHODS  outcome measures included pain reduction and i...   \n3       METHODS  pain was assessed using the visual analog pain...   \n4       METHODS  secondary outcome measures included the wester...   \n5       METHODS  serum levels of interleukin @ ( il-@ ) , il-@ ...   \n6       RESULTS  there was a clinically relevant reduction in t...   \n7       RESULTS  the mean difference between treatment arms ( @...   \n8       RESULTS  further , there was a clinically relevant redu...   \n9       RESULTS  these differences remained significant at @ we...   \n10      RESULTS  the outcome measures in rheumatology clinical ...   \n11  CONCLUSIONS  low-dose oral prednisolone had both a short-te...   \n12   BACKGROUND  emotional eating is associated with overeating...   \n13   BACKGROUND  yet , empirical evidence for individual ( trai...   \n14    OBJECTIVE  the aim of this study was to test if attention...   \n15    OBJECTIVE  it was expected that emotional eating is predi...   \n16      METHODS  participants ( n = @ ) were randomly assigned ...   \n17      METHODS  attentional biases for high caloric foods were...   \n18      METHODS  self-reported emotional eating was assessed wi...   \n19      RESULTS  hierarchical multivariate regression modeling ...   \n\n    line_number  total_lines  \n0             0           11  \n1             1           11  \n2             2           11  \n3             3           11  \n4             4           11  \n5             5           11  \n6             6           11  \n7             7           11  \n8             8           11  \n9             9           11  \n10           10           11  \n11           11           11  \n12            0           10  \n13            1           10  \n14            2           10  \n15            3           10  \n16            4           10  \n17            5           10  \n18            6           10  \n19            7           10  ",
      "text/html": "<div>\n<style scoped>\n    .dataframe tbody tr th:only-of-type {\n        vertical-align: middle;\n    }\n\n    .dataframe tbody tr th {\n        vertical-align: top;\n    }\n\n    .dataframe thead th {\n        text-align: right;\n    }\n</style>\n<table border=\"1\" class=\"dataframe\">\n  <thead>\n    <tr style=\"text-align: right;\">\n      <th></th>\n      <th>target</th>\n      <th>text</th>\n      <th>line_number</th>\n      <th>total_lines</th>\n    </tr>\n  </thead>\n  <tbody>\n    <tr>\n      <th>0</th>\n      <td>OBJECTIVE</td>\n      <td>to investigate the efficacy of @ weeks of dail...</td>\n      <td>0</td>\n      <td>11</td>\n    </tr>\n    <tr>\n      <th>1</th>\n      <td>METHODS</td>\n      <td>a total of @ patients with primary knee oa wer...</td>\n      <td>1</td>\n      <td>11</td>\n    </tr>\n    <tr>\n      <th>2</th>\n      <td>METHODS</td>\n      <td>outcome measures included pain reduction and i...</td>\n      <td>2</td>\n      <td>11</td>\n    </tr>\n    <tr>\n      <th>3</th>\n      <td>METHODS</td>\n      <td>pain was assessed using the visual analog pain...</td>\n      <td>3</td>\n      <td>11</td>\n    </tr>\n    <tr>\n      <th>4</th>\n      <td>METHODS</td>\n      <td>secondary outcome measures included the wester...</td>\n      <td>4</td>\n      <td>11</td>\n    </tr>\n    <tr>\n      <th>5</th>\n      <td>METHODS</td>\n      <td>serum levels of interleukin @ ( il-@ ) , il-@ ...</td>\n      <td>5</td>\n      <td>11</td>\n    </tr>\n    <tr>\n      <th>6</th>\n      <td>RESULTS</td>\n      <td>there was a clinically relevant reduction in t...</td>\n      <td>6</td>\n      <td>11</td>\n    </tr>\n    <tr>\n      <th>7</th>\n      <td>RESULTS</td>\n      <td>the mean difference between treatment arms ( @...</td>\n      <td>7</td>\n      <td>11</td>\n    </tr>\n    <tr>\n      <th>8</th>\n      <td>RESULTS</td>\n      <td>further , there was a clinically relevant redu...</td>\n      <td>8</td>\n      <td>11</td>\n    </tr>\n    <tr>\n      <th>9</th>\n      <td>RESULTS</td>\n      <td>these differences remained significant at @ we...</td>\n      <td>9</td>\n      <td>11</td>\n    </tr>\n    <tr>\n      <th>10</th>\n      <td>RESULTS</td>\n      <td>the outcome measures in rheumatology clinical ...</td>\n      <td>10</td>\n      <td>11</td>\n    </tr>\n    <tr>\n      <th>11</th>\n      <td>CONCLUSIONS</td>\n      <td>low-dose oral prednisolone had both a short-te...</td>\n      <td>11</td>\n      <td>11</td>\n    </tr>\n    <tr>\n      <th>12</th>\n      <td>BACKGROUND</td>\n      <td>emotional eating is associated with overeating...</td>\n      <td>0</td>\n      <td>10</td>\n    </tr>\n    <tr>\n      <th>13</th>\n      <td>BACKGROUND</td>\n      <td>yet , empirical evidence for individual ( trai...</td>\n      <td>1</td>\n      <td>10</td>\n    </tr>\n    <tr>\n      <th>14</th>\n      <td>OBJECTIVE</td>\n      <td>the aim of this study was to test if attention...</td>\n      <td>2</td>\n      <td>10</td>\n    </tr>\n    <tr>\n      <th>15</th>\n      <td>OBJECTIVE</td>\n      <td>it was expected that emotional eating is predi...</td>\n      <td>3</td>\n      <td>10</td>\n    </tr>\n    <tr>\n      <th>16</th>\n      <td>METHODS</td>\n      <td>participants ( n = @ ) were randomly assigned ...</td>\n      <td>4</td>\n      <td>10</td>\n    </tr>\n    <tr>\n      <th>17</th>\n      <td>METHODS</td>\n      <td>attentional biases for high caloric foods were...</td>\n      <td>5</td>\n      <td>10</td>\n    </tr>\n    <tr>\n      <th>18</th>\n      <td>METHODS</td>\n      <td>self-reported emotional eating was assessed wi...</td>\n      <td>6</td>\n      <td>10</td>\n    </tr>\n    <tr>\n      <th>19</th>\n      <td>RESULTS</td>\n      <td>hierarchical multivariate regression modeling ...</td>\n      <td>7</td>\n      <td>10</td>\n    </tr>\n  </tbody>\n</table>\n</div>"
     },
     "execution_count": 15,
     "metadata": {},
     "output_type": "execute_result"
    }
   ],
   "source": [
    "import pandas as pd\n",
    "train_df = pd.DataFrame(train_samples)\n",
    "val_df = pd.DataFrame(val_samples)\n",
    "test_df = pd.DataFrame(test_samples)\n",
    "train_df.head(20)"
   ],
   "metadata": {
    "collapsed": false,
    "ExecuteTime": {
     "end_time": "2024-05-07T19:24:47.841702290Z",
     "start_time": "2024-05-07T19:24:47.539379360Z"
    }
   },
   "id": "b9dd612854ee00d8",
   "execution_count": 15
  },
  {
   "cell_type": "code",
   "outputs": [
    {
     "data": {
      "text/plain": "target\nMETHODS        59353\nRESULTS        57953\nCONCLUSIONS    27168\nBACKGROUND     21727\nOBJECTIVE      13839\nName: count, dtype: int64"
     },
     "execution_count": 16,
     "metadata": {},
     "output_type": "execute_result"
    }
   ],
   "source": [
    "# Distribution of labels in training data\n",
    "train_df.target.value_counts()"
   ],
   "metadata": {
    "collapsed": false,
    "ExecuteTime": {
     "end_time": "2024-05-07T19:24:47.865349085Z",
     "start_time": "2024-05-07T19:24:47.774606244Z"
    }
   },
   "id": "412ce5e85978a236",
   "execution_count": 16
  },
  {
   "cell_type": "code",
   "outputs": [
    {
     "data": {
      "text/plain": "<Figure size 640x480 with 1 Axes>",
      "image/png": "[encoded data removed]"
     },
     "metadata": {},
     "output_type": "display_data"
    }
   ],
   "source": [
    "# Let's check the length of different lines\n",
    "train_df.total_lines.plot.hist(); "
   ],
   "metadata": {
    "collapsed": false,
    "ExecuteTime": {
     "end_time": "2024-05-07T19:24:48.315905692Z",
     "start_time": "2024-05-07T19:24:47.775072906Z"
    }
   },
   "id": "fb875b20e23c11de",
   "execution_count": 17
  },
  {
   "cell_type": "markdown",
   "source": [
    "### Get lists of sentences"
   ],
   "metadata": {
    "collapsed": false
   },
   "id": "644c18ee45459b27"
  },
  {
   "cell_type": "code",
   "outputs": [
    {
     "data": {
      "text/plain": "(180040, 30212, 30135)"
     },
     "execution_count": 18,
     "metadata": {},
     "output_type": "execute_result"
    }
   ],
   "source": [
    "# Convert abstract text lines into lists\n",
    "train_sentences = train_df[\"text\"].to_list()\n",
    "val_sentences = val_df[\"text\"].to_list()\n",
    "test_sentences = test_df[\"text\"].to_list()\n",
    "len(train_sentences), len(val_sentences), len(test_sentences)"
   ],
   "metadata": {
    "collapsed": false,
    "ExecuteTime": {
     "end_time": "2024-05-07T19:24:48.333154036Z",
     "start_time": "2024-05-07T19:24:48.201094828Z"
    }
   },
   "id": "32e815ce86e2cae4",
   "execution_count": 18
  },
  {
   "cell_type": "code",
   "outputs": [
    {
     "data": {
      "text/plain": "['to investigate the efficacy of @ weeks of daily low-dose oral prednisolone in improving pain , mobility , and systemic low-grade inflammation in the short term and whether the effect would be sustained at @ weeks in older adults with moderate to severe knee osteoarthritis ( oa ) .',\n 'a total of @ patients with primary knee oa were randomized @:@ ; @ received @ mg/day of prednisolone and @ received placebo for @ weeks .',\n 'outcome measures included pain reduction and improvement in function scores and systemic inflammation markers .',\n 'pain was assessed using the visual analog pain scale ( @-@ mm ) .',\n 'secondary outcome measures included the western ontario and mcmaster universities osteoarthritis index scores , patient global assessment ( pga ) of the severity of knee oa , and @-min walk distance ( @mwd ) .',\n 'serum levels of interleukin @ ( il-@ ) , il-@ , tumor necrosis factor ( tnf ) - , and high-sensitivity c-reactive protein ( hscrp ) were measured .',\n 'there was a clinically relevant reduction in the intervention group compared to the placebo group for knee pain , physical function , pga , and @mwd at @ weeks .',\n 'the mean difference between treatment arms ( @ % ci ) was @ ( @-@ @ ) , p < @ ; @ ( @-@ @ ) , p < @ ; @ ( @-@ @ ) , p < @ ; and @ ( @-@ @ ) , p < @ , respectively .',\n 'further , there was a clinically relevant reduction in the serum levels of il-@ , il-@ , tnf - , and hscrp at @ weeks in the intervention group when compared to the placebo group .',\n 'these differences remained significant at @ weeks .']"
     },
     "execution_count": 19,
     "metadata": {},
     "output_type": "execute_result"
    }
   ],
   "source": [
    "# View the 10 lines of training sentences\n",
    "train_sentences[:10]"
   ],
   "metadata": {
    "collapsed": false,
    "ExecuteTime": {
     "end_time": "2024-05-07T19:24:48.468642655Z",
     "start_time": "2024-05-07T19:24:48.205679678Z"
    }
   },
   "id": "6b1a6c5af204ed18",
   "execution_count": 19
  },
  {
   "cell_type": "markdown",
   "source": [
    "Video N°263: Turning our target labels into numbers (ML models require numbers)"
   ],
   "metadata": {
    "collapsed": false
   },
   "id": "e253c33607328376"
  },
  {
   "cell_type": "markdown",
   "source": [
    "## Make numeric labels (ML models require numeric labels)"
   ],
   "metadata": {
    "collapsed": false
   },
   "id": "d37c9b9c38abf423"
  },
  {
   "cell_type": "code",
   "outputs": [
    {
     "data": {
      "text/plain": "array([[0., 0., 0., 1., 0.],\n       [0., 0., 1., 0., 0.],\n       [0., 0., 1., 0., 0.],\n       ...,\n       [0., 0., 0., 0., 1.],\n       [0., 1., 0., 0., 0.],\n       [0., 1., 0., 0., 0.]])"
     },
     "execution_count": 20,
     "metadata": {},
     "output_type": "execute_result"
    }
   ],
   "source": [
    "# One hot encode labels\n",
    "from sklearn.preprocessing import OneHotEncoder\n",
    "one_hot_encoder = OneHotEncoder(sparse_output=False) # we want non-sparse matrix\n",
    "train_labels_one_hot = one_hot_encoder.fit_transform(train_df[\"target\"].to_numpy().reshape(-1, 1))\n",
    "val_labels_one_hot = one_hot_encoder.transform(val_df[\"target\"].to_numpy().reshape(-1, 1))\n",
    "test_labels_one_hot = one_hot_encoder.transform(test_df[\"target\"].to_numpy().reshape(-1, 1))\n",
    "\n",
    "# check what one hot encoded labels look like\n",
    "train_labels_one_hot"
   ],
   "metadata": {
    "collapsed": false,
    "ExecuteTime": {
     "end_time": "2024-05-07T19:24:48.724467387Z",
     "start_time": "2024-05-07T19:24:48.246749022Z"
    }
   },
   "id": "97dea573f5a3adde",
   "execution_count": 20
  },
  {
   "cell_type": "markdown",
   "source": [
    "### Label encode labels"
   ],
   "metadata": {
    "collapsed": false
   },
   "id": "e3b2fa5389c5db4e"
  },
  {
   "cell_type": "code",
   "outputs": [
    {
     "data": {
      "text/plain": "array([3, 2, 2, ..., 4, 1, 1])"
     },
     "execution_count": 21,
     "metadata": {},
     "output_type": "execute_result"
    }
   ],
   "source": [
    "# Extract labels (\"target\" columns) and encode them into integers\n",
    "from sklearn.preprocessing import LabelEncoder\n",
    "label_encoder = LabelEncoder()\n",
    "train_labels_encoded = label_encoder.fit_transform(train_df[\"target\"].to_numpy())\n",
    "val_labels_encoded = label_encoder.transform(val_df[\"target\"].to_numpy())\n",
    "test_label_encoded = label_encoder.transform(test_df[\"target\"].to_numpy())\n",
    "\n",
    "# check what training labels look like\n",
    "train_labels_encoded"
   ],
   "metadata": {
    "collapsed": false,
    "ExecuteTime": {
     "end_time": "2024-05-07T19:24:48.730834900Z",
     "start_time": "2024-05-07T19:24:48.638735011Z"
    }
   },
   "id": "de91de4cfe9de554",
   "execution_count": 21
  },
  {
   "cell_type": "code",
   "outputs": [
    {
     "data": {
      "text/plain": "(5,\n array(['BACKGROUND', 'CONCLUSIONS', 'METHODS', 'OBJECTIVE', 'RESULTS'],\n       dtype=object))"
     },
     "execution_count": 22,
     "metadata": {},
     "output_type": "execute_result"
    }
   ],
   "source": [
    "# Get class names and number of classes from LabelEncoder instance\n",
    "num_classes = len(label_encoder.classes_)\n",
    "class_names = label_encoder.classes_\n",
    "num_classes, class_names"
   ],
   "metadata": {
    "collapsed": false,
    "ExecuteTime": {
     "end_time": "2024-05-07T19:24:48.743801289Z",
     "start_time": "2024-05-07T19:24:48.639613563Z"
    }
   },
   "id": "d621a65ce0ca57b1",
   "execution_count": 22
  },
  {
   "cell_type": "markdown",
   "source": [
    "Video N°264: Model 0: Creating, fitting and evaluating a baseline model for SkimLit"
   ],
   "metadata": {
    "collapsed": false
   },
   "id": "fddf374866019691"
  },
  {
   "cell_type": "markdown",
   "source": [
    "## Starting a series of modelling experiments...\n",
    "\n",
    "As usual, we're going to be trying out a bunch of different models and seeing which one works best.\n",
    "\n",
    "And as always, we're going to start with a baseline (TF-IDF Multinomial Naive Bayes classifier)."
   ],
   "metadata": {
    "collapsed": false
   },
   "id": "baa8905424ba279f"
  },
  {
   "cell_type": "markdown",
   "source": [
    "## Model 0: Getting a baseline\n",
    "\n",
    "A baseline model is an important first step in any series of modelling experiments.\n",
    "\n",
    "It sets the pace for the subsequent experiments.\n",
    "\n",
    "It should start with a simple model and later models (with increasing complexity) will try to beat it."
   ],
   "metadata": {
    "collapsed": false
   },
   "id": "a215e3afaa1d3af7"
  },
  {
   "cell_type": "code",
   "outputs": [
    {
     "data": {
      "text/plain": "Pipeline(steps=[('tf-idf', TfidfVectorizer()), ('clf', MultinomialNB())])",
      "text/html": "<style>#sk-container-id-1 {\n  /* Definition of color scheme common for light and dark mode */\n  --sklearn-color-text: black;\n  --sklearn-color-line: gray;\n  /* Definition of color scheme for unfitted estimators */\n  --sklearn-color-unfitted-level-0: #fff5e6;\n  --sklearn-color-unfitted-level-1: #f6e4d2;\n  --sklearn-color-unfitted-level-2: #ffe0b3;\n  --sklearn-color-unfitted-level-3: chocolate;\n  /* Definition of color scheme for fitted estimators */\n  --sklearn-color-fitted-level-0: #f0f8ff;\n  --sklearn-color-fitted-level-1: #d4ebff;\n  --sklearn-color-fitted-level-2: #b3dbfd;\n  --sklearn-color-fitted-level-3: cornflowerblue;\n\n  /* Specific color for light theme */\n  --sklearn-color-text-on-default-background: var(--sg-text-color, var(--theme-code-foreground, var(--jp-content-font-color1, black)));\n  --sklearn-color-background: var(--sg-background-color, var(--theme-background, var(--jp-layout-color0, white)));\n  --sklearn-color-border-box: var(--sg-text-color, var(--theme-code-foreground, var(--jp-content-font-color1, black)));\n  --sklearn-color-icon: #696969;\n\n  @media (prefers-color-scheme: dark) {\n    /* Redefinition of color scheme for dark theme */\n    --sklearn-color-text-on-default-background: var(--sg-text-color, var(--theme-code-foreground, var(--jp-content-font-color1, white)));\n    --sklearn-color-background: var(--sg-background-color, var(--theme-background, var(--jp-layout-color0, #111)));\n    --sklearn-color-border-box: var(--sg-text-color, var(--theme-code-foreground, var(--jp-content-font-color1, white)));\n    --sklearn-color-icon: #878787;\n  }\n}\n\n#sk-container-id-1 {\n  color: var(--sklearn-color-text);\n}\n\n#sk-container-id-1 pre {\n  padding: 0;\n}\n\n#sk-container-id-1 input.sk-hidden--visually {\n  border: 0;\n  clip: rect(1px 1px 1px 1px);\n  clip: rect(1px, 1px, 1px, 1px);\n  height: 1px;\n  margin: -1px;\n  overflow: hidden;\n  padding: 0;\n  position: absolute;\n  width: 1px;\n}\n\n#sk-container-id-1 div.sk-dashed-wrapped {\n  border: 1px dashed var(--sklearn-color-line);\n  margin: 0 0.4em 0.5em 0.4em;\n  box-sizing: border-box;\n  padding-bottom: 0.4em;\n  background-color: var(--sklearn-color-background);\n}\n\n#sk-container-id-1 div.sk-container {\n  /* jupyter's `normalize.less` sets `[hidden] { display: none; }`\n     but bootstrap.min.css set `[hidden] { display: none !important; }`\n     so we also need the `!important` here to be able to override the\n     default hidden behavior on the sphinx rendered scikit-learn.org.\n     See: https://github.com/scikit-learn/scikit-learn/issues/21755 */\n  display: inline-block !important;\n  position: relative;\n}\n\n#sk-container-id-1 div.sk-text-repr-fallback {\n  display: none;\n}\n\ndiv.sk-parallel-item,\ndiv.sk-serial,\ndiv.sk-item {\n  /* draw centered vertical line to link estimators */\n  background-image: linear-gradient(var(--sklearn-color-text-on-default-background), var(--sklearn-color-text-on-default-background));\n  background-size: 2px 100%;\n  background-repeat: no-repeat;\n  background-position: center center;\n}\n\n/* Parallel-specific style estimator block */\n\n#sk-container-id-1 div.sk-parallel-item::after {\n  content: \"\";\n  width: 100%;\n  border-bottom: 2px solid var(--sklearn-color-text-on-default-background);\n  flex-grow: 1;\n}\n\n#sk-container-id-1 div.sk-parallel {\n  display: flex;\n  align-items: stretch;\n  justify-content: center;\n  background-color: var(--sklearn-color-background);\n  position: relative;\n}\n\n#sk-container-id-1 div.sk-parallel-item {\n  display: flex;\n  flex-direction: column;\n}\n\n#sk-container-id-1 div.sk-parallel-item:first-child::after {\n  align-self: flex-end;\n  width: 50%;\n}\n\n#sk-container-id-1 div.sk-parallel-item:last-child::after {\n  align-self: flex-start;\n  width: 50%;\n}\n\n#sk-container-id-1 div.sk-parallel-item:only-child::after {\n  width: 0;\n}\n\n/* Serial-specific style estimator block */\n\n#sk-container-id-1 div.sk-serial {\n  display: flex;\n  flex-direction: column;\n  align-items: center;\n  background-color: var(--sklearn-color-background);\n  padding-right: 1em;\n  padding-left: 1em;\n}\n\n\n/* Toggleable style: style used for estimator/Pipeline/ColumnTransformer box that is\nclickable and can be expanded/collapsed.\n- Pipeline and ColumnTransformer use this feature and define the default style\n- Estimators will overwrite some part of the style using the `sk-estimator` class\n*/\n\n/* Pipeline and ColumnTransformer style (default) */\n\n#sk-container-id-1 div.sk-toggleable {\n  /* Default theme specific background. It is overwritten whether we have a\n  specific estimator or a Pipeline/ColumnTransformer */\n  background-color: var(--sklearn-color-background);\n}\n\n/* Toggleable label */\n#sk-container-id-1 label.sk-toggleable__label {\n  cursor: pointer;\n  display: block;\n  width: 100%;\n  margin-bottom: 0;\n  padding: 0.5em;\n  box-sizing: border-box;\n  text-align: center;\n}\n\n#sk-container-id-1 label.sk-toggleable__label-arrow:before {\n  /* Arrow on the left of the label */\n  content: \"▸\";\n  float: left;\n  margin-right: 0.25em;\n  color: var(--sklearn-color-icon);\n}\n\n#sk-container-id-1 label.sk-toggleable__label-arrow:hover:before {\n  color: var(--sklearn-color-text);\n}\n\n/* Toggleable content - dropdown */\n\n#sk-container-id-1 div.sk-toggleable__content {\n  max-height: 0;\n  max-width: 0;\n  overflow: hidden;\n  text-align: left;\n  /* unfitted */\n  background-color: var(--sklearn-color-unfitted-level-0);\n}\n\n#sk-container-id-1 div.sk-toggleable__content.fitted {\n  /* fitted */\n  background-color: var(--sklearn-color-fitted-level-0);\n}\n\n#sk-container-id-1 div.sk-toggleable__content pre {\n  margin: 0.2em;\n  border-radius: 0.25em;\n  color: var(--sklearn-color-text);\n  /* unfitted */\n  background-color: var(--sklearn-color-unfitted-level-0);\n}\n\n#sk-container-id-1 div.sk-toggleable__content.fitted pre {\n  /* unfitted */\n  background-color: var(--sklearn-color-fitted-level-0);\n}\n\n#sk-container-id-1 input.sk-toggleable__control:checked~div.sk-toggleable__content {\n  /* Expand drop-down */\n  max-height: 200px;\n  max-width: 100%;\n  overflow: auto;\n}\n\n#sk-container-id-1 input.sk-toggleable__control:checked~label.sk-toggleable__label-arrow:before {\n  content: \"▾\";\n}\n\n/* Pipeline/ColumnTransformer-specific style */\n\n#sk-container-id-1 div.sk-label input.sk-toggleable__control:checked~label.sk-toggleable__label {\n  color: var(--sklearn-color-text);\n  background-color: var(--sklearn-color-unfitted-level-2);\n}\n\n#sk-container-id-1 div.sk-label.fitted input.sk-toggleable__control:checked~label.sk-toggleable__label {\n  background-color: var(--sklearn-color-fitted-level-2);\n}\n\n/* Estimator-specific style */\n\n/* Colorize estimator box */\n#sk-container-id-1 div.sk-estimator input.sk-toggleable__control:checked~label.sk-toggleable__label {\n  /* unfitted */\n  background-color: var(--sklearn-color-unfitted-level-2);\n}\n\n#sk-container-id-1 div.sk-estimator.fitted input.sk-toggleable__control:checked~label.sk-toggleable__label {\n  /* fitted */\n  background-color: var(--sklearn-color-fitted-level-2);\n}\n\n#sk-container-id-1 div.sk-label label.sk-toggleable__label,\n#sk-container-id-1 div.sk-label label {\n  /* The background is the default theme color */\n  color: var(--sklearn-color-text-on-default-background);\n}\n\n/* On hover, darken the color of the background */\n#sk-container-id-1 div.sk-label:hover label.sk-toggleable__label {\n  color: var(--sklearn-color-text);\n  background-color: var(--sklearn-color-unfitted-level-2);\n}\n\n/* Label box, darken color on hover, fitted */\n#sk-container-id-1 div.sk-label.fitted:hover label.sk-toggleable__label.fitted {\n  color: var(--sklearn-color-text);\n  background-color: var(--sklearn-color-fitted-level-2);\n}\n\n/* Estimator label */\n\n#sk-container-id-1 div.sk-label label {\n  font-family: monospace;\n  font-weight: bold;\n  display: inline-block;\n  line-height: 1.2em;\n}\n\n#sk-container-id-1 div.sk-label-container {\n  text-align: center;\n}\n\n/* Estimator-specific */\n#sk-container-id-1 div.sk-estimator {\n  font-family: monospace;\n  border: 1px dotted var(--sklearn-color-border-box);\n  border-radius: 0.25em;\n  box-sizing: border-box;\n  margin-bottom: 0.5em;\n  /* unfitted */\n  background-color: var(--sklearn-color-unfitted-level-0);\n}\n\n#sk-container-id-1 div.sk-estimator.fitted {\n  /* fitted */\n  background-color: var(--sklearn-color-fitted-level-0);\n}\n\n/* on hover */\n#sk-container-id-1 div.sk-estimator:hover {\n  /* unfitted */\n  background-color: var(--sklearn-color-unfitted-level-2);\n}\n\n#sk-container-id-1 div.sk-estimator.fitted:hover {\n  /* fitted */\n  background-color: var(--sklearn-color-fitted-level-2);\n}\n\n/* Specification for estimator info (e.g. \"i\" and \"?\") */\n\n/* Common style for \"i\" and \"?\" */\n\n.sk-estimator-doc-link,\na:link.sk-estimator-doc-link,\na:visited.sk-estimator-doc-link {\n  float: right;\n  font-size: smaller;\n  line-height: 1em;\n  font-family: monospace;\n  background-color: var(--sklearn-color-background);\n  border-radius: 1em;\n  height: 1em;\n  width: 1em;\n  text-decoration: none !important;\n  margin-left: 1ex;\n  /* unfitted */\n  border: var(--sklearn-color-unfitted-level-1) 1pt solid;\n  color: var(--sklearn-color-unfitted-level-1);\n}\n\n.sk-estimator-doc-link.fitted,\na:link.sk-estimator-doc-link.fitted,\na:visited.sk-estimator-doc-link.fitted {\n  /* fitted */\n  border: var(--sklearn-color-fitted-level-1) 1pt solid;\n  color: var(--sklearn-color-fitted-level-1);\n}\n\n/* On hover */\ndiv.sk-estimator:hover .sk-estimator-doc-link:hover,\n.sk-estimator-doc-link:hover,\ndiv.sk-label-container:hover .sk-estimator-doc-link:hover,\n.sk-estimator-doc-link:hover {\n  /* unfitted */\n  background-color: var(--sklearn-color-unfitted-level-3);\n  color: var(--sklearn-color-background);\n  text-decoration: none;\n}\n\ndiv.sk-estimator.fitted:hover .sk-estimator-doc-link.fitted:hover,\n.sk-estimator-doc-link.fitted:hover,\ndiv.sk-label-container:hover .sk-estimator-doc-link.fitted:hover,\n.sk-estimator-doc-link.fitted:hover {\n  /* fitted */\n  background-color: var(--sklearn-color-fitted-level-3);\n  color: var(--sklearn-color-background);\n  text-decoration: none;\n}\n\n/* Span, style for the box shown on hovering the info icon */\n.sk-estimator-doc-link span {\n  display: none;\n  z-index: 9999;\n  position: relative;\n  font-weight: normal;\n  right: .2ex;\n  padding: .5ex;\n  margin: .5ex;\n  width: min-content;\n  min-width: 20ex;\n  max-width: 50ex;\n  color: var(--sklearn-color-text);\n  box-shadow: 2pt 2pt 4pt #999;\n  /* unfitted */\n  background: var(--sklearn-color-unfitted-level-0);\n  border: .5pt solid var(--sklearn-color-unfitted-level-3);\n}\n\n.sk-estimator-doc-link.fitted span {\n  /* fitted */\n  background: var(--sklearn-color-fitted-level-0);\n  border: var(--sklearn-color-fitted-level-3);\n}\n\n.sk-estimator-doc-link:hover span {\n  display: block;\n}\n\n/* \"?\"-specific style due to the `<a>` HTML tag */\n\n#sk-container-id-1 a.estimator_doc_link {\n  float: right;\n  font-size: 1rem;\n  line-height: 1em;\n  font-family: monospace;\n  background-color: var(--sklearn-color-background);\n  border-radius: 1rem;\n  height: 1rem;\n  width: 1rem;\n  text-decoration: none;\n  /* unfitted */\n  color: var(--sklearn-color-unfitted-level-1);\n  border: var(--sklearn-color-unfitted-level-1) 1pt solid;\n}\n\n#sk-container-id-1 a.estimator_doc_link.fitted {\n  /* fitted */\n  border: var(--sklearn-color-fitted-level-1) 1pt solid;\n  color: var(--sklearn-color-fitted-level-1);\n}\n\n/* On hover */\n#sk-container-id-1 a.estimator_doc_link:hover {\n  /* unfitted */\n  background-color: var(--sklearn-color-unfitted-level-3);\n  color: var(--sklearn-color-background);\n  text-decoration: none;\n}\n\n#sk-container-id-1 a.estimator_doc_link.fitted:hover {\n  /* fitted */\n  background-color: var(--sklearn-color-fitted-level-3);\n}\n</style><div id=\"sk-container-id-1\" class=\"sk-top-container\"><div class=\"sk-text-repr-fallback\"><pre>Pipeline(steps=[(&#x27;tf-idf&#x27;, TfidfVectorizer()), (&#x27;clf&#x27;, MultinomialNB())])</pre><b>In a Jupyter environment, please rerun this cell to show the HTML representation or trust the notebook. <br />On GitHub, the HTML representation is unable to render, please try loading this page with nbviewer.org.</b></div><div class=\"sk-container\" hidden><div class=\"sk-item sk-dashed-wrapped\"><div class=\"sk-label-container\"><div class=\"sk-label fitted sk-toggleable\"><input class=\"sk-toggleable__control sk-hidden--visually\" id=\"sk-estimator-id-1\" type=\"checkbox\" ><label for=\"sk-estimator-id-1\" class=\"sk-toggleable__label fitted sk-toggleable__label-arrow fitted\">&nbsp;&nbsp;Pipeline<a class=\"sk-estimator-doc-link fitted\" rel=\"noreferrer\" target=\"_blank\" href=\"https://scikit-learn.org/1.4/modules/generated/sklearn.pipeline.Pipeline.html\">?<span>Documentation for Pipeline</span></a><span class=\"sk-estimator-doc-link fitted\">i<span>Fitted</span></span></label><div class=\"sk-toggleable__content fitted\"><pre>Pipeline(steps=[(&#x27;tf-idf&#x27;, TfidfVectorizer()), (&#x27;clf&#x27;, MultinomialNB())])</pre></div> </div></div><div class=\"sk-serial\"><div class=\"sk-item\"><div class=\"sk-estimator fitted sk-toggleable\"><input class=\"sk-toggleable__control sk-hidden--visually\" id=\"sk-estimator-id-2\" type=\"checkbox\" ><label for=\"sk-estimator-id-2\" class=\"sk-toggleable__label fitted sk-toggleable__label-arrow fitted\">&nbsp;TfidfVectorizer<a class=\"sk-estimator-doc-link fitted\" rel=\"noreferrer\" target=\"_blank\" href=\"https://scikit-learn.org/1.4/modules/generated/sklearn.feature_extraction.text.TfidfVectorizer.html\">?<span>Documentation for TfidfVectorizer</span></a></label><div class=\"sk-toggleable__content fitted\"><pre>TfidfVectorizer()</pre></div> </div></div><div class=\"sk-item\"><div class=\"sk-estimator fitted sk-toggleable\"><input class=\"sk-toggleable__control sk-hidden--visually\" id=\"sk-estimator-id-3\" type=\"checkbox\" ><label for=\"sk-estimator-id-3\" class=\"sk-toggleable__label fitted sk-toggleable__label-arrow fitted\">&nbsp;MultinomialNB<a class=\"sk-estimator-doc-link fitted\" rel=\"noreferrer\" target=\"_blank\" href=\"https://scikit-learn.org/1.4/modules/generated/sklearn.naive_bayes.MultinomialNB.html\">?<span>Documentation for MultinomialNB</span></a></label><div class=\"sk-toggleable__content fitted\"><pre>MultinomialNB()</pre></div> </div></div></div></div></div></div>"
     },
     "execution_count": 23,
     "metadata": {},
     "output_type": "execute_result"
    }
   ],
   "source": [
    "from sklearn.feature_extraction.text import TfidfVectorizer\n",
    "from sklearn.naive_bayes import MultinomialNB\n",
    "from sklearn.pipeline import Pipeline\n",
    "\n",
    "# Create a pipeline\n",
    "model_0 = Pipeline([\n",
    "  ('tf-idf', TfidfVectorizer()),\n",
    "  ('clf', MultinomialNB())\n",
    "])\n",
    "\n",
    "# Fit the pipeline to the training data\n",
    "model_0.fit(X=train_sentences,\n",
    "            y=train_labels_encoded)"
   ],
   "metadata": {
    "collapsed": false,
    "ExecuteTime": {
     "end_time": "2024-05-07T19:24:52.871789765Z",
     "start_time": "2024-05-07T19:24:48.645246423Z"
    }
   },
   "id": "bbd00c93d89e0cc1",
   "execution_count": 23
  },
  {
   "cell_type": "code",
   "outputs": [
    {
     "data": {
      "text/plain": "0.7218323844829869"
     },
     "execution_count": 24,
     "metadata": {},
     "output_type": "execute_result"
    }
   ],
   "source": [
    "# Evaluate baseline model on validation dataset\n",
    "model_0.score(X=val_sentences, y=val_labels_encoded)"
   ],
   "metadata": {
    "collapsed": false,
    "ExecuteTime": {
     "end_time": "2024-05-07T19:24:53.337859252Z",
     "start_time": "2024-05-07T19:24:52.894588917Z"
    }
   },
   "id": "cd7e196f61b1ef8b",
   "execution_count": 24
  },
  {
   "cell_type": "code",
   "outputs": [
    {
     "data": {
      "text/plain": "array([4, 1, 3, ..., 4, 4, 1])"
     },
     "execution_count": 25,
     "metadata": {},
     "output_type": "execute_result"
    }
   ],
   "source": [
    "# Make predictions using our baseline model\n",
    "baseline_preds = model_0.predict(X=val_sentences)\n",
    "baseline_preds"
   ],
   "metadata": {
    "collapsed": false,
    "ExecuteTime": {
     "end_time": "2024-05-07T19:24:53.722466793Z",
     "start_time": "2024-05-07T19:24:53.331070972Z"
    }
   },
   "id": "c32b0e0361ace420",
   "execution_count": 25
  },
  {
   "cell_type": "code",
   "outputs": [],
   "source": [
    "from MachineLearningUtils.data_visualization.evaluation_metrics import evaluate_classification_metrics"
   ],
   "metadata": {
    "collapsed": false,
    "ExecuteTime": {
     "end_time": "2024-05-07T19:24:53.762252610Z",
     "start_time": "2024-05-07T19:24:53.720754872Z"
    }
   },
   "id": "a4b38cc27e0ab6b7",
   "execution_count": 26
  },
  {
   "cell_type": "code",
   "outputs": [
    {
     "data": {
      "text/plain": "{'accuracy': 72.1832384482987,\n 'precision': 0.7186466952323352,\n 'recall': 0.7218323844829869,\n 'f1': 0.6989250353450294}"
     },
     "execution_count": 27,
     "metadata": {},
     "output_type": "execute_result"
    }
   ],
   "source": [
    "# Calculate beseline results\n",
    "baseline_results = evaluate_classification_metrics(y_true=val_labels_encoded,\n",
    "                                                   y_pred=baseline_preds)\n",
    "baseline_results"
   ],
   "metadata": {
    "collapsed": false,
    "ExecuteTime": {
     "end_time": "2024-05-07T19:24:53.840922999Z",
     "start_time": "2024-05-07T19:24:53.727593286Z"
    }
   },
   "id": "21ae8f2f510b8363",
   "execution_count": 27
  },
  {
   "cell_type": "markdown",
   "source": [
    "Video N°265: Preparing our data for deep sequence models"
   ],
   "metadata": {
    "collapsed": false
   },
   "id": "4df6a1086953b65a"
  },
  {
   "cell_type": "markdown",
   "source": [
    "## Preparing our data (the text) for deep sequence models\n",
    "\n",
    "Before we start building deeper models, we've got to create vectorization and embedding layers."
   ],
   "metadata": {
    "collapsed": false
   },
   "id": "7d42cf2aab2e6d9d"
  },
  {
   "cell_type": "code",
   "outputs": [],
   "source": [
    "import numpy as np\n",
    "from tensorflow.keras import layers"
   ],
   "metadata": {
    "collapsed": false,
    "ExecuteTime": {
     "end_time": "2024-05-07T19:24:53.888528936Z",
     "start_time": "2024-05-07T19:24:53.742507978Z"
    }
   },
   "id": "8a98148acbd53d97",
   "execution_count": 28
  },
  {
   "cell_type": "code",
   "outputs": [
    {
     "data": {
      "text/plain": "['to investigate the efficacy of @ weeks of daily low-dose oral prednisolone in improving pain , mobility , and systemic low-grade inflammation in the short term and whether the effect would be sustained at @ weeks in older adults with moderate to severe knee osteoarthritis ( oa ) .',\n 'a total of @ patients with primary knee oa were randomized @:@ ; @ received @ mg/day of prednisolone and @ received placebo for @ weeks .',\n 'outcome measures included pain reduction and improvement in function scores and systemic inflammation markers .',\n 'pain was assessed using the visual analog pain scale ( @-@ mm ) .',\n 'secondary outcome measures included the western ontario and mcmaster universities osteoarthritis index scores , patient global assessment ( pga ) of the severity of knee oa , and @-min walk distance ( @mwd ) .',\n 'serum levels of interleukin @ ( il-@ ) , il-@ , tumor necrosis factor ( tnf ) - , and high-sensitivity c-reactive protein ( hscrp ) were measured .',\n 'there was a clinically relevant reduction in the intervention group compared to the placebo group for knee pain , physical function , pga , and @mwd at @ weeks .',\n 'the mean difference between treatment arms ( @ % ci ) was @ ( @-@ @ ) , p < @ ; @ ( @-@ @ ) , p < @ ; @ ( @-@ @ ) , p < @ ; and @ ( @-@ @ ) , p < @ , respectively .',\n 'further , there was a clinically relevant reduction in the serum levels of il-@ , il-@ , tnf - , and hscrp at @ weeks in the intervention group when compared to the placebo group .',\n 'these differences remained significant at @ weeks .']"
     },
     "execution_count": 29,
     "metadata": {},
     "output_type": "execute_result"
    }
   ],
   "source": [
    "train_sentences[:10]"
   ],
   "metadata": {
    "collapsed": false,
    "ExecuteTime": {
     "end_time": "2024-05-07T19:24:53.905300178Z",
     "start_time": "2024-05-07T19:24:53.767862326Z"
    }
   },
   "id": "6e0d038edfe8db3f",
   "execution_count": 29
  },
  {
   "cell_type": "code",
   "outputs": [
    {
     "data": {
      "text/plain": "26.338269273494777"
     },
     "execution_count": 30,
     "metadata": {},
     "output_type": "execute_result"
    }
   ],
   "source": [
    "# How long is each sentence on average\n",
    "sent_lens = [len(sentence.split()) for sentence in train_sentences]\n",
    "avg_sent_len = np.mean(sent_lens)\n",
    "avg_sent_len"
   ],
   "metadata": {
    "collapsed": false,
    "ExecuteTime": {
     "end_time": "2024-05-07T19:24:54.077384581Z",
     "start_time": "2024-05-07T19:24:53.776951057Z"
    }
   },
   "id": "9f031e4e5a3647a3",
   "execution_count": 30
  },
  {
   "cell_type": "code",
   "outputs": [
    {
     "data": {
      "text/plain": "(array([4.2075e+04, 8.3771e+04, 3.6877e+04, 1.0945e+04, 3.9310e+03,\n        1.4450e+03, 5.6000e+02, 2.2600e+02, 1.0100e+02, 4.5000e+01,\n        2.0000e+01, 1.2000e+01, 9.0000e+00, 1.0000e+01, 6.0000e+00,\n        2.0000e+00, 3.0000e+00, 0.0000e+00, 1.0000e+00, 1.0000e+00]),\n array([  1.  ,  15.75,  30.5 ,  45.25,  60.  ,  74.75,  89.5 , 104.25,\n        119.  , 133.75, 148.5 , 163.25, 178.  , 192.75, 207.5 , 222.25,\n        237.  , 251.75, 266.5 , 281.25, 296.  ]),\n <BarContainer object of 20 artists>)"
     },
     "execution_count": 31,
     "metadata": {},
     "output_type": "execute_result"
    },
    {
     "data": {
      "text/plain": "<Figure size 640x480 with 1 Axes>",
      "image/png": "[encoded data removed]"
     },
     "metadata": {},
     "output_type": "display_data"
    }
   ],
   "source": [
    "# What's the distribution look like?\n",
    "import matplotlib.pyplot as plt\n",
    "plt.hist(sent_lens, bins=20)"
   ],
   "metadata": {
    "collapsed": false,
    "ExecuteTime": {
     "end_time": "2024-05-07T19:24:54.405941021Z",
     "start_time": "2024-05-07T19:24:53.948462527Z"
    }
   },
   "id": "eb6cab522b5f18b3",
   "execution_count": 31
  },
  {
   "cell_type": "code",
   "outputs": [
    {
     "data": {
      "text/plain": "55"
     },
     "execution_count": 32,
     "metadata": {},
     "output_type": "execute_result"
    }
   ],
   "source": [
    "# How long of a sentence lenght covers 95% of examples?\n",
    "output_seq_len = int(np.percentile(sent_lens, 95))\n",
    "output_seq_len"
   ],
   "metadata": {
    "collapsed": false,
    "ExecuteTime": {
     "end_time": "2024-05-07T19:24:54.433270412Z",
     "start_time": "2024-05-07T19:24:54.409873392Z"
    }
   },
   "id": "e191fc3a0943fcb0",
   "execution_count": 32
  },
  {
   "cell_type": "code",
   "outputs": [
    {
     "data": {
      "text/plain": "296"
     },
     "execution_count": 33,
     "metadata": {},
     "output_type": "execute_result"
    }
   ],
   "source": [
    "# Maximum sequence length in the training set\n",
    "max(sent_lens)"
   ],
   "metadata": {
    "collapsed": false,
    "ExecuteTime": {
     "end_time": "2024-05-07T19:24:54.525568909Z",
     "start_time": "2024-05-07T19:24:54.417547298Z"
    }
   },
   "id": "f2fab5acee93561d",
   "execution_count": 33
  },
  {
   "cell_type": "markdown",
   "source": [
    "Video N°266: Creating a text vectoriser to map our tokens (text) to numbers"
   ],
   "metadata": {
    "collapsed": false
   },
   "id": "3893f9ed26d4342b"
  },
  {
   "cell_type": "markdown",
   "source": [
    "### Create text vectorizer layer\n",
    "\n",
    "We want to make a layer which maps our texts from words to numbers."
   ],
   "metadata": {
    "collapsed": false
   },
   "id": "7a4112b57a484988"
  },
  {
   "cell_type": "code",
   "outputs": [],
   "source": [
    "# How many words are in our vocab? (taken from table 2 in: https://arxiv.org/pdf/1710.06071.pdf\n",
    "max_tokens = 68000"
   ],
   "metadata": {
    "collapsed": false,
    "ExecuteTime": {
     "end_time": "2024-05-07T19:24:54.550820486Z",
     "start_time": "2024-05-07T19:24:54.423811348Z"
    }
   },
   "id": "29dfad0cbb911e4c",
   "execution_count": 34
  },
  {
   "cell_type": "code",
   "outputs": [],
   "source": [
    "# Create text vectorizer\n",
    "from tensorflow.keras.layers.experimental.preprocessing import TextVectorization\n",
    "\n",
    "text_vectorizer = TextVectorization(max_tokens=max_tokens, # number of words in vocabulary\n",
    "                                    output_sequence_length=output_seq_len) # desired output length of vectorized sequences\n",
    "                                    "
   ],
   "metadata": {
    "collapsed": false,
    "ExecuteTime": {
     "end_time": "2024-05-07T19:24:54.604998519Z",
     "start_time": "2024-05-07T19:24:54.429315298Z"
    }
   },
   "id": "2d18b882f2877bc9",
   "execution_count": 35
  },
  {
   "cell_type": "code",
   "outputs": [],
   "source": [
    "# Adapt text vectorizer to training sentences\n",
    "text_vectorizer.adapt(train_sentences)"
   ],
   "metadata": {
    "collapsed": false,
    "ExecuteTime": {
     "end_time": "2024-05-07T19:25:02.703718832Z",
     "start_time": "2024-05-07T19:24:54.500727159Z"
    }
   },
   "id": "19657f08b87b54c2",
   "execution_count": 36
  },
  {
   "cell_type": "code",
   "outputs": [
    {
     "name": "stdout",
     "output_type": "stream",
     "text": [
      "Text:\n",
      "results suggest that @ anodal tdcs sessions may beneficially modulate regulation of cortical excitability for patients with tbi .\n",
      "\n",
      "Lenght of text: 19\n",
      "\n",
      "Vectorized text:\n",
      "[[  117   420    28  4798  1750   416    91 15178  4367  2327     4  2446\n",
      "   4076    11    12     7  3496     0     0     0     0     0     0     0\n",
      "      0     0     0     0     0     0     0     0     0     0     0     0\n",
      "      0     0     0     0     0     0     0     0     0     0     0     0\n",
      "      0     0     0     0     0     0     0]]\n"
     ]
    }
   ],
   "source": [
    "# Test out text vectorizer on random sentences\n",
    "import random\n",
    "target_sentence = random.choice(train_sentences)\n",
    "print(f\"Text:\\n{target_sentence}\")\n",
    "print(f\"\\nLenght of text: {len(target_sentence.split())}\")\n",
    "print(f\"\\nVectorized text:\\n{text_vectorizer([target_sentence])}\")"
   ],
   "metadata": {
    "collapsed": false,
    "ExecuteTime": {
     "end_time": "2024-05-07T19:25:03.625868114Z",
     "start_time": "2024-05-07T19:25:02.706099954Z"
    }
   },
   "id": "bb3f27966e4cc3c6",
   "execution_count": 37
  },
  {
   "cell_type": "code",
   "outputs": [
    {
     "name": "stdout",
     "output_type": "stream",
     "text": [
      "Number of words in vocab: 64841\n",
      "Most common words in the vocab: ['', '[UNK]', 'the', 'and', 'of']\n",
      "Least common words in the vocab: ['aainduced', 'aaigroup', 'aachener', 'aachen', 'aaacp']\n"
     ]
    }
   ],
   "source": [
    "# How many words in our training vocabulary\n",
    "rct_20k_text_vocab = text_vectorizer.get_vocabulary()\n",
    "print(f\"Number of words in vocab: {len(rct_20k_text_vocab)}\")\n",
    "print(f\"Most common words in the vocab: {rct_20k_text_vocab[:5]}\")\n",
    "print(f\"Least common words in the vocab: {rct_20k_text_vocab[-5:]}\")"
   ],
   "metadata": {
    "collapsed": false,
    "ExecuteTime": {
     "end_time": "2024-05-07T19:25:03.749915869Z",
     "start_time": "2024-05-07T19:25:03.618737452Z"
    }
   },
   "id": "1315ec9b88881b47",
   "execution_count": 38
  },
  {
   "cell_type": "code",
   "outputs": [
    {
     "data": {
      "text/plain": "{'name': 'text_vectorization',\n 'trainable': True,\n 'dtype': 'string',\n 'batch_input_shape': (None,),\n 'max_tokens': 68000,\n 'standardize': 'lower_and_strip_punctuation',\n 'split': 'whitespace',\n 'ngrams': None,\n 'output_mode': 'int',\n 'output_sequence_length': 55,\n 'pad_to_max_tokens': False,\n 'sparse': False,\n 'ragged': False,\n 'vocabulary': None,\n 'idf_weights': None,\n 'encoding': 'utf-8',\n 'vocabulary_size': 64841}"
     },
     "execution_count": 39,
     "metadata": {},
     "output_type": "execute_result"
    }
   ],
   "source": [
    "# Get the config of our text vectorizer\n",
    "text_vectorizer.get_config()"
   ],
   "metadata": {
    "collapsed": false,
    "ExecuteTime": {
     "end_time": "2024-05-07T19:25:03.772110954Z",
     "start_time": "2024-05-07T19:25:03.726262387Z"
    }
   },
   "id": "96dd730cb3cf01b",
   "execution_count": 39
  },
  {
   "cell_type": "markdown",
   "source": [
    "Video N°267: Creating a custom token embedding layer with TensorFlow"
   ],
   "metadata": {
    "collapsed": false
   },
   "id": "9adf171d258cf255"
  },
  {
   "cell_type": "markdown",
   "source": [
    "### Create custom text embedding"
   ],
   "metadata": {
    "collapsed": false
   },
   "id": "540e6261e85b27a2"
  },
  {
   "cell_type": "code",
   "outputs": [],
   "source": [
    "# Create token embedding layer\n",
    "token_embed = layers.Embedding(input_dim=len(rct_20k_text_vocab), # length of vocabulary\n",
    "                               output_dim=128, # Note: different embedding sizes result in drastically different numbers of parameters to train)\n",
    "                               mask_zero=True, # use masking to handle variable sequence lengths (save space)\n",
    "                               name=\"token_embedding\")"
   ],
   "metadata": {
    "collapsed": false,
    "ExecuteTime": {
     "end_time": "2024-05-07T19:25:03.777762380Z",
     "start_time": "2024-05-07T19:25:03.733827871Z"
    }
   },
   "id": "6dc4ebc5fa11b387",
   "execution_count": 40
  },
  {
   "cell_type": "code",
   "outputs": [
    {
     "name": "stdout",
     "output_type": "stream",
     "text": [
      "Sentence before vectorization:\n",
      " results suggest that @ anodal tdcs sessions may beneficially modulate regulation of cortical excitability for patients with tbi .\n",
      "\n",
      "Sentence after vectorization (before embedding):\n",
      " [[  117   420    28  4798  1750   416    91 15178  4367  2327     4  2446\n",
      "   4076    11    12     7  3496     0     0     0     0     0     0     0\n",
      "      0     0     0     0     0     0     0     0     0     0     0     0\n",
      "      0     0     0     0     0     0     0     0     0     0     0     0\n",
      "      0     0     0     0     0     0     0]]\n",
      "Sentence after embedding:\n",
      " [[[ 0.00823224 -0.01595951  0.03303034 ...  0.03108393  0.01674769\n",
      "   -0.04881677]\n",
      "  [ 0.03133135  0.0072942   0.03610994 ...  0.03149477 -0.00335679\n",
      "    0.0110847 ]\n",
      "  [ 0.00439236 -0.01395953 -0.01505718 ... -0.03225502 -0.00401763\n",
      "   -0.04610215]\n",
      "  ...\n",
      "  [-0.04163723  0.03206917  0.0297952  ...  0.01167155  0.03634791\n",
      "   -0.02985939]\n",
      "  [-0.04163723  0.03206917  0.0297952  ...  0.01167155  0.03634791\n",
      "   -0.02985939]\n",
      "  [-0.04163723  0.03206917  0.0297952  ...  0.01167155  0.03634791\n",
      "   -0.02985939]]]\n",
      "Embedded sentence shape: (1, 55, 128)\n"
     ]
    }
   ],
   "source": [
    "# Show example embedding\n",
    "print(f\"Sentence before vectorization:\\n {target_sentence}\\n\")\n",
    "vectorized_sentence = text_vectorizer([target_sentence])\n",
    "print(f\"Sentence after vectorization (before embedding):\\n {vectorized_sentence}\")\n",
    "embedded_sentence = token_embed(vectorized_sentence)\n",
    "print(f\"Sentence after embedding:\\n {embedded_sentence}\")\n",
    "print(f\"Embedded sentence shape: {embedded_sentence.shape}\")"
   ],
   "metadata": {
    "collapsed": false,
    "ExecuteTime": {
     "end_time": "2024-05-07T19:25:03.956011498Z",
     "start_time": "2024-05-07T19:25:03.743945768Z"
    }
   },
   "id": "e665c2f1e25300ac",
   "execution_count": 41
  },
  {
   "cell_type": "markdown",
   "source": [
    "Video N°268: Creating fast loading dataset with the TensorFlow tf.data.API "
   ],
   "metadata": {
    "collapsed": false
   },
   "id": "802b008a76192a23"
  },
  {
   "cell_type": "markdown",
   "source": [
    "## Creating datasets (making sure our data loads as fast as possible)\n",
    "\n",
    "We're going to setup our data to run as fast as possible with the TensorFlow `tf.data` API, many of the steps here are discussed at length in these two resources:\n",
    "* https://www.tensorflow.org/guide/data_performance\n",
    "* https://www.tensorflow.org/guide/data"
   ],
   "metadata": {
    "collapsed": false
   },
   "id": "efe396875bd3569b"
  },
  {
   "cell_type": "code",
   "outputs": [
    {
     "data": {
      "text/plain": "<_TensorSliceDataset element_spec=(TensorSpec(shape=(), dtype=tf.string, name=None), TensorSpec(shape=(5,), dtype=tf.float64, name=None))>"
     },
     "execution_count": 42,
     "metadata": {},
     "output_type": "execute_result"
    }
   ],
   "source": [
    "import tensorflow as tf\n",
    "# Turn our data into TensorFlow Datasets\n",
    "train_dataset = tf.data.Dataset.from_tensor_slices((train_sentences, train_labels_one_hot))\n",
    "valid_dataset = tf.data.Dataset.from_tensor_slices((val_sentences, val_labels_one_hot))\n",
    "test_dataset = tf.data.Dataset.from_tensor_slices((test_sentences, test_labels_one_hot))\n",
    "train_dataset"
   ],
   "metadata": {
    "collapsed": false,
    "ExecuteTime": {
     "end_time": "2024-05-07T19:25:04.247945729Z",
     "start_time": "2024-05-07T19:25:03.793085007Z"
    }
   },
   "id": "485751f03d4bef05",
   "execution_count": 42
  },
  {
   "cell_type": "code",
   "outputs": [
    {
     "data": {
      "text/plain": "<_PrefetchDataset element_spec=(TensorSpec(shape=(None,), dtype=tf.string, name=None), TensorSpec(shape=(None, 5), dtype=tf.float64, name=None))>"
     },
     "execution_count": 43,
     "metadata": {},
     "output_type": "execute_result"
    }
   ],
   "source": [
    "# Take the TensorSliceDataset's and turn them into prefetched datasets\n",
    "train_dataset = train_dataset.batch(32).prefetch(tf.data.AUTOTUNE)\n",
    "valid_dataset = valid_dataset.batch(32).prefetch(tf.data.AUTOTUNE)\n",
    "test_dataset = test_dataset.batch(32).prefetch(tf.data.AUTOTUNE)\n",
    "\n",
    "train_dataset"
   ],
   "metadata": {
    "collapsed": false,
    "ExecuteTime": {
     "end_time": "2024-05-07T19:25:04.332238591Z",
     "start_time": "2024-05-07T19:25:04.240424628Z"
    }
   },
   "id": "da5f5b0ee48f0c75",
   "execution_count": 43
  },
  {
   "cell_type": "markdown",
   "source": [
    "Video N°269: Model 1: Building, fitting and evaluating a Conv1D with token embeddings"
   ],
   "metadata": {
    "collapsed": false
   },
   "id": "5838a1a85e8cbc0e"
  },
  {
   "cell_type": "markdown",
   "source": [
    "## Model 1: Conv1D with token embeddings"
   ],
   "metadata": {
    "collapsed": false
   },
   "id": "e0b382dcc9461955"
  },
  {
   "cell_type": "code",
   "outputs": [],
   "source": [
    "# Create 1D conv model to process sequences\n",
    "inputs = layers.Input(shape=(1,), dtype=tf.string)\n",
    "text_vectors = text_vectorizer(inputs) # vectorize text inputs\n",
    "token_embeddings = token_embed(text_vectors) # create embedding\n",
    "x = layers.Conv1D(filters=64,\n",
    "                  kernel_size=5,\n",
    "                  padding=\"same\",\n",
    "                  activation=\"relu\")(token_embeddings)\n",
    "x = layers.GlobalAveragePooling1D()(x) # condense the output of our feature vector from conv layer\n",
    "outputs = layers.Dense(units=num_classes, activation=\"softmax\")(x)\n",
    "model_1 = tf.keras.Model(inputs=inputs, outputs=outputs)\n",
    "\n",
    "# Compile\n",
    "model_1.compile(loss=\"categorical_crossentropy\",\n",
    "                optimizer=tf.keras.optimizers.Adam(),\n",
    "                metrics=[\"accuracy\"])"
   ],
   "metadata": {
    "collapsed": false,
    "ExecuteTime": {
     "end_time": "2024-05-07T19:25:04.434209945Z",
     "start_time": "2024-05-07T19:25:04.254752746Z"
    }
   },
   "id": "ef268fec6c377b87",
   "execution_count": 44
  },
  {
   "cell_type": "code",
   "outputs": [
    {
     "name": "stdout",
     "output_type": "stream",
     "text": [
      "Model: \"model\"\n",
      "_________________________________________________________________\n",
      " Layer (type)                Output Shape              Param #   \n",
      "=================================================================\n",
      " input_1 (InputLayer)        [(None, 1)]               0         \n",
      "                                                                 \n",
      " text_vectorization (TextVe  (None, 55)                0         \n",
      " ctorization)                                                    \n",
      "                                                                 \n",
      " token_embedding (Embedding  (None, 55, 128)           8299648   \n",
      " )                                                               \n",
      "                                                                 \n",
      " conv1d (Conv1D)             (None, 55, 64)            41024     \n",
      "                                                                 \n",
      " global_average_pooling1d (  (None, 64)                0         \n",
      " GlobalAveragePooling1D)                                         \n",
      "                                                                 \n",
      " dense (Dense)               (None, 5)                 325       \n",
      "                                                                 \n",
      "=================================================================\n",
      "Total params: 8340997 (31.82 MB)\n",
      "Trainable params: 8340997 (31.82 MB)\n",
      "Non-trainable params: 0 (0.00 Byte)\n",
      "_________________________________________________________________\n"
     ]
    }
   ],
   "source": [
    "model_1.summary()"
   ],
   "metadata": {
    "collapsed": false,
    "ExecuteTime": {
     "end_time": "2024-05-07T19:25:04.488398454Z",
     "start_time": "2024-05-07T19:25:04.316233629Z"
    }
   },
   "id": "3b7f01aebd715cf7",
   "execution_count": 45
  },
  {
   "cell_type": "code",
   "outputs": [
    {
     "name": "stdout",
     "output_type": "stream",
     "text": [
      "Epoch 1/3\n"
     ]
    },
    {
     "name": "stderr",
     "output_type": "stream",
     "text": [
      "2024-05-07 21:25:04.923758: I external/local_xla/xla/stream_executor/cuda/cuda_dnn.cc:454] Loaded cuDNN version 8907\n",
      "2024-05-07 21:25:05.513957: I external/local_xla/xla/service/service.cc:168] XLA service 0x7f33faf418c0 initialized for platform CUDA (this does not guarantee that XLA will be used). Devices:\n",
      "2024-05-07 21:25:05.513983: I external/local_xla/xla/service/service.cc:176]   StreamExecutor device (0): NVIDIA GeForce RTX 3050, Compute Capability 8.6\n",
      "2024-05-07 21:25:05.535167: I tensorflow/compiler/mlir/tensorflow/utils/dump_mlir_util.cc:269] disabling MLIR crash reproducer, set env var `MLIR_CRASH_REPRODUCER_DIRECTORY` to enable.\n",
      "WARNING: All log messages before absl::InitializeLog() is called are written to STDERR\n",
      "I0000 00:00:1715109905.641886    6984 device_compiler.h:186] Compiled cluster using XLA!  This line is logged at most once for the lifetime of the process.\n"
     ]
    },
    {
     "name": "stdout",
     "output_type": "stream",
     "text": [
      "562/562 [==============================] - 19s 30ms/step - loss: 0.9110 - accuracy: 0.6383 - val_loss: 0.6927 - val_accuracy: 0.7370\n",
      "Epoch 2/3\n",
      "562/562 [==============================] - 6s 11ms/step - loss: 0.6664 - accuracy: 0.7518 - val_loss: 0.6377 - val_accuracy: 0.7689\n",
      "Epoch 3/3\n",
      "562/562 [==============================] - 5s 9ms/step - loss: 0.6255 - accuracy: 0.7714 - val_loss: 0.6022 - val_accuracy: 0.7856\n"
     ]
    }
   ],
   "source": [
    "# Fit the model\n",
    "history_model_1 = model_1.fit(x=train_dataset,\n",
    "                              steps_per_epoch=int(0.1 * len(train_dataset)),\n",
    "                              epochs=3,\n",
    "                              validation_data=valid_dataset,\n",
    "                              validation_steps=int(0.1 * len(valid_dataset))) # only validate on 10% of batches"
   ],
   "metadata": {
    "collapsed": false,
    "ExecuteTime": {
     "end_time": "2024-05-07T19:25:34.369128884Z",
     "start_time": "2024-05-07T19:25:04.363353573Z"
    }
   },
   "id": "74bc51aa2dd4f7b0",
   "execution_count": 46
  },
  {
   "cell_type": "code",
   "outputs": [
    {
     "name": "stdout",
     "output_type": "stream",
     "text": [
      "945/945 [==============================] - 3s 3ms/step - loss: 0.6064 - accuracy: 0.7834\n"
     ]
    },
    {
     "data": {
      "text/plain": "[0.6063529253005981, 0.7833973169326782]"
     },
     "execution_count": 47,
     "metadata": {},
     "output_type": "execute_result"
    }
   ],
   "source": [
    "# Evaluate on whole validation dataset\n",
    "model_1.evaluate(x=valid_dataset)"
   ],
   "metadata": {
    "collapsed": false,
    "ExecuteTime": {
     "end_time": "2024-05-07T19:25:37.470772632Z",
     "start_time": "2024-05-07T19:25:34.358012158Z"
    }
   },
   "id": "2fe88bdb35b65a11",
   "execution_count": 47
  },
  {
   "cell_type": "code",
   "outputs": [
    {
     "name": "stdout",
     "output_type": "stream",
     "text": [
      "945/945 [==============================] - 2s 2ms/step\n"
     ]
    },
    {
     "data": {
      "text/plain": "(array([[4.0891087e-01, 2.2588722e-01, 8.7515295e-02, 2.4334642e-01,\n         3.4340277e-02],\n        [4.3308410e-01, 2.8520676e-01, 1.0441029e-02, 2.6570255e-01,\n         5.5655469e-03],\n        [1.3582610e-01, 1.5660811e-02, 2.8181528e-03, 8.4565759e-01,\n         3.7309932e-05],\n        ...,\n        [3.0226729e-06, 7.9006242e-04, 9.7533496e-04, 1.3121823e-06,\n         9.9823028e-01],\n        [5.8393583e-02, 4.9242646e-01, 9.2774883e-02, 6.6599876e-02,\n         2.8980520e-01],\n        [1.8875463e-01, 5.9409732e-01, 4.1185878e-02, 6.6567287e-02,\n         1.0939485e-01]], dtype=float32),\n (30212, 5))"
     },
     "execution_count": 48,
     "metadata": {},
     "output_type": "execute_result"
    }
   ],
   "source": [
    "# Make predictions (our model predicts prediction probabilities for each class)\n",
    "model_1_pred_probs = model_1.predict(valid_dataset)\n",
    "model_1_pred_probs, model_1_pred_probs.shape"
   ],
   "metadata": {
    "collapsed": false,
    "ExecuteTime": {
     "end_time": "2024-05-07T19:25:40.194103944Z",
     "start_time": "2024-05-07T19:25:37.465675070Z"
    }
   },
   "id": "4ef68cc0b8511a63",
   "execution_count": 48
  },
  {
   "cell_type": "code",
   "outputs": [
    {
     "data": {
      "text/plain": "<tf.Tensor: shape=(30212,), dtype=int64, numpy=array([0, 0, 3, ..., 4, 1, 1])>"
     },
     "execution_count": 49,
     "metadata": {},
     "output_type": "execute_result"
    }
   ],
   "source": [
    "# Convert pred probs to classes\n",
    "model_1_preds = tf.argmax(model_1_pred_probs, axis=1)\n",
    "model_1_preds"
   ],
   "metadata": {
    "collapsed": false,
    "ExecuteTime": {
     "end_time": "2024-05-07T19:25:40.219713522Z",
     "start_time": "2024-05-07T19:25:40.188169928Z"
    }
   },
   "id": "e6896aa570e494f",
   "execution_count": 49
  },
  {
   "cell_type": "code",
   "outputs": [
    {
     "data": {
      "text/plain": "{'accuracy': 78.33973255660003,\n 'precision': 0.7799098862334409,\n 'recall': 0.7833973255660003,\n 'f1': 0.7808153932375931}"
     },
     "execution_count": 50,
     "metadata": {},
     "output_type": "execute_result"
    }
   ],
   "source": [
    "# Calculate model_1 results\n",
    "model_1_results = evaluate_classification_metrics(y_true=val_labels_encoded,\n",
    "                                                  y_pred=model_1_preds)\n",
    "model_1_results"
   ],
   "metadata": {
    "collapsed": false,
    "ExecuteTime": {
     "end_time": "2024-05-07T19:25:40.308452299Z",
     "start_time": "2024-05-07T19:25:40.194363159Z"
    }
   },
   "id": "2397edbe39bb6bbc",
   "execution_count": 50
  },
  {
   "cell_type": "code",
   "outputs": [
    {
     "data": {
      "text/plain": "array([ True,  True,  True,  True])"
     },
     "execution_count": 51,
     "metadata": {},
     "output_type": "execute_result"
    }
   ],
   "source": [
    "np.array(list(model_1_results.values())) > np.array(list(baseline_results.values()))"
   ],
   "metadata": {
    "collapsed": false,
    "ExecuteTime": {
     "end_time": "2024-05-07T19:25:40.313682359Z",
     "start_time": "2024-05-07T19:25:40.209045353Z"
    }
   },
   "id": "461c09a6fdf69a9a",
   "execution_count": 51
  },
  {
   "cell_type": "markdown",
   "source": [
    "**model_1** est meilleur en tout point que **baseline**"
   ],
   "metadata": {
    "collapsed": false
   },
   "id": "56095c6eb4195128"
  },
  {
   "cell_type": "markdown",
   "source": [
    "Video N°270: Preparing a pretrained embedding layer from TensorFlow Hub for Model 2"
   ],
   "metadata": {
    "collapsed": false
   },
   "id": "be23043113119a97"
  },
  {
   "cell_type": "markdown",
   "source": [
    "## Model 2: Feature extraction with pretrained token embeddings\n",
    "\n",
    "Now lets use pretrained word embeddings from TensorFlow Hub, more specifically the universal sentence encoder (USE): https://tfhub.dev/google/universal-sentence-encoder/4\n",
    "\n",
    "The paper originally used GloVe embeddings, however, we're going to stick with the later created USE pretrained embeddings."
   ],
   "metadata": {
    "collapsed": false
   },
   "id": "62adbf98e50892f4"
  },
  {
   "cell_type": "code",
   "outputs": [],
   "source": [
    "# Download pretrained TensorFlow Hub USE\n",
    "import tensorflow_hub as hub\n",
    "tf_hub_embedding_layer = hub.KerasLayer(\"https://tfhub.dev/google/universal-sentence-encoder/4\",\n",
    "                                        trainable=False,\n",
    "                                        name=\"universal_sentence_encoder\")"
   ],
   "metadata": {
    "collapsed": false,
    "ExecuteTime": {
     "end_time": "2024-05-07T19:26:50.717349952Z",
     "start_time": "2024-05-07T19:25:40.213507167Z"
    }
   },
   "id": "8d2ce5be9bcbb6c6",
   "execution_count": 52
  },
  {
   "cell_type": "code",
   "outputs": [
    {
     "name": "stdout",
     "output_type": "stream",
     "text": [
      "Random sentence:\n",
      " results of this study do not support routine drainage after thyroid surgery .\n",
      "Setence after embedding:\n",
      "[ 0.01414044  0.027445    0.05491293  0.0097738  -0.02046352 -0.03557415\n",
      "  0.0633174  -0.05404737  0.00838923  0.06858092  0.08077455  0.06338845\n",
      "  0.06811513  0.00810357 -0.0261861  -0.03741514 -0.09256278  0.03691586\n",
      " -0.05846965 -0.03249252 -0.06413883  0.06713349 -0.0068882  -0.00615879\n",
      " -0.00801423 -0.00932506  0.00421853  0.02182165  0.00270065  0.03518108]\n",
      "\n",
      "Length of sentence embedding: 512\n"
     ]
    }
   ],
   "source": [
    "# Test out the pretrained embedding on a random sentence\n",
    "random_train_sentence = random.choice(train_sentences)\n",
    "print(f\"Random sentence:\\n {random_train_sentence}\")\n",
    "use_embedded_sentence = tf_hub_embedding_layer([random_train_sentence])\n",
    "print(f\"Setence after embedding:\\n{use_embedded_sentence[0][:30]}\\n\")\n",
    "print(f\"Length of sentence embedding: {len(use_embedded_sentence[0])}\")"
   ],
   "metadata": {
    "collapsed": false,
    "ExecuteTime": {
     "end_time": "2024-05-07T19:26:52.193392030Z",
     "start_time": "2024-05-07T19:26:50.720765846Z"
    }
   },
   "id": "d0c58a88b7158cc6",
   "execution_count": 53
  },
  {
   "cell_type": "markdown",
   "source": [
    "Video N°271: Model 2:Building, fitting and evaluating a Conv1D model with token embeddings"
   ],
   "metadata": {
    "collapsed": false
   },
   "id": "894938efb8263914"
  },
  {
   "cell_type": "markdown",
   "source": [
    "### Building and fitting an NLP feature extraction model using pretrained embeddings TensorFlow Hub"
   ],
   "metadata": {
    "collapsed": false
   },
   "id": "c98cc3cac193b364"
  },
  {
   "cell_type": "code",
   "outputs": [],
   "source": [
    "# Define feature extraction model using TF Hub layer\n",
    "inputs = layers.Input(shape=[], dtype=tf.string)\n",
    "pretrained_embedding = tf_hub_embedding_layer(inputs) # tokenize text and create embedding of each sequence (512 long vector)\n",
    "x = layers.Dense(units=128, activation=\"relu\")(pretrained_embedding)\n",
    "# Note: you could add more layers here if you wanted to\n",
    "outputs = layers.Dense(units=num_classes, activation=\"softmax\")(x)\n",
    "model_2 = tf.keras.Model(inputs=inputs,\n",
    "                         outputs=outputs,\n",
    "                         name=\"model_2_USE_feature_extractor\")\n",
    "\n",
    "# Compile the model\n",
    "model_2.compile(loss=\"categorical_crossentropy\",\n",
    "                optimizer=tf.keras.optimizers.Adam(),\n",
    "                metrics=['accuracy'])"
   ],
   "metadata": {
    "collapsed": false,
    "ExecuteTime": {
     "end_time": "2024-05-07T19:26:52.562864876Z",
     "start_time": "2024-05-07T19:26:52.189632818Z"
    }
   },
   "id": "da6240508e59b524",
   "execution_count": 54
  },
  {
   "cell_type": "code",
   "outputs": [
    {
     "name": "stdout",
     "output_type": "stream",
     "text": [
      "Model: \"model_2_USE_feature_extractor\"\n",
      "_________________________________________________________________\n",
      " Layer (type)                Output Shape              Param #   \n",
      "=================================================================\n",
      " input_2 (InputLayer)        [(None,)]                 0         \n",
      "                                                                 \n",
      " universal_sentence_encoder  (None, 512)               256797824 \n",
      "  (KerasLayer)                                                   \n",
      "                                                                 \n",
      " dense_1 (Dense)             (None, 128)               65664     \n",
      "                                                                 \n",
      " dense_2 (Dense)             (None, 5)                 645       \n",
      "                                                                 \n",
      "=================================================================\n",
      "Total params: 256864133 (979.86 MB)\n",
      "Trainable params: 66309 (259.02 KB)\n",
      "Non-trainable params: 256797824 (979.61 MB)\n",
      "_________________________________________________________________\n"
     ]
    }
   ],
   "source": [
    "model_2.summary()"
   ],
   "metadata": {
    "collapsed": false,
    "ExecuteTime": {
     "end_time": "2024-05-07T19:26:52.788444888Z",
     "start_time": "2024-05-07T19:26:52.563766428Z"
    }
   },
   "id": "e987bbd026ef65c7",
   "execution_count": 55
  },
  {
   "cell_type": "code",
   "outputs": [
    {
     "name": "stdout",
     "output_type": "stream",
     "text": [
      "Epoch 1/3\n",
      "562/562 [==============================] - 10s 15ms/step - loss: 0.9197 - accuracy: 0.6510 - val_loss: 0.7959 - val_accuracy: 0.6915\n",
      "Epoch 2/3\n",
      "562/562 [==============================] - 8s 15ms/step - loss: 0.7680 - accuracy: 0.7027 - val_loss: 0.7538 - val_accuracy: 0.7064\n",
      "Epoch 3/3\n",
      "562/562 [==============================] - 8s 15ms/step - loss: 0.7510 - accuracy: 0.7140 - val_loss: 0.7382 - val_accuracy: 0.7128\n"
     ]
    }
   ],
   "source": [
    "# Fit model_2 to the data\n",
    "history_model_2 = model_2.fit(x=train_dataset,\n",
    "                              epochs=3,\n",
    "                              steps_per_epoch=int(0.1 * len(train_dataset)),\n",
    "                              validation_data=valid_dataset,\n",
    "                              validation_steps=int(0.1 * len(valid_dataset)))"
   ],
   "metadata": {
    "collapsed": false,
    "ExecuteTime": {
     "end_time": "2024-05-07T19:27:19.685827019Z",
     "start_time": "2024-05-07T19:26:52.627428316Z"
    }
   },
   "id": "1faff0370aa5e702",
   "execution_count": 56
  },
  {
   "cell_type": "code",
   "outputs": [
    {
     "name": "stdout",
     "output_type": "stream",
     "text": [
      "945/945 [==============================] - 12s 12ms/step - loss: 0.7399 - accuracy: 0.7154\n"
     ]
    },
    {
     "data": {
      "text/plain": "[0.7398792505264282, 0.7154110670089722]"
     },
     "execution_count": 57,
     "metadata": {},
     "output_type": "execute_result"
    }
   ],
   "source": [
    "# Evaluate on the whole validation dataset\n",
    "model_2.evaluate(x=valid_dataset)"
   ],
   "metadata": {
    "collapsed": false,
    "ExecuteTime": {
     "end_time": "2024-05-07T19:27:31.443336329Z",
     "start_time": "2024-05-07T19:27:19.679334790Z"
    }
   },
   "id": "1097ea8d6ad88801",
   "execution_count": 57
  },
  {
   "cell_type": "code",
   "outputs": [
    {
     "name": "stdout",
     "output_type": "stream",
     "text": [
      "945/945 [==============================] - 11s 12ms/step\n"
     ]
    },
    {
     "data": {
      "text/plain": "array([[0.42163175, 0.37619767, 0.00167985, 0.1939298 , 0.00656098],\n       [0.361913  , 0.47977594, 0.00249695, 0.1535645 , 0.00224958],\n       [0.22455627, 0.14913234, 0.01482393, 0.5727306 , 0.03875689],\n       ...,\n       [0.0019677 , 0.00496587, 0.0469427 , 0.00103385, 0.9450898 ],\n       [0.00446862, 0.05082059, 0.17636667, 0.0016412 , 0.76670295],\n       [0.19406018, 0.25745368, 0.48128405, 0.00849279, 0.05870925]],\n      dtype=float32)"
     },
     "execution_count": 58,
     "metadata": {},
     "output_type": "execute_result"
    }
   ],
   "source": [
    "# Make predictions with feature extraction model\n",
    "model_2_pred_probs = model_2.predict(valid_dataset)\n",
    "model_2_pred_probs"
   ],
   "metadata": {
    "collapsed": false,
    "ExecuteTime": {
     "end_time": "2024-05-07T19:27:43.157065940Z",
     "start_time": "2024-05-07T19:27:31.431124987Z"
    }
   },
   "id": "1fa775a927e73a41",
   "execution_count": 58
  },
  {
   "cell_type": "code",
   "outputs": [
    {
     "data": {
      "text/plain": "<tf.Tensor: shape=(30212,), dtype=int64, numpy=array([0, 1, 3, ..., 4, 4, 2])>"
     },
     "execution_count": 59,
     "metadata": {},
     "output_type": "execute_result"
    }
   ],
   "source": [
    "# Convert the prediction probabilities found with feature extraction model to labels\n",
    "model_2_preds = tf.argmax(model_2_pred_probs, axis=1)\n",
    "model_2_preds"
   ],
   "metadata": {
    "collapsed": false,
    "ExecuteTime": {
     "end_time": "2024-05-07T19:27:43.181116467Z",
     "start_time": "2024-05-07T19:27:43.146793623Z"
    }
   },
   "id": "f090c8bdc1286651",
   "execution_count": 59
  },
  {
   "cell_type": "code",
   "outputs": [
    {
     "data": {
      "text/plain": "{'accuracy': 71.54110949291672,\n 'precision': 0.7162144042462889,\n 'recall': 0.7154110949291672,\n 'f1': 0.7123819087301385}"
     },
     "execution_count": 60,
     "metadata": {},
     "output_type": "execute_result"
    }
   ],
   "source": [
    "# Calculate results from TF Hub pretrained embeddings results on val set\n",
    "model_2_results = evaluate_classification_metrics(y_true=val_labels_encoded,\n",
    "                                                  y_pred=model_2_preds)\n",
    "model_2_results"
   ],
   "metadata": {
    "collapsed": false,
    "ExecuteTime": {
     "end_time": "2024-05-07T19:27:43.256942310Z",
     "start_time": "2024-05-07T19:27:43.152411216Z"
    }
   },
   "id": "39d4cd31f3eac8f3",
   "execution_count": 60
  },
  {
   "cell_type": "code",
   "outputs": [
    {
     "data": {
      "text/plain": "array([False, False, False,  True])"
     },
     "execution_count": 61,
     "metadata": {},
     "output_type": "execute_result"
    }
   ],
   "source": [
    "np.array(list(model_2_results.values())) > np.array(list(baseline_results.values()))"
   ],
   "metadata": {
    "collapsed": false,
    "ExecuteTime": {
     "end_time": "2024-05-07T19:27:43.262096923Z",
     "start_time": "2024-05-07T19:27:43.165696379Z"
    }
   },
   "id": "354a8dd846509eed",
   "execution_count": 61
  },
  {
   "cell_type": "markdown",
   "source": [
    "**model_2** n'a que le f1 de mieux que le **baseline**, bof bof..."
   ],
   "metadata": {
    "collapsed": false
   },
   "id": "28f87a4a58861566"
  },
  {
   "cell_type": "markdown",
   "source": [
    "Video N° 272: Creating a character-level tokeniser with TensorFlow's TextVectorization layer"
   ],
   "metadata": {
    "collapsed": false
   },
   "id": "c2ea5f1d6716e3f6"
  },
  {
   "cell_type": "markdown",
   "source": [
    "## Model 3: Conv1D with character embeddings\n",
    "\n",
    "The paper which we're replicating states they used a combination of token and character-level embeddings.\n",
    "\n",
    "Previously we've token-level embeddings but we'll need to do similar steps for characters if we want to use char-level embeddings. "
   ],
   "metadata": {
    "collapsed": false
   },
   "id": "7a71df345bfa9fa2"
  },
  {
   "cell_type": "markdown",
   "source": [
    "### Creating a character-level tokenizer"
   ],
   "metadata": {
    "collapsed": false
   },
   "id": "c07d591f89748e6"
  },
  {
   "cell_type": "code",
   "outputs": [
    {
     "data": {
      "text/plain": "['to investigate the efficacy of @ weeks of daily low-dose oral prednisolone in improving pain , mobility , and systemic low-grade inflammation in the short term and whether the effect would be sustained at @ weeks in older adults with moderate to severe knee osteoarthritis ( oa ) .',\n 'a total of @ patients with primary knee oa were randomized @:@ ; @ received @ mg/day of prednisolone and @ received placebo for @ weeks .',\n 'outcome measures included pain reduction and improvement in function scores and systemic inflammation markers .',\n 'pain was assessed using the visual analog pain scale ( @-@ mm ) .',\n 'secondary outcome measures included the western ontario and mcmaster universities osteoarthritis index scores , patient global assessment ( pga ) of the severity of knee oa , and @-min walk distance ( @mwd ) .']"
     },
     "execution_count": 62,
     "metadata": {},
     "output_type": "execute_result"
    }
   ],
   "source": [
    "train_sentences[:5]"
   ],
   "metadata": {
    "collapsed": false,
    "ExecuteTime": {
     "end_time": "2024-05-07T19:27:43.282943410Z",
     "start_time": "2024-05-07T19:27:43.171119921Z"
    }
   },
   "id": "3723b6177a5de30e",
   "execution_count": 62
  },
  {
   "cell_type": "code",
   "outputs": [
    {
     "data": {
      "text/plain": "'r e s u l t s   o f   t h i s   s t u d y   d o   n o t   s u p p o r t   r o u t i n e   d r a i n a g e   a f t e r   t h y r o i d   s u r g e r y   .'"
     },
     "execution_count": 63,
     "metadata": {},
     "output_type": "execute_result"
    }
   ],
   "source": [
    "# Make function to split sentences into characters\n",
    "def split_chars(text):\n",
    "    return \" \".join(list(text))\n",
    "\n",
    "# Text splitting non-character-level sequence into characters\n",
    "split_chars(random_train_sentence)"
   ],
   "metadata": {
    "collapsed": false,
    "ExecuteTime": {
     "end_time": "2024-05-07T19:27:43.316881980Z",
     "start_time": "2024-05-07T19:27:43.176749817Z"
    }
   },
   "id": "62d29f4ad0b26936",
   "execution_count": 63
  },
  {
   "cell_type": "code",
   "outputs": [
    {
     "data": {
      "text/plain": "['t o   i n v e s t i g a t e   t h e   e f f i c a c y   o f   @   w e e k s   o f   d a i l y   l o w - d o s e   o r a l   p r e d n i s o l o n e   i n   i m p r o v i n g   p a i n   ,   m o b i l i t y   ,   a n d   s y s t e m i c   l o w - g r a d e   i n f l a m m a t i o n   i n   t h e   s h o r t   t e r m   a n d   w h e t h e r   t h e   e f f e c t   w o u l d   b e   s u s t a i n e d   a t   @   w e e k s   i n   o l d e r   a d u l t s   w i t h   m o d e r a t e   t o   s e v e r e   k n e e   o s t e o a r t h r i t i s   (   o a   )   .',\n 'a   t o t a l   o f   @   p a t i e n t s   w i t h   p r i m a r y   k n e e   o a   w e r e   r a n d o m i z e d   @ : @   ;   @   r e c e i v e d   @   m g / d a y   o f   p r e d n i s o l o n e   a n d   @   r e c e i v e d   p l a c e b o   f o r   @   w e e k s   .',\n 'o u t c o m e   m e a s u r e s   i n c l u d e d   p a i n   r e d u c t i o n   a n d   i m p r o v e m e n t   i n   f u n c t i o n   s c o r e s   a n d   s y s t e m i c   i n f l a m m a t i o n   m a r k e r s   .',\n 'p a i n   w a s   a s s e s s e d   u s i n g   t h e   v i s u a l   a n a l o g   p a i n   s c a l e   (   @ - @   m m   )   .',\n 's e c o n d a r y   o u t c o m e   m e a s u r e s   i n c l u d e d   t h e   w e s t e r n   o n t a r i o   a n d   m c m a s t e r   u n i v e r s i t i e s   o s t e o a r t h r i t i s   i n d e x   s c o r e s   ,   p a t i e n t   g l o b a l   a s s e s s m e n t   (   p g a   )   o f   t h e   s e v e r i t y   o f   k n e e   o a   ,   a n d   @ - m i n   w a l k   d i s t a n c e   (   @ m w d   )   .']"
     },
     "execution_count": 64,
     "metadata": {},
     "output_type": "execute_result"
    }
   ],
   "source": [
    "# Split sequence-level data splits into character-level data splits\n",
    "train_chars = [split_chars(sentence) for sentence in train_sentences]\n",
    "val_chars = [split_chars(sentence) for sentence in val_sentences]\n",
    "test_chars = [split_chars(sentence) for sentence in test_sentences]\n",
    "train_chars[:5]"
   ],
   "metadata": {
    "collapsed": false,
    "ExecuteTime": {
     "end_time": "2024-05-07T19:27:43.692157602Z",
     "start_time": "2024-05-07T19:27:43.181967418Z"
    }
   },
   "id": "faa983bc9b2dc601",
   "execution_count": 64
  },
  {
   "cell_type": "code",
   "outputs": [
    {
     "data": {
      "text/plain": "149.3662574983337"
     },
     "execution_count": 65,
     "metadata": {},
     "output_type": "execute_result"
    }
   ],
   "source": [
    "# What's the average character length?\n",
    "char_lens = [len(sentence) for sentence in train_sentences]\n",
    "mean_char_len = np.mean(char_lens)\n",
    "mean_char_len"
   ],
   "metadata": {
    "collapsed": false,
    "ExecuteTime": {
     "end_time": "2024-05-07T19:27:43.767434565Z",
     "start_time": "2024-05-07T19:27:43.708864910Z"
    }
   },
   "id": "cf34ebd543ac258c",
   "execution_count": 65
  },
  {
   "cell_type": "code",
   "outputs": [
    {
     "data": {
      "text/plain": "(array([1.41175e+05, 3.71110e+04, 1.60000e+03, 1.27000e+02, 2.10000e+01,\n        5.00000e+00, 1.00000e+00]),\n array([1.00000000e+00, 1.98857143e+02, 3.96714286e+02, 5.94571429e+02,\n        7.92428571e+02, 9.90285714e+02, 1.18814286e+03, 1.38600000e+03]),\n <BarContainer object of 7 artists>)"
     },
     "execution_count": 66,
     "metadata": {},
     "output_type": "execute_result"
    },
    {
     "data": {
      "text/plain": "<Figure size 640x480 with 1 Axes>",
      "image/png": "[encoded data removed]"
     },
     "metadata": {},
     "output_type": "display_data"
    }
   ],
   "source": [
    "# Check the distribution of our sequences at a character-level\n",
    "plt.hist(char_lens, bins=7)"
   ],
   "metadata": {
    "collapsed": false,
    "ExecuteTime": {
     "end_time": "2024-05-07T19:27:44.227535593Z",
     "start_time": "2024-05-07T19:27:43.714983293Z"
    }
   },
   "id": "ea7aed4627ded4e7",
   "execution_count": 66
  },
  {
   "cell_type": "code",
   "outputs": [
    {
     "data": {
      "text/plain": "290"
     },
     "execution_count": 67,
     "metadata": {},
     "output_type": "execute_result"
    }
   ],
   "source": [
    "# Find what character length covers 95% of sequences\n",
    "output_seq_char_len = int(np.percentile(char_lens, 95))\n",
    "output_seq_char_len"
   ],
   "metadata": {
    "collapsed": false,
    "ExecuteTime": {
     "end_time": "2024-05-07T19:27:44.343359036Z",
     "start_time": "2024-05-07T19:27:44.238495759Z"
    }
   },
   "id": "6cd92b12c59b3e19",
   "execution_count": 67
  },
  {
   "cell_type": "code",
   "outputs": [
    {
     "data": {
      "text/plain": "'abcdefghijklmnopqrstuvwxyz0123456789!\"#$%&\\'()*+,-./:;<=>?@[\\\\]^_`{|}~'"
     },
     "execution_count": 68,
     "metadata": {},
     "output_type": "execute_result"
    }
   ],
   "source": [
    "# Get all keyboard characters\n",
    "import string\n",
    "alphabet = string.ascii_lowercase + string.digits + string.punctuation\n",
    "alphabet"
   ],
   "metadata": {
    "collapsed": false,
    "ExecuteTime": {
     "end_time": "2024-05-07T19:27:44.401191004Z",
     "start_time": "2024-05-07T19:27:44.244619122Z"
    }
   },
   "id": "1ce4e9618a26a227",
   "execution_count": 68
  },
  {
   "cell_type": "code",
   "outputs": [],
   "source": [
    "# Create char-level token vectorizer instance\n",
    "NUM_CHAR_TOKENS = len(alphabet) + 2 # add 2 for space and OOV token (OOV = out of vocab, '[UNK]')\n",
    "char_vectorizer = TextVectorization(max_tokens=NUM_CHAR_TOKENS,\n",
    "                                    output_sequence_length=output_seq_char_len,\n",
    "                                    standardize=\"lower_and_strip_punctuation\", # set standardization to \"None\" if you want to leave punctuation in\n",
    "                                    name=\"char_vectorizer\")"
   ],
   "metadata": {
    "collapsed": false,
    "ExecuteTime": {
     "end_time": "2024-05-07T19:27:44.404905082Z",
     "start_time": "2024-05-07T19:27:44.249635549Z"
    }
   },
   "id": "887f5185b1fd9205",
   "execution_count": 69
  },
  {
   "cell_type": "code",
   "outputs": [],
   "source": [
    "# Adapt character vectorizer to training character\n",
    "char_vectorizer.adapt(train_chars)"
   ],
   "metadata": {
    "collapsed": false,
    "ExecuteTime": {
     "end_time": "2024-05-07T19:27:54.372126808Z",
     "start_time": "2024-05-07T19:27:44.263189822Z"
    }
   },
   "id": "f4ede5b47c8ef603",
   "execution_count": 70
  },
  {
   "cell_type": "code",
   "outputs": [
    {
     "name": "stdout",
     "output_type": "stream",
     "text": [
      "Number of different characters in character vocab: 28\n",
      "5 most common characters: ['', '[UNK]', 'e', 't', 'i']\n",
      "5 least common characters: ['k', 'x', 'z', 'q', 'j']\n"
     ]
    }
   ],
   "source": [
    "# Check character vocab stats\n",
    "char_vocab = char_vectorizer.get_vocabulary()\n",
    "print(f\"Number of different characters in character vocab: {len(char_vocab)}\")\n",
    "print(f\"5 most common characters: {char_vocab[:5]}\")\n",
    "print(f\"5 least common characters: {char_vocab[-5:]}\")"
   ],
   "metadata": {
    "collapsed": false,
    "ExecuteTime": {
     "end_time": "2024-05-07T19:27:54.409477083Z",
     "start_time": "2024-05-07T19:27:54.373751456Z"
    }
   },
   "id": "6f8a331d639e8a84",
   "execution_count": 71
  },
  {
   "cell_type": "code",
   "outputs": [
    {
     "name": "stdout",
     "output_type": "stream",
     "text": [
      "Charified text:\n",
      " o u r   s t u d y   a d d r e s s e s   t h e   o p p o r t u n i t y   f o r   i m p r o v i n g   s u r g i c a l   o u t c o m e   b y   e m p l o y i n g   p l a t e l e t - r i c h   p l a s m a   (   p r p   )   g e l   a t   t h e   s u r g i c a l   s i t e   .\n",
      "\n",
      "Length of random_train_chars: 114\n",
      "\n",
      "Vectorized chars:\n",
      " [[ 7 16  8  9  3 16 10 19  5 10 10  8  2  9  9  2  9  3 13  2  7 14 14  7\n",
      "   8  3 16  6  4  3 19 17  7  8  4 15 14  8  7 21  4  6 18  9 16  8 18  4\n",
      "  11  5 12  7 16  3 11  7 15  2 22 19  2 15 14 12  7 19  4  6 18 14 12  5\n",
      "   3  2 12  2  3  8  4 11 13 14 12  5  9 15  5 14  8 14 18  2 12  5  3  3\n",
      "  13  2  9 16  8 18  4 11  5 12  9  4  3  2  0  0  0  0  0  0  0  0  0  0\n",
      "   0  0  0  0  0  0  0  0  0  0  0  0  0  0  0  0  0  0  0  0  0  0  0  0\n",
      "   0  0  0  0  0  0  0  0  0  0  0  0  0  0  0  0  0  0  0  0  0  0  0  0\n",
      "   0  0  0  0  0  0  0  0  0  0  0  0  0  0  0  0  0  0  0  0  0  0  0  0\n",
      "   0  0  0  0  0  0  0  0  0  0  0  0  0  0  0  0  0  0  0  0  0  0  0  0\n",
      "   0  0  0  0  0  0  0  0  0  0  0  0  0  0  0  0  0  0  0  0  0  0  0  0\n",
      "   0  0  0  0  0  0  0  0  0  0  0  0  0  0  0  0  0  0  0  0  0  0  0  0\n",
      "   0  0  0  0  0  0  0  0  0  0  0  0  0  0  0  0  0  0  0  0  0  0  0  0\n",
      "   0  0]]\n",
      "\n",
      "Length of vectorized chars: 290\n"
     ]
    }
   ],
   "source": [
    "# Test out character vectorizer\n",
    "random_train_chars = random.choice(train_chars)\n",
    "print(f\"Charified text:\\n {random_train_chars}\")\n",
    "print(f\"\\nLength of random_train_chars: {len(random_train_chars.split())}\")\n",
    "vectorized_chars = char_vectorizer([random_train_chars])\n",
    "print(f\"\\nVectorized chars:\\n {vectorized_chars}\")\n",
    "print(f\"\\nLength of vectorized chars: {len(vectorized_chars[0])}\")"
   ],
   "metadata": {
    "collapsed": false,
    "ExecuteTime": {
     "end_time": "2024-05-07T19:27:54.419796955Z",
     "start_time": "2024-05-07T19:27:54.382095718Z"
    }
   },
   "id": "67da442c59fa9031",
   "execution_count": 72
  },
  {
   "cell_type": "markdown",
   "source": [
    "Video N°273: Creating a character-level embedding layer with tf.keras.layers.Embedding"
   ],
   "metadata": {
    "collapsed": false
   },
   "id": "b610714a8147b5ba"
  },
  {
   "cell_type": "markdown",
   "source": [
    "### Creating a character-level embedding"
   ],
   "metadata": {
    "collapsed": false
   },
   "id": "bccaff2c4917d75d"
  },
  {
   "cell_type": "code",
   "outputs": [],
   "source": [
    "# Create char embedding layer\n",
    "char_embed = layers.Embedding(input_dim=len(char_vocab),  # number of different characters\n",
    "                              output_dim=25, # this is the size of the char embedding in the paper: https://arxiv.org/pdf/1612.05251.pdf (Figure 1)\n",
    "                              mask_zero=True,\n",
    "                              name=\"char_embed\")"
   ],
   "metadata": {
    "collapsed": false,
    "ExecuteTime": {
     "end_time": "2024-05-07T19:27:54.501371074Z",
     "start_time": "2024-05-07T19:27:54.393514981Z"
    }
   },
   "id": "5ab0dfb36665e75f",
   "execution_count": 73
  },
  {
   "cell_type": "code",
   "outputs": [
    {
     "name": "stdout",
     "output_type": "stream",
     "text": [
      "Charified text:\n",
      " o u r   s t u d y   a d d r e s s e s   t h e   o p p o r t u n i t y   f o r   i m p r o v i n g   s u r g i c a l   o u t c o m e   b y   e m p l o y i n g   p l a t e l e t - r i c h   p l a s m a   (   p r p   )   g e l   a t   t h e   s u r g i c a l   s i t e   .\n",
      "\n",
      "Embedded chars (after vectorization and embedding):\n",
      " [[[ 0.00429255 -0.00088198 -0.01840851 ... -0.03325355 -0.03302522\n",
      "    0.04114974]\n",
      "  [ 0.01911528 -0.01875147  0.0492138  ... -0.02623464  0.03074325\n",
      "    0.00481889]\n",
      "  [-0.04346598 -0.00701629  0.03030956 ...  0.01013446  0.03251184\n",
      "   -0.01115979]\n",
      "  ...\n",
      "  [ 0.01948348 -0.0077818   0.04659518 ... -0.03239946  0.03691591\n",
      "    0.03313975]\n",
      "  [ 0.01948348 -0.0077818   0.04659518 ... -0.03239946  0.03691591\n",
      "    0.03313975]\n",
      "  [ 0.01948348 -0.0077818   0.04659518 ... -0.03239946  0.03691591\n",
      "    0.03313975]]]\n",
      "\n",
      "Character embedding shape: (1, 290, 25)\n"
     ]
    }
   ],
   "source": [
    "# Test our character embedding layer\n",
    "print(f\"Charified text:\\n {random_train_chars}\\n\")\n",
    "char_embed_example = char_embed(char_vectorizer([random_train_chars]))\n",
    "print(f\"Embedded chars (after vectorization and embedding):\\n {char_embed_example}\\n\")\n",
    "print(f\"Character embedding shape: {char_embed_example.shape}\")"
   ],
   "metadata": {
    "collapsed": false,
    "ExecuteTime": {
     "end_time": "2024-05-07T19:27:54.586797350Z",
     "start_time": "2024-05-07T19:27:54.400550100Z"
    }
   },
   "id": "8be078e0e4c00538",
   "execution_count": 74
  },
  {
   "cell_type": "markdown",
   "source": [
    "Video N°274: Model 3: Building, fitting and evaluating a Conv1D model on character embeddings"
   ],
   "metadata": {
    "collapsed": false
   },
   "id": "2a44138bf334fb97"
  },
  {
   "cell_type": "markdown",
   "source": [
    "### Building a Conv1D model to fit on character embeddings"
   ],
   "metadata": {
    "collapsed": false
   },
   "id": "ba4c8b66fdeef613"
  },
  {
   "cell_type": "code",
   "outputs": [],
   "source": [
    "# Make Conv1D on chars only\n",
    "inputs = layers.Input(shape=(1,), dtype=tf.string)\n",
    "char_vectors = char_vectorizer(inputs)\n",
    "char_embeddings = char_embed(char_vectors)\n",
    "x = layers.Conv1D(filters=64,\n",
    "                  kernel_size=5,\n",
    "                  padding=\"same\",\n",
    "                  activation=\"relu\")(char_embeddings)\n",
    "x = layers.GlobalMaxPool1D()(x)\n",
    "outputs = layers.Dense(units=num_classes, activation=\"softmax\")(x)\n",
    "model_3 = tf.keras.Model(inputs=inputs,\n",
    "                         outputs=outputs,\n",
    "                         name=\"model_3_conv1d_char_embeddings\")\n",
    "\n",
    "# Compile\n",
    "model_3.compile(loss=\"categorical_crossentropy\",\n",
    "                optimizer=tf.keras.optimizers.Adam(),\n",
    "                metrics=[\"accuracy\"])"
   ],
   "metadata": {
    "collapsed": false,
    "ExecuteTime": {
     "end_time": "2024-05-07T19:27:54.642359708Z",
     "start_time": "2024-05-07T19:27:54.423241353Z"
    }
   },
   "id": "a36fe642a12d251a",
   "execution_count": 75
  },
  {
   "cell_type": "code",
   "outputs": [
    {
     "name": "stdout",
     "output_type": "stream",
     "text": [
      "Model: \"model_3_conv1d_char_embeddings\"\n",
      "_________________________________________________________________\n",
      " Layer (type)                Output Shape              Param #   \n",
      "=================================================================\n",
      " input_3 (InputLayer)        [(None, 1)]               0         \n",
      "                                                                 \n",
      " char_vectorizer (TextVecto  (None, 290)               0         \n",
      " rization)                                                       \n",
      "                                                                 \n",
      " char_embed (Embedding)      (None, 290, 25)           700       \n",
      "                                                                 \n",
      " conv1d_1 (Conv1D)           (None, 290, 64)           8064      \n",
      "                                                                 \n",
      " global_max_pooling1d (Glob  (None, 64)                0         \n",
      " alMaxPooling1D)                                                 \n",
      "                                                                 \n",
      " dense_3 (Dense)             (None, 5)                 325       \n",
      "                                                                 \n",
      "=================================================================\n",
      "Total params: 9089 (35.50 KB)\n",
      "Trainable params: 9089 (35.50 KB)\n",
      "Non-trainable params: 0 (0.00 Byte)\n",
      "_________________________________________________________________\n"
     ]
    }
   ],
   "source": [
    "# Summary\n",
    "model_3.summary()"
   ],
   "metadata": {
    "collapsed": false,
    "ExecuteTime": {
     "end_time": "2024-05-07T19:27:54.691952285Z",
     "start_time": "2024-05-07T19:27:54.487954781Z"
    }
   },
   "id": "bdddbe1ecdfcc30e",
   "execution_count": 76
  },
  {
   "cell_type": "code",
   "outputs": [
    {
     "data": {
      "text/plain": "<_PrefetchDataset element_spec=(TensorSpec(shape=(None,), dtype=tf.string, name=None), TensorSpec(shape=(None, 5), dtype=tf.float64, name=None))>"
     },
     "execution_count": 77,
     "metadata": {},
     "output_type": "execute_result"
    }
   ],
   "source": [
    "# Create char level datasets\n",
    "train_char_dataset = tf.data.Dataset.from_tensor_slices((train_chars, train_labels_one_hot)).batch(32).prefetch(tf.data.AUTOTUNE)\n",
    "val_char_dataset = tf.data.Dataset.from_tensor_slices((val_chars, val_labels_one_hot)).batch(32).prefetch(tf.data.AUTOTUNE)\n",
    "test_char_dataset = tf.data.Dataset.from_tensor_slices((test_chars, test_labels_one_hot)).batch(32).prefetch(tf.data.AUTOTUNE)\n",
    "\n",
    "train_char_dataset"
   ],
   "metadata": {
    "collapsed": false,
    "ExecuteTime": {
     "end_time": "2024-05-07T19:27:55.044839582Z",
     "start_time": "2024-05-07T19:27:54.534978747Z"
    }
   },
   "id": "88be5e8e0123659c",
   "execution_count": 77
  },
  {
   "cell_type": "code",
   "outputs": [
    {
     "name": "stdout",
     "output_type": "stream",
     "text": [
      "Epoch 1/3\n",
      "562/562 [==============================] - 5s 7ms/step - loss: 1.2569 - accuracy: 0.4890 - val_loss: 1.0401 - val_accuracy: 0.5921\n",
      "Epoch 2/3\n",
      "562/562 [==============================] - 3s 6ms/step - loss: 0.9935 - accuracy: 0.6084 - val_loss: 0.9213 - val_accuracy: 0.6366\n",
      "Epoch 3/3\n",
      "562/562 [==============================] - 3s 6ms/step - loss: 0.9136 - accuracy: 0.6455 - val_loss: 0.8551 - val_accuracy: 0.6679\n"
     ]
    }
   ],
   "source": [
    "# Fit the model on chars only\n",
    "model_3_history = model_3.fit(x=train_char_dataset,\n",
    "                              steps_per_epoch=int(0.1 * len(train_char_dataset)),\n",
    "                              epochs=3,\n",
    "                              validation_data=val_char_dataset,\n",
    "                              validation_steps=int(0.1 * len(val_char_dataset)))"
   ],
   "metadata": {
    "collapsed": false,
    "ExecuteTime": {
     "end_time": "2024-05-07T19:28:06.445788296Z",
     "start_time": "2024-05-07T19:27:55.032953942Z"
    }
   },
   "id": "844d8d0ebd791836",
   "execution_count": 78
  },
  {
   "cell_type": "code",
   "outputs": [
    {
     "name": "stdout",
     "output_type": "stream",
     "text": [
      "945/945 [==============================] - 3s 3ms/step\n"
     ]
    },
    {
     "data": {
      "text/plain": "array([[0.13185215, 0.37528074, 0.13019344, 0.3358501 , 0.02682352],\n       [0.14898041, 0.5225236 , 0.00336871, 0.30967072, 0.01545655],\n       [0.06761623, 0.04762654, 0.10451183, 0.7701225 , 0.01012284],\n       ...,\n       [0.03315688, 0.04643416, 0.13036197, 0.13649341, 0.65355366],\n       [0.03332854, 0.12756883, 0.3155276 , 0.03928544, 0.48428956],\n       [0.34311795, 0.5145954 , 0.09516273, 0.03641919, 0.0107047 ]],\n      dtype=float32)"
     },
     "execution_count": 79,
     "metadata": {},
     "output_type": "execute_result"
    }
   ],
   "source": [
    "# Make predictions with character model only\n",
    "model_3_pred_probs = model_3.predict(val_char_dataset)\n",
    "model_3_pred_probs"
   ],
   "metadata": {
    "collapsed": false,
    "ExecuteTime": {
     "end_time": "2024-05-07T19:28:09.411056302Z",
     "start_time": "2024-05-07T19:28:06.439401828Z"
    }
   },
   "id": "a2f9c5822300a118",
   "execution_count": 79
  },
  {
   "cell_type": "code",
   "outputs": [
    {
     "data": {
      "text/plain": "<tf.Tensor: shape=(30212,), dtype=int64, numpy=array([1, 1, 3, ..., 4, 4, 1])>"
     },
     "execution_count": 80,
     "metadata": {},
     "output_type": "execute_result"
    }
   ],
   "source": [
    "# Convert prediction probabilities to class labels\n",
    "model_3_preds = tf.argmax(model_3_pred_probs, axis=1)\n",
    "model_3_preds"
   ],
   "metadata": {
    "collapsed": false,
    "ExecuteTime": {
     "end_time": "2024-05-07T19:28:09.443897783Z",
     "start_time": "2024-05-07T19:28:09.401009351Z"
    }
   },
   "id": "35a15f5d1f342b4c",
   "execution_count": 80
  },
  {
   "cell_type": "code",
   "outputs": [
    {
     "data": {
      "text/plain": "{'accuracy': 66.47689659737853,\n 'precision': 0.6579505451235336,\n 'recall': 0.6647689659737852,\n 'f1': 0.6545165519746814}"
     },
     "execution_count": 81,
     "metadata": {},
     "output_type": "execute_result"
    }
   ],
   "source": [
    "# Calculate results for Conv1D model chars only\n",
    "model_3_results = evaluate_classification_metrics(y_true=val_labels_encoded,\n",
    "                                                  y_pred=model_3_preds)\n",
    "model_3_results"
   ],
   "metadata": {
    "collapsed": false,
    "ExecuteTime": {
     "end_time": "2024-05-07T19:28:09.546401849Z",
     "start_time": "2024-05-07T19:28:09.407657626Z"
    }
   },
   "id": "bf64d80790df2d64",
   "execution_count": 81
  },
  {
   "cell_type": "code",
   "outputs": [
    {
     "data": {
      "text/plain": "array([False, False, False, False])"
     },
     "execution_count": 82,
     "metadata": {},
     "output_type": "execute_result"
    }
   ],
   "source": [
    "np.array(list(model_3_results.values())) > np.array(list(baseline_results.values()))"
   ],
   "metadata": {
    "collapsed": false,
    "ExecuteTime": {
     "end_time": "2024-05-07T19:28:09.551537523Z",
     "start_time": "2024-05-07T19:28:09.419964406Z"
    }
   },
   "id": "781a870e2811d260",
   "execution_count": 82
  },
  {
   "cell_type": "markdown",
   "source": [
    "**model_3** fait pire que **baseline** ..."
   ],
   "metadata": {
    "collapsed": false
   },
   "id": "4b75f0e4edd7da29"
  },
  {
   "cell_type": "markdown",
   "source": [
    "Video N°275: Discussing how we're going to build Model 4 (character + token embeddings)"
   ],
   "metadata": {
    "collapsed": false
   },
   "id": "34407e94f8b45a24"
  },
  {
   "cell_type": "markdown",
   "source": [
    "## Model 4: Combining pretrained token embeddings + characters embeddings (hybrid embedding layer)\n",
    "\n",
    "1. Create a token-level embedding model (similar `model_1`)\n",
    "2. Create a character-level model (similar to `model_3` with a slight modification)\n",
    "3. Combine 1 & 2 with a concatenate (`layers.Concatenate`) \n",
    "4. Build a series of output layers on top of 3 similar to Figure 1 and section 4.2 of [https://arxiv.org/pdf/1612.05251.pdf](https://arxiv.org/pdf/1612.05251.pdf)\n",
    "5. Construct a model which takes token and character-level sequences as input and produces sequence label probabilities as output"
   ],
   "metadata": {
    "collapsed": false
   },
   "id": "3088ef8a1a727c51"
  },
  {
   "cell_type": "markdown",
   "source": [
    "Video N°276: Model 4: Building a multi-input model (hybrid token + character embeddings)"
   ],
   "metadata": {
    "collapsed": false
   },
   "id": "f39253f51744c92c"
  },
  {
   "cell_type": "code",
   "outputs": [],
   "source": [
    "# 1. Setup token inputs/model\n",
    "token_inputs = layers.Input(shape=[], dtype=tf.string, name='token_input')\n",
    "token_embeddings = tf_hub_embedding_layer(token_inputs)\n",
    "token_outputs = layers.Dense(units=128, activation=\"relu\")(token_embeddings)\n",
    "token_model = tf.keras.Model(inputs=token_inputs, outputs=token_outputs)\n",
    "\n",
    "# 2. Setup char inputs/model\n",
    "char_inputs = layers.Input(shape=(1,), dtype=tf.string, name=\"char_input\")\n",
    "char_vectors = char_vectorizer(char_inputs)\n",
    "char_embeddings = char_embed(char_vectors)\n",
    "char_bi_lstm = layers.Bidirectional(layers.LSTM(24))(char_embeddings) # bi-LSTM shown in Figure 1 of https://arxiv.org/pdf/1612.05251.pdf\n",
    "\n",
    "char_model = tf.keras.Model(inputs=char_inputs,\n",
    "                            outputs=char_bi_lstm)\n",
    "\n",
    "# 3. Concatenate token and char inputs (create hybrid token embedding)\n",
    "token_char_concat = layers.Concatenate(name=\"token_char_hybrid\")([token_model.output,\n",
    "                                                                  char_model.output])\n",
    "\n",
    "# 4. Create output layers - adding in Dropout, discussed in section 4.2 of https://arxiv.org/pdf/1612.05251.pdf\n",
    "combined_dropout = layers.Dropout(rate=0.5)(token_char_concat)\n",
    "combined_dense = layers.Dense(units=128, activation=\"relu\")(combined_dropout)\n",
    "final_dropout = layers.Dropout(rate=0.5)(combined_dense)\n",
    "output_layer = layers.Dense(units=num_classes, activation=\"softmax\")(final_dropout)\n",
    "\n",
    "# 5. Construct model with char and token inputs\n",
    "model_4 = tf.keras.Model(inputs=[token_model.input, char_model.input],\n",
    "                         outputs= output_layer,\n",
    "                         name=\"model_4_token_and_char_embeddings\")"
   ],
   "metadata": {
    "collapsed": false,
    "ExecuteTime": {
     "end_time": "2024-05-07T19:28:10.578259697Z",
     "start_time": "2024-05-07T19:28:09.428675124Z"
    }
   },
   "id": "a1597f756f724c1e",
   "execution_count": 83
  },
  {
   "cell_type": "code",
   "outputs": [
    {
     "name": "stdout",
     "output_type": "stream",
     "text": [
      "Model: \"model_4_token_and_char_embeddings\"\n",
      "__________________________________________________________________________________________________\n",
      " Layer (type)                Output Shape                 Param #   Connected to                  \n",
      "==================================================================================================\n",
      " char_input (InputLayer)     [(None, 1)]                  0         []                            \n",
      "                                                                                                  \n",
      " token_input (InputLayer)    [(None,)]                    0         []                            \n",
      "                                                                                                  \n",
      " char_vectorizer (TextVecto  (None, 290)                  0         ['char_input[0][0]']          \n",
      " rization)                                                                                        \n",
      "                                                                                                  \n",
      " universal_sentence_encoder  (None, 512)                  2567978   ['token_input[0][0]']         \n",
      "  (KerasLayer)                                            24                                      \n",
      "                                                                                                  \n",
      " char_embed (Embedding)      (None, 290, 25)              700       ['char_vectorizer[1][0]']     \n",
      "                                                                                                  \n",
      " dense_4 (Dense)             (None, 128)                  65664     ['universal_sentence_encoder[1\n",
      "                                                                    ][0]']                        \n",
      "                                                                                                  \n",
      " bidirectional (Bidirection  (None, 48)                   9600      ['char_embed[1][0]']          \n",
      " al)                                                                                              \n",
      "                                                                                                  \n",
      " token_char_hybrid (Concate  (None, 176)                  0         ['dense_4[0][0]',             \n",
      " nate)                                                               'bidirectional[0][0]']       \n",
      "                                                                                                  \n",
      " dropout (Dropout)           (None, 176)                  0         ['token_char_hybrid[0][0]']   \n",
      "                                                                                                  \n",
      " dense_5 (Dense)             (None, 128)                  22656     ['dropout[0][0]']             \n",
      "                                                                                                  \n",
      " dropout_1 (Dropout)         (None, 128)                  0         ['dense_5[0][0]']             \n",
      "                                                                                                  \n",
      " dense_6 (Dense)             (None, 5)                    645       ['dropout_1[0][0]']           \n",
      "                                                                                                  \n",
      "==================================================================================================\n",
      "Total params: 256897089 (979.98 MB)\n",
      "Trainable params: 99265 (387.75 KB)\n",
      "Non-trainable params: 256797824 (979.61 MB)\n",
      "__________________________________________________________________________________________________\n"
     ]
    }
   ],
   "source": [
    "# Get a summary of our model\n",
    "model_4.summary()"
   ],
   "metadata": {
    "collapsed": false,
    "ExecuteTime": {
     "end_time": "2024-05-07T19:28:10.819797985Z",
     "start_time": "2024-05-07T19:28:10.580606287Z"
    }
   },
   "id": "c8e6a31110e59611",
   "execution_count": 84
  },
  {
   "cell_type": "markdown",
   "source": [
    "Video N°277: Model 4: Plotting and visually exploring different data inputs"
   ],
   "metadata": {
    "collapsed": false
   },
   "id": "abf57d036cbecaaf"
  },
  {
   "cell_type": "code",
   "outputs": [
    {
     "data": {
      "image/png": "[encoded data removed]",
      "text/plain": "<IPython.core.display.Image object>"
     },
     "execution_count": 85,
     "metadata": {},
     "output_type": "execute_result"
    }
   ],
   "source": [
    "# Plot hybrid token and character model\n",
    "from keras.utils import plot_model\n",
    "plot_model(model_4, show_shapes=True)"
   ],
   "metadata": {
    "collapsed": false,
    "ExecuteTime": {
     "end_time": "2024-05-07T19:28:11.044374183Z",
     "start_time": "2024-05-07T19:28:10.658623352Z"
    }
   },
   "id": "20ff14677c064e9a",
   "execution_count": 85
  },
  {
   "cell_type": "code",
   "outputs": [],
   "source": [
    "# Compile token char model\n",
    "model_4.compile(loss=\"categorical_crossentropy\",\n",
    "                optimizer=tf.keras.optimizers.Adam(), # section 4.2 of the paper says they use SGD, you might want to try this\n",
    "                metrics=[\"accuracy\"])"
   ],
   "metadata": {
    "collapsed": false,
    "ExecuteTime": {
     "end_time": "2024-05-07T19:28:11.065431555Z",
     "start_time": "2024-05-07T19:28:10.776122690Z"
    }
   },
   "id": "ef50589dc5bd664a",
   "execution_count": 86
  },
  {
   "cell_type": "markdown",
   "source": [
    "Video N°278: Crafting multi-input fast loading tf.data dataset for Model 4"
   ],
   "metadata": {
    "collapsed": false
   },
   "id": "a2cd1eecb20f340b"
  },
  {
   "cell_type": "markdown",
   "source": [
    "### Combining token and character data into a tf.data Dataset"
   ],
   "metadata": {
    "collapsed": false
   },
   "id": "bfb324a513b3084a"
  },
  {
   "cell_type": "code",
   "outputs": [],
   "source": [
    "# Combine chars and tokens into a dataset\n",
    "train_char_token_data = tf.data.Dataset.from_tensor_slices(tensors=(train_sentences, train_chars)) # make data\n",
    "train_char_token_labels = tf.data.Dataset.from_tensor_slices(tensors=(train_labels_one_hot)) # make labels\n",
    "train_char_token_dataset = tf.data.Dataset.zip(datasets=(train_char_token_data, train_char_token_labels)) # combine data and labels\n",
    "# Prefetch and batch train data\n",
    "train_char_token_dataset = train_char_token_dataset.batch(batch_size=32).prefetch(buffer_size=tf.data.AUTOTUNE)"
   ],
   "metadata": {
    "collapsed": false,
    "ExecuteTime": {
     "end_time": "2024-05-07T19:28:11.525697590Z",
     "start_time": "2024-05-07T19:28:10.829334487Z"
    }
   },
   "id": "44e4b981524d615d",
   "execution_count": 87
  },
  {
   "cell_type": "code",
   "outputs": [],
   "source": [
    "# Repeat the above steps for our validation data\n",
    "val_char_token_data = tf.data.Dataset.from_tensor_slices(tensors=(val_sentences, val_chars)) # make data\n",
    "val_char_token_labels = tf.data.Dataset.from_tensor_slices(tensors=(val_labels_one_hot)) # make labels\n",
    "val_char_token_dataset = tf.data.Dataset.zip(datasets=(val_char_token_data, val_char_token_labels)) # combine data and labels\n",
    "# Prefetch and batch val data\n",
    "val_char_token_dataset = val_char_token_dataset.batch(batch_size=32).prefetch(buffer_size=tf.data.AUTOTUNE)"
   ],
   "metadata": {
    "collapsed": false,
    "ExecuteTime": {
     "end_time": "2024-05-07T19:28:11.649598880Z",
     "start_time": "2024-05-07T19:28:11.527332138Z"
    }
   },
   "id": "f5e8f7b9f1436cc",
   "execution_count": 88
  },
  {
   "cell_type": "code",
   "outputs": [
    {
     "data": {
      "text/plain": "(<_PrefetchDataset element_spec=((TensorSpec(shape=(None,), dtype=tf.string, name=None), TensorSpec(shape=(None,), dtype=tf.string, name=None)), TensorSpec(shape=(None, 5), dtype=tf.float64, name=None))>,\n <_PrefetchDataset element_spec=((TensorSpec(shape=(None,), dtype=tf.string, name=None), TensorSpec(shape=(None,), dtype=tf.string, name=None)), TensorSpec(shape=(None, 5), dtype=tf.float64, name=None))>)"
     },
     "execution_count": 89,
     "metadata": {},
     "output_type": "execute_result"
    }
   ],
   "source": [
    "# Check out our training char and token embedding dataset\n",
    "train_char_token_dataset, val_char_token_dataset"
   ],
   "metadata": {
    "collapsed": false,
    "ExecuteTime": {
     "end_time": "2024-05-07T19:28:11.675033308Z",
     "start_time": "2024-05-07T19:28:11.650864172Z"
    }
   },
   "id": "b182d3b75b9f2a8b",
   "execution_count": 89
  },
  {
   "cell_type": "markdown",
   "source": [
    "Video N°279: Model 4: Building, fitting and evaluating a hybrid embedding model"
   ],
   "metadata": {
    "collapsed": false
   },
   "id": "7fb31cf70b4af2cf"
  },
  {
   "cell_type": "markdown",
   "source": [
    "### Fitting a model on token and character-level sequences"
   ],
   "metadata": {
    "collapsed": false
   },
   "id": "830fb971db536991"
  },
  {
   "cell_type": "code",
   "outputs": [
    {
     "name": "stdout",
     "output_type": "stream",
     "text": [
      "Epoch 1/3\n"
     ]
    },
    {
     "name": "stderr",
     "output_type": "stream",
     "text": [
      "2024-05-07 21:28:16.339363: W tensorflow/core/common_runtime/type_inference.cc:339] Type inference failed. This indicates an invalid graph that escaped type checking. Error message: INVALID_ARGUMENT: expected compatible input types, but input 1:\n",
      "type_id: TFT_OPTIONAL\n",
      "args {\n",
      "  type_id: TFT_PRODUCT\n",
      "  args {\n",
      "    type_id: TFT_TENSOR\n",
      "    args {\n",
      "      type_id: TFT_INT32\n",
      "    }\n",
      "  }\n",
      "}\n",
      " is neither a subtype nor a supertype of the combined inputs preceding it:\n",
      "type_id: TFT_OPTIONAL\n",
      "args {\n",
      "  type_id: TFT_PRODUCT\n",
      "  args {\n",
      "    type_id: TFT_TENSOR\n",
      "    args {\n",
      "      type_id: TFT_FLOAT\n",
      "    }\n",
      "  }\n",
      "}\n",
      "\n",
      "\tfor Tuple type infernce function 0\n",
      "\twhile inferring type of node 'cond_36/output/_23'\n"
     ]
    },
    {
     "name": "stdout",
     "output_type": "stream",
     "text": [
      "562/562 [==============================] - 29s 41ms/step - loss: 0.9821 - accuracy: 0.6085 - val_loss: 0.7807 - val_accuracy: 0.6995\n",
      "Epoch 2/3\n",
      "562/562 [==============================] - 21s 37ms/step - loss: 0.7955 - accuracy: 0.6895 - val_loss: 0.7200 - val_accuracy: 0.7251\n",
      "Epoch 3/3\n",
      "562/562 [==============================] - 19s 34ms/step - loss: 0.7768 - accuracy: 0.7062 - val_loss: 0.7011 - val_accuracy: 0.7354\n"
     ]
    }
   ],
   "source": [
    "# Fit the model on tokens and chars\n",
    "history_model_4 = model_4.fit(x=train_char_token_dataset,\n",
    "                              steps_per_epoch=int(0.1 * len(train_char_token_dataset)),\n",
    "                              epochs=3,\n",
    "                              validation_data=val_char_token_dataset,\n",
    "                              validation_steps=int(0.1 * len(val_char_token_dataset)))"
   ],
   "metadata": {
    "collapsed": false,
    "ExecuteTime": {
     "end_time": "2024-05-07T19:29:20.743156070Z",
     "start_time": "2024-05-07T19:28:11.655531686Z"
    }
   },
   "id": "76bc0448c3320581",
   "execution_count": 90
  },
  {
   "cell_type": "code",
   "outputs": [
    {
     "name": "stdout",
     "output_type": "stream",
     "text": [
      "945/945 [==============================] - 17s 18ms/step - loss: 0.7002 - accuracy: 0.7314\n"
     ]
    },
    {
     "data": {
      "text/plain": "[0.7001782655715942, 0.7313981056213379]"
     },
     "execution_count": 91,
     "metadata": {},
     "output_type": "execute_result"
    }
   ],
   "source": [
    "# Evaluate one the whole validation dataset\n",
    "model_4.evaluate(x=val_char_token_dataset)"
   ],
   "metadata": {
    "collapsed": false,
    "ExecuteTime": {
     "end_time": "2024-05-07T19:29:37.388455402Z",
     "start_time": "2024-05-07T19:29:20.735490966Z"
    }
   },
   "id": "7733566c2d959808",
   "execution_count": 91
  },
  {
   "cell_type": "code",
   "outputs": [
    {
     "name": "stdout",
     "output_type": "stream",
     "text": [
      "945/945 [==============================] - 17s 17ms/step\n"
     ]
    },
    {
     "data": {
      "text/plain": "array([[4.0074453e-01, 4.2571464e-01, 5.4241661e-03, 1.6341609e-01,\n        4.7005974e-03],\n       [2.9370669e-01, 5.4041344e-01, 3.6242129e-03, 1.5981264e-01,\n        2.4430170e-03],\n       [3.0755678e-01, 1.2702955e-01, 4.0544469e-02, 5.0576633e-01,\n        1.9102892e-02],\n       ...,\n       [1.2458909e-03, 1.3464441e-02, 5.5382993e-02, 4.6988632e-04,\n        9.2943686e-01],\n       [6.4858822e-03, 6.5999858e-02, 1.4878456e-01, 3.6133400e-03,\n        7.7511632e-01],\n       [2.9436490e-01, 3.7409976e-01, 2.3195451e-01, 4.5393120e-02,\n        5.4187708e-02]], dtype=float32)"
     },
     "execution_count": 92,
     "metadata": {},
     "output_type": "execute_result"
    }
   ],
   "source": [
    "# Make predictions using the token-character model hybrid\n",
    "model_4_pred_probs = model_4.predict(x=val_char_token_dataset)\n",
    "model_4_pred_probs"
   ],
   "metadata": {
    "collapsed": false,
    "ExecuteTime": {
     "end_time": "2024-05-07T19:29:55.051204438Z",
     "start_time": "2024-05-07T19:29:37.356347576Z"
    }
   },
   "id": "e6da94d86cf275a",
   "execution_count": 92
  },
  {
   "cell_type": "code",
   "outputs": [
    {
     "data": {
      "text/plain": "<tf.Tensor: shape=(30212,), dtype=int64, numpy=array([1, 1, 3, ..., 4, 4, 1])>"
     },
     "execution_count": 93,
     "metadata": {},
     "output_type": "execute_result"
    }
   ],
   "source": [
    "# Format pred probs into pred labels\n",
    "model_4_preds = tf.argmax(model_4_pred_probs, axis=1)\n",
    "model_4_preds"
   ],
   "metadata": {
    "collapsed": false,
    "ExecuteTime": {
     "end_time": "2024-05-07T19:29:55.078154348Z",
     "start_time": "2024-05-07T19:29:55.044112223Z"
    }
   },
   "id": "4f0f10b25b43437",
   "execution_count": 93
  },
  {
   "cell_type": "code",
   "outputs": [
    {
     "data": {
      "text/plain": "{'accuracy': 73.13981199523369,\n 'precision': 0.7334468135100376,\n 'recall': 0.7313981199523368,\n 'f1': 0.7281141604755673}"
     },
     "execution_count": 94,
     "metadata": {},
     "output_type": "execute_result"
    }
   ],
   "source": [
    "# Get results of token-char-hybrid model\n",
    "model_4_results = evaluate_classification_metrics(y_true=val_labels_encoded,\n",
    "                                                  y_pred=model_4_preds)\n",
    "model_4_results"
   ],
   "metadata": {
    "collapsed": false,
    "ExecuteTime": {
     "end_time": "2024-05-07T19:29:55.177014899Z",
     "start_time": "2024-05-07T19:29:55.049907724Z"
    }
   },
   "id": "852e73e26204c6bd",
   "execution_count": 94
  },
  {
   "cell_type": "code",
   "outputs": [
    {
     "data": {
      "text/plain": "array([ True,  True,  True,  True])"
     },
     "execution_count": 95,
     "metadata": {},
     "output_type": "execute_result"
    }
   ],
   "source": [
    "np.array(list(model_4_results.values())) >np.array(list(baseline_results.values()))"
   ],
   "metadata": {
    "collapsed": false,
    "ExecuteTime": {
     "end_time": "2024-05-07T19:29:55.182055574Z",
     "start_time": "2024-05-07T19:29:55.062706996Z"
    }
   },
   "id": "181b627f9cafeceb",
   "execution_count": 95
  },
  {
   "cell_type": "markdown",
   "source": [],
   "metadata": {
    "collapsed": false
   },
   "id": "87191d01be533ab0"
  },
  {
   "cell_type": "code",
   "outputs": [
    {
     "data": {
      "text/plain": "array([False, False, False, False])"
     },
     "execution_count": 96,
     "metadata": {},
     "output_type": "execute_result"
    }
   ],
   "source": [
    "np.array(list(model_4_results.values())) >np.array(list(model_1_results.values()))"
   ],
   "metadata": {
    "collapsed": false,
    "ExecuteTime": {
     "end_time": "2024-05-07T19:29:55.203053090Z",
     "start_time": "2024-05-07T19:29:55.069376113Z"
    }
   },
   "id": "d3172caf24079b59",
   "execution_count": 96
  },
  {
   "cell_type": "markdown",
   "source": [
    "Video N°280: Model 5: Adding positional embeddings via feature engineering (overview)"
   ],
   "metadata": {
    "collapsed": false
   },
   "id": "f09e7d2faf7e0eea"
  },
  {
   "cell_type": "markdown",
   "source": [
    "## Model 5: Transfer learning with pretrained token embeddings + character embeddings + positional embeddings"
   ],
   "metadata": {
    "collapsed": false
   },
   "id": "4a9744dc72f37b7d"
  },
  {
   "cell_type": "code",
   "outputs": [
    {
     "data": {
      "text/plain": "      target                                               text  line_number  \\\n0  OBJECTIVE  to investigate the efficacy of @ weeks of dail...            0   \n1    METHODS  a total of @ patients with primary knee oa wer...            1   \n2    METHODS  outcome measures included pain reduction and i...            2   \n3    METHODS  pain was assessed using the visual analog pain...            3   \n4    METHODS  secondary outcome measures included the wester...            4   \n\n   total_lines  \n0           11  \n1           11  \n2           11  \n3           11  \n4           11  ",
      "text/html": "<div>\n<style scoped>\n    .dataframe tbody tr th:only-of-type {\n        vertical-align: middle;\n    }\n\n    .dataframe tbody tr th {\n        vertical-align: top;\n    }\n\n    .dataframe thead th {\n        text-align: right;\n    }\n</style>\n<table border=\"1\" class=\"dataframe\">\n  <thead>\n    <tr style=\"text-align: right;\">\n      <th></th>\n      <th>target</th>\n      <th>text</th>\n      <th>line_number</th>\n      <th>total_lines</th>\n    </tr>\n  </thead>\n  <tbody>\n    <tr>\n      <th>0</th>\n      <td>OBJECTIVE</td>\n      <td>to investigate the efficacy of @ weeks of dail...</td>\n      <td>0</td>\n      <td>11</td>\n    </tr>\n    <tr>\n      <th>1</th>\n      <td>METHODS</td>\n      <td>a total of @ patients with primary knee oa wer...</td>\n      <td>1</td>\n      <td>11</td>\n    </tr>\n    <tr>\n      <th>2</th>\n      <td>METHODS</td>\n      <td>outcome measures included pain reduction and i...</td>\n      <td>2</td>\n      <td>11</td>\n    </tr>\n    <tr>\n      <th>3</th>\n      <td>METHODS</td>\n      <td>pain was assessed using the visual analog pain...</td>\n      <td>3</td>\n      <td>11</td>\n    </tr>\n    <tr>\n      <th>4</th>\n      <td>METHODS</td>\n      <td>secondary outcome measures included the wester...</td>\n      <td>4</td>\n      <td>11</td>\n    </tr>\n  </tbody>\n</table>\n</div>"
     },
     "execution_count": 97,
     "metadata": {},
     "output_type": "execute_result"
    }
   ],
   "source": [
    "train_df.head()"
   ],
   "metadata": {
    "collapsed": false,
    "ExecuteTime": {
     "end_time": "2024-05-07T19:29:55.247717892Z",
     "start_time": "2024-05-07T19:29:55.076150877Z"
    }
   },
   "id": "32ae59cbf0ef9f57",
   "execution_count": 97
  },
  {
   "cell_type": "markdown",
   "source": [
    "Video N°281: Encoding the line number feature to used with Model 5"
   ],
   "metadata": {
    "collapsed": false
   },
   "id": "b9557f041da1e0da"
  },
  {
   "cell_type": "markdown",
   "source": [
    "> 🔑 **Note:** Any engineered features used to train a model need to be available at test time. In our case, line numbers and total lines are available."
   ],
   "metadata": {
    "collapsed": false
   },
   "id": "b350df3682f25e7e"
  },
  {
   "cell_type": "markdown",
   "source": [
    "### Create positional embeddings"
   ],
   "metadata": {
    "collapsed": false
   },
   "id": "a2d78a5130308a25"
  },
  {
   "cell_type": "code",
   "outputs": [
    {
     "data": {
      "text/plain": "line_number\n0     15000\n1     15000\n2     15000\n3     15000\n4     14992\n5     14949\n6     14758\n7     14279\n8     13346\n9     11981\n10    10041\n11     7892\n12     5853\n13     4152\n14     2835\n15     1861\n16     1188\n17      751\n18      462\n19      286\n20      162\n21      101\n22       66\n23       33\n24       22\n25       14\n26        7\n27        4\n28        3\n29        1\n30        1\nName: count, dtype: int64"
     },
     "execution_count": 98,
     "metadata": {},
     "output_type": "execute_result"
    }
   ],
   "source": [
    "# How many different line numbers are there?\n",
    "train_df[\"line_number\"].value_counts()"
   ],
   "metadata": {
    "collapsed": false,
    "ExecuteTime": {
     "end_time": "2024-05-07T19:29:55.285768450Z",
     "start_time": "2024-05-07T19:29:55.083736952Z"
    }
   },
   "id": "ef952417de871330",
   "execution_count": 98
  },
  {
   "cell_type": "code",
   "outputs": [
    {
     "data": {
      "text/plain": "<Axes: ylabel='Frequency'>"
     },
     "execution_count": 99,
     "metadata": {},
     "output_type": "execute_result"
    },
    {
     "data": {
      "text/plain": "<Figure size 640x480 with 1 Axes>",
      "image/png": "[encoded data removed]"
     },
     "metadata": {},
     "output_type": "display_data"
    }
   ],
   "source": [
    "# Check the distribution of \"line_number\" column\n",
    "train_df.line_number.plot.hist()"
   ],
   "metadata": {
    "collapsed": false,
    "ExecuteTime": {
     "end_time": "2024-05-07T19:29:55.468677554Z",
     "start_time": "2024-05-07T19:29:55.126510053Z"
    }
   },
   "id": "30cb06cded178b37",
   "execution_count": 99
  },
  {
   "cell_type": "code",
   "outputs": [
    {
     "data": {
      "text/plain": "(<tf.Tensor: shape=(14, 15), dtype=float32, numpy=\n array([[1., 0., 0., 0., 0., 0., 0., 0., 0., 0., 0., 0., 0., 0., 0.],\n        [0., 1., 0., 0., 0., 0., 0., 0., 0., 0., 0., 0., 0., 0., 0.],\n        [0., 0., 1., 0., 0., 0., 0., 0., 0., 0., 0., 0., 0., 0., 0.],\n        [0., 0., 0., 1., 0., 0., 0., 0., 0., 0., 0., 0., 0., 0., 0.],\n        [0., 0., 0., 0., 1., 0., 0., 0., 0., 0., 0., 0., 0., 0., 0.],\n        [0., 0., 0., 0., 0., 1., 0., 0., 0., 0., 0., 0., 0., 0., 0.],\n        [0., 0., 0., 0., 0., 0., 1., 0., 0., 0., 0., 0., 0., 0., 0.],\n        [0., 0., 0., 0., 0., 0., 0., 1., 0., 0., 0., 0., 0., 0., 0.],\n        [0., 0., 0., 0., 0., 0., 0., 0., 1., 0., 0., 0., 0., 0., 0.],\n        [0., 0., 0., 0., 0., 0., 0., 0., 0., 1., 0., 0., 0., 0., 0.],\n        [0., 0., 0., 0., 0., 0., 0., 0., 0., 0., 1., 0., 0., 0., 0.],\n        [0., 0., 0., 0., 0., 0., 0., 0., 0., 0., 0., 1., 0., 0., 0.],\n        [1., 0., 0., 0., 0., 0., 0., 0., 0., 0., 0., 0., 0., 0., 0.],\n        [0., 1., 0., 0., 0., 0., 0., 0., 0., 0., 0., 0., 0., 0., 0.]],\n       dtype=float32)>,\n TensorShape([180040, 15]))"
     },
     "execution_count": 100,
     "metadata": {},
     "output_type": "execute_result"
    }
   ],
   "source": [
    "# Use TensorFlow to create one-hot-encoded tensors of our \"line_number\" column\n",
    "train_line_numbers_one_hot = tf.one_hot(train_df[\"line_number\"].to_numpy(), depth=15)\n",
    "val_line_numbers_one_hot = tf.one_hot(val_df[\"line_number\"].to_numpy(), depth=15)\n",
    "test_line_numbers_one_hot = tf.one_hot(test_df[\"line_number\"].to_numpy(), depth=15)\n",
    "train_line_numbers_one_hot[:14], train_line_numbers_one_hot.shape"
   ],
   "metadata": {
    "collapsed": false,
    "ExecuteTime": {
     "end_time": "2024-05-07T19:29:55.496711170Z",
     "start_time": "2024-05-07T19:29:55.205588731Z"
    }
   },
   "id": "a3e11d0b93ee1e0c",
   "execution_count": 100
  },
  {
   "cell_type": "markdown",
   "source": [
    "Video N°282: Encoding the total lines feature to be used with Model 5"
   ],
   "metadata": {
    "collapsed": false
   },
   "id": "6f8380d3e64621a2"
  },
  {
   "cell_type": "markdown",
   "source": [
    "Now we've encoded our line numbers feature, let's do the same for our total lines feature..."
   ],
   "metadata": {
    "collapsed": false
   },
   "id": "583b3c524de20f2d"
  },
  {
   "cell_type": "code",
   "outputs": [
    {
     "data": {
      "text/plain": "total_lines\n11    24468\n10    23639\n12    22113\n9     19400\n13    18438\n14    14610\n8     12285\n15    10768\n7      7464\n16     7429\n17     5202\n6      3353\n18     3344\n19     2480\n20     1281\n5      1146\n21      770\n22      759\n23      264\n4       215\n24      200\n25      182\n26       81\n28       58\n3        32\n30       31\n27       28\nName: count, dtype: int64"
     },
     "execution_count": 101,
     "metadata": {},
     "output_type": "execute_result"
    }
   ],
   "source": [
    "# How many different numbers of lines are there?\n",
    "train_df[\"total_lines\"].value_counts()"
   ],
   "metadata": {
    "collapsed": false,
    "ExecuteTime": {
     "end_time": "2024-05-07T19:29:55.501801608Z",
     "start_time": "2024-05-07T19:29:55.246652920Z"
    }
   },
   "id": "5272593ea9a83950",
   "execution_count": 101
  },
  {
   "cell_type": "code",
   "outputs": [
    {
     "data": {
      "text/plain": "<Axes: ylabel='Frequency'>"
     },
     "execution_count": 102,
     "metadata": {},
     "output_type": "execute_result"
    },
    {
     "data": {
      "text/plain": "<Figure size 640x480 with 1 Axes>",
      "image/png": "[encoded data removed]"
     },
     "metadata": {},
     "output_type": "display_data"
    }
   ],
   "source": [
    "# Check the distributions of total lines\n",
    "train_df.total_lines.plot.hist()"
   ],
   "metadata": {
    "collapsed": false,
    "ExecuteTime": {
     "end_time": "2024-05-07T19:29:55.865975293Z",
     "start_time": "2024-05-07T19:29:55.247012559Z"
    }
   },
   "id": "344e899f743246fc",
   "execution_count": 102
  },
  {
   "cell_type": "code",
   "outputs": [
    {
     "data": {
      "text/plain": "20.0"
     },
     "execution_count": 103,
     "metadata": {},
     "output_type": "execute_result"
    }
   ],
   "source": [
    "# Check the coverage of a \"total_lines\" value of 20\n",
    "np.percentile(train_df.total_lines, 98)"
   ],
   "metadata": {
    "collapsed": false,
    "ExecuteTime": {
     "end_time": "2024-05-07T19:29:55.881652343Z",
     "start_time": "2024-05-07T19:29:55.571113181Z"
    }
   },
   "id": "c53e066072c79f58",
   "execution_count": 103
  },
  {
   "cell_type": "code",
   "outputs": [
    {
     "data": {
      "text/plain": "(TensorShape([180040, 20]),\n <tf.Tensor: shape=(10, 20), dtype=float32, numpy=\n array([[0., 0., 0., 0., 0., 0., 0., 0., 0., 0., 0., 1., 0., 0., 0., 0.,\n         0., 0., 0., 0.],\n        [0., 0., 0., 0., 0., 0., 0., 0., 0., 0., 0., 1., 0., 0., 0., 0.,\n         0., 0., 0., 0.],\n        [0., 0., 0., 0., 0., 0., 0., 0., 0., 0., 0., 1., 0., 0., 0., 0.,\n         0., 0., 0., 0.],\n        [0., 0., 0., 0., 0., 0., 0., 0., 0., 0., 0., 1., 0., 0., 0., 0.,\n         0., 0., 0., 0.],\n        [0., 0., 0., 0., 0., 0., 0., 0., 0., 0., 0., 1., 0., 0., 0., 0.,\n         0., 0., 0., 0.],\n        [0., 0., 0., 0., 0., 0., 0., 0., 0., 0., 0., 1., 0., 0., 0., 0.,\n         0., 0., 0., 0.],\n        [0., 0., 0., 0., 0., 0., 0., 0., 0., 0., 0., 1., 0., 0., 0., 0.,\n         0., 0., 0., 0.],\n        [0., 0., 0., 0., 0., 0., 0., 0., 0., 0., 0., 1., 0., 0., 0., 0.,\n         0., 0., 0., 0.],\n        [0., 0., 0., 0., 0., 0., 0., 0., 0., 0., 0., 1., 0., 0., 0., 0.,\n         0., 0., 0., 0.],\n        [0., 0., 0., 0., 0., 0., 0., 0., 0., 0., 0., 1., 0., 0., 0., 0.,\n         0., 0., 0., 0.]], dtype=float32)>)"
     },
     "execution_count": 104,
     "metadata": {},
     "output_type": "execute_result"
    }
   ],
   "source": [
    "# Use TensorFlow to create one-hot-encoded tensors of our \"total_lines\" feature\n",
    "train_total_lines_one_hot = tf.one_hot(train_df[\"total_lines\"].to_numpy(), depth=20)\n",
    "val_total_lines_one_hot = tf.one_hot(val_df[\"total_lines\"].to_numpy(), depth=20)\n",
    "test_total_lines_one_hot = tf.one_hot(test_df[\"total_lines\"].to_numpy(), depth=20)\n",
    "train_total_lines_one_hot.shape, train_total_lines_one_hot[:10]"
   ],
   "metadata": {
    "collapsed": false,
    "ExecuteTime": {
     "end_time": "2024-05-07T19:29:55.909245589Z",
     "start_time": "2024-05-07T19:29:55.579784887Z"
    }
   },
   "id": "97982198705bd5e5",
   "execution_count": 104
  },
  {
   "cell_type": "markdown",
   "source": [
    "Video N°283: Model 5: Building the foundations of a tribrid embedding model"
   ],
   "metadata": {
    "collapsed": false
   },
   "id": "e5b411ca7634ba6a"
  },
  {
   "cell_type": "markdown",
   "source": [
    "### Building a tribrid embedding model\n",
    "\n",
    "1. Create a token-level model\n",
    "2. Create a character-level model\n",
    "3. Create a model for the \"line_number\" feature\n",
    "4. Create a model for the \"total_lines\" feature\n",
    "5. Combine the outputs of 1 & 2 using tf.keras.layers.Concatenate\n",
    "6. Combine the outputs of 3, 4, 5 using tf.keras.layers.Concatenate\n",
    "7. Create an output layer to accept the tribrid embedding and output label probabilities \n",
    "8. Combine the inputs of 1, 2, 3, 4 and outputs of into a tf.keras.Model"
   ],
   "metadata": {
    "collapsed": false
   },
   "id": "d49a416e70f100d3"
  },
  {
   "cell_type": "code",
   "outputs": [],
   "source": [
    "# 1. Token inputs\n",
    "token_inputs = layers.Input(shape=[], dtype=tf.string, name=\"token_inputs\")\n",
    "token_embeddings = tf_hub_embedding_layer(inputs=token_inputs)\n",
    "token_outputs = layers.Dense(units=128, activation=\"relu\")(token_embeddings)\n",
    "token_model = tf.keras.Model(inputs=token_inputs,\n",
    "                             outputs=token_outputs)\n",
    "\n",
    "# 2. Char inputs\n",
    "char_inputs = layers.Input(shape=(1,), dtype=tf.string, name=\"char_inputs\")\n",
    "char_vectors = char_vectorizer(char_inputs)\n",
    "char_embeddings = char_embed(inputs=char_vectors)\n",
    "char_bi_lstm = layers.Bidirectional(layer=layers.LSTM(24))(char_embeddings)\n",
    "char_model = tf.keras.Model(inputs=char_inputs, outputs=char_bi_lstm)"
   ],
   "metadata": {
    "collapsed": false,
    "ExecuteTime": {
     "end_time": "2024-05-07T20:09:31.340258060Z",
     "start_time": "2024-05-07T20:09:29.921496902Z"
    }
   },
   "id": "10c3bbecb9ca9dad",
   "execution_count": 105
  },
  {
   "cell_type": "markdown",
   "source": [
    "Video N°284: Model 5: Completing the build of a tribrid embedding model for sequences"
   ],
   "metadata": {
    "collapsed": false
   },
   "id": "ac7f447a14317ef8"
  },
  {
   "cell_type": "markdown",
   "source": [
    "Quel shape pour notre input pour line number?"
   ],
   "metadata": {
    "collapsed": false
   },
   "id": "f2a536ce77c644f1"
  },
  {
   "cell_type": "code",
   "outputs": [
    {
     "data": {
      "text/plain": "TensorShape([15])"
     },
     "execution_count": 106,
     "metadata": {},
     "output_type": "execute_result"
    }
   ],
   "source": [
    "train_line_numbers_one_hot[0].shape"
   ],
   "metadata": {
    "collapsed": false,
    "ExecuteTime": {
     "end_time": "2024-05-07T20:14:47.928755071Z",
     "start_time": "2024-05-07T20:14:47.843025604Z"
    }
   },
   "id": "763e59addafc00ec",
   "execution_count": 106
  },
  {
   "cell_type": "markdown",
   "source": [
    "Quel est son type ?"
   ],
   "metadata": {
    "collapsed": false
   },
   "id": "97718639b60ed843"
  },
  {
   "cell_type": "code",
   "outputs": [
    {
     "data": {
      "text/plain": "tf.float32"
     },
     "execution_count": 107,
     "metadata": {},
     "output_type": "execute_result"
    }
   ],
   "source": [
    "train_line_numbers_one_hot[0].dtype"
   ],
   "metadata": {
    "collapsed": false,
    "ExecuteTime": {
     "end_time": "2024-05-07T20:17:07.569761383Z",
     "start_time": "2024-05-07T20:17:07.460513948Z"
    }
   },
   "id": "4d3efdcac1cd1007",
   "execution_count": 107
  },
  {
   "cell_type": "markdown",
   "source": [
    "Quel shape pour notre input pour total line?"
   ],
   "metadata": {
    "collapsed": false
   },
   "id": "27a742c994891ecf"
  },
  {
   "cell_type": "code",
   "outputs": [
    {
     "data": {
      "text/plain": "TensorShape([180040, 20])"
     },
     "execution_count": 108,
     "metadata": {},
     "output_type": "execute_result"
    }
   ],
   "source": [
    "train_total_lines_one_hot.shape"
   ],
   "metadata": {
    "collapsed": false,
    "ExecuteTime": {
     "end_time": "2024-05-07T20:25:48.953441009Z",
     "start_time": "2024-05-07T20:25:48.810636407Z"
    }
   },
   "id": "27f7206d41100c1f",
   "execution_count": 108
  },
  {
   "cell_type": "markdown",
   "source": [
    "Quel est son type ?"
   ],
   "metadata": {
    "collapsed": false
   },
   "id": "a1d954853078c0a8"
  },
  {
   "cell_type": "code",
   "outputs": [
    {
     "data": {
      "text/plain": "tf.float32"
     },
     "execution_count": 109,
     "metadata": {},
     "output_type": "execute_result"
    }
   ],
   "source": [
    "train_total_lines_one_hot.dtype"
   ],
   "metadata": {
    "collapsed": false,
    "ExecuteTime": {
     "end_time": "2024-05-07T20:26:20.327140128Z",
     "start_time": "2024-05-07T20:26:20.220924310Z"
    }
   },
   "id": "198acaeba0a8a6a1",
   "execution_count": 109
  },
  {
   "cell_type": "code",
   "outputs": [],
   "source": [
    "# 3. Line numbers model\n",
    "# inputs, shape = ? see above\n",
    "line_number_inputs = layers.Input(shape=(15,), dtype=tf.float32, name=\"line_number_input\")\n",
    "x = layers.Dense(units=32, activation=\"relu\")(line_number_inputs)\n",
    "# combine inputs & dense layer into model\n",
    "line_number_model = tf.keras.Model(inputs=line_number_inputs, outputs=x)\n",
    "\n",
    "# 4. Total lines model\n",
    "total_lines_inputs = layers.Input(shape=(20,), dtype=tf.float32, name=\"total_lines_input\") # shape and dtype? see above\n",
    "y = layers.Dense(units=32, activation=\"relu\")(total_lines_inputs)\n",
    "total_lines_model = tf.keras.Model(inputs=total_lines_inputs, outputs=y)\n",
    "\n",
    "# 5. Combine token and char embedding into a hybrid embedding\n",
    "combined_embeddings = layers.Concatenate(name=\"char_token_hybrid_embedding\")([token_model.output,\n",
    "                                                                              char_model.output])\n",
    "z = layers.Dense(units=256, activation=\"relu\")(combined_embeddings)\n",
    "z = layers.Dropout(rate=0.5)(z)\n",
    "\n",
    "# 6. Combine positional embedding with combined token and char embeddings\n",
    "tribrid_embeddings = layers.Concatenate(name=\"char_token_positional_embedding\")([line_number_model.output,\n",
    "                                                                                 total_lines_model.output,\n",
    "                                                                                 z])\n",
    "\n",
    "# 7. Create output layer\n",
    "output_layer = layers.Dense(units=num_classes, activation=\"softmax\", name=\"output_layer\")(tribrid_embeddings)\n",
    "\n",
    "# 8. Put together model with all kinds of inputs\n",
    "model_5 = tf.keras.Model(inputs=[line_number_model.input,\n",
    "                                 total_lines_model.input,\n",
    "                                 token_model.input,\n",
    "                                 char_model.input],\n",
    "                         outputs=output_layer,\n",
    "                         name=\"model_5_tribrid_embedding_model\")"
   ],
   "metadata": {
    "collapsed": false,
    "ExecuteTime": {
     "end_time": "2024-05-07T20:45:08.841471827Z",
     "start_time": "2024-05-07T20:45:08.716241931Z"
    }
   },
   "id": "d3d22232d276e7b9",
   "execution_count": 111
  },
  {
   "cell_type": "code",
   "outputs": [
    {
     "name": "stdout",
     "output_type": "stream",
     "text": [
      "Model: \"model_5_tribrid_embedding_model\"\n",
      "__________________________________________________________________________________________________\n",
      " Layer (type)                Output Shape                 Param #   Connected to                  \n",
      "==================================================================================================\n",
      " char_inputs (InputLayer)    [(None, 1)]                  0         []                            \n",
      "                                                                                                  \n",
      " token_inputs (InputLayer)   [(None,)]                    0         []                            \n",
      "                                                                                                  \n",
      " char_vectorizer (TextVecto  (None, 290)                  0         ['char_inputs[0][0]']         \n",
      " rization)                                                                                        \n",
      "                                                                                                  \n",
      " universal_sentence_encoder  (None, 512)                  2567978   ['token_inputs[0][0]']        \n",
      "  (KerasLayer)                                            24                                      \n",
      "                                                                                                  \n",
      " char_embed (Embedding)      (None, 290, 25)              700       ['char_vectorizer[2][0]']     \n",
      "                                                                                                  \n",
      " dense_7 (Dense)             (None, 128)                  65664     ['universal_sentence_encoder[2\n",
      "                                                                    ][0]']                        \n",
      "                                                                                                  \n",
      " bidirectional_1 (Bidirecti  (None, 48)                   9600      ['char_embed[2][0]']          \n",
      " onal)                                                                                            \n",
      "                                                                                                  \n",
      " char_token_hybrid_embeddin  (None, 176)                  0         ['dense_7[0][0]',             \n",
      " g (Concatenate)                                                     'bidirectional_1[0][0]']     \n",
      "                                                                                                  \n",
      " line_number_input (InputLa  [(None, 15)]                 0         []                            \n",
      " yer)                                                                                             \n",
      "                                                                                                  \n",
      " total_lines_input (InputLa  [(None, 20)]                 0         []                            \n",
      " yer)                                                                                             \n",
      "                                                                                                  \n",
      " dense_12 (Dense)            (None, 256)                  45312     ['char_token_hybrid_embedding[\n",
      "                                                                    0][0]']                       \n",
      "                                                                                                  \n",
      " dense_10 (Dense)            (None, 32)                   512       ['line_number_input[0][0]']   \n",
      "                                                                                                  \n",
      " dense_11 (Dense)            (None, 32)                   672       ['total_lines_input[0][0]']   \n",
      "                                                                                                  \n",
      " dropout_2 (Dropout)         (None, 256)                  0         ['dense_12[0][0]']            \n",
      "                                                                                                  \n",
      " char_token_positional_embe  (None, 320)                  0         ['dense_10[0][0]',            \n",
      " dding (Concatenate)                                                 'dense_11[0][0]',            \n",
      "                                                                     'dropout_2[0][0]']           \n",
      "                                                                                                  \n",
      " output_layer (Dense)        (None, 5)                    1605      ['char_token_positional_embedd\n",
      "                                                                    ing[0][0]']                   \n",
      "                                                                                                  \n",
      "==================================================================================================\n",
      "Total params: 256921889 (980.08 MB)\n",
      "Trainable params: 124065 (484.63 KB)\n",
      "Non-trainable params: 256797824 (979.61 MB)\n",
      "__________________________________________________________________________________________________\n"
     ]
    }
   ],
   "source": [
    "# Get a summary of our tribrid embedding model\n",
    "model_5.summary()"
   ],
   "metadata": {
    "collapsed": false,
    "ExecuteTime": {
     "end_time": "2024-05-07T20:45:54.718416243Z",
     "start_time": "2024-05-07T20:45:54.554091111Z"
    }
   },
   "id": "22403942fb1b11dd",
   "execution_count": 112
  },
  {
   "cell_type": "markdown",
   "source": [
    "Video N°285: Visually inspecting the architecture of our tribrid embedding model"
   ],
   "metadata": {
    "collapsed": false
   },
   "id": "2b994372128a16ea"
  },
  {
   "cell_type": "code",
   "outputs": [
    {
     "data": {
      "image/png": "[encoded data removed]",
      "text/plain": "<IPython.core.display.Image object>"
     },
     "execution_count": 113,
     "metadata": {},
     "output_type": "execute_result"
    }
   ],
   "source": [
    "# Plot model_5 to explore it visually...\n",
    "from tensorflow.keras.utils import plot_model\n",
    "plot_model(model_5, show_shapes=True)"
   ],
   "metadata": {
    "collapsed": false,
    "ExecuteTime": {
     "end_time": "2024-05-07T20:47:11.499672248Z",
     "start_time": "2024-05-07T20:47:11.336696824Z"
    }
   },
   "id": "fd82f56dd68b4d94",
   "execution_count": 113
  },
  {
   "cell_type": "code",
   "outputs": [],
   "source": [],
   "metadata": {
    "collapsed": false
   },
   "id": "954c53ede3424dea"
  }
 ],
 "metadata": {
  "kernelspec": {
   "display_name": "Python 3",
   "language": "python",
   "name": "python3"
  },
  "language_info": {
   "codemirror_mode": {
    "name": "ipython",
    "version": 2
   },
   "file_extension": ".py",
   "mimetype": "text/x-python",
   "name": "python",
   "nbconvert_exporter": "python",
   "pygments_lexer": "ipython2",
   "version": "2.7.6"
  }
 },
 "nbformat": 4,
 "nbformat_minor": 5
}
