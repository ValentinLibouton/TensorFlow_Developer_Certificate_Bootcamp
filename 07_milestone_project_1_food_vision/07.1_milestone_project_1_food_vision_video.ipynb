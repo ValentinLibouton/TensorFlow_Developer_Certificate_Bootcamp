{
 "cells": [
  {
   "cell_type": "markdown",
   "source": [
    "# Milestone Project 1: Food Vision Big\n",
    "\n",
    "See the annotated version (plenty of text and explanations for each part) of this notebook on GitHub: [https://github.com/mrdbourke/tensorflow-deep-learning/blob/main/07_food_vision_milestone_project_1.ipynb](https://github.com/mrdbourke/tensorflow-deep-learning/blob/main/07_food_vision_milestone_project_1.ipynb)\n",
    "\n",
    "And see the full course materials (including exercises and extra-curriculum) on GitHub: [https://github.com/mrdbourke/tensorflow-deep-learning/](https://github.com/mrdbourke/tensorflow-deep-learning/)"
   ],
   "metadata": {
    "collapsed": false
   },
   "id": "27fc3659d5679733"
  },
  {
   "cell_type": "markdown",
   "source": [
    "Video N°206: Making sure we have access to the right GPU for mixed precision training"
   ],
   "metadata": {
    "collapsed": false
   },
   "id": "44bfdb75f0d3adb8"
  },
  {
   "cell_type": "code",
   "outputs": [],
   "source": [],
   "metadata": {
    "collapsed": false
   },
   "id": "760f89296ceddfdb"
  }
 ],
 "metadata": {
  "kernelspec": {
   "display_name": "Python 3",
   "language": "python",
   "name": "python3"
  },
  "language_info": {
   "codemirror_mode": {
    "name": "ipython",
    "version": 2
   },
   "file_extension": ".py",
   "mimetype": "text/x-python",
   "name": "python",
   "nbconvert_exporter": "python",
   "pygments_lexer": "ipython2",
   "version": "2.7.6"
  }
 },
 "nbformat": 4,
 "nbformat_minor": 5
}
