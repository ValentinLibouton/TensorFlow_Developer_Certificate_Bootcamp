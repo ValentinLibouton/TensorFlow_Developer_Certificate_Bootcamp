{
 "cells": [
  {
   "cell_type": "markdown",
   "source": [
    "# Milestone Project 1: Food Vision Big\n",
    "\n",
    "See the annotated version (plenty of text and explanations for each part) of this notebook on GitHub: [https://github.com/mrdbourke/tensorflow-deep-learning/blob/main/07_food_vision_milestone_project_1.ipynb](https://github.com/mrdbourke/tensorflow-deep-learning/blob/main/07_food_vision_milestone_project_1.ipynb)\n",
    "\n",
    "And see the full course materials (including exercises and extra-curriculum) on GitHub: [https://github.com/mrdbourke/tensorflow-deep-learning/](https://github.com/mrdbourke/tensorflow-deep-learning/)"
   ],
   "metadata": {
    "collapsed": false
   },
   "id": "27fc3659d5679733"
  },
  {
   "cell_type": "markdown",
   "source": [
    "Video N°206: Making sure we have access to the right GPU for mixed precision training"
   ],
   "metadata": {
    "collapsed": false
   },
   "id": "44bfdb75f0d3adb8"
  },
  {
   "cell_type": "code",
   "outputs": [
    {
     "name": "stderr",
     "output_type": "stream",
     "text": [
      "2024-04-21 21:16:04.765175: E external/local_xla/xla/stream_executor/cuda/cuda_dnn.cc:9261] Unable to register cuDNN factory: Attempting to register factory for plugin cuDNN when one has already been registered\n",
      "2024-04-21 21:16:04.765208: E external/local_xla/xla/stream_executor/cuda/cuda_fft.cc:607] Unable to register cuFFT factory: Attempting to register factory for plugin cuFFT when one has already been registered\n",
      "2024-04-21 21:16:04.765726: E external/local_xla/xla/stream_executor/cuda/cuda_blas.cc:1515] Unable to register cuBLAS factory: Attempting to register factory for plugin cuBLAS when one has already been registered\n",
      "2024-04-21 21:16:04.770193: I tensorflow/core/platform/cpu_feature_guard.cc:182] This TensorFlow binary is optimized to use available CPU instructions in performance-critical operations.\n",
      "To enable the following instructions: SSE4.1 SSE4.2 AVX AVX2 FMA, in other operations, rebuild TensorFlow with the appropriate compiler flags.\n"
     ]
    },
    {
     "name": "stdout",
     "output_type": "stream",
     "text": [
      "1 Physical GPUs, 1 Logical GPU\n"
     ]
    },
    {
     "name": "stderr",
     "output_type": "stream",
     "text": [
      "2024-04-21 21:16:06.318887: I external/local_xla/xla/stream_executor/cuda/cuda_executor.cc:901] successful NUMA node read from SysFS had negative value (-1), but there must be at least one NUMA node, so returning NUMA node zero. See more at https://github.com/torvalds/linux/blob/v6.0/Documentation/ABI/testing/sysfs-bus-pci#L344-L355\n",
      "2024-04-21 21:16:06.347358: I external/local_xla/xla/stream_executor/cuda/cuda_executor.cc:901] successful NUMA node read from SysFS had negative value (-1), but there must be at least one NUMA node, so returning NUMA node zero. See more at https://github.com/torvalds/linux/blob/v6.0/Documentation/ABI/testing/sysfs-bus-pci#L344-L355\n",
      "2024-04-21 21:16:06.347725: I external/local_xla/xla/stream_executor/cuda/cuda_executor.cc:901] successful NUMA node read from SysFS had negative value (-1), but there must be at least one NUMA node, so returning NUMA node zero. See more at https://github.com/torvalds/linux/blob/v6.0/Documentation/ABI/testing/sysfs-bus-pci#L344-L355\n",
      "2024-04-21 21:16:06.349619: I external/local_xla/xla/stream_executor/cuda/cuda_executor.cc:901] successful NUMA node read from SysFS had negative value (-1), but there must be at least one NUMA node, so returning NUMA node zero. See more at https://github.com/torvalds/linux/blob/v6.0/Documentation/ABI/testing/sysfs-bus-pci#L344-L355\n",
      "2024-04-21 21:16:06.349940: I external/local_xla/xla/stream_executor/cuda/cuda_executor.cc:901] successful NUMA node read from SysFS had negative value (-1), but there must be at least one NUMA node, so returning NUMA node zero. See more at https://github.com/torvalds/linux/blob/v6.0/Documentation/ABI/testing/sysfs-bus-pci#L344-L355\n",
      "2024-04-21 21:16:06.350218: I external/local_xla/xla/stream_executor/cuda/cuda_executor.cc:901] successful NUMA node read from SysFS had negative value (-1), but there must be at least one NUMA node, so returning NUMA node zero. See more at https://github.com/torvalds/linux/blob/v6.0/Documentation/ABI/testing/sysfs-bus-pci#L344-L355\n",
      "2024-04-21 21:16:06.406285: I external/local_xla/xla/stream_executor/cuda/cuda_executor.cc:901] successful NUMA node read from SysFS had negative value (-1), but there must be at least one NUMA node, so returning NUMA node zero. See more at https://github.com/torvalds/linux/blob/v6.0/Documentation/ABI/testing/sysfs-bus-pci#L344-L355\n",
      "2024-04-21 21:16:06.406521: I external/local_xla/xla/stream_executor/cuda/cuda_executor.cc:901] successful NUMA node read from SysFS had negative value (-1), but there must be at least one NUMA node, so returning NUMA node zero. See more at https://github.com/torvalds/linux/blob/v6.0/Documentation/ABI/testing/sysfs-bus-pci#L344-L355\n",
      "2024-04-21 21:16:06.406727: I external/local_xla/xla/stream_executor/cuda/cuda_executor.cc:901] successful NUMA node read from SysFS had negative value (-1), but there must be at least one NUMA node, so returning NUMA node zero. See more at https://github.com/torvalds/linux/blob/v6.0/Documentation/ABI/testing/sysfs-bus-pci#L344-L355\n",
      "2024-04-21 21:16:06.406853: I tensorflow/core/common_runtime/gpu/gpu_device.cc:1929] Created device /job:localhost/replica:0/task:0/device:GPU:0 with 5451 MB memory:  -> device: 0, name: NVIDIA GeForce RTX 3050, pci bus id: 0000:09:00.0, compute capability: 8.6\n"
     ]
    }
   ],
   "source": [
    "from MachineLearningUtils.system_setup.gpu import activate_gpu\n",
    "activate_gpu()"
   ],
   "metadata": {
    "collapsed": false,
    "ExecuteTime": {
     "end_time": "2024-04-21T19:16:06.412490938Z",
     "start_time": "2024-04-21T19:16:04.570559478Z"
    }
   },
   "id": "760f89296ceddfdb",
   "execution_count": 1
  },
  {
   "cell_type": "markdown",
   "source": [
    "## Check GPU\n",
    "\n",
    "Google Colab offers free GPUs (thank you Google), however, not all of them are compatiable with mixed precision training.\n",
    "\n",
    "Google Colab offers:\n",
    "* K80 (not compatible)\n",
    "* P100 (not compatible) \n",
    "* Tesla T4 (compatible)\n",
    "\n",
    "Knowing this, in order to use mixed precision training we need access to a Tesla T4 (from within Google Colab) or if we're using our own hardware, our GPU needs a score of 7.0+ (see here: https://developer.nvidia.com/cuda-gpus).\n",
    "\n",
    "📖 **Resource:** You can read more about the benefits of mixed precision training in the TensorFlow Mixed Precision documentation: https://www.tensorflow.org/guide/mixed_precision \n"
   ],
   "metadata": {
    "collapsed": false
   },
   "id": "ca5c7c7f908d6d4f"
  },
  {
   "cell_type": "code",
   "outputs": [
    {
     "name": "stdout",
     "output_type": "stream",
     "text": [
      "/bin/bash: warning: setlocale: LC_ALL: cannot change locale (en_US.UTF-8)\r\n",
      "GPU 0: NVIDIA GeForce RTX 3050 (UUID: GPU-ee6cd8ff-34bf-dc58-2edb-4f5120aaec55)\r\n"
     ]
    }
   ],
   "source": [
    "# If the following line doesn't output \"Tesla T4\", you can try getting access to\n",
    "# another GPU by going to Runtime -> Factory Reset Runtime -> \"Yes\" and then\n",
    "# re-running this cell.\n",
    "!nvidia-smi -L"
   ],
   "metadata": {
    "collapsed": false,
    "ExecuteTime": {
     "end_time": "2024-04-21T19:16:09.366261562Z",
     "start_time": "2024-04-21T19:16:09.103578533Z"
    }
   },
   "id": "3e51ed847ce3d389",
   "execution_count": 2
  },
  {
   "cell_type": "markdown",
   "source": [
    "Video N°207: Getting helper functions ready"
   ],
   "metadata": {
    "collapsed": false
   },
   "id": "7aceb8e553a3c982"
  },
  {
   "cell_type": "markdown",
   "source": [
    "## Get helper functions\n",
    "\n",
    "In past modules, we've created a bunch of helper functions to do small tasks required for our notebooks.\n",
    "\n",
    "Rather than rewrite all of these, we can import a script and load them in from there.\n",
    "\n",
    "The script we've got available can be found on GitHub: https://raw.githubusercontent.com/mrdbourke/tensorflow-deep-learning/main/extras/helper_functions.py"
   ],
   "metadata": {
    "collapsed": false
   },
   "id": "970fb706bf7f20a7"
  },
  {
   "cell_type": "markdown",
   "source": [
    "But I'm going to import my personal functions..."
   ],
   "metadata": {
    "collapsed": false
   },
   "id": "227dab03b13db9c"
  },
  {
   "cell_type": "code",
   "outputs": [],
   "source": [
    "from MachineLearningUtils.data_acquisition.data_downloader import *\n",
    "from MachineLearningUtils.data_visualization.augmentation_effects import *\n",
    "from MachineLearningUtils.data_visualization.evaluation_metrics import *\n",
    "from MachineLearningUtils.data_visualization.image_visualization import *\n",
    "from MachineLearningUtils.data_visualization.model_learning_curves import *\n",
    "from MachineLearningUtils.data_visualization.prediction_visualization import *\n",
    "from MachineLearningUtils.training_utilities.model_callbacks import *\n",
    "from MachineLearningUtils.training_utilities.transfer_learning import *"
   ],
   "metadata": {
    "collapsed": false,
    "ExecuteTime": {
     "end_time": "2024-04-21T19:16:13.270165271Z",
     "start_time": "2024-04-21T19:16:12.753593411Z"
    }
   },
   "id": "8e59580b8c6c823b",
   "execution_count": 3
  },
  {
   "cell_type": "markdown",
   "source": [
    "Video N°208: Introduction to TensorFlow Datasets (TFDS)"
   ],
   "metadata": {
    "collapsed": false
   },
   "id": "5fcae90b9e61317"
  },
  {
   "cell_type": "markdown",
   "source": [
    "## Use TensorFlow Datasets to Download Data\n",
    "\n",
    "If you want to get an overview of TensorFlow Datasets (TFDS), read the guide: [https://www.tensorflow.org/datasets/overview](https://www.tensorflow.org/datasets/overview)"
   ],
   "metadata": {
    "collapsed": false
   },
   "id": "689315ebd482e1c4"
  },
  {
   "cell_type": "code",
   "outputs": [],
   "source": [
    "# Get TensorFlow Datasets\n",
    "import tensorflow_datasets as tfds"
   ],
   "metadata": {
    "collapsed": false,
    "ExecuteTime": {
     "end_time": "2024-04-21T19:16:15.433454986Z",
     "start_time": "2024-04-21T19:16:15.061086004Z"
    }
   },
   "id": "9b9cf20ec0f73e41",
   "execution_count": 4
  },
  {
   "cell_type": "code",
   "outputs": [
    {
     "name": "stderr",
     "output_type": "stream",
     "text": [
      "2024-04-21 21:16:15.749008: W external/local_tsl/tsl/platform/cloud/google_auth_provider.cc:184] All attempts to get a Google authentication bearer token failed, returning an empty token. Retrieving token from files failed with \"NOT_FOUND: Could not locate the credentials file.\". Retrieving token from GCE failed with \"FAILED_PRECONDITION: Error executing an HTTP request: libcurl code 6 meaning 'Couldn't resolve host name', error details: Could not resolve host: metadata.google.internal\".\n"
     ]
    },
    {
     "name": "stdout",
     "output_type": "stream",
     "text": [
      "True\n"
     ]
    }
   ],
   "source": [
    "# List alla available datasets\n",
    "datasets_list = tfds.list_builders() # get all available datasets in TFDS\n",
    "print(\"food101\" in datasets_list) # is our target dataset in the list of TFDS datasets?"
   ],
   "metadata": {
    "collapsed": false,
    "ExecuteTime": {
     "end_time": "2024-04-21T19:16:16.804919724Z",
     "start_time": "2024-04-21T19:16:15.687991428Z"
    }
   },
   "id": "9d70093cf0c656fc",
   "execution_count": 5
  },
  {
   "cell_type": "markdown",
   "source": [
    "🛠 **Exercise:** Running the following cell can take a while using Google Colab (about 5-6 minutes). While your data is downloading, have a read through the TensorFlow Datasets documentation: https://www.tensorflow.org/datasets/overview\n",
    "\n",
    "🔑 **Note:** Some of the datasets contained within TensorFlow datasets are over 100GB+, meaning if you run the cell below (outside of Google Colab), you might be downloading 100GB+ to your computer or the computer that you're using. Beware as this could take a large amount of bandwidth."
   ],
   "metadata": {
    "collapsed": false
   },
   "id": "a1e7de379de7f473"
  },
  {
   "cell_type": "code",
   "outputs": [],
   "source": [
    "# Load in the data (takes 5-6 minutes in Google Colab)\n",
    "(train_data, test_data), ds_info = tfds.load(name=\"food101\",\n",
    "                                             split=[\"train\", \"validation\"], # splits can be a little tricky, for more see: https://www.tensorflow.org/datasets/splits \n",
    "                                             shuffle_files=True,\n",
    "                                             as_supervised=True, # data gets returned in tuple format (data, label)\n",
    "                                             with_info=True)"
   ],
   "metadata": {
    "collapsed": false,
    "ExecuteTime": {
     "end_time": "2024-04-21T19:16:17.514741168Z",
     "start_time": "2024-04-21T19:16:17.375934398Z"
    }
   },
   "id": "1f816dea054363e5",
   "execution_count": 6
  },
  {
   "cell_type": "markdown",
   "source": [
    "Video N°209: Exploring and becoming one with the data (Food101 from TensorFlowDatasets)"
   ],
   "metadata": {
    "collapsed": false
   },
   "id": "df771c8457348d81"
  },
  {
   "cell_type": "markdown",
   "source": [
    "## Exploring the Food101 data from TensorFlow Datasets\n",
    "\n",
    "To become one with our data, we want to find:\n",
    "* Class names\n",
    "* The shape of our input data (image tensors)\n",
    "* The datatype of our input data\n",
    "* What the labels look like (e.g. are they one-hot encoded or are they label encoded)\n",
    "* Do the labels match up with the class names?"
   ],
   "metadata": {
    "collapsed": false
   },
   "id": "d283605e03d5cfaa"
  },
  {
   "cell_type": "code",
   "outputs": [
    {
     "data": {
      "text/plain": "FeaturesDict({\n    'image': Image(shape=(None, None, 3), dtype=uint8),\n    'label': ClassLabel(shape=(), dtype=int64, num_classes=101),\n})"
     },
     "execution_count": 7,
     "metadata": {},
     "output_type": "execute_result"
    }
   ],
   "source": [
    "# Features of Food101 from TFDS\n",
    "ds_info.features"
   ],
   "metadata": {
    "collapsed": false,
    "ExecuteTime": {
     "end_time": "2024-04-21T19:16:20.389137212Z",
     "start_time": "2024-04-21T19:16:20.381387234Z"
    }
   },
   "id": "bd2378e5933cb336",
   "execution_count": 7
  },
  {
   "cell_type": "code",
   "outputs": [
    {
     "data": {
      "text/plain": "['apple_pie',\n 'baby_back_ribs',\n 'baklava',\n 'beef_carpaccio',\n 'beef_tartare',\n 'beet_salad',\n 'beignets',\n 'bibimbap',\n 'bread_pudding',\n 'breakfast_burrito']"
     },
     "execution_count": 8,
     "metadata": {},
     "output_type": "execute_result"
    }
   ],
   "source": [
    "# Get the class names\n",
    "class_names = ds_info.features[\"label\"].names\n",
    "class_names[:10]"
   ],
   "metadata": {
    "collapsed": false,
    "ExecuteTime": {
     "end_time": "2024-04-21T19:16:21.093109080Z",
     "start_time": "2024-04-21T19:16:21.070116702Z"
    }
   },
   "id": "352fcfce7fc91435",
   "execution_count": 8
  },
  {
   "cell_type": "code",
   "outputs": [],
   "source": [
    "# Take one sample of the train data\n",
    "train_one_sample = train_data.take(1) # samples are in format (image_tensor, label)"
   ],
   "metadata": {
    "collapsed": false,
    "ExecuteTime": {
     "end_time": "2024-04-21T19:16:23.212984159Z",
     "start_time": "2024-04-21T19:16:23.190831413Z"
    }
   },
   "id": "72f60190ecd52604",
   "execution_count": 9
  },
  {
   "cell_type": "code",
   "outputs": [
    {
     "data": {
      "text/plain": "<_TakeDataset element_spec=(TensorSpec(shape=(None, None, 3), dtype=tf.uint8, name=None), TensorSpec(shape=(), dtype=tf.int64, name=None))>"
     },
     "execution_count": 10,
     "metadata": {},
     "output_type": "execute_result"
    }
   ],
   "source": [
    "# What does one sample of our training data look like?\n",
    "train_one_sample"
   ],
   "metadata": {
    "collapsed": false,
    "ExecuteTime": {
     "end_time": "2024-04-21T19:16:24.111701690Z",
     "start_time": "2024-04-21T19:16:24.076975152Z"
    }
   },
   "id": "541a60a9e88ce96c",
   "execution_count": 10
  },
  {
   "cell_type": "code",
   "outputs": [
    {
     "name": "stdout",
     "output_type": "stream",
     "text": [
      "\n",
      "  Image shape: (512, 288, 3)\n",
      "  Image datatype: <dtype: 'uint8'>\n",
      "  Target class from Food101 (tensor form): 93\n",
      "  Class name (str form): steak\n",
      "  \n"
     ]
    }
   ],
   "source": [
    "# Output info about our training sample\n",
    "for image, label in train_one_sample:\n",
    "  print(f\"\"\"\n",
    "  Image shape: {image.shape}\n",
    "  Image datatype: {image.dtype}\n",
    "  Target class from Food101 (tensor form): {label}\n",
    "  Class name (str form): {class_names[label.numpy()]}\n",
    "  \"\"\")"
   ],
   "metadata": {
    "collapsed": false,
    "ExecuteTime": {
     "end_time": "2024-04-21T19:16:24.659449911Z",
     "start_time": "2024-04-21T19:16:24.551697240Z"
    }
   },
   "id": "e432386ed4cc26f4",
   "execution_count": 11
  },
  {
   "cell_type": "code",
   "outputs": [
    {
     "data": {
      "text/plain": "<tf.Tensor: shape=(512, 288, 3), dtype=uint8, numpy=\narray([[[148, 103,  36],\n        [147, 102,  35],\n        [147, 102,  35],\n        ...,\n        [146, 111,  53],\n        [146, 111,  53],\n        [146, 111,  53]],\n\n       [[147, 102,  35],\n        [147, 102,  35],\n        [148, 103,  36],\n        ...,\n        [145, 110,  52],\n        [145, 110,  52],\n        [145, 110,  52]],\n\n       [[143,  98,  31],\n        [144,  99,  32],\n        [146, 101,  33],\n        ...,\n        [146, 111,  55],\n        [146, 111,  55],\n        [145, 110,  54]],\n\n       ...,\n\n       [[113,  69,  94],\n        [113,  69,  94],\n        [112,  68,  93],\n        ...,\n        [ 77,  53,  67],\n        [ 76,  52,  66],\n        [ 78,  54,  68]],\n\n       [[115,  71,  96],\n        [115,  71,  96],\n        [114,  70,  95],\n        ...,\n        [ 79,  55,  69],\n        [ 81,  54,  69],\n        [ 82,  55,  70]],\n\n       [[116,  72,  97],\n        [117,  73,  98],\n        [117,  73,  98],\n        ...,\n        [ 75,  51,  65],\n        [ 75,  48,  63],\n        [ 76,  49,  64]]], dtype=uint8)>"
     },
     "execution_count": 12,
     "metadata": {},
     "output_type": "execute_result"
    }
   ],
   "source": [
    "# What does our image tensor from TFDS's Food101 look like?\n",
    "image"
   ],
   "metadata": {
    "collapsed": false,
    "ExecuteTime": {
     "end_time": "2024-04-21T19:16:25.237146083Z",
     "start_time": "2024-04-21T19:16:25.233491917Z"
    }
   },
   "id": "3c5ea7e2ea633885",
   "execution_count": 12
  },
  {
   "cell_type": "code",
   "outputs": [
    {
     "data": {
      "text/plain": "(<tf.Tensor: shape=(), dtype=uint8, numpy=0>,\n <tf.Tensor: shape=(), dtype=uint8, numpy=255>)"
     },
     "execution_count": 13,
     "metadata": {},
     "output_type": "execute_result"
    }
   ],
   "source": [
    "# What are the min and max values of our image tensor?\n",
    "import tensorflow as tf\n",
    "tf.reduce_min(image), tf.reduce_max(image)"
   ],
   "metadata": {
    "collapsed": false,
    "ExecuteTime": {
     "end_time": "2024-04-21T19:16:26.152303259Z",
     "start_time": "2024-04-21T19:16:26.125970770Z"
    }
   },
   "id": "3d7877226fe8c63b",
   "execution_count": 13
  },
  {
   "cell_type": "markdown",
   "source": [
    "### Plot an image from TensorFlow Datasets"
   ],
   "metadata": {
    "collapsed": false
   },
   "id": "e084398e82dcbea9"
  },
  {
   "cell_type": "code",
   "outputs": [
    {
     "data": {
      "text/plain": "<Figure size 640x480 with 1 Axes>",
      "image/png": "[encoded data removed]"
     },
     "metadata": {},
     "output_type": "display_data"
    }
   ],
   "source": [
    "# Plot an image tensor\n",
    "import matplotlib.pyplot as plt\n",
    "plt.imshow(image)\n",
    "plt.title(class_names[label.numpy()]) # Add title to image to verify the label is assosciated with the right image\n",
    "plt.axis(False);"
   ],
   "metadata": {
    "collapsed": false,
    "ExecuteTime": {
     "end_time": "2024-04-21T19:16:27.671329760Z",
     "start_time": "2024-04-21T19:16:27.496985554Z"
    }
   },
   "id": "ee6f0a5742384c16",
   "execution_count": 14
  },
  {
   "cell_type": "markdown",
   "source": [
    "Video N°210: Creating a preprocessing function to prepare our data for modelling"
   ],
   "metadata": {
    "collapsed": false
   },
   "id": "4122b9a16a4a5f4c"
  },
  {
   "cell_type": "markdown",
   "source": [
    "## Create preprocessing functions for our data\n",
    "\n",
    "Neural networks perform best when data is in a certain way (e.g. batched, normalized, etc).\n",
    "\n",
    "However, not all data (including data from from TensorFlow Datasets) comes like this.\n",
    "\n",
    "So in order to get it ready for a neural network, you'll often have to write preprocessing functions and map it to your data.\n",
    "\n",
    "What we know about our data:\n",
    "* In `uint8` datatype\n",
    "* Comprised of all different size tensors (different sized images)\n",
    "* Not scaled (the pixel values are between 0 & 255)\n",
    "\n",
    "What we know models like:\n",
    "* Data in `float32` dtype (or for mixed precision `float16` and `float32`)\n",
    "* For batches, TensorFlow likes all of the tensors within a batch to be of the same size\n",
    "* Scaled (values between 0 & 1) also called normalized tensors generally perform better\n",
    "\n",
    "With these points in mind, we've got a few things we can tackle with a preprocessing function.\n",
    "\n",
    "Since we're going to be using an EfficientNetBX pretrained model from tf.keras.applications we don't need to rescale our data (these architectures have rescaling built-in).\n",
    "\n",
    "This means our functions needs to:\n",
    "1. Reshape our images to all the same size\n",
    "2. Convert the dtype of our image tensors from `unit8` to `float32`"
   ],
   "metadata": {
    "collapsed": false
   },
   "id": "cc34b57c6cb661ae"
  },
  {
   "cell_type": "code",
   "outputs": [],
   "source": [
    "# Make a prediction for preprocessing image\n",
    "def preprocess_img(image, label, img_shape=224):\n",
    "  \"\"\"\n",
    "  Converts image datatype from 'uint8' -> 'float32' and reshapes\n",
    "  image to [img_shape, img_shape, colour_channels]\n",
    "  \"\"\"\n",
    "  image = tf.image.resize(image, [img_shape, img_shape]) # reshape target image\n",
    "  # image = image/255. # scale image values (not required with EfficientNetBX models from tf.keras.applications)\n",
    "  return tf.cast(image, tf.float32), label # return (float32_image, label) tuple"
   ],
   "metadata": {
    "collapsed": false,
    "ExecuteTime": {
     "end_time": "2024-04-21T19:16:30.352185979Z",
     "start_time": "2024-04-21T19:16:30.349462666Z"
    }
   },
   "id": "df83b3fabbc83679",
   "execution_count": 15
  },
  {
   "cell_type": "code",
   "outputs": [
    {
     "name": "stdout",
     "output_type": "stream",
     "text": [
      "Image before preprocessing:\n",
      " [[[148 103  36]\n",
      "  [147 102  35]\n",
      "  [147 102  35]\n",
      "  ...\n",
      "  [146 111  53]\n",
      "  [146 111  53]\n",
      "  [146 111  53]]\n",
      "\n",
      " [[147 102  35]\n",
      "  [147 102  35]\n",
      "  [148 103  36]\n",
      "  ...\n",
      "  [145 110  52]\n",
      "  [145 110  52]\n",
      "  [145 110  52]]]..., \n",
      "Shape: (512, 288, 3),\n",
      "Datatype: <dtype: 'uint8'>\n",
      "\n",
      "Image after preprocessing:\n",
      "[[[147.30612  102.30612   35.30612 ]\n",
      "  [147.27551  102.27551   35.27551 ]\n",
      "  [148.61224  103.61224   36.612244]\n",
      "  ...\n",
      "  [145.61224  110.61225   52.612247]\n",
      "  [145.35715  110.35714   52.357143]\n",
      "  [145.35715  110.35714   52.357143]]\n",
      "\n",
      " [[142.34694   97.34694   30.34694 ]\n",
      "  [144.85715   99.85714   32.42857 ]\n",
      "  [146.       101.        33.      ]\n",
      "  ...\n",
      "  [144.14285  109.14285   53.142857]\n",
      "  [144.14285  109.14285   53.142857]\n",
      "  [143.2857   108.285706  52.28571 ]]]...,\n",
      "Shape: (224, 224, 3),\n",
      "Datatype: <dtype: 'float32'>\n"
     ]
    }
   ],
   "source": [
    "# Preprocess a single sample image and check the outputs\n",
    "preprocessed_img = preprocess_img(image, label)[0]\n",
    "print(f\"Image before preprocessing:\\n {image[:2]}..., \\nShape: {image.shape},\\nDatatype: {image.dtype}\\n\")\n",
    "print(f\"Image after preprocessing:\\n{preprocessed_img[:2]}...,\\nShape: {preprocessed_img.shape},\\nDatatype: {preprocessed_img.dtype}\")"
   ],
   "metadata": {
    "collapsed": false,
    "ExecuteTime": {
     "end_time": "2024-04-21T19:16:31.356490175Z",
     "start_time": "2024-04-21T19:16:31.314720390Z"
    }
   },
   "id": "b6fce7ce527209a0",
   "execution_count": 16
  },
  {
   "cell_type": "markdown",
   "source": [
    "Video N°211: Batching and prepraring our datasets (to make them run fast)"
   ],
   "metadata": {
    "collapsed": false
   },
   "id": "d8d77189219bfafe"
  },
  {
   "cell_type": "markdown",
   "source": [
    "## Batch & prepare datasets\n",
    "\n",
    "We're now going to make our data input pipeline run really fast. \n",
    "\n",
    "For more resources on this, I'd highly going through the following guide: [https://www.tensorflow.org/guide/data_performance](https://www.tensorflow.org/guide/data_performance)"
   ],
   "metadata": {
    "collapsed": false
   },
   "id": "b73b9185333857db"
  },
  {
   "cell_type": "markdown",
   "source": [
    "J'ai ajouté .cache() afin d'accélérer les temps de calcul grâce à ma grande quantité de RAM, .cache() peut être retiré si le dataset est trop gros."
   ],
   "metadata": {
    "collapsed": false
   },
   "id": "66553e31e8d21039"
  },
  {
   "cell_type": "code",
   "outputs": [],
   "source": [
    "# Map preprocessing function to training (and parallelize)\n",
    "train_data = train_data.map(map_func=preprocess_img, num_parallel_calls=tf.data.AUTOTUNE)\n",
    "# Shuffle train_data and turn it into batches and prefetch it (load it faster)\n",
    "train_data = train_data.shuffle(buffer_size=1000).batch(batch_size=32).prefetch(buffer_size=tf.data.AUTOTUNE)\n",
    "\n",
    "# Map preprocessing function to test data\n",
    "test_data = test_data.map(preprocess_img, num_parallel_calls=tf.data.AUTOTUNE).batch(batch_size=32).prefetch(buffer_size=tf.data.AUTOTUNE).cache()"
   ],
   "metadata": {
    "collapsed": false,
    "ExecuteTime": {
     "end_time": "2024-04-21T19:16:34.698203238Z",
     "start_time": "2024-04-21T19:16:34.647136529Z"
    }
   },
   "id": "ef312fd9a46f3b16",
   "execution_count": 17
  },
  {
   "cell_type": "code",
   "outputs": [
    {
     "data": {
      "text/plain": "(<_PrefetchDataset element_spec=(TensorSpec(shape=(None, 224, 224, 3), dtype=tf.float32, name=None), TensorSpec(shape=(None,), dtype=tf.int64, name=None))>,\n <CacheDataset element_spec=(TensorSpec(shape=(None, 224, 224, 3), dtype=tf.float32, name=None), TensorSpec(shape=(None,), dtype=tf.int64, name=None))>)"
     },
     "execution_count": 18,
     "metadata": {},
     "output_type": "execute_result"
    }
   ],
   "source": [
    "train_data, test_data"
   ],
   "metadata": {
    "collapsed": false,
    "ExecuteTime": {
     "end_time": "2024-04-21T19:16:36.495207622Z",
     "start_time": "2024-04-21T19:16:36.479557656Z"
    }
   },
   "id": "d3dff95c4cb0fc4",
   "execution_count": 18
  },
  {
   "cell_type": "markdown",
   "source": [
    "Video N°212: Exploring what happens when we batch and prefetch our data"
   ],
   "metadata": {
    "collapsed": false
   },
   "id": "bc55dea0c3747ca2"
  },
  {
   "cell_type": "markdown",
   "source": [
    "> \"Hey, TensorFlow, map this preprocessing function (`preprocess_img`) across our training dataset, then shuffle a number of elements and then batch them together and finally make sure you prepare new batches (prefetch) whilst the model is looking through (finding patterns) the current batch.\""
   ],
   "metadata": {
    "collapsed": false
   },
   "id": "f83768b1cc7f7b77"
  },
  {
   "cell_type": "markdown",
   "source": [
    "Video N°213: Creating modelling callbacks for our feature extraction model"
   ],
   "metadata": {
    "collapsed": false
   },
   "id": "335f71e2c27796aa"
  },
  {
   "cell_type": "markdown",
   "source": [
    "## Create modelling callbacks\n",
    "\n",
    "We're going to create a couple of callbacks to help us while our model trains:\n",
    "* TensorBoard callback to log training results (so we can visualize them later if need be)\n",
    "* ModelCheckpoint callback to save our model's progress after feature extraction"
   ],
   "metadata": {
    "collapsed": false
   },
   "id": "4c536906f3065982"
  },
  {
   "cell_type": "code",
   "outputs": [],
   "source": [
    "# Create tensorboard callback (import from helper_functions)\n",
    "# create_tensorboard_callback()\n",
    "\n",
    "# Create ModelCheckpoint callback to save a model's progress during training \n",
    "checkpoint_path = \"model_checkpoints/cp.ckpt\"\n",
    "model_checkpoint = tf.keras.callbacks.ModelCheckpoint(checkpoint_path,\n",
    "                                                      montior=\"val_acc\",\n",
    "                                                      save_best_only=True,\n",
    "                                                      save_weights_only=True,\n",
    "                                                      verbose=0) # don't print whether or not model is being saved"
   ],
   "metadata": {
    "collapsed": false,
    "ExecuteTime": {
     "end_time": "2024-04-21T19:34:44.803647701Z",
     "start_time": "2024-04-21T19:34:44.755780247Z"
    }
   },
   "id": "7dfc67cd0deef1fa",
   "execution_count": 19
  },
  {
   "cell_type": "markdown",
   "source": [
    "#214:\n",
    "- Error:\n",
    "The error happens when you turn on mixed precision training for EfficientNetBX models (if you're not sure what this is, you'll see it in the next video).\n",
    "\n",
    "It'll look something like this:\n",
    "TypeError: Input 'y' of 'Sub' Op has type float16 that does not match type float32 of argument 'x'\n",
    "- How to fix it:\n",
    "The current workaround is to downgrade to TensorFlow 2.4.1 (the last version before 2.5)."
   ],
   "metadata": {
    "collapsed": false
   },
   "id": "b111c7d90e93afd7"
  },
  {
   "cell_type": "code",
   "outputs": [
    {
     "data": {
      "text/plain": "'2.15.0'"
     },
     "execution_count": 20,
     "metadata": {},
     "output_type": "execute_result"
    }
   ],
   "source": [
    "tf.__version__"
   ],
   "metadata": {
    "collapsed": false,
    "ExecuteTime": {
     "end_time": "2024-04-21T19:37:27.288661073Z",
     "start_time": "2024-04-21T19:37:27.244122993Z"
    }
   },
   "id": "9df8a56fa868685b",
   "execution_count": 20
  },
  {
   "cell_type": "markdown",
   "source": [
    "Video N°215: Turning on mixed precision training with TensorFlow"
   ],
   "metadata": {
    "collapsed": false
   },
   "id": "92091a368ce27c07"
  },
  {
   "cell_type": "markdown",
   "source": [
    "## Setup mixed precision training\n",
    "\n",
    "First and foremost, for a deeper understanding of mixed precision training, check out the TensorFlow guide for mixed precision: https://www.tensorflow.org/guide/mixed_precision\n",
    "\n",
    "Mixed precision utilizes a combination of float32 and float16 data types to speed up model performance."
   ],
   "metadata": {
    "collapsed": false
   },
   "id": "dbc4280cb74015dc"
  },
  {
   "cell_type": "code",
   "outputs": [
    {
     "name": "stdout",
     "output_type": "stream",
     "text": [
      "INFO:tensorflow:Mixed precision compatibility check (mixed_float16): OK\n",
      "Your GPU will likely run quickly with dtype policy mixed_float16 as it has compute capability of at least 7.0. Your GPU: NVIDIA GeForce RTX 3050, compute capability 8.6\n"
     ]
    },
    {
     "name": "stderr",
     "output_type": "stream",
     "text": [
      "2024-04-21 21:39:37.979758: I external/local_xla/xla/stream_executor/cuda/cuda_executor.cc:901] successful NUMA node read from SysFS had negative value (-1), but there must be at least one NUMA node, so returning NUMA node zero. See more at https://github.com/torvalds/linux/blob/v6.0/Documentation/ABI/testing/sysfs-bus-pci#L344-L355\n",
      "INFO:tensorflow:Mixed precision compatibility check (mixed_float16): OK\n",
      "Your GPU will likely run quickly with dtype policy mixed_float16 as it has compute capability of at least 7.0. Your GPU: NVIDIA GeForce RTX 3050, compute capability 8.6\n"
     ]
    }
   ],
   "source": [
    "# Turn on mixed precision training\n",
    "from tensorflow.keras import mixed_precision\n",
    "mixed_precision.set_global_policy(\"mixed_float16\") # set global data policy to mixed precision "
   ],
   "metadata": {
    "collapsed": false,
    "ExecuteTime": {
     "end_time": "2024-04-21T19:39:38.028278136Z",
     "start_time": "2024-04-21T19:39:37.982550622Z"
    }
   },
   "id": "7d8e187444397fe3",
   "execution_count": 21
  },
  {
   "cell_type": "code",
   "outputs": [
    {
     "data": {
      "text/plain": "<Policy \"mixed_float16\">"
     },
     "execution_count": 22,
     "metadata": {},
     "output_type": "execute_result"
    }
   ],
   "source": [
    "mixed_precision.global_policy()"
   ],
   "metadata": {
    "collapsed": false,
    "ExecuteTime": {
     "end_time": "2024-04-21T19:40:07.740083894Z",
     "start_time": "2024-04-21T19:40:07.693378371Z"
    }
   },
   "id": "d38821a151a31d57",
   "execution_count": 22
  },
  {
   "cell_type": "markdown",
   "source": [
    "Video N°216: Creating a feature extraction model capable of using mixed precision training"
   ],
   "metadata": {
    "collapsed": false
   },
   "id": "d741ae827d00cb49"
  },
  {
   "cell_type": "markdown",
   "source": [
    "## Build feature extraction model"
   ],
   "metadata": {
    "collapsed": false
   },
   "id": "646a290e6078444"
  },
  {
   "cell_type": "code",
   "outputs": [],
   "source": [
    "from tensorflow.keras import layers\n",
    "from tensorflow.keras.layers.experimental import preprocessing\n",
    "\n",
    "# Create base model\n",
    "input_shape = (224, 224, 3)\n",
    "base_model = tf.keras.applications.efficientnet_v2.EfficientNetV2B0(include_top=False)\n",
    "base_model.trainable = False\n",
    "\n",
    "# Create functional model\n",
    "inputs = layers.Input(shape=input_shape, name=\"input_layer\")\n",
    "# Note: EfficientNetBX models have rescaling built-in but if your model doesn't you can have a layer like below\n",
    "# x = preprocessing.Rescaling(1./255)(x)\n",
    "x = base_model(inputs, training=False) # makes sure layers which should be in inference mode only stay like that\n",
    "x = layers.GlobalAveragePooling2D()(x)\n",
    "x = layers.Dense(len(class_names))(x)\n",
    "outputs = layers.Activation(\"softmax\", dtype=tf.float32, name=\"softmax_float32\")(x) # dtype for numerical stability\n",
    "model = tf.keras.Model(inputs, outputs) \n",
    "\n",
    "# Compile the model\n",
    "model.compile(loss=\"sparse_categorical_crossentropy\",\n",
    "              optimizer=tf.keras.optimizers.Adam(),\n",
    "              metrics=[\"accuracy\"])"
   ],
   "metadata": {
    "collapsed": false,
    "ExecuteTime": {
     "end_time": "2024-04-21T19:54:31.125340213Z",
     "start_time": "2024-04-21T19:54:28.473914472Z"
    }
   },
   "id": "5ab3b23c724dd0ff",
   "execution_count": 24
  },
  {
   "cell_type": "code",
   "outputs": [
    {
     "name": "stdout",
     "output_type": "stream",
     "text": [
      "Model: \"model_1\"\n",
      "_________________________________________________________________\n",
      " Layer (type)                Output Shape              Param #   \n",
      "=================================================================\n",
      " input_layer (InputLayer)    [(None, 224, 224, 3)]     0         \n",
      "                                                                 \n",
      " efficientnetv2-b0 (Functio  (None, None, None, 1280   5919312   \n",
      " nal)                        )                                   \n",
      "                                                                 \n",
      " global_average_pooling2d_1  (None, 1280)              0         \n",
      "  (GlobalAveragePooling2D)                                       \n",
      "                                                                 \n",
      " dense_1 (Dense)             (None, 101)               129381    \n",
      "                                                                 \n",
      " softmax_float32 (Activatio  (None, 101)               0         \n",
      " n)                                                              \n",
      "                                                                 \n",
      "=================================================================\n",
      "Total params: 6048693 (23.07 MB)\n",
      "Trainable params: 129381 (505.39 KB)\n",
      "Non-trainable params: 5919312 (22.58 MB)\n",
      "_________________________________________________________________\n"
     ]
    }
   ],
   "source": [
    "model.summary()"
   ],
   "metadata": {
    "collapsed": false,
    "ExecuteTime": {
     "end_time": "2024-04-21T20:03:08.606298825Z",
     "start_time": "2024-04-21T20:03:08.558457850Z"
    }
   },
   "id": "7ef263323d0baca",
   "execution_count": 25
  },
  {
   "cell_type": "markdown",
   "source": [
    "Video N°217: Checking to see if our model is using mixed precision training layer by layer"
   ],
   "metadata": {
    "collapsed": false
   },
   "id": "9791d55202cf70b8"
  },
  {
   "cell_type": "markdown",
   "source": [
    "## Checking layer dtype policies (are we using mixed precision?)"
   ],
   "metadata": {
    "collapsed": false
   },
   "id": "7742ceb22d616f87"
  },
  {
   "cell_type": "code",
   "outputs": [
    {
     "name": "stdout",
     "output_type": "stream",
     "text": [
      "input_layer True float32 <Policy \"float32\">\n",
      "efficientnetv2-b0 False float32 <Policy \"mixed_float16\">\n",
      "global_average_pooling2d_1 True float32 <Policy \"mixed_float16\">\n",
      "dense_1 True float32 <Policy \"mixed_float16\">\n",
      "softmax_float32 True float32 <Policy \"float32\">\n"
     ]
    }
   ],
   "source": [
    "# Check the dtype_policy attributes of layers in our model\n",
    "for layer in model.layers:\n",
    "    print(layer.name, layer.trainable, layer.dtype, layer.dtype_policy)"
   ],
   "metadata": {
    "collapsed": false,
    "ExecuteTime": {
     "end_time": "2024-04-21T20:07:21.982305597Z",
     "start_time": "2024-04-21T20:07:21.926168562Z"
    }
   },
   "id": "15b382e1f70d0338",
   "execution_count": 26
  },
  {
   "cell_type": "markdown",
   "source": [
    "Going through the above we see:\n",
    "* `layer.name`: the human readable name of a particular layer\n",
    "* `layer.trainable`: is the layer trainable or not? (if `False`, the weights are frozen)\n",
    "* `layer.dtype`: the data type a layer stores its variables in\n",
    "* `layer.dtype_policy`: the data type policy a layer computes on its variables with"
   ],
   "metadata": {
    "collapsed": false
   },
   "id": "75cde2387dc17427"
  },
  {
   "cell_type": "code",
   "outputs": [
    {
     "name": "stdout",
     "output_type": "stream",
     "text": [
      "input_2 False float32 <Policy \"float32\">\n",
      "rescaling_2 False float32 <Policy \"mixed_float16\">\n",
      "normalization_1 False float32 <Policy \"mixed_float16\">\n",
      "stem_conv False float32 <Policy \"mixed_float16\">\n",
      "stem_bn False float32 <Policy \"mixed_float16\">\n",
      "stem_activation False float32 <Policy \"mixed_float16\">\n",
      "block1a_project_conv False float32 <Policy \"mixed_float16\">\n",
      "block1a_project_bn False float32 <Policy \"mixed_float16\">\n",
      "block1a_project_activation False float32 <Policy \"mixed_float16\">\n",
      "block2a_expand_conv False float32 <Policy \"mixed_float16\">\n",
      "block2a_expand_bn False float32 <Policy \"mixed_float16\">\n",
      "block2a_expand_activation False float32 <Policy \"mixed_float16\">\n",
      "block2a_project_conv False float32 <Policy \"mixed_float16\">\n",
      "block2a_project_bn False float32 <Policy \"mixed_float16\">\n",
      "block2b_expand_conv False float32 <Policy \"mixed_float16\">\n",
      "block2b_expand_bn False float32 <Policy \"mixed_float16\">\n",
      "block2b_expand_activation False float32 <Policy \"mixed_float16\">\n",
      "block2b_project_conv False float32 <Policy \"mixed_float16\">\n",
      "block2b_project_bn False float32 <Policy \"mixed_float16\">\n",
      "block2b_drop False float32 <Policy \"mixed_float16\">\n"
     ]
    }
   ],
   "source": [
    "# Check the dtype_policy attributes of layers in the base model\n",
    "for layer in model.layers[1].layers[:20]: # check the layers of the base model (layer at index 1 of `model`)\n",
    "  print(layer.name, layer.trainable, layer.dtype, layer.dtype_policy)"
   ],
   "metadata": {
    "collapsed": false,
    "ExecuteTime": {
     "end_time": "2024-04-21T20:08:36.715144784Z",
     "start_time": "2024-04-21T20:08:36.667418361Z"
    }
   },
   "id": "b974a8030cbe549c",
   "execution_count": 27
  },
  {
   "cell_type": "code",
   "outputs": [
    {
     "data": {
      "text/plain": "<Policy \"mixed_float16\">"
     },
     "execution_count": 28,
     "metadata": {},
     "output_type": "execute_result"
    }
   ],
   "source": [
    "mixed_precision.global_policy()"
   ],
   "metadata": {
    "collapsed": false,
    "ExecuteTime": {
     "end_time": "2024-04-21T20:08:55.464287419Z",
     "start_time": "2024-04-21T20:08:55.411844371Z"
    }
   },
   "id": "16246027822eff5d",
   "execution_count": 28
  },
  {
   "cell_type": "markdown",
   "source": [
    "Video N°218: Training and evaluating a feature extraction model (Food Vision Big)"
   ],
   "metadata": {
    "collapsed": false
   },
   "id": "390ce009ceb2019e"
  },
  {
   "cell_type": "markdown",
   "source": [
    "## Fit the feature extraction model\n",
    "\n",
    "If our goal is to fine-tune a pretrained model, the general order of doing things is:\n",
    "1. Build a feature extraction model (train a couple output layers with base layers frozen) \n",
    "2. Fine-tune some of the frozen layers"
   ],
   "metadata": {
    "collapsed": false
   },
   "id": "11727f1cbd3e99fa"
  },
  {
   "cell_type": "code",
   "outputs": [
    {
     "name": "stdout",
     "output_type": "stream",
     "text": [
      "Saving TensorBoard log files to: training_logs/efficientnetb0_101_classes_all_data_feature_extract/20240421-221055\n",
      "Epoch 1/3\n"
     ]
    },
    {
     "name": "stderr",
     "output_type": "stream",
     "text": [
      "2024-04-21 22:11:01.678750: I external/local_xla/xla/stream_executor/cuda/cuda_dnn.cc:454] Loaded cuDNN version 8907\n",
      "2024-04-21 22:11:03.408661: I external/local_xla/xla/service/service.cc:168] XLA service 0x7f4250002770 initialized for platform CUDA (this does not guarantee that XLA will be used). Devices:\n",
      "2024-04-21 22:11:03.408699: I external/local_xla/xla/service/service.cc:176]   StreamExecutor device (0): NVIDIA GeForce RTX 3050, Compute Capability 8.6\n",
      "2024-04-21 22:11:03.426633: I tensorflow/compiler/mlir/tensorflow/utils/dump_mlir_util.cc:269] disabling MLIR crash reproducer, set env var `MLIR_CRASH_REPRODUCER_DIRECTORY` to enable.\n",
      "WARNING: All log messages before absl::InitializeLog() is called are written to STDERR\n",
      "I0000 00:00:1713730263.521916    8444 device_compiler.h:186] Compiled cluster using XLA!  This line is logged at most once for the lifetime of the process.\n"
     ]
    },
    {
     "name": "stdout",
     "output_type": "stream",
     "text": [
      "2368/2368 [==============================] - ETA: 0s - loss: 1.7459 - accuracy: 0.5765"
     ]
    },
    {
     "name": "stderr",
     "output_type": "stream",
     "text": [
      "2024-04-21 22:12:40.938911: W tensorflow/core/kernels/data/cache_dataset_ops.cc:858] The calling iterator did not fully read the dataset being cached. In order to avoid unexpected truncation of the dataset, the partially cached contents of the dataset  will be discarded. This can happen if you have an input pipeline similar to `dataset.cache().take(k).repeat()`. You should use `dataset.take(k).cache().repeat()` instead.\n"
     ]
    },
    {
     "name": "stdout",
     "output_type": "stream",
     "text": [
      "2368/2368 [==============================] - 105s 41ms/step - loss: 1.7459 - accuracy: 0.5765 - val_loss: 1.1424 - val_accuracy: 0.6981\n",
      "Epoch 2/3\n",
      "2367/2368 [============================>.] - ETA: 0s - loss: 1.2105 - accuracy: 0.6870"
     ]
    },
    {
     "name": "stderr",
     "output_type": "stream",
     "text": [
      "2024-04-21 22:14:20.209709: W tensorflow/core/kernels/data/cache_dataset_ops.cc:858] The calling iterator did not fully read the dataset being cached. In order to avoid unexpected truncation of the dataset, the partially cached contents of the dataset  will be discarded. This can happen if you have an input pipeline similar to `dataset.cache().take(k).repeat()`. You should use `dataset.take(k).cache().repeat()` instead.\n"
     ]
    },
    {
     "name": "stdout",
     "output_type": "stream",
     "text": [
      "2368/2368 [==============================] - 99s 42ms/step - loss: 1.2105 - accuracy: 0.6870 - val_loss: 1.0334 - val_accuracy: 0.7206\n",
      "Epoch 3/3\n",
      "2368/2368 [==============================] - ETA: 0s - loss: 1.0636 - accuracy: 0.7222"
     ]
    },
    {
     "name": "stderr",
     "output_type": "stream",
     "text": [
      "2024-04-21 22:16:00.581526: W tensorflow/core/kernels/data/cache_dataset_ops.cc:858] The calling iterator did not fully read the dataset being cached. In order to avoid unexpected truncation of the dataset, the partially cached contents of the dataset  will be discarded. This can happen if you have an input pipeline similar to `dataset.cache().take(k).repeat()`. You should use `dataset.take(k).cache().repeat()` instead.\n"
     ]
    },
    {
     "name": "stdout",
     "output_type": "stream",
     "text": [
      "2368/2368 [==============================] - 100s 42ms/step - loss: 1.0636 - accuracy: 0.7222 - val_loss: 0.9895 - val_accuracy: 0.7360\n"
     ]
    }
   ],
   "source": [
    "# Fit the feature extraction model with callbacks\n",
    "history_101_food_classes_feature_extract = model.fit(train_data,\n",
    "                                                     epochs=3,\n",
    "                                                     steps_per_epoch=(len(train_data)),\n",
    "                                                     validation_data=test_data,\n",
    "                                                     validation_steps=int(0.15 * len(test_data)),\n",
    "                                                     callbacks=[create_tensorboard_callback(dir_name=\"training_logs\",\n",
    "                                                                                            experiment_name=\"efficientnetb0_101_classes_all_data_feature_extract\"),\n",
    "                                                                model_checkpoint])"
   ],
   "metadata": {
    "collapsed": false,
    "ExecuteTime": {
     "end_time": "2024-04-21T20:16:01.001557360Z",
     "start_time": "2024-04-21T20:10:55.616933275Z"
    }
   },
   "id": "2c566ece1f802cc7",
   "execution_count": 29
  },
  {
   "cell_type": "code",
   "outputs": [
    {
     "name": "stdout",
     "output_type": "stream",
     "text": [
      "790/790 [==============================] - 34s 43ms/step - loss: 0.9945 - accuracy: 0.7301\n"
     ]
    },
    {
     "data": {
      "text/plain": "[0.9945046305656433, 0.7300593852996826]"
     },
     "execution_count": 30,
     "metadata": {},
     "output_type": "execute_result"
    }
   ],
   "source": [
    "# Evaluate model on whole test dataset\n",
    "results_feature_extract_model = model.evaluate(test_data)\n",
    "results_feature_extract_model"
   ],
   "metadata": {
    "collapsed": false,
    "ExecuteTime": {
     "end_time": "2024-04-21T20:16:39.979612531Z",
     "start_time": "2024-04-21T20:16:06.052455953Z"
    }
   },
   "id": "a613a78c30b4fbbd",
   "execution_count": 30
  },
  {
   "cell_type": "markdown",
   "source": [
    "## Off to you... \n",
    "\n",
    "We've covered a lot of ground so far but since this is a milestone project, it's time for you to takeover.\n",
    "\n",
    "More specifically, you're challenge is to complete the TEMPLATE version of 07 to obtain a computer vision model (building off the one we've built in this notebook) to beat the DeepFood paper.\n",
    "\n",
    "In other words, you're going to create Food Vision Big!!!\n",
    "\n",
    "You can find the TEMPLATE notebook here: https://github.com/mrdbourke/tensorflow-deep-learning/blob/main/extras/TEMPLATE_07_food_vision_milestone_project_1.ipynb\n",
    "\n",
    "And if you get stuck, you can refer to the example version (non-template): https://github.com/mrdbourke/tensorflow-deep-learning/blob/main/07_food_vision_milestone_project_1.ipynb"
   ],
   "metadata": {
    "collapsed": false
   },
   "id": "cb0a9f2a927e58d1"
  },
  {
   "cell_type": "code",
   "outputs": [],
   "source": [],
   "metadata": {
    "collapsed": false
   },
   "id": "aa8519ae5215497a"
  }
 ],
 "metadata": {
  "kernelspec": {
   "display_name": "Python 3",
   "language": "python",
   "name": "python3"
  },
  "language_info": {
   "codemirror_mode": {
    "name": "ipython",
    "version": 2
   },
   "file_extension": ".py",
   "mimetype": "text/x-python",
   "name": "python",
   "nbconvert_exporter": "python",
   "pygments_lexer": "ipython2",
   "version": "2.7.6"
  }
 },
 "nbformat": 4,
 "nbformat_minor": 5
}
