{
  "nbformat": 4,
  "nbformat_minor": 0,
  "metadata": {
    "colab": {
      "provenance": []
    },
    "kernelspec": {
      "name": "python3",
      "display_name": "Python 3"
    },
    "language_info": {
      "name": "python"
    }
  },
  "cells": [
    {
      "cell_type": "markdown",
      "source": [
        "Notebook from Colab"
      ],
      "metadata": {
        "id": "NHAAGqzaspiv"
      }
    },
    {
      "cell_type": "code",
      "source": [
        "print(\"Hello wolrd!\")"
      ],
      "metadata": {
        "colab": {
          "base_uri": "https://localhost:8080/"
        },
        "id": "fU_qdKyZsuFL",
        "outputId": "9a64989b-04dc-4c00-edd1-66a4fea6c813"
      },
      "execution_count": 1,
      "outputs": [
        {
          "output_type": "stream",
          "name": "stdout",
          "text": [
            "Hello wolrd!\n"
          ]
        }
      ]
    },
    {
      "cell_type": "code",
      "source": [],
      "metadata": {
        "id": "YVDgFAtxswe9"
      },
      "execution_count": null,
      "outputs": []
    }
  ]
}