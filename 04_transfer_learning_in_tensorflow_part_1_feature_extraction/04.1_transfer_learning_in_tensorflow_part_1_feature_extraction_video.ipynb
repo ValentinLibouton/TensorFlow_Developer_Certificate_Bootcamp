{
 "cells": [
  {
   "cell_type": "markdown",
   "id": "204a066ad6528067",
   "metadata": {
    "collapsed": false
   },
   "source": [
    "# Transfer Learning with TensorFlow Part 1: Feature Extraction\n",
    "\n",
    "Transfer learning is leveraging a working model's existing architecture and learned patterns for our problem.\n",
    "\n",
    "There are two main benefits:\n",
    "1. Can leverage an existing neural network architecture proven to work on problems similar to our own.\n",
    "2. Can leverage a working neural network architecture which has already learned patterns on similar data to our own, then we can adapt those patterns to our own data."
   ]
  },
  {
   "cell_type": "markdown",
   "id": "50dc49d7d0cdbde4",
   "metadata": {
    "collapsed": false
   },
   "source": [
    "Video N°143: Downloading and preparing data for our first transfer learning model"
   ]
  },
  {
   "cell_type": "markdown",
   "id": "6dbd197029c01f7b",
   "metadata": {
    "collapsed": false
   },
   "source": [
    "## Download and becoming one with the data"
   ]
  },
  {
   "cell_type": "code",
   "execution_count": 1,
   "id": "a35a84ebcc5c47b5",
   "metadata": {
    "collapsed": false,
    "ExecuteTime": {
     "end_time": "2024-03-29T13:40:03.016993789Z",
     "start_time": "2024-03-29T13:40:02.972914866Z"
    }
   },
   "outputs": [],
   "source": [
    "from utils.data_acquisition.data_downloader import download_data"
   ]
  },
  {
   "cell_type": "code",
   "execution_count": 2,
   "id": "initial_id",
   "metadata": {
    "collapsed": true,
    "jupyter": {
     "outputs_hidden": true
    },
    "ExecuteTime": {
     "end_time": "2024-03-29T13:40:04.091344314Z",
     "start_time": "2024-03-29T13:40:02.995703639Z"
    }
   },
   "outputs": [
    {
     "name": "stdout",
     "output_type": "stream",
     "text": [
      "The file 10_food_classes_10_percent.zip already exists.\n",
      "Extracting 10_food_classes_10_percent.zip as ZIP...\n",
      "10_food_classes_10_percent.zip has been extracted to current directory.\n"
     ]
    }
   ],
   "source": [
    "# Get data (10% of 10 food classes from Food101) - https://www.kaggle.com/datasets/dansbecker/food-101\n",
    "url = \"https://storage.googleapis.com/ztm_tf_course/food_vision/10_food_classes_10_percent.zip\"\n",
    "file_path = \"10_food_classes_10_percent.zip\"\n",
    "download_data(url=url, file_path=file_path, extract=True)"
   ]
  },
  {
   "cell_type": "code",
   "execution_count": 3,
   "id": "dd970fd3149e6542",
   "metadata": {
    "collapsed": false,
    "ExecuteTime": {
     "end_time": "2024-03-29T13:40:04.107600671Z",
     "start_time": "2024-03-29T13:40:04.093049990Z"
    }
   },
   "outputs": [
    {
     "name": "stdout",
     "output_type": "stream",
     "text": [
      "There are 2 directories and 0 images in '10_food_classes_10_percent'.\n",
      "There are 10 directories and 0 images in '10_food_classes_10_percent/train'.\n",
      "There are 0 directories and 75 images in '10_food_classes_10_percent/train/steak'.\n",
      "There are 0 directories and 75 images in '10_food_classes_10_percent/train/sushi'.\n",
      "There are 0 directories and 75 images in '10_food_classes_10_percent/train/ramen'.\n",
      "There are 0 directories and 75 images in '10_food_classes_10_percent/train/grilled_salmon'.\n",
      "There are 0 directories and 75 images in '10_food_classes_10_percent/train/fried_rice'.\n",
      "There are 0 directories and 75 images in '10_food_classes_10_percent/train/chicken_wings'.\n",
      "There are 0 directories and 75 images in '10_food_classes_10_percent/train/hamburger'.\n",
      "There are 0 directories and 75 images in '10_food_classes_10_percent/train/ice_cream'.\n",
      "There are 0 directories and 75 images in '10_food_classes_10_percent/train/pizza'.\n",
      "There are 0 directories and 75 images in '10_food_classes_10_percent/train/chicken_curry'.\n",
      "There are 10 directories and 0 images in '10_food_classes_10_percent/test'.\n",
      "There are 0 directories and 250 images in '10_food_classes_10_percent/test/steak'.\n",
      "There are 0 directories and 250 images in '10_food_classes_10_percent/test/sushi'.\n",
      "There are 0 directories and 250 images in '10_food_classes_10_percent/test/ramen'.\n",
      "There are 0 directories and 250 images in '10_food_classes_10_percent/test/grilled_salmon'.\n",
      "There are 0 directories and 250 images in '10_food_classes_10_percent/test/fried_rice'.\n",
      "There are 0 directories and 250 images in '10_food_classes_10_percent/test/chicken_wings'.\n",
      "There are 0 directories and 250 images in '10_food_classes_10_percent/test/hamburger'.\n",
      "There are 0 directories and 250 images in '10_food_classes_10_percent/test/ice_cream'.\n",
      "There are 0 directories and 250 images in '10_food_classes_10_percent/test/pizza'.\n",
      "There are 0 directories and 250 images in '10_food_classes_10_percent/test/chicken_curry'.\n"
     ]
    }
   ],
   "source": [
    "# How many images in each folder?\n",
    "import os\n",
    "\n",
    "# Walk through 10 percent data directory and list number of files\n",
    "for dirpath, dirnames, filenames in os.walk(\"10_food_classes_10_percent\"):\n",
    "    print(f\"There are {len(dirnames)} directories and {len(filenames)} images in '{dirpath}'.\")"
   ]
  },
  {
   "cell_type": "markdown",
   "id": "6ee5eb277bfc8b9b",
   "metadata": {
    "collapsed": false
   },
   "source": [
    "## Creating data loaders (preparing the data)\n",
    "\n",
    "We'll use the `ImageDataGenerator` class to load in our images in batches. "
   ]
  },
  {
   "cell_type": "code",
   "execution_count": 4,
   "id": "ad22c217f630f1c9",
   "metadata": {
    "collapsed": false,
    "ExecuteTime": {
     "end_time": "2024-03-29T13:40:05.667481459Z",
     "start_time": "2024-03-29T13:40:04.105328874Z"
    }
   },
   "outputs": [
    {
     "name": "stderr",
     "output_type": "stream",
     "text": [
      "2024-03-29 14:40:04.143629: I tensorflow/core/platform/cpu_feature_guard.cc:193] This TensorFlow binary is optimized with oneAPI Deep Neural Network Library (oneDNN) to use the following CPU instructions in performance-critical operations:  SSE4.1 SSE4.2 AVX AVX2 FMA\n",
      "To enable them in other operations, rebuild TensorFlow with the appropriate compiler flags.\n"
     ]
    },
    {
     "name": "stdout",
     "output_type": "stream",
     "text": [
      "Training images:\n",
      "Found 750 images belonging to 10 classes.\n",
      "Testing images:\n",
      "Found 2500 images belonging to 10 classes.\n"
     ]
    }
   ],
   "source": [
    "# Setup data inputs\n",
    "from tensorflow.keras.preprocessing.image import ImageDataGenerator\n",
    "\n",
    "train_dir = \"10_food_classes_10_percent/train/\"\n",
    "test_dir = \"10_food_classes_10_percent/test/\"\n",
    "\n",
    "flow_from_dir_args = {\n",
    "    \"target_size\": (224, 224),\n",
    "    \"color_mode\": \"rgb\",\n",
    "    \"batch_size\": 32,\n",
    "    \"class_mode\": \"categorical\",\n",
    "    \"shuffle\": True\n",
    "}\n",
    "\n",
    "train_datagen = ImageDataGenerator(rescale=1/255.)\n",
    "test_datagen = ImageDataGenerator(rescale=1/255.)\n",
    "\n",
    "print(\"Training images:\")\n",
    "train_data_10_percent = train_datagen.flow_from_directory(directory=train_dir, **flow_from_dir_args)\n",
    "\n",
    "print(\"Testing images:\")\n",
    "test_data = test_datagen.flow_from_directory(directory=test_dir, **flow_from_dir_args)"
   ]
  },
  {
   "cell_type": "markdown",
   "id": "a73ba3dd202f9181",
   "metadata": {
    "collapsed": false
   },
   "source": [
    "Video N°144: Introducing Callbacks in TensorFlow and making a callback to track our models"
   ]
  },
  {
   "cell_type": "markdown",
   "id": "9265b8712bde45b4",
   "metadata": {
    "collapsed": false
   },
   "source": [
    "## Setting up callbacks (things to run whilst our model trains)\n",
    "\n",
    "Callbacks are extra functionality you can add to your models to be performed during or after training. Some of the modt popular callbacks:\n",
    "* Tracking experiments with the TensorBoard callback\n",
    "* Model checkpoint with the ModelCheckpoint callback\n",
    "* Stopping a model from training (before it trains too long and overfits) with the EarlyStopping callback"
   ]
  },
  {
   "cell_type": "code",
   "execution_count": 5,
   "id": "e9affd911c48fa28",
   "metadata": {
    "collapsed": false,
    "ExecuteTime": {
     "end_time": "2024-03-29T13:40:05.669539309Z",
     "start_time": "2024-03-29T13:40:05.659935512Z"
    }
   },
   "outputs": [],
   "source": [
    "# Create TensorBoard callback (functionized because we need to create a new one for each model)\n",
    "from utils.training_utilities.model_callbacks import create_tensorboard_callback"
   ]
  },
  {
   "cell_type": "markdown",
   "id": "75ef7b82d12ddac7",
   "metadata": {
    "collapsed": false
   },
   "source": [
    "🔑 **Note:** You can customize the directory where your TensorBoard logs (model training metrics) get saved to whatever you like. The `log_dir` parameter we've created above is only one option"
   ]
  },
  {
   "cell_type": "markdown",
   "id": "51123f88445d54a8",
   "metadata": {
    "collapsed": false
   },
   "source": [
    "Video N°145: Exploring the TensorFlow Hub website for pretrained models"
   ]
  },
  {
   "cell_type": "markdown",
   "id": "2f703525c5899262",
   "metadata": {
    "collapsed": false
   },
   "source": [
    "## Creating models using TensorFlow Hub\n",
    "\n",
    "In the past we've used TensorFlow to create our own models layer by layer from scratch.\n",
    "Now we're going to do a similar process, except the majority of our model's layers are going to come frome TensorFlow Hub.\n",
    "We can access pretrained models on: https://tfhub.dev/\n",
    "Browsing the TensorFlow Hub page and sorting for image classification, we found the following feature vector model link:\n",
    "https://tfhub.dev/tensorflow/efficientnet/b0/feature-vector/1"
   ]
  },
  {
   "cell_type": "markdown",
   "id": "6e51d3e6f0203266",
   "metadata": {
    "collapsed": false
   },
   "source": [
    "Video N°146: Building and compiling a TensorFlow feature extraction model"
   ]
  },
  {
   "cell_type": "code",
   "execution_count": 6,
   "id": "388554b8fb8daccc",
   "metadata": {
    "collapsed": false,
    "ExecuteTime": {
     "end_time": "2024-03-29T13:40:05.696949711Z",
     "start_time": "2024-03-29T13:40:05.668672289Z"
    }
   },
   "outputs": [],
   "source": [
    "# Let's compare the following two models\n",
    "resnet_ulr = \"https://tfhub.dev/google/imagenet/resnet_v2_50/feature_vector/4\"\n",
    "\n",
    "efficientnet_url = \"https://tfhub.dev/tensorflow/efficientnet/b0/feature-vector/1\"\n",
    "\n",
    "# New: EfficientNetB0 feature vector (version 2)\n",
    "# efficientnet_url = \"https://tfhub.dev/google/imagenet/efficientnet_v2_imagenet1k_b0/feature_vector/2\""
   ]
  },
  {
   "cell_type": "code",
   "execution_count": 7,
   "id": "ef36fee8d894c027",
   "metadata": {
    "collapsed": false,
    "ExecuteTime": {
     "end_time": "2024-03-29T13:40:05.764823053Z",
     "start_time": "2024-03-29T13:40:05.675394839Z"
    }
   },
   "outputs": [],
   "source": [
    "# Import dependencies\n",
    "import tensorflow as tf\n",
    "import tensorflow_hub as hub\n",
    "from tensorflow.keras import layers"
   ]
  },
  {
   "cell_type": "code",
   "execution_count": 8,
   "id": "966e3123cc157a39",
   "metadata": {
    "collapsed": false,
    "ExecuteTime": {
     "end_time": "2024-03-29T13:40:05.821357296Z",
     "start_time": "2024-03-29T13:40:05.766318058Z"
    }
   },
   "outputs": [],
   "source": [
    "# Let's make a create_model() function to create a model from a URL\n",
    "from utils.training_utilities.transfer_learning import build_complete_model_from_url"
   ]
  },
  {
   "cell_type": "markdown",
   "id": "298b6d4d3c35bce6",
   "metadata": {
    "collapsed": false
   },
   "source": [
    "### Creating and testing ResNet TensorFlow Hub Feature Extraction model"
   ]
  },
  {
   "cell_type": "code",
   "execution_count": 9,
   "id": "62c4cfa1ab51161",
   "metadata": {
    "collapsed": false,
    "ExecuteTime": {
     "end_time": "2024-03-29T13:40:07.232952938Z",
     "start_time": "2024-03-29T13:40:05.813057409Z"
    }
   },
   "outputs": [
    {
     "name": "stderr",
     "output_type": "stream",
     "text": [
      "2024-03-29 14:40:05.920761: E tensorflow/compiler/xla/stream_executor/cuda/cuda_driver.cc:267] failed call to cuInit: CUDA_ERROR_UNKNOWN: unknown error\n",
      "2024-03-29 14:40:05.920782: I tensorflow/compiler/xla/stream_executor/cuda/cuda_diagnostics.cc:169] retrieving CUDA diagnostic information for host: wm18vw2023\n",
      "2024-03-29 14:40:05.920787: I tensorflow/compiler/xla/stream_executor/cuda/cuda_diagnostics.cc:176] hostname: wm18vw2023\n",
      "2024-03-29 14:40:05.920867: I tensorflow/compiler/xla/stream_executor/cuda/cuda_diagnostics.cc:200] libcuda reported version is: 545.23.8\n",
      "2024-03-29 14:40:05.920881: I tensorflow/compiler/xla/stream_executor/cuda/cuda_diagnostics.cc:204] kernel reported version is: 545.23.8\n",
      "2024-03-29 14:40:05.920886: I tensorflow/compiler/xla/stream_executor/cuda/cuda_diagnostics.cc:310] kernel version seems to match DSO: 545.23.8\n",
      "2024-03-29 14:40:05.921039: I tensorflow/core/platform/cpu_feature_guard.cc:193] This TensorFlow binary is optimized with oneAPI Deep Neural Network Library (oneDNN) to use the following CPU instructions in performance-critical operations:  SSE4.1 SSE4.2 AVX AVX2 FMA\n",
      "To enable them in other operations, rebuild TensorFlow with the appropriate compiler flags.\n"
     ]
    },
    {
     "name": "stdout",
     "output_type": "stream",
     "text": [
      "WARNING:tensorflow:From /home/wm18vw/Documents/EnvironnementsDevPython/miniconda3/envs/ML-env/lib/python3.9/site-packages/tensorflow/python/autograph/pyct/static_analysis/liveness.py:83: Analyzer.lamba_check (from tensorflow.python.autograph.pyct.static_analysis.liveness) is deprecated and will be removed after 2023-09-23.\n",
      "Instructions for updating:\n",
      "Lambda fuctions will be no more assumed to be used in the statement where they are used, or at least in the same block. https://github.com/tensorflow/tensorflow/issues/56089\n"
     ]
    },
    {
     "name": "stderr",
     "output_type": "stream",
     "text": [
      "WARNING:tensorflow:From /home/wm18vw/Documents/EnvironnementsDevPython/miniconda3/envs/ML-env/lib/python3.9/site-packages/tensorflow/python/autograph/pyct/static_analysis/liveness.py:83: Analyzer.lamba_check (from tensorflow.python.autograph.pyct.static_analysis.liveness) is deprecated and will be removed after 2023-09-23.\n",
      "Instructions for updating:\n",
      "Lambda fuctions will be no more assumed to be used in the statement where they are used, or at least in the same block. https://github.com/tensorflow/tensorflow/issues/56089\n"
     ]
    }
   ],
   "source": [
    "# Create Resnet model\n",
    "resnet_model = build_complete_model_from_url(model_url=resnet_ulr,\n",
    "                                             num_classes=train_data_10_percent.num_classes,\n",
    "                                             input_shape=(224, 224, 3))"
   ]
  },
  {
   "cell_type": "code",
   "execution_count": 10,
   "id": "269142f0ab8c81f1",
   "metadata": {
    "collapsed": false,
    "ExecuteTime": {
     "end_time": "2024-03-29T13:40:07.252518427Z",
     "start_time": "2024-03-29T13:40:07.236153049Z"
    }
   },
   "outputs": [
    {
     "name": "stdout",
     "output_type": "stream",
     "text": [
      "Model: \"sequential\"\n",
      "_________________________________________________________________\n",
      " Layer (type)                Output Shape              Param #   \n",
      "=================================================================\n",
      " feature_extraction_layer (K  (None, 2048)             23564800  \n",
      " erasLayer)                                                      \n",
      "                                                                 \n",
      " output_layer (Dense)        (None, 10)                20490     \n",
      "                                                                 \n",
      "=================================================================\n",
      "Total params: 23,585,290\n",
      "Trainable params: 20,490\n",
      "Non-trainable params: 23,564,800\n",
      "_________________________________________________________________\n"
     ]
    }
   ],
   "source": [
    "resnet_model.summary()"
   ]
  },
  {
   "cell_type": "code",
   "execution_count": 11,
   "id": "550637bbc0435bea",
   "metadata": {
    "collapsed": false,
    "ExecuteTime": {
     "end_time": "2024-03-29T13:40:07.303276368Z",
     "start_time": "2024-03-29T13:40:07.255758732Z"
    }
   },
   "outputs": [
    {
     "data": {
      "text/plain": "10"
     },
     "execution_count": 11,
     "metadata": {},
     "output_type": "execute_result"
    }
   ],
   "source": [
    "train_data_10_percent.num_classes"
   ]
  },
  {
   "cell_type": "code",
   "execution_count": 12,
   "id": "9d5ea39a171bf7b6",
   "metadata": {
    "collapsed": false,
    "ExecuteTime": {
     "end_time": "2024-03-29T13:40:07.304600096Z",
     "start_time": "2024-03-29T13:40:07.296999837Z"
    }
   },
   "outputs": [],
   "source": [
    "# Compile our resnet model\n",
    "resnet_model.compile(loss=\"categorical_crossentropy\",\n",
    "                     optimizer=tf.keras.optimizers.Adam(),\n",
    "                     metrics=[\"accuracy\"])"
   ]
  },
  {
   "cell_type": "markdown",
   "id": "ffc20664617d6fa0",
   "metadata": {
    "collapsed": false
   },
   "source": [
    "Video N°147: Blowing our previous models out of the water with transfer learning"
   ]
  },
  {
   "cell_type": "code",
   "execution_count": 13,
   "id": "e3f476abccb25045",
   "metadata": {
    "collapsed": false,
    "ExecuteTime": {
     "end_time": "2024-03-29T13:49:21.473032057Z",
     "start_time": "2024-03-29T13:40:07.297173169Z"
    }
   },
   "outputs": [
    {
     "name": "stdout",
     "output_type": "stream",
     "text": [
      "Saving TensorBoard log files to: tensorboard_hub/resnet50V2/20240329-144007\n",
      "Epoch 1/5\n",
      "24/24 [==============================] - 116s 5s/step - loss: 1.8402 - accuracy: 0.3747 - val_loss: 1.1490 - val_accuracy: 0.6264\n",
      "Epoch 2/5\n",
      "24/24 [==============================] - 110s 5s/step - loss: 0.8458 - accuracy: 0.7507 - val_loss: 0.8354 - val_accuracy: 0.7304\n",
      "Epoch 3/5\n",
      "24/24 [==============================] - 110s 5s/step - loss: 0.5893 - accuracy: 0.8320 - val_loss: 0.7404 - val_accuracy: 0.7608\n",
      "Epoch 4/5\n",
      "24/24 [==============================] - 110s 5s/step - loss: 0.4677 - accuracy: 0.8640 - val_loss: 0.7265 - val_accuracy: 0.7616\n",
      "Epoch 5/5\n",
      "24/24 [==============================] - 109s 5s/step - loss: 0.3686 - accuracy: 0.9187 - val_loss: 0.6707 - val_accuracy: 0.7808\n"
     ]
    }
   ],
   "source": [
    "# Let's fit our ResNet model to the data (10 percent of 10 classes)\n",
    "resnet_history = resnet_model.fit(train_data_10_percent,\n",
    "                                  epochs=5,\n",
    "                                  steps_per_epoch=len(train_data_10_percent),\n",
    "                                  validation_data=test_data,\n",
    "                                  validation_steps=len(test_data),\n",
    "                                  callbacks=[create_tensorboard_callback(dir_name=\"tensorboard_hub\",\n",
    "                                                                         experiment_name=\"resnet50V2\"\n",
    "                                                                         )])"
   ]
  },
  {
   "cell_type": "markdown",
   "id": "ac41678831ee25e5",
   "metadata": {
    "collapsed": false
   },
   "source": [
    "Wow!\n",
    "\n",
    "That. Is. Incredible. Our transfer learning feature extractor model out performed ALL of the previous models we built by hand... (substantially) and in a quicker training time AND with only 10% of the training examples."
   ]
  },
  {
   "cell_type": "markdown",
   "id": "5a784dd4ff996ed9",
   "metadata": {
    "collapsed": false
   },
   "source": [
    "Video N°148: Plotting the loss curves of our ResNet feature extraction model"
   ]
  },
  {
   "cell_type": "code",
   "execution_count": 14,
   "id": "3eb661f6c0cdebbc",
   "metadata": {
    "collapsed": false,
    "ExecuteTime": {
     "end_time": "2024-03-29T13:49:22.136798035Z",
     "start_time": "2024-03-29T13:49:21.472927874Z"
    }
   },
   "outputs": [
    {
     "data": {
      "text/plain": "<Figure size 640x480 with 1 Axes>",
      "image/png": "[encoded data removed]"
     },
     "metadata": {},
     "output_type": "display_data"
    },
    {
     "data": {
      "text/plain": "<Figure size 640x480 with 1 Axes>",
      "image/png": "[encoded data removed]"
     },
     "metadata": {},
     "output_type": "display_data"
    }
   ],
   "source": [
    "# Let's create a function to plot our loss curves...\n",
    "from utils.data_visualization.model_learning_curves import plot_loss_curves\n",
    "plot_loss_curves(history=resnet_history)"
   ]
  },
  {
   "cell_type": "markdown",
   "id": "c6040f74252b1ac1",
   "metadata": {
    "collapsed": false
   },
   "source": [
    "Video N°149: Building and training a pre-trained EfficientNet model on our data"
   ]
  },
  {
   "cell_type": "markdown",
   "id": "1b8e792bc770bbc7",
   "metadata": {
    "collapsed": false
   },
   "source": [
    "### Creating and testing EfficientNetB0 TensorFlow Hub Feature Extraction model\n",
    "About EfficientNet [https://blog.research.google/2019/05/efficientnet-improving-accuracy-and.html](https://blog.research.google/2019/05/efficientnet-improving-accuracy-and.html)"
   ]
  },
  {
   "cell_type": "code",
   "execution_count": 15,
   "id": "4bebe7502c88b644",
   "metadata": {
    "collapsed": false,
    "ExecuteTime": {
     "end_time": "2024-03-29T13:54:01.669007168Z",
     "start_time": "2024-03-29T13:49:22.145028947Z"
    }
   },
   "outputs": [
    {
     "name": "stdout",
     "output_type": "stream",
     "text": [
      "Saving TensorBoard log files to: tensorflow_hub/efficientnetb0/20240329-144928\n",
      "Epoch 1/5\n",
      "24/24 [==============================] - 59s 2s/step - loss: 1.8322 - accuracy: 0.4360 - val_loss: 1.3023 - val_accuracy: 0.7212\n",
      "Epoch 2/5\n",
      "24/24 [==============================] - 53s 2s/step - loss: 1.0526 - accuracy: 0.7653 - val_loss: 0.8738 - val_accuracy: 0.8132\n",
      "Epoch 3/5\n",
      "24/24 [==============================] - 54s 2s/step - loss: 0.7517 - accuracy: 0.8387 - val_loss: 0.6971 - val_accuracy: 0.8456\n",
      "Epoch 4/5\n",
      "24/24 [==============================] - 53s 2s/step - loss: 0.6037 - accuracy: 0.8693 - val_loss: 0.6088 - val_accuracy: 0.8608\n",
      "Epoch 5/5\n",
      "24/24 [==============================] - 53s 2s/step - loss: 0.5108 - accuracy: 0.8840 - val_loss: 0.5580 - val_accuracy: 0.8668\n"
     ]
    }
   ],
   "source": [
    "# Create EfficientNetB0 feature extractor model\n",
    "efficientnet_model = build_complete_model_from_url(model_url=efficientnet_url,\n",
    "                                                   num_classes=train_data_10_percent.num_classes,\n",
    "                                                   input_shape=(224, 224, 3))\n",
    "\n",
    "# Compile EfficientNet model\n",
    "efficientnet_model.compile(loss=\"categorical_crossentropy\",\n",
    "                           optimizer=tf.keras.optimizers.Adam(),\n",
    "                           metrics=['accuracy'])\n",
    "\n",
    "# Fit EfficientNet model to 10% of training data\n",
    "efficientnet_history = efficientnet_model.fit(train_data_10_percent,\n",
    "                                              epochs=5,\n",
    "                                              steps_per_epoch=len(train_data_10_percent),\n",
    "                                              validation_data=test_data,\n",
    "                                              validation_steps=len(test_data),\n",
    "                                              callbacks=[create_tensorboard_callback(dir_name=\"tensorflow_hub\",\n",
    "                                                                                     experiment_name=\"efficientnetb0\")])\n"
   ]
  },
  {
   "cell_type": "code",
   "execution_count": 16,
   "id": "d333db70981fa829",
   "metadata": {
    "collapsed": false,
    "ExecuteTime": {
     "end_time": "2024-03-29T13:54:01.951918646Z",
     "start_time": "2024-03-29T13:54:01.668908335Z"
    }
   },
   "outputs": [
    {
     "data": {
      "text/plain": "<Figure size 640x480 with 1 Axes>",
      "image/png": "[encoded data removed]"
     },
     "metadata": {},
     "output_type": "display_data"
    },
    {
     "data": {
      "text/plain": "<Figure size 640x480 with 1 Axes>",
      "image/png": "[encoded data removed]"
     },
     "metadata": {},
     "output_type": "display_data"
    }
   ],
   "source": [
    "plot_loss_curves(history=efficientnet_history)"
   ]
  },
  {
   "cell_type": "markdown",
   "id": "f4dfdbcee3b20a7b",
   "metadata": {
    "collapsed": false
   },
   "source": [
    "Video N° 150: Different Types of Transfer Learning"
   ]
  },
  {
   "cell_type": "code",
   "execution_count": 17,
   "id": "e4e51084b6dc9d2f",
   "metadata": {
    "collapsed": false,
    "ExecuteTime": {
     "end_time": "2024-03-29T13:54:01.967884020Z",
     "start_time": "2024-03-29T13:54:01.949484386Z"
    }
   },
   "outputs": [
    {
     "name": "stdout",
     "output_type": "stream",
     "text": [
      "Model: \"sequential_1\"\n",
      "_________________________________________________________________\n",
      " Layer (type)                Output Shape              Param #   \n",
      "=================================================================\n",
      " feature_extraction_layer (K  (None, 1280)             4049564   \n",
      " erasLayer)                                                      \n",
      "                                                                 \n",
      " output_layer (Dense)        (None, 10)                12810     \n",
      "                                                                 \n",
      "=================================================================\n",
      "Total params: 4,062,374\n",
      "Trainable params: 12,810\n",
      "Non-trainable params: 4,049,564\n",
      "_________________________________________________________________\n"
     ]
    }
   ],
   "source": [
    "efficientnet_model.summary()"
   ]
  },
  {
   "cell_type": "code",
   "execution_count": 18,
   "id": "f4861ddcf6ec042a",
   "metadata": {
    "collapsed": false,
    "ExecuteTime": {
     "end_time": "2024-03-29T13:54:02.045413503Z",
     "start_time": "2024-03-29T13:54:01.966443836Z"
    }
   },
   "outputs": [
    {
     "name": "stdout",
     "output_type": "stream",
     "text": [
      "Model: \"sequential\"\n",
      "_________________________________________________________________\n",
      " Layer (type)                Output Shape              Param #   \n",
      "=================================================================\n",
      " feature_extraction_layer (K  (None, 2048)             23564800  \n",
      " erasLayer)                                                      \n",
      "                                                                 \n",
      " output_layer (Dense)        (None, 10)                20490     \n",
      "                                                                 \n",
      "=================================================================\n",
      "Total params: 23,585,290\n",
      "Trainable params: 20,490\n",
      "Non-trainable params: 23,564,800\n",
      "_________________________________________________________________\n"
     ]
    }
   ],
   "source": [
    "resnet_model.summary()"
   ]
  },
  {
   "cell_type": "code",
   "execution_count": 19,
   "id": "c7acc7f2e031d3a1",
   "metadata": {
    "collapsed": false,
    "ExecuteTime": {
     "end_time": "2024-03-29T13:54:02.046298436Z",
     "start_time": "2024-03-29T13:54:02.013064389Z"
    }
   },
   "outputs": [
    {
     "data": {
      "text/plain": "309"
     },
     "execution_count": 19,
     "metadata": {},
     "output_type": "execute_result"
    }
   ],
   "source": [
    "# How many layers does our efficientnetb0 feature extractor have?\n",
    "len(efficientnet_model.layers[0].weights)"
   ]
  },
  {
   "cell_type": "markdown",
   "id": "162b7aea450f388a",
   "metadata": {
    "collapsed": false
   },
   "source": [
    "## Different types of transfer learning\n",
    "\n",
    "* **\"As is\" transfer learning** - using an existing model with no changes what so ever (e.g. using ImageNet model on 1000 ImageNet classes, none of your own)\n",
    "* **\"Feature extraction\" transfer learning** - use the prelearned patterns of an existing model (e.g. EfficientNetB0 trained on ImageNet) and adjust the output layer for your own problem (e.g. 1000classes &rarr; 10 classes of food)\n",
    "* **\"Fine-tuning\" transfer learning** - use the prelearned patterns of an existing model and \"fine-tune\" many or all of the underlying layers (including new output layers)"
   ]
  },
  {
   "cell_type": "markdown",
   "id": "120ba2028201952f",
   "metadata": {
    "collapsed": false
   },
   "source": [
    "Video N° 151: Comparing Our Model's Results"
   ]
  },
  {
   "cell_type": "markdown",
   "id": "4564f23a3af0c09f",
   "metadata": {
    "collapsed": false
   },
   "source": [
    "## Comparing our models results using TensorBoard\n",
    "\n",
    "> 🔑 **Note:** When you upload things to TensorBoard.dev, you experiments are public. So if you're running private experiments (things you don't want others to see) do not upload them to TensorBoard.dev.\n",
    "\n",
    "> **Update!!!:** TensorBoard.dev has been shut down as of January 1, 2024!"
   ]
  },
  {
   "cell_type": "markdown",
   "source": [
    "```python\n",
    "# Upload TensorBoard dev records\n",
    "!tensorboard dev upload --logdir \"./tensorflow_hub/\" --name \"EfficientNetB0 vs. ResNet50V2\" --description \"Comparing two different TF Hub feature extraction model architectures using 10% of the training data\" --one_shot\n",
    "```"
   ],
   "metadata": {
    "collapsed": false
   },
   "id": "4fdfacc2025254ff"
  },
  {
   "cell_type": "markdown",
   "source": [
    "Our TensorBoard experiments are uploaded publically: https://tensorboard.dev/experiment/dQBrpdwlRgS2ql0Andv8Yg/"
   ],
   "metadata": {
    "collapsed": false
   },
   "id": "1c0ec364c077fbeb"
  },
  {
   "cell_type": "code",
   "outputs": [],
   "source": [
    "# Check out what TensorBoard experiments you have\n",
    "# !tensorboard dev list"
   ],
   "metadata": {
    "collapsed": false,
    "ExecuteTime": {
     "end_time": "2024-03-29T13:54:53.044238959Z",
     "start_time": "2024-03-29T13:54:53.037623505Z"
    }
   },
   "id": "26a51825223d1932",
   "execution_count": 21
  },
  {
   "cell_type": "code",
   "outputs": [],
   "source": [
    "# Delete an experiment\n",
    "# !tensorboard dev delete --experiment_id dQBrpdwlRgS2ql0Andv8Yg"
   ],
   "metadata": {
    "collapsed": false,
    "ExecuteTime": {
     "end_time": "2024-03-29T13:54:53.047390761Z",
     "start_time": "2024-03-29T13:54:53.042633959Z"
    }
   },
   "id": "8b1a5195e92f3f66",
   "execution_count": 22
  },
  {
   "cell_type": "code",
   "outputs": [],
   "source": [],
   "metadata": {
    "collapsed": false
   },
   "id": "fe5c2cb993eb8640"
  }
 ],
 "metadata": {
  "kernelspec": {
   "display_name": "Python 3 (ipykernel)",
   "language": "python",
   "name": "python3"
  },
  "language_info": {
   "codemirror_mode": {
    "name": "ipython",
    "version": 3
   },
   "file_extension": ".py",
   "mimetype": "text/x-python",
   "name": "python",
   "nbconvert_exporter": "python",
   "pygments_lexer": "ipython3",
   "version": "3.9.18"
  }
 },
 "nbformat": 4,
 "nbformat_minor": 5
}
