{
 "cells": [
  {
   "cell_type": "markdown",
   "source": [
    "# Transfer Learning with TensorFlow Part 1: Feature Extraction\n",
    "\n",
    "Transfer learning is leveraging a working model's existing architecture and learned patterns for our problem.\n",
    "\n",
    "There are two main benefits:\n",
    "1. Can leverage an existing neural network architecture proven to work on problems similar to our own.\n",
    "2. Can leverage a working neural network architecture which has already learned patterns on similar data to our own, then we can adapt those patterns to our own data."
   ],
   "metadata": {
    "collapsed": false
   },
   "id": "204a066ad6528067"
  },
  {
   "cell_type": "markdown",
   "source": [
    "Video N°143: Downloading and preparing data for our first transfer learning model"
   ],
   "metadata": {
    "collapsed": false
   },
   "id": "50dc49d7d0cdbde4"
  },
  {
   "cell_type": "markdown",
   "source": [
    "## Download and becoming one with the data"
   ],
   "metadata": {
    "collapsed": false
   },
   "id": "6dbd197029c01f7b"
  },
  {
   "cell_type": "code",
   "outputs": [],
   "source": [
    "from utils.data_acquisition.data_downloader import download_data"
   ],
   "metadata": {
    "collapsed": false,
    "ExecuteTime": {
     "end_time": "2024-03-23T20:05:23.802370049Z",
     "start_time": "2024-03-23T20:05:23.786388077Z"
    }
   },
   "id": "a35a84ebcc5c47b5",
   "execution_count": 1
  },
  {
   "cell_type": "code",
   "execution_count": 2,
   "id": "initial_id",
   "metadata": {
    "collapsed": true,
    "ExecuteTime": {
     "end_time": "2024-03-23T20:05:24.841964919Z",
     "start_time": "2024-03-23T20:05:23.805203267Z"
    }
   },
   "outputs": [
    {
     "name": "stdout",
     "output_type": "stream",
     "text": [
      "The file 10_food_classes_10_percent.zip already exists.\n",
      "Extracting 10_food_classes_10_percent.zip as ZIP...\n",
      "10_food_classes_10_percent.zip has been extracted to current directory.\n"
     ]
    }
   ],
   "source": [
    "# Get data (10% of 10 food classes from Food101) - https://www.kaggle.com/datasets/dansbecker/food-101\n",
    "url = \"https://storage.googleapis.com/ztm_tf_course/food_vision/10_food_classes_10_percent.zip\"\n",
    "file_path = \"10_food_classes_10_percent.zip\"\n",
    "download_data(url=url, file_path=file_path, extract=True)"
   ]
  },
  {
   "cell_type": "code",
   "outputs": [
    {
     "name": "stdout",
     "output_type": "stream",
     "text": [
      "There are 2 directories and 0 images in '10_food_classes_10_percent'.\n",
      "There are 10 directories and 0 images in '10_food_classes_10_percent/train'.\n",
      "There are 0 directories and 75 images in '10_food_classes_10_percent/train/steak'.\n",
      "There are 0 directories and 75 images in '10_food_classes_10_percent/train/sushi'.\n",
      "There are 0 directories and 75 images in '10_food_classes_10_percent/train/ramen'.\n",
      "There are 0 directories and 75 images in '10_food_classes_10_percent/train/grilled_salmon'.\n",
      "There are 0 directories and 75 images in '10_food_classes_10_percent/train/fried_rice'.\n",
      "There are 0 directories and 75 images in '10_food_classes_10_percent/train/chicken_wings'.\n",
      "There are 0 directories and 75 images in '10_food_classes_10_percent/train/hamburger'.\n",
      "There are 0 directories and 75 images in '10_food_classes_10_percent/train/ice_cream'.\n",
      "There are 0 directories and 75 images in '10_food_classes_10_percent/train/pizza'.\n",
      "There are 0 directories and 75 images in '10_food_classes_10_percent/train/chicken_curry'.\n",
      "There are 10 directories and 0 images in '10_food_classes_10_percent/test'.\n",
      "There are 0 directories and 250 images in '10_food_classes_10_percent/test/steak'.\n",
      "There are 0 directories and 250 images in '10_food_classes_10_percent/test/sushi'.\n",
      "There are 0 directories and 250 images in '10_food_classes_10_percent/test/ramen'.\n",
      "There are 0 directories and 250 images in '10_food_classes_10_percent/test/grilled_salmon'.\n",
      "There are 0 directories and 250 images in '10_food_classes_10_percent/test/fried_rice'.\n",
      "There are 0 directories and 250 images in '10_food_classes_10_percent/test/chicken_wings'.\n",
      "There are 0 directories and 250 images in '10_food_classes_10_percent/test/hamburger'.\n",
      "There are 0 directories and 250 images in '10_food_classes_10_percent/test/ice_cream'.\n",
      "There are 0 directories and 250 images in '10_food_classes_10_percent/test/pizza'.\n",
      "There are 0 directories and 250 images in '10_food_classes_10_percent/test/chicken_curry'.\n"
     ]
    }
   ],
   "source": [
    "# How many images in each folder?\n",
    "import os\n",
    "\n",
    "# Walk through 10 percent data directory and list number of files\n",
    "for dirpath, dirnames, filenames in os.walk(\"10_food_classes_10_percent\"):\n",
    "    print(f\"There are {len(dirnames)} directories and {len(filenames)} images in '{dirpath}'.\")"
   ],
   "metadata": {
    "collapsed": false,
    "ExecuteTime": {
     "end_time": "2024-03-23T20:05:24.853430568Z",
     "start_time": "2024-03-23T20:05:24.843187859Z"
    }
   },
   "id": "dd970fd3149e6542",
   "execution_count": 3
  },
  {
   "cell_type": "markdown",
   "source": [
    "## Creating data loaders (preparing the data)\n",
    "\n",
    "We'll use the `ImageDataGenerator` class to load in our images in batches. "
   ],
   "metadata": {
    "collapsed": false
   },
   "id": "6ee5eb277bfc8b9b"
  },
  {
   "cell_type": "code",
   "outputs": [
    {
     "name": "stderr",
     "output_type": "stream",
     "text": [
      "2024-03-23 21:05:24.907737: I tensorflow/core/platform/cpu_feature_guard.cc:193] This TensorFlow binary is optimized with oneAPI Deep Neural Network Library (oneDNN) to use the following CPU instructions in performance-critical operations:  SSE4.1 SSE4.2 AVX AVX2 FMA\n",
      "To enable them in other operations, rebuild TensorFlow with the appropriate compiler flags.\n"
     ]
    },
    {
     "name": "stdout",
     "output_type": "stream",
     "text": [
      "Training images:\n",
      "Found 750 images belonging to 10 classes.\n",
      "Testing images:\n",
      "Found 2500 images belonging to 10 classes.\n"
     ]
    }
   ],
   "source": [
    "# Setup data inputs\n",
    "from tensorflow.keras.preprocessing.image import ImageDataGenerator\n",
    "\n",
    "train_dir = \"10_food_classes_10_percent/train/\"\n",
    "test_dir = \"10_food_classes_10_percent/test/\"\n",
    "\n",
    "flow_from_dir_args = {\n",
    "    \"target_size\": (224, 224),\n",
    "    \"color_mode\": \"rgb\",\n",
    "    \"batch_size\": 32,\n",
    "    \"class_mode\": \"categorical\",\n",
    "    \"shuffle\": True\n",
    "}\n",
    "\n",
    "train_datagen = ImageDataGenerator(rescale=1/255.)\n",
    "test_datagen = ImageDataGenerator(rescale=1/255.)\n",
    "\n",
    "print(\"Training images:\")\n",
    "train_data_10_percent = train_datagen.flow_from_directory(directory=train_dir, **flow_from_dir_args)\n",
    "\n",
    "print(\"Testing images:\")\n",
    "test_data = test_datagen.flow_from_directory(directory=test_dir, **flow_from_dir_args)"
   ],
   "metadata": {
    "collapsed": false,
    "ExecuteTime": {
     "end_time": "2024-03-23T20:05:27.039801113Z",
     "start_time": "2024-03-23T20:05:24.853832093Z"
    }
   },
   "id": "ad22c217f630f1c9",
   "execution_count": 4
  },
  {
   "cell_type": "markdown",
   "source": [
    "Video N°144: Introducing Callbacks in TensorFlow and making a callback to track our models"
   ],
   "metadata": {
    "collapsed": false
   },
   "id": "a73ba3dd202f9181"
  },
  {
   "cell_type": "markdown",
   "source": [
    "## Setting up callbacks (things to run whilst our model trains)\n",
    "\n",
    "Callbacks are extra functionality you can add to your models to be performed during or after training. Some of the modt popular callbacks:\n",
    "* Tracking experiments with the TensorBoard callback\n",
    "* Model checkpoint with the ModelCheckpoint callback\n",
    "* Stopping a model from training (before it trains too long and overfits) with the EarlyStopping callback"
   ],
   "metadata": {
    "collapsed": false
   },
   "id": "9265b8712bde45b4"
  },
  {
   "cell_type": "code",
   "outputs": [],
   "source": [
    "# Create TensorBoard callback (functionized because we need to create a new one for each model)\n",
    "from utils.training_utilities.model_callbacks import create_tensorboard_callback"
   ],
   "metadata": {
    "collapsed": false,
    "ExecuteTime": {
     "end_time": "2024-03-23T20:05:27.047687309Z",
     "start_time": "2024-03-23T20:05:27.041692403Z"
    }
   },
   "id": "e9affd911c48fa28",
   "execution_count": 5
  },
  {
   "cell_type": "markdown",
   "source": [
    "🔑 **Note:** You can customize the directory where your TensorBoard logs (model training metrics) get saved to whatever you like. The `log_dir` parameter we've created above is only one option"
   ],
   "metadata": {
    "collapsed": false
   },
   "id": "75ef7b82d12ddac7"
  },
  {
   "cell_type": "markdown",
   "source": [
    "Video N°145: Exploring the TensorFlow Hub website for pretrained models"
   ],
   "metadata": {
    "collapsed": false
   },
   "id": "51123f88445d54a8"
  },
  {
   "cell_type": "markdown",
   "source": [
    "## Creating models using TensorFlow Hub\n",
    "\n",
    "In the past we've used TensorFlow to create our own models layer by layer from scratch.\n",
    "Now we're going to do a similar process, except the majority of our model's layers are going to come frome TensorFlow Hub.\n",
    "We can access pretrained models on: https://tfhub.dev/\n",
    "Browsing the TensorFlow Hub page and sorting for image classification, we found the following feature vector model link:\n",
    "https://tfhub.dev/tensorflow/efficientnet/b0/feature-vector/1"
   ],
   "metadata": {
    "collapsed": false
   },
   "id": "2f703525c5899262"
  },
  {
   "cell_type": "markdown",
   "source": [
    "Video N°146: Building and compiling a TensorFlow feature extraction model"
   ],
   "metadata": {
    "collapsed": false
   },
   "id": "6e51d3e6f0203266"
  },
  {
   "cell_type": "code",
   "outputs": [],
   "source": [
    "# Let's compare the following two models\n",
    "resnet_ulr = \"https://tfhub.dev/google/imagenet/resnet_v2_50/feature_vector/4\"\n",
    "\n",
    "efficientnet_ulr = \"https://rfhub.dev/tensorflow/efficientnet/b0/feature_vector/1\""
   ],
   "metadata": {
    "collapsed": false,
    "ExecuteTime": {
     "end_time": "2024-03-23T20:05:27.048547155Z",
     "start_time": "2024-03-23T20:05:27.045721049Z"
    }
   },
   "id": "388554b8fb8daccc",
   "execution_count": 6
  },
  {
   "cell_type": "code",
   "outputs": [],
   "source": [
    "# Import dependencies\n",
    "import tensorflow as tf\n",
    "import tensorflow_hub as hub\n",
    "from tensorflow.keras import layers"
   ],
   "metadata": {
    "collapsed": false,
    "ExecuteTime": {
     "end_time": "2024-03-23T20:05:27.151880507Z",
     "start_time": "2024-03-23T20:05:27.050063790Z"
    }
   },
   "id": "ef36fee8d894c027",
   "execution_count": 7
  },
  {
   "cell_type": "code",
   "outputs": [],
   "source": [
    "# Let's make a create_model() function to create a model from a URL\n",
    "from utils.training_utilities.transfer_learning import build_complete_model_from_url"
   ],
   "metadata": {
    "collapsed": false,
    "ExecuteTime": {
     "end_time": "2024-03-23T20:47:54.625933380Z",
     "start_time": "2024-03-23T20:47:54.580101274Z"
    }
   },
   "id": "966e3123cc157a39",
   "execution_count": 14
  },
  {
   "cell_type": "markdown",
   "source": [
    "### Creating and testing ResNet TensorFlow Hub Feature Extraction model"
   ],
   "metadata": {
    "collapsed": false
   },
   "id": "298b6d4d3c35bce6"
  },
  {
   "cell_type": "code",
   "outputs": [],
   "source": [
    "# Create Resnet model\n",
    "resnet_model = build_complete_model_from_url(model_url=resnet_ulr,\n",
    "                                             num_classes=train_data_10_percent.num_classes,\n",
    "                                             input_shape=(224, 224, 3))"
   ],
   "metadata": {
    "collapsed": false,
    "ExecuteTime": {
     "end_time": "2024-03-23T20:48:52.860044788Z",
     "start_time": "2024-03-23T20:48:51.700511780Z"
    }
   },
   "id": "62c4cfa1ab51161",
   "execution_count": 15
  },
  {
   "cell_type": "code",
   "outputs": [
    {
     "name": "stdout",
     "output_type": "stream",
     "text": [
      "Model: \"sequential_1\"\n",
      "_________________________________________________________________\n",
      " Layer (type)                Output Shape              Param #   \n",
      "=================================================================\n",
      " feature_extraction_layer (K  (None, 2048)             23564800  \n",
      " erasLayer)                                                      \n",
      "                                                                 \n",
      " output_layer (Dense)        (None, 10)                20490     \n",
      "                                                                 \n",
      "=================================================================\n",
      "Total params: 23,585,290\n",
      "Trainable params: 20,490\n",
      "Non-trainable params: 23,564,800\n",
      "_________________________________________________________________\n"
     ]
    }
   ],
   "source": [
    "resnet_model.summary()"
   ],
   "metadata": {
    "collapsed": false,
    "ExecuteTime": {
     "end_time": "2024-03-23T20:48:55.875731273Z",
     "start_time": "2024-03-23T20:48:55.821722544Z"
    }
   },
   "id": "269142f0ab8c81f1",
   "execution_count": 16
  },
  {
   "cell_type": "code",
   "outputs": [
    {
     "data": {
      "text/plain": "10"
     },
     "execution_count": 17,
     "metadata": {},
     "output_type": "execute_result"
    }
   ],
   "source": [
    "train_data_10_percent.num_classes"
   ],
   "metadata": {
    "collapsed": false,
    "ExecuteTime": {
     "end_time": "2024-03-23T20:48:56.813619547Z",
     "start_time": "2024-03-23T20:48:56.796791188Z"
    }
   },
   "id": "550637bbc0435bea",
   "execution_count": 17
  },
  {
   "cell_type": "code",
   "outputs": [],
   "source": [
    "# Compile our resnet model\n",
    "resnet_model.compile(loss=\"categorical_crossentropy\",\n",
    "                     optimizer=tf.keras.optimizers.Adam(),\n",
    "                     metrics=[\"accuracy\"])"
   ],
   "metadata": {
    "collapsed": false,
    "ExecuteTime": {
     "end_time": "2024-03-23T20:48:57.372220613Z",
     "start_time": "2024-03-23T20:48:57.350876844Z"
    }
   },
   "id": "9d5ea39a171bf7b6",
   "execution_count": 18
  },
  {
   "cell_type": "markdown",
   "source": [
    "Video N°147: Blowing our previous models out of the water with transfer learning"
   ],
   "metadata": {
    "collapsed": false
   },
   "id": "ffc20664617d6fa0"
  },
  {
   "cell_type": "code",
   "outputs": [],
   "source": [
    "# Let's fit our ResNet model to the data (10 percent of 10 classes)\n"
   ],
   "metadata": {
    "collapsed": false,
    "ExecuteTime": {
     "end_time": "2024-03-23T20:11:18.943122526Z",
     "start_time": "2024-03-23T20:11:18.895248043Z"
    }
   },
   "id": "e3f476abccb25045",
   "execution_count": 13
  },
  {
   "cell_type": "code",
   "outputs": [],
   "source": [],
   "metadata": {
    "collapsed": false,
    "ExecuteTime": {
     "end_time": "2024-03-23T20:05:28.748483264Z",
     "start_time": "2024-03-23T20:05:28.743862869Z"
    }
   },
   "id": "3eb661f6c0cdebbc",
   "execution_count": 12
  },
  {
   "cell_type": "code",
   "outputs": [],
   "source": [],
   "metadata": {
    "collapsed": false
   },
   "id": "4bebe7502c88b644"
  }
 ],
 "metadata": {
  "kernelspec": {
   "display_name": "Python 3",
   "language": "python",
   "name": "python3"
  },
  "language_info": {
   "codemirror_mode": {
    "name": "ipython",
    "version": 2
   },
   "file_extension": ".py",
   "mimetype": "text/x-python",
   "name": "python",
   "nbconvert_exporter": "python",
   "pygments_lexer": "ipython2",
   "version": "2.7.6"
  }
 },
 "nbformat": 4,
 "nbformat_minor": 5
}
